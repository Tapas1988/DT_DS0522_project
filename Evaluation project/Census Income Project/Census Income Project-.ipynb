{
 "cells": [
  {
   "cell_type": "code",
   "execution_count": 1,
   "id": "6f722523",
   "metadata": {},
   "outputs": [],
   "source": [
    "import numpy as np\n",
    "import pandas as pd"
   ]
  },
  {
   "cell_type": "code",
   "execution_count": 2,
   "id": "7115631e",
   "metadata": {},
   "outputs": [
    {
     "data": {
      "text/html": [
       "<div>\n",
       "<style scoped>\n",
       "    .dataframe tbody tr th:only-of-type {\n",
       "        vertical-align: middle;\n",
       "    }\n",
       "\n",
       "    .dataframe tbody tr th {\n",
       "        vertical-align: top;\n",
       "    }\n",
       "\n",
       "    .dataframe thead th {\n",
       "        text-align: right;\n",
       "    }\n",
       "</style>\n",
       "<table border=\"1\" class=\"dataframe\">\n",
       "  <thead>\n",
       "    <tr style=\"text-align: right;\">\n",
       "      <th></th>\n",
       "      <th>Age</th>\n",
       "      <th>Workclass</th>\n",
       "      <th>Fnlwgt</th>\n",
       "      <th>Education</th>\n",
       "      <th>Education_num</th>\n",
       "      <th>Marital_status</th>\n",
       "      <th>Occupation</th>\n",
       "      <th>Relationship</th>\n",
       "      <th>Race</th>\n",
       "      <th>Sex</th>\n",
       "      <th>Capital_gain</th>\n",
       "      <th>Capital_loss</th>\n",
       "      <th>Hours_per_week</th>\n",
       "      <th>Native_country</th>\n",
       "      <th>Income</th>\n",
       "    </tr>\n",
       "  </thead>\n",
       "  <tbody>\n",
       "    <tr>\n",
       "      <th>0</th>\n",
       "      <td>50</td>\n",
       "      <td>Self-emp-not-inc</td>\n",
       "      <td>83311</td>\n",
       "      <td>Bachelors</td>\n",
       "      <td>13</td>\n",
       "      <td>Married-civ-spouse</td>\n",
       "      <td>Exec-managerial</td>\n",
       "      <td>Husband</td>\n",
       "      <td>White</td>\n",
       "      <td>Male</td>\n",
       "      <td>0</td>\n",
       "      <td>0</td>\n",
       "      <td>13</td>\n",
       "      <td>United-States</td>\n",
       "      <td>&lt;=50K</td>\n",
       "    </tr>\n",
       "    <tr>\n",
       "      <th>1</th>\n",
       "      <td>38</td>\n",
       "      <td>Private</td>\n",
       "      <td>215646</td>\n",
       "      <td>HS-grad</td>\n",
       "      <td>9</td>\n",
       "      <td>Divorced</td>\n",
       "      <td>Handlers-cleaners</td>\n",
       "      <td>Not-in-family</td>\n",
       "      <td>White</td>\n",
       "      <td>Male</td>\n",
       "      <td>0</td>\n",
       "      <td>0</td>\n",
       "      <td>40</td>\n",
       "      <td>United-States</td>\n",
       "      <td>&lt;=50K</td>\n",
       "    </tr>\n",
       "    <tr>\n",
       "      <th>2</th>\n",
       "      <td>53</td>\n",
       "      <td>Private</td>\n",
       "      <td>234721</td>\n",
       "      <td>11th</td>\n",
       "      <td>7</td>\n",
       "      <td>Married-civ-spouse</td>\n",
       "      <td>Handlers-cleaners</td>\n",
       "      <td>Husband</td>\n",
       "      <td>Black</td>\n",
       "      <td>Male</td>\n",
       "      <td>0</td>\n",
       "      <td>0</td>\n",
       "      <td>40</td>\n",
       "      <td>United-States</td>\n",
       "      <td>&lt;=50K</td>\n",
       "    </tr>\n",
       "    <tr>\n",
       "      <th>3</th>\n",
       "      <td>28</td>\n",
       "      <td>Private</td>\n",
       "      <td>338409</td>\n",
       "      <td>Bachelors</td>\n",
       "      <td>13</td>\n",
       "      <td>Married-civ-spouse</td>\n",
       "      <td>Prof-specialty</td>\n",
       "      <td>Wife</td>\n",
       "      <td>Black</td>\n",
       "      <td>Female</td>\n",
       "      <td>0</td>\n",
       "      <td>0</td>\n",
       "      <td>40</td>\n",
       "      <td>Cuba</td>\n",
       "      <td>&lt;=50K</td>\n",
       "    </tr>\n",
       "    <tr>\n",
       "      <th>4</th>\n",
       "      <td>37</td>\n",
       "      <td>Private</td>\n",
       "      <td>284582</td>\n",
       "      <td>Masters</td>\n",
       "      <td>14</td>\n",
       "      <td>Married-civ-spouse</td>\n",
       "      <td>Exec-managerial</td>\n",
       "      <td>Wife</td>\n",
       "      <td>White</td>\n",
       "      <td>Female</td>\n",
       "      <td>0</td>\n",
       "      <td>0</td>\n",
       "      <td>40</td>\n",
       "      <td>United-States</td>\n",
       "      <td>&lt;=50K</td>\n",
       "    </tr>\n",
       "  </tbody>\n",
       "</table>\n",
       "</div>"
      ],
      "text/plain": [
       "   Age          Workclass  Fnlwgt   Education  Education_num  \\\n",
       "0   50   Self-emp-not-inc   83311   Bachelors             13   \n",
       "1   38            Private  215646     HS-grad              9   \n",
       "2   53            Private  234721        11th              7   \n",
       "3   28            Private  338409   Bachelors             13   \n",
       "4   37            Private  284582     Masters             14   \n",
       "\n",
       "        Marital_status          Occupation    Relationship    Race      Sex  \\\n",
       "0   Married-civ-spouse     Exec-managerial         Husband   White     Male   \n",
       "1             Divorced   Handlers-cleaners   Not-in-family   White     Male   \n",
       "2   Married-civ-spouse   Handlers-cleaners         Husband   Black     Male   \n",
       "3   Married-civ-spouse      Prof-specialty            Wife   Black   Female   \n",
       "4   Married-civ-spouse     Exec-managerial            Wife   White   Female   \n",
       "\n",
       "   Capital_gain  Capital_loss  Hours_per_week  Native_country  Income  \n",
       "0             0             0              13   United-States   <=50K  \n",
       "1             0             0              40   United-States   <=50K  \n",
       "2             0             0              40   United-States   <=50K  \n",
       "3             0             0              40            Cuba   <=50K  \n",
       "4             0             0              40   United-States   <=50K  "
      ]
     },
     "execution_count": 2,
     "metadata": {},
     "output_type": "execute_result"
    }
   ],
   "source": [
    "dt=pd.read_csv('https://raw.githubusercontent.com/dsrscientist/dataset1/master/census_income.csv')\n",
    "dt.head()"
   ]
  },
  {
   "cell_type": "code",
   "execution_count": 3,
   "id": "f56a389e",
   "metadata": {},
   "outputs": [
    {
     "data": {
      "text/plain": [
       "(32560, 15)"
      ]
     },
     "execution_count": 3,
     "metadata": {},
     "output_type": "execute_result"
    }
   ],
   "source": [
    "# find Shape of data\n",
    "dt.shape          # Column=15 & Rows=32560"
   ]
  },
  {
   "cell_type": "code",
   "execution_count": 4,
   "id": "e05b1a4b",
   "metadata": {},
   "outputs": [
    {
     "data": {
      "text/plain": [
       "Age               0\n",
       "Workclass         0\n",
       "Fnlwgt            0\n",
       "Education         0\n",
       "Education_num     0\n",
       "Marital_status    0\n",
       "Occupation        0\n",
       "Relationship      0\n",
       "Race              0\n",
       "Sex               0\n",
       "Capital_gain      0\n",
       "Capital_loss      0\n",
       "Hours_per_week    0\n",
       "Native_country    0\n",
       "Income            0\n",
       "dtype: int64"
      ]
     },
     "execution_count": 4,
     "metadata": {},
     "output_type": "execute_result"
    }
   ],
   "source": [
    "# Cheking Missing Value\n",
    "dt.isna().sum()   "
   ]
  },
  {
   "cell_type": "code",
   "execution_count": 5,
   "id": "2c31e273",
   "metadata": {},
   "outputs": [],
   "source": [
    "# Observetion\n",
    "# No Missing Value is present"
   ]
  },
  {
   "cell_type": "code",
   "execution_count": 6,
   "id": "2de2d65c",
   "metadata": {},
   "outputs": [
    {
     "name": "stdout",
     "output_type": "stream",
     "text": [
      "<class 'pandas.core.frame.DataFrame'>\n",
      "RangeIndex: 32560 entries, 0 to 32559\n",
      "Data columns (total 15 columns):\n",
      " #   Column          Non-Null Count  Dtype \n",
      "---  ------          --------------  ----- \n",
      " 0   Age             32560 non-null  int64 \n",
      " 1   Workclass       32560 non-null  object\n",
      " 2   Fnlwgt          32560 non-null  int64 \n",
      " 3   Education       32560 non-null  object\n",
      " 4   Education_num   32560 non-null  int64 \n",
      " 5   Marital_status  32560 non-null  object\n",
      " 6   Occupation      32560 non-null  object\n",
      " 7   Relationship    32560 non-null  object\n",
      " 8   Race            32560 non-null  object\n",
      " 9   Sex             32560 non-null  object\n",
      " 10  Capital_gain    32560 non-null  int64 \n",
      " 11  Capital_loss    32560 non-null  int64 \n",
      " 12  Hours_per_week  32560 non-null  int64 \n",
      " 13  Native_country  32560 non-null  object\n",
      " 14  Income          32560 non-null  object\n",
      "dtypes: int64(6), object(9)\n",
      "memory usage: 3.7+ MB\n"
     ]
    }
   ],
   "source": [
    "# Cheking Data information (Int or Odject data)\n",
    "dt.info()"
   ]
  },
  {
   "cell_type": "code",
   "execution_count": 7,
   "id": "a678bf5a",
   "metadata": {},
   "outputs": [],
   "source": [
    "# Observation\n",
    "# 1. Label or target value is Income & it is Object value. Need to convert in Number\n",
    "#  2. Rest all columns are feature. those features are object, will convert into number"
   ]
  },
  {
   "cell_type": "code",
   "execution_count": 8,
   "id": "94f5fa07",
   "metadata": {},
   "outputs": [],
   "source": [
    "# Drop the duplicate value\n",
    "dt.drop_duplicates(inplace=True)"
   ]
  },
  {
   "cell_type": "code",
   "execution_count": 9,
   "id": "76acdc12",
   "metadata": {},
   "outputs": [
    {
     "data": {
      "text/plain": [
       " Private             22673\n",
       " Self-emp-not-inc     2540\n",
       " Local-gov            2093\n",
       " ?                    1836\n",
       " State-gov            1297\n",
       " Self-emp-inc         1116\n",
       " Federal-gov           960\n",
       " Without-pay            14\n",
       " Never-worked            7\n",
       "Name: Workclass, dtype: int64"
      ]
     },
     "execution_count": 9,
     "metadata": {},
     "output_type": "execute_result"
    }
   ],
   "source": [
    "# find Value count for type of data in each column\n",
    "dt['Workclass'].value_counts()    # here present ? mark in rows"
   ]
  },
  {
   "cell_type": "code",
   "execution_count": 10,
   "id": "e1213c7a",
   "metadata": {},
   "outputs": [],
   "source": [
    "from sklearn.preprocessing import LabelEncoder\n",
    "lab_encdr=LabelEncoder()"
   ]
  },
  {
   "cell_type": "code",
   "execution_count": 11,
   "id": "9418628b",
   "metadata": {},
   "outputs": [],
   "source": [
    "dt1=lab_encdr.fit_transform(dt['Workclass'])  # For Lable encoding in Workclass \n",
    "dt['Workclass']=dt1\n"
   ]
  },
  {
   "cell_type": "code",
   "execution_count": 12,
   "id": "eb1fe141",
   "metadata": {},
   "outputs": [
    {
     "data": {
      "text/plain": [
       " HS-grad         10494\n",
       " Some-college     7282\n",
       " Bachelors        5352\n",
       " Masters          1722\n",
       " Assoc-voc        1382\n",
       " 11th             1175\n",
       " Assoc-acdm       1067\n",
       " 10th              933\n",
       " 7th-8th           645\n",
       " Prof-school       576\n",
       " 9th               514\n",
       " 12th              433\n",
       " Doctorate         413\n",
       " 5th-6th           332\n",
       " 1st-4th           166\n",
       " Preschool          50\n",
       "Name: Education, dtype: int64"
      ]
     },
     "execution_count": 12,
     "metadata": {},
     "output_type": "execute_result"
    }
   ],
   "source": [
    "dt['Education'].value_counts()  # Get Dummies Encoder\n"
   ]
  },
  {
   "cell_type": "code",
   "execution_count": 13,
   "id": "3d83c924",
   "metadata": {},
   "outputs": [],
   "source": [
    "dt1=lab_encdr.fit_transform(dt['Education']) #lable encoder applyed for convert into number \n",
    "dt['Education']=dt1"
   ]
  },
  {
   "cell_type": "code",
   "execution_count": 14,
   "id": "7bd32b6e",
   "metadata": {},
   "outputs": [
    {
     "data": {
      "text/plain": [
       " Married-civ-spouse       14970\n",
       " Never-married            10666\n",
       " Divorced                  4441\n",
       " Separated                 1025\n",
       " Widowed                    993\n",
       " Married-spouse-absent      418\n",
       " Married-AF-spouse           23\n",
       "Name: Marital_status, dtype: int64"
      ]
     },
     "execution_count": 14,
     "metadata": {},
     "output_type": "execute_result"
    }
   ],
   "source": [
    "dt['Marital_status'].value_counts()  # Catagorical data & Get dummy encoder"
   ]
  },
  {
   "cell_type": "code",
   "execution_count": 15,
   "id": "cb53994b",
   "metadata": {},
   "outputs": [],
   "source": [
    "dt1=lab_encdr.fit_transform(dt['Marital_status']) #lable encoder applyed for convert into number \n",
    "dt['Marital_status']=dt1"
   ]
  },
  {
   "cell_type": "code",
   "execution_count": 16,
   "id": "c0817a37",
   "metadata": {},
   "outputs": [
    {
     "data": {
      "text/plain": [
       " Prof-specialty       4136\n",
       " Craft-repair         4094\n",
       " Exec-managerial      4065\n",
       " Adm-clerical         3767\n",
       " Sales                3650\n",
       " Other-service        3291\n",
       " Machine-op-inspct    2000\n",
       " ?                    1843\n",
       " Transport-moving     1597\n",
       " Handlers-cleaners    1369\n",
       " Farming-fishing       992\n",
       " Tech-support          927\n",
       " Protective-serv       649\n",
       " Priv-house-serv       147\n",
       " Armed-Forces            9\n",
       "Name: Occupation, dtype: int64"
      ]
     },
     "execution_count": 16,
     "metadata": {},
     "output_type": "execute_result"
    }
   ],
   "source": [
    "dt['Occupation'].value_counts()  # Catagorical data & Get dummy encoder\n",
    "                                 # ? mark is present                               "
   ]
  },
  {
   "cell_type": "code",
   "execution_count": 17,
   "id": "3cf6fefa",
   "metadata": {},
   "outputs": [],
   "source": [
    "dt1=lab_encdr.fit_transform(dt['Occupation']) #lable encoder applyed for convert into number \n",
    "dt['Occupation']=dt1"
   ]
  },
  {
   "cell_type": "code",
   "execution_count": 18,
   "id": "263fe006",
   "metadata": {},
   "outputs": [
    {
     "data": {
      "text/plain": [
       " Husband           13187\n",
       " Not-in-family      8291\n",
       " Own-child          5064\n",
       " Unmarried          3445\n",
       " Wife               1568\n",
       " Other-relative      981\n",
       "Name: Relationship, dtype: int64"
      ]
     },
     "execution_count": 18,
     "metadata": {},
     "output_type": "execute_result"
    }
   ],
   "source": [
    "dt['Relationship'].value_counts()  # Catagorical data & Get dummy encoder\n",
    "                                "
   ]
  },
  {
   "cell_type": "code",
   "execution_count": 19,
   "id": "e91ac1df",
   "metadata": {},
   "outputs": [],
   "source": [
    "dt1=lab_encdr.fit_transform(dt['Relationship']) #lable encoder applyed for convert into number \n",
    "dt['Relationship']=dt1"
   ]
  },
  {
   "cell_type": "code",
   "execution_count": 20,
   "id": "9c9cf6cd",
   "metadata": {},
   "outputs": [
    {
     "data": {
      "text/plain": [
       " White                 27794\n",
       " Black                  3122\n",
       " Asian-Pac-Islander     1038\n",
       " Amer-Indian-Eskimo      311\n",
       " Other                   271\n",
       "Name: Race, dtype: int64"
      ]
     },
     "execution_count": 20,
     "metadata": {},
     "output_type": "execute_result"
    }
   ],
   "source": [
    "dt['Race'].value_counts()  # Catagorical data & Get dummy encoder"
   ]
  },
  {
   "cell_type": "code",
   "execution_count": 21,
   "id": "3bb9dac7",
   "metadata": {},
   "outputs": [],
   "source": [
    "dt1=lab_encdr.fit_transform(dt['Race']) #lable encoder applyed for convert into number \n",
    "dt['Race']=dt1"
   ]
  },
  {
   "cell_type": "code",
   "execution_count": 22,
   "id": "d720d96c",
   "metadata": {},
   "outputs": [
    {
     "data": {
      "text/plain": [
       " Male      21774\n",
       " Female    10762\n",
       "Name: Sex, dtype: int64"
      ]
     },
     "execution_count": 22,
     "metadata": {},
     "output_type": "execute_result"
    }
   ],
   "source": [
    "dt['Sex'].value_counts()  # Catagorical data & Lable Encoder"
   ]
  },
  {
   "cell_type": "code",
   "execution_count": 23,
   "id": "4380c5f1",
   "metadata": {},
   "outputs": [],
   "source": [
    "dt1=lab_encdr.fit_transform(dt['Sex']) #lable encoder applyed for convert into number \n",
    "dt['Sex']=dt1"
   ]
  },
  {
   "cell_type": "code",
   "execution_count": 24,
   "id": "153a00d8",
   "metadata": {},
   "outputs": [
    {
     "data": {
      "text/plain": [
       " United-States                 29152\n",
       " Mexico                          639\n",
       " ?                               582\n",
       " Philippines                     198\n",
       " Germany                         137\n",
       " Canada                          121\n",
       " Puerto-Rico                     114\n",
       " El-Salvador                     106\n",
       " India                           100\n",
       " Cuba                             95\n",
       " England                          90\n",
       " Jamaica                          81\n",
       " South                            80\n",
       " China                            75\n",
       " Italy                            73\n",
       " Dominican-Republic               70\n",
       " Vietnam                          67\n",
       " Japan                            62\n",
       " Guatemala                        62\n",
       " Poland                           60\n",
       " Columbia                         59\n",
       " Taiwan                           51\n",
       " Haiti                            44\n",
       " Iran                             43\n",
       " Portugal                         37\n",
       " Nicaragua                        34\n",
       " Peru                             31\n",
       " France                           29\n",
       " Greece                           29\n",
       " Ecuador                          28\n",
       " Ireland                          24\n",
       " Hong                             20\n",
       " Cambodia                         19\n",
       " Trinadad&Tobago                  19\n",
       " Laos                             18\n",
       " Thailand                         18\n",
       " Yugoslavia                       16\n",
       " Outlying-US(Guam-USVI-etc)       14\n",
       " Honduras                         13\n",
       " Hungary                          13\n",
       " Scotland                         12\n",
       " Holand-Netherlands                1\n",
       "Name: Native_country, dtype: int64"
      ]
     },
     "execution_count": 24,
     "metadata": {},
     "output_type": "execute_result"
    }
   ],
   "source": [
    "dt['Native_country'].value_counts()  # Catagorical data & get dummy\n",
    "                                     # '?' mark is present"
   ]
  },
  {
   "cell_type": "code",
   "execution_count": 25,
   "id": "f769b174",
   "metadata": {},
   "outputs": [],
   "source": [
    "dt1=lab_encdr.fit_transform(dt['Native_country']) #lable encoder applyed for convert into number \n",
    "dt['Native_country']=dt1"
   ]
  },
  {
   "cell_type": "code",
   "execution_count": 26,
   "id": "49689f3f",
   "metadata": {},
   "outputs": [
    {
     "data": {
      "text/plain": [
       " <=50K    24697\n",
       " >50K      7839\n",
       "Name: Income, dtype: int64"
      ]
     },
     "execution_count": 26,
     "metadata": {},
     "output_type": "execute_result"
    }
   ],
   "source": [
    "dt['Income'].value_counts()  # Catagorical data & lable encoder. Binary data\n",
    "                                     "
   ]
  },
  {
   "cell_type": "code",
   "execution_count": 27,
   "id": "259bdd88",
   "metadata": {},
   "outputs": [],
   "source": [
    "dt1=lab_encdr.fit_transform(dt['Income']) #lable encoder applyed for convert into number \n",
    "dt['Income']=dt1"
   ]
  },
  {
   "cell_type": "code",
   "execution_count": 28,
   "id": "5c760081",
   "metadata": {},
   "outputs": [
    {
     "data": {
      "text/plain": [
       "(32536, 15)"
      ]
     },
     "execution_count": 28,
     "metadata": {},
     "output_type": "execute_result"
    }
   ],
   "source": [
    "# heking data shape\n",
    "dt.shape        # After removed the duplicate value Column=15 & Rows=32536"
   ]
  },
  {
   "cell_type": "code",
   "execution_count": 29,
   "id": "6fcd2c88",
   "metadata": {},
   "outputs": [],
   "source": [
    "# dt['Workclass'].str.replace('?',\" \")"
   ]
  },
  {
   "cell_type": "code",
   "execution_count": 30,
   "id": "e7d63fe8",
   "metadata": {},
   "outputs": [],
   "source": [
    "# find Value count for type of data in each column\n",
    "# dt['Workclass'].value_counts()    # here present ? mark"
   ]
  },
  {
   "cell_type": "code",
   "execution_count": 31,
   "id": "b07ad43b",
   "metadata": {},
   "outputs": [],
   "source": [
    "# dt['Workclass'].drop(dt['Workclass'].isin(['?']).all().sum())"
   ]
  },
  {
   "cell_type": "code",
   "execution_count": 32,
   "id": "e192e4d0",
   "metadata": {},
   "outputs": [],
   "source": [
    "# dt['Workclass'].shape"
   ]
  },
  {
   "cell_type": "code",
   "execution_count": 33,
   "id": "34440db7",
   "metadata": {},
   "outputs": [],
   "source": [
    "# (dt['Workclass']=='?')"
   ]
  },
  {
   "cell_type": "code",
   "execution_count": 34,
   "id": "0ea14ac3",
   "metadata": {},
   "outputs": [],
   "source": [
    "# find Value count for type of data in each column\n",
    "# dt['Workclass'].drop(dt['Workclass'].isin([\"?\"]))   # here present ? mark"
   ]
  },
  {
   "cell_type": "code",
   "execution_count": 35,
   "id": "422bc1ed",
   "metadata": {},
   "outputs": [],
   "source": [
    "# dt['Workclass'].shape"
   ]
  },
  {
   "cell_type": "code",
   "execution_count": 36,
   "id": "02151676",
   "metadata": {},
   "outputs": [
    {
     "data": {
      "text/html": [
       "<div>\n",
       "<style scoped>\n",
       "    .dataframe tbody tr th:only-of-type {\n",
       "        vertical-align: middle;\n",
       "    }\n",
       "\n",
       "    .dataframe tbody tr th {\n",
       "        vertical-align: top;\n",
       "    }\n",
       "\n",
       "    .dataframe thead th {\n",
       "        text-align: right;\n",
       "    }\n",
       "</style>\n",
       "<table border=\"1\" class=\"dataframe\">\n",
       "  <thead>\n",
       "    <tr style=\"text-align: right;\">\n",
       "      <th></th>\n",
       "      <th>Age</th>\n",
       "      <th>Workclass</th>\n",
       "      <th>Fnlwgt</th>\n",
       "      <th>Education</th>\n",
       "      <th>Education_num</th>\n",
       "      <th>Marital_status</th>\n",
       "      <th>Occupation</th>\n",
       "      <th>Relationship</th>\n",
       "      <th>Race</th>\n",
       "      <th>Sex</th>\n",
       "      <th>Capital_gain</th>\n",
       "      <th>Capital_loss</th>\n",
       "      <th>Hours_per_week</th>\n",
       "      <th>Native_country</th>\n",
       "      <th>Income</th>\n",
       "    </tr>\n",
       "  </thead>\n",
       "  <tbody>\n",
       "    <tr>\n",
       "      <th>0</th>\n",
       "      <td>50</td>\n",
       "      <td>6</td>\n",
       "      <td>83311</td>\n",
       "      <td>9</td>\n",
       "      <td>13</td>\n",
       "      <td>2</td>\n",
       "      <td>4</td>\n",
       "      <td>0</td>\n",
       "      <td>4</td>\n",
       "      <td>1</td>\n",
       "      <td>0</td>\n",
       "      <td>0</td>\n",
       "      <td>13</td>\n",
       "      <td>39</td>\n",
       "      <td>0</td>\n",
       "    </tr>\n",
       "    <tr>\n",
       "      <th>1</th>\n",
       "      <td>38</td>\n",
       "      <td>4</td>\n",
       "      <td>215646</td>\n",
       "      <td>11</td>\n",
       "      <td>9</td>\n",
       "      <td>0</td>\n",
       "      <td>6</td>\n",
       "      <td>1</td>\n",
       "      <td>4</td>\n",
       "      <td>1</td>\n",
       "      <td>0</td>\n",
       "      <td>0</td>\n",
       "      <td>40</td>\n",
       "      <td>39</td>\n",
       "      <td>0</td>\n",
       "    </tr>\n",
       "    <tr>\n",
       "      <th>2</th>\n",
       "      <td>53</td>\n",
       "      <td>4</td>\n",
       "      <td>234721</td>\n",
       "      <td>1</td>\n",
       "      <td>7</td>\n",
       "      <td>2</td>\n",
       "      <td>6</td>\n",
       "      <td>0</td>\n",
       "      <td>2</td>\n",
       "      <td>1</td>\n",
       "      <td>0</td>\n",
       "      <td>0</td>\n",
       "      <td>40</td>\n",
       "      <td>39</td>\n",
       "      <td>0</td>\n",
       "    </tr>\n",
       "    <tr>\n",
       "      <th>3</th>\n",
       "      <td>28</td>\n",
       "      <td>4</td>\n",
       "      <td>338409</td>\n",
       "      <td>9</td>\n",
       "      <td>13</td>\n",
       "      <td>2</td>\n",
       "      <td>10</td>\n",
       "      <td>5</td>\n",
       "      <td>2</td>\n",
       "      <td>0</td>\n",
       "      <td>0</td>\n",
       "      <td>0</td>\n",
       "      <td>40</td>\n",
       "      <td>5</td>\n",
       "      <td>0</td>\n",
       "    </tr>\n",
       "    <tr>\n",
       "      <th>4</th>\n",
       "      <td>37</td>\n",
       "      <td>4</td>\n",
       "      <td>284582</td>\n",
       "      <td>12</td>\n",
       "      <td>14</td>\n",
       "      <td>2</td>\n",
       "      <td>4</td>\n",
       "      <td>5</td>\n",
       "      <td>4</td>\n",
       "      <td>0</td>\n",
       "      <td>0</td>\n",
       "      <td>0</td>\n",
       "      <td>40</td>\n",
       "      <td>39</td>\n",
       "      <td>0</td>\n",
       "    </tr>\n",
       "  </tbody>\n",
       "</table>\n",
       "</div>"
      ],
      "text/plain": [
       "   Age  Workclass  Fnlwgt  Education  Education_num  Marital_status  \\\n",
       "0   50          6   83311          9             13               2   \n",
       "1   38          4  215646         11              9               0   \n",
       "2   53          4  234721          1              7               2   \n",
       "3   28          4  338409          9             13               2   \n",
       "4   37          4  284582         12             14               2   \n",
       "\n",
       "   Occupation  Relationship  Race  Sex  Capital_gain  Capital_loss  \\\n",
       "0           4             0     4    1             0             0   \n",
       "1           6             1     4    1             0             0   \n",
       "2           6             0     2    1             0             0   \n",
       "3          10             5     2    0             0             0   \n",
       "4           4             5     4    0             0             0   \n",
       "\n",
       "   Hours_per_week  Native_country  Income  \n",
       "0              13              39       0  \n",
       "1              40              39       0  \n",
       "2              40              39       0  \n",
       "3              40               5       0  \n",
       "4              40              39       0  "
      ]
     },
     "execution_count": 36,
     "metadata": {},
     "output_type": "execute_result"
    }
   ],
   "source": [
    "dt.head()"
   ]
  },
  {
   "cell_type": "code",
   "execution_count": 37,
   "id": "6fa3a2af",
   "metadata": {},
   "outputs": [],
   "source": [
    "# we applyed lable encoder in all object columns."
   ]
  },
  {
   "cell_type": "code",
   "execution_count": 38,
   "id": "ab14840f",
   "metadata": {},
   "outputs": [
    {
     "name": "stdout",
     "output_type": "stream",
     "text": [
      "<class 'pandas.core.frame.DataFrame'>\n",
      "Int64Index: 32536 entries, 0 to 32559\n",
      "Data columns (total 15 columns):\n",
      " #   Column          Non-Null Count  Dtype\n",
      "---  ------          --------------  -----\n",
      " 0   Age             32536 non-null  int64\n",
      " 1   Workclass       32536 non-null  int32\n",
      " 2   Fnlwgt          32536 non-null  int64\n",
      " 3   Education       32536 non-null  int32\n",
      " 4   Education_num   32536 non-null  int64\n",
      " 5   Marital_status  32536 non-null  int32\n",
      " 6   Occupation      32536 non-null  int32\n",
      " 7   Relationship    32536 non-null  int32\n",
      " 8   Race            32536 non-null  int32\n",
      " 9   Sex             32536 non-null  int32\n",
      " 10  Capital_gain    32536 non-null  int64\n",
      " 11  Capital_loss    32536 non-null  int64\n",
      " 12  Hours_per_week  32536 non-null  int64\n",
      " 13  Native_country  32536 non-null  int32\n",
      " 14  Income          32536 non-null  int32\n",
      "dtypes: int32(9), int64(6)\n",
      "memory usage: 2.9 MB\n"
     ]
    }
   ],
   "source": [
    "# cheking Data information\n",
    "dt.info()"
   ]
  },
  {
   "cell_type": "code",
   "execution_count": 39,
   "id": "3fd19996",
   "metadata": {},
   "outputs": [],
   "source": [
    "# Now all columns are converted into number or int."
   ]
  },
  {
   "cell_type": "code",
   "execution_count": 40,
   "id": "74204480",
   "metadata": {},
   "outputs": [
    {
     "data": {
      "text/html": [
       "<div>\n",
       "<style scoped>\n",
       "    .dataframe tbody tr th:only-of-type {\n",
       "        vertical-align: middle;\n",
       "    }\n",
       "\n",
       "    .dataframe tbody tr th {\n",
       "        vertical-align: top;\n",
       "    }\n",
       "\n",
       "    .dataframe thead th {\n",
       "        text-align: right;\n",
       "    }\n",
       "</style>\n",
       "<table border=\"1\" class=\"dataframe\">\n",
       "  <thead>\n",
       "    <tr style=\"text-align: right;\">\n",
       "      <th></th>\n",
       "      <th>Age</th>\n",
       "      <th>Workclass</th>\n",
       "      <th>Fnlwgt</th>\n",
       "      <th>Education</th>\n",
       "      <th>Education_num</th>\n",
       "      <th>Marital_status</th>\n",
       "      <th>Occupation</th>\n",
       "      <th>Relationship</th>\n",
       "      <th>Race</th>\n",
       "      <th>Sex</th>\n",
       "      <th>Capital_gain</th>\n",
       "      <th>Capital_loss</th>\n",
       "      <th>Hours_per_week</th>\n",
       "      <th>Native_country</th>\n",
       "      <th>Income</th>\n",
       "    </tr>\n",
       "  </thead>\n",
       "  <tbody>\n",
       "    <tr>\n",
       "      <th>count</th>\n",
       "      <td>32536.000000</td>\n",
       "      <td>32536.000000</td>\n",
       "      <td>3.253600e+04</td>\n",
       "      <td>32536.000000</td>\n",
       "      <td>32536.000000</td>\n",
       "      <td>32536.000000</td>\n",
       "      <td>32536.000000</td>\n",
       "      <td>32536.000000</td>\n",
       "      <td>32536.000000</td>\n",
       "      <td>32536.000000</td>\n",
       "      <td>32536.000000</td>\n",
       "      <td>32536.000000</td>\n",
       "      <td>32536.000000</td>\n",
       "      <td>32536.000000</td>\n",
       "      <td>32536.000000</td>\n",
       "    </tr>\n",
       "    <tr>\n",
       "      <th>mean</th>\n",
       "      <td>38.585536</td>\n",
       "      <td>3.868638</td>\n",
       "      <td>1.897843e+05</td>\n",
       "      <td>10.297547</td>\n",
       "      <td>10.081725</td>\n",
       "      <td>2.611384</td>\n",
       "      <td>6.573027</td>\n",
       "      <td>1.446552</td>\n",
       "      <td>3.665816</td>\n",
       "      <td>0.669228</td>\n",
       "      <td>1078.410069</td>\n",
       "      <td>87.370912</td>\n",
       "      <td>40.440343</td>\n",
       "      <td>36.721508</td>\n",
       "      <td>0.240933</td>\n",
       "    </tr>\n",
       "    <tr>\n",
       "      <th>std</th>\n",
       "      <td>13.638193</td>\n",
       "      <td>1.456363</td>\n",
       "      <td>1.055563e+05</td>\n",
       "      <td>3.870195</td>\n",
       "      <td>2.571622</td>\n",
       "      <td>1.506304</td>\n",
       "      <td>4.229473</td>\n",
       "      <td>1.607087</td>\n",
       "      <td>0.848858</td>\n",
       "      <td>0.470498</td>\n",
       "      <td>7388.068465</td>\n",
       "      <td>403.107737</td>\n",
       "      <td>12.347079</td>\n",
       "      <td>7.820842</td>\n",
       "      <td>0.427656</td>\n",
       "    </tr>\n",
       "    <tr>\n",
       "      <th>min</th>\n",
       "      <td>17.000000</td>\n",
       "      <td>0.000000</td>\n",
       "      <td>1.228500e+04</td>\n",
       "      <td>0.000000</td>\n",
       "      <td>1.000000</td>\n",
       "      <td>0.000000</td>\n",
       "      <td>0.000000</td>\n",
       "      <td>0.000000</td>\n",
       "      <td>0.000000</td>\n",
       "      <td>0.000000</td>\n",
       "      <td>0.000000</td>\n",
       "      <td>0.000000</td>\n",
       "      <td>1.000000</td>\n",
       "      <td>0.000000</td>\n",
       "      <td>0.000000</td>\n",
       "    </tr>\n",
       "    <tr>\n",
       "      <th>25%</th>\n",
       "      <td>28.000000</td>\n",
       "      <td>4.000000</td>\n",
       "      <td>1.178315e+05</td>\n",
       "      <td>9.000000</td>\n",
       "      <td>9.000000</td>\n",
       "      <td>2.000000</td>\n",
       "      <td>3.000000</td>\n",
       "      <td>0.000000</td>\n",
       "      <td>4.000000</td>\n",
       "      <td>0.000000</td>\n",
       "      <td>0.000000</td>\n",
       "      <td>0.000000</td>\n",
       "      <td>40.000000</td>\n",
       "      <td>39.000000</td>\n",
       "      <td>0.000000</td>\n",
       "    </tr>\n",
       "    <tr>\n",
       "      <th>50%</th>\n",
       "      <td>37.000000</td>\n",
       "      <td>4.000000</td>\n",
       "      <td>1.783560e+05</td>\n",
       "      <td>11.000000</td>\n",
       "      <td>10.000000</td>\n",
       "      <td>2.000000</td>\n",
       "      <td>7.000000</td>\n",
       "      <td>1.000000</td>\n",
       "      <td>4.000000</td>\n",
       "      <td>1.000000</td>\n",
       "      <td>0.000000</td>\n",
       "      <td>0.000000</td>\n",
       "      <td>40.000000</td>\n",
       "      <td>39.000000</td>\n",
       "      <td>0.000000</td>\n",
       "    </tr>\n",
       "    <tr>\n",
       "      <th>75%</th>\n",
       "      <td>48.000000</td>\n",
       "      <td>4.000000</td>\n",
       "      <td>2.369932e+05</td>\n",
       "      <td>12.000000</td>\n",
       "      <td>12.000000</td>\n",
       "      <td>4.000000</td>\n",
       "      <td>10.000000</td>\n",
       "      <td>3.000000</td>\n",
       "      <td>4.000000</td>\n",
       "      <td>1.000000</td>\n",
       "      <td>0.000000</td>\n",
       "      <td>0.000000</td>\n",
       "      <td>45.000000</td>\n",
       "      <td>39.000000</td>\n",
       "      <td>0.000000</td>\n",
       "    </tr>\n",
       "    <tr>\n",
       "      <th>max</th>\n",
       "      <td>90.000000</td>\n",
       "      <td>8.000000</td>\n",
       "      <td>1.484705e+06</td>\n",
       "      <td>15.000000</td>\n",
       "      <td>16.000000</td>\n",
       "      <td>6.000000</td>\n",
       "      <td>14.000000</td>\n",
       "      <td>5.000000</td>\n",
       "      <td>4.000000</td>\n",
       "      <td>1.000000</td>\n",
       "      <td>99999.000000</td>\n",
       "      <td>4356.000000</td>\n",
       "      <td>99.000000</td>\n",
       "      <td>41.000000</td>\n",
       "      <td>1.000000</td>\n",
       "    </tr>\n",
       "  </tbody>\n",
       "</table>\n",
       "</div>"
      ],
      "text/plain": [
       "                Age     Workclass        Fnlwgt     Education  Education_num  \\\n",
       "count  32536.000000  32536.000000  3.253600e+04  32536.000000   32536.000000   \n",
       "mean      38.585536      3.868638  1.897843e+05     10.297547      10.081725   \n",
       "std       13.638193      1.456363  1.055563e+05      3.870195       2.571622   \n",
       "min       17.000000      0.000000  1.228500e+04      0.000000       1.000000   \n",
       "25%       28.000000      4.000000  1.178315e+05      9.000000       9.000000   \n",
       "50%       37.000000      4.000000  1.783560e+05     11.000000      10.000000   \n",
       "75%       48.000000      4.000000  2.369932e+05     12.000000      12.000000   \n",
       "max       90.000000      8.000000  1.484705e+06     15.000000      16.000000   \n",
       "\n",
       "       Marital_status    Occupation  Relationship          Race           Sex  \\\n",
       "count    32536.000000  32536.000000  32536.000000  32536.000000  32536.000000   \n",
       "mean         2.611384      6.573027      1.446552      3.665816      0.669228   \n",
       "std          1.506304      4.229473      1.607087      0.848858      0.470498   \n",
       "min          0.000000      0.000000      0.000000      0.000000      0.000000   \n",
       "25%          2.000000      3.000000      0.000000      4.000000      0.000000   \n",
       "50%          2.000000      7.000000      1.000000      4.000000      1.000000   \n",
       "75%          4.000000     10.000000      3.000000      4.000000      1.000000   \n",
       "max          6.000000     14.000000      5.000000      4.000000      1.000000   \n",
       "\n",
       "       Capital_gain  Capital_loss  Hours_per_week  Native_country  \\\n",
       "count  32536.000000  32536.000000    32536.000000    32536.000000   \n",
       "mean    1078.410069     87.370912       40.440343       36.721508   \n",
       "std     7388.068465    403.107737       12.347079        7.820842   \n",
       "min        0.000000      0.000000        1.000000        0.000000   \n",
       "25%        0.000000      0.000000       40.000000       39.000000   \n",
       "50%        0.000000      0.000000       40.000000       39.000000   \n",
       "75%        0.000000      0.000000       45.000000       39.000000   \n",
       "max    99999.000000   4356.000000       99.000000       41.000000   \n",
       "\n",
       "             Income  \n",
       "count  32536.000000  \n",
       "mean       0.240933  \n",
       "std        0.427656  \n",
       "min        0.000000  \n",
       "25%        0.000000  \n",
       "50%        0.000000  \n",
       "75%        0.000000  \n",
       "max        1.000000  "
      ]
     },
     "execution_count": 40,
     "metadata": {},
     "output_type": "execute_result"
    }
   ],
   "source": [
    "dt.describe()"
   ]
  },
  {
   "cell_type": "code",
   "execution_count": 41,
   "id": "f219af80",
   "metadata": {},
   "outputs": [],
   "source": [
    "# Observation\n",
    "# 1.Capita_gain & Capital_loss columns data distributed not okay.\n",
    "# 2. Fniwgt- data not distributed equali"
   ]
  },
  {
   "cell_type": "code",
   "execution_count": 42,
   "id": "b6025b42",
   "metadata": {},
   "outputs": [],
   "source": [
    "import matplotlib.pyplot as plt\n",
    "import seaborn as sns\n",
    "import warnings\n",
    "warnings.filterwarnings('ignore')"
   ]
  },
  {
   "cell_type": "code",
   "execution_count": 43,
   "id": "c2a49b96",
   "metadata": {},
   "outputs": [
    {
     "data": {
      "image/png": "[encoded data removed]",
      "text/plain": [
       "<Figure size 864x864 with 15 Axes>"
      ]
     },
     "metadata": {},
     "output_type": "display_data"
    }
   ],
   "source": [
    "# cheking data distributed\n",
    "plt.figure(figsize=(12,12),facecolor='y')\n",
    "plotnumber=1\n",
    "for column in dt:\n",
    "    if plotnumber<=16:\n",
    "        ax=plt.subplot(4,4,plotnumber)\n",
    "        sns.distplot(dt[column])\n",
    "        plt.xlabel(column, fontsize=10)\n",
    "    plotnumber+=1\n",
    "plt.show()"
   ]
  },
  {
   "cell_type": "code",
   "execution_count": 44,
   "id": "c77426ac",
   "metadata": {},
   "outputs": [],
   "source": [
    "# Observation\n",
    "# # Observation\n",
    "# 1.Capita_gain & Capital_loss columns data distributed is not okay. There are right skewness\n",
    "# 2. Fniwgt- data not distributed equali There are right skewness."
   ]
  },
  {
   "cell_type": "code",
   "execution_count": 45,
   "id": "f0e5b092",
   "metadata": {},
   "outputs": [
    {
     "data": {
      "text/html": [
       "<div>\n",
       "<style scoped>\n",
       "    .dataframe tbody tr th:only-of-type {\n",
       "        vertical-align: middle;\n",
       "    }\n",
       "\n",
       "    .dataframe tbody tr th {\n",
       "        vertical-align: top;\n",
       "    }\n",
       "\n",
       "    .dataframe thead th {\n",
       "        text-align: right;\n",
       "    }\n",
       "</style>\n",
       "<table border=\"1\" class=\"dataframe\">\n",
       "  <thead>\n",
       "    <tr style=\"text-align: right;\">\n",
       "      <th></th>\n",
       "      <th>Age</th>\n",
       "      <th>Workclass</th>\n",
       "      <th>Fnlwgt</th>\n",
       "      <th>Education</th>\n",
       "      <th>Education_num</th>\n",
       "      <th>Marital_status</th>\n",
       "      <th>Occupation</th>\n",
       "      <th>Relationship</th>\n",
       "      <th>Race</th>\n",
       "      <th>Sex</th>\n",
       "      <th>Capital_gain</th>\n",
       "      <th>Capital_loss</th>\n",
       "      <th>Hours_per_week</th>\n",
       "      <th>Native_country</th>\n",
       "      <th>Income</th>\n",
       "    </tr>\n",
       "  </thead>\n",
       "  <tbody>\n",
       "    <tr>\n",
       "      <th>Age</th>\n",
       "      <td>1.000000</td>\n",
       "      <td>0.003781</td>\n",
       "      <td>0.076448</td>\n",
       "      <td>0.010551</td>\n",
       "      <td>0.036224</td>\n",
       "      <td>0.266142</td>\n",
       "      <td>0.020911</td>\n",
       "      <td>0.263744</td>\n",
       "      <td>0.029116</td>\n",
       "      <td>0.088708</td>\n",
       "      <td>0.077676</td>\n",
       "      <td>0.057745</td>\n",
       "      <td>0.068515</td>\n",
       "      <td>0.001524</td>\n",
       "      <td>0.234039</td>\n",
       "    </tr>\n",
       "    <tr>\n",
       "      <th>Workclass</th>\n",
       "      <td>0.003781</td>\n",
       "      <td>1.000000</td>\n",
       "      <td>0.016532</td>\n",
       "      <td>0.023480</td>\n",
       "      <td>0.052099</td>\n",
       "      <td>0.064828</td>\n",
       "      <td>0.255105</td>\n",
       "      <td>0.090421</td>\n",
       "      <td>0.049717</td>\n",
       "      <td>0.095960</td>\n",
       "      <td>0.033845</td>\n",
       "      <td>0.012255</td>\n",
       "      <td>0.139059</td>\n",
       "      <td>0.007697</td>\n",
       "      <td>0.051706</td>\n",
       "    </tr>\n",
       "    <tr>\n",
       "      <th>Fnlwgt</th>\n",
       "      <td>0.076448</td>\n",
       "      <td>0.016532</td>\n",
       "      <td>1.000000</td>\n",
       "      <td>0.028065</td>\n",
       "      <td>0.043353</td>\n",
       "      <td>0.028154</td>\n",
       "      <td>0.001360</td>\n",
       "      <td>0.008859</td>\n",
       "      <td>0.021484</td>\n",
       "      <td>0.027113</td>\n",
       "      <td>0.000433</td>\n",
       "      <td>0.010267</td>\n",
       "      <td>0.018900</td>\n",
       "      <td>0.051866</td>\n",
       "      <td>0.009521</td>\n",
       "    </tr>\n",
       "    <tr>\n",
       "      <th>Education</th>\n",
       "      <td>0.010551</td>\n",
       "      <td>0.023480</td>\n",
       "      <td>0.028065</td>\n",
       "      <td>1.000000</td>\n",
       "      <td>0.359105</td>\n",
       "      <td>0.038413</td>\n",
       "      <td>0.021249</td>\n",
       "      <td>0.011060</td>\n",
       "      <td>0.014307</td>\n",
       "      <td>0.027426</td>\n",
       "      <td>0.030086</td>\n",
       "      <td>0.016790</td>\n",
       "      <td>0.055991</td>\n",
       "      <td>0.063874</td>\n",
       "      <td>0.079361</td>\n",
       "    </tr>\n",
       "    <tr>\n",
       "      <th>Education_num</th>\n",
       "      <td>0.036224</td>\n",
       "      <td>0.052099</td>\n",
       "      <td>0.043353</td>\n",
       "      <td>0.359105</td>\n",
       "      <td>1.000000</td>\n",
       "      <td>0.069196</td>\n",
       "      <td>0.109804</td>\n",
       "      <td>0.094424</td>\n",
       "      <td>0.031998</td>\n",
       "      <td>0.012181</td>\n",
       "      <td>0.122661</td>\n",
       "      <td>0.079901</td>\n",
       "      <td>0.148426</td>\n",
       "      <td>0.050127</td>\n",
       "      <td>0.335299</td>\n",
       "    </tr>\n",
       "    <tr>\n",
       "      <th>Marital_status</th>\n",
       "      <td>0.266142</td>\n",
       "      <td>0.064828</td>\n",
       "      <td>0.028154</td>\n",
       "      <td>0.038413</td>\n",
       "      <td>0.069196</td>\n",
       "      <td>1.000000</td>\n",
       "      <td>0.009778</td>\n",
       "      <td>0.185542</td>\n",
       "      <td>0.067942</td>\n",
       "      <td>0.129425</td>\n",
       "      <td>0.043373</td>\n",
       "      <td>0.034134</td>\n",
       "      <td>0.190433</td>\n",
       "      <td>0.023414</td>\n",
       "      <td>0.199187</td>\n",
       "    </tr>\n",
       "    <tr>\n",
       "      <th>Occupation</th>\n",
       "      <td>0.020911</td>\n",
       "      <td>0.255105</td>\n",
       "      <td>0.001360</td>\n",
       "      <td>0.021249</td>\n",
       "      <td>0.109804</td>\n",
       "      <td>0.009778</td>\n",
       "      <td>1.000000</td>\n",
       "      <td>0.075600</td>\n",
       "      <td>0.006811</td>\n",
       "      <td>0.080532</td>\n",
       "      <td>0.025513</td>\n",
       "      <td>0.017977</td>\n",
       "      <td>0.080502</td>\n",
       "      <td>0.012394</td>\n",
       "      <td>0.075398</td>\n",
       "    </tr>\n",
       "    <tr>\n",
       "      <th>Relationship</th>\n",
       "      <td>0.263744</td>\n",
       "      <td>0.090421</td>\n",
       "      <td>0.008859</td>\n",
       "      <td>0.011060</td>\n",
       "      <td>0.094424</td>\n",
       "      <td>0.185542</td>\n",
       "      <td>0.075600</td>\n",
       "      <td>1.000000</td>\n",
       "      <td>0.116048</td>\n",
       "      <td>0.582593</td>\n",
       "      <td>0.057945</td>\n",
       "      <td>0.061100</td>\n",
       "      <td>0.248876</td>\n",
       "      <td>0.005634</td>\n",
       "      <td>0.250955</td>\n",
       "    </tr>\n",
       "    <tr>\n",
       "      <th>Race</th>\n",
       "      <td>0.029116</td>\n",
       "      <td>0.049717</td>\n",
       "      <td>0.021484</td>\n",
       "      <td>0.014307</td>\n",
       "      <td>0.031998</td>\n",
       "      <td>0.067942</td>\n",
       "      <td>0.006811</td>\n",
       "      <td>0.116048</td>\n",
       "      <td>1.000000</td>\n",
       "      <td>0.087464</td>\n",
       "      <td>0.011152</td>\n",
       "      <td>0.018916</td>\n",
       "      <td>0.041921</td>\n",
       "      <td>0.137847</td>\n",
       "      <td>0.071855</td>\n",
       "    </tr>\n",
       "    <tr>\n",
       "      <th>Sex</th>\n",
       "      <td>0.088708</td>\n",
       "      <td>0.095960</td>\n",
       "      <td>0.027113</td>\n",
       "      <td>0.027426</td>\n",
       "      <td>0.012181</td>\n",
       "      <td>0.129425</td>\n",
       "      <td>0.080532</td>\n",
       "      <td>0.582593</td>\n",
       "      <td>0.087464</td>\n",
       "      <td>1.000000</td>\n",
       "      <td>0.048486</td>\n",
       "      <td>0.045576</td>\n",
       "      <td>0.229190</td>\n",
       "      <td>0.008262</td>\n",
       "      <td>0.215984</td>\n",
       "    </tr>\n",
       "    <tr>\n",
       "      <th>Capital_gain</th>\n",
       "      <td>0.077676</td>\n",
       "      <td>0.033845</td>\n",
       "      <td>0.000433</td>\n",
       "      <td>0.030086</td>\n",
       "      <td>0.122661</td>\n",
       "      <td>0.043373</td>\n",
       "      <td>0.025513</td>\n",
       "      <td>0.057945</td>\n",
       "      <td>0.011152</td>\n",
       "      <td>0.048486</td>\n",
       "      <td>1.000000</td>\n",
       "      <td>0.031638</td>\n",
       "      <td>0.078408</td>\n",
       "      <td>0.002036</td>\n",
       "      <td>0.223340</td>\n",
       "    </tr>\n",
       "    <tr>\n",
       "      <th>Capital_loss</th>\n",
       "      <td>0.057745</td>\n",
       "      <td>0.012255</td>\n",
       "      <td>0.010267</td>\n",
       "      <td>0.016790</td>\n",
       "      <td>0.079901</td>\n",
       "      <td>0.034134</td>\n",
       "      <td>0.017977</td>\n",
       "      <td>0.061100</td>\n",
       "      <td>0.018916</td>\n",
       "      <td>0.045576</td>\n",
       "      <td>0.031638</td>\n",
       "      <td>1.000000</td>\n",
       "      <td>0.054229</td>\n",
       "      <td>0.000346</td>\n",
       "      <td>0.150498</td>\n",
       "    </tr>\n",
       "    <tr>\n",
       "      <th>Hours_per_week</th>\n",
       "      <td>0.068515</td>\n",
       "      <td>0.139059</td>\n",
       "      <td>0.018900</td>\n",
       "      <td>0.055991</td>\n",
       "      <td>0.148426</td>\n",
       "      <td>0.190433</td>\n",
       "      <td>0.080502</td>\n",
       "      <td>0.248876</td>\n",
       "      <td>0.041921</td>\n",
       "      <td>0.229190</td>\n",
       "      <td>0.078408</td>\n",
       "      <td>0.054229</td>\n",
       "      <td>1.000000</td>\n",
       "      <td>0.002502</td>\n",
       "      <td>0.229659</td>\n",
       "    </tr>\n",
       "    <tr>\n",
       "      <th>Native_country</th>\n",
       "      <td>0.001524</td>\n",
       "      <td>0.007697</td>\n",
       "      <td>0.051866</td>\n",
       "      <td>0.063874</td>\n",
       "      <td>0.050127</td>\n",
       "      <td>0.023414</td>\n",
       "      <td>0.012394</td>\n",
       "      <td>0.005634</td>\n",
       "      <td>0.137847</td>\n",
       "      <td>0.008262</td>\n",
       "      <td>0.002036</td>\n",
       "      <td>0.000346</td>\n",
       "      <td>0.002502</td>\n",
       "      <td>1.000000</td>\n",
       "      <td>0.015623</td>\n",
       "    </tr>\n",
       "    <tr>\n",
       "      <th>Income</th>\n",
       "      <td>0.234039</td>\n",
       "      <td>0.051706</td>\n",
       "      <td>0.009521</td>\n",
       "      <td>0.079361</td>\n",
       "      <td>0.335299</td>\n",
       "      <td>0.199187</td>\n",
       "      <td>0.075398</td>\n",
       "      <td>0.250955</td>\n",
       "      <td>0.071855</td>\n",
       "      <td>0.215984</td>\n",
       "      <td>0.223340</td>\n",
       "      <td>0.150498</td>\n",
       "      <td>0.229659</td>\n",
       "      <td>0.015623</td>\n",
       "      <td>1.000000</td>\n",
       "    </tr>\n",
       "  </tbody>\n",
       "</table>\n",
       "</div>"
      ],
      "text/plain": [
       "                     Age  Workclass    Fnlwgt  Education  Education_num  \\\n",
       "Age             1.000000   0.003781  0.076448   0.010551       0.036224   \n",
       "Workclass       0.003781   1.000000  0.016532   0.023480       0.052099   \n",
       "Fnlwgt          0.076448   0.016532  1.000000   0.028065       0.043353   \n",
       "Education       0.010551   0.023480  0.028065   1.000000       0.359105   \n",
       "Education_num   0.036224   0.052099  0.043353   0.359105       1.000000   \n",
       "Marital_status  0.266142   0.064828  0.028154   0.038413       0.069196   \n",
       "Occupation      0.020911   0.255105  0.001360   0.021249       0.109804   \n",
       "Relationship    0.263744   0.090421  0.008859   0.011060       0.094424   \n",
       "Race            0.029116   0.049717  0.021484   0.014307       0.031998   \n",
       "Sex             0.088708   0.095960  0.027113   0.027426       0.012181   \n",
       "Capital_gain    0.077676   0.033845  0.000433   0.030086       0.122661   \n",
       "Capital_loss    0.057745   0.012255  0.010267   0.016790       0.079901   \n",
       "Hours_per_week  0.068515   0.139059  0.018900   0.055991       0.148426   \n",
       "Native_country  0.001524   0.007697  0.051866   0.063874       0.050127   \n",
       "Income          0.234039   0.051706  0.009521   0.079361       0.335299   \n",
       "\n",
       "                Marital_status  Occupation  Relationship      Race       Sex  \\\n",
       "Age                   0.266142    0.020911      0.263744  0.029116  0.088708   \n",
       "Workclass             0.064828    0.255105      0.090421  0.049717  0.095960   \n",
       "Fnlwgt                0.028154    0.001360      0.008859  0.021484  0.027113   \n",
       "Education             0.038413    0.021249      0.011060  0.014307  0.027426   \n",
       "Education_num         0.069196    0.109804      0.094424  0.031998  0.012181   \n",
       "Marital_status        1.000000    0.009778      0.185542  0.067942  0.129425   \n",
       "Occupation            0.009778    1.000000      0.075600  0.006811  0.080532   \n",
       "Relationship          0.185542    0.075600      1.000000  0.116048  0.582593   \n",
       "Race                  0.067942    0.006811      0.116048  1.000000  0.087464   \n",
       "Sex                   0.129425    0.080532      0.582593  0.087464  1.000000   \n",
       "Capital_gain          0.043373    0.025513      0.057945  0.011152  0.048486   \n",
       "Capital_loss          0.034134    0.017977      0.061100  0.018916  0.045576   \n",
       "Hours_per_week        0.190433    0.080502      0.248876  0.041921  0.229190   \n",
       "Native_country        0.023414    0.012394      0.005634  0.137847  0.008262   \n",
       "Income                0.199187    0.075398      0.250955  0.071855  0.215984   \n",
       "\n",
       "                Capital_gain  Capital_loss  Hours_per_week  Native_country  \\\n",
       "Age                 0.077676      0.057745        0.068515        0.001524   \n",
       "Workclass           0.033845      0.012255        0.139059        0.007697   \n",
       "Fnlwgt              0.000433      0.010267        0.018900        0.051866   \n",
       "Education           0.030086      0.016790        0.055991        0.063874   \n",
       "Education_num       0.122661      0.079901        0.148426        0.050127   \n",
       "Marital_status      0.043373      0.034134        0.190433        0.023414   \n",
       "Occupation          0.025513      0.017977        0.080502        0.012394   \n",
       "Relationship        0.057945      0.061100        0.248876        0.005634   \n",
       "Race                0.011152      0.018916        0.041921        0.137847   \n",
       "Sex                 0.048486      0.045576        0.229190        0.008262   \n",
       "Capital_gain        1.000000      0.031638        0.078408        0.002036   \n",
       "Capital_loss        0.031638      1.000000        0.054229        0.000346   \n",
       "Hours_per_week      0.078408      0.054229        1.000000        0.002502   \n",
       "Native_country      0.002036      0.000346        0.002502        1.000000   \n",
       "Income              0.223340      0.150498        0.229659        0.015623   \n",
       "\n",
       "                  Income  \n",
       "Age             0.234039  \n",
       "Workclass       0.051706  \n",
       "Fnlwgt          0.009521  \n",
       "Education       0.079361  \n",
       "Education_num   0.335299  \n",
       "Marital_status  0.199187  \n",
       "Occupation      0.075398  \n",
       "Relationship    0.250955  \n",
       "Race            0.071855  \n",
       "Sex             0.215984  \n",
       "Capital_gain    0.223340  \n",
       "Capital_loss    0.150498  \n",
       "Hours_per_week  0.229659  \n",
       "Native_country  0.015623  \n",
       "Income          1.000000  "
      ]
     },
     "execution_count": 45,
     "metadata": {},
     "output_type": "execute_result"
    }
   ],
   "source": [
    "# Cheking Correlation\n",
    "dt.corr().abs()"
   ]
  },
  {
   "cell_type": "code",
   "execution_count": 46,
   "id": "51f99cad",
   "metadata": {},
   "outputs": [
    {
     "data": {
      "image/png": "[encoded data removed]",
      "text/plain": [
       "<Figure size 864x864 with 2 Axes>"
      ]
     },
     "metadata": {},
     "output_type": "display_data"
    }
   ],
   "source": [
    "# see it in graph with heat map\n",
    "# cheking data distributed\n",
    "plt.figure(figsize=(12,12),facecolor='y')\n",
    "sns.heatmap(dt.corr().abs(),annot=True)\n",
    "plt.show()"
   ]
  },
  {
   "cell_type": "code",
   "execution_count": 47,
   "id": "b6eb4010",
   "metadata": {},
   "outputs": [],
   "source": [
    "# Observation\n",
    "# Relationship with Income and as below feature:\n",
    "# age- Relation ship 23 %. good relationship\n",
    "# Warkclass-Relation ship 5.2%. good relationship \n",
    "# Fnlwgt-Relation ship 00.95% %. it not good relationship\n",
    "# Education-Relation ship 7.9 %. good relationship\n",
    "# Eduction_num-Relation ship 34 %. good relationship\n",
    "# Marital_status- Relation ship 20 %. good relationship\n",
    "# Occupation-Relation ship 7.5 %. good relationship\n",
    "# Relationship- Relation ship 25 %. good relationship\n",
    "# Race- Relation ship 7.2 %. good relationship\n",
    "# Sex- Relation ship 22 %. good relationship\n",
    "# Capital_gain-Relation ship 22 %. good relationship\n",
    "# Capital_loss-Relation ship 15 %. good relationship\n",
    "# Hours_per_Week-Relation ship 23 %. good relationship\n",
    "# Native_country- Relation ship 1.6 %. not good relationship.It will drop"
   ]
  },
  {
   "cell_type": "code",
   "execution_count": 48,
   "id": "95e0d621",
   "metadata": {},
   "outputs": [],
   "source": [
    "x=dt.drop(['Income'],axis=1)\n",
    "y=dt.Income"
   ]
  },
  {
   "cell_type": "code",
   "execution_count": 49,
   "id": "cf1f7059",
   "metadata": {},
   "outputs": [
    {
     "data": {
      "text/plain": [
       "Age               0.234039\n",
       "Workclass         0.051706\n",
       "Fnlwgt           -0.009521\n",
       "Education         0.079361\n",
       "Education_num     0.335299\n",
       "Marital_status   -0.199187\n",
       "Occupation        0.075398\n",
       "Relationship     -0.250955\n",
       "Race              0.071855\n",
       "Sex               0.215984\n",
       "Capital_gain      0.223340\n",
       "Capital_loss      0.150498\n",
       "Hours_per_week    0.229659\n",
       "Native_country    0.015623\n",
       "dtype: float64"
      ]
     },
     "execution_count": 49,
     "metadata": {},
     "output_type": "execute_result"
    }
   ],
   "source": [
    "# Corelationship between feature & Lable\n",
    "x.corrwith(y)"
   ]
  },
  {
   "cell_type": "code",
   "execution_count": 50,
   "id": "3000e9e7",
   "metadata": {},
   "outputs": [
    {
     "data": {
      "text/plain": [
       "<AxesSubplot:>"
      ]
     },
     "execution_count": 50,
     "metadata": {},
     "output_type": "execute_result"
    },
    {
     "data": {
      "image/png": "[encoded data removed]",
      "text/plain": [
       "<Figure size 432x288 with 1 Axes>"
      ]
     },
     "metadata": {
      "needs_background": "light"
     },
     "output_type": "display_data"
    }
   ],
   "source": [
    "x.corrwith(y).plot(kind='bar')"
   ]
  },
  {
   "cell_type": "code",
   "execution_count": 51,
   "id": "7c7a5c99",
   "metadata": {},
   "outputs": [],
   "source": [
    "# drop Fnlwgt column bcz relationship is not good with lable\n",
    "x.drop(['Fnlwgt'],axis=1,inplace=True)"
   ]
  },
  {
   "cell_type": "code",
   "execution_count": 52,
   "id": "74ef364c",
   "metadata": {},
   "outputs": [],
   "source": [
    "# Cheking Malticolinearity problem\n",
    "from statsmodels.stats.outliers_influence import variance_inflation_factor"
   ]
  },
  {
   "cell_type": "code",
   "execution_count": 53,
   "id": "8e1275b2",
   "metadata": {},
   "outputs": [
    {
     "data": {
      "text/html": [
       "<div>\n",
       "<style scoped>\n",
       "    .dataframe tbody tr th:only-of-type {\n",
       "        vertical-align: middle;\n",
       "    }\n",
       "\n",
       "    .dataframe tbody tr th {\n",
       "        vertical-align: top;\n",
       "    }\n",
       "\n",
       "    .dataframe thead th {\n",
       "        text-align: right;\n",
       "    }\n",
       "</style>\n",
       "<table border=\"1\" class=\"dataframe\">\n",
       "  <thead>\n",
       "    <tr style=\"text-align: right;\">\n",
       "      <th></th>\n",
       "      <th>vif</th>\n",
       "      <th>feature</th>\n",
       "    </tr>\n",
       "  </thead>\n",
       "  <tbody>\n",
       "    <tr>\n",
       "      <th>0</th>\n",
       "      <td>8.511889</td>\n",
       "      <td>Age</td>\n",
       "    </tr>\n",
       "    <tr>\n",
       "      <th>1</th>\n",
       "      <td>8.462132</td>\n",
       "      <td>Workclass</td>\n",
       "    </tr>\n",
       "    <tr>\n",
       "      <th>2</th>\n",
       "      <td>9.205492</td>\n",
       "      <td>Education</td>\n",
       "    </tr>\n",
       "    <tr>\n",
       "      <th>3</th>\n",
       "      <td>18.359966</td>\n",
       "      <td>Education_num</td>\n",
       "    </tr>\n",
       "    <tr>\n",
       "      <th>4</th>\n",
       "      <td>3.938133</td>\n",
       "      <td>Marital_status</td>\n",
       "    </tr>\n",
       "    <tr>\n",
       "      <th>5</th>\n",
       "      <td>3.708854</td>\n",
       "      <td>Occupation</td>\n",
       "    </tr>\n",
       "    <tr>\n",
       "      <th>6</th>\n",
       "      <td>2.584119</td>\n",
       "      <td>Relationship</td>\n",
       "    </tr>\n",
       "    <tr>\n",
       "      <th>7</th>\n",
       "      <td>17.454042</td>\n",
       "      <td>Race</td>\n",
       "    </tr>\n",
       "    <tr>\n",
       "      <th>8</th>\n",
       "      <td>4.401165</td>\n",
       "      <td>Sex</td>\n",
       "    </tr>\n",
       "    <tr>\n",
       "      <th>9</th>\n",
       "      <td>1.044764</td>\n",
       "      <td>Capital_gain</td>\n",
       "    </tr>\n",
       "    <tr>\n",
       "      <th>10</th>\n",
       "      <td>1.061717</td>\n",
       "      <td>Capital_loss</td>\n",
       "    </tr>\n",
       "    <tr>\n",
       "      <th>11</th>\n",
       "      <td>12.101520</td>\n",
       "      <td>Hours_per_week</td>\n",
       "    </tr>\n",
       "    <tr>\n",
       "      <th>12</th>\n",
       "      <td>19.663636</td>\n",
       "      <td>Native_country</td>\n",
       "    </tr>\n",
       "  </tbody>\n",
       "</table>\n",
       "</div>"
      ],
      "text/plain": [
       "          vif         feature\n",
       "0    8.511889             Age\n",
       "1    8.462132       Workclass\n",
       "2    9.205492       Education\n",
       "3   18.359966   Education_num\n",
       "4    3.938133  Marital_status\n",
       "5    3.708854      Occupation\n",
       "6    2.584119    Relationship\n",
       "7   17.454042            Race\n",
       "8    4.401165             Sex\n",
       "9    1.044764    Capital_gain\n",
       "10   1.061717    Capital_loss\n",
       "11  12.101520  Hours_per_week\n",
       "12  19.663636  Native_country"
      ]
     },
     "execution_count": 53,
     "metadata": {},
     "output_type": "execute_result"
    }
   ],
   "source": [
    "vif=pd.DataFrame()\n",
    "vif['vif']=[variance_inflation_factor(x,i) for i in range(x.shape[1])]\n",
    "vif['feature']=x.columns\n",
    "vif"
   ]
  },
  {
   "cell_type": "code",
   "execution_count": 54,
   "id": "b96680af",
   "metadata": {},
   "outputs": [],
   "source": [
    "# Will drop those column which VIF score is gater than 10"
   ]
  },
  {
   "cell_type": "code",
   "execution_count": 55,
   "id": "d0080be4",
   "metadata": {},
   "outputs": [],
   "source": [
    "# We droped columns\n",
    "x.drop(['Race','Native_country'],axis=1,inplace=True)"
   ]
  },
  {
   "cell_type": "code",
   "execution_count": 56,
   "id": "2215fe1c",
   "metadata": {},
   "outputs": [
    {
     "data": {
      "image/png": "[encoded data removed]",
      "text/plain": [
       "<Figure size 864x864 with 11 Axes>"
      ]
     },
     "metadata": {},
     "output_type": "display_data"
    }
   ],
   "source": [
    "# Find Outlier using box plot\n",
    "plt.figure(figsize=(12,12),facecolor='y')\n",
    "plotnumber=1\n",
    "for column in x:\n",
    "    if plotnumber<=16:\n",
    "        ax=plt.subplot(4,4,plotnumber)\n",
    "        sns.boxplot(x[column])\n",
    "        plt.xlabel(column, fontsize=10)\n",
    "    plotnumber+=1\n",
    "plt.show()"
   ]
  },
  {
   "cell_type": "code",
   "execution_count": 57,
   "id": "61248036",
   "metadata": {},
   "outputs": [],
   "source": [
    "# Show Outliers in column Age,Warkclass,Fnlwnt,Education,Capital_gain & Capital_loss"
   ]
  },
  {
   "cell_type": "code",
   "execution_count": 58,
   "id": "ddf53602",
   "metadata": {},
   "outputs": [
    {
     "ename": "TypeError",
     "evalue": "cannot perform reduce with flexible type",
     "output_type": "error",
     "traceback": [
      "\u001b[1;31m---------------------------------------------------------------------------\u001b[0m",
      "\u001b[1;31mTypeError\u001b[0m                                 Traceback (most recent call last)",
      "Input \u001b[1;32mIn [58]\u001b[0m, in \u001b[0;36m<cell line: 3>\u001b[1;34m()\u001b[0m\n\u001b[0;32m      1\u001b[0m \u001b[38;5;66;03m# Remove outlier using Z Distribution\u001b[39;00m\n\u001b[0;32m      2\u001b[0m \u001b[38;5;28;01mfrom\u001b[39;00m \u001b[38;5;21;01mscipy\u001b[39;00m\u001b[38;5;21;01m.\u001b[39;00m\u001b[38;5;21;01mstats\u001b[39;00m \u001b[38;5;28;01mimport\u001b[39;00m zscore\n\u001b[1;32m----> 3\u001b[0m z_score\u001b[38;5;241m=\u001b[39m\u001b[43mzscore\u001b[49m\u001b[43m(\u001b[49m\u001b[43m[\u001b[49m\u001b[43m[\u001b[49m\u001b[38;5;124;43m'\u001b[39;49m\u001b[38;5;124;43mAge\u001b[39;49m\u001b[38;5;124;43m'\u001b[39;49m\u001b[43m]\u001b[49m\u001b[43m]\u001b[49m\u001b[43m)\u001b[49m\n\u001b[0;32m      4\u001b[0m abs_z_score\u001b[38;5;241m=\u001b[39mnp\u001b[38;5;241m.\u001b[39mabs(z_score)\n\u001b[0;32m      5\u001b[0m \u001b[38;5;28mfilter\u001b[39m\u001b[38;5;241m=\u001b[39m(abs_z_score\u001b[38;5;241m<\u001b[39m\u001b[38;5;241m3\u001b[39m)\n",
      "File \u001b[1;32m~\\anaconda3\\lib\\site-packages\\scipy\\stats\\stats.py:2474\u001b[0m, in \u001b[0;36mzscore\u001b[1;34m(a, axis, ddof, nan_policy)\u001b[0m\n\u001b[0;32m   2406\u001b[0m \u001b[38;5;28;01mdef\u001b[39;00m \u001b[38;5;21mzscore\u001b[39m(a, axis\u001b[38;5;241m=\u001b[39m\u001b[38;5;241m0\u001b[39m, ddof\u001b[38;5;241m=\u001b[39m\u001b[38;5;241m0\u001b[39m, nan_policy\u001b[38;5;241m=\u001b[39m\u001b[38;5;124m'\u001b[39m\u001b[38;5;124mpropagate\u001b[39m\u001b[38;5;124m'\u001b[39m):\n\u001b[0;32m   2407\u001b[0m     \u001b[38;5;124;03m\"\"\"\u001b[39;00m\n\u001b[0;32m   2408\u001b[0m \u001b[38;5;124;03m    Compute the z score.\u001b[39;00m\n\u001b[0;32m   2409\u001b[0m \n\u001b[1;32m   (...)\u001b[0m\n\u001b[0;32m   2472\u001b[0m \u001b[38;5;124;03m           [-0.91611681, -0.89090508,  1.4983032 ,  0.88731639, -0.5785977 ]])\u001b[39;00m\n\u001b[0;32m   2473\u001b[0m \u001b[38;5;124;03m    \"\"\"\u001b[39;00m\n\u001b[1;32m-> 2474\u001b[0m     \u001b[38;5;28;01mreturn\u001b[39;00m \u001b[43mzmap\u001b[49m\u001b[43m(\u001b[49m\u001b[43ma\u001b[49m\u001b[43m,\u001b[49m\u001b[43m \u001b[49m\u001b[43ma\u001b[49m\u001b[43m,\u001b[49m\u001b[43m \u001b[49m\u001b[43maxis\u001b[49m\u001b[38;5;241;43m=\u001b[39;49m\u001b[43maxis\u001b[49m\u001b[43m,\u001b[49m\u001b[43m \u001b[49m\u001b[43mddof\u001b[49m\u001b[38;5;241;43m=\u001b[39;49m\u001b[43mddof\u001b[49m\u001b[43m,\u001b[49m\u001b[43m \u001b[49m\u001b[43mnan_policy\u001b[49m\u001b[38;5;241;43m=\u001b[39;49m\u001b[43mnan_policy\u001b[49m\u001b[43m)\u001b[49m\n",
      "File \u001b[1;32m~\\anaconda3\\lib\\site-packages\\scipy\\stats\\stats.py:2544\u001b[0m, in \u001b[0;36mzmap\u001b[1;34m(scores, compare, axis, ddof, nan_policy)\u001b[0m\n\u001b[0;32m   2542\u001b[0m         isconst \u001b[38;5;241m=\u001b[39m np\u001b[38;5;241m.\u001b[39mapply_along_axis(_isconst, axis, a)\n\u001b[0;32m   2543\u001b[0m \u001b[38;5;28;01melse\u001b[39;00m:\n\u001b[1;32m-> 2544\u001b[0m     mn \u001b[38;5;241m=\u001b[39m \u001b[43ma\u001b[49m\u001b[38;5;241;43m.\u001b[39;49m\u001b[43mmean\u001b[49m\u001b[43m(\u001b[49m\u001b[43maxis\u001b[49m\u001b[38;5;241;43m=\u001b[39;49m\u001b[43maxis\u001b[49m\u001b[43m,\u001b[49m\u001b[43m \u001b[49m\u001b[43mkeepdims\u001b[49m\u001b[38;5;241;43m=\u001b[39;49m\u001b[38;5;28;43;01mTrue\u001b[39;49;00m\u001b[43m)\u001b[49m\n\u001b[0;32m   2545\u001b[0m     std \u001b[38;5;241m=\u001b[39m a\u001b[38;5;241m.\u001b[39mstd(axis\u001b[38;5;241m=\u001b[39maxis, ddof\u001b[38;5;241m=\u001b[39mddof, keepdims\u001b[38;5;241m=\u001b[39m\u001b[38;5;28;01mTrue\u001b[39;00m)\n\u001b[0;32m   2546\u001b[0m     \u001b[38;5;28;01mif\u001b[39;00m axis \u001b[38;5;129;01mis\u001b[39;00m \u001b[38;5;28;01mNone\u001b[39;00m:\n",
      "File \u001b[1;32m~\\anaconda3\\lib\\site-packages\\numpy\\core\\_methods.py:179\u001b[0m, in \u001b[0;36m_mean\u001b[1;34m(a, axis, dtype, out, keepdims, where)\u001b[0m\n\u001b[0;32m    176\u001b[0m         dtype \u001b[38;5;241m=\u001b[39m mu\u001b[38;5;241m.\u001b[39mdtype(\u001b[38;5;124m'\u001b[39m\u001b[38;5;124mf4\u001b[39m\u001b[38;5;124m'\u001b[39m)\n\u001b[0;32m    177\u001b[0m         is_float16_result \u001b[38;5;241m=\u001b[39m \u001b[38;5;28;01mTrue\u001b[39;00m\n\u001b[1;32m--> 179\u001b[0m ret \u001b[38;5;241m=\u001b[39m \u001b[43mumr_sum\u001b[49m\u001b[43m(\u001b[49m\u001b[43marr\u001b[49m\u001b[43m,\u001b[49m\u001b[43m \u001b[49m\u001b[43maxis\u001b[49m\u001b[43m,\u001b[49m\u001b[43m \u001b[49m\u001b[43mdtype\u001b[49m\u001b[43m,\u001b[49m\u001b[43m \u001b[49m\u001b[43mout\u001b[49m\u001b[43m,\u001b[49m\u001b[43m \u001b[49m\u001b[43mkeepdims\u001b[49m\u001b[43m,\u001b[49m\u001b[43m \u001b[49m\u001b[43mwhere\u001b[49m\u001b[38;5;241;43m=\u001b[39;49m\u001b[43mwhere\u001b[49m\u001b[43m)\u001b[49m\n\u001b[0;32m    180\u001b[0m \u001b[38;5;28;01mif\u001b[39;00m \u001b[38;5;28misinstance\u001b[39m(ret, mu\u001b[38;5;241m.\u001b[39mndarray):\n\u001b[0;32m    181\u001b[0m     ret \u001b[38;5;241m=\u001b[39m um\u001b[38;5;241m.\u001b[39mtrue_divide(\n\u001b[0;32m    182\u001b[0m             ret, rcount, out\u001b[38;5;241m=\u001b[39mret, casting\u001b[38;5;241m=\u001b[39m\u001b[38;5;124m'\u001b[39m\u001b[38;5;124munsafe\u001b[39m\u001b[38;5;124m'\u001b[39m, subok\u001b[38;5;241m=\u001b[39m\u001b[38;5;28;01mFalse\u001b[39;00m)\n",
      "\u001b[1;31mTypeError\u001b[0m: cannot perform reduce with flexible type"
     ]
    }
   ],
   "source": [
    "# Remove outlier using Z Distribution\n",
    "from scipy.stats import zscore\n",
    "z_score=zscore([['Age']])\n",
    "abs_z_score=np.abs(z_score)\n",
    "filter=(abs_z_score<3) \n",
    "dt=dt[filter]"
   ]
  },
  {
   "cell_type": "code",
   "execution_count": 59,
   "id": "2cb29f74",
   "metadata": {},
   "outputs": [
    {
     "data": {
      "text/plain": [
       "Age                0.557657\n",
       "Workclass         -0.751854\n",
       "Fnlwgt             1.447695\n",
       "Education         -0.934180\n",
       "Education_num     -0.309454\n",
       "Marital_status    -0.012692\n",
       "Occupation         0.114542\n",
       "Relationship       0.786514\n",
       "Race              -2.435283\n",
       "Sex               -0.719400\n",
       "Capital_gain      11.949245\n",
       "Capital_loss       4.592622\n",
       "Hours_per_week     0.228752\n",
       "Native_country    -3.661060\n",
       "Income             1.211640\n",
       "dtype: float64"
      ]
     },
     "execution_count": 59,
     "metadata": {},
     "output_type": "execute_result"
    }
   ],
   "source": [
    "dt.skew()"
   ]
  },
  {
   "cell_type": "code",
   "execution_count": 60,
   "id": "a6e4cc46",
   "metadata": {},
   "outputs": [],
   "source": [
    "from sklearn.preprocessing import PowerTransformer\n",
    "pt=PowerTransformer()"
   ]
  },
  {
   "cell_type": "code",
   "execution_count": 61,
   "id": "ca52714a",
   "metadata": {},
   "outputs": [
    {
     "data": {
      "text/plain": [
       "Age              -0.013967\n",
       "Workclass         0.061229\n",
       "Education        -0.309379\n",
       "Education_num     0.023862\n",
       "Marital_status   -0.114050\n",
       "Occupation       -0.187189\n",
       "Relationship      0.123000\n",
       "Sex              -0.719400\n",
       "Capital_gain      3.015495\n",
       "Capital_loss      4.297677\n",
       "Hours_per_week    0.229590\n",
       "dtype: float64"
      ]
     },
     "execution_count": 61,
     "metadata": {},
     "output_type": "execute_result"
    }
   ],
   "source": [
    "x_new=pt.fit_transform(x)\n",
    "x=pd.DataFrame(x_new, columns=x.columns)\n",
    "x.skew()"
   ]
  },
  {
   "cell_type": "code",
   "execution_count": 62,
   "id": "c507dbb6",
   "metadata": {},
   "outputs": [],
   "source": [
    "#  Now minimized the skew "
   ]
  },
  {
   "cell_type": "code",
   "execution_count": 63,
   "id": "35b3d6fe",
   "metadata": {},
   "outputs": [
    {
     "data": {
      "text/plain": [
       "<AxesSubplot:>"
      ]
     },
     "execution_count": 63,
     "metadata": {},
     "output_type": "execute_result"
    },
    {
     "data": {
      "image/png": "[encoded data removed]",
      "text/plain": [
       "<Figure size 432x288 with 1 Axes>"
      ]
     },
     "metadata": {
      "needs_background": "light"
     },
     "output_type": "display_data"
    }
   ],
   "source": [
    "x.skew().plot(kind='bar')"
   ]
  },
  {
   "cell_type": "code",
   "execution_count": null,
   "id": "e44f9f9f",
   "metadata": {},
   "outputs": [],
   "source": []
  }
 ],
 "metadata": {
  "kernelspec": {
   "display_name": "Python 3 (ipykernel)",
   "language": "python",
   "name": "python3"
  },
  "language_info": {
   "codemirror_mode": {
    "name": "ipython",
    "version": 3
   },
   "file_extension": ".py",
   "mimetype": "text/x-python",
   "name": "python",
   "nbconvert_exporter": "python",
   "pygments_lexer": "ipython3",
   "version": "3.9.12"
  }
 },
 "nbformat": 4,
 "nbformat_minor": 5
}
