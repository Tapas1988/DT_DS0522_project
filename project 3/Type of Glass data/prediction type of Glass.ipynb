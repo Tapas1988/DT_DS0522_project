{
 "cells": [
  {
   "cell_type": "code",
   "execution_count": 1,
   "id": "2083642f",
   "metadata": {},
   "outputs": [],
   "source": [
    "import numpy as np\n",
    "import pandas as pd"
   ]
  },
  {
   "cell_type": "code",
   "execution_count": 2,
   "id": "b02c65ed",
   "metadata": {},
   "outputs": [
    {
     "data": {
      "text/html": [
       "<div>\n",
       "<style scoped>\n",
       "    .dataframe tbody tr th:only-of-type {\n",
       "        vertical-align: middle;\n",
       "    }\n",
       "\n",
       "    .dataframe tbody tr th {\n",
       "        vertical-align: top;\n",
       "    }\n",
       "\n",
       "    .dataframe thead th {\n",
       "        text-align: right;\n",
       "    }\n",
       "</style>\n",
       "<table border=\"1\" class=\"dataframe\">\n",
       "  <thead>\n",
       "    <tr style=\"text-align: right;\">\n",
       "      <th></th>\n",
       "      <th>1</th>\n",
       "      <th>1.52101</th>\n",
       "      <th>13.64</th>\n",
       "      <th>4.49</th>\n",
       "      <th>1.10</th>\n",
       "      <th>71.78</th>\n",
       "      <th>0.06</th>\n",
       "      <th>8.75</th>\n",
       "      <th>0.00</th>\n",
       "      <th>0.00.1</th>\n",
       "      <th>1.1</th>\n",
       "    </tr>\n",
       "  </thead>\n",
       "  <tbody>\n",
       "    <tr>\n",
       "      <th>0</th>\n",
       "      <td>2</td>\n",
       "      <td>1.51761</td>\n",
       "      <td>13.89</td>\n",
       "      <td>3.60</td>\n",
       "      <td>1.36</td>\n",
       "      <td>72.73</td>\n",
       "      <td>0.48</td>\n",
       "      <td>7.83</td>\n",
       "      <td>0.0</td>\n",
       "      <td>0.00</td>\n",
       "      <td>1</td>\n",
       "    </tr>\n",
       "    <tr>\n",
       "      <th>1</th>\n",
       "      <td>3</td>\n",
       "      <td>1.51618</td>\n",
       "      <td>13.53</td>\n",
       "      <td>3.55</td>\n",
       "      <td>1.54</td>\n",
       "      <td>72.99</td>\n",
       "      <td>0.39</td>\n",
       "      <td>7.78</td>\n",
       "      <td>0.0</td>\n",
       "      <td>0.00</td>\n",
       "      <td>1</td>\n",
       "    </tr>\n",
       "    <tr>\n",
       "      <th>2</th>\n",
       "      <td>4</td>\n",
       "      <td>1.51766</td>\n",
       "      <td>13.21</td>\n",
       "      <td>3.69</td>\n",
       "      <td>1.29</td>\n",
       "      <td>72.61</td>\n",
       "      <td>0.57</td>\n",
       "      <td>8.22</td>\n",
       "      <td>0.0</td>\n",
       "      <td>0.00</td>\n",
       "      <td>1</td>\n",
       "    </tr>\n",
       "    <tr>\n",
       "      <th>3</th>\n",
       "      <td>5</td>\n",
       "      <td>1.51742</td>\n",
       "      <td>13.27</td>\n",
       "      <td>3.62</td>\n",
       "      <td>1.24</td>\n",
       "      <td>73.08</td>\n",
       "      <td>0.55</td>\n",
       "      <td>8.07</td>\n",
       "      <td>0.0</td>\n",
       "      <td>0.00</td>\n",
       "      <td>1</td>\n",
       "    </tr>\n",
       "    <tr>\n",
       "      <th>4</th>\n",
       "      <td>6</td>\n",
       "      <td>1.51596</td>\n",
       "      <td>12.79</td>\n",
       "      <td>3.61</td>\n",
       "      <td>1.62</td>\n",
       "      <td>72.97</td>\n",
       "      <td>0.64</td>\n",
       "      <td>8.07</td>\n",
       "      <td>0.0</td>\n",
       "      <td>0.26</td>\n",
       "      <td>1</td>\n",
       "    </tr>\n",
       "  </tbody>\n",
       "</table>\n",
       "</div>"
      ],
      "text/plain": [
       "   1  1.52101  13.64  4.49  1.10  71.78  0.06  8.75  0.00  0.00.1  1.1\n",
       "0  2  1.51761  13.89  3.60  1.36  72.73  0.48  7.83   0.0    0.00    1\n",
       "1  3  1.51618  13.53  3.55  1.54  72.99  0.39  7.78   0.0    0.00    1\n",
       "2  4  1.51766  13.21  3.69  1.29  72.61  0.57  8.22   0.0    0.00    1\n",
       "3  5  1.51742  13.27  3.62  1.24  73.08  0.55  8.07   0.0    0.00    1\n",
       "4  6  1.51596  12.79  3.61  1.62  72.97  0.64  8.07   0.0    0.26    1"
      ]
     },
     "execution_count": 2,
     "metadata": {},
     "output_type": "execute_result"
    }
   ],
   "source": [
    "dt=pd.read_csv('https://raw.githubusercontent.com/dsrscientist/dataset3/main/glass.csv')\n",
    "dt.head()"
   ]
  },
  {
   "cell_type": "code",
   "execution_count": 3,
   "id": "eb7ed9a1",
   "metadata": {},
   "outputs": [
    {
     "data": {
      "text/plain": [
       "(213, 11)"
      ]
     },
     "execution_count": 3,
     "metadata": {},
     "output_type": "execute_result"
    }
   ],
   "source": [
    "dt.shape     # COLUMNS NO-213 rOWS=11"
   ]
  },
  {
   "cell_type": "code",
   "execution_count": 4,
   "id": "6ec9e9dd",
   "metadata": {},
   "outputs": [
    {
     "data": {
      "text/plain": [
       "1          0\n",
       "1.52101    0\n",
       "13.64      0\n",
       "4.49       0\n",
       "1.10       0\n",
       "71.78      0\n",
       "0.06       0\n",
       "8.75       0\n",
       "0.00       0\n",
       "0.00.1     0\n",
       "1.1        0\n",
       "dtype: int64"
      ]
     },
     "execution_count": 4,
     "metadata": {},
     "output_type": "execute_result"
    }
   ],
   "source": [
    "# check missing values\n",
    "dt.isna().sum()"
   ]
  },
  {
   "cell_type": "code",
   "execution_count": 5,
   "id": "92d565cc",
   "metadata": {},
   "outputs": [],
   "source": [
    "# Observation\n",
    "\n",
    "# No missing value is present"
   ]
  },
  {
   "cell_type": "code",
   "execution_count": 6,
   "id": "f0da3516",
   "metadata": {},
   "outputs": [
    {
     "name": "stdout",
     "output_type": "stream",
     "text": [
      "<class 'pandas.core.frame.DataFrame'>\n",
      "RangeIndex: 213 entries, 0 to 212\n",
      "Data columns (total 11 columns):\n",
      " #   Column   Non-Null Count  Dtype  \n",
      "---  ------   --------------  -----  \n",
      " 0   1        213 non-null    int64  \n",
      " 1   1.52101  213 non-null    float64\n",
      " 2   13.64    213 non-null    float64\n",
      " 3   4.49     213 non-null    float64\n",
      " 4   1.10     213 non-null    float64\n",
      " 5   71.78    213 non-null    float64\n",
      " 6   0.06     213 non-null    float64\n",
      " 7   8.75     213 non-null    float64\n",
      " 8   0.00     213 non-null    float64\n",
      " 9   0.00.1   213 non-null    float64\n",
      " 10  1.1      213 non-null    int64  \n",
      "dtypes: float64(9), int64(2)\n",
      "memory usage: 18.4 KB\n"
     ]
    }
   ],
   "source": [
    "# Cheking data information\n",
    "dt.info()"
   ]
  },
  {
   "cell_type": "code",
   "execution_count": 7,
   "id": "6ea0a856",
   "metadata": {},
   "outputs": [],
   "source": [
    "# Observation \n",
    "# all data is floating & int"
   ]
  },
  {
   "cell_type": "code",
   "execution_count": 8,
   "id": "2517b6a6",
   "metadata": {},
   "outputs": [
    {
     "data": {
      "text/html": [
       "<div>\n",
       "<style scoped>\n",
       "    .dataframe tbody tr th:only-of-type {\n",
       "        vertical-align: middle;\n",
       "    }\n",
       "\n",
       "    .dataframe tbody tr th {\n",
       "        vertical-align: top;\n",
       "    }\n",
       "\n",
       "    .dataframe thead th {\n",
       "        text-align: right;\n",
       "    }\n",
       "</style>\n",
       "<table border=\"1\" class=\"dataframe\">\n",
       "  <thead>\n",
       "    <tr style=\"text-align: right;\">\n",
       "      <th></th>\n",
       "      <th>1</th>\n",
       "      <th>1.52101</th>\n",
       "      <th>13.64</th>\n",
       "      <th>4.49</th>\n",
       "      <th>1.10</th>\n",
       "      <th>71.78</th>\n",
       "      <th>0.06</th>\n",
       "      <th>8.75</th>\n",
       "      <th>0.00</th>\n",
       "      <th>0.00.1</th>\n",
       "      <th>1.1</th>\n",
       "    </tr>\n",
       "  </thead>\n",
       "  <tbody>\n",
       "    <tr>\n",
       "      <th>count</th>\n",
       "      <td>213.000000</td>\n",
       "      <td>213.000000</td>\n",
       "      <td>213.000000</td>\n",
       "      <td>213.000000</td>\n",
       "      <td>213.000000</td>\n",
       "      <td>213.000000</td>\n",
       "      <td>213.000000</td>\n",
       "      <td>213.000000</td>\n",
       "      <td>213.000000</td>\n",
       "      <td>213.000000</td>\n",
       "      <td>213.000000</td>\n",
       "    </tr>\n",
       "    <tr>\n",
       "      <th>mean</th>\n",
       "      <td>108.000000</td>\n",
       "      <td>1.518353</td>\n",
       "      <td>13.406761</td>\n",
       "      <td>2.676056</td>\n",
       "      <td>1.446526</td>\n",
       "      <td>72.655023</td>\n",
       "      <td>0.499108</td>\n",
       "      <td>8.957934</td>\n",
       "      <td>0.175869</td>\n",
       "      <td>0.057277</td>\n",
       "      <td>2.788732</td>\n",
       "    </tr>\n",
       "    <tr>\n",
       "      <th>std</th>\n",
       "      <td>61.631972</td>\n",
       "      <td>0.003039</td>\n",
       "      <td>0.818371</td>\n",
       "      <td>1.440453</td>\n",
       "      <td>0.499882</td>\n",
       "      <td>0.774052</td>\n",
       "      <td>0.653035</td>\n",
       "      <td>1.426435</td>\n",
       "      <td>0.498245</td>\n",
       "      <td>0.097589</td>\n",
       "      <td>2.105130</td>\n",
       "    </tr>\n",
       "    <tr>\n",
       "      <th>min</th>\n",
       "      <td>2.000000</td>\n",
       "      <td>1.511150</td>\n",
       "      <td>10.730000</td>\n",
       "      <td>0.000000</td>\n",
       "      <td>0.290000</td>\n",
       "      <td>69.810000</td>\n",
       "      <td>0.000000</td>\n",
       "      <td>5.430000</td>\n",
       "      <td>0.000000</td>\n",
       "      <td>0.000000</td>\n",
       "      <td>1.000000</td>\n",
       "    </tr>\n",
       "    <tr>\n",
       "      <th>25%</th>\n",
       "      <td>55.000000</td>\n",
       "      <td>1.516520</td>\n",
       "      <td>12.900000</td>\n",
       "      <td>2.090000</td>\n",
       "      <td>1.190000</td>\n",
       "      <td>72.280000</td>\n",
       "      <td>0.130000</td>\n",
       "      <td>8.240000</td>\n",
       "      <td>0.000000</td>\n",
       "      <td>0.000000</td>\n",
       "      <td>1.000000</td>\n",
       "    </tr>\n",
       "    <tr>\n",
       "      <th>50%</th>\n",
       "      <td>108.000000</td>\n",
       "      <td>1.517680</td>\n",
       "      <td>13.300000</td>\n",
       "      <td>3.480000</td>\n",
       "      <td>1.360000</td>\n",
       "      <td>72.790000</td>\n",
       "      <td>0.560000</td>\n",
       "      <td>8.600000</td>\n",
       "      <td>0.000000</td>\n",
       "      <td>0.000000</td>\n",
       "      <td>2.000000</td>\n",
       "    </tr>\n",
       "    <tr>\n",
       "      <th>75%</th>\n",
       "      <td>161.000000</td>\n",
       "      <td>1.519150</td>\n",
       "      <td>13.830000</td>\n",
       "      <td>3.600000</td>\n",
       "      <td>1.630000</td>\n",
       "      <td>73.090000</td>\n",
       "      <td>0.610000</td>\n",
       "      <td>9.180000</td>\n",
       "      <td>0.000000</td>\n",
       "      <td>0.100000</td>\n",
       "      <td>3.000000</td>\n",
       "    </tr>\n",
       "    <tr>\n",
       "      <th>max</th>\n",
       "      <td>214.000000</td>\n",
       "      <td>1.533930</td>\n",
       "      <td>17.380000</td>\n",
       "      <td>3.980000</td>\n",
       "      <td>3.500000</td>\n",
       "      <td>75.410000</td>\n",
       "      <td>6.210000</td>\n",
       "      <td>16.190000</td>\n",
       "      <td>3.150000</td>\n",
       "      <td>0.510000</td>\n",
       "      <td>7.000000</td>\n",
       "    </tr>\n",
       "  </tbody>\n",
       "</table>\n",
       "</div>"
      ],
      "text/plain": [
       "                1     1.52101       13.64        4.49        1.10       71.78  \\\n",
       "count  213.000000  213.000000  213.000000  213.000000  213.000000  213.000000   \n",
       "mean   108.000000    1.518353   13.406761    2.676056    1.446526   72.655023   \n",
       "std     61.631972    0.003039    0.818371    1.440453    0.499882    0.774052   \n",
       "min      2.000000    1.511150   10.730000    0.000000    0.290000   69.810000   \n",
       "25%     55.000000    1.516520   12.900000    2.090000    1.190000   72.280000   \n",
       "50%    108.000000    1.517680   13.300000    3.480000    1.360000   72.790000   \n",
       "75%    161.000000    1.519150   13.830000    3.600000    1.630000   73.090000   \n",
       "max    214.000000    1.533930   17.380000    3.980000    3.500000   75.410000   \n",
       "\n",
       "             0.06        8.75        0.00      0.00.1         1.1  \n",
       "count  213.000000  213.000000  213.000000  213.000000  213.000000  \n",
       "mean     0.499108    8.957934    0.175869    0.057277    2.788732  \n",
       "std      0.653035    1.426435    0.498245    0.097589    2.105130  \n",
       "min      0.000000    5.430000    0.000000    0.000000    1.000000  \n",
       "25%      0.130000    8.240000    0.000000    0.000000    1.000000  \n",
       "50%      0.560000    8.600000    0.000000    0.000000    2.000000  \n",
       "75%      0.610000    9.180000    0.000000    0.100000    3.000000  \n",
       "max      6.210000   16.190000    3.150000    0.510000    7.000000  "
      ]
     },
     "execution_count": 8,
     "metadata": {},
     "output_type": "execute_result"
    }
   ],
   "source": [
    "# describe the data\n",
    "dt.describe()"
   ]
  },
  {
   "cell_type": "code",
   "execution_count": 9,
   "id": "e71f042e",
   "metadata": {},
   "outputs": [],
   "source": [
    "# Observation\n",
    "# 1-its indicate no. of rows. it is not important for analysis"
   ]
  },
  {
   "cell_type": "code",
   "execution_count": 10,
   "id": "62dda6f5",
   "metadata": {},
   "outputs": [],
   "source": [
    "# Cheking Duplicate Data\n",
    "dt1=dt.duplicated()"
   ]
  },
  {
   "cell_type": "code",
   "execution_count": 11,
   "id": "b6002e9a",
   "metadata": {},
   "outputs": [
    {
     "data": {
      "text/plain": [
       "0      False\n",
       "1      False\n",
       "2      False\n",
       "3      False\n",
       "4      False\n",
       "       ...  \n",
       "208    False\n",
       "209    False\n",
       "210    False\n",
       "211    False\n",
       "212    False\n",
       "Length: 213, dtype: bool"
      ]
     },
     "execution_count": 11,
     "metadata": {},
     "output_type": "execute_result"
    }
   ],
   "source": [
    "dt1"
   ]
  },
  {
   "cell_type": "code",
   "execution_count": 12,
   "id": "84a3943e",
   "metadata": {},
   "outputs": [],
   "source": [
    "# Observetion: no duplicate value is present in dataset"
   ]
  },
  {
   "cell_type": "code",
   "execution_count": 13,
   "id": "ccc67321",
   "metadata": {},
   "outputs": [],
   "source": [
    "# drop the columns no 1\n",
    "dt=dt.drop(['1'],axis=1)"
   ]
  },
  {
   "cell_type": "code",
   "execution_count": 14,
   "id": "8b0f9f56",
   "metadata": {},
   "outputs": [
    {
     "data": {
      "text/html": [
       "<div>\n",
       "<style scoped>\n",
       "    .dataframe tbody tr th:only-of-type {\n",
       "        vertical-align: middle;\n",
       "    }\n",
       "\n",
       "    .dataframe tbody tr th {\n",
       "        vertical-align: top;\n",
       "    }\n",
       "\n",
       "    .dataframe thead th {\n",
       "        text-align: right;\n",
       "    }\n",
       "</style>\n",
       "<table border=\"1\" class=\"dataframe\">\n",
       "  <thead>\n",
       "    <tr style=\"text-align: right;\">\n",
       "      <th></th>\n",
       "      <th>1.52101</th>\n",
       "      <th>13.64</th>\n",
       "      <th>4.49</th>\n",
       "      <th>1.10</th>\n",
       "      <th>71.78</th>\n",
       "      <th>0.06</th>\n",
       "      <th>8.75</th>\n",
       "      <th>0.00</th>\n",
       "      <th>0.00.1</th>\n",
       "      <th>1.1</th>\n",
       "    </tr>\n",
       "  </thead>\n",
       "  <tbody>\n",
       "    <tr>\n",
       "      <th>0</th>\n",
       "      <td>1.51761</td>\n",
       "      <td>13.89</td>\n",
       "      <td>3.60</td>\n",
       "      <td>1.36</td>\n",
       "      <td>72.73</td>\n",
       "      <td>0.48</td>\n",
       "      <td>7.83</td>\n",
       "      <td>0.0</td>\n",
       "      <td>0.00</td>\n",
       "      <td>1</td>\n",
       "    </tr>\n",
       "    <tr>\n",
       "      <th>1</th>\n",
       "      <td>1.51618</td>\n",
       "      <td>13.53</td>\n",
       "      <td>3.55</td>\n",
       "      <td>1.54</td>\n",
       "      <td>72.99</td>\n",
       "      <td>0.39</td>\n",
       "      <td>7.78</td>\n",
       "      <td>0.0</td>\n",
       "      <td>0.00</td>\n",
       "      <td>1</td>\n",
       "    </tr>\n",
       "    <tr>\n",
       "      <th>2</th>\n",
       "      <td>1.51766</td>\n",
       "      <td>13.21</td>\n",
       "      <td>3.69</td>\n",
       "      <td>1.29</td>\n",
       "      <td>72.61</td>\n",
       "      <td>0.57</td>\n",
       "      <td>8.22</td>\n",
       "      <td>0.0</td>\n",
       "      <td>0.00</td>\n",
       "      <td>1</td>\n",
       "    </tr>\n",
       "    <tr>\n",
       "      <th>3</th>\n",
       "      <td>1.51742</td>\n",
       "      <td>13.27</td>\n",
       "      <td>3.62</td>\n",
       "      <td>1.24</td>\n",
       "      <td>73.08</td>\n",
       "      <td>0.55</td>\n",
       "      <td>8.07</td>\n",
       "      <td>0.0</td>\n",
       "      <td>0.00</td>\n",
       "      <td>1</td>\n",
       "    </tr>\n",
       "    <tr>\n",
       "      <th>4</th>\n",
       "      <td>1.51596</td>\n",
       "      <td>12.79</td>\n",
       "      <td>3.61</td>\n",
       "      <td>1.62</td>\n",
       "      <td>72.97</td>\n",
       "      <td>0.64</td>\n",
       "      <td>8.07</td>\n",
       "      <td>0.0</td>\n",
       "      <td>0.26</td>\n",
       "      <td>1</td>\n",
       "    </tr>\n",
       "  </tbody>\n",
       "</table>\n",
       "</div>"
      ],
      "text/plain": [
       "   1.52101  13.64  4.49  1.10  71.78  0.06  8.75  0.00  0.00.1  1.1\n",
       "0  1.51761  13.89  3.60  1.36  72.73  0.48  7.83   0.0    0.00    1\n",
       "1  1.51618  13.53  3.55  1.54  72.99  0.39  7.78   0.0    0.00    1\n",
       "2  1.51766  13.21  3.69  1.29  72.61  0.57  8.22   0.0    0.00    1\n",
       "3  1.51742  13.27  3.62  1.24  73.08  0.55  8.07   0.0    0.00    1\n",
       "4  1.51596  12.79  3.61  1.62  72.97  0.64  8.07   0.0    0.26    1"
      ]
     },
     "execution_count": 14,
     "metadata": {},
     "output_type": "execute_result"
    }
   ],
   "source": [
    "dt.head()   # drop the column 1"
   ]
  },
  {
   "cell_type": "code",
   "execution_count": 15,
   "id": "436e0e15",
   "metadata": {},
   "outputs": [
    {
     "data": {
      "text/plain": [
       "(213, 10)"
      ]
     },
     "execution_count": 15,
     "metadata": {},
     "output_type": "execute_result"
    }
   ],
   "source": [
    "dt.shape"
   ]
  },
  {
   "cell_type": "code",
   "execution_count": 16,
   "id": "25e74a19",
   "metadata": {},
   "outputs": [],
   "source": [
    "import matplotlib.pyplot as plt\n",
    "import seaborn as sns\n",
    "import warnings\n",
    "warnings.filterwarnings('ignore')"
   ]
  },
  {
   "cell_type": "code",
   "execution_count": 17,
   "id": "14e50b99",
   "metadata": {},
   "outputs": [
    {
     "data": {
      "image/png": "[encoded data removed]",
      "text/plain": [
       "<Figure size 720x864 with 10 Axes>"
      ]
     },
     "metadata": {
      "needs_background": "light"
     },
     "output_type": "display_data"
    }
   ],
   "source": [
    "# Cheking how distribute the data in dataset\n",
    "plt.figure(figsize=(10,12))\n",
    "plotnumber=1\n",
    "for column in dt:\n",
    "    if plotnumber<=10:\n",
    "        ax=plt.subplot(3,4,plotnumber)\n",
    "        sns.distplot(dt[column])\n",
    "        plt.xlabel(column, fontsize=10)\n",
    "        \n",
    "    plotnumber+=1\n",
    "plt.show()"
   ]
  },
  {
   "cell_type": "code",
   "execution_count": 18,
   "id": "443e9746",
   "metadata": {},
   "outputs": [],
   "source": [
    "# observation\n",
    "# 1. 1.521o1->data normal distributed range 1.51 to 1.53\n",
    "# 2. 13.64-> data normal distributed range 10.0 to 15.3\n",
    "# 3. 4.49-> data normal distributed\n",
    "# 4. 1.10-> data normal distributed range 0 to 4\n",
    "# 5. 71.78-> data normal distributed range 0 to 76\n",
    "#  6. 0.06-> data normal distributed range 0 to 2.5\n",
    "# 7. 8.75-> data normal distributed range 4 to 16\n",
    "# 8. 0.00-> data normal distributed range 0 to 2\n",
    "# 9. 0.001-> data normal distributed range 0 to 0.4\n",
    "# 10. 1.1-> this is lable\n"
   ]
  },
  {
   "cell_type": "code",
   "execution_count": 19,
   "id": "118bfa3b",
   "metadata": {},
   "outputs": [
    {
     "data": {
      "text/html": [
       "<div>\n",
       "<style scoped>\n",
       "    .dataframe tbody tr th:only-of-type {\n",
       "        vertical-align: middle;\n",
       "    }\n",
       "\n",
       "    .dataframe tbody tr th {\n",
       "        vertical-align: top;\n",
       "    }\n",
       "\n",
       "    .dataframe thead th {\n",
       "        text-align: right;\n",
       "    }\n",
       "</style>\n",
       "<table border=\"1\" class=\"dataframe\">\n",
       "  <thead>\n",
       "    <tr style=\"text-align: right;\">\n",
       "      <th></th>\n",
       "      <th>1.52101</th>\n",
       "      <th>13.64</th>\n",
       "      <th>4.49</th>\n",
       "      <th>1.10</th>\n",
       "      <th>71.78</th>\n",
       "      <th>0.06</th>\n",
       "      <th>8.75</th>\n",
       "      <th>0.00</th>\n",
       "      <th>0.00.1</th>\n",
       "      <th>1.1</th>\n",
       "    </tr>\n",
       "  </thead>\n",
       "  <tbody>\n",
       "    <tr>\n",
       "      <th>1.52101</th>\n",
       "      <td>1.000000</td>\n",
       "      <td>-0.193436</td>\n",
       "      <td>-0.128118</td>\n",
       "      <td>-0.405671</td>\n",
       "      <td>-0.540010</td>\n",
       "      <td>-0.287900</td>\n",
       "      <td>0.812495</td>\n",
       "      <td>0.001062</td>\n",
       "      <td>0.145791</td>\n",
       "      <td>-0.161322</td>\n",
       "    </tr>\n",
       "    <tr>\n",
       "      <th>13.64</th>\n",
       "      <td>-0.193436</td>\n",
       "      <td>1.000000</td>\n",
       "      <td>-0.276486</td>\n",
       "      <td>0.157928</td>\n",
       "      <td>-0.068519</td>\n",
       "      <td>-0.265520</td>\n",
       "      <td>-0.275314</td>\n",
       "      <td>0.327233</td>\n",
       "      <td>-0.240802</td>\n",
       "      <td>0.504983</td>\n",
       "    </tr>\n",
       "    <tr>\n",
       "      <th>4.49</th>\n",
       "      <td>-0.128118</td>\n",
       "      <td>-0.276486</td>\n",
       "      <td>1.000000</td>\n",
       "      <td>-0.480035</td>\n",
       "      <td>-0.160359</td>\n",
       "      <td>0.009397</td>\n",
       "      <td>-0.444559</td>\n",
       "      <td>-0.492149</td>\n",
       "      <td>0.086906</td>\n",
       "      <td>-0.744004</td>\n",
       "    </tr>\n",
       "    <tr>\n",
       "      <th>1.10</th>\n",
       "      <td>-0.405671</td>\n",
       "      <td>0.157928</td>\n",
       "      <td>-0.480035</td>\n",
       "      <td>1.000000</td>\n",
       "      <td>-0.009226</td>\n",
       "      <td>0.324484</td>\n",
       "      <td>-0.260372</td>\n",
       "      <td>0.478936</td>\n",
       "      <td>-0.076456</td>\n",
       "      <td>0.597754</td>\n",
       "    </tr>\n",
       "    <tr>\n",
       "      <th>71.78</th>\n",
       "      <td>-0.540010</td>\n",
       "      <td>-0.068519</td>\n",
       "      <td>-0.160359</td>\n",
       "      <td>-0.009226</td>\n",
       "      <td>1.000000</td>\n",
       "      <td>-0.197684</td>\n",
       "      <td>-0.210141</td>\n",
       "      <td>-0.104361</td>\n",
       "      <td>-0.097674</td>\n",
       "      <td>0.147767</td>\n",
       "    </tr>\n",
       "    <tr>\n",
       "      <th>0.06</th>\n",
       "      <td>-0.287900</td>\n",
       "      <td>-0.265520</td>\n",
       "      <td>0.009397</td>\n",
       "      <td>0.324484</td>\n",
       "      <td>-0.197684</td>\n",
       "      <td>1.000000</td>\n",
       "      <td>-0.318649</td>\n",
       "      <td>-0.043790</td>\n",
       "      <td>-0.009586</td>\n",
       "      <td>-0.012765</td>\n",
       "    </tr>\n",
       "    <tr>\n",
       "      <th>8.75</th>\n",
       "      <td>0.812495</td>\n",
       "      <td>-0.275314</td>\n",
       "      <td>-0.444559</td>\n",
       "      <td>-0.260372</td>\n",
       "      <td>-0.210141</td>\n",
       "      <td>-0.318649</td>\n",
       "      <td>1.000000</td>\n",
       "      <td>-0.113121</td>\n",
       "      <td>0.124674</td>\n",
       "      <td>0.000372</td>\n",
       "    </tr>\n",
       "    <tr>\n",
       "      <th>0.00</th>\n",
       "      <td>0.001062</td>\n",
       "      <td>0.327233</td>\n",
       "      <td>-0.492149</td>\n",
       "      <td>0.478936</td>\n",
       "      <td>-0.104361</td>\n",
       "      <td>-0.043790</td>\n",
       "      <td>-0.113121</td>\n",
       "      <td>1.000000</td>\n",
       "      <td>-0.059729</td>\n",
       "      <td>0.574896</td>\n",
       "    </tr>\n",
       "    <tr>\n",
       "      <th>0.00.1</th>\n",
       "      <td>0.145791</td>\n",
       "      <td>-0.240802</td>\n",
       "      <td>0.086906</td>\n",
       "      <td>-0.076456</td>\n",
       "      <td>-0.097674</td>\n",
       "      <td>-0.009586</td>\n",
       "      <td>0.124674</td>\n",
       "      <td>-0.059729</td>\n",
       "      <td>1.000000</td>\n",
       "      <td>-0.191090</td>\n",
       "    </tr>\n",
       "    <tr>\n",
       "      <th>1.1</th>\n",
       "      <td>-0.161322</td>\n",
       "      <td>0.504983</td>\n",
       "      <td>-0.744004</td>\n",
       "      <td>0.597754</td>\n",
       "      <td>0.147767</td>\n",
       "      <td>-0.012765</td>\n",
       "      <td>0.000372</td>\n",
       "      <td>0.574896</td>\n",
       "      <td>-0.191090</td>\n",
       "      <td>1.000000</td>\n",
       "    </tr>\n",
       "  </tbody>\n",
       "</table>\n",
       "</div>"
      ],
      "text/plain": [
       "          1.52101     13.64      4.49      1.10     71.78      0.06      8.75  \\\n",
       "1.52101  1.000000 -0.193436 -0.128118 -0.405671 -0.540010 -0.287900  0.812495   \n",
       "13.64   -0.193436  1.000000 -0.276486  0.157928 -0.068519 -0.265520 -0.275314   \n",
       "4.49    -0.128118 -0.276486  1.000000 -0.480035 -0.160359  0.009397 -0.444559   \n",
       "1.10    -0.405671  0.157928 -0.480035  1.000000 -0.009226  0.324484 -0.260372   \n",
       "71.78   -0.540010 -0.068519 -0.160359 -0.009226  1.000000 -0.197684 -0.210141   \n",
       "0.06    -0.287900 -0.265520  0.009397  0.324484 -0.197684  1.000000 -0.318649   \n",
       "8.75     0.812495 -0.275314 -0.444559 -0.260372 -0.210141 -0.318649  1.000000   \n",
       "0.00     0.001062  0.327233 -0.492149  0.478936 -0.104361 -0.043790 -0.113121   \n",
       "0.00.1   0.145791 -0.240802  0.086906 -0.076456 -0.097674 -0.009586  0.124674   \n",
       "1.1     -0.161322  0.504983 -0.744004  0.597754  0.147767 -0.012765  0.000372   \n",
       "\n",
       "             0.00    0.00.1       1.1  \n",
       "1.52101  0.001062  0.145791 -0.161322  \n",
       "13.64    0.327233 -0.240802  0.504983  \n",
       "4.49    -0.492149  0.086906 -0.744004  \n",
       "1.10     0.478936 -0.076456  0.597754  \n",
       "71.78   -0.104361 -0.097674  0.147767  \n",
       "0.06    -0.043790 -0.009586 -0.012765  \n",
       "8.75    -0.113121  0.124674  0.000372  \n",
       "0.00     1.000000 -0.059729  0.574896  \n",
       "0.00.1  -0.059729  1.000000 -0.191090  \n",
       "1.1      0.574896 -0.191090  1.000000  "
      ]
     },
     "execution_count": 19,
     "metadata": {},
     "output_type": "execute_result"
    }
   ],
   "source": [
    "# cheking Relationship between lable & feature\n",
    "dt.corr()"
   ]
  },
  {
   "cell_type": "code",
   "execution_count": 20,
   "id": "cae6ffc9",
   "metadata": {},
   "outputs": [
    {
     "data": {
      "image/png": "[encoded data removed]",
      "text/plain": [
       "<Figure size 1440x1440 with 2 Axes>"
      ]
     },
     "metadata": {
      "needs_background": "light"
     },
     "output_type": "display_data"
    }
   ],
   "source": [
    "plt.figure(figsize=(20,20))\n",
    "sns.heatmap(dt.corr(),annot=True)\n",
    "\n",
    "plt.savefig('correlation matrix.jpg')\n",
    "plt.show()"
   ]
  },
  {
   "cell_type": "code",
   "execution_count": 21,
   "id": "a74a6347",
   "metadata": {},
   "outputs": [],
   "source": [
    "# Observation \n",
    "# Relationship between lable & feature:\n",
    "# 1. 1.1 vs 1.52101-> relationship is (-)16%. its good bond\n",
    "# 2. 1.1 vs 13.64-> relationship is 50%. its strong bond\n",
    "# 3. 1.1 vs 4.49-> relationship is negetive 74 %. its strong bond\n",
    "# 4. 1.1 vs 1.10-> relationship is 60 %. its strong bond\n",
    "# 5. 1.1 vs 71.78-> relationship is 15%. its good bond\n",
    "# 6. 1.1 vs 0.06-> relationship is (-) 1.3%. its not good bond. but strong relation ship between 1.52101 and 8.75\n",
    "#  7. 1.1 vs 8.75-> relationship is 0.037%. its not good bond. we will going to drop 0.06\n",
    "# 8. 1.1 vs 0.00-> relationship is 57%. its strong bond\n",
    "# 9. 1.1 vs 0.001-> relationship is (-)19%. its good bond\n",
    "\n",
    "\n",
    "\n"
   ]
  },
  {
   "cell_type": "code",
   "execution_count": 22,
   "id": "a80c46f0",
   "metadata": {},
   "outputs": [],
   "source": [
    "# drop 0.06 column due to relation ship is not good with lable and with another feature\n",
    "dt=dt.drop(['0.06'],axis=1)"
   ]
  },
  {
   "cell_type": "code",
   "execution_count": 23,
   "id": "3da77989",
   "metadata": {},
   "outputs": [
    {
     "data": {
      "text/html": [
       "<div>\n",
       "<style scoped>\n",
       "    .dataframe tbody tr th:only-of-type {\n",
       "        vertical-align: middle;\n",
       "    }\n",
       "\n",
       "    .dataframe tbody tr th {\n",
       "        vertical-align: top;\n",
       "    }\n",
       "\n",
       "    .dataframe thead th {\n",
       "        text-align: right;\n",
       "    }\n",
       "</style>\n",
       "<table border=\"1\" class=\"dataframe\">\n",
       "  <thead>\n",
       "    <tr style=\"text-align: right;\">\n",
       "      <th></th>\n",
       "      <th>1.52101</th>\n",
       "      <th>13.64</th>\n",
       "      <th>4.49</th>\n",
       "      <th>1.10</th>\n",
       "      <th>71.78</th>\n",
       "      <th>8.75</th>\n",
       "      <th>0.00</th>\n",
       "      <th>0.00.1</th>\n",
       "      <th>1.1</th>\n",
       "    </tr>\n",
       "  </thead>\n",
       "  <tbody>\n",
       "    <tr>\n",
       "      <th>0</th>\n",
       "      <td>1.51761</td>\n",
       "      <td>13.89</td>\n",
       "      <td>3.60</td>\n",
       "      <td>1.36</td>\n",
       "      <td>72.73</td>\n",
       "      <td>7.83</td>\n",
       "      <td>0.0</td>\n",
       "      <td>0.00</td>\n",
       "      <td>1</td>\n",
       "    </tr>\n",
       "    <tr>\n",
       "      <th>1</th>\n",
       "      <td>1.51618</td>\n",
       "      <td>13.53</td>\n",
       "      <td>3.55</td>\n",
       "      <td>1.54</td>\n",
       "      <td>72.99</td>\n",
       "      <td>7.78</td>\n",
       "      <td>0.0</td>\n",
       "      <td>0.00</td>\n",
       "      <td>1</td>\n",
       "    </tr>\n",
       "    <tr>\n",
       "      <th>2</th>\n",
       "      <td>1.51766</td>\n",
       "      <td>13.21</td>\n",
       "      <td>3.69</td>\n",
       "      <td>1.29</td>\n",
       "      <td>72.61</td>\n",
       "      <td>8.22</td>\n",
       "      <td>0.0</td>\n",
       "      <td>0.00</td>\n",
       "      <td>1</td>\n",
       "    </tr>\n",
       "    <tr>\n",
       "      <th>3</th>\n",
       "      <td>1.51742</td>\n",
       "      <td>13.27</td>\n",
       "      <td>3.62</td>\n",
       "      <td>1.24</td>\n",
       "      <td>73.08</td>\n",
       "      <td>8.07</td>\n",
       "      <td>0.0</td>\n",
       "      <td>0.00</td>\n",
       "      <td>1</td>\n",
       "    </tr>\n",
       "    <tr>\n",
       "      <th>4</th>\n",
       "      <td>1.51596</td>\n",
       "      <td>12.79</td>\n",
       "      <td>3.61</td>\n",
       "      <td>1.62</td>\n",
       "      <td>72.97</td>\n",
       "      <td>8.07</td>\n",
       "      <td>0.0</td>\n",
       "      <td>0.26</td>\n",
       "      <td>1</td>\n",
       "    </tr>\n",
       "  </tbody>\n",
       "</table>\n",
       "</div>"
      ],
      "text/plain": [
       "   1.52101  13.64  4.49  1.10  71.78  8.75  0.00  0.00.1  1.1\n",
       "0  1.51761  13.89  3.60  1.36  72.73  7.83   0.0    0.00    1\n",
       "1  1.51618  13.53  3.55  1.54  72.99  7.78   0.0    0.00    1\n",
       "2  1.51766  13.21  3.69  1.29  72.61  8.22   0.0    0.00    1\n",
       "3  1.51742  13.27  3.62  1.24  73.08  8.07   0.0    0.00    1\n",
       "4  1.51596  12.79  3.61  1.62  72.97  8.07   0.0    0.26    1"
      ]
     },
     "execution_count": 23,
     "metadata": {},
     "output_type": "execute_result"
    }
   ],
   "source": [
    "dt.head() # check column droped or not\n"
   ]
  },
  {
   "cell_type": "code",
   "execution_count": 24,
   "id": "f140e6c5",
   "metadata": {},
   "outputs": [],
   "source": [
    "# check outlier in data set"
   ]
  },
  {
   "cell_type": "code",
   "execution_count": 25,
   "id": "1d7d3f34",
   "metadata": {},
   "outputs": [
    {
     "data": {
      "image/png": "[encoded data removed]",
      "text/plain": [
       "<Figure size 720x864 with 9 Axes>"
      ]
     },
     "metadata": {
      "needs_background": "light"
     },
     "output_type": "display_data"
    }
   ],
   "source": [
    "plt.figure(figsize=(10,12))\n",
    "plotnumber=1\n",
    "for column in dt:\n",
    "    if plotnumber<=10:\n",
    "        ax=plt.subplot(3,4,plotnumber)\n",
    "        sns.boxplot(dt[column])\n",
    "        plt.xlabel(column, fontsize=10)\n",
    "        \n",
    "    plotnumber+=1\n",
    "plt.show()"
   ]
  },
  {
   "cell_type": "code",
   "execution_count": 26,
   "id": "eb16e92d",
   "metadata": {},
   "outputs": [],
   "source": [
    "# Observation\n",
    "# Every column has outlier"
   ]
  },
  {
   "cell_type": "code",
   "execution_count": 27,
   "id": "f969fe18",
   "metadata": {},
   "outputs": [],
   "source": [
    "#  we are going to drop the outlier using quantile technique"
   ]
  },
  {
   "cell_type": "code",
   "execution_count": 28,
   "id": "d79b15fb",
   "metadata": {},
   "outputs": [],
   "source": [
    "q3=dt.quantile(.75)\n",
    "q1=dt.quantile(.25)\n",
    "iqr=q3-q1"
   ]
  },
  {
   "cell_type": "code",
   "execution_count": 29,
   "id": "e573d3da",
   "metadata": {},
   "outputs": [
    {
     "name": "stdout",
     "output_type": "stream",
     "text": [
      "     1.52101\n",
      "0    1.51761\n",
      "1    1.51618\n",
      "2    1.51766\n",
      "3    1.51742\n",
      "4    1.51596\n",
      "..       ...\n",
      "208  1.51623\n",
      "209  1.51685\n",
      "210  1.52065\n",
      "211  1.51651\n",
      "212  1.51711\n",
      "\n",
      "[213 rows x 1 columns]\n"
     ]
    }
   ],
   "source": [
    "print(dt.iloc[:,0:1])"
   ]
  },
  {
   "cell_type": "code",
   "execution_count": 30,
   "id": "556dd589",
   "metadata": {},
   "outputs": [
    {
     "data": {
      "text/plain": [
       "(199, 9)"
      ]
     },
     "execution_count": 30,
     "metadata": {},
     "output_type": "execute_result"
    }
   ],
   "source": [
    "higher_1=q3.iloc[0]+(1.5*iqr.iloc[0])\n",
    "index=np.where(dt['1.52101']>higher_1)\n",
    "dt=dt.drop(dt.index[index])\n",
    "dt.shape"
   ]
  },
  {
   "cell_type": "code",
   "execution_count": 31,
   "id": "55654ca2",
   "metadata": {},
   "outputs": [
    {
     "data": {
      "text/plain": [
       "(196, 9)"
      ]
     },
     "execution_count": 31,
     "metadata": {},
     "output_type": "execute_result"
    }
   ],
   "source": [
    "Lower_1=q1.iloc[0]-(1.5*iqr.iloc[0])\n",
    "index=np.where(dt['1.52101']<Lower_1)\n",
    "dt=dt.drop(dt.index[index])\n",
    "dt.shape"
   ]
  },
  {
   "cell_type": "code",
   "execution_count": 32,
   "id": "77d82a62",
   "metadata": {},
   "outputs": [
    {
     "data": {
      "text/plain": [
       "(196, 9)"
      ]
     },
     "execution_count": 32,
     "metadata": {},
     "output_type": "execute_result"
    }
   ],
   "source": [
    "higher_2=q3.iloc[1]+(1.5*iqr.iloc[1])\n",
    "index=np.where(dt['13.64']>higher_2)\n",
    "dt=dt.drop(dt.index[index])\n",
    "dt.shape"
   ]
  },
  {
   "cell_type": "code",
   "execution_count": 33,
   "id": "7b718c39",
   "metadata": {},
   "outputs": [
    {
     "data": {
      "text/plain": [
       "(195, 9)"
      ]
     },
     "execution_count": 33,
     "metadata": {},
     "output_type": "execute_result"
    }
   ],
   "source": [
    "Lower_2=q1.iloc[1]-(1.5*iqr.iloc[1])\n",
    "index=np.where(dt['13.64']<Lower_2)\n",
    "dt=dt.drop(dt.index[index])\n",
    "dt.shape"
   ]
  },
  {
   "cell_type": "code",
   "execution_count": 34,
   "id": "fb1357e5",
   "metadata": {},
   "outputs": [
    {
     "data": {
      "text/plain": [
       "(182, 9)"
      ]
     },
     "execution_count": 34,
     "metadata": {},
     "output_type": "execute_result"
    }
   ],
   "source": [
    "higher_3=q3.iloc[3]+(1.5*iqr.iloc[3])\n",
    "index=np.where(dt['1.10']>higher_3)\n",
    "dt=dt.drop(dt.index[index])\n",
    "dt.shape"
   ]
  },
  {
   "cell_type": "code",
   "execution_count": 35,
   "id": "c0678ec1",
   "metadata": {},
   "outputs": [
    {
     "data": {
      "text/plain": [
       "(179, 9)"
      ]
     },
     "execution_count": 35,
     "metadata": {},
     "output_type": "execute_result"
    }
   ],
   "source": [
    "Lower_3=q1.iloc[3]-(1.5*iqr.iloc[3])\n",
    "index=np.where(dt['1.10']<Lower_3)\n",
    "dt=dt.drop(dt.index[index])\n",
    "dt.shape"
   ]
  },
  {
   "cell_type": "code",
   "execution_count": 36,
   "id": "84ba563b",
   "metadata": {},
   "outputs": [
    {
     "data": {
      "text/plain": [
       "(176, 9)"
      ]
     },
     "execution_count": 36,
     "metadata": {},
     "output_type": "execute_result"
    }
   ],
   "source": [
    "higher_4=q3.iloc[4]+(1.5*iqr.iloc[4])\n",
    "index=np.where(dt['71.78']>higher_4)\n",
    "dt=dt.drop(dt.index[index])\n",
    "dt.shape"
   ]
  },
  {
   "cell_type": "code",
   "execution_count": 37,
   "id": "9019b7d8",
   "metadata": {},
   "outputs": [
    {
     "data": {
      "text/plain": [
       "(175, 9)"
      ]
     },
     "execution_count": 37,
     "metadata": {},
     "output_type": "execute_result"
    }
   ],
   "source": [
    "Lower_4=q1.iloc[4]-(1.5*iqr.iloc[4])\n",
    "index=np.where(dt['71.78']<Lower_4)\n",
    "dt=dt.drop(dt.index[index])\n",
    "dt.shape"
   ]
  },
  {
   "cell_type": "code",
   "execution_count": 38,
   "id": "84d415ff",
   "metadata": {},
   "outputs": [
    {
     "data": {
      "text/plain": [
       "(166, 9)"
      ]
     },
     "execution_count": 38,
     "metadata": {},
     "output_type": "execute_result"
    }
   ],
   "source": [
    "higher_5=q3.iloc[5]+(1.5*iqr.iloc[5])\n",
    "index=np.where(dt['8.75']>higher_5)\n",
    "dt=dt.drop(dt.index[index])\n",
    "dt.shape"
   ]
  },
  {
   "cell_type": "code",
   "execution_count": 39,
   "id": "e597859f",
   "metadata": {},
   "outputs": [
    {
     "data": {
      "text/plain": [
       "(164, 9)"
      ]
     },
     "execution_count": 39,
     "metadata": {},
     "output_type": "execute_result"
    }
   ],
   "source": [
    "Lower_5=q1.iloc[5]-(1.5*iqr.iloc[5])\n",
    "index=np.where(dt['8.75']<Lower_5)\n",
    "dt=dt.drop(dt.index[index])\n",
    "dt.shape"
   ]
  },
  {
   "cell_type": "code",
   "execution_count": 40,
   "id": "05cded83",
   "metadata": {},
   "outputs": [
    {
     "data": {
      "text/plain": [
       "(142, 9)"
      ]
     },
     "execution_count": 40,
     "metadata": {},
     "output_type": "execute_result"
    }
   ],
   "source": [
    "higher_6=q3.iloc[6]+(1.5*iqr.iloc[6])\n",
    "index=np.where(dt['0.00']>higher_6)\n",
    "dt=dt.drop(dt.index[index])\n",
    "dt.shape"
   ]
  },
  {
   "cell_type": "code",
   "execution_count": 41,
   "id": "80ef95bf",
   "metadata": {},
   "outputs": [
    {
     "data": {
      "text/plain": [
       "(142, 9)"
      ]
     },
     "execution_count": 41,
     "metadata": {},
     "output_type": "execute_result"
    }
   ],
   "source": [
    "Lower_6=q1.iloc[6]-(1.5*iqr.iloc[6])\n",
    "index=np.where(dt['0.00']<Lower_6)\n",
    "dt=dt.drop(dt.index[index])\n",
    "dt.shape"
   ]
  },
  {
   "cell_type": "code",
   "execution_count": 42,
   "id": "def0d022",
   "metadata": {},
   "outputs": [
    {
     "data": {
      "text/plain": [
       "(135, 9)"
      ]
     },
     "execution_count": 42,
     "metadata": {},
     "output_type": "execute_result"
    }
   ],
   "source": [
    "higher_7=q3.iloc[7]+(1.5*iqr.iloc[7])\n",
    "index=np.where(dt['0.00.1']>higher_7)\n",
    "dt=dt.drop(dt.index[index])\n",
    "dt.shape"
   ]
  },
  {
   "cell_type": "code",
   "execution_count": 43,
   "id": "ec95aeea",
   "metadata": {},
   "outputs": [
    {
     "data": {
      "text/plain": [
       "(135, 9)"
      ]
     },
     "execution_count": 43,
     "metadata": {},
     "output_type": "execute_result"
    }
   ],
   "source": [
    "higher_8=q3.iloc[8]+(1.5*iqr.iloc[8])\n",
    "index=np.where(dt['1.1']>higher_8)\n",
    "dt=dt.drop(dt.index[index])\n",
    "dt.shape"
   ]
  },
  {
   "cell_type": "code",
   "execution_count": null,
   "id": "96bebabd",
   "metadata": {},
   "outputs": [],
   "source": []
  },
  {
   "cell_type": "code",
   "execution_count": 44,
   "id": "38fe64fa",
   "metadata": {},
   "outputs": [],
   "source": [
    "# ckecking data afterdrop the outlier"
   ]
  },
  {
   "cell_type": "code",
   "execution_count": 45,
   "id": "cad09432",
   "metadata": {},
   "outputs": [
    {
     "data": {
      "image/png": "[encoded data removed]",
      "text/plain": [
       "<Figure size 720x864 with 9 Axes>"
      ]
     },
     "metadata": {
      "needs_background": "light"
     },
     "output_type": "display_data"
    }
   ],
   "source": [
    "plt.figure(figsize=(10,12))\n",
    "plotnumber=1\n",
    "for column in dt:\n",
    "    if plotnumber<=10:\n",
    "        ax=plt.subplot(3,4,plotnumber)\n",
    "        sns.boxplot(dt[column])\n",
    "        plt.xlabel(column, fontsize=10)\n",
    "        \n",
    "    plotnumber+=1\n",
    "plt.show()"
   ]
  },
  {
   "cell_type": "code",
   "execution_count": 46,
   "id": "6c1ca619",
   "metadata": {},
   "outputs": [
    {
     "data": {
      "text/plain": [
       "1.52101    1.083772\n",
       "13.64      0.860978\n",
       "4.49      -3.554433\n",
       "1.10      -0.115815\n",
       "71.78     -0.486239\n",
       "8.75       0.810320\n",
       "0.00       0.000000\n",
       "0.00.1     1.383949\n",
       "1.1        2.115491\n",
       "dtype: float64"
      ]
     },
     "execution_count": 46,
     "metadata": {},
     "output_type": "execute_result"
    }
   ],
   "source": [
    "# cheking skewness\n",
    "dt.skew()"
   ]
  },
  {
   "cell_type": "code",
   "execution_count": 47,
   "id": "3f3cc136",
   "metadata": {},
   "outputs": [],
   "source": [
    "x=dt.drop(['1.1'],axis=1)\n",
    "y=dt['1.1']"
   ]
  },
  {
   "cell_type": "code",
   "execution_count": 48,
   "id": "52189007",
   "metadata": {},
   "outputs": [],
   "source": [
    "# minimize skewness using powerTransformer \n",
    "from sklearn.preprocessing import PowerTransformer\n",
    "pt=PowerTransformer()\n"
   ]
  },
  {
   "cell_type": "code",
   "execution_count": 49,
   "id": "6a145d2d",
   "metadata": {},
   "outputs": [
    {
     "data": {
      "text/plain": [
       "1.52101    1.029884\n",
       "13.64     -0.019920\n",
       "4.49      -0.432503\n",
       "1.10       0.017101\n",
       "71.78      0.000474\n",
       "8.75      -0.014992\n",
       "0.00       0.000000\n",
       "0.00.1     0.916259\n",
       "dtype: float64"
      ]
     },
     "execution_count": 49,
     "metadata": {},
     "output_type": "execute_result"
    }
   ],
   "source": [
    "x_new=pt.fit_transform(x)\n",
    "x=pd.DataFrame(x_new,columns=x.columns)\n",
    "x.skew()"
   ]
  },
  {
   "cell_type": "code",
   "execution_count": 51,
   "id": "2606c15c",
   "metadata": {},
   "outputs": [],
   "source": [
    "# observation\n",
    "#  Minimize the skewness."
   ]
  },
  {
   "cell_type": "markdown",
   "id": "2d5a4d7f",
   "metadata": {},
   "source": [
    "### create model"
   ]
  },
  {
   "cell_type": "code",
   "execution_count": 66,
   "id": "a544be12",
   "metadata": {},
   "outputs": [],
   "source": [
    "from sklearn.preprocessing import StandardScaler\n",
    "from sklearn.model_selection import train_test_split\n",
    "from sklearn.linear_model import LinearRegression, LogisticRegression\n",
    "from sklearn.metrics import r2_score,accuracy_score,confusion_matrix\n"
   ]
  },
  {
   "cell_type": "code",
   "execution_count": 59,
   "id": "9f2a6af8",
   "metadata": {},
   "outputs": [
    {
     "data": {
      "text/plain": [
       "array([[-0.12500014,  1.33024485,  0.32873517, ..., -1.44206532,\n",
       "         0.        , -0.65390496],\n",
       "       [-0.98693249,  0.71607579,  0.11945173, ..., -1.56419427,\n",
       "         0.        , -0.65390496],\n",
       "       [-0.09806476,  0.07088512,  0.74250472, ..., -0.58467609,\n",
       "         0.        , -0.65390496],\n",
       "       ...,\n",
       "       [ 0.27903065,  2.110103  , -2.22640971, ...,  1.07291351,\n",
       "         0.        , -0.65390496],\n",
       "       [ 0.41370758,  1.62808435, -2.25025852, ...,  1.14744017,\n",
       "         0.        , -0.65390496],\n",
       "       [ 0.62470143,  2.67180026, -2.44969646, ...,  1.82791914,\n",
       "         0.        , -0.65390496]])"
      ]
     },
     "execution_count": 59,
     "metadata": {},
     "output_type": "execute_result"
    }
   ],
   "source": [
    "# Standarize the data\n",
    "scaler=StandardScaler()\n",
    "x_scaler=scaler.fit_transform(x)\n",
    "x_scaler\n"
   ]
  },
  {
   "cell_type": "code",
   "execution_count": 62,
   "id": "e345968a",
   "metadata": {},
   "outputs": [
    {
     "name": "stdout",
     "output_type": "stream",
     "text": [
      "r2 Score:> 0.2864932666427379\n"
     ]
    }
   ],
   "source": [
    "# Model LinearRegaryion\n",
    "\n",
    "x_train,x_test,y_train,y_test=train_test_split(x_scaler,y,test_size=0.25,random_state=22)\n",
    "lm=LinearRegression()\n",
    "lm.fit(x_train,y_train)\n",
    "pred_lm=lm.predict(x_test)\n",
    "score=r2_score(y_test,pred_lm)\n",
    "print('r2 Score:>',score)"
   ]
  },
  {
   "cell_type": "code",
   "execution_count": 64,
   "id": "d9326679",
   "metadata": {},
   "outputs": [
    {
     "name": "stdout",
     "output_type": "stream",
     "text": [
      "r2 Score:> 0.2598314606741572\n"
     ]
    }
   ],
   "source": [
    "# Model Logistic Regrations\n",
    "x_train,x_test,y_train,y_test=train_test_split(x_scaler,y,test_size=0.25,random_state=22)\n",
    "lr=LogisticRegression()\n",
    "lr.fit(x_train,y_train)\n",
    "pred_lr=lr.predict(x_test)\n",
    "score=r2_score(y_test,pred_lr)\n",
    "print('r2 Score:>',score)"
   ]
  },
  {
   "cell_type": "code",
   "execution_count": 67,
   "id": "0c2cf4a4",
   "metadata": {},
   "outputs": [
    {
     "data": {
      "text/plain": [
       "0.7058823529411765"
      ]
     },
     "execution_count": 67,
     "metadata": {},
     "output_type": "execute_result"
    }
   ],
   "source": [
    "accuracy=accuracy_score(y_test,pred_lr)  # model accuracy score is 71%\n",
    "accuracy"
   ]
  },
  {
   "cell_type": "code",
   "execution_count": 68,
   "id": "0d9bc33c",
   "metadata": {},
   "outputs": [],
   "source": [
    "con_mat=confusion_matrix(y_test,pred_lr)"
   ]
  },
  {
   "cell_type": "code",
   "execution_count": 69,
   "id": "98ea8271",
   "metadata": {},
   "outputs": [
    {
     "data": {
      "text/plain": [
       "array([[11,  1,  1,  0,  0],\n",
       "       [ 5, 10,  0,  0,  0],\n",
       "       [ 1,  1,  2,  0,  0],\n",
       "       [ 1,  0,  0,  0,  0],\n",
       "       [ 0,  0,  0,  0,  1]], dtype=int64)"
      ]
     },
     "execution_count": 69,
     "metadata": {},
     "output_type": "execute_result"
    }
   ],
   "source": [
    "con_mat"
   ]
  },
  {
   "cell_type": "code",
   "execution_count": 70,
   "id": "a640a260",
   "metadata": {},
   "outputs": [],
   "source": [
    "# Cheking Clasification score\n",
    "from sklearn.metrics import classification_report"
   ]
  },
  {
   "cell_type": "code",
   "execution_count": 73,
   "id": "93540e54",
   "metadata": {},
   "outputs": [
    {
     "name": "stdout",
     "output_type": "stream",
     "text": [
      "              precision    recall  f1-score   support\n",
      "\n",
      "           1       0.61      0.85      0.71        13\n",
      "           2       0.83      0.67      0.74        15\n",
      "           3       0.67      0.50      0.57         4\n",
      "           5       0.00      0.00      0.00         1\n",
      "           6       1.00      1.00      1.00         1\n",
      "\n",
      "    accuracy                           0.71        34\n",
      "   macro avg       0.62      0.60      0.60        34\n",
      "weighted avg       0.71      0.71      0.69        34\n",
      "\n"
     ]
    }
   ],
   "source": [
    "print(classification_report(y_test,pred_lr))"
   ]
  },
  {
   "cell_type": "code",
   "execution_count": 74,
   "id": "f6bf2261",
   "metadata": {},
   "outputs": [],
   "source": [
    "# accuracy score is 71%\n",
    "# LogisticsRegretion Model is 71% good"
   ]
  },
  {
   "cell_type": "code",
   "execution_count": 75,
   "id": "7f3adb8f",
   "metadata": {},
   "outputs": [],
   "source": [
    "# cheking model overfitting using cross validation\n",
    "from sklearn.model_selection import cross_val_score"
   ]
  },
  {
   "cell_type": "code",
   "execution_count": 76,
   "id": "92951672",
   "metadata": {},
   "outputs": [
    {
     "data": {
      "text/plain": [
       "0.6740740740740739"
      ]
     },
     "execution_count": 76,
     "metadata": {},
     "output_type": "execute_result"
    }
   ],
   "source": [
    "cross_val_score(lr,x_scaler,y,cv=5).mean()"
   ]
  },
  {
   "cell_type": "code",
   "execution_count": 77,
   "id": "11ef046b",
   "metadata": {},
   "outputs": [],
   "source": [
    "# Model improvement using Hyperparameter tuning\n",
    "from sklearn.model_selection import GridSearchCV"
   ]
  },
  {
   "cell_type": "code",
   "execution_count": null,
   "id": "bc98337c",
   "metadata": {},
   "outputs": [],
   "source": [
    "# Create RandomForest Model"
   ]
  },
  {
   "cell_type": "code",
   "execution_count": 78,
   "id": "ff33281e",
   "metadata": {},
   "outputs": [],
   "source": [
    "from sklearn.ensemble import RandomForestClassifier,RandomForestRegressor"
   ]
  },
  {
   "cell_type": "code",
   "execution_count": 79,
   "id": "08c8d546",
   "metadata": {},
   "outputs": [],
   "source": [
    "rf=RandomForestClassifier()"
   ]
  },
  {
   "cell_type": "code",
   "execution_count": 80,
   "id": "82ea8a47",
   "metadata": {},
   "outputs": [
    {
     "data": {
      "text/plain": [
       "0.6470588235294118"
      ]
     },
     "execution_count": 80,
     "metadata": {},
     "output_type": "execute_result"
    }
   ],
   "source": [
    "rf.fit(x_train,y_train)   # train the data\n",
    "pred_rf=rf.predict(x_test) # predict test data\n",
    "accuracy=accuracy_score(y_test,pred_rf)   # check accuracy score\n",
    "accuracy  # Accuracy score is 65 %"
   ]
  },
  {
   "cell_type": "code",
   "execution_count": 82,
   "id": "4ed55cfe",
   "metadata": {},
   "outputs": [
    {
     "name": "stdout",
     "output_type": "stream",
     "text": [
      "              precision    recall  f1-score   support\n",
      "\n",
      "           1       0.62      0.62      0.62        13\n",
      "           2       0.80      0.80      0.80        15\n",
      "           3       0.25      0.25      0.25         4\n",
      "           5       0.00      0.00      0.00         1\n",
      "           6       0.50      1.00      0.67         1\n",
      "\n",
      "    accuracy                           0.65        34\n",
      "   macro avg       0.43      0.53      0.47        34\n",
      "weighted avg       0.63      0.65      0.64        34\n",
      "\n"
     ]
    }
   ],
   "source": [
    "print(classification_report(y_test,pred_rf))"
   ]
  },
  {
   "cell_type": "code",
   "execution_count": 83,
   "id": "4a32f073",
   "metadata": {},
   "outputs": [],
   "source": [
    "# Model improvement using Hyperparameter tuning\n",
    "params={'n_estimators':[13,14,15,16,17,18],\n",
    "       'criterion':['entropy','gini'],\n",
    "       'max_depth':[10,20],\n",
    "       'min_samples_split':[10,15],\n",
    "       'min_samples_leaf':[5,6]}"
   ]
  },
  {
   "cell_type": "code",
   "execution_count": 84,
   "id": "4d2eaf16",
   "metadata": {},
   "outputs": [
    {
     "name": "stdout",
     "output_type": "stream",
     "text": [
      "best parameters  RandomForestClassifier(max_depth=20, min_samples_leaf=5, min_samples_split=10,\n",
      "                       n_estimators=16)\n"
     ]
    }
   ],
   "source": [
    "grd=GridSearchCV(rf,param_grid=params)\n",
    "grd.fit(x_train,y_train)\n",
    "print ('best parameters ',grd.best_estimator_)"
   ]
  },
  {
   "cell_type": "code",
   "execution_count": 85,
   "id": "47b650ae",
   "metadata": {},
   "outputs": [],
   "source": [
    "rf=RandomForestClassifier(max_depth=20, min_samples_leaf=5, min_samples_split=10,n_estimators=16)"
   ]
  },
  {
   "cell_type": "code",
   "execution_count": 86,
   "id": "811cc011",
   "metadata": {},
   "outputs": [
    {
     "data": {
      "text/plain": [
       "0.6470588235294118"
      ]
     },
     "execution_count": 86,
     "metadata": {},
     "output_type": "execute_result"
    }
   ],
   "source": [
    "rf.fit(x_train,y_train)   # train the data\n",
    "pred_rf=rf.predict(x_test) # predict test data\n",
    "accuracy=accuracy_score(y_test,pred_rf)   # check accuracy score\n",
    "accuracy  # Accuracy score is 65 %"
   ]
  },
  {
   "cell_type": "code",
   "execution_count": 87,
   "id": "c3af9445",
   "metadata": {},
   "outputs": [
    {
     "data": {
      "text/plain": [
       "0.674074074074074"
      ]
     },
     "execution_count": 87,
     "metadata": {},
     "output_type": "execute_result"
    }
   ],
   "source": [
    "cross_val_score(rf,x_scaler,y,cv=5).mean()"
   ]
  },
  {
   "cell_type": "code",
   "execution_count": 88,
   "id": "610f808a",
   "metadata": {},
   "outputs": [],
   "source": [
    "# RandomforestCllasifier model is 65% good\n"
   ]
  },
  {
   "cell_type": "code",
   "execution_count": 89,
   "id": "fc7e682d",
   "metadata": {},
   "outputs": [],
   "source": [
    "# As per model, LogisticRegression is best model"
   ]
  },
  {
   "cell_type": "code",
   "execution_count": 90,
   "id": "7baff5e2",
   "metadata": {},
   "outputs": [],
   "source": [
    "# save the model\n",
    "import pickle"
   ]
  },
  {
   "cell_type": "code",
   "execution_count": 91,
   "id": "44a803bc",
   "metadata": {},
   "outputs": [],
   "source": [
    "pickle.dump(lr,open('LogisticRegression_model','wb'))"
   ]
  },
  {
   "cell_type": "code",
   "execution_count": null,
   "id": "5b17dde4",
   "metadata": {},
   "outputs": [],
   "source": []
  }
 ],
 "metadata": {
  "kernelspec": {
   "display_name": "Python 3 (ipykernel)",
   "language": "python",
   "name": "python3"
  },
  "language_info": {
   "codemirror_mode": {
    "name": "ipython",
    "version": 3
   },
   "file_extension": ".py",
   "mimetype": "text/x-python",
   "name": "python",
   "nbconvert_exporter": "python",
   "pygments_lexer": "ipython3",
   "version": "3.9.12"
  }
 },
 "nbformat": 4,
 "nbformat_minor": 5
}
