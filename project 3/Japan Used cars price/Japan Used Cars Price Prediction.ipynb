{
 "cells": [
  {
   "cell_type": "code",
   "execution_count": 1,
   "id": "03cf778b",
   "metadata": {},
   "outputs": [],
   "source": [
    "import numpy as np\n",
    "import pandas as pd"
   ]
  },
  {
   "cell_type": "code",
   "execution_count": 2,
   "id": "5b00ecee",
   "metadata": {},
   "outputs": [],
   "source": [
    "data=pd.read_csv('https://raw.githubusercontent.com/dsrscientist/dataset4/main/Japan_used_cars_datasets.csv')\n"
   ]
  },
  {
   "cell_type": "code",
   "execution_count": 3,
   "id": "127ad77a",
   "metadata": {},
   "outputs": [
    {
     "data": {
      "text/html": [
       "<div>\n",
       "<style scoped>\n",
       "    .dataframe tbody tr th:only-of-type {\n",
       "        vertical-align: middle;\n",
       "    }\n",
       "\n",
       "    .dataframe tbody tr th {\n",
       "        vertical-align: top;\n",
       "    }\n",
       "\n",
       "    .dataframe thead th {\n",
       "        text-align: right;\n",
       "    }\n",
       "</style>\n",
       "<table border=\"1\" class=\"dataframe\">\n",
       "  <thead>\n",
       "    <tr style=\"text-align: right;\">\n",
       "      <th></th>\n",
       "      <th>id</th>\n",
       "      <th>price</th>\n",
       "      <th>mark</th>\n",
       "      <th>model</th>\n",
       "      <th>year</th>\n",
       "      <th>mileage</th>\n",
       "      <th>engine_capacity</th>\n",
       "      <th>transmission</th>\n",
       "      <th>drive</th>\n",
       "      <th>hand_drive</th>\n",
       "      <th>fuel</th>\n",
       "    </tr>\n",
       "  </thead>\n",
       "  <tbody>\n",
       "    <tr>\n",
       "      <th>0</th>\n",
       "      <td>0</td>\n",
       "      <td>80</td>\n",
       "      <td>nissan</td>\n",
       "      <td>march</td>\n",
       "      <td>2003</td>\n",
       "      <td>80000</td>\n",
       "      <td>1240</td>\n",
       "      <td>at</td>\n",
       "      <td>2wd</td>\n",
       "      <td>rhd</td>\n",
       "      <td>gasoline</td>\n",
       "    </tr>\n",
       "    <tr>\n",
       "      <th>1</th>\n",
       "      <td>1</td>\n",
       "      <td>110</td>\n",
       "      <td>nissan</td>\n",
       "      <td>march</td>\n",
       "      <td>2010</td>\n",
       "      <td>53000</td>\n",
       "      <td>1200</td>\n",
       "      <td>at</td>\n",
       "      <td>2wd</td>\n",
       "      <td>rhd</td>\n",
       "      <td>gasoline</td>\n",
       "    </tr>\n",
       "    <tr>\n",
       "      <th>2</th>\n",
       "      <td>2</td>\n",
       "      <td>165</td>\n",
       "      <td>nissan</td>\n",
       "      <td>lafesta</td>\n",
       "      <td>2005</td>\n",
       "      <td>47690</td>\n",
       "      <td>2000</td>\n",
       "      <td>at</td>\n",
       "      <td>2wd</td>\n",
       "      <td>rhd</td>\n",
       "      <td>gasoline</td>\n",
       "    </tr>\n",
       "    <tr>\n",
       "      <th>3</th>\n",
       "      <td>3</td>\n",
       "      <td>190</td>\n",
       "      <td>toyota</td>\n",
       "      <td>avensis</td>\n",
       "      <td>2008</td>\n",
       "      <td>130661</td>\n",
       "      <td>1990</td>\n",
       "      <td>at</td>\n",
       "      <td>2wd</td>\n",
       "      <td>rhd</td>\n",
       "      <td>gasoline</td>\n",
       "    </tr>\n",
       "    <tr>\n",
       "      <th>4</th>\n",
       "      <td>4</td>\n",
       "      <td>190</td>\n",
       "      <td>daihatsu</td>\n",
       "      <td>mira</td>\n",
       "      <td>2006</td>\n",
       "      <td>66300</td>\n",
       "      <td>660</td>\n",
       "      <td>at</td>\n",
       "      <td>2wd</td>\n",
       "      <td>rhd</td>\n",
       "      <td>gasoline</td>\n",
       "    </tr>\n",
       "  </tbody>\n",
       "</table>\n",
       "</div>"
      ],
      "text/plain": [
       "   id  price      mark    model  year  mileage  engine_capacity transmission  \\\n",
       "0   0     80    nissan    march  2003    80000             1240           at   \n",
       "1   1    110    nissan    march  2010    53000             1200           at   \n",
       "2   2    165    nissan  lafesta  2005    47690             2000           at   \n",
       "3   3    190    toyota  avensis  2008   130661             1990           at   \n",
       "4   4    190  daihatsu     mira  2006    66300              660           at   \n",
       "\n",
       "  drive hand_drive      fuel  \n",
       "0   2wd        rhd  gasoline  \n",
       "1   2wd        rhd  gasoline  \n",
       "2   2wd        rhd  gasoline  \n",
       "3   2wd        rhd  gasoline  \n",
       "4   2wd        rhd  gasoline  "
      ]
     },
     "execution_count": 3,
     "metadata": {},
     "output_type": "execute_result"
    }
   ],
   "source": [
    "data.head()"
   ]
  },
  {
   "cell_type": "code",
   "execution_count": 4,
   "id": "fb5a3831",
   "metadata": {},
   "outputs": [],
   "source": [
    "# Observation:\n",
    "# 1. id- only make numbering the row. So it is not important in analysis the data.\n",
    "# 2. Price- it is price of cares & it is the target value as per the statment & It is continuous data.\n",
    "# 3. Mark- Brand of the care & stirng values.Catagorical data\n",
    "# 4. Model- model of the vehicle & Stirng values & Catagorical data\n",
    "# 5. Year- its indicate the cars in which year produce.\n",
    "# 6. Mileage- traveled miles & this is continuous data\n",
    "# 7. engine_capacity- engine voluome capacity. continuous data\n",
    "# 8. transmission- tpe of Gearbox\n",
    "# 9. Drive- wheel drive & Catagorical data\n",
    "# 10. Hand_drive- it is right hand drive & Left hand drive & catagorical data\n",
    "# 11. Fuel- Type of fuel used by the cars. Catagorical data."
   ]
  },
  {
   "cell_type": "code",
   "execution_count": 5,
   "id": "38ce4fd4",
   "metadata": {},
   "outputs": [
    {
     "data": {
      "text/plain": [
       "(2318, 11)"
      ]
     },
     "execution_count": 5,
     "metadata": {},
     "output_type": "execute_result"
    }
   ],
   "source": [
    "# Les check shape of the data (No of Columns & Rows)\n",
    "data.shape"
   ]
  },
  {
   "cell_type": "code",
   "execution_count": 6,
   "id": "49464640",
   "metadata": {},
   "outputs": [],
   "source": [
    "# Observation\n",
    "# Comumns no-2318 & Row nos-11"
   ]
  },
  {
   "cell_type": "code",
   "execution_count": 7,
   "id": "253536e5",
   "metadata": {},
   "outputs": [
    {
     "data": {
      "text/plain": [
       "Index(['id', 'price', 'mark', 'model', 'year', 'mileage', 'engine_capacity',\n",
       "       'transmission', 'drive', 'hand_drive', 'fuel'],\n",
       "      dtype='object')"
      ]
     },
     "execution_count": 7,
     "metadata": {},
     "output_type": "execute_result"
    }
   ],
   "source": [
    "# Show the columns name\n",
    "data.columns"
   ]
  },
  {
   "cell_type": "code",
   "execution_count": 8,
   "id": "cf1576f4",
   "metadata": {},
   "outputs": [
    {
     "data": {
      "text/plain": [
       "0"
      ]
     },
     "execution_count": 8,
     "metadata": {},
     "output_type": "execute_result"
    }
   ],
   "source": [
    "# cheking duplicate value in dataset\n",
    "data.duplicated().sum()"
   ]
  },
  {
   "cell_type": "code",
   "execution_count": 9,
   "id": "469a5060",
   "metadata": {},
   "outputs": [],
   "source": [
    "# Observatio\n",
    "# No duplicate value is present in dataset"
   ]
  },
  {
   "cell_type": "code",
   "execution_count": 10,
   "id": "323aa755",
   "metadata": {},
   "outputs": [
    {
     "name": "stdout",
     "output_type": "stream",
     "text": [
      "<class 'pandas.core.frame.DataFrame'>\n",
      "RangeIndex: 2318 entries, 0 to 2317\n",
      "Data columns (total 11 columns):\n",
      " #   Column           Non-Null Count  Dtype \n",
      "---  ------           --------------  ----- \n",
      " 0   id               2318 non-null   int64 \n",
      " 1   price            2318 non-null   int64 \n",
      " 2   mark             2318 non-null   object\n",
      " 3   model            2318 non-null   object\n",
      " 4   year             2318 non-null   int64 \n",
      " 5   mileage          2318 non-null   int64 \n",
      " 6   engine_capacity  2318 non-null   int64 \n",
      " 7   transmission     2318 non-null   object\n",
      " 8   drive            2318 non-null   object\n",
      " 9   hand_drive       2318 non-null   object\n",
      " 10  fuel             2318 non-null   object\n",
      "dtypes: int64(5), object(6)\n",
      "memory usage: 199.3+ KB\n"
     ]
    }
   ],
   "source": [
    "data.info() #cheking data information"
   ]
  },
  {
   "cell_type": "code",
   "execution_count": 11,
   "id": "ae371d62",
   "metadata": {},
   "outputs": [],
   "source": [
    "# Observation:\n",
    "# No Missing Data is peresent in dataset\n",
    "# 1. Price- No missing data & int value\n",
    "# 2. Mark- No Missing vanue & Object/string value\n",
    "# 3. Model- No Missing vanue & Object/string value\n",
    "# 4. Year- No Missing vanue & int Value\n",
    "# 5. Mileage- No Missing vanue & int value\n",
    "# 6. engine_capacity- No Missing vanue & int value.\n",
    "# 7. transmission- No Missing vanue & Object/string value\n",
    "# 8. Drive- No Missing vanue & Object/string value\n",
    "# 9. hand_drive- No Missing vanue & Object/string value\n",
    "# 10. fuel- No Missing vanue & Object/string value"
   ]
  },
  {
   "cell_type": "code",
   "execution_count": 12,
   "id": "808ca19b",
   "metadata": {},
   "outputs": [],
   "source": [
    "# # Convert string value of mark column into int using encoder\n",
    "from sklearn.preprocessing import LabelEncoder\n",
    "le=LabelEncoder()"
   ]
  },
  {
   "cell_type": "code",
   "execution_count": 13,
   "id": "32c79e56",
   "metadata": {},
   "outputs": [],
   "source": [
    "data1=le.fit_transform(data['mark'])   # convert string to number"
   ]
  },
  {
   "cell_type": "code",
   "execution_count": 14,
   "id": "7f152e5c",
   "metadata": {},
   "outputs": [],
   "source": [
    "data['mark']=data1"
   ]
  },
  {
   "cell_type": "code",
   "execution_count": null,
   "id": "c8b5c4a6",
   "metadata": {},
   "outputs": [],
   "source": []
  },
  {
   "cell_type": "code",
   "execution_count": null,
   "id": "f3f26cf9",
   "metadata": {},
   "outputs": [],
   "source": []
  },
  {
   "cell_type": "code",
   "execution_count": null,
   "id": "b98d1215",
   "metadata": {},
   "outputs": [],
   "source": []
  },
  {
   "cell_type": "code",
   "execution_count": 15,
   "id": "6457a7c1",
   "metadata": {},
   "outputs": [],
   "source": [
    "import matplotlib.pyplot as plt\n",
    "import seaborn as sns\n",
    "import warnings\n",
    "warnings.filterwarnings('ignore')"
   ]
  },
  {
   "cell_type": "code",
   "execution_count": 16,
   "id": "584481f5",
   "metadata": {},
   "outputs": [
    {
     "data": {
      "text/plain": [
       "25    1047\n",
       "8      382\n",
       "19     320\n",
       "15     148\n",
       "24     126\n",
       "17      65\n",
       "4       56\n",
       "23      54\n",
       "26      52\n",
       "1       27\n",
       "9        9\n",
       "16       5\n",
       "12       4\n",
       "10       3\n",
       "0        3\n",
       "22       2\n",
       "27       2\n",
       "14       2\n",
       "21       2\n",
       "7        1\n",
       "18       1\n",
       "5        1\n",
       "6        1\n",
       "3        1\n",
       "20       1\n",
       "2        1\n",
       "13       1\n",
       "11       1\n",
       "Name: mark, dtype: int64"
      ]
     },
     "execution_count": 16,
     "metadata": {},
     "output_type": "execute_result"
    }
   ],
   "source": [
    "data['mark'].value_counts() # how many brands are present in dataset"
   ]
  },
  {
   "cell_type": "code",
   "execution_count": 17,
   "id": "8b753b01",
   "metadata": {},
   "outputs": [
    {
     "data": {
      "text/plain": [
       "Text(0.5, 0, 'mark')"
      ]
     },
     "execution_count": 17,
     "metadata": {},
     "output_type": "execute_result"
    },
    {
     "data": {
      "image/png": "[encoded data removed]",
      "text/plain": [
       "<Figure size 432x288 with 1 Axes>"
      ]
     },
     "metadata": {
      "needs_background": "light"
     },
     "output_type": "display_data"
    }
   ],
   "source": [
    "data['mark'].plot.hist()\n",
    "plt.xlabel('mark')"
   ]
  },
  {
   "cell_type": "code",
   "execution_count": 18,
   "id": "cbfaf42e",
   "metadata": {},
   "outputs": [
    {
     "name": "stdout",
     "output_type": "stream",
     "text": [
      "Requirement already satisfied: category_encoders in c:\\users\\acer\\anaconda3\\lib\\site-packages (2.5.1.post0)\n",
      "Requirement already satisfied: statsmodels>=0.9.0 in c:\\users\\acer\\anaconda3\\lib\\site-packages (from category_encoders) (0.13.2)\n",
      "Requirement already satisfied: scipy>=1.0.0 in c:\\users\\acer\\anaconda3\\lib\\site-packages (from category_encoders) (1.7.3)\n",
      "Requirement already satisfied: scikit-learn>=0.20.0 in c:\\users\\acer\\anaconda3\\lib\\site-packages (from category_encoders) (1.1.3)\n",
      "Requirement already satisfied: pandas>=1.0.5 in c:\\users\\acer\\anaconda3\\lib\\site-packages (from category_encoders) (1.4.2)\n",
      "Requirement already satisfied: patsy>=0.5.1 in c:\\users\\acer\\anaconda3\\lib\\site-packages (from category_encoders) (0.5.2)\n",
      "Requirement already satisfied: numpy>=1.14.0 in c:\\users\\acer\\anaconda3\\lib\\site-packages (from category_encoders) (1.21.5)\n",
      "Requirement already satisfied: pytz>=2020.1 in c:\\users\\acer\\anaconda3\\lib\\site-packages (from pandas>=1.0.5->category_encoders) (2021.3)\n",
      "Requirement already satisfied: python-dateutil>=2.8.1 in c:\\users\\acer\\anaconda3\\lib\\site-packages (from pandas>=1.0.5->category_encoders) (2.8.2)\n",
      "Requirement already satisfied: six in c:\\users\\acer\\anaconda3\\lib\\site-packages (from patsy>=0.5.1->category_encoders) (1.16.0)\n",
      "Requirement already satisfied: joblib>=1.0.0 in c:\\users\\acer\\anaconda3\\lib\\site-packages (from scikit-learn>=0.20.0->category_encoders) (1.1.0)\n",
      "Requirement already satisfied: threadpoolctl>=2.0.0 in c:\\users\\acer\\anaconda3\\lib\\site-packages (from scikit-learn>=0.20.0->category_encoders) (2.2.0)\n",
      "Requirement already satisfied: packaging>=21.3 in c:\\users\\acer\\anaconda3\\lib\\site-packages (from statsmodels>=0.9.0->category_encoders) (21.3)\n",
      "Requirement already satisfied: pyparsing!=3.0.5,>=2.0.2 in c:\\users\\acer\\anaconda3\\lib\\site-packages (from packaging>=21.3->statsmodels>=0.9.0->category_encoders) (3.0.4)\n"
     ]
    }
   ],
   "source": [
    "\n",
    "!pip install category_encoders"
   ]
  },
  {
   "cell_type": "code",
   "execution_count": 19,
   "id": "66a1851f",
   "metadata": {},
   "outputs": [],
   "source": [
    "# from category_encoders import BinaryEncoder"
   ]
  },
  {
   "cell_type": "code",
   "execution_count": 20,
   "id": "38048aa2",
   "metadata": {},
   "outputs": [],
   "source": [
    "# be=BinaryEncoder()"
   ]
  },
  {
   "cell_type": "code",
   "execution_count": 21,
   "id": "f1f4da0e",
   "metadata": {},
   "outputs": [],
   "source": [
    "# be.fit_transform(data)"
   ]
  },
  {
   "cell_type": "code",
   "execution_count": 22,
   "id": "96f9897c",
   "metadata": {},
   "outputs": [
    {
     "data": {
      "text/html": [
       "<div>\n",
       "<style scoped>\n",
       "    .dataframe tbody tr th:only-of-type {\n",
       "        vertical-align: middle;\n",
       "    }\n",
       "\n",
       "    .dataframe tbody tr th {\n",
       "        vertical-align: top;\n",
       "    }\n",
       "\n",
       "    .dataframe thead th {\n",
       "        text-align: right;\n",
       "    }\n",
       "</style>\n",
       "<table border=\"1\" class=\"dataframe\">\n",
       "  <thead>\n",
       "    <tr style=\"text-align: right;\">\n",
       "      <th></th>\n",
       "      <th>id</th>\n",
       "      <th>price</th>\n",
       "      <th>mark</th>\n",
       "      <th>year</th>\n",
       "      <th>mileage</th>\n",
       "      <th>engine_capacity</th>\n",
       "    </tr>\n",
       "  </thead>\n",
       "  <tbody>\n",
       "    <tr>\n",
       "      <th>count</th>\n",
       "      <td>2318.000000</td>\n",
       "      <td>2318.000000</td>\n",
       "      <td>2318.000000</td>\n",
       "      <td>2318.000000</td>\n",
       "      <td>2318.000000</td>\n",
       "      <td>2318.000000</td>\n",
       "    </tr>\n",
       "    <tr>\n",
       "      <th>mean</th>\n",
       "      <td>1169.047023</td>\n",
       "      <td>971.522433</td>\n",
       "      <td>19.411993</td>\n",
       "      <td>2005.972390</td>\n",
       "      <td>100013.194996</td>\n",
       "      <td>1507.010785</td>\n",
       "    </tr>\n",
       "    <tr>\n",
       "      <th>std</th>\n",
       "      <td>674.460724</td>\n",
       "      <td>288.673112</td>\n",
       "      <td>7.132919</td>\n",
       "      <td>3.698863</td>\n",
       "      <td>52512.478883</td>\n",
       "      <td>549.585170</td>\n",
       "    </tr>\n",
       "    <tr>\n",
       "      <th>min</th>\n",
       "      <td>0.000000</td>\n",
       "      <td>80.000000</td>\n",
       "      <td>0.000000</td>\n",
       "      <td>1979.000000</td>\n",
       "      <td>2000.000000</td>\n",
       "      <td>9.000000</td>\n",
       "    </tr>\n",
       "    <tr>\n",
       "      <th>25%</th>\n",
       "      <td>583.250000</td>\n",
       "      <td>776.000000</td>\n",
       "      <td>15.000000</td>\n",
       "      <td>2004.000000</td>\n",
       "      <td>67000.000000</td>\n",
       "      <td>1300.000000</td>\n",
       "    </tr>\n",
       "    <tr>\n",
       "      <th>50%</th>\n",
       "      <td>1168.500000</td>\n",
       "      <td>1000.000000</td>\n",
       "      <td>24.000000</td>\n",
       "      <td>2006.000000</td>\n",
       "      <td>94000.000000</td>\n",
       "      <td>1490.000000</td>\n",
       "    </tr>\n",
       "    <tr>\n",
       "      <th>75%</th>\n",
       "      <td>1753.750000</td>\n",
       "      <td>1213.000000</td>\n",
       "      <td>25.000000</td>\n",
       "      <td>2009.000000</td>\n",
       "      <td>124000.000000</td>\n",
       "      <td>1800.000000</td>\n",
       "    </tr>\n",
       "    <tr>\n",
       "      <th>max</th>\n",
       "      <td>2335.000000</td>\n",
       "      <td>1400.000000</td>\n",
       "      <td>27.000000</td>\n",
       "      <td>2015.000000</td>\n",
       "      <td>790000.000000</td>\n",
       "      <td>12340.000000</td>\n",
       "    </tr>\n",
       "  </tbody>\n",
       "</table>\n",
       "</div>"
      ],
      "text/plain": [
       "                id        price         mark         year        mileage  \\\n",
       "count  2318.000000  2318.000000  2318.000000  2318.000000    2318.000000   \n",
       "mean   1169.047023   971.522433    19.411993  2005.972390  100013.194996   \n",
       "std     674.460724   288.673112     7.132919     3.698863   52512.478883   \n",
       "min       0.000000    80.000000     0.000000  1979.000000    2000.000000   \n",
       "25%     583.250000   776.000000    15.000000  2004.000000   67000.000000   \n",
       "50%    1168.500000  1000.000000    24.000000  2006.000000   94000.000000   \n",
       "75%    1753.750000  1213.000000    25.000000  2009.000000  124000.000000   \n",
       "max    2335.000000  1400.000000    27.000000  2015.000000  790000.000000   \n",
       "\n",
       "       engine_capacity  \n",
       "count      2318.000000  \n",
       "mean       1507.010785  \n",
       "std         549.585170  \n",
       "min           9.000000  \n",
       "25%        1300.000000  \n",
       "50%        1490.000000  \n",
       "75%        1800.000000  \n",
       "max       12340.000000  "
      ]
     },
     "execution_count": 22,
     "metadata": {},
     "output_type": "execute_result"
    }
   ],
   "source": [
    "data.describe()"
   ]
  },
  {
   "cell_type": "code",
   "execution_count": 23,
   "id": "408b018d",
   "metadata": {},
   "outputs": [],
   "source": [
    "data['model']=data1"
   ]
  },
  {
   "cell_type": "code",
   "execution_count": 24,
   "id": "a1c277ad",
   "metadata": {},
   "outputs": [
    {
     "data": {
      "text/plain": [
       "25    1047\n",
       "8      382\n",
       "19     320\n",
       "15     148\n",
       "24     126\n",
       "17      65\n",
       "4       56\n",
       "23      54\n",
       "26      52\n",
       "1       27\n",
       "9        9\n",
       "16       5\n",
       "12       4\n",
       "10       3\n",
       "0        3\n",
       "22       2\n",
       "27       2\n",
       "14       2\n",
       "21       2\n",
       "7        1\n",
       "18       1\n",
       "5        1\n",
       "6        1\n",
       "3        1\n",
       "20       1\n",
       "2        1\n",
       "13       1\n",
       "11       1\n",
       "Name: model, dtype: int64"
      ]
     },
     "execution_count": 24,
     "metadata": {},
     "output_type": "execute_result"
    }
   ],
   "source": [
    "data['model'].value_counts()  #count model numbers"
   ]
  },
  {
   "cell_type": "code",
   "execution_count": 25,
   "id": "857c1293",
   "metadata": {},
   "outputs": [
    {
     "data": {
      "text/plain": [
       "Text(0.5, 0, 'model')"
      ]
     },
     "execution_count": 25,
     "metadata": {},
     "output_type": "execute_result"
    },
    {
     "data": {
      "image/png": "[encoded data removed]",
      "text/plain": [
       "<Figure size 432x288 with 1 Axes>"
      ]
     },
     "metadata": {
      "needs_background": "light"
     },
     "output_type": "display_data"
    }
   ],
   "source": [
    "data['model']=data1\n",
    "data['model'].plot.hist()\n",
    "plt.xlabel('model')"
   ]
  },
  {
   "cell_type": "code",
   "execution_count": 26,
   "id": "115327e3",
   "metadata": {},
   "outputs": [
    {
     "data": {
      "text/plain": [
       "at     2171\n",
       "mt      117\n",
       "cvt      30\n",
       "Name: transmission, dtype: int64"
      ]
     },
     "execution_count": 26,
     "metadata": {},
     "output_type": "execute_result"
    }
   ],
   "source": [
    "data['transmission'].value_counts()  # count type of count gearbox. Total three type "
   ]
  },
  {
   "cell_type": "code",
   "execution_count": 27,
   "id": "08b72db3",
   "metadata": {},
   "outputs": [
    {
     "data": {
      "text/plain": [
       "Text(0.5, 0, 'Transmission')"
      ]
     },
     "execution_count": 27,
     "metadata": {},
     "output_type": "execute_result"
    },
    {
     "data": {
      "image/png": "[encoded data removed]",
      "text/plain": [
       "<Figure size 432x288 with 1 Axes>"
      ]
     },
     "metadata": {
      "needs_background": "light"
     },
     "output_type": "display_data"
    }
   ],
   "source": [
    "data['transmission']=data1\n",
    "data['transmission'].plot.hist()\n",
    "plt.xlabel('Transmission')"
   ]
  },
  {
   "cell_type": "code",
   "execution_count": 28,
   "id": "70e1d75a",
   "metadata": {},
   "outputs": [
    {
     "data": {
      "text/plain": [
       "2wd    2121\n",
       "4wd     192\n",
       "awd       5\n",
       "Name: drive, dtype: int64"
      ]
     },
     "execution_count": 28,
     "metadata": {},
     "output_type": "execute_result"
    }
   ],
   "source": [
    "data['drive'].value_counts()  # Three type of drive"
   ]
  },
  {
   "cell_type": "code",
   "execution_count": 29,
   "id": "209a3d8a",
   "metadata": {},
   "outputs": [
    {
     "data": {
      "text/plain": [
       "Text(0.5, 0, 'Drive')"
      ]
     },
     "execution_count": 29,
     "metadata": {},
     "output_type": "execute_result"
    },
    {
     "data": {
      "image/png": "[encoded data removed]",
      "text/plain": [
       "<Figure size 432x288 with 1 Axes>"
      ]
     },
     "metadata": {
      "needs_background": "light"
     },
     "output_type": "display_data"
    }
   ],
   "source": [
    "data['drive']=data1\n",
    "data['drive'].plot.hist()\n",
    "plt.xlabel('Drive')"
   ]
  },
  {
   "cell_type": "code",
   "execution_count": 30,
   "id": "a3a1b53b",
   "metadata": {},
   "outputs": [
    {
     "data": {
      "text/plain": [
       "rhd       2301\n",
       "lhd         16\n",
       "center       1\n",
       "Name: hand_drive, dtype: int64"
      ]
     },
     "execution_count": 30,
     "metadata": {},
     "output_type": "execute_result"
    }
   ],
   "source": [
    "data['hand_drive'].value_counts()   #Three type of hand drive"
   ]
  },
  {
   "cell_type": "code",
   "execution_count": 31,
   "id": "11f21ae2",
   "metadata": {},
   "outputs": [
    {
     "data": {
      "text/plain": [
       "Text(0.5, 0, 'Hand_Drive')"
      ]
     },
     "execution_count": 31,
     "metadata": {},
     "output_type": "execute_result"
    },
    {
     "data": {
      "image/png": "[encoded data removed]",
      "text/plain": [
       "<Figure size 432x288 with 1 Axes>"
      ]
     },
     "metadata": {
      "needs_background": "light"
     },
     "output_type": "display_data"
    }
   ],
   "source": [
    "data['hand_drive']=data1\n",
    "data['hand_drive'].plot.hist()\n",
    "plt.xlabel('Hand_Drive')"
   ]
  },
  {
   "cell_type": "code",
   "execution_count": 32,
   "id": "4622fcba",
   "metadata": {},
   "outputs": [
    {
     "data": {
      "text/plain": [
       "gasoline    2290\n",
       "diesel        18\n",
       "lpg            7\n",
       "hybrid         2\n",
       "cng            1\n",
       "Name: fuel, dtype: int64"
      ]
     },
     "execution_count": 32,
     "metadata": {},
     "output_type": "execute_result"
    }
   ],
   "source": [
    "data['fuel'].value_counts()  # Five type of fuel used by the car."
   ]
  },
  {
   "cell_type": "code",
   "execution_count": 33,
   "id": "8d7edf71",
   "metadata": {},
   "outputs": [
    {
     "data": {
      "image/png": "[encoded data removed]",
      "text/plain": [
       "<Figure size 432x288 with 1 Axes>"
      ]
     },
     "metadata": {
      "needs_background": "light"
     },
     "output_type": "display_data"
    }
   ],
   "source": [
    "data['fuel']=data1\n",
    "sns.countplot(x='fuel',data=data)\n",
    "plt.show()"
   ]
  },
  {
   "cell_type": "code",
   "execution_count": 34,
   "id": "a95f16d5",
   "metadata": {},
   "outputs": [
    {
     "data": {
      "text/plain": [
       "Text(0.5, 0, 'Fuel')"
      ]
     },
     "execution_count": 34,
     "metadata": {},
     "output_type": "execute_result"
    },
    {
     "data": {
      "image/png": "[encoded data removed]",
      "text/plain": [
       "<Figure size 432x288 with 1 Axes>"
      ]
     },
     "metadata": {
      "needs_background": "light"
     },
     "output_type": "display_data"
    }
   ],
   "source": [
    "data['fuel'].plot.hist()\n",
    "plt.xlabel('Fuel')"
   ]
  },
  {
   "cell_type": "code",
   "execution_count": 35,
   "id": "8a9ad2d1",
   "metadata": {
    "scrolled": true
   },
   "outputs": [
    {
     "data": {
      "text/plain": [
       "2005    365\n",
       "2007    318\n",
       "2003    248\n",
       "2006    199\n",
       "2009    199\n",
       "2004    194\n",
       "2011    173\n",
       "2010    153\n",
       "2008     91\n",
       "2002     82\n",
       "2001     77\n",
       "2013     52\n",
       "2012     42\n",
       "1999     32\n",
       "2000     27\n",
       "1998     13\n",
       "1997     13\n",
       "1996      6\n",
       "1995      6\n",
       "1993      5\n",
       "1994      4\n",
       "2014      4\n",
       "1990      4\n",
       "1991      3\n",
       "1992      3\n",
       "1979      1\n",
       "1982      1\n",
       "2015      1\n",
       "1987      1\n",
       "1988      1\n",
       "Name: year, dtype: int64"
      ]
     },
     "execution_count": 35,
     "metadata": {},
     "output_type": "execute_result"
    }
   ],
   "source": [
    "data['year'].value_counts()   # count how many cars are in which year\n"
   ]
  },
  {
   "cell_type": "code",
   "execution_count": 36,
   "id": "adc1b0ec",
   "metadata": {},
   "outputs": [
    {
     "data": {
      "text/plain": [
       "Text(0.5, 0, 'year')"
      ]
     },
     "execution_count": 36,
     "metadata": {},
     "output_type": "execute_result"
    },
    {
     "data": {
      "image/png": "[encoded data removed]",
      "text/plain": [
       "<Figure size 432x288 with 1 Axes>"
      ]
     },
     "metadata": {
      "needs_background": "light"
     },
     "output_type": "display_data"
    }
   ],
   "source": [
    "data['year'].plot.hist()\n",
    "plt.xlabel('year')"
   ]
  },
  {
   "cell_type": "code",
   "execution_count": 37,
   "id": "3662b610",
   "metadata": {},
   "outputs": [],
   "source": [
    "# # # Convert string value of mark column into int using encoder\n",
    "# from sklearn.preprocessing import LabelEncoder\n",
    "# le=LabelEncoder()\n"
   ]
  },
  {
   "cell_type": "code",
   "execution_count": 38,
   "id": "61da094c",
   "metadata": {},
   "outputs": [],
   "source": [
    "# data1=le.fit_transform(data['mark'])   # convert string to number\n"
   ]
  },
  {
   "cell_type": "code",
   "execution_count": 39,
   "id": "af29c8d7",
   "metadata": {},
   "outputs": [],
   "source": [
    "# data['mark']=data1"
   ]
  },
  {
   "cell_type": "code",
   "execution_count": 40,
   "id": "aea45758",
   "metadata": {},
   "outputs": [],
   "source": [
    "# data.head()"
   ]
  },
  {
   "cell_type": "code",
   "execution_count": 41,
   "id": "f0b4091b",
   "metadata": {},
   "outputs": [
    {
     "data": {
      "text/html": [
       "<div>\n",
       "<style scoped>\n",
       "    .dataframe tbody tr th:only-of-type {\n",
       "        vertical-align: middle;\n",
       "    }\n",
       "\n",
       "    .dataframe tbody tr th {\n",
       "        vertical-align: top;\n",
       "    }\n",
       "\n",
       "    .dataframe thead th {\n",
       "        text-align: right;\n",
       "    }\n",
       "</style>\n",
       "<table border=\"1\" class=\"dataframe\">\n",
       "  <thead>\n",
       "    <tr style=\"text-align: right;\">\n",
       "      <th></th>\n",
       "      <th>id</th>\n",
       "      <th>price</th>\n",
       "      <th>mark</th>\n",
       "      <th>model</th>\n",
       "      <th>year</th>\n",
       "      <th>mileage</th>\n",
       "      <th>engine_capacity</th>\n",
       "      <th>transmission</th>\n",
       "      <th>drive</th>\n",
       "      <th>hand_drive</th>\n",
       "      <th>fuel</th>\n",
       "    </tr>\n",
       "  </thead>\n",
       "  <tbody>\n",
       "    <tr>\n",
       "      <th>0</th>\n",
       "      <td>0</td>\n",
       "      <td>80</td>\n",
       "      <td>19</td>\n",
       "      <td>19</td>\n",
       "      <td>2003</td>\n",
       "      <td>80000</td>\n",
       "      <td>1240</td>\n",
       "      <td>19</td>\n",
       "      <td>19</td>\n",
       "      <td>19</td>\n",
       "      <td>19</td>\n",
       "    </tr>\n",
       "    <tr>\n",
       "      <th>1</th>\n",
       "      <td>1</td>\n",
       "      <td>110</td>\n",
       "      <td>19</td>\n",
       "      <td>19</td>\n",
       "      <td>2010</td>\n",
       "      <td>53000</td>\n",
       "      <td>1200</td>\n",
       "      <td>19</td>\n",
       "      <td>19</td>\n",
       "      <td>19</td>\n",
       "      <td>19</td>\n",
       "    </tr>\n",
       "    <tr>\n",
       "      <th>2</th>\n",
       "      <td>2</td>\n",
       "      <td>165</td>\n",
       "      <td>19</td>\n",
       "      <td>19</td>\n",
       "      <td>2005</td>\n",
       "      <td>47690</td>\n",
       "      <td>2000</td>\n",
       "      <td>19</td>\n",
       "      <td>19</td>\n",
       "      <td>19</td>\n",
       "      <td>19</td>\n",
       "    </tr>\n",
       "    <tr>\n",
       "      <th>3</th>\n",
       "      <td>3</td>\n",
       "      <td>190</td>\n",
       "      <td>25</td>\n",
       "      <td>25</td>\n",
       "      <td>2008</td>\n",
       "      <td>130661</td>\n",
       "      <td>1990</td>\n",
       "      <td>25</td>\n",
       "      <td>25</td>\n",
       "      <td>25</td>\n",
       "      <td>25</td>\n",
       "    </tr>\n",
       "    <tr>\n",
       "      <th>4</th>\n",
       "      <td>4</td>\n",
       "      <td>190</td>\n",
       "      <td>4</td>\n",
       "      <td>4</td>\n",
       "      <td>2006</td>\n",
       "      <td>66300</td>\n",
       "      <td>660</td>\n",
       "      <td>4</td>\n",
       "      <td>4</td>\n",
       "      <td>4</td>\n",
       "      <td>4</td>\n",
       "    </tr>\n",
       "    <tr>\n",
       "      <th>...</th>\n",
       "      <td>...</td>\n",
       "      <td>...</td>\n",
       "      <td>...</td>\n",
       "      <td>...</td>\n",
       "      <td>...</td>\n",
       "      <td>...</td>\n",
       "      <td>...</td>\n",
       "      <td>...</td>\n",
       "      <td>...</td>\n",
       "      <td>...</td>\n",
       "      <td>...</td>\n",
       "    </tr>\n",
       "    <tr>\n",
       "      <th>2313</th>\n",
       "      <td>2331</td>\n",
       "      <td>1400</td>\n",
       "      <td>25</td>\n",
       "      <td>25</td>\n",
       "      <td>2009</td>\n",
       "      <td>121000</td>\n",
       "      <td>996</td>\n",
       "      <td>25</td>\n",
       "      <td>25</td>\n",
       "      <td>25</td>\n",
       "      <td>25</td>\n",
       "    </tr>\n",
       "    <tr>\n",
       "      <th>2314</th>\n",
       "      <td>2332</td>\n",
       "      <td>1400</td>\n",
       "      <td>25</td>\n",
       "      <td>25</td>\n",
       "      <td>2003</td>\n",
       "      <td>101000</td>\n",
       "      <td>3000</td>\n",
       "      <td>25</td>\n",
       "      <td>25</td>\n",
       "      <td>25</td>\n",
       "      <td>25</td>\n",
       "    </tr>\n",
       "    <tr>\n",
       "      <th>2315</th>\n",
       "      <td>2333</td>\n",
       "      <td>1400</td>\n",
       "      <td>23</td>\n",
       "      <td>23</td>\n",
       "      <td>2005</td>\n",
       "      <td>101000</td>\n",
       "      <td>660</td>\n",
       "      <td>23</td>\n",
       "      <td>23</td>\n",
       "      <td>23</td>\n",
       "      <td>23</td>\n",
       "    </tr>\n",
       "    <tr>\n",
       "      <th>2316</th>\n",
       "      <td>2334</td>\n",
       "      <td>1400</td>\n",
       "      <td>8</td>\n",
       "      <td>8</td>\n",
       "      <td>2000</td>\n",
       "      <td>170000</td>\n",
       "      <td>660</td>\n",
       "      <td>8</td>\n",
       "      <td>8</td>\n",
       "      <td>8</td>\n",
       "      <td>8</td>\n",
       "    </tr>\n",
       "    <tr>\n",
       "      <th>2317</th>\n",
       "      <td>2335</td>\n",
       "      <td>1400</td>\n",
       "      <td>25</td>\n",
       "      <td>25</td>\n",
       "      <td>2005</td>\n",
       "      <td>72320</td>\n",
       "      <td>3000</td>\n",
       "      <td>25</td>\n",
       "      <td>25</td>\n",
       "      <td>25</td>\n",
       "      <td>25</td>\n",
       "    </tr>\n",
       "  </tbody>\n",
       "</table>\n",
       "<p>2318 rows × 11 columns</p>\n",
       "</div>"
      ],
      "text/plain": [
       "        id  price  mark  model  year  mileage  engine_capacity  transmission  \\\n",
       "0        0     80    19     19  2003    80000             1240            19   \n",
       "1        1    110    19     19  2010    53000             1200            19   \n",
       "2        2    165    19     19  2005    47690             2000            19   \n",
       "3        3    190    25     25  2008   130661             1990            25   \n",
       "4        4    190     4      4  2006    66300              660             4   \n",
       "...    ...    ...   ...    ...   ...      ...              ...           ...   \n",
       "2313  2331   1400    25     25  2009   121000              996            25   \n",
       "2314  2332   1400    25     25  2003   101000             3000            25   \n",
       "2315  2333   1400    23     23  2005   101000              660            23   \n",
       "2316  2334   1400     8      8  2000   170000              660             8   \n",
       "2317  2335   1400    25     25  2005    72320             3000            25   \n",
       "\n",
       "      drive  hand_drive  fuel  \n",
       "0        19          19    19  \n",
       "1        19          19    19  \n",
       "2        19          19    19  \n",
       "3        25          25    25  \n",
       "4         4           4     4  \n",
       "...     ...         ...   ...  \n",
       "2313     25          25    25  \n",
       "2314     25          25    25  \n",
       "2315     23          23    23  \n",
       "2316      8           8     8  \n",
       "2317     25          25    25  \n",
       "\n",
       "[2318 rows x 11 columns]"
      ]
     },
     "execution_count": 41,
     "metadata": {},
     "output_type": "execute_result"
    }
   ],
   "source": [
    "# Convert string value of model column into int using encoder\n",
    "data1=le.fit_transform(data['model'])\n",
    "data['model']=data1\n",
    "data"
   ]
  },
  {
   "cell_type": "code",
   "execution_count": 42,
   "id": "5fa96354",
   "metadata": {},
   "outputs": [
    {
     "data": {
      "text/html": [
       "<div>\n",
       "<style scoped>\n",
       "    .dataframe tbody tr th:only-of-type {\n",
       "        vertical-align: middle;\n",
       "    }\n",
       "\n",
       "    .dataframe tbody tr th {\n",
       "        vertical-align: top;\n",
       "    }\n",
       "\n",
       "    .dataframe thead th {\n",
       "        text-align: right;\n",
       "    }\n",
       "</style>\n",
       "<table border=\"1\" class=\"dataframe\">\n",
       "  <thead>\n",
       "    <tr style=\"text-align: right;\">\n",
       "      <th></th>\n",
       "      <th>id</th>\n",
       "      <th>price</th>\n",
       "      <th>mark</th>\n",
       "      <th>model</th>\n",
       "      <th>year</th>\n",
       "      <th>mileage</th>\n",
       "      <th>engine_capacity</th>\n",
       "      <th>transmission</th>\n",
       "      <th>drive</th>\n",
       "      <th>hand_drive</th>\n",
       "      <th>fuel</th>\n",
       "    </tr>\n",
       "  </thead>\n",
       "  <tbody>\n",
       "    <tr>\n",
       "      <th>0</th>\n",
       "      <td>0</td>\n",
       "      <td>80</td>\n",
       "      <td>19</td>\n",
       "      <td>19</td>\n",
       "      <td>2003</td>\n",
       "      <td>80000</td>\n",
       "      <td>1240</td>\n",
       "      <td>19</td>\n",
       "      <td>19</td>\n",
       "      <td>19</td>\n",
       "      <td>19</td>\n",
       "    </tr>\n",
       "    <tr>\n",
       "      <th>1</th>\n",
       "      <td>1</td>\n",
       "      <td>110</td>\n",
       "      <td>19</td>\n",
       "      <td>19</td>\n",
       "      <td>2010</td>\n",
       "      <td>53000</td>\n",
       "      <td>1200</td>\n",
       "      <td>19</td>\n",
       "      <td>19</td>\n",
       "      <td>19</td>\n",
       "      <td>19</td>\n",
       "    </tr>\n",
       "  </tbody>\n",
       "</table>\n",
       "</div>"
      ],
      "text/plain": [
       "   id  price  mark  model  year  mileage  engine_capacity  transmission  \\\n",
       "0   0     80    19     19  2003    80000             1240            19   \n",
       "1   1    110    19     19  2010    53000             1200            19   \n",
       "\n",
       "   drive  hand_drive  fuel  \n",
       "0     19          19    19  \n",
       "1     19          19    19  "
      ]
     },
     "execution_count": 42,
     "metadata": {},
     "output_type": "execute_result"
    }
   ],
   "source": [
    "# Convert string value of drive column into int using encoder\n",
    "data1=le.fit_transform(data['drive'])\n",
    "data['drive']=data1\n",
    "data.head(2)"
   ]
  },
  {
   "cell_type": "code",
   "execution_count": 43,
   "id": "6c6f5447",
   "metadata": {},
   "outputs": [
    {
     "data": {
      "text/html": [
       "<div>\n",
       "<style scoped>\n",
       "    .dataframe tbody tr th:only-of-type {\n",
       "        vertical-align: middle;\n",
       "    }\n",
       "\n",
       "    .dataframe tbody tr th {\n",
       "        vertical-align: top;\n",
       "    }\n",
       "\n",
       "    .dataframe thead th {\n",
       "        text-align: right;\n",
       "    }\n",
       "</style>\n",
       "<table border=\"1\" class=\"dataframe\">\n",
       "  <thead>\n",
       "    <tr style=\"text-align: right;\">\n",
       "      <th></th>\n",
       "      <th>id</th>\n",
       "      <th>price</th>\n",
       "      <th>mark</th>\n",
       "      <th>model</th>\n",
       "      <th>year</th>\n",
       "      <th>mileage</th>\n",
       "      <th>engine_capacity</th>\n",
       "      <th>transmission</th>\n",
       "      <th>drive</th>\n",
       "      <th>hand_drive</th>\n",
       "      <th>fuel</th>\n",
       "    </tr>\n",
       "  </thead>\n",
       "  <tbody>\n",
       "    <tr>\n",
       "      <th>0</th>\n",
       "      <td>0</td>\n",
       "      <td>80</td>\n",
       "      <td>19</td>\n",
       "      <td>19</td>\n",
       "      <td>2003</td>\n",
       "      <td>80000</td>\n",
       "      <td>1240</td>\n",
       "      <td>19</td>\n",
       "      <td>19</td>\n",
       "      <td>19</td>\n",
       "      <td>19</td>\n",
       "    </tr>\n",
       "    <tr>\n",
       "      <th>1</th>\n",
       "      <td>1</td>\n",
       "      <td>110</td>\n",
       "      <td>19</td>\n",
       "      <td>19</td>\n",
       "      <td>2010</td>\n",
       "      <td>53000</td>\n",
       "      <td>1200</td>\n",
       "      <td>19</td>\n",
       "      <td>19</td>\n",
       "      <td>19</td>\n",
       "      <td>19</td>\n",
       "    </tr>\n",
       "  </tbody>\n",
       "</table>\n",
       "</div>"
      ],
      "text/plain": [
       "   id  price  mark  model  year  mileage  engine_capacity  transmission  \\\n",
       "0   0     80    19     19  2003    80000             1240            19   \n",
       "1   1    110    19     19  2010    53000             1200            19   \n",
       "\n",
       "   drive  hand_drive  fuel  \n",
       "0     19          19    19  \n",
       "1     19          19    19  "
      ]
     },
     "execution_count": 43,
     "metadata": {},
     "output_type": "execute_result"
    }
   ],
   "source": [
    "# Convert string value of transmission column into int using encoder\n",
    "data1=le.fit_transform(data['transmission'])\n",
    "data['transmission']=data1\n",
    "data.head(2)"
   ]
  },
  {
   "cell_type": "code",
   "execution_count": 44,
   "id": "9766fb2e",
   "metadata": {},
   "outputs": [
    {
     "data": {
      "text/html": [
       "<div>\n",
       "<style scoped>\n",
       "    .dataframe tbody tr th:only-of-type {\n",
       "        vertical-align: middle;\n",
       "    }\n",
       "\n",
       "    .dataframe tbody tr th {\n",
       "        vertical-align: top;\n",
       "    }\n",
       "\n",
       "    .dataframe thead th {\n",
       "        text-align: right;\n",
       "    }\n",
       "</style>\n",
       "<table border=\"1\" class=\"dataframe\">\n",
       "  <thead>\n",
       "    <tr style=\"text-align: right;\">\n",
       "      <th></th>\n",
       "      <th>id</th>\n",
       "      <th>price</th>\n",
       "      <th>mark</th>\n",
       "      <th>model</th>\n",
       "      <th>year</th>\n",
       "      <th>mileage</th>\n",
       "      <th>engine_capacity</th>\n",
       "      <th>transmission</th>\n",
       "      <th>drive</th>\n",
       "      <th>hand_drive</th>\n",
       "      <th>fuel</th>\n",
       "    </tr>\n",
       "  </thead>\n",
       "  <tbody>\n",
       "    <tr>\n",
       "      <th>0</th>\n",
       "      <td>0</td>\n",
       "      <td>80</td>\n",
       "      <td>19</td>\n",
       "      <td>19</td>\n",
       "      <td>2003</td>\n",
       "      <td>80000</td>\n",
       "      <td>1240</td>\n",
       "      <td>19</td>\n",
       "      <td>19</td>\n",
       "      <td>19</td>\n",
       "      <td>19</td>\n",
       "    </tr>\n",
       "    <tr>\n",
       "      <th>1</th>\n",
       "      <td>1</td>\n",
       "      <td>110</td>\n",
       "      <td>19</td>\n",
       "      <td>19</td>\n",
       "      <td>2010</td>\n",
       "      <td>53000</td>\n",
       "      <td>1200</td>\n",
       "      <td>19</td>\n",
       "      <td>19</td>\n",
       "      <td>19</td>\n",
       "      <td>19</td>\n",
       "    </tr>\n",
       "  </tbody>\n",
       "</table>\n",
       "</div>"
      ],
      "text/plain": [
       "   id  price  mark  model  year  mileage  engine_capacity  transmission  \\\n",
       "0   0     80    19     19  2003    80000             1240            19   \n",
       "1   1    110    19     19  2010    53000             1200            19   \n",
       "\n",
       "   drive  hand_drive  fuel  \n",
       "0     19          19    19  \n",
       "1     19          19    19  "
      ]
     },
     "execution_count": 44,
     "metadata": {},
     "output_type": "execute_result"
    }
   ],
   "source": [
    "# Convert string value of hand_drive column into int using encoder\n",
    "data1=le.fit_transform(data['hand_drive'])\n",
    "data['hand_drive']=data1\n",
    "data.head(2)"
   ]
  },
  {
   "cell_type": "code",
   "execution_count": 45,
   "id": "b75b6ab9",
   "metadata": {},
   "outputs": [
    {
     "data": {
      "text/html": [
       "<div>\n",
       "<style scoped>\n",
       "    .dataframe tbody tr th:only-of-type {\n",
       "        vertical-align: middle;\n",
       "    }\n",
       "\n",
       "    .dataframe tbody tr th {\n",
       "        vertical-align: top;\n",
       "    }\n",
       "\n",
       "    .dataframe thead th {\n",
       "        text-align: right;\n",
       "    }\n",
       "</style>\n",
       "<table border=\"1\" class=\"dataframe\">\n",
       "  <thead>\n",
       "    <tr style=\"text-align: right;\">\n",
       "      <th></th>\n",
       "      <th>id</th>\n",
       "      <th>price</th>\n",
       "      <th>mark</th>\n",
       "      <th>model</th>\n",
       "      <th>year</th>\n",
       "      <th>mileage</th>\n",
       "      <th>engine_capacity</th>\n",
       "      <th>transmission</th>\n",
       "      <th>drive</th>\n",
       "      <th>hand_drive</th>\n",
       "      <th>fuel</th>\n",
       "    </tr>\n",
       "  </thead>\n",
       "  <tbody>\n",
       "    <tr>\n",
       "      <th>0</th>\n",
       "      <td>0</td>\n",
       "      <td>80</td>\n",
       "      <td>19</td>\n",
       "      <td>19</td>\n",
       "      <td>2003</td>\n",
       "      <td>80000</td>\n",
       "      <td>1240</td>\n",
       "      <td>19</td>\n",
       "      <td>19</td>\n",
       "      <td>19</td>\n",
       "      <td>19</td>\n",
       "    </tr>\n",
       "    <tr>\n",
       "      <th>1</th>\n",
       "      <td>1</td>\n",
       "      <td>110</td>\n",
       "      <td>19</td>\n",
       "      <td>19</td>\n",
       "      <td>2010</td>\n",
       "      <td>53000</td>\n",
       "      <td>1200</td>\n",
       "      <td>19</td>\n",
       "      <td>19</td>\n",
       "      <td>19</td>\n",
       "      <td>19</td>\n",
       "    </tr>\n",
       "  </tbody>\n",
       "</table>\n",
       "</div>"
      ],
      "text/plain": [
       "   id  price  mark  model  year  mileage  engine_capacity  transmission  \\\n",
       "0   0     80    19     19  2003    80000             1240            19   \n",
       "1   1    110    19     19  2010    53000             1200            19   \n",
       "\n",
       "   drive  hand_drive  fuel  \n",
       "0     19          19    19  \n",
       "1     19          19    19  "
      ]
     },
     "execution_count": 45,
     "metadata": {},
     "output_type": "execute_result"
    }
   ],
   "source": [
    "# Convert string value of fuel column into int using encoder\n",
    "data1=le.fit_transform(data['fuel'])\n",
    "data['fuel']=data1\n",
    "data.head(2)"
   ]
  },
  {
   "cell_type": "code",
   "execution_count": 46,
   "id": "e84186ba",
   "metadata": {},
   "outputs": [
    {
     "name": "stdout",
     "output_type": "stream",
     "text": [
      "<class 'pandas.core.frame.DataFrame'>\n",
      "RangeIndex: 2318 entries, 0 to 2317\n",
      "Data columns (total 11 columns):\n",
      " #   Column           Non-Null Count  Dtype\n",
      "---  ------           --------------  -----\n",
      " 0   id               2318 non-null   int64\n",
      " 1   price            2318 non-null   int64\n",
      " 2   mark             2318 non-null   int32\n",
      " 3   model            2318 non-null   int64\n",
      " 4   year             2318 non-null   int64\n",
      " 5   mileage          2318 non-null   int64\n",
      " 6   engine_capacity  2318 non-null   int64\n",
      " 7   transmission     2318 non-null   int64\n",
      " 8   drive            2318 non-null   int64\n",
      " 9   hand_drive       2318 non-null   int64\n",
      " 10  fuel             2318 non-null   int64\n",
      "dtypes: int32(1), int64(10)\n",
      "memory usage: 190.3 KB\n"
     ]
    }
   ],
   "source": [
    "data.info()   # all columns are convert into number now."
   ]
  },
  {
   "cell_type": "code",
   "execution_count": 47,
   "id": "ab16fa23",
   "metadata": {},
   "outputs": [
    {
     "data": {
      "text/html": [
       "<div>\n",
       "<style scoped>\n",
       "    .dataframe tbody tr th:only-of-type {\n",
       "        vertical-align: middle;\n",
       "    }\n",
       "\n",
       "    .dataframe tbody tr th {\n",
       "        vertical-align: top;\n",
       "    }\n",
       "\n",
       "    .dataframe thead th {\n",
       "        text-align: right;\n",
       "    }\n",
       "</style>\n",
       "<table border=\"1\" class=\"dataframe\">\n",
       "  <thead>\n",
       "    <tr style=\"text-align: right;\">\n",
       "      <th></th>\n",
       "      <th>id</th>\n",
       "      <th>price</th>\n",
       "      <th>mark</th>\n",
       "      <th>model</th>\n",
       "      <th>year</th>\n",
       "      <th>mileage</th>\n",
       "      <th>engine_capacity</th>\n",
       "      <th>transmission</th>\n",
       "      <th>drive</th>\n",
       "      <th>hand_drive</th>\n",
       "      <th>fuel</th>\n",
       "    </tr>\n",
       "  </thead>\n",
       "  <tbody>\n",
       "    <tr>\n",
       "      <th>count</th>\n",
       "      <td>2318.000000</td>\n",
       "      <td>2318.000000</td>\n",
       "      <td>2318.000000</td>\n",
       "      <td>2318.000000</td>\n",
       "      <td>2318.000000</td>\n",
       "      <td>2318.000000</td>\n",
       "      <td>2318.000000</td>\n",
       "      <td>2318.000000</td>\n",
       "      <td>2318.000000</td>\n",
       "      <td>2318.000000</td>\n",
       "      <td>2318.000000</td>\n",
       "    </tr>\n",
       "    <tr>\n",
       "      <th>mean</th>\n",
       "      <td>1169.047023</td>\n",
       "      <td>971.522433</td>\n",
       "      <td>19.411993</td>\n",
       "      <td>19.411993</td>\n",
       "      <td>2005.972390</td>\n",
       "      <td>100013.194996</td>\n",
       "      <td>1507.010785</td>\n",
       "      <td>19.411993</td>\n",
       "      <td>19.411993</td>\n",
       "      <td>19.411993</td>\n",
       "      <td>19.411993</td>\n",
       "    </tr>\n",
       "    <tr>\n",
       "      <th>std</th>\n",
       "      <td>674.460724</td>\n",
       "      <td>288.673112</td>\n",
       "      <td>7.132919</td>\n",
       "      <td>7.132919</td>\n",
       "      <td>3.698863</td>\n",
       "      <td>52512.478883</td>\n",
       "      <td>549.585170</td>\n",
       "      <td>7.132919</td>\n",
       "      <td>7.132919</td>\n",
       "      <td>7.132919</td>\n",
       "      <td>7.132919</td>\n",
       "    </tr>\n",
       "    <tr>\n",
       "      <th>min</th>\n",
       "      <td>0.000000</td>\n",
       "      <td>80.000000</td>\n",
       "      <td>0.000000</td>\n",
       "      <td>0.000000</td>\n",
       "      <td>1979.000000</td>\n",
       "      <td>2000.000000</td>\n",
       "      <td>9.000000</td>\n",
       "      <td>0.000000</td>\n",
       "      <td>0.000000</td>\n",
       "      <td>0.000000</td>\n",
       "      <td>0.000000</td>\n",
       "    </tr>\n",
       "    <tr>\n",
       "      <th>25%</th>\n",
       "      <td>583.250000</td>\n",
       "      <td>776.000000</td>\n",
       "      <td>15.000000</td>\n",
       "      <td>15.000000</td>\n",
       "      <td>2004.000000</td>\n",
       "      <td>67000.000000</td>\n",
       "      <td>1300.000000</td>\n",
       "      <td>15.000000</td>\n",
       "      <td>15.000000</td>\n",
       "      <td>15.000000</td>\n",
       "      <td>15.000000</td>\n",
       "    </tr>\n",
       "    <tr>\n",
       "      <th>50%</th>\n",
       "      <td>1168.500000</td>\n",
       "      <td>1000.000000</td>\n",
       "      <td>24.000000</td>\n",
       "      <td>24.000000</td>\n",
       "      <td>2006.000000</td>\n",
       "      <td>94000.000000</td>\n",
       "      <td>1490.000000</td>\n",
       "      <td>24.000000</td>\n",
       "      <td>24.000000</td>\n",
       "      <td>24.000000</td>\n",
       "      <td>24.000000</td>\n",
       "    </tr>\n",
       "    <tr>\n",
       "      <th>75%</th>\n",
       "      <td>1753.750000</td>\n",
       "      <td>1213.000000</td>\n",
       "      <td>25.000000</td>\n",
       "      <td>25.000000</td>\n",
       "      <td>2009.000000</td>\n",
       "      <td>124000.000000</td>\n",
       "      <td>1800.000000</td>\n",
       "      <td>25.000000</td>\n",
       "      <td>25.000000</td>\n",
       "      <td>25.000000</td>\n",
       "      <td>25.000000</td>\n",
       "    </tr>\n",
       "    <tr>\n",
       "      <th>max</th>\n",
       "      <td>2335.000000</td>\n",
       "      <td>1400.000000</td>\n",
       "      <td>27.000000</td>\n",
       "      <td>27.000000</td>\n",
       "      <td>2015.000000</td>\n",
       "      <td>790000.000000</td>\n",
       "      <td>12340.000000</td>\n",
       "      <td>27.000000</td>\n",
       "      <td>27.000000</td>\n",
       "      <td>27.000000</td>\n",
       "      <td>27.000000</td>\n",
       "    </tr>\n",
       "  </tbody>\n",
       "</table>\n",
       "</div>"
      ],
      "text/plain": [
       "                id        price         mark        model         year  \\\n",
       "count  2318.000000  2318.000000  2318.000000  2318.000000  2318.000000   \n",
       "mean   1169.047023   971.522433    19.411993    19.411993  2005.972390   \n",
       "std     674.460724   288.673112     7.132919     7.132919     3.698863   \n",
       "min       0.000000    80.000000     0.000000     0.000000  1979.000000   \n",
       "25%     583.250000   776.000000    15.000000    15.000000  2004.000000   \n",
       "50%    1168.500000  1000.000000    24.000000    24.000000  2006.000000   \n",
       "75%    1753.750000  1213.000000    25.000000    25.000000  2009.000000   \n",
       "max    2335.000000  1400.000000    27.000000    27.000000  2015.000000   \n",
       "\n",
       "             mileage  engine_capacity  transmission        drive   hand_drive  \\\n",
       "count    2318.000000      2318.000000   2318.000000  2318.000000  2318.000000   \n",
       "mean   100013.194996      1507.010785     19.411993    19.411993    19.411993   \n",
       "std     52512.478883       549.585170      7.132919     7.132919     7.132919   \n",
       "min      2000.000000         9.000000      0.000000     0.000000     0.000000   \n",
       "25%     67000.000000      1300.000000     15.000000    15.000000    15.000000   \n",
       "50%     94000.000000      1490.000000     24.000000    24.000000    24.000000   \n",
       "75%    124000.000000      1800.000000     25.000000    25.000000    25.000000   \n",
       "max    790000.000000     12340.000000     27.000000    27.000000    27.000000   \n",
       "\n",
       "              fuel  \n",
       "count  2318.000000  \n",
       "mean     19.411993  \n",
       "std       7.132919  \n",
       "min       0.000000  \n",
       "25%      15.000000  \n",
       "50%      24.000000  \n",
       "75%      25.000000  \n",
       "max      27.000000  "
      ]
     },
     "execution_count": 47,
     "metadata": {},
     "output_type": "execute_result"
    }
   ],
   "source": [
    "data.describe()  # Descrive the data for observation of data "
   ]
  },
  {
   "cell_type": "code",
   "execution_count": 48,
   "id": "f6d38bfc",
   "metadata": {},
   "outputs": [],
   "source": [
    "# Observation\n",
    "# 1. id column- it is only indicate the number of Row. it is not important feature for analysis. so drop it\n",
    "# 2. price - it is target value\n",
    "# 3. mark-it is categorical data. \n",
    "# 4. model-Categorical data\n",
    "# 5. Mileage- here mean & std is not justified or good. data distribution also not good bcz in quantile, diference is big.\n",
    "# 6. engine_capacity- here mean & std is not justified or good. data distribution also not good bcz in quantile, diference is big."
   ]
  },
  {
   "cell_type": "code",
   "execution_count": 49,
   "id": "e0ab8f12",
   "metadata": {},
   "outputs": [],
   "source": [
    "data=data.drop(['id'],axis=1)    # drop id column"
   ]
  },
  {
   "cell_type": "code",
   "execution_count": 50,
   "id": "18f08482",
   "metadata": {},
   "outputs": [],
   "source": [
    "import matplotlib.pyplot as plt\n",
    "import seaborn as sns\n",
    "import warnings\n",
    "warnings.filterwarnings('ignore')"
   ]
  },
  {
   "cell_type": "code",
   "execution_count": 51,
   "id": "f569695c",
   "metadata": {},
   "outputs": [
    {
     "data": {
      "image/png": "[encoded data removed]",
      "text/plain": [
       "<Figure size 864x1008 with 10 Axes>"
      ]
     },
     "metadata": {},
     "output_type": "display_data"
    }
   ],
   "source": [
    "# Cheking how data is distributed\n",
    "plt.figure(figsize=(12,14), facecolor='g')\n",
    "plotnumber=1\n",
    "for column in data:\n",
    "    if plotnumber<=12:\n",
    "        ax=plt.subplot(3,4,plotnumber)\n",
    "        sns.distplot(data[column])\n",
    "        plt.xlabel(column, fontsize=20)\n",
    "        \n",
    "    plotnumber+=1\n",
    "    \n",
    "plt.show()"
   ]
  },
  {
   "cell_type": "code",
   "execution_count": 52,
   "id": "9f2ca468",
   "metadata": {},
   "outputs": [],
   "source": [
    "# Observation\n",
    "# Mileage- Data is not equal distibuted\n",
    "# engine_capacity- Data is not normal distributed.\n",
    "# others column is categorical data"
   ]
  },
  {
   "cell_type": "code",
   "execution_count": 53,
   "id": "250dfe66",
   "metadata": {},
   "outputs": [
    {
     "data": {
      "text/plain": [
       "price             -0.466780\n",
       "mark              -0.947938\n",
       "model             -0.947938\n",
       "year              -0.845917\n",
       "mileage            3.089142\n",
       "engine_capacity    4.038892\n",
       "transmission      -0.947938\n",
       "drive             -0.947938\n",
       "hand_drive        -0.947938\n",
       "fuel              -0.947938\n",
       "dtype: float64"
      ]
     },
     "execution_count": 53,
     "metadata": {},
     "output_type": "execute_result"
    }
   ],
   "source": [
    "# cheking Skewness\n",
    "data.skew()"
   ]
  },
  {
   "cell_type": "code",
   "execution_count": 54,
   "id": "e261b55b",
   "metadata": {},
   "outputs": [],
   "source": [
    "x=data.drop(['price'],axis=1)   # seperate feature & traget value is x =Feature & y= price\n",
    "y=data.price"
   ]
  },
  {
   "cell_type": "code",
   "execution_count": 55,
   "id": "bbc63a6f",
   "metadata": {},
   "outputs": [],
   "source": [
    "from sklearn.preprocessing import power_transform,PowerTransformer # handle the skewness \n",
    "pt=PowerTransformer()"
   ]
  },
  {
   "cell_type": "code",
   "execution_count": 56,
   "id": "c92a1553",
   "metadata": {},
   "outputs": [],
   "source": [
    "pt=PowerTransformer()"
   ]
  },
  {
   "cell_type": "code",
   "execution_count": 57,
   "id": "7c539b41",
   "metadata": {},
   "outputs": [],
   "source": [
    "x_new=pt.fit_transform(x)  # Standarize the data"
   ]
  },
  {
   "cell_type": "code",
   "execution_count": 58,
   "id": "58506e2f",
   "metadata": {},
   "outputs": [
    {
     "data": {
      "text/plain": [
       "mark              -0.621261\n",
       "model             -0.621261\n",
       "year              -0.363723\n",
       "mileage            0.101598\n",
       "engine_capacity    0.154166\n",
       "transmission      -0.621261\n",
       "drive             -0.621261\n",
       "hand_drive        -0.621261\n",
       "fuel              -0.621261\n",
       "dtype: float64"
      ]
     },
     "execution_count": 58,
     "metadata": {},
     "output_type": "execute_result"
    }
   ],
   "source": [
    "x=pd.DataFrame(x_new, columns=x.columns)\n",
    "x.skew()"
   ]
  },
  {
   "cell_type": "code",
   "execution_count": 59,
   "id": "f938c34f",
   "metadata": {},
   "outputs": [],
   "source": [
    "# Observation\n",
    "# Now skewness is minimize"
   ]
  },
  {
   "cell_type": "code",
   "execution_count": 60,
   "id": "362d190f",
   "metadata": {},
   "outputs": [],
   "source": [
    "# cheking corealation between feature & target value"
   ]
  },
  {
   "cell_type": "code",
   "execution_count": 61,
   "id": "b167256d",
   "metadata": {},
   "outputs": [
    {
     "data": {
      "text/html": [
       "<div>\n",
       "<style scoped>\n",
       "    .dataframe tbody tr th:only-of-type {\n",
       "        vertical-align: middle;\n",
       "    }\n",
       "\n",
       "    .dataframe tbody tr th {\n",
       "        vertical-align: top;\n",
       "    }\n",
       "\n",
       "    .dataframe thead th {\n",
       "        text-align: right;\n",
       "    }\n",
       "</style>\n",
       "<table border=\"1\" class=\"dataframe\">\n",
       "  <thead>\n",
       "    <tr style=\"text-align: right;\">\n",
       "      <th></th>\n",
       "      <th>price</th>\n",
       "      <th>mark</th>\n",
       "      <th>model</th>\n",
       "      <th>year</th>\n",
       "      <th>mileage</th>\n",
       "      <th>engine_capacity</th>\n",
       "      <th>transmission</th>\n",
       "      <th>drive</th>\n",
       "      <th>hand_drive</th>\n",
       "      <th>fuel</th>\n",
       "    </tr>\n",
       "  </thead>\n",
       "  <tbody>\n",
       "    <tr>\n",
       "      <th>price</th>\n",
       "      <td>1.000000</td>\n",
       "      <td>0.090245</td>\n",
       "      <td>0.090245</td>\n",
       "      <td>-0.211092</td>\n",
       "      <td>0.021581</td>\n",
       "      <td>0.173748</td>\n",
       "      <td>0.090245</td>\n",
       "      <td>0.090245</td>\n",
       "      <td>0.090245</td>\n",
       "      <td>0.090245</td>\n",
       "    </tr>\n",
       "    <tr>\n",
       "      <th>mark</th>\n",
       "      <td>0.090245</td>\n",
       "      <td>1.000000</td>\n",
       "      <td>1.000000</td>\n",
       "      <td>-0.021472</td>\n",
       "      <td>-0.077914</td>\n",
       "      <td>0.093752</td>\n",
       "      <td>1.000000</td>\n",
       "      <td>1.000000</td>\n",
       "      <td>1.000000</td>\n",
       "      <td>1.000000</td>\n",
       "    </tr>\n",
       "    <tr>\n",
       "      <th>model</th>\n",
       "      <td>0.090245</td>\n",
       "      <td>1.000000</td>\n",
       "      <td>1.000000</td>\n",
       "      <td>-0.021472</td>\n",
       "      <td>-0.077914</td>\n",
       "      <td>0.093752</td>\n",
       "      <td>1.000000</td>\n",
       "      <td>1.000000</td>\n",
       "      <td>1.000000</td>\n",
       "      <td>1.000000</td>\n",
       "    </tr>\n",
       "    <tr>\n",
       "      <th>year</th>\n",
       "      <td>-0.211092</td>\n",
       "      <td>-0.021472</td>\n",
       "      <td>-0.021472</td>\n",
       "      <td>1.000000</td>\n",
       "      <td>0.086065</td>\n",
       "      <td>-0.142460</td>\n",
       "      <td>-0.021472</td>\n",
       "      <td>-0.021472</td>\n",
       "      <td>-0.021472</td>\n",
       "      <td>-0.021472</td>\n",
       "    </tr>\n",
       "    <tr>\n",
       "      <th>mileage</th>\n",
       "      <td>0.021581</td>\n",
       "      <td>-0.077914</td>\n",
       "      <td>-0.077914</td>\n",
       "      <td>0.086065</td>\n",
       "      <td>1.000000</td>\n",
       "      <td>0.130362</td>\n",
       "      <td>-0.077914</td>\n",
       "      <td>-0.077914</td>\n",
       "      <td>-0.077914</td>\n",
       "      <td>-0.077914</td>\n",
       "    </tr>\n",
       "    <tr>\n",
       "      <th>engine_capacity</th>\n",
       "      <td>0.173748</td>\n",
       "      <td>0.093752</td>\n",
       "      <td>0.093752</td>\n",
       "      <td>-0.142460</td>\n",
       "      <td>0.130362</td>\n",
       "      <td>1.000000</td>\n",
       "      <td>0.093752</td>\n",
       "      <td>0.093752</td>\n",
       "      <td>0.093752</td>\n",
       "      <td>0.093752</td>\n",
       "    </tr>\n",
       "    <tr>\n",
       "      <th>transmission</th>\n",
       "      <td>0.090245</td>\n",
       "      <td>1.000000</td>\n",
       "      <td>1.000000</td>\n",
       "      <td>-0.021472</td>\n",
       "      <td>-0.077914</td>\n",
       "      <td>0.093752</td>\n",
       "      <td>1.000000</td>\n",
       "      <td>1.000000</td>\n",
       "      <td>1.000000</td>\n",
       "      <td>1.000000</td>\n",
       "    </tr>\n",
       "    <tr>\n",
       "      <th>drive</th>\n",
       "      <td>0.090245</td>\n",
       "      <td>1.000000</td>\n",
       "      <td>1.000000</td>\n",
       "      <td>-0.021472</td>\n",
       "      <td>-0.077914</td>\n",
       "      <td>0.093752</td>\n",
       "      <td>1.000000</td>\n",
       "      <td>1.000000</td>\n",
       "      <td>1.000000</td>\n",
       "      <td>1.000000</td>\n",
       "    </tr>\n",
       "    <tr>\n",
       "      <th>hand_drive</th>\n",
       "      <td>0.090245</td>\n",
       "      <td>1.000000</td>\n",
       "      <td>1.000000</td>\n",
       "      <td>-0.021472</td>\n",
       "      <td>-0.077914</td>\n",
       "      <td>0.093752</td>\n",
       "      <td>1.000000</td>\n",
       "      <td>1.000000</td>\n",
       "      <td>1.000000</td>\n",
       "      <td>1.000000</td>\n",
       "    </tr>\n",
       "    <tr>\n",
       "      <th>fuel</th>\n",
       "      <td>0.090245</td>\n",
       "      <td>1.000000</td>\n",
       "      <td>1.000000</td>\n",
       "      <td>-0.021472</td>\n",
       "      <td>-0.077914</td>\n",
       "      <td>0.093752</td>\n",
       "      <td>1.000000</td>\n",
       "      <td>1.000000</td>\n",
       "      <td>1.000000</td>\n",
       "      <td>1.000000</td>\n",
       "    </tr>\n",
       "  </tbody>\n",
       "</table>\n",
       "</div>"
      ],
      "text/plain": [
       "                    price      mark     model      year   mileage  \\\n",
       "price            1.000000  0.090245  0.090245 -0.211092  0.021581   \n",
       "mark             0.090245  1.000000  1.000000 -0.021472 -0.077914   \n",
       "model            0.090245  1.000000  1.000000 -0.021472 -0.077914   \n",
       "year            -0.211092 -0.021472 -0.021472  1.000000  0.086065   \n",
       "mileage          0.021581 -0.077914 -0.077914  0.086065  1.000000   \n",
       "engine_capacity  0.173748  0.093752  0.093752 -0.142460  0.130362   \n",
       "transmission     0.090245  1.000000  1.000000 -0.021472 -0.077914   \n",
       "drive            0.090245  1.000000  1.000000 -0.021472 -0.077914   \n",
       "hand_drive       0.090245  1.000000  1.000000 -0.021472 -0.077914   \n",
       "fuel             0.090245  1.000000  1.000000 -0.021472 -0.077914   \n",
       "\n",
       "                 engine_capacity  transmission     drive  hand_drive      fuel  \n",
       "price                   0.173748      0.090245  0.090245    0.090245  0.090245  \n",
       "mark                    0.093752      1.000000  1.000000    1.000000  1.000000  \n",
       "model                   0.093752      1.000000  1.000000    1.000000  1.000000  \n",
       "year                   -0.142460     -0.021472 -0.021472   -0.021472 -0.021472  \n",
       "mileage                 0.130362     -0.077914 -0.077914   -0.077914 -0.077914  \n",
       "engine_capacity         1.000000      0.093752  0.093752    0.093752  0.093752  \n",
       "transmission            0.093752      1.000000  1.000000    1.000000  1.000000  \n",
       "drive                   0.093752      1.000000  1.000000    1.000000  1.000000  \n",
       "hand_drive              0.093752      1.000000  1.000000    1.000000  1.000000  \n",
       "fuel                    0.093752      1.000000  1.000000    1.000000  1.000000  "
      ]
     },
     "execution_count": 61,
     "metadata": {},
     "output_type": "execute_result"
    }
   ],
   "source": [
    "data.corr()"
   ]
  },
  {
   "cell_type": "code",
   "execution_count": 62,
   "id": "2b8a82b6",
   "metadata": {},
   "outputs": [],
   "source": [
    "# Show the corelationship in graph"
   ]
  },
  {
   "cell_type": "code",
   "execution_count": 63,
   "id": "53d25912",
   "metadata": {},
   "outputs": [
    {
     "data": {
      "image/png": "[encoded data removed]",
      "text/plain": [
       "<Figure size 1440x1440 with 2 Axes>"
      ]
     },
     "metadata": {
      "needs_background": "light"
     },
     "output_type": "display_data"
    }
   ],
   "source": [
    "plt.figure(figsize=(20,20))\n",
    "sns.heatmap(data.corr(),annot=True)\n",
    "plt.title('Correaltion matrix')\n",
    "plt.savefig('corr_Matrix.jpg')\n",
    "plt.show()"
   ]
  },
  {
   "cell_type": "code",
   "execution_count": 64,
   "id": "d25b1cff",
   "metadata": {},
   "outputs": [],
   "source": [
    "# Observation\n",
    "# Pirce vs fuel,hand_drive,drive,transmissino,model& mark- Relation is 9%\n",
    "# Price vs engine_capacity- relation is 17%\n",
    "# price vs year- relation is (-) 2.2%"
   ]
  },
  {
   "cell_type": "code",
   "execution_count": 65,
   "id": "058fc055",
   "metadata": {},
   "outputs": [
    {
     "data": {
      "image/png": "[encoded data removed]",
      "text/plain": [
       "<Figure size 864x1008 with 10 Axes>"
      ]
     },
     "metadata": {},
     "output_type": "display_data"
    }
   ],
   "source": [
    "# Cheking outlier using box plot\n",
    "plt.figure(figsize=(12,14), facecolor='g')\n",
    "plotnumber=1\n",
    "for column in data:\n",
    "    if plotnumber<=12:\n",
    "        ax=plt.subplot(3,4,plotnumber)\n",
    "        sns.boxplot(data[column])\n",
    "        plt.xlabel(column, fontsize=20)\n",
    "        \n",
    "    plotnumber+=1\n",
    "    \n",
    "plt.show()"
   ]
  },
  {
   "cell_type": "code",
   "execution_count": 66,
   "id": "4f31c4ae",
   "metadata": {},
   "outputs": [],
   "source": [
    "#  Observation\n",
    "# 1. Price - outlier is present\n",
    "# 2. Year-  outlier is present\n",
    "# 3. mileage- outlier is present\n",
    "# 4. engine capacity-  outlier is present\n"
   ]
  },
  {
   "cell_type": "code",
   "execution_count": 67,
   "id": "58ef7d0d",
   "metadata": {},
   "outputs": [],
   "source": [
    "# Handel the outlier using quantile technique"
   ]
  },
  {
   "cell_type": "code",
   "execution_count": 68,
   "id": "74d86f48",
   "metadata": {},
   "outputs": [],
   "source": [
    "q3=data.quantile(.75)\n",
    "q1=data.quantile(.25)\n",
    "iqr=q3-q1"
   ]
  },
  {
   "cell_type": "code",
   "execution_count": 69,
   "id": "9eab443f",
   "metadata": {},
   "outputs": [
    {
     "data": {
      "text/plain": [
       "price                437.0\n",
       "mark                  10.0\n",
       "model                 10.0\n",
       "year                   5.0\n",
       "mileage            57000.0\n",
       "engine_capacity      500.0\n",
       "transmission          10.0\n",
       "drive                 10.0\n",
       "hand_drive            10.0\n",
       "fuel                  10.0\n",
       "dtype: float64"
      ]
     },
     "execution_count": 69,
     "metadata": {},
     "output_type": "execute_result"
    }
   ],
   "source": [
    "iqr"
   ]
  },
  {
   "cell_type": "code",
   "execution_count": 70,
   "id": "af18a251",
   "metadata": {},
   "outputs": [],
   "source": [
    "price_lower=q1.price-(1.5*iqr.price)  # Lower outiler define"
   ]
  },
  {
   "cell_type": "code",
   "execution_count": 71,
   "id": "4f114485",
   "metadata": {},
   "outputs": [],
   "source": [
    "index=np.where(data['price']<price_lower) # find the index of lower outlier\n",
    "data=data.drop(data.index[index])   # Drop the outiler"
   ]
  },
  {
   "cell_type": "code",
   "execution_count": 72,
   "id": "01169250",
   "metadata": {},
   "outputs": [
    {
     "data": {
      "text/plain": [
       "(2316, 10)"
      ]
     },
     "execution_count": 72,
     "metadata": {},
     "output_type": "execute_result"
    }
   ],
   "source": [
    "data.shape   # Cheking shape of dataset"
   ]
  },
  {
   "cell_type": "code",
   "execution_count": 73,
   "id": "1db4a3b6",
   "metadata": {},
   "outputs": [
    {
     "data": {
      "text/plain": [
       "(2281, 10)"
      ]
     },
     "execution_count": 73,
     "metadata": {},
     "output_type": "execute_result"
    }
   ],
   "source": [
    "year_lower=q1.year-(1.5*iqr.year)\n",
    "index=np.where(data['year']<year_lower) # find the index of lower outlier\n",
    "data=data.drop(data.index[index])   # Drop the outiler\n",
    "data.shape   # Cheking shape of dataset"
   ]
  },
  {
   "cell_type": "code",
   "execution_count": 74,
   "id": "1380544c",
   "metadata": {},
   "outputs": [
    {
     "data": {
      "text/plain": [
       "(2236, 10)"
      ]
     },
     "execution_count": 74,
     "metadata": {},
     "output_type": "execute_result"
    }
   ],
   "source": [
    "mileage_higher=q3.mileage+(1.5*iqr.mileage)\n",
    "index=np.where(data['mileage']>mileage_higher) # find the index of higher outlier\n",
    "data=data.drop(data.index[index])   # Drop the outiler\n",
    "data.shape   # Cheking shape of dataset"
   ]
  },
  {
   "cell_type": "code",
   "execution_count": 75,
   "id": "baf31544",
   "metadata": {},
   "outputs": [
    {
     "data": {
      "text/plain": [
       "(2197, 10)"
      ]
     },
     "execution_count": 75,
     "metadata": {},
     "output_type": "execute_result"
    }
   ],
   "source": [
    "engine_higher=q3.engine_capacity+(1.5*iqr.engine_capacity)\n",
    "index=np.where(data['engine_capacity']>engine_higher) # find the index of higher outlier\n",
    "data=data.drop(data.index[index])   # Drop the outiler\n",
    "data.shape   # Cheking shape of dataset"
   ]
  },
  {
   "cell_type": "code",
   "execution_count": 76,
   "id": "07104140",
   "metadata": {},
   "outputs": [
    {
     "data": {
      "text/html": [
       "<div>\n",
       "<style scoped>\n",
       "    .dataframe tbody tr th:only-of-type {\n",
       "        vertical-align: middle;\n",
       "    }\n",
       "\n",
       "    .dataframe tbody tr th {\n",
       "        vertical-align: top;\n",
       "    }\n",
       "\n",
       "    .dataframe thead th {\n",
       "        text-align: right;\n",
       "    }\n",
       "</style>\n",
       "<table border=\"1\" class=\"dataframe\">\n",
       "  <thead>\n",
       "    <tr style=\"text-align: right;\">\n",
       "      <th></th>\n",
       "      <th>index</th>\n",
       "      <th>price</th>\n",
       "      <th>mark</th>\n",
       "      <th>model</th>\n",
       "      <th>year</th>\n",
       "      <th>mileage</th>\n",
       "      <th>engine_capacity</th>\n",
       "      <th>transmission</th>\n",
       "      <th>drive</th>\n",
       "      <th>hand_drive</th>\n",
       "      <th>fuel</th>\n",
       "    </tr>\n",
       "  </thead>\n",
       "  <tbody>\n",
       "    <tr>\n",
       "      <th>0</th>\n",
       "      <td>2</td>\n",
       "      <td>165</td>\n",
       "      <td>19</td>\n",
       "      <td>19</td>\n",
       "      <td>2005</td>\n",
       "      <td>47690</td>\n",
       "      <td>2000</td>\n",
       "      <td>19</td>\n",
       "      <td>19</td>\n",
       "      <td>19</td>\n",
       "      <td>19</td>\n",
       "    </tr>\n",
       "    <tr>\n",
       "      <th>1</th>\n",
       "      <td>3</td>\n",
       "      <td>190</td>\n",
       "      <td>25</td>\n",
       "      <td>25</td>\n",
       "      <td>2008</td>\n",
       "      <td>130661</td>\n",
       "      <td>1990</td>\n",
       "      <td>25</td>\n",
       "      <td>25</td>\n",
       "      <td>25</td>\n",
       "      <td>25</td>\n",
       "    </tr>\n",
       "    <tr>\n",
       "      <th>2</th>\n",
       "      <td>4</td>\n",
       "      <td>190</td>\n",
       "      <td>4</td>\n",
       "      <td>4</td>\n",
       "      <td>2006</td>\n",
       "      <td>66300</td>\n",
       "      <td>660</td>\n",
       "      <td>4</td>\n",
       "      <td>4</td>\n",
       "      <td>4</td>\n",
       "      <td>4</td>\n",
       "    </tr>\n",
       "    <tr>\n",
       "      <th>3</th>\n",
       "      <td>5</td>\n",
       "      <td>190</td>\n",
       "      <td>4</td>\n",
       "      <td>4</td>\n",
       "      <td>2004</td>\n",
       "      <td>81400</td>\n",
       "      <td>660</td>\n",
       "      <td>4</td>\n",
       "      <td>4</td>\n",
       "      <td>4</td>\n",
       "      <td>4</td>\n",
       "    </tr>\n",
       "    <tr>\n",
       "      <th>4</th>\n",
       "      <td>6</td>\n",
       "      <td>220</td>\n",
       "      <td>19</td>\n",
       "      <td>19</td>\n",
       "      <td>2010</td>\n",
       "      <td>117000</td>\n",
       "      <td>1200</td>\n",
       "      <td>19</td>\n",
       "      <td>19</td>\n",
       "      <td>19</td>\n",
       "      <td>19</td>\n",
       "    </tr>\n",
       "    <tr>\n",
       "      <th>...</th>\n",
       "      <td>...</td>\n",
       "      <td>...</td>\n",
       "      <td>...</td>\n",
       "      <td>...</td>\n",
       "      <td>...</td>\n",
       "      <td>...</td>\n",
       "      <td>...</td>\n",
       "      <td>...</td>\n",
       "      <td>...</td>\n",
       "      <td>...</td>\n",
       "      <td>...</td>\n",
       "    </tr>\n",
       "    <tr>\n",
       "      <th>2192</th>\n",
       "      <td>2311</td>\n",
       "      <td>1400</td>\n",
       "      <td>25</td>\n",
       "      <td>25</td>\n",
       "      <td>2005</td>\n",
       "      <td>101874</td>\n",
       "      <td>2000</td>\n",
       "      <td>25</td>\n",
       "      <td>25</td>\n",
       "      <td>25</td>\n",
       "      <td>25</td>\n",
       "    </tr>\n",
       "    <tr>\n",
       "      <th>2193</th>\n",
       "      <td>2312</td>\n",
       "      <td>1400</td>\n",
       "      <td>15</td>\n",
       "      <td>15</td>\n",
       "      <td>2007</td>\n",
       "      <td>112000</td>\n",
       "      <td>1300</td>\n",
       "      <td>15</td>\n",
       "      <td>15</td>\n",
       "      <td>15</td>\n",
       "      <td>15</td>\n",
       "    </tr>\n",
       "    <tr>\n",
       "      <th>2194</th>\n",
       "      <td>2313</td>\n",
       "      <td>1400</td>\n",
       "      <td>25</td>\n",
       "      <td>25</td>\n",
       "      <td>2009</td>\n",
       "      <td>121000</td>\n",
       "      <td>996</td>\n",
       "      <td>25</td>\n",
       "      <td>25</td>\n",
       "      <td>25</td>\n",
       "      <td>25</td>\n",
       "    </tr>\n",
       "    <tr>\n",
       "      <th>2195</th>\n",
       "      <td>2315</td>\n",
       "      <td>1400</td>\n",
       "      <td>23</td>\n",
       "      <td>23</td>\n",
       "      <td>2005</td>\n",
       "      <td>101000</td>\n",
       "      <td>660</td>\n",
       "      <td>23</td>\n",
       "      <td>23</td>\n",
       "      <td>23</td>\n",
       "      <td>23</td>\n",
       "    </tr>\n",
       "    <tr>\n",
       "      <th>2196</th>\n",
       "      <td>2316</td>\n",
       "      <td>1400</td>\n",
       "      <td>8</td>\n",
       "      <td>8</td>\n",
       "      <td>2000</td>\n",
       "      <td>170000</td>\n",
       "      <td>660</td>\n",
       "      <td>8</td>\n",
       "      <td>8</td>\n",
       "      <td>8</td>\n",
       "      <td>8</td>\n",
       "    </tr>\n",
       "  </tbody>\n",
       "</table>\n",
       "<p>2197 rows × 11 columns</p>\n",
       "</div>"
      ],
      "text/plain": [
       "      index  price  mark  model  year  mileage  engine_capacity  transmission  \\\n",
       "0         2    165    19     19  2005    47690             2000            19   \n",
       "1         3    190    25     25  2008   130661             1990            25   \n",
       "2         4    190     4      4  2006    66300              660             4   \n",
       "3         5    190     4      4  2004    81400              660             4   \n",
       "4         6    220    19     19  2010   117000             1200            19   \n",
       "...     ...    ...   ...    ...   ...      ...              ...           ...   \n",
       "2192   2311   1400    25     25  2005   101874             2000            25   \n",
       "2193   2312   1400    15     15  2007   112000             1300            15   \n",
       "2194   2313   1400    25     25  2009   121000              996            25   \n",
       "2195   2315   1400    23     23  2005   101000              660            23   \n",
       "2196   2316   1400     8      8  2000   170000              660             8   \n",
       "\n",
       "      drive  hand_drive  fuel  \n",
       "0        19          19    19  \n",
       "1        25          25    25  \n",
       "2         4           4     4  \n",
       "3         4           4     4  \n",
       "4        19          19    19  \n",
       "...     ...         ...   ...  \n",
       "2192     25          25    25  \n",
       "2193     15          15    15  \n",
       "2194     25          25    25  \n",
       "2195     23          23    23  \n",
       "2196      8           8     8  \n",
       "\n",
       "[2197 rows x 11 columns]"
      ]
     },
     "execution_count": 76,
     "metadata": {},
     "output_type": "execute_result"
    }
   ],
   "source": [
    "data.reset_index()"
   ]
  },
  {
   "cell_type": "code",
   "execution_count": 77,
   "id": "370a57ec",
   "metadata": {},
   "outputs": [],
   "source": [
    "x=data.drop(['price'],axis=1)\n",
    "y=data.price"
   ]
  },
  {
   "cell_type": "code",
   "execution_count": 78,
   "id": "281a0bf6",
   "metadata": {},
   "outputs": [],
   "source": [
    "from sklearn.model_selection import train_test_split\n",
    "from sklearn.linear_model import LogisticRegression, LinearRegression"
   ]
  },
  {
   "cell_type": "code",
   "execution_count": 79,
   "id": "5adcc383",
   "metadata": {},
   "outputs": [],
   "source": [
    "x_train,x_test,y_train,y_test=train_test_split(x,y, test_size=.22, random_state=444)"
   ]
  },
  {
   "cell_type": "code",
   "execution_count": 80,
   "id": "515ab947",
   "metadata": {},
   "outputs": [],
   "source": [
    "lr=LinearRegression()"
   ]
  },
  {
   "cell_type": "code",
   "execution_count": 81,
   "id": "dfdeb6c5",
   "metadata": {},
   "outputs": [],
   "source": [
    "lr_train=lr.fit(x_train,y_train)\n",
    "pred=lr.predict (x_test)\n"
   ]
  },
  {
   "cell_type": "code",
   "execution_count": 82,
   "id": "57b8094e",
   "metadata": {},
   "outputs": [],
   "source": [
    "from sklearn.metrics import r2_score,f1_score,accuracy_score,confusion_matrix"
   ]
  },
  {
   "cell_type": "code",
   "execution_count": 83,
   "id": "0594733f",
   "metadata": {},
   "outputs": [
    {
     "data": {
      "text/plain": [
       "0.009254734075650028"
      ]
     },
     "execution_count": 83,
     "metadata": {},
     "output_type": "execute_result"
    }
   ],
   "source": [
    "Traning_score=r2_score(y_test,pred) # model is not working\n",
    "Traning_score"
   ]
  },
  {
   "cell_type": "code",
   "execution_count": 84,
   "id": "b8ad9380",
   "metadata": {},
   "outputs": [],
   "source": [
    "Logistic=LogisticRegression()"
   ]
  },
  {
   "cell_type": "code",
   "execution_count": 85,
   "id": "e5326cc4",
   "metadata": {},
   "outputs": [],
   "source": [
    "LR=Logistic.fit(x_train,y_train)\n",
    "pred_log=LR.predict(x_test)"
   ]
  },
  {
   "cell_type": "code",
   "execution_count": 86,
   "id": "f4ff1041",
   "metadata": {},
   "outputs": [
    {
     "data": {
      "text/plain": [
       "array([1120,  850, 1120, 1120,  800, 1120,  850,  850,  850,  850, 1120,\n",
       "        790,  790,  850, 1120, 1120,  800, 1120, 1120,  850, 1120,  800,\n",
       "        790, 1120,  850,  790, 1120, 1120, 1120,  800, 1120, 1120,  800,\n",
       "        800, 1120,  800, 1120,  850,  800, 1120, 1120,  850, 1120,  790,\n",
       "        800,  800,  800, 1120,  790, 1120,  790,  800, 1120,  800, 1120,\n",
       "        790, 1120,  850,  850,  800, 1120,  800, 1120,  850,  850,  800,\n",
       "       1120, 1120, 1120, 1120,  790,  800,  800, 1120,  790,  790,  800,\n",
       "       1120,  790, 1120,  800, 1120,  790, 1120,  800,  800, 1120, 1120,\n",
       "       1120,  850,  800, 1120,  850,  790, 1120, 1120,  850, 1120, 1120,\n",
       "        850,  850, 1120, 1120, 1120,  850,  850,  790,  850,  800, 1120,\n",
       "        790, 1120,  800, 1120, 1120, 1120,  800,  800,  800, 1120, 1120,\n",
       "        790, 1120, 1120,  800,  850,  800,  800, 1120,  800,  790,  850,\n",
       "        790,  790, 1120, 1120,  800, 1120,  790, 1120, 1120,  850, 1120,\n",
       "        850,  800, 1120,  850,  800,  790, 1120, 1120,  800,  790,  800,\n",
       "        800,  850, 1120, 1120, 1120,  800,  790, 1120,  800,  800,  800,\n",
       "        790, 1120, 1120, 1120,  850,  800, 1120,  850,  850, 1120, 1300,\n",
       "        800,  790, 1120,  800,  800,  800, 1120,  850, 1120, 1120,  850,\n",
       "        850, 1120, 1300,  790,  790,  850,  800, 1120, 1120,  850, 1120,\n",
       "       1120,  790,  800, 1120,  800,  790,  790,  800,  850, 1120,  850,\n",
       "       1120,  790,  790,  800, 1120, 1120, 1120, 1120, 1120,  800, 1120,\n",
       "       1120, 1120, 1120, 1120, 1120,  800,  800, 1120, 1120, 1120,  800,\n",
       "       1120, 1120, 1120, 1120,  850, 1120, 1120, 1120,  800, 1120, 1120,\n",
       "       1120, 1120, 1120,  800,  800,  850,  850, 1120,  800,  800, 1120,\n",
       "        800, 1120, 1120,  800, 1120, 1120,  790, 1120, 1120,  790, 1120,\n",
       "        800, 1120,  800,  850, 1120,  790, 1120,  800, 1120,  790,  850,\n",
       "        800,  800,  800, 1120, 1120,  790,  850, 1120, 1120,  800, 1120,\n",
       "       1120,  800, 1120, 1120, 1120,  790, 1120,  800,  800,  790, 1120,\n",
       "       1120, 1120, 1120,  850,  790, 1120, 1120, 1120,  850,  850,  850,\n",
       "       1120, 1120, 1120, 1120, 1120, 1120,  850, 1120,  800, 1120,  800,\n",
       "       1120, 1120, 1120,  800,  850, 1120, 1120, 1120,  850, 1120,  800,\n",
       "        790, 1120, 1120, 1120,  800, 1120,  800,  800, 1120,  790, 1120,\n",
       "        850, 1120,  850,  800,  850,  800,  800, 1120,  790, 1120,  850,\n",
       "       1120,  850, 1120, 1120,  800,  850,  790, 1120,  850, 1120,  850,\n",
       "        800, 1120,  850,  850,  800,  850,  800, 1120,  800, 1120,  790,\n",
       "       1120, 1120,  800,  800,  850,  850, 1120, 1120, 1120,  800,  850,\n",
       "       1120, 1120, 1120, 1120,  850, 1120, 1120,  800, 1120, 1120,  850,\n",
       "        790, 1120, 1120,  850, 1120, 1120,  850,  800,  800, 1120,  800,\n",
       "       1120,  850,  800,  800,  800,  850, 1120, 1120, 1120, 1120,  790,\n",
       "       1120, 1120, 1120,  800,  800, 1120, 1120, 1120,  800, 1120,  800,\n",
       "       1120, 1120,  790, 1120, 1120, 1120, 1120, 1120, 1120, 1120,  800,\n",
       "        800,  850, 1120,  800,  850,  800,  800, 1120,  800, 1120,  790,\n",
       "       1120,  850,  800,  800, 1120, 1120,  850,  850, 1120, 1120,  790,\n",
       "       1120, 1120,  790, 1120,  850, 1120,  790, 1120,  790, 1120, 1120,\n",
       "        850, 1120, 1120, 1120,  800, 1120, 1120,  850,  850,  790,  790],\n",
       "      dtype=int64)"
      ]
     },
     "execution_count": 86,
     "metadata": {},
     "output_type": "execute_result"
    }
   ],
   "source": [
    "pred_log"
   ]
  },
  {
   "cell_type": "code",
   "execution_count": 87,
   "id": "98fa9918",
   "metadata": {},
   "outputs": [],
   "source": [
    "Accuracy_score=accuracy_score(y_test,pred_log)"
   ]
  },
  {
   "cell_type": "code",
   "execution_count": 88,
   "id": "3a524865",
   "metadata": {},
   "outputs": [
    {
     "data": {
      "text/plain": [
       "0.028925619834710745"
      ]
     },
     "execution_count": 88,
     "metadata": {},
     "output_type": "execute_result"
    }
   ],
   "source": [
    "Accuracy_score"
   ]
  },
  {
   "cell_type": "code",
   "execution_count": 89,
   "id": "442811df",
   "metadata": {},
   "outputs": [],
   "source": [
    "# Create KNN model"
   ]
  },
  {
   "cell_type": "code",
   "execution_count": 90,
   "id": "e2a06723",
   "metadata": {},
   "outputs": [],
   "source": [
    "# Select Feature using select K best feature celection\n"
   ]
  },
  {
   "cell_type": "code",
   "execution_count": 91,
   "id": "d8b1b333",
   "metadata": {},
   "outputs": [],
   "source": [
    "from sklearn.feature_selection import SelectKBest, f_regression"
   ]
  },
  {
   "cell_type": "code",
   "execution_count": 92,
   "id": "d6c4624e",
   "metadata": {},
   "outputs": [],
   "source": [
    "best_feature=SelectKBest(score_func=f_regression,k=4)"
   ]
  },
  {
   "cell_type": "code",
   "execution_count": 93,
   "id": "268e5c40",
   "metadata": {},
   "outputs": [],
   "source": [
    "fit=best_feature.fit(x,y)"
   ]
  },
  {
   "cell_type": "code",
   "execution_count": 94,
   "id": "b99322f3",
   "metadata": {},
   "outputs": [],
   "source": [
    "Data_score=pd.DataFrame(fit.scores_)\n",
    "data_cloumns=pd.DataFrame(x.columns)"
   ]
  },
  {
   "cell_type": "code",
   "execution_count": 95,
   "id": "5622ac36",
   "metadata": {},
   "outputs": [
    {
     "data": {
      "text/html": [
       "<div>\n",
       "<style scoped>\n",
       "    .dataframe tbody tr th:only-of-type {\n",
       "        vertical-align: middle;\n",
       "    }\n",
       "\n",
       "    .dataframe tbody tr th {\n",
       "        vertical-align: top;\n",
       "    }\n",
       "\n",
       "    .dataframe thead th {\n",
       "        text-align: right;\n",
       "    }\n",
       "</style>\n",
       "<table border=\"1\" class=\"dataframe\">\n",
       "  <thead>\n",
       "    <tr style=\"text-align: right;\">\n",
       "      <th></th>\n",
       "      <th>0</th>\n",
       "    </tr>\n",
       "  </thead>\n",
       "  <tbody>\n",
       "    <tr>\n",
       "      <th>0</th>\n",
       "      <td>18.785856</td>\n",
       "    </tr>\n",
       "    <tr>\n",
       "      <th>1</th>\n",
       "      <td>18.785856</td>\n",
       "    </tr>\n",
       "    <tr>\n",
       "      <th>2</th>\n",
       "      <td>131.043183</td>\n",
       "    </tr>\n",
       "    <tr>\n",
       "      <th>3</th>\n",
       "      <td>1.215951</td>\n",
       "    </tr>\n",
       "    <tr>\n",
       "      <th>4</th>\n",
       "      <td>82.048367</td>\n",
       "    </tr>\n",
       "    <tr>\n",
       "      <th>5</th>\n",
       "      <td>18.785856</td>\n",
       "    </tr>\n",
       "    <tr>\n",
       "      <th>6</th>\n",
       "      <td>18.785856</td>\n",
       "    </tr>\n",
       "    <tr>\n",
       "      <th>7</th>\n",
       "      <td>18.785856</td>\n",
       "    </tr>\n",
       "    <tr>\n",
       "      <th>8</th>\n",
       "      <td>18.785856</td>\n",
       "    </tr>\n",
       "  </tbody>\n",
       "</table>\n",
       "</div>"
      ],
      "text/plain": [
       "            0\n",
       "0   18.785856\n",
       "1   18.785856\n",
       "2  131.043183\n",
       "3    1.215951\n",
       "4   82.048367\n",
       "5   18.785856\n",
       "6   18.785856\n",
       "7   18.785856\n",
       "8   18.785856"
      ]
     },
     "execution_count": 95,
     "metadata": {},
     "output_type": "execute_result"
    }
   ],
   "source": [
    "Data_score"
   ]
  },
  {
   "cell_type": "code",
   "execution_count": 96,
   "id": "e48da471",
   "metadata": {},
   "outputs": [
    {
     "data": {
      "text/html": [
       "<div>\n",
       "<style scoped>\n",
       "    .dataframe tbody tr th:only-of-type {\n",
       "        vertical-align: middle;\n",
       "    }\n",
       "\n",
       "    .dataframe tbody tr th {\n",
       "        vertical-align: top;\n",
       "    }\n",
       "\n",
       "    .dataframe thead th {\n",
       "        text-align: right;\n",
       "    }\n",
       "</style>\n",
       "<table border=\"1\" class=\"dataframe\">\n",
       "  <thead>\n",
       "    <tr style=\"text-align: right;\">\n",
       "      <th></th>\n",
       "      <th>0</th>\n",
       "    </tr>\n",
       "  </thead>\n",
       "  <tbody>\n",
       "    <tr>\n",
       "      <th>0</th>\n",
       "      <td>mark</td>\n",
       "    </tr>\n",
       "    <tr>\n",
       "      <th>1</th>\n",
       "      <td>model</td>\n",
       "    </tr>\n",
       "    <tr>\n",
       "      <th>2</th>\n",
       "      <td>year</td>\n",
       "    </tr>\n",
       "    <tr>\n",
       "      <th>3</th>\n",
       "      <td>mileage</td>\n",
       "    </tr>\n",
       "    <tr>\n",
       "      <th>4</th>\n",
       "      <td>engine_capacity</td>\n",
       "    </tr>\n",
       "    <tr>\n",
       "      <th>5</th>\n",
       "      <td>transmission</td>\n",
       "    </tr>\n",
       "    <tr>\n",
       "      <th>6</th>\n",
       "      <td>drive</td>\n",
       "    </tr>\n",
       "    <tr>\n",
       "      <th>7</th>\n",
       "      <td>hand_drive</td>\n",
       "    </tr>\n",
       "    <tr>\n",
       "      <th>8</th>\n",
       "      <td>fuel</td>\n",
       "    </tr>\n",
       "  </tbody>\n",
       "</table>\n",
       "</div>"
      ],
      "text/plain": [
       "                 0\n",
       "0             mark\n",
       "1            model\n",
       "2             year\n",
       "3          mileage\n",
       "4  engine_capacity\n",
       "5     transmission\n",
       "6            drive\n",
       "7       hand_drive\n",
       "8             fuel"
      ]
     },
     "execution_count": 96,
     "metadata": {},
     "output_type": "execute_result"
    }
   ],
   "source": [
    "data_cloumns\n"
   ]
  },
  {
   "cell_type": "code",
   "execution_count": 97,
   "id": "364cd94c",
   "metadata": {},
   "outputs": [],
   "source": [
    "feature_score=pd.concat([data_cloumns, Data_score],axis=1)"
   ]
  },
  {
   "cell_type": "code",
   "execution_count": 98,
   "id": "6c398a01",
   "metadata": {},
   "outputs": [],
   "source": [
    "feature_score.columns=['feature_name','score']"
   ]
  },
  {
   "cell_type": "code",
   "execution_count": 99,
   "id": "4c159bcb",
   "metadata": {},
   "outputs": [
    {
     "name": "stdout",
     "output_type": "stream",
     "text": [
      "      feature_name       score\n",
      "2             year  131.043183\n",
      "4  engine_capacity   82.048367\n",
      "8             fuel   18.785856\n",
      "0             mark   18.785856\n"
     ]
    }
   ],
   "source": [
    "print(feature_score.nlargest(4,'score'))"
   ]
  },
  {
   "cell_type": "code",
   "execution_count": 100,
   "id": "833f1bc0",
   "metadata": {},
   "outputs": [],
   "source": [
    "new_x=data[['year','engine_capacity','fuel','mark']]"
   ]
  },
  {
   "cell_type": "code",
   "execution_count": 101,
   "id": "15028234",
   "metadata": {},
   "outputs": [
    {
     "data": {
      "text/html": [
       "<div>\n",
       "<style scoped>\n",
       "    .dataframe tbody tr th:only-of-type {\n",
       "        vertical-align: middle;\n",
       "    }\n",
       "\n",
       "    .dataframe tbody tr th {\n",
       "        vertical-align: top;\n",
       "    }\n",
       "\n",
       "    .dataframe thead th {\n",
       "        text-align: right;\n",
       "    }\n",
       "</style>\n",
       "<table border=\"1\" class=\"dataframe\">\n",
       "  <thead>\n",
       "    <tr style=\"text-align: right;\">\n",
       "      <th></th>\n",
       "      <th>year</th>\n",
       "      <th>engine_capacity</th>\n",
       "      <th>fuel</th>\n",
       "      <th>mark</th>\n",
       "    </tr>\n",
       "  </thead>\n",
       "  <tbody>\n",
       "    <tr>\n",
       "      <th>2</th>\n",
       "      <td>2005</td>\n",
       "      <td>2000</td>\n",
       "      <td>19</td>\n",
       "      <td>19</td>\n",
       "    </tr>\n",
       "    <tr>\n",
       "      <th>3</th>\n",
       "      <td>2008</td>\n",
       "      <td>1990</td>\n",
       "      <td>25</td>\n",
       "      <td>25</td>\n",
       "    </tr>\n",
       "    <tr>\n",
       "      <th>4</th>\n",
       "      <td>2006</td>\n",
       "      <td>660</td>\n",
       "      <td>4</td>\n",
       "      <td>4</td>\n",
       "    </tr>\n",
       "    <tr>\n",
       "      <th>5</th>\n",
       "      <td>2004</td>\n",
       "      <td>660</td>\n",
       "      <td>4</td>\n",
       "      <td>4</td>\n",
       "    </tr>\n",
       "    <tr>\n",
       "      <th>6</th>\n",
       "      <td>2010</td>\n",
       "      <td>1200</td>\n",
       "      <td>19</td>\n",
       "      <td>19</td>\n",
       "    </tr>\n",
       "    <tr>\n",
       "      <th>...</th>\n",
       "      <td>...</td>\n",
       "      <td>...</td>\n",
       "      <td>...</td>\n",
       "      <td>...</td>\n",
       "    </tr>\n",
       "    <tr>\n",
       "      <th>2311</th>\n",
       "      <td>2005</td>\n",
       "      <td>2000</td>\n",
       "      <td>25</td>\n",
       "      <td>25</td>\n",
       "    </tr>\n",
       "    <tr>\n",
       "      <th>2312</th>\n",
       "      <td>2007</td>\n",
       "      <td>1300</td>\n",
       "      <td>15</td>\n",
       "      <td>15</td>\n",
       "    </tr>\n",
       "    <tr>\n",
       "      <th>2313</th>\n",
       "      <td>2009</td>\n",
       "      <td>996</td>\n",
       "      <td>25</td>\n",
       "      <td>25</td>\n",
       "    </tr>\n",
       "    <tr>\n",
       "      <th>2315</th>\n",
       "      <td>2005</td>\n",
       "      <td>660</td>\n",
       "      <td>23</td>\n",
       "      <td>23</td>\n",
       "    </tr>\n",
       "    <tr>\n",
       "      <th>2316</th>\n",
       "      <td>2000</td>\n",
       "      <td>660</td>\n",
       "      <td>8</td>\n",
       "      <td>8</td>\n",
       "    </tr>\n",
       "  </tbody>\n",
       "</table>\n",
       "<p>2197 rows × 4 columns</p>\n",
       "</div>"
      ],
      "text/plain": [
       "      year  engine_capacity  fuel  mark\n",
       "2     2005             2000    19    19\n",
       "3     2008             1990    25    25\n",
       "4     2006              660     4     4\n",
       "5     2004              660     4     4\n",
       "6     2010             1200    19    19\n",
       "...    ...              ...   ...   ...\n",
       "2311  2005             2000    25    25\n",
       "2312  2007             1300    15    15\n",
       "2313  2009              996    25    25\n",
       "2315  2005              660    23    23\n",
       "2316  2000              660     8     8\n",
       "\n",
       "[2197 rows x 4 columns]"
      ]
     },
     "execution_count": 101,
     "metadata": {},
     "output_type": "execute_result"
    }
   ],
   "source": [
    "new_x"
   ]
  },
  {
   "cell_type": "code",
   "execution_count": 102,
   "id": "34e418a9",
   "metadata": {},
   "outputs": [],
   "source": [
    "from sklearn.neighbors import KNeighborsRegressor"
   ]
  },
  {
   "cell_type": "code",
   "execution_count": 103,
   "id": "ee509fbf",
   "metadata": {},
   "outputs": [],
   "source": [
    "knn=KNeighborsRegressor()"
   ]
  },
  {
   "cell_type": "code",
   "execution_count": null,
   "id": "8ae92508",
   "metadata": {},
   "outputs": [],
   "source": []
  },
  {
   "cell_type": "code",
   "execution_count": 104,
   "id": "fbfa09d7",
   "metadata": {},
   "outputs": [],
   "source": [
    "x_train,x_test,y_train,y_test=train_test_split(new_x,y,test_size=0.25,random_state=44)\n",
    "knn=knn.fit(x_train,y_train)\n",
    "pred_knn=knn.predict(x_test)"
   ]
  },
  {
   "cell_type": "code",
   "execution_count": 106,
   "id": "eecfc7b6",
   "metadata": {},
   "outputs": [],
   "source": [
    "r2_score=r2_score(y_test,pred_knn)"
   ]
  },
  {
   "cell_type": "code",
   "execution_count": 107,
   "id": "2de07668",
   "metadata": {},
   "outputs": [
    {
     "data": {
      "text/plain": [
       "0.19493475474651278"
      ]
     },
     "execution_count": 107,
     "metadata": {},
     "output_type": "execute_result"
    }
   ],
   "source": [
    "r2_score"
   ]
  },
  {
   "cell_type": "code",
   "execution_count": null,
   "id": "fad463e3",
   "metadata": {},
   "outputs": [],
   "source": []
  },
  {
   "cell_type": "code",
   "execution_count": 110,
   "id": "67287f65",
   "metadata": {},
   "outputs": [],
   "source": [
    "import pickle"
   ]
  },
  {
   "cell_type": "code",
   "execution_count": 112,
   "id": "6ed1a912",
   "metadata": {},
   "outputs": [],
   "source": [
    "pickle.dump(knn,open('Car Price','wb'))"
   ]
  },
  {
   "cell_type": "code",
   "execution_count": null,
   "id": "d77fc107",
   "metadata": {},
   "outputs": [],
   "source": []
  }
 ],
 "metadata": {
  "kernelspec": {
   "display_name": "Python 3 (ipykernel)",
   "language": "python",
   "name": "python3"
  },
  "language_info": {
   "codemirror_mode": {
    "name": "ipython",
    "version": 3
   },
   "file_extension": ".py",
   "mimetype": "text/x-python",
   "name": "python",
   "nbconvert_exporter": "python",
   "pygments_lexer": "ipython3",
   "version": "3.9.12"
  }
 },
 "nbformat": 4,
 "nbformat_minor": 5
}
