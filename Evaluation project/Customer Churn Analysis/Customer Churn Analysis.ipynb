{
 "cells": [
  {
   "cell_type": "code",
   "execution_count": 1,
   "id": "948a57a6",
   "metadata": {},
   "outputs": [],
   "source": [
    "import pandas as pd\n",
    "import numpy as np\n",
    "import matplotlib.pyplot as plt\n",
    "import seaborn as sns\n",
    "import warnings\n",
    "warnings.filterwarnings('ignore')"
   ]
  },
  {
   "cell_type": "code",
   "execution_count": 2,
   "id": "b26b301e",
   "metadata": {},
   "outputs": [
    {
     "data": {
      "text/html": [
       "<div>\n",
       "<style scoped>\n",
       "    .dataframe tbody tr th:only-of-type {\n",
       "        vertical-align: middle;\n",
       "    }\n",
       "\n",
       "    .dataframe tbody tr th {\n",
       "        vertical-align: top;\n",
       "    }\n",
       "\n",
       "    .dataframe thead th {\n",
       "        text-align: right;\n",
       "    }\n",
       "</style>\n",
       "<table border=\"1\" class=\"dataframe\">\n",
       "  <thead>\n",
       "    <tr style=\"text-align: right;\">\n",
       "      <th></th>\n",
       "      <th>customerID</th>\n",
       "      <th>gender</th>\n",
       "      <th>SeniorCitizen</th>\n",
       "      <th>Partner</th>\n",
       "      <th>Dependents</th>\n",
       "      <th>tenure</th>\n",
       "      <th>PhoneService</th>\n",
       "      <th>MultipleLines</th>\n",
       "      <th>InternetService</th>\n",
       "      <th>OnlineSecurity</th>\n",
       "      <th>...</th>\n",
       "      <th>DeviceProtection</th>\n",
       "      <th>TechSupport</th>\n",
       "      <th>StreamingTV</th>\n",
       "      <th>StreamingMovies</th>\n",
       "      <th>Contract</th>\n",
       "      <th>PaperlessBilling</th>\n",
       "      <th>PaymentMethod</th>\n",
       "      <th>MonthlyCharges</th>\n",
       "      <th>TotalCharges</th>\n",
       "      <th>Churn</th>\n",
       "    </tr>\n",
       "  </thead>\n",
       "  <tbody>\n",
       "    <tr>\n",
       "      <th>0</th>\n",
       "      <td>7590-VHVEG</td>\n",
       "      <td>Female</td>\n",
       "      <td>0</td>\n",
       "      <td>Yes</td>\n",
       "      <td>No</td>\n",
       "      <td>1</td>\n",
       "      <td>No</td>\n",
       "      <td>No phone service</td>\n",
       "      <td>DSL</td>\n",
       "      <td>No</td>\n",
       "      <td>...</td>\n",
       "      <td>No</td>\n",
       "      <td>No</td>\n",
       "      <td>No</td>\n",
       "      <td>No</td>\n",
       "      <td>Month-to-month</td>\n",
       "      <td>Yes</td>\n",
       "      <td>Electronic check</td>\n",
       "      <td>29.85</td>\n",
       "      <td>29.85</td>\n",
       "      <td>No</td>\n",
       "    </tr>\n",
       "    <tr>\n",
       "      <th>1</th>\n",
       "      <td>5575-GNVDE</td>\n",
       "      <td>Male</td>\n",
       "      <td>0</td>\n",
       "      <td>No</td>\n",
       "      <td>No</td>\n",
       "      <td>34</td>\n",
       "      <td>Yes</td>\n",
       "      <td>No</td>\n",
       "      <td>DSL</td>\n",
       "      <td>Yes</td>\n",
       "      <td>...</td>\n",
       "      <td>Yes</td>\n",
       "      <td>No</td>\n",
       "      <td>No</td>\n",
       "      <td>No</td>\n",
       "      <td>One year</td>\n",
       "      <td>No</td>\n",
       "      <td>Mailed check</td>\n",
       "      <td>56.95</td>\n",
       "      <td>1889.5</td>\n",
       "      <td>No</td>\n",
       "    </tr>\n",
       "    <tr>\n",
       "      <th>2</th>\n",
       "      <td>3668-QPYBK</td>\n",
       "      <td>Male</td>\n",
       "      <td>0</td>\n",
       "      <td>No</td>\n",
       "      <td>No</td>\n",
       "      <td>2</td>\n",
       "      <td>Yes</td>\n",
       "      <td>No</td>\n",
       "      <td>DSL</td>\n",
       "      <td>Yes</td>\n",
       "      <td>...</td>\n",
       "      <td>No</td>\n",
       "      <td>No</td>\n",
       "      <td>No</td>\n",
       "      <td>No</td>\n",
       "      <td>Month-to-month</td>\n",
       "      <td>Yes</td>\n",
       "      <td>Mailed check</td>\n",
       "      <td>53.85</td>\n",
       "      <td>108.15</td>\n",
       "      <td>Yes</td>\n",
       "    </tr>\n",
       "    <tr>\n",
       "      <th>3</th>\n",
       "      <td>7795-CFOCW</td>\n",
       "      <td>Male</td>\n",
       "      <td>0</td>\n",
       "      <td>No</td>\n",
       "      <td>No</td>\n",
       "      <td>45</td>\n",
       "      <td>No</td>\n",
       "      <td>No phone service</td>\n",
       "      <td>DSL</td>\n",
       "      <td>Yes</td>\n",
       "      <td>...</td>\n",
       "      <td>Yes</td>\n",
       "      <td>Yes</td>\n",
       "      <td>No</td>\n",
       "      <td>No</td>\n",
       "      <td>One year</td>\n",
       "      <td>No</td>\n",
       "      <td>Bank transfer (automatic)</td>\n",
       "      <td>42.30</td>\n",
       "      <td>1840.75</td>\n",
       "      <td>No</td>\n",
       "    </tr>\n",
       "    <tr>\n",
       "      <th>4</th>\n",
       "      <td>9237-HQITU</td>\n",
       "      <td>Female</td>\n",
       "      <td>0</td>\n",
       "      <td>No</td>\n",
       "      <td>No</td>\n",
       "      <td>2</td>\n",
       "      <td>Yes</td>\n",
       "      <td>No</td>\n",
       "      <td>Fiber optic</td>\n",
       "      <td>No</td>\n",
       "      <td>...</td>\n",
       "      <td>No</td>\n",
       "      <td>No</td>\n",
       "      <td>No</td>\n",
       "      <td>No</td>\n",
       "      <td>Month-to-month</td>\n",
       "      <td>Yes</td>\n",
       "      <td>Electronic check</td>\n",
       "      <td>70.70</td>\n",
       "      <td>151.65</td>\n",
       "      <td>Yes</td>\n",
       "    </tr>\n",
       "  </tbody>\n",
       "</table>\n",
       "<p>5 rows × 21 columns</p>\n",
       "</div>"
      ],
      "text/plain": [
       "   customerID  gender  SeniorCitizen Partner Dependents  tenure PhoneService  \\\n",
       "0  7590-VHVEG  Female              0     Yes         No       1           No   \n",
       "1  5575-GNVDE    Male              0      No         No      34          Yes   \n",
       "2  3668-QPYBK    Male              0      No         No       2          Yes   \n",
       "3  7795-CFOCW    Male              0      No         No      45           No   \n",
       "4  9237-HQITU  Female              0      No         No       2          Yes   \n",
       "\n",
       "      MultipleLines InternetService OnlineSecurity  ... DeviceProtection  \\\n",
       "0  No phone service             DSL             No  ...               No   \n",
       "1                No             DSL            Yes  ...              Yes   \n",
       "2                No             DSL            Yes  ...               No   \n",
       "3  No phone service             DSL            Yes  ...              Yes   \n",
       "4                No     Fiber optic             No  ...               No   \n",
       "\n",
       "  TechSupport StreamingTV StreamingMovies        Contract PaperlessBilling  \\\n",
       "0          No          No              No  Month-to-month              Yes   \n",
       "1          No          No              No        One year               No   \n",
       "2          No          No              No  Month-to-month              Yes   \n",
       "3         Yes          No              No        One year               No   \n",
       "4          No          No              No  Month-to-month              Yes   \n",
       "\n",
       "               PaymentMethod MonthlyCharges  TotalCharges Churn  \n",
       "0           Electronic check          29.85         29.85    No  \n",
       "1               Mailed check          56.95        1889.5    No  \n",
       "2               Mailed check          53.85        108.15   Yes  \n",
       "3  Bank transfer (automatic)          42.30       1840.75    No  \n",
       "4           Electronic check          70.70        151.65   Yes  \n",
       "\n",
       "[5 rows x 21 columns]"
      ]
     },
     "execution_count": 2,
     "metadata": {},
     "output_type": "execute_result"
    }
   ],
   "source": [
    "dt=pd.read_csv('https://raw.githubusercontent.com/dsrscientist/DSData/master/Telecom_customer_churn.csv')\n",
    "dt.head()"
   ]
  },
  {
   "cell_type": "code",
   "execution_count": 3,
   "id": "21b482cc",
   "metadata": {},
   "outputs": [
    {
     "data": {
      "text/plain": [
       "(7043, 21)"
      ]
     },
     "execution_count": 3,
     "metadata": {},
     "output_type": "execute_result"
    }
   ],
   "source": [
    "dt.shape   # show no.of column and rows"
   ]
  },
  {
   "cell_type": "code",
   "execution_count": 4,
   "id": "958c607f",
   "metadata": {},
   "outputs": [
    {
     "data": {
      "text/plain": [
       "customerID          0\n",
       "gender              0\n",
       "SeniorCitizen       0\n",
       "Partner             0\n",
       "Dependents          0\n",
       "tenure              0\n",
       "PhoneService        0\n",
       "MultipleLines       0\n",
       "InternetService     0\n",
       "OnlineSecurity      0\n",
       "OnlineBackup        0\n",
       "DeviceProtection    0\n",
       "TechSupport         0\n",
       "StreamingTV         0\n",
       "StreamingMovies     0\n",
       "Contract            0\n",
       "PaperlessBilling    0\n",
       "PaymentMethod       0\n",
       "MonthlyCharges      0\n",
       "TotalCharges        0\n",
       "Churn               0\n",
       "dtype: int64"
      ]
     },
     "execution_count": 4,
     "metadata": {},
     "output_type": "execute_result"
    }
   ],
   "source": [
    "dt.isna().sum()   # no miising data"
   ]
  },
  {
   "cell_type": "code",
   "execution_count": 5,
   "id": "603ce0fa",
   "metadata": {},
   "outputs": [
    {
     "name": "stdout",
     "output_type": "stream",
     "text": [
      "<class 'pandas.core.frame.DataFrame'>\n",
      "RangeIndex: 7043 entries, 0 to 7042\n",
      "Data columns (total 21 columns):\n",
      " #   Column            Non-Null Count  Dtype  \n",
      "---  ------            --------------  -----  \n",
      " 0   customerID        7043 non-null   object \n",
      " 1   gender            7043 non-null   object \n",
      " 2   SeniorCitizen     7043 non-null   int64  \n",
      " 3   Partner           7043 non-null   object \n",
      " 4   Dependents        7043 non-null   object \n",
      " 5   tenure            7043 non-null   int64  \n",
      " 6   PhoneService      7043 non-null   object \n",
      " 7   MultipleLines     7043 non-null   object \n",
      " 8   InternetService   7043 non-null   object \n",
      " 9   OnlineSecurity    7043 non-null   object \n",
      " 10  OnlineBackup      7043 non-null   object \n",
      " 11  DeviceProtection  7043 non-null   object \n",
      " 12  TechSupport       7043 non-null   object \n",
      " 13  StreamingTV       7043 non-null   object \n",
      " 14  StreamingMovies   7043 non-null   object \n",
      " 15  Contract          7043 non-null   object \n",
      " 16  PaperlessBilling  7043 non-null   object \n",
      " 17  PaymentMethod     7043 non-null   object \n",
      " 18  MonthlyCharges    7043 non-null   float64\n",
      " 19  TotalCharges      7043 non-null   object \n",
      " 20  Churn             7043 non-null   object \n",
      "dtypes: float64(1), int64(2), object(18)\n",
      "memory usage: 1.1+ MB\n"
     ]
    }
   ],
   "source": [
    "dt.info()"
   ]
  },
  {
   "cell_type": "code",
   "execution_count": 6,
   "id": "85a35a0e",
   "metadata": {},
   "outputs": [],
   "source": [
    "# Observation\n",
    "# 1. Columns value is object so need to convert in number\n",
    "# TotalCharges column is float column but showing Object."
   ]
  },
  {
   "cell_type": "code",
   "execution_count": 7,
   "id": "a92cf6cb",
   "metadata": {},
   "outputs": [
    {
     "data": {
      "text/plain": [
       "6531"
      ]
     },
     "execution_count": 7,
     "metadata": {},
     "output_type": "execute_result"
    }
   ],
   "source": [
    "dt['TotalCharges'].nunique()"
   ]
  },
  {
   "cell_type": "code",
   "execution_count": 3,
   "id": "238f612b",
   "metadata": {},
   "outputs": [
    {
     "data": {
      "text/html": [
       "<div>\n",
       "<style scoped>\n",
       "    .dataframe tbody tr th:only-of-type {\n",
       "        vertical-align: middle;\n",
       "    }\n",
       "\n",
       "    .dataframe tbody tr th {\n",
       "        vertical-align: top;\n",
       "    }\n",
       "\n",
       "    .dataframe thead th {\n",
       "        text-align: right;\n",
       "    }\n",
       "</style>\n",
       "<table border=\"1\" class=\"dataframe\">\n",
       "  <thead>\n",
       "    <tr style=\"text-align: right;\">\n",
       "      <th></th>\n",
       "      <th>customerID</th>\n",
       "      <th>gender</th>\n",
       "      <th>SeniorCitizen</th>\n",
       "      <th>Partner</th>\n",
       "      <th>Dependents</th>\n",
       "      <th>tenure</th>\n",
       "      <th>PhoneService</th>\n",
       "      <th>MultipleLines</th>\n",
       "      <th>InternetService</th>\n",
       "      <th>OnlineSecurity</th>\n",
       "      <th>...</th>\n",
       "      <th>DeviceProtection</th>\n",
       "      <th>TechSupport</th>\n",
       "      <th>StreamingTV</th>\n",
       "      <th>StreamingMovies</th>\n",
       "      <th>Contract</th>\n",
       "      <th>PaperlessBilling</th>\n",
       "      <th>PaymentMethod</th>\n",
       "      <th>MonthlyCharges</th>\n",
       "      <th>TotalCharges</th>\n",
       "      <th>Churn</th>\n",
       "    </tr>\n",
       "  </thead>\n",
       "  <tbody>\n",
       "    <tr>\n",
       "      <th>488</th>\n",
       "      <td>4472-LVYGI</td>\n",
       "      <td>Female</td>\n",
       "      <td>0</td>\n",
       "      <td>Yes</td>\n",
       "      <td>Yes</td>\n",
       "      <td>0</td>\n",
       "      <td>No</td>\n",
       "      <td>No phone service</td>\n",
       "      <td>DSL</td>\n",
       "      <td>Yes</td>\n",
       "      <td>...</td>\n",
       "      <td>Yes</td>\n",
       "      <td>Yes</td>\n",
       "      <td>Yes</td>\n",
       "      <td>No</td>\n",
       "      <td>Two year</td>\n",
       "      <td>Yes</td>\n",
       "      <td>Bank transfer (automatic)</td>\n",
       "      <td>52.55</td>\n",
       "      <td></td>\n",
       "      <td>No</td>\n",
       "    </tr>\n",
       "    <tr>\n",
       "      <th>753</th>\n",
       "      <td>3115-CZMZD</td>\n",
       "      <td>Male</td>\n",
       "      <td>0</td>\n",
       "      <td>No</td>\n",
       "      <td>Yes</td>\n",
       "      <td>0</td>\n",
       "      <td>Yes</td>\n",
       "      <td>No</td>\n",
       "      <td>No</td>\n",
       "      <td>No internet service</td>\n",
       "      <td>...</td>\n",
       "      <td>No internet service</td>\n",
       "      <td>No internet service</td>\n",
       "      <td>No internet service</td>\n",
       "      <td>No internet service</td>\n",
       "      <td>Two year</td>\n",
       "      <td>No</td>\n",
       "      <td>Mailed check</td>\n",
       "      <td>20.25</td>\n",
       "      <td></td>\n",
       "      <td>No</td>\n",
       "    </tr>\n",
       "    <tr>\n",
       "      <th>936</th>\n",
       "      <td>5709-LVOEQ</td>\n",
       "      <td>Female</td>\n",
       "      <td>0</td>\n",
       "      <td>Yes</td>\n",
       "      <td>Yes</td>\n",
       "      <td>0</td>\n",
       "      <td>Yes</td>\n",
       "      <td>No</td>\n",
       "      <td>DSL</td>\n",
       "      <td>Yes</td>\n",
       "      <td>...</td>\n",
       "      <td>Yes</td>\n",
       "      <td>No</td>\n",
       "      <td>Yes</td>\n",
       "      <td>Yes</td>\n",
       "      <td>Two year</td>\n",
       "      <td>No</td>\n",
       "      <td>Mailed check</td>\n",
       "      <td>80.85</td>\n",
       "      <td></td>\n",
       "      <td>No</td>\n",
       "    </tr>\n",
       "    <tr>\n",
       "      <th>1082</th>\n",
       "      <td>4367-NUYAO</td>\n",
       "      <td>Male</td>\n",
       "      <td>0</td>\n",
       "      <td>Yes</td>\n",
       "      <td>Yes</td>\n",
       "      <td>0</td>\n",
       "      <td>Yes</td>\n",
       "      <td>Yes</td>\n",
       "      <td>No</td>\n",
       "      <td>No internet service</td>\n",
       "      <td>...</td>\n",
       "      <td>No internet service</td>\n",
       "      <td>No internet service</td>\n",
       "      <td>No internet service</td>\n",
       "      <td>No internet service</td>\n",
       "      <td>Two year</td>\n",
       "      <td>No</td>\n",
       "      <td>Mailed check</td>\n",
       "      <td>25.75</td>\n",
       "      <td></td>\n",
       "      <td>No</td>\n",
       "    </tr>\n",
       "    <tr>\n",
       "      <th>1340</th>\n",
       "      <td>1371-DWPAZ</td>\n",
       "      <td>Female</td>\n",
       "      <td>0</td>\n",
       "      <td>Yes</td>\n",
       "      <td>Yes</td>\n",
       "      <td>0</td>\n",
       "      <td>No</td>\n",
       "      <td>No phone service</td>\n",
       "      <td>DSL</td>\n",
       "      <td>Yes</td>\n",
       "      <td>...</td>\n",
       "      <td>Yes</td>\n",
       "      <td>Yes</td>\n",
       "      <td>Yes</td>\n",
       "      <td>No</td>\n",
       "      <td>Two year</td>\n",
       "      <td>No</td>\n",
       "      <td>Credit card (automatic)</td>\n",
       "      <td>56.05</td>\n",
       "      <td></td>\n",
       "      <td>No</td>\n",
       "    </tr>\n",
       "    <tr>\n",
       "      <th>3331</th>\n",
       "      <td>7644-OMVMY</td>\n",
       "      <td>Male</td>\n",
       "      <td>0</td>\n",
       "      <td>Yes</td>\n",
       "      <td>Yes</td>\n",
       "      <td>0</td>\n",
       "      <td>Yes</td>\n",
       "      <td>No</td>\n",
       "      <td>No</td>\n",
       "      <td>No internet service</td>\n",
       "      <td>...</td>\n",
       "      <td>No internet service</td>\n",
       "      <td>No internet service</td>\n",
       "      <td>No internet service</td>\n",
       "      <td>No internet service</td>\n",
       "      <td>Two year</td>\n",
       "      <td>No</td>\n",
       "      <td>Mailed check</td>\n",
       "      <td>19.85</td>\n",
       "      <td></td>\n",
       "      <td>No</td>\n",
       "    </tr>\n",
       "    <tr>\n",
       "      <th>3826</th>\n",
       "      <td>3213-VVOLG</td>\n",
       "      <td>Male</td>\n",
       "      <td>0</td>\n",
       "      <td>Yes</td>\n",
       "      <td>Yes</td>\n",
       "      <td>0</td>\n",
       "      <td>Yes</td>\n",
       "      <td>Yes</td>\n",
       "      <td>No</td>\n",
       "      <td>No internet service</td>\n",
       "      <td>...</td>\n",
       "      <td>No internet service</td>\n",
       "      <td>No internet service</td>\n",
       "      <td>No internet service</td>\n",
       "      <td>No internet service</td>\n",
       "      <td>Two year</td>\n",
       "      <td>No</td>\n",
       "      <td>Mailed check</td>\n",
       "      <td>25.35</td>\n",
       "      <td></td>\n",
       "      <td>No</td>\n",
       "    </tr>\n",
       "    <tr>\n",
       "      <th>4380</th>\n",
       "      <td>2520-SGTTA</td>\n",
       "      <td>Female</td>\n",
       "      <td>0</td>\n",
       "      <td>Yes</td>\n",
       "      <td>Yes</td>\n",
       "      <td>0</td>\n",
       "      <td>Yes</td>\n",
       "      <td>No</td>\n",
       "      <td>No</td>\n",
       "      <td>No internet service</td>\n",
       "      <td>...</td>\n",
       "      <td>No internet service</td>\n",
       "      <td>No internet service</td>\n",
       "      <td>No internet service</td>\n",
       "      <td>No internet service</td>\n",
       "      <td>Two year</td>\n",
       "      <td>No</td>\n",
       "      <td>Mailed check</td>\n",
       "      <td>20.00</td>\n",
       "      <td></td>\n",
       "      <td>No</td>\n",
       "    </tr>\n",
       "    <tr>\n",
       "      <th>5218</th>\n",
       "      <td>2923-ARZLG</td>\n",
       "      <td>Male</td>\n",
       "      <td>0</td>\n",
       "      <td>Yes</td>\n",
       "      <td>Yes</td>\n",
       "      <td>0</td>\n",
       "      <td>Yes</td>\n",
       "      <td>No</td>\n",
       "      <td>No</td>\n",
       "      <td>No internet service</td>\n",
       "      <td>...</td>\n",
       "      <td>No internet service</td>\n",
       "      <td>No internet service</td>\n",
       "      <td>No internet service</td>\n",
       "      <td>No internet service</td>\n",
       "      <td>One year</td>\n",
       "      <td>Yes</td>\n",
       "      <td>Mailed check</td>\n",
       "      <td>19.70</td>\n",
       "      <td></td>\n",
       "      <td>No</td>\n",
       "    </tr>\n",
       "    <tr>\n",
       "      <th>6670</th>\n",
       "      <td>4075-WKNIU</td>\n",
       "      <td>Female</td>\n",
       "      <td>0</td>\n",
       "      <td>Yes</td>\n",
       "      <td>Yes</td>\n",
       "      <td>0</td>\n",
       "      <td>Yes</td>\n",
       "      <td>Yes</td>\n",
       "      <td>DSL</td>\n",
       "      <td>No</td>\n",
       "      <td>...</td>\n",
       "      <td>Yes</td>\n",
       "      <td>Yes</td>\n",
       "      <td>Yes</td>\n",
       "      <td>No</td>\n",
       "      <td>Two year</td>\n",
       "      <td>No</td>\n",
       "      <td>Mailed check</td>\n",
       "      <td>73.35</td>\n",
       "      <td></td>\n",
       "      <td>No</td>\n",
       "    </tr>\n",
       "    <tr>\n",
       "      <th>6754</th>\n",
       "      <td>2775-SEFEE</td>\n",
       "      <td>Male</td>\n",
       "      <td>0</td>\n",
       "      <td>No</td>\n",
       "      <td>Yes</td>\n",
       "      <td>0</td>\n",
       "      <td>Yes</td>\n",
       "      <td>Yes</td>\n",
       "      <td>DSL</td>\n",
       "      <td>Yes</td>\n",
       "      <td>...</td>\n",
       "      <td>No</td>\n",
       "      <td>Yes</td>\n",
       "      <td>No</td>\n",
       "      <td>No</td>\n",
       "      <td>Two year</td>\n",
       "      <td>Yes</td>\n",
       "      <td>Bank transfer (automatic)</td>\n",
       "      <td>61.90</td>\n",
       "      <td></td>\n",
       "      <td>No</td>\n",
       "    </tr>\n",
       "  </tbody>\n",
       "</table>\n",
       "<p>11 rows × 21 columns</p>\n",
       "</div>"
      ],
      "text/plain": [
       "      customerID  gender  SeniorCitizen Partner Dependents  tenure  \\\n",
       "488   4472-LVYGI  Female              0     Yes        Yes       0   \n",
       "753   3115-CZMZD    Male              0      No        Yes       0   \n",
       "936   5709-LVOEQ  Female              0     Yes        Yes       0   \n",
       "1082  4367-NUYAO    Male              0     Yes        Yes       0   \n",
       "1340  1371-DWPAZ  Female              0     Yes        Yes       0   \n",
       "3331  7644-OMVMY    Male              0     Yes        Yes       0   \n",
       "3826  3213-VVOLG    Male              0     Yes        Yes       0   \n",
       "4380  2520-SGTTA  Female              0     Yes        Yes       0   \n",
       "5218  2923-ARZLG    Male              0     Yes        Yes       0   \n",
       "6670  4075-WKNIU  Female              0     Yes        Yes       0   \n",
       "6754  2775-SEFEE    Male              0      No        Yes       0   \n",
       "\n",
       "     PhoneService     MultipleLines InternetService       OnlineSecurity  ...  \\\n",
       "488            No  No phone service             DSL                  Yes  ...   \n",
       "753           Yes                No              No  No internet service  ...   \n",
       "936           Yes                No             DSL                  Yes  ...   \n",
       "1082          Yes               Yes              No  No internet service  ...   \n",
       "1340           No  No phone service             DSL                  Yes  ...   \n",
       "3331          Yes                No              No  No internet service  ...   \n",
       "3826          Yes               Yes              No  No internet service  ...   \n",
       "4380          Yes                No              No  No internet service  ...   \n",
       "5218          Yes                No              No  No internet service  ...   \n",
       "6670          Yes               Yes             DSL                   No  ...   \n",
       "6754          Yes               Yes             DSL                  Yes  ...   \n",
       "\n",
       "         DeviceProtection          TechSupport          StreamingTV  \\\n",
       "488                   Yes                  Yes                  Yes   \n",
       "753   No internet service  No internet service  No internet service   \n",
       "936                   Yes                   No                  Yes   \n",
       "1082  No internet service  No internet service  No internet service   \n",
       "1340                  Yes                  Yes                  Yes   \n",
       "3331  No internet service  No internet service  No internet service   \n",
       "3826  No internet service  No internet service  No internet service   \n",
       "4380  No internet service  No internet service  No internet service   \n",
       "5218  No internet service  No internet service  No internet service   \n",
       "6670                  Yes                  Yes                  Yes   \n",
       "6754                   No                  Yes                   No   \n",
       "\n",
       "          StreamingMovies  Contract PaperlessBilling  \\\n",
       "488                    No  Two year              Yes   \n",
       "753   No internet service  Two year               No   \n",
       "936                   Yes  Two year               No   \n",
       "1082  No internet service  Two year               No   \n",
       "1340                   No  Two year               No   \n",
       "3331  No internet service  Two year               No   \n",
       "3826  No internet service  Two year               No   \n",
       "4380  No internet service  Two year               No   \n",
       "5218  No internet service  One year              Yes   \n",
       "6670                   No  Two year               No   \n",
       "6754                   No  Two year              Yes   \n",
       "\n",
       "                  PaymentMethod MonthlyCharges  TotalCharges Churn  \n",
       "488   Bank transfer (automatic)          52.55                  No  \n",
       "753                Mailed check          20.25                  No  \n",
       "936                Mailed check          80.85                  No  \n",
       "1082               Mailed check          25.75                  No  \n",
       "1340    Credit card (automatic)          56.05                  No  \n",
       "3331               Mailed check          19.85                  No  \n",
       "3826               Mailed check          25.35                  No  \n",
       "4380               Mailed check          20.00                  No  \n",
       "5218               Mailed check          19.70                  No  \n",
       "6670               Mailed check          73.35                  No  \n",
       "6754  Bank transfer (automatic)          61.90                  No  \n",
       "\n",
       "[11 rows x 21 columns]"
      ]
     },
     "execution_count": 3,
     "metadata": {},
     "output_type": "execute_result"
    }
   ],
   "source": [
    "# Checking TotalCharges column for object value\n",
    "dt.loc[dt['TotalCharges']==\" \"]"
   ]
  },
  {
   "cell_type": "code",
   "execution_count": 4,
   "id": "9e5d62d0",
   "metadata": {},
   "outputs": [],
   "source": [
    "# Observetion\n",
    "# TotalCharges= space is present in this column. that is why dtype is object."
   ]
  },
  {
   "cell_type": "code",
   "execution_count": 4,
   "id": "0fa5a1e4",
   "metadata": {},
   "outputs": [],
   "source": [
    "dt['TotalCharges']=dt['TotalCharges'].replace(\" \",np.NaN) # space is converted into NaN value."
   ]
  },
  {
   "cell_type": "code",
   "execution_count": 5,
   "id": "182c8c2d",
   "metadata": {},
   "outputs": [
    {
     "data": {
      "text/plain": [
       "customerID           0\n",
       "gender               0\n",
       "SeniorCitizen        0\n",
       "Partner              0\n",
       "Dependents           0\n",
       "tenure               0\n",
       "PhoneService         0\n",
       "MultipleLines        0\n",
       "InternetService      0\n",
       "OnlineSecurity       0\n",
       "OnlineBackup         0\n",
       "DeviceProtection     0\n",
       "TechSupport          0\n",
       "StreamingTV          0\n",
       "StreamingMovies      0\n",
       "Contract             0\n",
       "PaperlessBilling     0\n",
       "PaymentMethod        0\n",
       "MonthlyCharges       0\n",
       "TotalCharges        11\n",
       "Churn                0\n",
       "dtype: int64"
      ]
     },
     "execution_count": 5,
     "metadata": {},
     "output_type": "execute_result"
    }
   ],
   "source": [
    "dt.isna().sum() # now NaN value is present in TotalCharges column"
   ]
  },
  {
   "cell_type": "code",
   "execution_count": 7,
   "id": "85dde084",
   "metadata": {},
   "outputs": [
    {
     "data": {
      "text/plain": [
       "dtype('O')"
      ]
     },
     "execution_count": 7,
     "metadata": {},
     "output_type": "execute_result"
    }
   ],
   "source": [
    "dt['TotalCharges'].dtype\n"
   ]
  },
  {
   "cell_type": "code",
   "execution_count": 6,
   "id": "36cd1acc",
   "metadata": {},
   "outputs": [],
   "source": [
    "dt['TotalCharges']=dt['TotalCharges'].astype(float) # string converted into float value"
   ]
  },
  {
   "cell_type": "code",
   "execution_count": 7,
   "id": "2742044e",
   "metadata": {},
   "outputs": [
    {
     "data": {
      "text/plain": [
       "dtype('float64')"
      ]
     },
     "execution_count": 7,
     "metadata": {},
     "output_type": "execute_result"
    }
   ],
   "source": [
    "dt['TotalCharges'].dtype"
   ]
  },
  {
   "cell_type": "code",
   "execution_count": 8,
   "id": "06934b1d",
   "metadata": {},
   "outputs": [],
   "source": [
    "#  We fill the NaN value with mean value of the respective column value.\n",
    "dt['TotalCharges']=dt['TotalCharges'].fillna(dt['TotalCharges'].mean())"
   ]
  },
  {
   "cell_type": "code",
   "execution_count": 9,
   "id": "73949015",
   "metadata": {},
   "outputs": [
    {
     "data": {
      "text/html": [
       "<div>\n",
       "<style scoped>\n",
       "    .dataframe tbody tr th:only-of-type {\n",
       "        vertical-align: middle;\n",
       "    }\n",
       "\n",
       "    .dataframe tbody tr th {\n",
       "        vertical-align: top;\n",
       "    }\n",
       "\n",
       "    .dataframe thead th {\n",
       "        text-align: right;\n",
       "    }\n",
       "</style>\n",
       "<table border=\"1\" class=\"dataframe\">\n",
       "  <thead>\n",
       "    <tr style=\"text-align: right;\">\n",
       "      <th></th>\n",
       "      <th>customerID</th>\n",
       "      <th>gender</th>\n",
       "      <th>SeniorCitizen</th>\n",
       "      <th>Partner</th>\n",
       "      <th>Dependents</th>\n",
       "      <th>tenure</th>\n",
       "      <th>PhoneService</th>\n",
       "      <th>MultipleLines</th>\n",
       "      <th>InternetService</th>\n",
       "      <th>OnlineSecurity</th>\n",
       "      <th>...</th>\n",
       "      <th>DeviceProtection</th>\n",
       "      <th>TechSupport</th>\n",
       "      <th>StreamingTV</th>\n",
       "      <th>StreamingMovies</th>\n",
       "      <th>Contract</th>\n",
       "      <th>PaperlessBilling</th>\n",
       "      <th>PaymentMethod</th>\n",
       "      <th>MonthlyCharges</th>\n",
       "      <th>TotalCharges</th>\n",
       "      <th>Churn</th>\n",
       "    </tr>\n",
       "  </thead>\n",
       "  <tbody>\n",
       "    <tr>\n",
       "      <th>0</th>\n",
       "      <td>7590-VHVEG</td>\n",
       "      <td>Female</td>\n",
       "      <td>0</td>\n",
       "      <td>Yes</td>\n",
       "      <td>No</td>\n",
       "      <td>1</td>\n",
       "      <td>No</td>\n",
       "      <td>No phone service</td>\n",
       "      <td>DSL</td>\n",
       "      <td>No</td>\n",
       "      <td>...</td>\n",
       "      <td>No</td>\n",
       "      <td>No</td>\n",
       "      <td>No</td>\n",
       "      <td>No</td>\n",
       "      <td>Month-to-month</td>\n",
       "      <td>Yes</td>\n",
       "      <td>Electronic check</td>\n",
       "      <td>29.85</td>\n",
       "      <td>29.85</td>\n",
       "      <td>No</td>\n",
       "    </tr>\n",
       "    <tr>\n",
       "      <th>1</th>\n",
       "      <td>5575-GNVDE</td>\n",
       "      <td>Male</td>\n",
       "      <td>0</td>\n",
       "      <td>No</td>\n",
       "      <td>No</td>\n",
       "      <td>34</td>\n",
       "      <td>Yes</td>\n",
       "      <td>No</td>\n",
       "      <td>DSL</td>\n",
       "      <td>Yes</td>\n",
       "      <td>...</td>\n",
       "      <td>Yes</td>\n",
       "      <td>No</td>\n",
       "      <td>No</td>\n",
       "      <td>No</td>\n",
       "      <td>One year</td>\n",
       "      <td>No</td>\n",
       "      <td>Mailed check</td>\n",
       "      <td>56.95</td>\n",
       "      <td>1889.50</td>\n",
       "      <td>No</td>\n",
       "    </tr>\n",
       "    <tr>\n",
       "      <th>2</th>\n",
       "      <td>3668-QPYBK</td>\n",
       "      <td>Male</td>\n",
       "      <td>0</td>\n",
       "      <td>No</td>\n",
       "      <td>No</td>\n",
       "      <td>2</td>\n",
       "      <td>Yes</td>\n",
       "      <td>No</td>\n",
       "      <td>DSL</td>\n",
       "      <td>Yes</td>\n",
       "      <td>...</td>\n",
       "      <td>No</td>\n",
       "      <td>No</td>\n",
       "      <td>No</td>\n",
       "      <td>No</td>\n",
       "      <td>Month-to-month</td>\n",
       "      <td>Yes</td>\n",
       "      <td>Mailed check</td>\n",
       "      <td>53.85</td>\n",
       "      <td>108.15</td>\n",
       "      <td>Yes</td>\n",
       "    </tr>\n",
       "    <tr>\n",
       "      <th>3</th>\n",
       "      <td>7795-CFOCW</td>\n",
       "      <td>Male</td>\n",
       "      <td>0</td>\n",
       "      <td>No</td>\n",
       "      <td>No</td>\n",
       "      <td>45</td>\n",
       "      <td>No</td>\n",
       "      <td>No phone service</td>\n",
       "      <td>DSL</td>\n",
       "      <td>Yes</td>\n",
       "      <td>...</td>\n",
       "      <td>Yes</td>\n",
       "      <td>Yes</td>\n",
       "      <td>No</td>\n",
       "      <td>No</td>\n",
       "      <td>One year</td>\n",
       "      <td>No</td>\n",
       "      <td>Bank transfer (automatic)</td>\n",
       "      <td>42.30</td>\n",
       "      <td>1840.75</td>\n",
       "      <td>No</td>\n",
       "    </tr>\n",
       "    <tr>\n",
       "      <th>4</th>\n",
       "      <td>9237-HQITU</td>\n",
       "      <td>Female</td>\n",
       "      <td>0</td>\n",
       "      <td>No</td>\n",
       "      <td>No</td>\n",
       "      <td>2</td>\n",
       "      <td>Yes</td>\n",
       "      <td>No</td>\n",
       "      <td>Fiber optic</td>\n",
       "      <td>No</td>\n",
       "      <td>...</td>\n",
       "      <td>No</td>\n",
       "      <td>No</td>\n",
       "      <td>No</td>\n",
       "      <td>No</td>\n",
       "      <td>Month-to-month</td>\n",
       "      <td>Yes</td>\n",
       "      <td>Electronic check</td>\n",
       "      <td>70.70</td>\n",
       "      <td>151.65</td>\n",
       "      <td>Yes</td>\n",
       "    </tr>\n",
       "  </tbody>\n",
       "</table>\n",
       "<p>5 rows × 21 columns</p>\n",
       "</div>"
      ],
      "text/plain": [
       "   customerID  gender  SeniorCitizen Partner Dependents  tenure PhoneService  \\\n",
       "0  7590-VHVEG  Female              0     Yes         No       1           No   \n",
       "1  5575-GNVDE    Male              0      No         No      34          Yes   \n",
       "2  3668-QPYBK    Male              0      No         No       2          Yes   \n",
       "3  7795-CFOCW    Male              0      No         No      45           No   \n",
       "4  9237-HQITU  Female              0      No         No       2          Yes   \n",
       "\n",
       "      MultipleLines InternetService OnlineSecurity  ... DeviceProtection  \\\n",
       "0  No phone service             DSL             No  ...               No   \n",
       "1                No             DSL            Yes  ...              Yes   \n",
       "2                No             DSL            Yes  ...               No   \n",
       "3  No phone service             DSL            Yes  ...              Yes   \n",
       "4                No     Fiber optic             No  ...               No   \n",
       "\n",
       "  TechSupport StreamingTV StreamingMovies        Contract PaperlessBilling  \\\n",
       "0          No          No              No  Month-to-month              Yes   \n",
       "1          No          No              No        One year               No   \n",
       "2          No          No              No  Month-to-month              Yes   \n",
       "3         Yes          No              No        One year               No   \n",
       "4          No          No              No  Month-to-month              Yes   \n",
       "\n",
       "               PaymentMethod MonthlyCharges  TotalCharges  Churn  \n",
       "0           Electronic check          29.85         29.85     No  \n",
       "1               Mailed check          56.95       1889.50     No  \n",
       "2               Mailed check          53.85        108.15    Yes  \n",
       "3  Bank transfer (automatic)          42.30       1840.75     No  \n",
       "4           Electronic check          70.70        151.65    Yes  \n",
       "\n",
       "[5 rows x 21 columns]"
      ]
     },
     "execution_count": 9,
     "metadata": {},
     "output_type": "execute_result"
    }
   ],
   "source": [
    "dt.head()"
   ]
  },
  {
   "cell_type": "code",
   "execution_count": 12,
   "id": "6517a941",
   "metadata": {},
   "outputs": [
    {
     "name": "stdout",
     "output_type": "stream",
     "text": [
      "<class 'pandas.core.frame.DataFrame'>\n",
      "RangeIndex: 7043 entries, 0 to 7042\n",
      "Data columns (total 21 columns):\n",
      " #   Column            Non-Null Count  Dtype  \n",
      "---  ------            --------------  -----  \n",
      " 0   customerID        7043 non-null   object \n",
      " 1   gender            7043 non-null   object \n",
      " 2   SeniorCitizen     7043 non-null   int64  \n",
      " 3   Partner           7043 non-null   object \n",
      " 4   Dependents        7043 non-null   object \n",
      " 5   tenure            7043 non-null   int64  \n",
      " 6   PhoneService      7043 non-null   object \n",
      " 7   MultipleLines     7043 non-null   object \n",
      " 8   InternetService   7043 non-null   object \n",
      " 9   OnlineSecurity    7043 non-null   object \n",
      " 10  OnlineBackup      7043 non-null   object \n",
      " 11  DeviceProtection  7043 non-null   object \n",
      " 12  TechSupport       7043 non-null   object \n",
      " 13  StreamingTV       7043 non-null   object \n",
      " 14  StreamingMovies   7043 non-null   object \n",
      " 15  Contract          7043 non-null   object \n",
      " 16  PaperlessBilling  7043 non-null   object \n",
      " 17  PaymentMethod     7043 non-null   object \n",
      " 18  MonthlyCharges    7043 non-null   float64\n",
      " 19  TotalCharges      7043 non-null   float64\n",
      " 20  Churn             7043 non-null   object \n",
      "dtypes: float64(2), int64(2), object(17)\n",
      "memory usage: 1.1+ MB\n"
     ]
    }
   ],
   "source": [
    "dt.info()"
   ]
  },
  {
   "cell_type": "code",
   "execution_count": 13,
   "id": "074603a1",
   "metadata": {},
   "outputs": [],
   "source": [
    "# Observetion\n",
    "# Now Totalcharges column is float"
   ]
  },
  {
   "cell_type": "code",
   "execution_count": 19,
   "id": "f5388851",
   "metadata": {},
   "outputs": [],
   "source": [
    "# Cheking type of data of each column & vizualization in graph\n"
   ]
  },
  {
   "cell_type": "code",
   "execution_count": 20,
   "id": "d1b00775",
   "metadata": {},
   "outputs": [],
   "source": [
    "# customerID- This nominal data\n"
   ]
  },
  {
   "cell_type": "code",
   "execution_count": 21,
   "id": "298ca3ee",
   "metadata": {},
   "outputs": [
    {
     "name": "stdout",
     "output_type": "stream",
     "text": [
      "Male      3555\n",
      "Female    3488\n",
      "Name: gender, dtype: int64\n"
     ]
    },
    {
     "data": {
      "image/png": "[encoded data removed]",
      "text/plain": [
       "<Figure size 432x288 with 1 Axes>"
      ]
     },
     "metadata": {
      "needs_background": "light"
     },
     "output_type": "display_data"
    }
   ],
   "source": [
    "print(dt['gender'].value_counts())\n",
    "ax=sns.countplot(dt['gender'].value_counts())"
   ]
  },
  {
   "cell_type": "code",
   "execution_count": null,
   "id": "660b6efe",
   "metadata": {},
   "outputs": [],
   "source": [
    "# Observation\n",
    "# Male is 3555 & Female-3488\n",
    "# Male & female is almost same taking service in this dataset"
   ]
  },
  {
   "cell_type": "code",
   "execution_count": 22,
   "id": "52843bee",
   "metadata": {},
   "outputs": [
    {
     "name": "stdout",
     "output_type": "stream",
     "text": [
      "0    5901\n",
      "1    1142\n",
      "Name: SeniorCitizen, dtype: int64\n"
     ]
    },
    {
     "data": {
      "image/png": "[encoded data removed]",
      "text/plain": [
       "<Figure size 432x288 with 1 Axes>"
      ]
     },
     "metadata": {
      "needs_background": "light"
     },
     "output_type": "display_data"
    }
   ],
   "source": [
    "print(dt['SeniorCitizen'].value_counts())\n",
    "ax=sns.countplot(x='SeniorCitizen',data=dt)"
   ]
  },
  {
   "cell_type": "code",
   "execution_count": null,
   "id": "573df605",
   "metadata": {},
   "outputs": [],
   "source": [
    "# Observation\n",
    "# 0=no seniorCitizen, 1=seniorCitizen\n",
    "# no SeniorCitizen are taking service more 5901 nos \n",
    "# seniorcitizen are taking only 1142 nos out of total number of people."
   ]
  },
  {
   "cell_type": "code",
   "execution_count": 23,
   "id": "515ee58c",
   "metadata": {},
   "outputs": [
    {
     "name": "stdout",
     "output_type": "stream",
     "text": [
      "No     3641\n",
      "Yes    3402\n",
      "Name: Partner, dtype: int64\n"
     ]
    },
    {
     "data": {
      "image/png": "[encoded data removed]",
      "text/plain": [
       "<Figure size 432x288 with 1 Axes>"
      ]
     },
     "metadata": {
      "needs_background": "light"
     },
     "output_type": "display_data"
    }
   ],
   "source": [
    "print(dt['Partner'].value_counts())\n",
    "ax=sns.countplot(x='Partner',data=dt)"
   ]
  },
  {
   "cell_type": "code",
   "execution_count": null,
   "id": "61375e10",
   "metadata": {},
   "outputs": [],
   "source": [
    "# Observation\n",
    "# patner is 3641 & Female-3402\n",
    "# Patner & single is almost same taking service in this dataset"
   ]
  },
  {
   "cell_type": "code",
   "execution_count": 24,
   "id": "055072e8",
   "metadata": {},
   "outputs": [
    {
     "name": "stdout",
     "output_type": "stream",
     "text": [
      "No     4933\n",
      "Yes    2110\n",
      "Name: Dependents, dtype: int64\n"
     ]
    },
    {
     "data": {
      "image/png": "[encoded data removed]",
      "text/plain": [
       "<Figure size 432x288 with 1 Axes>"
      ]
     },
     "metadata": {
      "needs_background": "light"
     },
     "output_type": "display_data"
    }
   ],
   "source": [
    "print(dt['Dependents'].value_counts())\n",
    "ax=sns.countplot(x='Dependents',data=dt)"
   ]
  },
  {
   "cell_type": "code",
   "execution_count": null,
   "id": "1d542c78",
   "metadata": {},
   "outputs": [],
   "source": [
    "# Observation\n",
    "# Dependent=2110 nos\n",
    "# Independent=4933\n",
    "# independent people are taking service more. Who are depend on some person, ther are not taking service more only 2110 nos out of total dataset.\n"
   ]
  },
  {
   "cell_type": "code",
   "execution_count": 25,
   "id": "7922d9e9",
   "metadata": {},
   "outputs": [
    {
     "name": "stdout",
     "output_type": "stream",
     "text": [
      "0      11\n",
      "36     50\n",
      "44     51\n",
      "39     56\n",
      "28     57\n",
      "     ... \n",
      "4     176\n",
      "3     200\n",
      "2     238\n",
      "72    362\n",
      "1     613\n",
      "Name: tenure, Length: 73, dtype: int64\n"
     ]
    },
    {
     "data": {
      "image/png": "[encoded data removed]",
      "text/plain": [
       "<Figure size 360x360 with 1 Axes>"
      ]
     },
     "metadata": {
      "needs_background": "light"
     },
     "output_type": "display_data"
    }
   ],
   "source": [
    "print(dt['tenure'].value_counts(ascending=True))\n",
    "ax=sns.displot(dt['tenure'],kde=True)"
   ]
  },
  {
   "cell_type": "code",
   "execution_count": null,
   "id": "d10fe62c",
   "metadata": {},
   "outputs": [],
   "source": [
    "# observation\n",
    "# in 0 to 10 days duration-people take srvise more on an average 550 nos people. but after 1o upto 65 days duration, service taken by people averge 300 to 400.\n",
    "# "
   ]
  },
  {
   "cell_type": "code",
   "execution_count": 26,
   "id": "e1d68400",
   "metadata": {},
   "outputs": [
    {
     "name": "stdout",
     "output_type": "stream",
     "text": [
      "Yes    6361\n",
      "No      682\n",
      "Name: PhoneService, dtype: int64\n"
     ]
    },
    {
     "data": {
      "image/png": "[encoded data removed]",
      "text/plain": [
       "<Figure size 432x288 with 1 Axes>"
      ]
     },
     "metadata": {
      "needs_background": "light"
     },
     "output_type": "display_data"
    }
   ],
   "source": [
    "print(dt['PhoneService'].value_counts())\n",
    "ax=sns.countplot(x='PhoneService',data=dt)"
   ]
  },
  {
   "cell_type": "code",
   "execution_count": null,
   "id": "1fa30944",
   "metadata": {},
   "outputs": [],
   "source": [
    "# observation\n",
    "# phonesrvice=6361 nos\n",
    "# no phoneservice-682 nos\n",
    "# only 682 nos people does not have any phone services and 6361 nos people has phone services."
   ]
  },
  {
   "cell_type": "code",
   "execution_count": 27,
   "id": "b4d9ef62",
   "metadata": {},
   "outputs": [
    {
     "name": "stdout",
     "output_type": "stream",
     "text": [
      "No                  3390\n",
      "Yes                 2971\n",
      "No phone service     682\n",
      "Name: MultipleLines, dtype: int64\n"
     ]
    },
    {
     "data": {
      "image/png": "[encoded data removed]",
      "text/plain": [
       "<Figure size 432x288 with 1 Axes>"
      ]
     },
     "metadata": {
      "needs_background": "light"
     },
     "output_type": "display_data"
    }
   ],
   "source": [
    "print(dt['MultipleLines'].value_counts())\n",
    "ax=sns.countplot(x='MultipleLines',data=dt)"
   ]
  },
  {
   "cell_type": "code",
   "execution_count": null,
   "id": "e6ad3836",
   "metadata": {},
   "outputs": [],
   "source": [
    "# observation\n",
    "# there are on taken services those are no phone services (682 nos)\n",
    "# Only 2971 nos people has taken services out of total no of phone services people.\n",
    "# 3390 people not taken services."
   ]
  },
  {
   "cell_type": "code",
   "execution_count": 28,
   "id": "11192aab",
   "metadata": {},
   "outputs": [
    {
     "name": "stdout",
     "output_type": "stream",
     "text": [
      "Fiber optic    3096\n",
      "DSL            2421\n",
      "No             1526\n",
      "Name: InternetService, dtype: int64\n"
     ]
    },
    {
     "data": {
      "image/png": "[encoded data removed]",
      "text/plain": [
       "<Figure size 432x288 with 1 Axes>"
      ]
     },
     "metadata": {
      "needs_background": "light"
     },
     "output_type": "display_data"
    }
   ],
   "source": [
    "print(dt['InternetService'].value_counts())\n",
    "ax=sns.countplot(x='InternetService',data=dt)"
   ]
  },
  {
   "cell_type": "code",
   "execution_count": null,
   "id": "380d5b66",
   "metadata": {},
   "outputs": [],
   "source": [
    "# observetion\n",
    "# 1526 people has no internet services.\n",
    "# Fiber optic srevices taken 3096 people & DSL service taken 2421 nos people."
   ]
  },
  {
   "cell_type": "code",
   "execution_count": 29,
   "id": "16375767",
   "metadata": {},
   "outputs": [
    {
     "name": "stdout",
     "output_type": "stream",
     "text": [
      "No                     3088\n",
      "Yes                    2429\n",
      "No internet service    1526\n",
      "Name: OnlineBackup, dtype: int64\n"
     ]
    },
    {
     "data": {
      "image/png": "[encoded data removed]",
      "text/plain": [
       "<Figure size 432x288 with 1 Axes>"
      ]
     },
     "metadata": {
      "needs_background": "light"
     },
     "output_type": "display_data"
    }
   ],
   "source": [
    "print(dt['OnlineBackup'].value_counts())\n",
    "ax=sns.countplot(x='OnlineBackup',data=dt)"
   ]
  },
  {
   "cell_type": "code",
   "execution_count": null,
   "id": "2018a859",
   "metadata": {},
   "outputs": [],
   "source": [
    "# observetion\n",
    "# 1526 people has no internet services.\n",
    "# only 2429 nos people taken online backup out of total internet services taken people.\n",
    "# 3088 no people has not taken onliebackup."
   ]
  },
  {
   "cell_type": "code",
   "execution_count": 30,
   "id": "6612f5bc",
   "metadata": {},
   "outputs": [
    {
     "name": "stdout",
     "output_type": "stream",
     "text": [
      "No                     3498\n",
      "Yes                    2019\n",
      "No internet service    1526\n",
      "Name: OnlineSecurity, dtype: int64\n"
     ]
    },
    {
     "data": {
      "image/png": "[encoded data removed]",
      "text/plain": [
       "<Figure size 432x288 with 1 Axes>"
      ]
     },
     "metadata": {
      "needs_background": "light"
     },
     "output_type": "display_data"
    }
   ],
   "source": [
    "print(dt['OnlineSecurity'].value_counts())\n",
    "ax=sns.countplot(x='OnlineSecurity',data=dt)"
   ]
  },
  {
   "cell_type": "code",
   "execution_count": null,
   "id": "a2f07b4e",
   "metadata": {},
   "outputs": [],
   "source": [
    "# observetion\n",
    "# 1526 people has no internet services.\n",
    "# only 2019 nos people taken online Security out of total internet services taken people.\n",
    "# 3498 no people has not taken online security. more than taken interner services are not taken online security."
   ]
  },
  {
   "cell_type": "code",
   "execution_count": 31,
   "id": "e7ed74c7",
   "metadata": {},
   "outputs": [
    {
     "name": "stdout",
     "output_type": "stream",
     "text": [
      "No                     3095\n",
      "Yes                    2422\n",
      "No internet service    1526\n",
      "Name: DeviceProtection, dtype: int64\n"
     ]
    },
    {
     "data": {
      "image/png": "[encoded data removed]",
      "text/plain": [
       "<Figure size 432x288 with 1 Axes>"
      ]
     },
     "metadata": {
      "needs_background": "light"
     },
     "output_type": "display_data"
    }
   ],
   "source": [
    "print(dt['DeviceProtection'].value_counts())\n",
    "ax=sns.countplot(x='DeviceProtection',data=dt)"
   ]
  },
  {
   "cell_type": "code",
   "execution_count": null,
   "id": "5fc14648",
   "metadata": {},
   "outputs": [],
   "source": [
    "# observetion\n",
    "# 1526 people has no internet services.\n",
    "# only 2422 nos people taken divice Protection out of total internet services taken people.\n",
    "# 3095 no people has not taken divice Protection. more than taken interner services are not taken online security."
   ]
  },
  {
   "cell_type": "code",
   "execution_count": 32,
   "id": "a2504ba0",
   "metadata": {},
   "outputs": [
    {
     "name": "stdout",
     "output_type": "stream",
     "text": [
      "No                     3473\n",
      "Yes                    2044\n",
      "No internet service    1526\n",
      "Name: TechSupport, dtype: int64\n"
     ]
    },
    {
     "data": {
      "image/png": "[encoded data removed]",
      "text/plain": [
       "<Figure size 432x288 with 1 Axes>"
      ]
     },
     "metadata": {
      "needs_background": "light"
     },
     "output_type": "display_data"
    }
   ],
   "source": [
    "print(dt['TechSupport'].value_counts())\n",
    "ax=sns.countplot(x='TechSupport',data=dt)"
   ]
  },
  {
   "cell_type": "code",
   "execution_count": null,
   "id": "15459b86",
   "metadata": {},
   "outputs": [],
   "source": [
    "# observetion\n",
    "# 1526 people has no internet services.\n",
    "# only 2044 nos people taken Tech Suport out of total internet services taken people.\n",
    "# 3473 no people has not taken Tech Suport. more than taken interner services are not taken online security."
   ]
  },
  {
   "cell_type": "code",
   "execution_count": 33,
   "id": "e08f2fc6",
   "metadata": {},
   "outputs": [
    {
     "name": "stdout",
     "output_type": "stream",
     "text": [
      "No                     2810\n",
      "Yes                    2707\n",
      "No internet service    1526\n",
      "Name: StreamingTV, dtype: int64\n"
     ]
    },
    {
     "data": {
      "image/png": "[encoded data removed]",
      "text/plain": [
       "<Figure size 432x288 with 1 Axes>"
      ]
     },
     "metadata": {
      "needs_background": "light"
     },
     "output_type": "display_data"
    }
   ],
   "source": [
    "print(dt['StreamingTV'].value_counts())\n",
    "ax=sns.countplot(x='StreamingTV',data=dt)"
   ]
  },
  {
   "cell_type": "code",
   "execution_count": null,
   "id": "6cea3336",
   "metadata": {},
   "outputs": [],
   "source": [
    "# observetion\n",
    "# 1526 people has no internet services.\n",
    "# only 2707 nos people taken streaming TV out of total internet services taken people.\n",
    "# 2810 no people has not taken streamingTV. more than taken interner services are not taken online security."
   ]
  },
  {
   "cell_type": "code",
   "execution_count": 34,
   "id": "4353380f",
   "metadata": {},
   "outputs": [
    {
     "name": "stdout",
     "output_type": "stream",
     "text": [
      "No                     2785\n",
      "Yes                    2732\n",
      "No internet service    1526\n",
      "Name: StreamingMovies, dtype: int64\n"
     ]
    },
    {
     "data": {
      "image/png": "[encoded data removed]",
      "text/plain": [
       "<Figure size 432x288 with 1 Axes>"
      ]
     },
     "metadata": {
      "needs_background": "light"
     },
     "output_type": "display_data"
    }
   ],
   "source": [
    "print(dt['StreamingMovies'].value_counts())\n",
    "ax=sns.countplot(x='StreamingMovies',data=dt)"
   ]
  },
  {
   "cell_type": "code",
   "execution_count": null,
   "id": "dc534ab9",
   "metadata": {},
   "outputs": [],
   "source": [
    "# observetion\n",
    "# 1526 people has no internet services.\n",
    "# only 2732 nos people taken streaming Movies out of total internet services taken people.\n",
    "# 2785 no people has not taken streamingMovies. more than taken interner services are not taken online security."
   ]
  },
  {
   "cell_type": "code",
   "execution_count": 35,
   "id": "2b28f8cf",
   "metadata": {},
   "outputs": [
    {
     "name": "stdout",
     "output_type": "stream",
     "text": [
      "Month-to-month    3875\n",
      "Two year          1695\n",
      "One year          1473\n",
      "Name: Contract, dtype: int64\n"
     ]
    },
    {
     "data": {
      "image/png": "[encoded data removed]",
      "text/plain": [
       "<Figure size 432x288 with 1 Axes>"
      ]
     },
     "metadata": {
      "needs_background": "light"
     },
     "output_type": "display_data"
    }
   ],
   "source": [
    "print(dt['Contract'].value_counts())\n",
    "ax=sns.countplot(x='Contract',data=dt)"
   ]
  },
  {
   "cell_type": "code",
   "execution_count": null,
   "id": "79095b10",
   "metadata": {},
   "outputs": [],
   "source": [
    "# observetion\n",
    "# 3875 people are taking service in moth to month services.\n",
    "# only 1473 nos people taken one yera plan services.\n",
    "# 1695 no people taken two year services plan.\n",
    "# People are taking services more in Moth to Month servces plan."
   ]
  },
  {
   "cell_type": "code",
   "execution_count": 36,
   "id": "6321221b",
   "metadata": {},
   "outputs": [
    {
     "name": "stdout",
     "output_type": "stream",
     "text": [
      "Yes    4171\n",
      "No     2872\n",
      "Name: PaperlessBilling, dtype: int64\n"
     ]
    },
    {
     "data": {
      "image/png": "[encoded data removed]",
      "text/plain": [
       "<Figure size 432x288 with 1 Axes>"
      ]
     },
     "metadata": {
      "needs_background": "light"
     },
     "output_type": "display_data"
    }
   ],
   "source": [
    "print(dt['PaperlessBilling'].value_counts())\n",
    "ax=sns.countplot(x='PaperlessBilling',data=dt)"
   ]
  },
  {
   "cell_type": "code",
   "execution_count": null,
   "id": "f9b82f00",
   "metadata": {},
   "outputs": [],
   "source": [
    "# Observetion\n",
    "# 4171 nos people are taking services through paperless billing system\n",
    "# 2872 nos people are taking services through paper billing system."
   ]
  },
  {
   "cell_type": "code",
   "execution_count": 37,
   "id": "2e3fef0c",
   "metadata": {},
   "outputs": [
    {
     "name": "stdout",
     "output_type": "stream",
     "text": [
      "Electronic check             2365\n",
      "Mailed check                 1612\n",
      "Bank transfer (automatic)    1544\n",
      "Credit card (automatic)      1522\n",
      "Name: PaymentMethod, dtype: int64\n"
     ]
    },
    {
     "data": {
      "image/png": "[encoded data removed]",
      "text/plain": [
       "<Figure size 432x288 with 1 Axes>"
      ]
     },
     "metadata": {
      "needs_background": "light"
     },
     "output_type": "display_data"
    }
   ],
   "source": [
    "print(dt['PaymentMethod'].value_counts())\n",
    "ax=sns.countplot(x='PaymentMethod',data=dt)"
   ]
  },
  {
   "cell_type": "code",
   "execution_count": null,
   "id": "5e2df9da",
   "metadata": {},
   "outputs": [],
   "source": [
    "# Observation\n",
    "# Electonic check payment method is used more people 2365 nos to payment charges.\n",
    "# Mailed check , Bank transfer (automatic) & Credit card (automatic) payment method is using for payment on an average same people.\n",
    "\n"
   ]
  },
  {
   "cell_type": "code",
   "execution_count": 38,
   "id": "0c9e0bf2",
   "metadata": {},
   "outputs": [
    {
     "name": "stdout",
     "output_type": "stream",
     "text": [
      "78.70     1\n",
      "87.00     1\n",
      "87.35     1\n",
      "63.40     1\n",
      "43.35     1\n",
      "         ..\n",
      "19.70    43\n",
      "19.90    44\n",
      "19.95    44\n",
      "19.85    45\n",
      "20.05    61\n",
      "Name: MonthlyCharges, Length: 1585, dtype: int64\n"
     ]
    },
    {
     "data": {
      "image/png": "[encoded data removed]",
      "text/plain": [
       "<Figure size 360x360 with 1 Axes>"
      ]
     },
     "metadata": {
      "needs_background": "light"
     },
     "output_type": "display_data"
    }
   ],
   "source": [
    "print(dt['MonthlyCharges'].value_counts(ascending=True))\n",
    "ax=sns.displot(x='MonthlyCharges',data=dt,kde=True)"
   ]
  },
  {
   "cell_type": "code",
   "execution_count": 39,
   "id": "2c20eeda",
   "metadata": {},
   "outputs": [
    {
     "name": "stdout",
     "output_type": "stream",
     "text": [
      "29.850000       1\n",
      "59.550000       1\n",
      "300.700000      1\n",
      "4234.150000     1\n",
      "6496.150000     1\n",
      "               ..\n",
      "20.050000       8\n",
      "19.900000       8\n",
      "19.750000       9\n",
      "20.200000      11\n",
      "2283.300441    11\n",
      "Name: TotalCharges, Length: 6531, dtype: int64\n"
     ]
    },
    {
     "data": {
      "image/png": "[encoded data removed]",
      "text/plain": [
       "<Figure size 360x360 with 1 Axes>"
      ]
     },
     "metadata": {
      "needs_background": "light"
     },
     "output_type": "display_data"
    }
   ],
   "source": [
    "print(dt['TotalCharges'].value_counts(ascending=True))\n",
    "ax=sns.displot(x='TotalCharges',data=dt,kde=True)"
   ]
  },
  {
   "cell_type": "code",
   "execution_count": 40,
   "id": "bb8bfe28",
   "metadata": {},
   "outputs": [
    {
     "name": "stdout",
     "output_type": "stream",
     "text": [
      "No     5174\n",
      "Yes    1869\n",
      "Name: Churn, dtype: int64\n"
     ]
    },
    {
     "data": {
      "image/png": "[encoded data removed]",
      "text/plain": [
       "<Figure size 432x288 with 1 Axes>"
      ]
     },
     "metadata": {
      "needs_background": "light"
     },
     "output_type": "display_data"
    }
   ],
   "source": [
    "print(dt['Churn'].value_counts())\n",
    "ax=sns.countplot(x='Churn',data=dt)"
   ]
  },
  {
   "cell_type": "code",
   "execution_count": 10,
   "id": "5652500c",
   "metadata": {},
   "outputs": [],
   "source": [
    "# using orinal encoder encoder for converting object to number.\n",
    "from sklearn.preprocessing import OrdinalEncoder\n",
    "en=OrdinalEncoder()"
   ]
  },
  {
   "cell_type": "code",
   "execution_count": 11,
   "id": "eeb4dfa7",
   "metadata": {},
   "outputs": [],
   "source": [
    "for i in dt.columns:\n",
    "    if dt[i].dtypes=='object':\n",
    "        dt[i]=en.fit_transform(dt[i].values.reshape(-1,1))\n",
    "        "
   ]
  },
  {
   "cell_type": "code",
   "execution_count": 12,
   "id": "90abd7d4",
   "metadata": {},
   "outputs": [
    {
     "data": {
      "text/html": [
       "<div>\n",
       "<style scoped>\n",
       "    .dataframe tbody tr th:only-of-type {\n",
       "        vertical-align: middle;\n",
       "    }\n",
       "\n",
       "    .dataframe tbody tr th {\n",
       "        vertical-align: top;\n",
       "    }\n",
       "\n",
       "    .dataframe thead th {\n",
       "        text-align: right;\n",
       "    }\n",
       "</style>\n",
       "<table border=\"1\" class=\"dataframe\">\n",
       "  <thead>\n",
       "    <tr style=\"text-align: right;\">\n",
       "      <th></th>\n",
       "      <th>customerID</th>\n",
       "      <th>gender</th>\n",
       "      <th>SeniorCitizen</th>\n",
       "      <th>Partner</th>\n",
       "      <th>Dependents</th>\n",
       "      <th>tenure</th>\n",
       "      <th>PhoneService</th>\n",
       "      <th>MultipleLines</th>\n",
       "      <th>InternetService</th>\n",
       "      <th>OnlineSecurity</th>\n",
       "      <th>...</th>\n",
       "      <th>DeviceProtection</th>\n",
       "      <th>TechSupport</th>\n",
       "      <th>StreamingTV</th>\n",
       "      <th>StreamingMovies</th>\n",
       "      <th>Contract</th>\n",
       "      <th>PaperlessBilling</th>\n",
       "      <th>PaymentMethod</th>\n",
       "      <th>MonthlyCharges</th>\n",
       "      <th>TotalCharges</th>\n",
       "      <th>Churn</th>\n",
       "    </tr>\n",
       "  </thead>\n",
       "  <tbody>\n",
       "    <tr>\n",
       "      <th>0</th>\n",
       "      <td>5375.0</td>\n",
       "      <td>0.0</td>\n",
       "      <td>0</td>\n",
       "      <td>1.0</td>\n",
       "      <td>0.0</td>\n",
       "      <td>1</td>\n",
       "      <td>0.0</td>\n",
       "      <td>1.0</td>\n",
       "      <td>0.0</td>\n",
       "      <td>0.0</td>\n",
       "      <td>...</td>\n",
       "      <td>0.0</td>\n",
       "      <td>0.0</td>\n",
       "      <td>0.0</td>\n",
       "      <td>0.0</td>\n",
       "      <td>0.0</td>\n",
       "      <td>1.0</td>\n",
       "      <td>2.0</td>\n",
       "      <td>29.85</td>\n",
       "      <td>29.85</td>\n",
       "      <td>0.0</td>\n",
       "    </tr>\n",
       "    <tr>\n",
       "      <th>1</th>\n",
       "      <td>3962.0</td>\n",
       "      <td>1.0</td>\n",
       "      <td>0</td>\n",
       "      <td>0.0</td>\n",
       "      <td>0.0</td>\n",
       "      <td>34</td>\n",
       "      <td>1.0</td>\n",
       "      <td>0.0</td>\n",
       "      <td>0.0</td>\n",
       "      <td>2.0</td>\n",
       "      <td>...</td>\n",
       "      <td>2.0</td>\n",
       "      <td>0.0</td>\n",
       "      <td>0.0</td>\n",
       "      <td>0.0</td>\n",
       "      <td>1.0</td>\n",
       "      <td>0.0</td>\n",
       "      <td>3.0</td>\n",
       "      <td>56.95</td>\n",
       "      <td>1889.50</td>\n",
       "      <td>0.0</td>\n",
       "    </tr>\n",
       "    <tr>\n",
       "      <th>2</th>\n",
       "      <td>2564.0</td>\n",
       "      <td>1.0</td>\n",
       "      <td>0</td>\n",
       "      <td>0.0</td>\n",
       "      <td>0.0</td>\n",
       "      <td>2</td>\n",
       "      <td>1.0</td>\n",
       "      <td>0.0</td>\n",
       "      <td>0.0</td>\n",
       "      <td>2.0</td>\n",
       "      <td>...</td>\n",
       "      <td>0.0</td>\n",
       "      <td>0.0</td>\n",
       "      <td>0.0</td>\n",
       "      <td>0.0</td>\n",
       "      <td>0.0</td>\n",
       "      <td>1.0</td>\n",
       "      <td>3.0</td>\n",
       "      <td>53.85</td>\n",
       "      <td>108.15</td>\n",
       "      <td>1.0</td>\n",
       "    </tr>\n",
       "    <tr>\n",
       "      <th>3</th>\n",
       "      <td>5535.0</td>\n",
       "      <td>1.0</td>\n",
       "      <td>0</td>\n",
       "      <td>0.0</td>\n",
       "      <td>0.0</td>\n",
       "      <td>45</td>\n",
       "      <td>0.0</td>\n",
       "      <td>1.0</td>\n",
       "      <td>0.0</td>\n",
       "      <td>2.0</td>\n",
       "      <td>...</td>\n",
       "      <td>2.0</td>\n",
       "      <td>2.0</td>\n",
       "      <td>0.0</td>\n",
       "      <td>0.0</td>\n",
       "      <td>1.0</td>\n",
       "      <td>0.0</td>\n",
       "      <td>0.0</td>\n",
       "      <td>42.30</td>\n",
       "      <td>1840.75</td>\n",
       "      <td>0.0</td>\n",
       "    </tr>\n",
       "    <tr>\n",
       "      <th>4</th>\n",
       "      <td>6511.0</td>\n",
       "      <td>0.0</td>\n",
       "      <td>0</td>\n",
       "      <td>0.0</td>\n",
       "      <td>0.0</td>\n",
       "      <td>2</td>\n",
       "      <td>1.0</td>\n",
       "      <td>0.0</td>\n",
       "      <td>1.0</td>\n",
       "      <td>0.0</td>\n",
       "      <td>...</td>\n",
       "      <td>0.0</td>\n",
       "      <td>0.0</td>\n",
       "      <td>0.0</td>\n",
       "      <td>0.0</td>\n",
       "      <td>0.0</td>\n",
       "      <td>1.0</td>\n",
       "      <td>2.0</td>\n",
       "      <td>70.70</td>\n",
       "      <td>151.65</td>\n",
       "      <td>1.0</td>\n",
       "    </tr>\n",
       "  </tbody>\n",
       "</table>\n",
       "<p>5 rows × 21 columns</p>\n",
       "</div>"
      ],
      "text/plain": [
       "   customerID  gender  SeniorCitizen  Partner  Dependents  tenure  \\\n",
       "0      5375.0     0.0              0      1.0         0.0       1   \n",
       "1      3962.0     1.0              0      0.0         0.0      34   \n",
       "2      2564.0     1.0              0      0.0         0.0       2   \n",
       "3      5535.0     1.0              0      0.0         0.0      45   \n",
       "4      6511.0     0.0              0      0.0         0.0       2   \n",
       "\n",
       "   PhoneService  MultipleLines  InternetService  OnlineSecurity  ...  \\\n",
       "0           0.0            1.0              0.0             0.0  ...   \n",
       "1           1.0            0.0              0.0             2.0  ...   \n",
       "2           1.0            0.0              0.0             2.0  ...   \n",
       "3           0.0            1.0              0.0             2.0  ...   \n",
       "4           1.0            0.0              1.0             0.0  ...   \n",
       "\n",
       "   DeviceProtection  TechSupport  StreamingTV  StreamingMovies  Contract  \\\n",
       "0               0.0          0.0          0.0              0.0       0.0   \n",
       "1               2.0          0.0          0.0              0.0       1.0   \n",
       "2               0.0          0.0          0.0              0.0       0.0   \n",
       "3               2.0          2.0          0.0              0.0       1.0   \n",
       "4               0.0          0.0          0.0              0.0       0.0   \n",
       "\n",
       "   PaperlessBilling  PaymentMethod  MonthlyCharges  TotalCharges  Churn  \n",
       "0               1.0            2.0           29.85         29.85    0.0  \n",
       "1               0.0            3.0           56.95       1889.50    0.0  \n",
       "2               1.0            3.0           53.85        108.15    1.0  \n",
       "3               0.0            0.0           42.30       1840.75    0.0  \n",
       "4               1.0            2.0           70.70        151.65    1.0  \n",
       "\n",
       "[5 rows x 21 columns]"
      ]
     },
     "execution_count": 12,
     "metadata": {},
     "output_type": "execute_result"
    }
   ],
   "source": [
    "dt.head()"
   ]
  },
  {
   "cell_type": "code",
   "execution_count": 44,
   "id": "eab8d4dc",
   "metadata": {},
   "outputs": [
    {
     "name": "stdout",
     "output_type": "stream",
     "text": [
      "<class 'pandas.core.frame.DataFrame'>\n",
      "RangeIndex: 7043 entries, 0 to 7042\n",
      "Data columns (total 21 columns):\n",
      " #   Column            Non-Null Count  Dtype  \n",
      "---  ------            --------------  -----  \n",
      " 0   customerID        7043 non-null   float64\n",
      " 1   gender            7043 non-null   float64\n",
      " 2   SeniorCitizen     7043 non-null   int64  \n",
      " 3   Partner           7043 non-null   float64\n",
      " 4   Dependents        7043 non-null   float64\n",
      " 5   tenure            7043 non-null   int64  \n",
      " 6   PhoneService      7043 non-null   float64\n",
      " 7   MultipleLines     7043 non-null   float64\n",
      " 8   InternetService   7043 non-null   float64\n",
      " 9   OnlineSecurity    7043 non-null   float64\n",
      " 10  OnlineBackup      7043 non-null   float64\n",
      " 11  DeviceProtection  7043 non-null   float64\n",
      " 12  TechSupport       7043 non-null   float64\n",
      " 13  StreamingTV       7043 non-null   float64\n",
      " 14  StreamingMovies   7043 non-null   float64\n",
      " 15  Contract          7043 non-null   float64\n",
      " 16  PaperlessBilling  7043 non-null   float64\n",
      " 17  PaymentMethod     7043 non-null   float64\n",
      " 18  MonthlyCharges    7043 non-null   float64\n",
      " 19  TotalCharges      7043 non-null   float64\n",
      " 20  Churn             7043 non-null   float64\n",
      "dtypes: float64(19), int64(2)\n",
      "memory usage: 1.1 MB\n"
     ]
    }
   ],
   "source": [
    "# basic information of dataset\n",
    "dt.info()"
   ]
  },
  {
   "cell_type": "code",
   "execution_count": 45,
   "id": "4cbf4852",
   "metadata": {},
   "outputs": [
    {
     "data": {
      "text/html": [
       "<div>\n",
       "<style scoped>\n",
       "    .dataframe tbody tr th:only-of-type {\n",
       "        vertical-align: middle;\n",
       "    }\n",
       "\n",
       "    .dataframe tbody tr th {\n",
       "        vertical-align: top;\n",
       "    }\n",
       "\n",
       "    .dataframe thead th {\n",
       "        text-align: right;\n",
       "    }\n",
       "</style>\n",
       "<table border=\"1\" class=\"dataframe\">\n",
       "  <thead>\n",
       "    <tr style=\"text-align: right;\">\n",
       "      <th></th>\n",
       "      <th>customerID</th>\n",
       "      <th>gender</th>\n",
       "      <th>SeniorCitizen</th>\n",
       "      <th>Partner</th>\n",
       "      <th>Dependents</th>\n",
       "      <th>tenure</th>\n",
       "      <th>PhoneService</th>\n",
       "      <th>MultipleLines</th>\n",
       "      <th>InternetService</th>\n",
       "      <th>OnlineSecurity</th>\n",
       "      <th>...</th>\n",
       "      <th>DeviceProtection</th>\n",
       "      <th>TechSupport</th>\n",
       "      <th>StreamingTV</th>\n",
       "      <th>StreamingMovies</th>\n",
       "      <th>Contract</th>\n",
       "      <th>PaperlessBilling</th>\n",
       "      <th>PaymentMethod</th>\n",
       "      <th>MonthlyCharges</th>\n",
       "      <th>TotalCharges</th>\n",
       "      <th>Churn</th>\n",
       "    </tr>\n",
       "  </thead>\n",
       "  <tbody>\n",
       "    <tr>\n",
       "      <th>count</th>\n",
       "      <td>7043.000000</td>\n",
       "      <td>7043.000000</td>\n",
       "      <td>7043.000000</td>\n",
       "      <td>7043.000000</td>\n",
       "      <td>7043.000000</td>\n",
       "      <td>7043.000000</td>\n",
       "      <td>7043.000000</td>\n",
       "      <td>7043.000000</td>\n",
       "      <td>7043.000000</td>\n",
       "      <td>7043.000000</td>\n",
       "      <td>...</td>\n",
       "      <td>7043.000000</td>\n",
       "      <td>7043.000000</td>\n",
       "      <td>7043.000000</td>\n",
       "      <td>7043.000000</td>\n",
       "      <td>7043.000000</td>\n",
       "      <td>7043.000000</td>\n",
       "      <td>7043.000000</td>\n",
       "      <td>7043.000000</td>\n",
       "      <td>7043.000000</td>\n",
       "      <td>7043.000000</td>\n",
       "    </tr>\n",
       "    <tr>\n",
       "      <th>mean</th>\n",
       "      <td>3521.000000</td>\n",
       "      <td>0.504756</td>\n",
       "      <td>0.162147</td>\n",
       "      <td>0.483033</td>\n",
       "      <td>0.299588</td>\n",
       "      <td>32.371149</td>\n",
       "      <td>0.903166</td>\n",
       "      <td>0.940508</td>\n",
       "      <td>0.872923</td>\n",
       "      <td>0.790004</td>\n",
       "      <td>...</td>\n",
       "      <td>0.904444</td>\n",
       "      <td>0.797104</td>\n",
       "      <td>0.985376</td>\n",
       "      <td>0.992475</td>\n",
       "      <td>0.690473</td>\n",
       "      <td>0.592219</td>\n",
       "      <td>1.574329</td>\n",
       "      <td>64.761692</td>\n",
       "      <td>2283.300441</td>\n",
       "      <td>0.265370</td>\n",
       "    </tr>\n",
       "    <tr>\n",
       "      <th>std</th>\n",
       "      <td>2033.283305</td>\n",
       "      <td>0.500013</td>\n",
       "      <td>0.368612</td>\n",
       "      <td>0.499748</td>\n",
       "      <td>0.458110</td>\n",
       "      <td>24.559481</td>\n",
       "      <td>0.295752</td>\n",
       "      <td>0.948554</td>\n",
       "      <td>0.737796</td>\n",
       "      <td>0.859848</td>\n",
       "      <td>...</td>\n",
       "      <td>0.879949</td>\n",
       "      <td>0.861551</td>\n",
       "      <td>0.885002</td>\n",
       "      <td>0.885091</td>\n",
       "      <td>0.833755</td>\n",
       "      <td>0.491457</td>\n",
       "      <td>1.068104</td>\n",
       "      <td>30.090047</td>\n",
       "      <td>2265.000258</td>\n",
       "      <td>0.441561</td>\n",
       "    </tr>\n",
       "    <tr>\n",
       "      <th>min</th>\n",
       "      <td>0.000000</td>\n",
       "      <td>0.000000</td>\n",
       "      <td>0.000000</td>\n",
       "      <td>0.000000</td>\n",
       "      <td>0.000000</td>\n",
       "      <td>0.000000</td>\n",
       "      <td>0.000000</td>\n",
       "      <td>0.000000</td>\n",
       "      <td>0.000000</td>\n",
       "      <td>0.000000</td>\n",
       "      <td>...</td>\n",
       "      <td>0.000000</td>\n",
       "      <td>0.000000</td>\n",
       "      <td>0.000000</td>\n",
       "      <td>0.000000</td>\n",
       "      <td>0.000000</td>\n",
       "      <td>0.000000</td>\n",
       "      <td>0.000000</td>\n",
       "      <td>18.250000</td>\n",
       "      <td>18.800000</td>\n",
       "      <td>0.000000</td>\n",
       "    </tr>\n",
       "    <tr>\n",
       "      <th>25%</th>\n",
       "      <td>1760.500000</td>\n",
       "      <td>0.000000</td>\n",
       "      <td>0.000000</td>\n",
       "      <td>0.000000</td>\n",
       "      <td>0.000000</td>\n",
       "      <td>9.000000</td>\n",
       "      <td>1.000000</td>\n",
       "      <td>0.000000</td>\n",
       "      <td>0.000000</td>\n",
       "      <td>0.000000</td>\n",
       "      <td>...</td>\n",
       "      <td>0.000000</td>\n",
       "      <td>0.000000</td>\n",
       "      <td>0.000000</td>\n",
       "      <td>0.000000</td>\n",
       "      <td>0.000000</td>\n",
       "      <td>0.000000</td>\n",
       "      <td>1.000000</td>\n",
       "      <td>35.500000</td>\n",
       "      <td>402.225000</td>\n",
       "      <td>0.000000</td>\n",
       "    </tr>\n",
       "    <tr>\n",
       "      <th>50%</th>\n",
       "      <td>3521.000000</td>\n",
       "      <td>1.000000</td>\n",
       "      <td>0.000000</td>\n",
       "      <td>0.000000</td>\n",
       "      <td>0.000000</td>\n",
       "      <td>29.000000</td>\n",
       "      <td>1.000000</td>\n",
       "      <td>1.000000</td>\n",
       "      <td>1.000000</td>\n",
       "      <td>1.000000</td>\n",
       "      <td>...</td>\n",
       "      <td>1.000000</td>\n",
       "      <td>1.000000</td>\n",
       "      <td>1.000000</td>\n",
       "      <td>1.000000</td>\n",
       "      <td>0.000000</td>\n",
       "      <td>1.000000</td>\n",
       "      <td>2.000000</td>\n",
       "      <td>70.350000</td>\n",
       "      <td>1400.550000</td>\n",
       "      <td>0.000000</td>\n",
       "    </tr>\n",
       "    <tr>\n",
       "      <th>75%</th>\n",
       "      <td>5281.500000</td>\n",
       "      <td>1.000000</td>\n",
       "      <td>0.000000</td>\n",
       "      <td>1.000000</td>\n",
       "      <td>1.000000</td>\n",
       "      <td>55.000000</td>\n",
       "      <td>1.000000</td>\n",
       "      <td>2.000000</td>\n",
       "      <td>1.000000</td>\n",
       "      <td>2.000000</td>\n",
       "      <td>...</td>\n",
       "      <td>2.000000</td>\n",
       "      <td>2.000000</td>\n",
       "      <td>2.000000</td>\n",
       "      <td>2.000000</td>\n",
       "      <td>1.000000</td>\n",
       "      <td>1.000000</td>\n",
       "      <td>2.000000</td>\n",
       "      <td>89.850000</td>\n",
       "      <td>3786.600000</td>\n",
       "      <td>1.000000</td>\n",
       "    </tr>\n",
       "    <tr>\n",
       "      <th>max</th>\n",
       "      <td>7042.000000</td>\n",
       "      <td>1.000000</td>\n",
       "      <td>1.000000</td>\n",
       "      <td>1.000000</td>\n",
       "      <td>1.000000</td>\n",
       "      <td>72.000000</td>\n",
       "      <td>1.000000</td>\n",
       "      <td>2.000000</td>\n",
       "      <td>2.000000</td>\n",
       "      <td>2.000000</td>\n",
       "      <td>...</td>\n",
       "      <td>2.000000</td>\n",
       "      <td>2.000000</td>\n",
       "      <td>2.000000</td>\n",
       "      <td>2.000000</td>\n",
       "      <td>2.000000</td>\n",
       "      <td>1.000000</td>\n",
       "      <td>3.000000</td>\n",
       "      <td>118.750000</td>\n",
       "      <td>8684.800000</td>\n",
       "      <td>1.000000</td>\n",
       "    </tr>\n",
       "  </tbody>\n",
       "</table>\n",
       "<p>8 rows × 21 columns</p>\n",
       "</div>"
      ],
      "text/plain": [
       "        customerID       gender  SeniorCitizen      Partner   Dependents  \\\n",
       "count  7043.000000  7043.000000    7043.000000  7043.000000  7043.000000   \n",
       "mean   3521.000000     0.504756       0.162147     0.483033     0.299588   \n",
       "std    2033.283305     0.500013       0.368612     0.499748     0.458110   \n",
       "min       0.000000     0.000000       0.000000     0.000000     0.000000   \n",
       "25%    1760.500000     0.000000       0.000000     0.000000     0.000000   \n",
       "50%    3521.000000     1.000000       0.000000     0.000000     0.000000   \n",
       "75%    5281.500000     1.000000       0.000000     1.000000     1.000000   \n",
       "max    7042.000000     1.000000       1.000000     1.000000     1.000000   \n",
       "\n",
       "            tenure  PhoneService  MultipleLines  InternetService  \\\n",
       "count  7043.000000   7043.000000    7043.000000      7043.000000   \n",
       "mean     32.371149      0.903166       0.940508         0.872923   \n",
       "std      24.559481      0.295752       0.948554         0.737796   \n",
       "min       0.000000      0.000000       0.000000         0.000000   \n",
       "25%       9.000000      1.000000       0.000000         0.000000   \n",
       "50%      29.000000      1.000000       1.000000         1.000000   \n",
       "75%      55.000000      1.000000       2.000000         1.000000   \n",
       "max      72.000000      1.000000       2.000000         2.000000   \n",
       "\n",
       "       OnlineSecurity  ...  DeviceProtection  TechSupport  StreamingTV  \\\n",
       "count     7043.000000  ...       7043.000000  7043.000000  7043.000000   \n",
       "mean         0.790004  ...          0.904444     0.797104     0.985376   \n",
       "std          0.859848  ...          0.879949     0.861551     0.885002   \n",
       "min          0.000000  ...          0.000000     0.000000     0.000000   \n",
       "25%          0.000000  ...          0.000000     0.000000     0.000000   \n",
       "50%          1.000000  ...          1.000000     1.000000     1.000000   \n",
       "75%          2.000000  ...          2.000000     2.000000     2.000000   \n",
       "max          2.000000  ...          2.000000     2.000000     2.000000   \n",
       "\n",
       "       StreamingMovies     Contract  PaperlessBilling  PaymentMethod  \\\n",
       "count      7043.000000  7043.000000       7043.000000    7043.000000   \n",
       "mean          0.992475     0.690473          0.592219       1.574329   \n",
       "std           0.885091     0.833755          0.491457       1.068104   \n",
       "min           0.000000     0.000000          0.000000       0.000000   \n",
       "25%           0.000000     0.000000          0.000000       1.000000   \n",
       "50%           1.000000     0.000000          1.000000       2.000000   \n",
       "75%           2.000000     1.000000          1.000000       2.000000   \n",
       "max           2.000000     2.000000          1.000000       3.000000   \n",
       "\n",
       "       MonthlyCharges  TotalCharges        Churn  \n",
       "count     7043.000000   7043.000000  7043.000000  \n",
       "mean        64.761692   2283.300441     0.265370  \n",
       "std         30.090047   2265.000258     0.441561  \n",
       "min         18.250000     18.800000     0.000000  \n",
       "25%         35.500000    402.225000     0.000000  \n",
       "50%         70.350000   1400.550000     0.000000  \n",
       "75%         89.850000   3786.600000     1.000000  \n",
       "max        118.750000   8684.800000     1.000000  \n",
       "\n",
       "[8 rows x 21 columns]"
      ]
     },
     "execution_count": 45,
     "metadata": {},
     "output_type": "execute_result"
    }
   ],
   "source": [
    "# data describe for observation only for continious data\n",
    "dt.describe()\n"
   ]
  },
  {
   "cell_type": "code",
   "execution_count": 46,
   "id": "c4d34b30",
   "metadata": {},
   "outputs": [],
   "source": [
    "# Observation\n",
    "# 1. MonthlyCharges-Mean & std is not good. data is normal distribution.\n",
    "\n",
    "#     Continious data\n",
    "#     Mean-64.76\n",
    "#     std-30\n",
    "#     min-18.25\n",
    "#     Max-118\n",
    "    \n",
    "# 2. TotalCharges- Mean & std is not good. data is not normal distributed. Skewness is pressent.\n",
    "#     Continious data\n",
    "#     Mean-2283.30\n",
    "#     std-2265\n",
    "#     min-18.8\n",
    "#     Max-8684.80"
   ]
  },
  {
   "cell_type": "code",
   "execution_count": 47,
   "id": "61a30845",
   "metadata": {},
   "outputs": [
    {
     "data": {
      "image/png": "[encoded data removed]",
      "text/plain": [
       "<Figure size 720x1008 with 3 Axes>"
      ]
     },
     "metadata": {},
     "output_type": "display_data"
    }
   ],
   "source": [
    "# Cheking normal distribution of data in continious data\n",
    "\n",
    "plt.figure(figsize=(10,14),facecolor='y')\n",
    "plotnumber=1\n",
    "for i in dt[['MonthlyCharges','TotalCharges','tenure']]:\n",
    "    \n",
    "    if plotnumber<=3:\n",
    "        ax=plt.subplot(3,2,plotnumber)\n",
    "        sns.scatterplot(dt[i],dt['Churn'])\n",
    "                   \n",
    "        plt.xlabel(i)\n",
    "                          \n",
    "    plotnumber+=1\n",
    "\n",
    "plt.show()\n"
   ]
  },
  {
   "cell_type": "code",
   "execution_count": 48,
   "id": "7c134677",
   "metadata": {},
   "outputs": [],
   "source": [
    "# # cheking & confirm data is normal distributed\n",
    "# plt.figure(figsize=(10,12),facecolor='y')\n",
    "# plotnumber=1\n",
    "# for i in dt:\n",
    "#     if plotnumber<=22:\n",
    "#         ax=plt.subplot(4,6,plotnumber)\n",
    "#         sns.distplot(dt[i])\n",
    "#         plt.xlabel(i,fontsize=10)\n",
    "        \n",
    "#     plotnumber+=1\n",
    "    \n",
    "# plt.show()"
   ]
  },
  {
   "cell_type": "code",
   "execution_count": 49,
   "id": "1a5b3eea",
   "metadata": {},
   "outputs": [
    {
     "data": {
      "image/png": "[encoded data removed]",
      "text/plain": [
       "<Figure size 720x1008 with 3 Axes>"
      ]
     },
     "metadata": {},
     "output_type": "display_data"
    }
   ],
   "source": [
    "# Cheking normal distribution of data in continious data\n",
    "\n",
    "plt.figure(figsize=(10,14),facecolor='y')\n",
    "plotnumber=1\n",
    "for col in dt[['MonthlyCharges','TotalCharges','tenure']]:\n",
    "    \n",
    "    if plotnumber<=3:\n",
    "        ax=plt.subplot(3,2,plotnumber)\n",
    "        sns.distplot(dt[col])\n",
    "                   \n",
    "        plt.xlabel(col)\n",
    "                          \n",
    "    plotnumber+=1\n",
    "\n",
    "plt.show()"
   ]
  },
  {
   "cell_type": "code",
   "execution_count": 50,
   "id": "15f79588",
   "metadata": {},
   "outputs": [
    {
     "data": {
      "text/html": [
       "<div>\n",
       "<style scoped>\n",
       "    .dataframe tbody tr th:only-of-type {\n",
       "        vertical-align: middle;\n",
       "    }\n",
       "\n",
       "    .dataframe tbody tr th {\n",
       "        vertical-align: top;\n",
       "    }\n",
       "\n",
       "    .dataframe thead th {\n",
       "        text-align: right;\n",
       "    }\n",
       "</style>\n",
       "<table border=\"1\" class=\"dataframe\">\n",
       "  <thead>\n",
       "    <tr style=\"text-align: right;\">\n",
       "      <th></th>\n",
       "      <th>customerID</th>\n",
       "      <th>gender</th>\n",
       "      <th>SeniorCitizen</th>\n",
       "      <th>Partner</th>\n",
       "      <th>Dependents</th>\n",
       "      <th>tenure</th>\n",
       "      <th>PhoneService</th>\n",
       "      <th>MultipleLines</th>\n",
       "      <th>InternetService</th>\n",
       "      <th>OnlineSecurity</th>\n",
       "      <th>...</th>\n",
       "      <th>DeviceProtection</th>\n",
       "      <th>TechSupport</th>\n",
       "      <th>StreamingTV</th>\n",
       "      <th>StreamingMovies</th>\n",
       "      <th>Contract</th>\n",
       "      <th>PaperlessBilling</th>\n",
       "      <th>PaymentMethod</th>\n",
       "      <th>MonthlyCharges</th>\n",
       "      <th>TotalCharges</th>\n",
       "      <th>Churn</th>\n",
       "    </tr>\n",
       "  </thead>\n",
       "  <tbody>\n",
       "    <tr>\n",
       "      <th>customerID</th>\n",
       "      <td>1.000000</td>\n",
       "      <td>0.006288</td>\n",
       "      <td>0.002074</td>\n",
       "      <td>0.026729</td>\n",
       "      <td>0.012823</td>\n",
       "      <td>0.008035</td>\n",
       "      <td>0.006483</td>\n",
       "      <td>0.004316</td>\n",
       "      <td>0.012407</td>\n",
       "      <td>0.013292</td>\n",
       "      <td>...</td>\n",
       "      <td>0.006918</td>\n",
       "      <td>0.001140</td>\n",
       "      <td>0.007777</td>\n",
       "      <td>0.016746</td>\n",
       "      <td>0.015028</td>\n",
       "      <td>0.001945</td>\n",
       "      <td>0.011604</td>\n",
       "      <td>0.003916</td>\n",
       "      <td>0.000270</td>\n",
       "      <td>0.017447</td>\n",
       "    </tr>\n",
       "    <tr>\n",
       "      <th>gender</th>\n",
       "      <td>0.006288</td>\n",
       "      <td>1.000000</td>\n",
       "      <td>0.001874</td>\n",
       "      <td>0.001808</td>\n",
       "      <td>0.010517</td>\n",
       "      <td>0.005106</td>\n",
       "      <td>0.006488</td>\n",
       "      <td>0.006739</td>\n",
       "      <td>0.000863</td>\n",
       "      <td>0.015017</td>\n",
       "      <td>...</td>\n",
       "      <td>0.000549</td>\n",
       "      <td>0.006825</td>\n",
       "      <td>0.006421</td>\n",
       "      <td>0.008743</td>\n",
       "      <td>0.000126</td>\n",
       "      <td>0.011754</td>\n",
       "      <td>0.017352</td>\n",
       "      <td>0.014569</td>\n",
       "      <td>0.000048</td>\n",
       "      <td>0.008612</td>\n",
       "    </tr>\n",
       "    <tr>\n",
       "      <th>SeniorCitizen</th>\n",
       "      <td>0.002074</td>\n",
       "      <td>0.001874</td>\n",
       "      <td>1.000000</td>\n",
       "      <td>0.016479</td>\n",
       "      <td>0.211185</td>\n",
       "      <td>0.016567</td>\n",
       "      <td>0.008576</td>\n",
       "      <td>0.146185</td>\n",
       "      <td>0.032310</td>\n",
       "      <td>0.128221</td>\n",
       "      <td>...</td>\n",
       "      <td>0.021398</td>\n",
       "      <td>0.151268</td>\n",
       "      <td>0.030776</td>\n",
       "      <td>0.047266</td>\n",
       "      <td>0.142554</td>\n",
       "      <td>0.156530</td>\n",
       "      <td>0.038551</td>\n",
       "      <td>0.220173</td>\n",
       "      <td>0.102395</td>\n",
       "      <td>0.150889</td>\n",
       "    </tr>\n",
       "    <tr>\n",
       "      <th>Partner</th>\n",
       "      <td>0.026729</td>\n",
       "      <td>0.001808</td>\n",
       "      <td>0.016479</td>\n",
       "      <td>1.000000</td>\n",
       "      <td>0.452676</td>\n",
       "      <td>0.379697</td>\n",
       "      <td>0.017706</td>\n",
       "      <td>0.142410</td>\n",
       "      <td>0.000891</td>\n",
       "      <td>0.150828</td>\n",
       "      <td>...</td>\n",
       "      <td>0.166330</td>\n",
       "      <td>0.126733</td>\n",
       "      <td>0.137341</td>\n",
       "      <td>0.129574</td>\n",
       "      <td>0.294806</td>\n",
       "      <td>0.014877</td>\n",
       "      <td>0.154798</td>\n",
       "      <td>0.096848</td>\n",
       "      <td>0.318812</td>\n",
       "      <td>0.150448</td>\n",
       "    </tr>\n",
       "    <tr>\n",
       "      <th>Dependents</th>\n",
       "      <td>0.012823</td>\n",
       "      <td>0.010517</td>\n",
       "      <td>0.211185</td>\n",
       "      <td>0.452676</td>\n",
       "      <td>1.000000</td>\n",
       "      <td>0.159712</td>\n",
       "      <td>0.001762</td>\n",
       "      <td>0.024991</td>\n",
       "      <td>0.044590</td>\n",
       "      <td>0.152166</td>\n",
       "      <td>...</td>\n",
       "      <td>0.080537</td>\n",
       "      <td>0.133524</td>\n",
       "      <td>0.046885</td>\n",
       "      <td>0.021321</td>\n",
       "      <td>0.243187</td>\n",
       "      <td>0.111377</td>\n",
       "      <td>0.040292</td>\n",
       "      <td>0.113890</td>\n",
       "      <td>0.064535</td>\n",
       "      <td>0.164221</td>\n",
       "    </tr>\n",
       "    <tr>\n",
       "      <th>tenure</th>\n",
       "      <td>0.008035</td>\n",
       "      <td>0.005106</td>\n",
       "      <td>0.016567</td>\n",
       "      <td>0.379697</td>\n",
       "      <td>0.159712</td>\n",
       "      <td>1.000000</td>\n",
       "      <td>0.008448</td>\n",
       "      <td>0.343032</td>\n",
       "      <td>0.030359</td>\n",
       "      <td>0.325468</td>\n",
       "      <td>...</td>\n",
       "      <td>0.371105</td>\n",
       "      <td>0.322942</td>\n",
       "      <td>0.289373</td>\n",
       "      <td>0.296866</td>\n",
       "      <td>0.671607</td>\n",
       "      <td>0.006152</td>\n",
       "      <td>0.370436</td>\n",
       "      <td>0.247900</td>\n",
       "      <td>0.824757</td>\n",
       "      <td>0.352229</td>\n",
       "    </tr>\n",
       "    <tr>\n",
       "      <th>PhoneService</th>\n",
       "      <td>0.006483</td>\n",
       "      <td>0.006488</td>\n",
       "      <td>0.008576</td>\n",
       "      <td>0.017706</td>\n",
       "      <td>0.001762</td>\n",
       "      <td>0.008448</td>\n",
       "      <td>1.000000</td>\n",
       "      <td>0.020538</td>\n",
       "      <td>0.387436</td>\n",
       "      <td>0.015198</td>\n",
       "      <td>...</td>\n",
       "      <td>0.003727</td>\n",
       "      <td>0.019158</td>\n",
       "      <td>0.055353</td>\n",
       "      <td>0.043870</td>\n",
       "      <td>0.002247</td>\n",
       "      <td>0.016505</td>\n",
       "      <td>0.004184</td>\n",
       "      <td>0.247398</td>\n",
       "      <td>0.112851</td>\n",
       "      <td>0.011942</td>\n",
       "    </tr>\n",
       "    <tr>\n",
       "      <th>MultipleLines</th>\n",
       "      <td>0.004316</td>\n",
       "      <td>0.006739</td>\n",
       "      <td>0.146185</td>\n",
       "      <td>0.142410</td>\n",
       "      <td>0.024991</td>\n",
       "      <td>0.343032</td>\n",
       "      <td>0.020538</td>\n",
       "      <td>1.000000</td>\n",
       "      <td>0.109216</td>\n",
       "      <td>0.007141</td>\n",
       "      <td>...</td>\n",
       "      <td>0.122318</td>\n",
       "      <td>0.011466</td>\n",
       "      <td>0.175059</td>\n",
       "      <td>0.180957</td>\n",
       "      <td>0.110842</td>\n",
       "      <td>0.165146</td>\n",
       "      <td>0.176793</td>\n",
       "      <td>0.433576</td>\n",
       "      <td>0.452883</td>\n",
       "      <td>0.038037</td>\n",
       "    </tr>\n",
       "    <tr>\n",
       "      <th>InternetService</th>\n",
       "      <td>0.012407</td>\n",
       "      <td>0.000863</td>\n",
       "      <td>0.032310</td>\n",
       "      <td>0.000891</td>\n",
       "      <td>0.044590</td>\n",
       "      <td>0.030359</td>\n",
       "      <td>0.387436</td>\n",
       "      <td>0.109216</td>\n",
       "      <td>1.000000</td>\n",
       "      <td>0.028416</td>\n",
       "      <td>...</td>\n",
       "      <td>0.044944</td>\n",
       "      <td>0.026047</td>\n",
       "      <td>0.107417</td>\n",
       "      <td>0.098350</td>\n",
       "      <td>0.099721</td>\n",
       "      <td>0.138625</td>\n",
       "      <td>0.086140</td>\n",
       "      <td>0.323260</td>\n",
       "      <td>0.175429</td>\n",
       "      <td>0.047291</td>\n",
       "    </tr>\n",
       "    <tr>\n",
       "      <th>OnlineSecurity</th>\n",
       "      <td>0.013292</td>\n",
       "      <td>0.015017</td>\n",
       "      <td>0.128221</td>\n",
       "      <td>0.150828</td>\n",
       "      <td>0.152166</td>\n",
       "      <td>0.325468</td>\n",
       "      <td>0.015198</td>\n",
       "      <td>0.007141</td>\n",
       "      <td>0.028416</td>\n",
       "      <td>1.000000</td>\n",
       "      <td>...</td>\n",
       "      <td>0.175985</td>\n",
       "      <td>0.285028</td>\n",
       "      <td>0.044669</td>\n",
       "      <td>0.055954</td>\n",
       "      <td>0.374416</td>\n",
       "      <td>0.157641</td>\n",
       "      <td>0.096726</td>\n",
       "      <td>0.053878</td>\n",
       "      <td>0.254308</td>\n",
       "      <td>0.289309</td>\n",
       "    </tr>\n",
       "    <tr>\n",
       "      <th>OnlineBackup</th>\n",
       "      <td>0.003334</td>\n",
       "      <td>0.012057</td>\n",
       "      <td>0.013632</td>\n",
       "      <td>0.153130</td>\n",
       "      <td>0.091015</td>\n",
       "      <td>0.370876</td>\n",
       "      <td>0.024105</td>\n",
       "      <td>0.117327</td>\n",
       "      <td>0.036138</td>\n",
       "      <td>0.185126</td>\n",
       "      <td>...</td>\n",
       "      <td>0.187757</td>\n",
       "      <td>0.195748</td>\n",
       "      <td>0.147186</td>\n",
       "      <td>0.136722</td>\n",
       "      <td>0.280980</td>\n",
       "      <td>0.013370</td>\n",
       "      <td>0.124847</td>\n",
       "      <td>0.119777</td>\n",
       "      <td>0.375362</td>\n",
       "      <td>0.195525</td>\n",
       "    </tr>\n",
       "    <tr>\n",
       "      <th>DeviceProtection</th>\n",
       "      <td>0.006918</td>\n",
       "      <td>0.000549</td>\n",
       "      <td>0.021398</td>\n",
       "      <td>0.166330</td>\n",
       "      <td>0.080537</td>\n",
       "      <td>0.371105</td>\n",
       "      <td>0.003727</td>\n",
       "      <td>0.122318</td>\n",
       "      <td>0.044944</td>\n",
       "      <td>0.175985</td>\n",
       "      <td>...</td>\n",
       "      <td>1.000000</td>\n",
       "      <td>0.240593</td>\n",
       "      <td>0.276652</td>\n",
       "      <td>0.288799</td>\n",
       "      <td>0.350277</td>\n",
       "      <td>0.038234</td>\n",
       "      <td>0.135750</td>\n",
       "      <td>0.163652</td>\n",
       "      <td>0.388864</td>\n",
       "      <td>0.178134</td>\n",
       "    </tr>\n",
       "    <tr>\n",
       "      <th>TechSupport</th>\n",
       "      <td>0.001140</td>\n",
       "      <td>0.006825</td>\n",
       "      <td>0.151268</td>\n",
       "      <td>0.126733</td>\n",
       "      <td>0.133524</td>\n",
       "      <td>0.322942</td>\n",
       "      <td>0.019158</td>\n",
       "      <td>0.011466</td>\n",
       "      <td>0.026047</td>\n",
       "      <td>0.285028</td>\n",
       "      <td>...</td>\n",
       "      <td>0.240593</td>\n",
       "      <td>1.000000</td>\n",
       "      <td>0.161305</td>\n",
       "      <td>0.161316</td>\n",
       "      <td>0.425367</td>\n",
       "      <td>0.113600</td>\n",
       "      <td>0.104670</td>\n",
       "      <td>0.008682</td>\n",
       "      <td>0.276713</td>\n",
       "      <td>0.282492</td>\n",
       "    </tr>\n",
       "    <tr>\n",
       "      <th>StreamingTV</th>\n",
       "      <td>0.007777</td>\n",
       "      <td>0.006421</td>\n",
       "      <td>0.030776</td>\n",
       "      <td>0.137341</td>\n",
       "      <td>0.046885</td>\n",
       "      <td>0.289373</td>\n",
       "      <td>0.055353</td>\n",
       "      <td>0.175059</td>\n",
       "      <td>0.107417</td>\n",
       "      <td>0.044669</td>\n",
       "      <td>...</td>\n",
       "      <td>0.276652</td>\n",
       "      <td>0.161305</td>\n",
       "      <td>1.000000</td>\n",
       "      <td>0.434772</td>\n",
       "      <td>0.227116</td>\n",
       "      <td>0.096642</td>\n",
       "      <td>0.104234</td>\n",
       "      <td>0.336706</td>\n",
       "      <td>0.392291</td>\n",
       "      <td>0.036581</td>\n",
       "    </tr>\n",
       "    <tr>\n",
       "      <th>StreamingMovies</th>\n",
       "      <td>0.016746</td>\n",
       "      <td>0.008743</td>\n",
       "      <td>0.047266</td>\n",
       "      <td>0.129574</td>\n",
       "      <td>0.021321</td>\n",
       "      <td>0.296866</td>\n",
       "      <td>0.043870</td>\n",
       "      <td>0.180957</td>\n",
       "      <td>0.098350</td>\n",
       "      <td>0.055954</td>\n",
       "      <td>...</td>\n",
       "      <td>0.288799</td>\n",
       "      <td>0.161316</td>\n",
       "      <td>0.434772</td>\n",
       "      <td>1.000000</td>\n",
       "      <td>0.231226</td>\n",
       "      <td>0.083700</td>\n",
       "      <td>0.111241</td>\n",
       "      <td>0.335459</td>\n",
       "      <td>0.397909</td>\n",
       "      <td>0.038492</td>\n",
       "    </tr>\n",
       "    <tr>\n",
       "      <th>Contract</th>\n",
       "      <td>0.015028</td>\n",
       "      <td>0.000126</td>\n",
       "      <td>0.142554</td>\n",
       "      <td>0.294806</td>\n",
       "      <td>0.243187</td>\n",
       "      <td>0.671607</td>\n",
       "      <td>0.002247</td>\n",
       "      <td>0.110842</td>\n",
       "      <td>0.099721</td>\n",
       "      <td>0.374416</td>\n",
       "      <td>...</td>\n",
       "      <td>0.350277</td>\n",
       "      <td>0.425367</td>\n",
       "      <td>0.227116</td>\n",
       "      <td>0.231226</td>\n",
       "      <td>1.000000</td>\n",
       "      <td>0.176733</td>\n",
       "      <td>0.227543</td>\n",
       "      <td>0.074195</td>\n",
       "      <td>0.449511</td>\n",
       "      <td>0.396713</td>\n",
       "    </tr>\n",
       "    <tr>\n",
       "      <th>PaperlessBilling</th>\n",
       "      <td>0.001945</td>\n",
       "      <td>0.011754</td>\n",
       "      <td>0.156530</td>\n",
       "      <td>0.014877</td>\n",
       "      <td>0.111377</td>\n",
       "      <td>0.006152</td>\n",
       "      <td>0.016505</td>\n",
       "      <td>0.165146</td>\n",
       "      <td>0.138625</td>\n",
       "      <td>0.157641</td>\n",
       "      <td>...</td>\n",
       "      <td>0.038234</td>\n",
       "      <td>0.113600</td>\n",
       "      <td>0.096642</td>\n",
       "      <td>0.083700</td>\n",
       "      <td>0.176733</td>\n",
       "      <td>1.000000</td>\n",
       "      <td>0.062904</td>\n",
       "      <td>0.352150</td>\n",
       "      <td>0.157676</td>\n",
       "      <td>0.191825</td>\n",
       "    </tr>\n",
       "    <tr>\n",
       "      <th>PaymentMethod</th>\n",
       "      <td>0.011604</td>\n",
       "      <td>0.017352</td>\n",
       "      <td>0.038551</td>\n",
       "      <td>0.154798</td>\n",
       "      <td>0.040292</td>\n",
       "      <td>0.370436</td>\n",
       "      <td>0.004184</td>\n",
       "      <td>0.176793</td>\n",
       "      <td>0.086140</td>\n",
       "      <td>0.096726</td>\n",
       "      <td>...</td>\n",
       "      <td>0.135750</td>\n",
       "      <td>0.104670</td>\n",
       "      <td>0.104234</td>\n",
       "      <td>0.111241</td>\n",
       "      <td>0.227543</td>\n",
       "      <td>0.062904</td>\n",
       "      <td>1.000000</td>\n",
       "      <td>0.193407</td>\n",
       "      <td>0.330151</td>\n",
       "      <td>0.107062</td>\n",
       "    </tr>\n",
       "    <tr>\n",
       "      <th>MonthlyCharges</th>\n",
       "      <td>0.003916</td>\n",
       "      <td>0.014569</td>\n",
       "      <td>0.220173</td>\n",
       "      <td>0.096848</td>\n",
       "      <td>0.113890</td>\n",
       "      <td>0.247900</td>\n",
       "      <td>0.247398</td>\n",
       "      <td>0.433576</td>\n",
       "      <td>0.323260</td>\n",
       "      <td>0.053878</td>\n",
       "      <td>...</td>\n",
       "      <td>0.163652</td>\n",
       "      <td>0.008682</td>\n",
       "      <td>0.336706</td>\n",
       "      <td>0.335459</td>\n",
       "      <td>0.074195</td>\n",
       "      <td>0.352150</td>\n",
       "      <td>0.193407</td>\n",
       "      <td>1.000000</td>\n",
       "      <td>0.650468</td>\n",
       "      <td>0.193356</td>\n",
       "    </tr>\n",
       "    <tr>\n",
       "      <th>TotalCharges</th>\n",
       "      <td>0.000270</td>\n",
       "      <td>0.000048</td>\n",
       "      <td>0.102395</td>\n",
       "      <td>0.318812</td>\n",
       "      <td>0.064535</td>\n",
       "      <td>0.824757</td>\n",
       "      <td>0.112851</td>\n",
       "      <td>0.452883</td>\n",
       "      <td>0.175429</td>\n",
       "      <td>0.254308</td>\n",
       "      <td>...</td>\n",
       "      <td>0.388864</td>\n",
       "      <td>0.276713</td>\n",
       "      <td>0.392291</td>\n",
       "      <td>0.397909</td>\n",
       "      <td>0.449511</td>\n",
       "      <td>0.157676</td>\n",
       "      <td>0.330151</td>\n",
       "      <td>0.650468</td>\n",
       "      <td>1.000000</td>\n",
       "      <td>0.199428</td>\n",
       "    </tr>\n",
       "    <tr>\n",
       "      <th>Churn</th>\n",
       "      <td>0.017447</td>\n",
       "      <td>0.008612</td>\n",
       "      <td>0.150889</td>\n",
       "      <td>0.150448</td>\n",
       "      <td>0.164221</td>\n",
       "      <td>0.352229</td>\n",
       "      <td>0.011942</td>\n",
       "      <td>0.038037</td>\n",
       "      <td>0.047291</td>\n",
       "      <td>0.289309</td>\n",
       "      <td>...</td>\n",
       "      <td>0.178134</td>\n",
       "      <td>0.282492</td>\n",
       "      <td>0.036581</td>\n",
       "      <td>0.038492</td>\n",
       "      <td>0.396713</td>\n",
       "      <td>0.191825</td>\n",
       "      <td>0.107062</td>\n",
       "      <td>0.193356</td>\n",
       "      <td>0.199428</td>\n",
       "      <td>1.000000</td>\n",
       "    </tr>\n",
       "  </tbody>\n",
       "</table>\n",
       "<p>21 rows × 21 columns</p>\n",
       "</div>"
      ],
      "text/plain": [
       "                  customerID    gender  SeniorCitizen   Partner  Dependents  \\\n",
       "customerID          1.000000  0.006288       0.002074  0.026729    0.012823   \n",
       "gender              0.006288  1.000000       0.001874  0.001808    0.010517   \n",
       "SeniorCitizen       0.002074  0.001874       1.000000  0.016479    0.211185   \n",
       "Partner             0.026729  0.001808       0.016479  1.000000    0.452676   \n",
       "Dependents          0.012823  0.010517       0.211185  0.452676    1.000000   \n",
       "tenure              0.008035  0.005106       0.016567  0.379697    0.159712   \n",
       "PhoneService        0.006483  0.006488       0.008576  0.017706    0.001762   \n",
       "MultipleLines       0.004316  0.006739       0.146185  0.142410    0.024991   \n",
       "InternetService     0.012407  0.000863       0.032310  0.000891    0.044590   \n",
       "OnlineSecurity      0.013292  0.015017       0.128221  0.150828    0.152166   \n",
       "OnlineBackup        0.003334  0.012057       0.013632  0.153130    0.091015   \n",
       "DeviceProtection    0.006918  0.000549       0.021398  0.166330    0.080537   \n",
       "TechSupport         0.001140  0.006825       0.151268  0.126733    0.133524   \n",
       "StreamingTV         0.007777  0.006421       0.030776  0.137341    0.046885   \n",
       "StreamingMovies     0.016746  0.008743       0.047266  0.129574    0.021321   \n",
       "Contract            0.015028  0.000126       0.142554  0.294806    0.243187   \n",
       "PaperlessBilling    0.001945  0.011754       0.156530  0.014877    0.111377   \n",
       "PaymentMethod       0.011604  0.017352       0.038551  0.154798    0.040292   \n",
       "MonthlyCharges      0.003916  0.014569       0.220173  0.096848    0.113890   \n",
       "TotalCharges        0.000270  0.000048       0.102395  0.318812    0.064535   \n",
       "Churn               0.017447  0.008612       0.150889  0.150448    0.164221   \n",
       "\n",
       "                    tenure  PhoneService  MultipleLines  InternetService  \\\n",
       "customerID        0.008035      0.006483       0.004316         0.012407   \n",
       "gender            0.005106      0.006488       0.006739         0.000863   \n",
       "SeniorCitizen     0.016567      0.008576       0.146185         0.032310   \n",
       "Partner           0.379697      0.017706       0.142410         0.000891   \n",
       "Dependents        0.159712      0.001762       0.024991         0.044590   \n",
       "tenure            1.000000      0.008448       0.343032         0.030359   \n",
       "PhoneService      0.008448      1.000000       0.020538         0.387436   \n",
       "MultipleLines     0.343032      0.020538       1.000000         0.109216   \n",
       "InternetService   0.030359      0.387436       0.109216         1.000000   \n",
       "OnlineSecurity    0.325468      0.015198       0.007141         0.028416   \n",
       "OnlineBackup      0.370876      0.024105       0.117327         0.036138   \n",
       "DeviceProtection  0.371105      0.003727       0.122318         0.044944   \n",
       "TechSupport       0.322942      0.019158       0.011466         0.026047   \n",
       "StreamingTV       0.289373      0.055353       0.175059         0.107417   \n",
       "StreamingMovies   0.296866      0.043870       0.180957         0.098350   \n",
       "Contract          0.671607      0.002247       0.110842         0.099721   \n",
       "PaperlessBilling  0.006152      0.016505       0.165146         0.138625   \n",
       "PaymentMethod     0.370436      0.004184       0.176793         0.086140   \n",
       "MonthlyCharges    0.247900      0.247398       0.433576         0.323260   \n",
       "TotalCharges      0.824757      0.112851       0.452883         0.175429   \n",
       "Churn             0.352229      0.011942       0.038037         0.047291   \n",
       "\n",
       "                  OnlineSecurity  ...  DeviceProtection  TechSupport  \\\n",
       "customerID              0.013292  ...          0.006918     0.001140   \n",
       "gender                  0.015017  ...          0.000549     0.006825   \n",
       "SeniorCitizen           0.128221  ...          0.021398     0.151268   \n",
       "Partner                 0.150828  ...          0.166330     0.126733   \n",
       "Dependents              0.152166  ...          0.080537     0.133524   \n",
       "tenure                  0.325468  ...          0.371105     0.322942   \n",
       "PhoneService            0.015198  ...          0.003727     0.019158   \n",
       "MultipleLines           0.007141  ...          0.122318     0.011466   \n",
       "InternetService         0.028416  ...          0.044944     0.026047   \n",
       "OnlineSecurity          1.000000  ...          0.175985     0.285028   \n",
       "OnlineBackup            0.185126  ...          0.187757     0.195748   \n",
       "DeviceProtection        0.175985  ...          1.000000     0.240593   \n",
       "TechSupport             0.285028  ...          0.240593     1.000000   \n",
       "StreamingTV             0.044669  ...          0.276652     0.161305   \n",
       "StreamingMovies         0.055954  ...          0.288799     0.161316   \n",
       "Contract                0.374416  ...          0.350277     0.425367   \n",
       "PaperlessBilling        0.157641  ...          0.038234     0.113600   \n",
       "PaymentMethod           0.096726  ...          0.135750     0.104670   \n",
       "MonthlyCharges          0.053878  ...          0.163652     0.008682   \n",
       "TotalCharges            0.254308  ...          0.388864     0.276713   \n",
       "Churn                   0.289309  ...          0.178134     0.282492   \n",
       "\n",
       "                  StreamingTV  StreamingMovies  Contract  PaperlessBilling  \\\n",
       "customerID           0.007777         0.016746  0.015028          0.001945   \n",
       "gender               0.006421         0.008743  0.000126          0.011754   \n",
       "SeniorCitizen        0.030776         0.047266  0.142554          0.156530   \n",
       "Partner              0.137341         0.129574  0.294806          0.014877   \n",
       "Dependents           0.046885         0.021321  0.243187          0.111377   \n",
       "tenure               0.289373         0.296866  0.671607          0.006152   \n",
       "PhoneService         0.055353         0.043870  0.002247          0.016505   \n",
       "MultipleLines        0.175059         0.180957  0.110842          0.165146   \n",
       "InternetService      0.107417         0.098350  0.099721          0.138625   \n",
       "OnlineSecurity       0.044669         0.055954  0.374416          0.157641   \n",
       "OnlineBackup         0.147186         0.136722  0.280980          0.013370   \n",
       "DeviceProtection     0.276652         0.288799  0.350277          0.038234   \n",
       "TechSupport          0.161305         0.161316  0.425367          0.113600   \n",
       "StreamingTV          1.000000         0.434772  0.227116          0.096642   \n",
       "StreamingMovies      0.434772         1.000000  0.231226          0.083700   \n",
       "Contract             0.227116         0.231226  1.000000          0.176733   \n",
       "PaperlessBilling     0.096642         0.083700  0.176733          1.000000   \n",
       "PaymentMethod        0.104234         0.111241  0.227543          0.062904   \n",
       "MonthlyCharges       0.336706         0.335459  0.074195          0.352150   \n",
       "TotalCharges         0.392291         0.397909  0.449511          0.157676   \n",
       "Churn                0.036581         0.038492  0.396713          0.191825   \n",
       "\n",
       "                  PaymentMethod  MonthlyCharges  TotalCharges     Churn  \n",
       "customerID             0.011604        0.003916      0.000270  0.017447  \n",
       "gender                 0.017352        0.014569      0.000048  0.008612  \n",
       "SeniorCitizen          0.038551        0.220173      0.102395  0.150889  \n",
       "Partner                0.154798        0.096848      0.318812  0.150448  \n",
       "Dependents             0.040292        0.113890      0.064535  0.164221  \n",
       "tenure                 0.370436        0.247900      0.824757  0.352229  \n",
       "PhoneService           0.004184        0.247398      0.112851  0.011942  \n",
       "MultipleLines          0.176793        0.433576      0.452883  0.038037  \n",
       "InternetService        0.086140        0.323260      0.175429  0.047291  \n",
       "OnlineSecurity         0.096726        0.053878      0.254308  0.289309  \n",
       "OnlineBackup           0.124847        0.119777      0.375362  0.195525  \n",
       "DeviceProtection       0.135750        0.163652      0.388864  0.178134  \n",
       "TechSupport            0.104670        0.008682      0.276713  0.282492  \n",
       "StreamingTV            0.104234        0.336706      0.392291  0.036581  \n",
       "StreamingMovies        0.111241        0.335459      0.397909  0.038492  \n",
       "Contract               0.227543        0.074195      0.449511  0.396713  \n",
       "PaperlessBilling       0.062904        0.352150      0.157676  0.191825  \n",
       "PaymentMethod          1.000000        0.193407      0.330151  0.107062  \n",
       "MonthlyCharges         0.193407        1.000000      0.650468  0.193356  \n",
       "TotalCharges           0.330151        0.650468      1.000000  0.199428  \n",
       "Churn                  0.107062        0.193356      0.199428  1.000000  \n",
       "\n",
       "[21 rows x 21 columns]"
      ]
     },
     "execution_count": 50,
     "metadata": {},
     "output_type": "execute_result"
    }
   ],
   "source": [
    "dt.corr().abs()"
   ]
  },
  {
   "cell_type": "code",
   "execution_count": 51,
   "id": "9a29e6c7",
   "metadata": {},
   "outputs": [
    {
     "data": {
      "image/png": "[encoded data removed]",
      "text/plain": [
       "<Figure size 2880x2880 with 2 Axes>"
      ]
     },
     "metadata": {
      "needs_background": "light"
     },
     "output_type": "display_data"
    }
   ],
   "source": [
    "plt.figure(figsize=(40,40))\n",
    "ax=sns.heatmap(dt.corr().abs(),annot=True,fmt='0.2f')\n",
    "plt.savefig('heatmap_Customer_churn.jpg')\n",
    "\n",
    "plt.show()\n",
    "                                                            "
   ]
  },
  {
   "cell_type": "code",
   "execution_count": 52,
   "id": "c7617b01",
   "metadata": {},
   "outputs": [
    {
     "data": {
      "image/png": "[encoded data removed]",
      "text/plain": [
       "<Figure size 864x360 with 1 Axes>"
      ]
     },
     "metadata": {
      "needs_background": "light"
     },
     "output_type": "display_data"
    }
   ],
   "source": [
    "plt.figure(figsize=(12,5))\n",
    "dt.corr().abs()['Churn'].sort_values(ascending=False).drop(['Churn']).plot(kind='bar',color='y')\n",
    "plt.title('Correlation')\n",
    "plt.show()"
   ]
  },
  {
   "cell_type": "code",
   "execution_count": 53,
   "id": "6e8c3179",
   "metadata": {},
   "outputs": [],
   "source": [
    "# #Cheking corelation with tergate value\n",
    "# plt.figure(figsize=(10,12),facecolor='y')\n",
    "# plotnumber=1\n",
    "# for i in dt:\n",
    "#     if plotnumber<=22:\n",
    "#         ax=plt.subplot(4,6,plotnumber)\n",
    "#         sns.scatterplot(dt[i],dt['Churn'])\n",
    "#         plt.xlabel(i,fontsize=10)\n",
    "#         plt.ylabel('Churn')\n",
    "#     plotnumber+=1\n",
    "    \n",
    "# plt.show()"
   ]
  },
  {
   "cell_type": "code",
   "execution_count": 13,
   "id": "1a9915f5",
   "metadata": {},
   "outputs": [],
   "source": [
    "dt.drop(['customerID'],axis=1,inplace=True)"
   ]
  },
  {
   "cell_type": "code",
   "execution_count": 14,
   "id": "ad429666",
   "metadata": {},
   "outputs": [
    {
     "data": {
      "text/plain": [
       "(7021, 20)"
      ]
     },
     "execution_count": 14,
     "metadata": {},
     "output_type": "execute_result"
    }
   ],
   "source": [
    "dt.drop_duplicates(inplace=True)\n",
    "dt.shape"
   ]
  },
  {
   "cell_type": "code",
   "execution_count": 56,
   "id": "126e37d0",
   "metadata": {},
   "outputs": [
    {
     "data": {
      "image/png": "[encoded data removed]",
      "text/plain": [
       "<Figure size 864x1008 with 20 Axes>"
      ]
     },
     "metadata": {
      "needs_background": "light"
     },
     "output_type": "display_data"
    }
   ],
   "source": [
    "# cheking Outlier using box plot.\n",
    "plt.figure(figsize=(12,14))\n",
    "plotnumber=1\n",
    "for column in dt:\n",
    "    if plotnumber<=22:\n",
    "        ax=plt.subplot(4,6,plotnumber)\n",
    "        sns.boxplot(dt[column],orient='Har')\n",
    "        plt.xlabel(column, fontsize=15)\n",
    "        \n",
    "    plotnumber+=1\n",
    "plt.show()"
   ]
  },
  {
   "cell_type": "code",
   "execution_count": 57,
   "id": "f0e67a85",
   "metadata": {},
   "outputs": [],
   "source": [
    "# Observation:\n",
    "# No outlier is present"
   ]
  },
  {
   "cell_type": "code",
   "execution_count": 15,
   "id": "105da112",
   "metadata": {},
   "outputs": [],
   "source": [
    "x=dt.drop(['Churn'],axis=1)\n",
    "y=dt.Churn"
   ]
  },
  {
   "cell_type": "code",
   "execution_count": 15,
   "id": "b482185d",
   "metadata": {},
   "outputs": [
    {
     "data": {
      "text/plain": [
       "customerID          0.000000\n",
       "gender             -0.019031\n",
       "SeniorCitizen       1.833633\n",
       "Partner             0.067922\n",
       "Dependents          0.875199\n",
       "tenure              0.239540\n",
       "PhoneService       -2.727153\n",
       "MultipleLines       0.118719\n",
       "InternetService     0.205423\n",
       "OnlineSecurity      0.416985\n",
       "OnlineBackup        0.182930\n",
       "DeviceProtection    0.186847\n",
       "TechSupport         0.402365\n",
       "StreamingTV         0.028486\n",
       "StreamingMovies     0.014657\n",
       "Contract            0.630959\n",
       "PaperlessBilling   -0.375396\n",
       "PaymentMethod      -0.170129\n",
       "MonthlyCharges     -0.220524\n",
       "TotalCharges        0.962394\n",
       "dtype: float64"
      ]
     },
     "execution_count": 15,
     "metadata": {},
     "output_type": "execute_result"
    }
   ],
   "source": [
    "# Cheking Skewness in data set\n",
    "x.skew()"
   ]
  },
  {
   "cell_type": "code",
   "execution_count": 60,
   "id": "edd6bc41",
   "metadata": {},
   "outputs": [],
   "source": [
    "# Observation\n",
    "# Skewness threshold +->0.5.\n",
    "# SeniorCitizen,Dependents,PhoneService & Contract- here skewness is presnt but these are catagorical data. so no need to handle Skewness.\n",
    "# TotalCharges- This is continious data. here skewness is present. but no need handle it bcz very low skewness."
   ]
  },
  {
   "cell_type": "code",
   "execution_count": 16,
   "id": "a15c45f4",
   "metadata": {},
   "outputs": [],
   "source": [
    "from sklearn.preprocessing import StandardScaler\n",
    "Stnd=StandardScaler()\n",
    "x_sclr=Stnd.fit_transform(x)"
   ]
  },
  {
   "cell_type": "code",
   "execution_count": 17,
   "id": "607091f3",
   "metadata": {},
   "outputs": [],
   "source": [
    "from sklearn.model_selection import train_test_split\n",
    "from sklearn.linear_model import LogisticRegression\n",
    "from sklearn.metrics import accuracy_score,classification_report,roc_auc_score,roc_curve,confusion_matrix\n",
    "from sklearn.model_selection import cross_val_score"
   ]
  },
  {
   "cell_type": "code",
   "execution_count": 18,
   "id": "d6e30a19",
   "metadata": {},
   "outputs": [],
   "source": [
    "x_train,x_test,y_train,y_test=train_test_split(x_sclr,y,random_state=88,test_size=0.25)\n",
    "\n"
   ]
  },
  {
   "cell_type": "code",
   "execution_count": 57,
   "id": "dfb2a940",
   "metadata": {},
   "outputs": [],
   "source": [
    "def matric_score(lr,x_train,x_test,y_train,y_test,train=True):\n",
    "    if train:\n",
    "        pred=lr.predict(x_train)\n",
    "        print('\\n==========Train Result==========\\n')\n",
    "        print(f'Accuracy Score : {accuracy_score(y_train,pred)*100:0.2f}%')\n",
    "        \n",
    "    elif train==False:\n",
    "        pred1=lr.predict(x_test)\n",
    "        print('\\n==========Test Result==========\\n')\n",
    "        print(f'Accuracy Score : {accuracy_score(y_test,pred1)*100:0.2f}%')\n",
    "        \n",
    "        print ('classification report \\n',classification_report(y_test,pred1))\n",
    "       \n",
    "        \n",
    "              \n",
    "              "
   ]
  },
  {
   "cell_type": "markdown",
   "id": "46648a60",
   "metadata": {},
   "source": [
    "### LogisticRegression Model"
   ]
  },
  {
   "cell_type": "code",
   "execution_count": 58,
   "id": "122da23c",
   "metadata": {},
   "outputs": [
    {
     "data": {
      "text/html": [
       "<style>#sk-container-id-6 {color: black;background-color: white;}#sk-container-id-6 pre{padding: 0;}#sk-container-id-6 div.sk-toggleable {background-color: white;}#sk-container-id-6 label.sk-toggleable__label {cursor: pointer;display: block;width: 100%;margin-bottom: 0;padding: 0.3em;box-sizing: border-box;text-align: center;}#sk-container-id-6 label.sk-toggleable__label-arrow:before {content: \"▸\";float: left;margin-right: 0.25em;color: #696969;}#sk-container-id-6 label.sk-toggleable__label-arrow:hover:before {color: black;}#sk-container-id-6 div.sk-estimator:hover label.sk-toggleable__label-arrow:before {color: black;}#sk-container-id-6 div.sk-toggleable__content {max-height: 0;max-width: 0;overflow: hidden;text-align: left;background-color: #f0f8ff;}#sk-container-id-6 div.sk-toggleable__content pre {margin: 0.2em;color: black;border-radius: 0.25em;background-color: #f0f8ff;}#sk-container-id-6 input.sk-toggleable__control:checked~div.sk-toggleable__content {max-height: 200px;max-width: 100%;overflow: auto;}#sk-container-id-6 input.sk-toggleable__control:checked~label.sk-toggleable__label-arrow:before {content: \"▾\";}#sk-container-id-6 div.sk-estimator input.sk-toggleable__control:checked~label.sk-toggleable__label {background-color: #d4ebff;}#sk-container-id-6 div.sk-label input.sk-toggleable__control:checked~label.sk-toggleable__label {background-color: #d4ebff;}#sk-container-id-6 input.sk-hidden--visually {border: 0;clip: rect(1px 1px 1px 1px);clip: rect(1px, 1px, 1px, 1px);height: 1px;margin: -1px;overflow: hidden;padding: 0;position: absolute;width: 1px;}#sk-container-id-6 div.sk-estimator {font-family: monospace;background-color: #f0f8ff;border: 1px dotted black;border-radius: 0.25em;box-sizing: border-box;margin-bottom: 0.5em;}#sk-container-id-6 div.sk-estimator:hover {background-color: #d4ebff;}#sk-container-id-6 div.sk-parallel-item::after {content: \"\";width: 100%;border-bottom: 1px solid gray;flex-grow: 1;}#sk-container-id-6 div.sk-label:hover label.sk-toggleable__label {background-color: #d4ebff;}#sk-container-id-6 div.sk-serial::before {content: \"\";position: absolute;border-left: 1px solid gray;box-sizing: border-box;top: 0;bottom: 0;left: 50%;z-index: 0;}#sk-container-id-6 div.sk-serial {display: flex;flex-direction: column;align-items: center;background-color: white;padding-right: 0.2em;padding-left: 0.2em;position: relative;}#sk-container-id-6 div.sk-item {position: relative;z-index: 1;}#sk-container-id-6 div.sk-parallel {display: flex;align-items: stretch;justify-content: center;background-color: white;position: relative;}#sk-container-id-6 div.sk-item::before, #sk-container-id-6 div.sk-parallel-item::before {content: \"\";position: absolute;border-left: 1px solid gray;box-sizing: border-box;top: 0;bottom: 0;left: 50%;z-index: -1;}#sk-container-id-6 div.sk-parallel-item {display: flex;flex-direction: column;z-index: 1;position: relative;background-color: white;}#sk-container-id-6 div.sk-parallel-item:first-child::after {align-self: flex-end;width: 50%;}#sk-container-id-6 div.sk-parallel-item:last-child::after {align-self: flex-start;width: 50%;}#sk-container-id-6 div.sk-parallel-item:only-child::after {width: 0;}#sk-container-id-6 div.sk-dashed-wrapped {border: 1px dashed gray;margin: 0 0.4em 0.5em 0.4em;box-sizing: border-box;padding-bottom: 0.4em;background-color: white;}#sk-container-id-6 div.sk-label label {font-family: monospace;font-weight: bold;display: inline-block;line-height: 1.2em;}#sk-container-id-6 div.sk-label-container {text-align: center;}#sk-container-id-6 div.sk-container {/* jupyter's `normalize.less` sets `[hidden] { display: none; }` but bootstrap.min.css set `[hidden] { display: none !important; }` so we also need the `!important` here to be able to override the default hidden behavior on the sphinx rendered scikit-learn.org. See: https://github.com/scikit-learn/scikit-learn/issues/21755 */display: inline-block !important;position: relative;}#sk-container-id-6 div.sk-text-repr-fallback {display: none;}</style><div id=\"sk-container-id-6\" class=\"sk-top-container\"><div class=\"sk-text-repr-fallback\"><pre>LogisticRegression()</pre><b>In a Jupyter environment, please rerun this cell to show the HTML representation or trust the notebook. <br />On GitHub, the HTML representation is unable to render, please try loading this page with nbviewer.org.</b></div><div class=\"sk-container\" hidden><div class=\"sk-item\"><div class=\"sk-estimator sk-toggleable\"><input class=\"sk-toggleable__control sk-hidden--visually\" id=\"sk-estimator-id-10\" type=\"checkbox\" checked><label for=\"sk-estimator-id-10\" class=\"sk-toggleable__label sk-toggleable__label-arrow\">LogisticRegression</label><div class=\"sk-toggleable__content\"><pre>LogisticRegression()</pre></div></div></div></div></div>"
      ],
      "text/plain": [
       "LogisticRegression()"
      ]
     },
     "execution_count": 58,
     "metadata": {},
     "output_type": "execute_result"
    }
   ],
   "source": [
    "lr=LogisticRegression()\n",
    "lr.fit(x_train,y_train)"
   ]
  },
  {
   "cell_type": "code",
   "execution_count": 59,
   "id": "5a396614",
   "metadata": {},
   "outputs": [
    {
     "name": "stdout",
     "output_type": "stream",
     "text": [
      "\n",
      "==========Train Result==========\n",
      "\n",
      "Accuracy Score : 80.63%\n",
      "\n",
      "==========Test Result==========\n",
      "\n",
      "Accuracy Score : 80.01%\n",
      "classification report \n",
      "               precision    recall  f1-score   support\n",
      "\n",
      "         0.0       0.84      0.90      0.87      1276\n",
      "         1.0       0.67      0.54      0.59       480\n",
      "\n",
      "    accuracy                           0.80      1756\n",
      "   macro avg       0.75      0.72      0.73      1756\n",
      "weighted avg       0.79      0.80      0.79      1756\n",
      "\n"
     ]
    }
   ],
   "source": [
    "matric_score(lr,x_train,x_test,y_train,y_test,train=True)\n",
    "matric_score(lr,x_train,x_test,y_train,y_test,train=False)"
   ]
  },
  {
   "cell_type": "code",
   "execution_count": 60,
   "id": "07c0d1c7",
   "metadata": {},
   "outputs": [
    {
     "data": {
      "text/plain": [
       "80"
      ]
     },
     "execution_count": 60,
     "metadata": {},
     "output_type": "execute_result"
    }
   ],
   "source": [
    "# Cheking Cross val Score for madel overfitting or not\n",
    "round(cross_val_score(lr,x_sclr,y,cv=9).mean()*100)"
   ]
  },
  {
   "cell_type": "code",
   "execution_count": 61,
   "id": "beda89b0",
   "metadata": {},
   "outputs": [],
   "source": [
    "# Observation\n",
    "# Model is not overfiting. Test result & cross val Score is almost same."
   ]
  },
  {
   "cell_type": "code",
   "execution_count": 62,
   "id": "05bedc7e",
   "metadata": {},
   "outputs": [],
   "source": [
    "# we want to imporove result by using hyperparameter tune\n",
    "param={'max_iter': [10,15,20],\n",
    "      'n_jobs':[2,3,5,9,10]}"
   ]
  },
  {
   "cell_type": "code",
   "execution_count": 63,
   "id": "6d009629",
   "metadata": {},
   "outputs": [
    {
     "data": {
      "text/html": [
       "<style>#sk-container-id-7 {color: black;background-color: white;}#sk-container-id-7 pre{padding: 0;}#sk-container-id-7 div.sk-toggleable {background-color: white;}#sk-container-id-7 label.sk-toggleable__label {cursor: pointer;display: block;width: 100%;margin-bottom: 0;padding: 0.3em;box-sizing: border-box;text-align: center;}#sk-container-id-7 label.sk-toggleable__label-arrow:before {content: \"▸\";float: left;margin-right: 0.25em;color: #696969;}#sk-container-id-7 label.sk-toggleable__label-arrow:hover:before {color: black;}#sk-container-id-7 div.sk-estimator:hover label.sk-toggleable__label-arrow:before {color: black;}#sk-container-id-7 div.sk-toggleable__content {max-height: 0;max-width: 0;overflow: hidden;text-align: left;background-color: #f0f8ff;}#sk-container-id-7 div.sk-toggleable__content pre {margin: 0.2em;color: black;border-radius: 0.25em;background-color: #f0f8ff;}#sk-container-id-7 input.sk-toggleable__control:checked~div.sk-toggleable__content {max-height: 200px;max-width: 100%;overflow: auto;}#sk-container-id-7 input.sk-toggleable__control:checked~label.sk-toggleable__label-arrow:before {content: \"▾\";}#sk-container-id-7 div.sk-estimator input.sk-toggleable__control:checked~label.sk-toggleable__label {background-color: #d4ebff;}#sk-container-id-7 div.sk-label input.sk-toggleable__control:checked~label.sk-toggleable__label {background-color: #d4ebff;}#sk-container-id-7 input.sk-hidden--visually {border: 0;clip: rect(1px 1px 1px 1px);clip: rect(1px, 1px, 1px, 1px);height: 1px;margin: -1px;overflow: hidden;padding: 0;position: absolute;width: 1px;}#sk-container-id-7 div.sk-estimator {font-family: monospace;background-color: #f0f8ff;border: 1px dotted black;border-radius: 0.25em;box-sizing: border-box;margin-bottom: 0.5em;}#sk-container-id-7 div.sk-estimator:hover {background-color: #d4ebff;}#sk-container-id-7 div.sk-parallel-item::after {content: \"\";width: 100%;border-bottom: 1px solid gray;flex-grow: 1;}#sk-container-id-7 div.sk-label:hover label.sk-toggleable__label {background-color: #d4ebff;}#sk-container-id-7 div.sk-serial::before {content: \"\";position: absolute;border-left: 1px solid gray;box-sizing: border-box;top: 0;bottom: 0;left: 50%;z-index: 0;}#sk-container-id-7 div.sk-serial {display: flex;flex-direction: column;align-items: center;background-color: white;padding-right: 0.2em;padding-left: 0.2em;position: relative;}#sk-container-id-7 div.sk-item {position: relative;z-index: 1;}#sk-container-id-7 div.sk-parallel {display: flex;align-items: stretch;justify-content: center;background-color: white;position: relative;}#sk-container-id-7 div.sk-item::before, #sk-container-id-7 div.sk-parallel-item::before {content: \"\";position: absolute;border-left: 1px solid gray;box-sizing: border-box;top: 0;bottom: 0;left: 50%;z-index: -1;}#sk-container-id-7 div.sk-parallel-item {display: flex;flex-direction: column;z-index: 1;position: relative;background-color: white;}#sk-container-id-7 div.sk-parallel-item:first-child::after {align-self: flex-end;width: 50%;}#sk-container-id-7 div.sk-parallel-item:last-child::after {align-self: flex-start;width: 50%;}#sk-container-id-7 div.sk-parallel-item:only-child::after {width: 0;}#sk-container-id-7 div.sk-dashed-wrapped {border: 1px dashed gray;margin: 0 0.4em 0.5em 0.4em;box-sizing: border-box;padding-bottom: 0.4em;background-color: white;}#sk-container-id-7 div.sk-label label {font-family: monospace;font-weight: bold;display: inline-block;line-height: 1.2em;}#sk-container-id-7 div.sk-label-container {text-align: center;}#sk-container-id-7 div.sk-container {/* jupyter's `normalize.less` sets `[hidden] { display: none; }` but bootstrap.min.css set `[hidden] { display: none !important; }` so we also need the `!important` here to be able to override the default hidden behavior on the sphinx rendered scikit-learn.org. See: https://github.com/scikit-learn/scikit-learn/issues/21755 */display: inline-block !important;position: relative;}#sk-container-id-7 div.sk-text-repr-fallback {display: none;}</style><div id=\"sk-container-id-7\" class=\"sk-top-container\"><div class=\"sk-text-repr-fallback\"><pre>GridSearchCV(estimator=LogisticRegression(),\n",
       "             param_grid={&#x27;max_iter&#x27;: [10, 15, 20], &#x27;n_jobs&#x27;: [2, 3, 5, 9, 10]})</pre><b>In a Jupyter environment, please rerun this cell to show the HTML representation or trust the notebook. <br />On GitHub, the HTML representation is unable to render, please try loading this page with nbviewer.org.</b></div><div class=\"sk-container\" hidden><div class=\"sk-item sk-dashed-wrapped\"><div class=\"sk-label-container\"><div class=\"sk-label sk-toggleable\"><input class=\"sk-toggleable__control sk-hidden--visually\" id=\"sk-estimator-id-11\" type=\"checkbox\" ><label for=\"sk-estimator-id-11\" class=\"sk-toggleable__label sk-toggleable__label-arrow\">GridSearchCV</label><div class=\"sk-toggleable__content\"><pre>GridSearchCV(estimator=LogisticRegression(),\n",
       "             param_grid={&#x27;max_iter&#x27;: [10, 15, 20], &#x27;n_jobs&#x27;: [2, 3, 5, 9, 10]})</pre></div></div></div><div class=\"sk-parallel\"><div class=\"sk-parallel-item\"><div class=\"sk-item\"><div class=\"sk-label-container\"><div class=\"sk-label sk-toggleable\"><input class=\"sk-toggleable__control sk-hidden--visually\" id=\"sk-estimator-id-12\" type=\"checkbox\" ><label for=\"sk-estimator-id-12\" class=\"sk-toggleable__label sk-toggleable__label-arrow\">estimator: LogisticRegression</label><div class=\"sk-toggleable__content\"><pre>LogisticRegression()</pre></div></div></div><div class=\"sk-serial\"><div class=\"sk-item\"><div class=\"sk-estimator sk-toggleable\"><input class=\"sk-toggleable__control sk-hidden--visually\" id=\"sk-estimator-id-13\" type=\"checkbox\" ><label for=\"sk-estimator-id-13\" class=\"sk-toggleable__label sk-toggleable__label-arrow\">LogisticRegression</label><div class=\"sk-toggleable__content\"><pre>LogisticRegression()</pre></div></div></div></div></div></div></div></div></div></div>"
      ],
      "text/plain": [
       "GridSearchCV(estimator=LogisticRegression(),\n",
       "             param_grid={'max_iter': [10, 15, 20], 'n_jobs': [2, 3, 5, 9, 10]})"
      ]
     },
     "execution_count": 63,
     "metadata": {},
     "output_type": "execute_result"
    }
   ],
   "source": [
    "from sklearn.model_selection import GridSearchCV\n",
    "grid=GridSearchCV(lr,param_grid=param)\n",
    "grid.fit(x_train,y_train)\n"
   ]
  },
  {
   "cell_type": "code",
   "execution_count": 71,
   "id": "495bc92a",
   "metadata": {},
   "outputs": [
    {
     "data": {
      "text/plain": [
       "{'max_iter': 15, 'n_jobs': 2}"
      ]
     },
     "execution_count": 71,
     "metadata": {},
     "output_type": "execute_result"
    }
   ],
   "source": [
    "grid.best_params_"
   ]
  },
  {
   "cell_type": "code",
   "execution_count": 72,
   "id": "eced4104",
   "metadata": {},
   "outputs": [
    {
     "data": {
      "text/html": [
       "<style>#sk-container-id-3 {color: black;background-color: white;}#sk-container-id-3 pre{padding: 0;}#sk-container-id-3 div.sk-toggleable {background-color: white;}#sk-container-id-3 label.sk-toggleable__label {cursor: pointer;display: block;width: 100%;margin-bottom: 0;padding: 0.3em;box-sizing: border-box;text-align: center;}#sk-container-id-3 label.sk-toggleable__label-arrow:before {content: \"▸\";float: left;margin-right: 0.25em;color: #696969;}#sk-container-id-3 label.sk-toggleable__label-arrow:hover:before {color: black;}#sk-container-id-3 div.sk-estimator:hover label.sk-toggleable__label-arrow:before {color: black;}#sk-container-id-3 div.sk-toggleable__content {max-height: 0;max-width: 0;overflow: hidden;text-align: left;background-color: #f0f8ff;}#sk-container-id-3 div.sk-toggleable__content pre {margin: 0.2em;color: black;border-radius: 0.25em;background-color: #f0f8ff;}#sk-container-id-3 input.sk-toggleable__control:checked~div.sk-toggleable__content {max-height: 200px;max-width: 100%;overflow: auto;}#sk-container-id-3 input.sk-toggleable__control:checked~label.sk-toggleable__label-arrow:before {content: \"▾\";}#sk-container-id-3 div.sk-estimator input.sk-toggleable__control:checked~label.sk-toggleable__label {background-color: #d4ebff;}#sk-container-id-3 div.sk-label input.sk-toggleable__control:checked~label.sk-toggleable__label {background-color: #d4ebff;}#sk-container-id-3 input.sk-hidden--visually {border: 0;clip: rect(1px 1px 1px 1px);clip: rect(1px, 1px, 1px, 1px);height: 1px;margin: -1px;overflow: hidden;padding: 0;position: absolute;width: 1px;}#sk-container-id-3 div.sk-estimator {font-family: monospace;background-color: #f0f8ff;border: 1px dotted black;border-radius: 0.25em;box-sizing: border-box;margin-bottom: 0.5em;}#sk-container-id-3 div.sk-estimator:hover {background-color: #d4ebff;}#sk-container-id-3 div.sk-parallel-item::after {content: \"\";width: 100%;border-bottom: 1px solid gray;flex-grow: 1;}#sk-container-id-3 div.sk-label:hover label.sk-toggleable__label {background-color: #d4ebff;}#sk-container-id-3 div.sk-serial::before {content: \"\";position: absolute;border-left: 1px solid gray;box-sizing: border-box;top: 0;bottom: 0;left: 50%;z-index: 0;}#sk-container-id-3 div.sk-serial {display: flex;flex-direction: column;align-items: center;background-color: white;padding-right: 0.2em;padding-left: 0.2em;position: relative;}#sk-container-id-3 div.sk-item {position: relative;z-index: 1;}#sk-container-id-3 div.sk-parallel {display: flex;align-items: stretch;justify-content: center;background-color: white;position: relative;}#sk-container-id-3 div.sk-item::before, #sk-container-id-3 div.sk-parallel-item::before {content: \"\";position: absolute;border-left: 1px solid gray;box-sizing: border-box;top: 0;bottom: 0;left: 50%;z-index: -1;}#sk-container-id-3 div.sk-parallel-item {display: flex;flex-direction: column;z-index: 1;position: relative;background-color: white;}#sk-container-id-3 div.sk-parallel-item:first-child::after {align-self: flex-end;width: 50%;}#sk-container-id-3 div.sk-parallel-item:last-child::after {align-self: flex-start;width: 50%;}#sk-container-id-3 div.sk-parallel-item:only-child::after {width: 0;}#sk-container-id-3 div.sk-dashed-wrapped {border: 1px dashed gray;margin: 0 0.4em 0.5em 0.4em;box-sizing: border-box;padding-bottom: 0.4em;background-color: white;}#sk-container-id-3 div.sk-label label {font-family: monospace;font-weight: bold;display: inline-block;line-height: 1.2em;}#sk-container-id-3 div.sk-label-container {text-align: center;}#sk-container-id-3 div.sk-container {/* jupyter's `normalize.less` sets `[hidden] { display: none; }` but bootstrap.min.css set `[hidden] { display: none !important; }` so we also need the `!important` here to be able to override the default hidden behavior on the sphinx rendered scikit-learn.org. See: https://github.com/scikit-learn/scikit-learn/issues/21755 */display: inline-block !important;position: relative;}#sk-container-id-3 div.sk-text-repr-fallback {display: none;}</style><div id=\"sk-container-id-3\" class=\"sk-top-container\"><div class=\"sk-text-repr-fallback\"><pre>LogisticRegression(max_iter=15, n_jobs=2)</pre><b>In a Jupyter environment, please rerun this cell to show the HTML representation or trust the notebook. <br />On GitHub, the HTML representation is unable to render, please try loading this page with nbviewer.org.</b></div><div class=\"sk-container\" hidden><div class=\"sk-item\"><div class=\"sk-estimator sk-toggleable\"><input class=\"sk-toggleable__control sk-hidden--visually\" id=\"sk-estimator-id-5\" type=\"checkbox\" checked><label for=\"sk-estimator-id-5\" class=\"sk-toggleable__label sk-toggleable__label-arrow\">LogisticRegression</label><div class=\"sk-toggleable__content\"><pre>LogisticRegression(max_iter=15, n_jobs=2)</pre></div></div></div></div></div>"
      ],
      "text/plain": [
       "LogisticRegression(max_iter=15, n_jobs=2)"
      ]
     },
     "execution_count": 72,
     "metadata": {},
     "output_type": "execute_result"
    }
   ],
   "source": [
    "lr=LogisticRegression(max_iter= 15, n_jobs= 2)\n",
    "lr.fit(x_train,y_train)"
   ]
  },
  {
   "cell_type": "code",
   "execution_count": 73,
   "id": "9f036f76",
   "metadata": {},
   "outputs": [
    {
     "name": "stdout",
     "output_type": "stream",
     "text": [
      "\n",
      "==========Train Result==========\n",
      "\n",
      "Accuracy Score : 80.66%\n",
      "\n",
      "==========Test Result==========\n",
      "\n",
      "Accuracy Score : 80.01%\n",
      "classification report \n",
      "               precision    recall  f1-score   support\n",
      "\n",
      "         0.0       0.84      0.90      0.87      1276\n",
      "         1.0       0.67      0.54      0.59       480\n",
      "\n",
      "    accuracy                           0.80      1756\n",
      "   macro avg       0.75      0.72      0.73      1756\n",
      "weighted avg       0.79      0.80      0.79      1756\n",
      "\n"
     ]
    }
   ],
   "source": [
    "matric_score(lr,x_train,x_test,y_train,y_test,train=True)\n",
    "matric_score(lr,x_train,x_test,y_train,y_test,train=False)"
   ]
  },
  {
   "cell_type": "code",
   "execution_count": 27,
   "id": "509bf221",
   "metadata": {},
   "outputs": [],
   "source": [
    "# Upsample for handle the imbalance data.\n",
    "from imblearn.over_sampling import SMOTE\n",
    "up_samp=SMOTE(0.75)\n",
    "x_train_ns,y_train_ns=up_samp.fit_resample(x_train,y_train)\n"
   ]
  },
  {
   "cell_type": "code",
   "execution_count": 76,
   "id": "42520854",
   "metadata": {},
   "outputs": [
    {
     "data": {
      "text/plain": [
       "0.0    3888\n",
       "1.0    2916\n",
       "Name: Churn, dtype: int64"
      ]
     },
     "execution_count": 76,
     "metadata": {},
     "output_type": "execute_result"
    }
   ],
   "source": [
    "y_train_ns.value_counts()"
   ]
  },
  {
   "cell_type": "code",
   "execution_count": 81,
   "id": "63272247",
   "metadata": {},
   "outputs": [
    {
     "data": {
      "text/plain": [
       "0.0    3888\n",
       "1.0    1377\n",
       "Name: Churn, dtype: int64"
      ]
     },
     "execution_count": 81,
     "metadata": {},
     "output_type": "execute_result"
    }
   ],
   "source": [
    "y_train.value_counts()"
   ]
  },
  {
   "cell_type": "code",
   "execution_count": 28,
   "id": "a6dc7e54",
   "metadata": {},
   "outputs": [],
   "source": [
    "x_train_ns,x_test,y_train_ns,y_test=train_test_split(x_sclr,y,random_state=88,test_size=0.25)\n"
   ]
  },
  {
   "cell_type": "code",
   "execution_count": 78,
   "id": "072ab62a",
   "metadata": {},
   "outputs": [],
   "source": [
    "def matric_score(lr,x_train,x_test,y_train,y_test,train=True):\n",
    "    if train:\n",
    "        pred=lr.predict(x_train_ns)\n",
    "        print('\\n==========Train Result==========\\n')\n",
    "        print(f'Accuracy Score : {accuracy_score(y_train_ns,pred)*100:0.2f}%')\n",
    "        \n",
    "    elif train==False:\n",
    "        pred1=lr.predict(x_test)\n",
    "        print('\\n==========Test Result==========\\n')\n",
    "        print(f'Accuracy Score : {accuracy_score(y_test,pred1)*100:0.2f}%')\n",
    "        \n",
    "        print ('classification report \\n',classification_report(y_test,pred1))\n",
    "       \n",
    "        \n",
    "              "
   ]
  },
  {
   "cell_type": "code",
   "execution_count": 79,
   "id": "1eb160e2",
   "metadata": {},
   "outputs": [
    {
     "data": {
      "text/html": [
       "<style>#sk-container-id-4 {color: black;background-color: white;}#sk-container-id-4 pre{padding: 0;}#sk-container-id-4 div.sk-toggleable {background-color: white;}#sk-container-id-4 label.sk-toggleable__label {cursor: pointer;display: block;width: 100%;margin-bottom: 0;padding: 0.3em;box-sizing: border-box;text-align: center;}#sk-container-id-4 label.sk-toggleable__label-arrow:before {content: \"▸\";float: left;margin-right: 0.25em;color: #696969;}#sk-container-id-4 label.sk-toggleable__label-arrow:hover:before {color: black;}#sk-container-id-4 div.sk-estimator:hover label.sk-toggleable__label-arrow:before {color: black;}#sk-container-id-4 div.sk-toggleable__content {max-height: 0;max-width: 0;overflow: hidden;text-align: left;background-color: #f0f8ff;}#sk-container-id-4 div.sk-toggleable__content pre {margin: 0.2em;color: black;border-radius: 0.25em;background-color: #f0f8ff;}#sk-container-id-4 input.sk-toggleable__control:checked~div.sk-toggleable__content {max-height: 200px;max-width: 100%;overflow: auto;}#sk-container-id-4 input.sk-toggleable__control:checked~label.sk-toggleable__label-arrow:before {content: \"▾\";}#sk-container-id-4 div.sk-estimator input.sk-toggleable__control:checked~label.sk-toggleable__label {background-color: #d4ebff;}#sk-container-id-4 div.sk-label input.sk-toggleable__control:checked~label.sk-toggleable__label {background-color: #d4ebff;}#sk-container-id-4 input.sk-hidden--visually {border: 0;clip: rect(1px 1px 1px 1px);clip: rect(1px, 1px, 1px, 1px);height: 1px;margin: -1px;overflow: hidden;padding: 0;position: absolute;width: 1px;}#sk-container-id-4 div.sk-estimator {font-family: monospace;background-color: #f0f8ff;border: 1px dotted black;border-radius: 0.25em;box-sizing: border-box;margin-bottom: 0.5em;}#sk-container-id-4 div.sk-estimator:hover {background-color: #d4ebff;}#sk-container-id-4 div.sk-parallel-item::after {content: \"\";width: 100%;border-bottom: 1px solid gray;flex-grow: 1;}#sk-container-id-4 div.sk-label:hover label.sk-toggleable__label {background-color: #d4ebff;}#sk-container-id-4 div.sk-serial::before {content: \"\";position: absolute;border-left: 1px solid gray;box-sizing: border-box;top: 0;bottom: 0;left: 50%;z-index: 0;}#sk-container-id-4 div.sk-serial {display: flex;flex-direction: column;align-items: center;background-color: white;padding-right: 0.2em;padding-left: 0.2em;position: relative;}#sk-container-id-4 div.sk-item {position: relative;z-index: 1;}#sk-container-id-4 div.sk-parallel {display: flex;align-items: stretch;justify-content: center;background-color: white;position: relative;}#sk-container-id-4 div.sk-item::before, #sk-container-id-4 div.sk-parallel-item::before {content: \"\";position: absolute;border-left: 1px solid gray;box-sizing: border-box;top: 0;bottom: 0;left: 50%;z-index: -1;}#sk-container-id-4 div.sk-parallel-item {display: flex;flex-direction: column;z-index: 1;position: relative;background-color: white;}#sk-container-id-4 div.sk-parallel-item:first-child::after {align-self: flex-end;width: 50%;}#sk-container-id-4 div.sk-parallel-item:last-child::after {align-self: flex-start;width: 50%;}#sk-container-id-4 div.sk-parallel-item:only-child::after {width: 0;}#sk-container-id-4 div.sk-dashed-wrapped {border: 1px dashed gray;margin: 0 0.4em 0.5em 0.4em;box-sizing: border-box;padding-bottom: 0.4em;background-color: white;}#sk-container-id-4 div.sk-label label {font-family: monospace;font-weight: bold;display: inline-block;line-height: 1.2em;}#sk-container-id-4 div.sk-label-container {text-align: center;}#sk-container-id-4 div.sk-container {/* jupyter's `normalize.less` sets `[hidden] { display: none; }` but bootstrap.min.css set `[hidden] { display: none !important; }` so we also need the `!important` here to be able to override the default hidden behavior on the sphinx rendered scikit-learn.org. See: https://github.com/scikit-learn/scikit-learn/issues/21755 */display: inline-block !important;position: relative;}#sk-container-id-4 div.sk-text-repr-fallback {display: none;}</style><div id=\"sk-container-id-4\" class=\"sk-top-container\"><div class=\"sk-text-repr-fallback\"><pre>LogisticRegression()</pre><b>In a Jupyter environment, please rerun this cell to show the HTML representation or trust the notebook. <br />On GitHub, the HTML representation is unable to render, please try loading this page with nbviewer.org.</b></div><div class=\"sk-container\" hidden><div class=\"sk-item\"><div class=\"sk-estimator sk-toggleable\"><input class=\"sk-toggleable__control sk-hidden--visually\" id=\"sk-estimator-id-6\" type=\"checkbox\" checked><label for=\"sk-estimator-id-6\" class=\"sk-toggleable__label sk-toggleable__label-arrow\">LogisticRegression</label><div class=\"sk-toggleable__content\"><pre>LogisticRegression()</pre></div></div></div></div></div>"
      ],
      "text/plain": [
       "LogisticRegression()"
      ]
     },
     "execution_count": 79,
     "metadata": {},
     "output_type": "execute_result"
    }
   ],
   "source": [
    "lr=LogisticRegression()\n",
    "lr.fit(x_train_ns,y_train_ns)"
   ]
  },
  {
   "cell_type": "code",
   "execution_count": 80,
   "id": "f24040ef",
   "metadata": {},
   "outputs": [
    {
     "name": "stdout",
     "output_type": "stream",
     "text": [
      "\n",
      "==========Train Result==========\n",
      "\n",
      "Accuracy Score : 80.63%\n",
      "\n",
      "==========Test Result==========\n",
      "\n",
      "Accuracy Score : 80.01%\n",
      "classification report \n",
      "               precision    recall  f1-score   support\n",
      "\n",
      "         0.0       0.84      0.90      0.87      1276\n",
      "         1.0       0.67      0.54      0.59       480\n",
      "\n",
      "    accuracy                           0.80      1756\n",
      "   macro avg       0.75      0.72      0.73      1756\n",
      "weighted avg       0.79      0.80      0.79      1756\n",
      "\n"
     ]
    }
   ],
   "source": [
    "matric_score(lr,x_train_ns,x_test,y_train_ns,y_test,train=True)\n",
    "matric_score(lr,x_train_ns,x_test,y_train_ns,y_test,train=False)"
   ]
  },
  {
   "cell_type": "markdown",
   "id": "9b7c6f78",
   "metadata": {},
   "source": [
    "### Knn Model"
   ]
  },
  {
   "cell_type": "code",
   "execution_count": 68,
   "id": "48056c8c",
   "metadata": {},
   "outputs": [],
   "source": [
    "from sklearn.neighbors import KNeighborsClassifier\n",
    "knn=KNeighborsClassifier()"
   ]
  },
  {
   "cell_type": "code",
   "execution_count": 69,
   "id": "5a6d1d65",
   "metadata": {},
   "outputs": [],
   "source": [
    "def matric_score(calssi,x_train,x_test,y_train,y_test,train=True):\n",
    "    if train:\n",
    "        pred=knn.predict(x_train_ns)\n",
    "        print('\\n==========Train Result==========\\n')\n",
    "        print(f'Accuracy Score : {accuracy_score(y_train_ns,pred)*100:0.2f}%')\n",
    "        \n",
    "    elif train==False:\n",
    "        pred1=knn.predict(x_test)\n",
    "        print('\\n==========Test Result==========\\n')\n",
    "        print(f'Accuracy Score : {accuracy_score(y_test,pred1)*100:0.2f}%')\n",
    "        \n",
    "        print ('classification report \\n',classification_report(y_test,pred1))\n",
    "       "
   ]
  },
  {
   "cell_type": "code",
   "execution_count": 70,
   "id": "fe2e2ee3",
   "metadata": {},
   "outputs": [
    {
     "data": {
      "text/html": [
       "<style>#sk-container-id-8 {color: black;background-color: white;}#sk-container-id-8 pre{padding: 0;}#sk-container-id-8 div.sk-toggleable {background-color: white;}#sk-container-id-8 label.sk-toggleable__label {cursor: pointer;display: block;width: 100%;margin-bottom: 0;padding: 0.3em;box-sizing: border-box;text-align: center;}#sk-container-id-8 label.sk-toggleable__label-arrow:before {content: \"▸\";float: left;margin-right: 0.25em;color: #696969;}#sk-container-id-8 label.sk-toggleable__label-arrow:hover:before {color: black;}#sk-container-id-8 div.sk-estimator:hover label.sk-toggleable__label-arrow:before {color: black;}#sk-container-id-8 div.sk-toggleable__content {max-height: 0;max-width: 0;overflow: hidden;text-align: left;background-color: #f0f8ff;}#sk-container-id-8 div.sk-toggleable__content pre {margin: 0.2em;color: black;border-radius: 0.25em;background-color: #f0f8ff;}#sk-container-id-8 input.sk-toggleable__control:checked~div.sk-toggleable__content {max-height: 200px;max-width: 100%;overflow: auto;}#sk-container-id-8 input.sk-toggleable__control:checked~label.sk-toggleable__label-arrow:before {content: \"▾\";}#sk-container-id-8 div.sk-estimator input.sk-toggleable__control:checked~label.sk-toggleable__label {background-color: #d4ebff;}#sk-container-id-8 div.sk-label input.sk-toggleable__control:checked~label.sk-toggleable__label {background-color: #d4ebff;}#sk-container-id-8 input.sk-hidden--visually {border: 0;clip: rect(1px 1px 1px 1px);clip: rect(1px, 1px, 1px, 1px);height: 1px;margin: -1px;overflow: hidden;padding: 0;position: absolute;width: 1px;}#sk-container-id-8 div.sk-estimator {font-family: monospace;background-color: #f0f8ff;border: 1px dotted black;border-radius: 0.25em;box-sizing: border-box;margin-bottom: 0.5em;}#sk-container-id-8 div.sk-estimator:hover {background-color: #d4ebff;}#sk-container-id-8 div.sk-parallel-item::after {content: \"\";width: 100%;border-bottom: 1px solid gray;flex-grow: 1;}#sk-container-id-8 div.sk-label:hover label.sk-toggleable__label {background-color: #d4ebff;}#sk-container-id-8 div.sk-serial::before {content: \"\";position: absolute;border-left: 1px solid gray;box-sizing: border-box;top: 0;bottom: 0;left: 50%;z-index: 0;}#sk-container-id-8 div.sk-serial {display: flex;flex-direction: column;align-items: center;background-color: white;padding-right: 0.2em;padding-left: 0.2em;position: relative;}#sk-container-id-8 div.sk-item {position: relative;z-index: 1;}#sk-container-id-8 div.sk-parallel {display: flex;align-items: stretch;justify-content: center;background-color: white;position: relative;}#sk-container-id-8 div.sk-item::before, #sk-container-id-8 div.sk-parallel-item::before {content: \"\";position: absolute;border-left: 1px solid gray;box-sizing: border-box;top: 0;bottom: 0;left: 50%;z-index: -1;}#sk-container-id-8 div.sk-parallel-item {display: flex;flex-direction: column;z-index: 1;position: relative;background-color: white;}#sk-container-id-8 div.sk-parallel-item:first-child::after {align-self: flex-end;width: 50%;}#sk-container-id-8 div.sk-parallel-item:last-child::after {align-self: flex-start;width: 50%;}#sk-container-id-8 div.sk-parallel-item:only-child::after {width: 0;}#sk-container-id-8 div.sk-dashed-wrapped {border: 1px dashed gray;margin: 0 0.4em 0.5em 0.4em;box-sizing: border-box;padding-bottom: 0.4em;background-color: white;}#sk-container-id-8 div.sk-label label {font-family: monospace;font-weight: bold;display: inline-block;line-height: 1.2em;}#sk-container-id-8 div.sk-label-container {text-align: center;}#sk-container-id-8 div.sk-container {/* jupyter's `normalize.less` sets `[hidden] { display: none; }` but bootstrap.min.css set `[hidden] { display: none !important; }` so we also need the `!important` here to be able to override the default hidden behavior on the sphinx rendered scikit-learn.org. See: https://github.com/scikit-learn/scikit-learn/issues/21755 */display: inline-block !important;position: relative;}#sk-container-id-8 div.sk-text-repr-fallback {display: none;}</style><div id=\"sk-container-id-8\" class=\"sk-top-container\"><div class=\"sk-text-repr-fallback\"><pre>KNeighborsClassifier()</pre><b>In a Jupyter environment, please rerun this cell to show the HTML representation or trust the notebook. <br />On GitHub, the HTML representation is unable to render, please try loading this page with nbviewer.org.</b></div><div class=\"sk-container\" hidden><div class=\"sk-item\"><div class=\"sk-estimator sk-toggleable\"><input class=\"sk-toggleable__control sk-hidden--visually\" id=\"sk-estimator-id-14\" type=\"checkbox\" checked><label for=\"sk-estimator-id-14\" class=\"sk-toggleable__label sk-toggleable__label-arrow\">KNeighborsClassifier</label><div class=\"sk-toggleable__content\"><pre>KNeighborsClassifier()</pre></div></div></div></div></div>"
      ],
      "text/plain": [
       "KNeighborsClassifier()"
      ]
     },
     "execution_count": 70,
     "metadata": {},
     "output_type": "execute_result"
    }
   ],
   "source": [
    "knn.fit(x_train_ns,y_train_ns)"
   ]
  },
  {
   "cell_type": "code",
   "execution_count": 71,
   "id": "49308c68",
   "metadata": {},
   "outputs": [
    {
     "name": "stdout",
     "output_type": "stream",
     "text": [
      "\n",
      "==========Train Result==========\n",
      "\n",
      "Accuracy Score : 85.14%\n",
      "\n",
      "==========Test Result==========\n",
      "\n",
      "Accuracy Score : 69.82%\n",
      "classification report \n",
      "               precision    recall  f1-score   support\n",
      "\n",
      "         0.0       0.84      0.72      0.78      1276\n",
      "         1.0       0.46      0.65      0.54       480\n",
      "\n",
      "    accuracy                           0.70      1756\n",
      "   macro avg       0.65      0.68      0.66      1756\n",
      "weighted avg       0.74      0.70      0.71      1756\n",
      "\n"
     ]
    }
   ],
   "source": [
    "matric_score(knn,x_train_ns,x_test,y_train_ns,y_test,train=True)\n",
    "matric_score(knn,x_train_ns,x_test,y_train_ns,y_test,train=False)"
   ]
  },
  {
   "cell_type": "code",
   "execution_count": 38,
   "id": "3154451f",
   "metadata": {},
   "outputs": [
    {
     "data": {
      "text/plain": [
       "76.04698014101156"
      ]
     },
     "execution_count": 38,
     "metadata": {},
     "output_type": "execute_result"
    }
   ],
   "source": [
    "# cross val score for cheking overfitting model\n",
    "cross_val_score(knn,x_sclr,y,cv=9).mean()*100"
   ]
  },
  {
   "cell_type": "code",
   "execution_count": 101,
   "id": "780fe4bc",
   "metadata": {},
   "outputs": [],
   "source": [
    "# Use hyperparameter for increase result\n",
    "pram={'n_neighbors':[2,3,4,5,6,7,8,9,10],\n",
    "     'algorithm':['kd_tree', 'brute'],\n",
    "     'leaf_size':range(10,30),\n",
    "     }"
   ]
  },
  {
   "cell_type": "code",
   "execution_count": 102,
   "id": "36f4f258",
   "metadata": {},
   "outputs": [
    {
     "data": {
      "text/html": [
       "<style>#sk-container-id-6 {color: black;background-color: white;}#sk-container-id-6 pre{padding: 0;}#sk-container-id-6 div.sk-toggleable {background-color: white;}#sk-container-id-6 label.sk-toggleable__label {cursor: pointer;display: block;width: 100%;margin-bottom: 0;padding: 0.3em;box-sizing: border-box;text-align: center;}#sk-container-id-6 label.sk-toggleable__label-arrow:before {content: \"▸\";float: left;margin-right: 0.25em;color: #696969;}#sk-container-id-6 label.sk-toggleable__label-arrow:hover:before {color: black;}#sk-container-id-6 div.sk-estimator:hover label.sk-toggleable__label-arrow:before {color: black;}#sk-container-id-6 div.sk-toggleable__content {max-height: 0;max-width: 0;overflow: hidden;text-align: left;background-color: #f0f8ff;}#sk-container-id-6 div.sk-toggleable__content pre {margin: 0.2em;color: black;border-radius: 0.25em;background-color: #f0f8ff;}#sk-container-id-6 input.sk-toggleable__control:checked~div.sk-toggleable__content {max-height: 200px;max-width: 100%;overflow: auto;}#sk-container-id-6 input.sk-toggleable__control:checked~label.sk-toggleable__label-arrow:before {content: \"▾\";}#sk-container-id-6 div.sk-estimator input.sk-toggleable__control:checked~label.sk-toggleable__label {background-color: #d4ebff;}#sk-container-id-6 div.sk-label input.sk-toggleable__control:checked~label.sk-toggleable__label {background-color: #d4ebff;}#sk-container-id-6 input.sk-hidden--visually {border: 0;clip: rect(1px 1px 1px 1px);clip: rect(1px, 1px, 1px, 1px);height: 1px;margin: -1px;overflow: hidden;padding: 0;position: absolute;width: 1px;}#sk-container-id-6 div.sk-estimator {font-family: monospace;background-color: #f0f8ff;border: 1px dotted black;border-radius: 0.25em;box-sizing: border-box;margin-bottom: 0.5em;}#sk-container-id-6 div.sk-estimator:hover {background-color: #d4ebff;}#sk-container-id-6 div.sk-parallel-item::after {content: \"\";width: 100%;border-bottom: 1px solid gray;flex-grow: 1;}#sk-container-id-6 div.sk-label:hover label.sk-toggleable__label {background-color: #d4ebff;}#sk-container-id-6 div.sk-serial::before {content: \"\";position: absolute;border-left: 1px solid gray;box-sizing: border-box;top: 0;bottom: 0;left: 50%;z-index: 0;}#sk-container-id-6 div.sk-serial {display: flex;flex-direction: column;align-items: center;background-color: white;padding-right: 0.2em;padding-left: 0.2em;position: relative;}#sk-container-id-6 div.sk-item {position: relative;z-index: 1;}#sk-container-id-6 div.sk-parallel {display: flex;align-items: stretch;justify-content: center;background-color: white;position: relative;}#sk-container-id-6 div.sk-item::before, #sk-container-id-6 div.sk-parallel-item::before {content: \"\";position: absolute;border-left: 1px solid gray;box-sizing: border-box;top: 0;bottom: 0;left: 50%;z-index: -1;}#sk-container-id-6 div.sk-parallel-item {display: flex;flex-direction: column;z-index: 1;position: relative;background-color: white;}#sk-container-id-6 div.sk-parallel-item:first-child::after {align-self: flex-end;width: 50%;}#sk-container-id-6 div.sk-parallel-item:last-child::after {align-self: flex-start;width: 50%;}#sk-container-id-6 div.sk-parallel-item:only-child::after {width: 0;}#sk-container-id-6 div.sk-dashed-wrapped {border: 1px dashed gray;margin: 0 0.4em 0.5em 0.4em;box-sizing: border-box;padding-bottom: 0.4em;background-color: white;}#sk-container-id-6 div.sk-label label {font-family: monospace;font-weight: bold;display: inline-block;line-height: 1.2em;}#sk-container-id-6 div.sk-label-container {text-align: center;}#sk-container-id-6 div.sk-container {/* jupyter's `normalize.less` sets `[hidden] { display: none; }` but bootstrap.min.css set `[hidden] { display: none !important; }` so we also need the `!important` here to be able to override the default hidden behavior on the sphinx rendered scikit-learn.org. See: https://github.com/scikit-learn/scikit-learn/issues/21755 */display: inline-block !important;position: relative;}#sk-container-id-6 div.sk-text-repr-fallback {display: none;}</style><div id=\"sk-container-id-6\" class=\"sk-top-container\"><div class=\"sk-text-repr-fallback\"><pre>GridSearchCV(estimator=KNeighborsClassifier(),\n",
       "             param_grid={&#x27;algorithm&#x27;: [&#x27;kd_tree&#x27;, &#x27;brute&#x27;],\n",
       "                         &#x27;leaf_size&#x27;: range(10, 30),\n",
       "                         &#x27;n_neighbors&#x27;: [2, 3, 4, 5, 6, 7, 8, 9, 10]})</pre><b>In a Jupyter environment, please rerun this cell to show the HTML representation or trust the notebook. <br />On GitHub, the HTML representation is unable to render, please try loading this page with nbviewer.org.</b></div><div class=\"sk-container\" hidden><div class=\"sk-item sk-dashed-wrapped\"><div class=\"sk-label-container\"><div class=\"sk-label sk-toggleable\"><input class=\"sk-toggleable__control sk-hidden--visually\" id=\"sk-estimator-id-8\" type=\"checkbox\" ><label for=\"sk-estimator-id-8\" class=\"sk-toggleable__label sk-toggleable__label-arrow\">GridSearchCV</label><div class=\"sk-toggleable__content\"><pre>GridSearchCV(estimator=KNeighborsClassifier(),\n",
       "             param_grid={&#x27;algorithm&#x27;: [&#x27;kd_tree&#x27;, &#x27;brute&#x27;],\n",
       "                         &#x27;leaf_size&#x27;: range(10, 30),\n",
       "                         &#x27;n_neighbors&#x27;: [2, 3, 4, 5, 6, 7, 8, 9, 10]})</pre></div></div></div><div class=\"sk-parallel\"><div class=\"sk-parallel-item\"><div class=\"sk-item\"><div class=\"sk-label-container\"><div class=\"sk-label sk-toggleable\"><input class=\"sk-toggleable__control sk-hidden--visually\" id=\"sk-estimator-id-9\" type=\"checkbox\" ><label for=\"sk-estimator-id-9\" class=\"sk-toggleable__label sk-toggleable__label-arrow\">estimator: KNeighborsClassifier</label><div class=\"sk-toggleable__content\"><pre>KNeighborsClassifier()</pre></div></div></div><div class=\"sk-serial\"><div class=\"sk-item\"><div class=\"sk-estimator sk-toggleable\"><input class=\"sk-toggleable__control sk-hidden--visually\" id=\"sk-estimator-id-10\" type=\"checkbox\" ><label for=\"sk-estimator-id-10\" class=\"sk-toggleable__label sk-toggleable__label-arrow\">KNeighborsClassifier</label><div class=\"sk-toggleable__content\"><pre>KNeighborsClassifier()</pre></div></div></div></div></div></div></div></div></div></div>"
      ],
      "text/plain": [
       "GridSearchCV(estimator=KNeighborsClassifier(),\n",
       "             param_grid={'algorithm': ['kd_tree', 'brute'],\n",
       "                         'leaf_size': range(10, 30),\n",
       "                         'n_neighbors': [2, 3, 4, 5, 6, 7, 8, 9, 10]})"
      ]
     },
     "execution_count": 102,
     "metadata": {},
     "output_type": "execute_result"
    }
   ],
   "source": [
    "grid=GridSearchCV(knn,param_grid=pram)\n",
    "grid.fit(x_train_ns,y_train_ns)"
   ]
  },
  {
   "cell_type": "code",
   "execution_count": 103,
   "id": "13972894",
   "metadata": {},
   "outputs": [
    {
     "data": {
      "text/plain": [
       "{'algorithm': 'kd_tree', 'leaf_size': 17, 'n_neighbors': 10}"
      ]
     },
     "execution_count": 103,
     "metadata": {},
     "output_type": "execute_result"
    }
   ],
   "source": [
    "grid.best_params_"
   ]
  },
  {
   "cell_type": "code",
   "execution_count": 104,
   "id": "043d9a09",
   "metadata": {},
   "outputs": [],
   "source": [
    "knn=KNeighborsClassifier(algorithm = 'kd_tree', leaf_size = 17, n_neighbors = 10)"
   ]
  },
  {
   "cell_type": "code",
   "execution_count": 105,
   "id": "1e897af2",
   "metadata": {},
   "outputs": [
    {
     "data": {
      "text/html": [
       "<style>#sk-container-id-7 {color: black;background-color: white;}#sk-container-id-7 pre{padding: 0;}#sk-container-id-7 div.sk-toggleable {background-color: white;}#sk-container-id-7 label.sk-toggleable__label {cursor: pointer;display: block;width: 100%;margin-bottom: 0;padding: 0.3em;box-sizing: border-box;text-align: center;}#sk-container-id-7 label.sk-toggleable__label-arrow:before {content: \"▸\";float: left;margin-right: 0.25em;color: #696969;}#sk-container-id-7 label.sk-toggleable__label-arrow:hover:before {color: black;}#sk-container-id-7 div.sk-estimator:hover label.sk-toggleable__label-arrow:before {color: black;}#sk-container-id-7 div.sk-toggleable__content {max-height: 0;max-width: 0;overflow: hidden;text-align: left;background-color: #f0f8ff;}#sk-container-id-7 div.sk-toggleable__content pre {margin: 0.2em;color: black;border-radius: 0.25em;background-color: #f0f8ff;}#sk-container-id-7 input.sk-toggleable__control:checked~div.sk-toggleable__content {max-height: 200px;max-width: 100%;overflow: auto;}#sk-container-id-7 input.sk-toggleable__control:checked~label.sk-toggleable__label-arrow:before {content: \"▾\";}#sk-container-id-7 div.sk-estimator input.sk-toggleable__control:checked~label.sk-toggleable__label {background-color: #d4ebff;}#sk-container-id-7 div.sk-label input.sk-toggleable__control:checked~label.sk-toggleable__label {background-color: #d4ebff;}#sk-container-id-7 input.sk-hidden--visually {border: 0;clip: rect(1px 1px 1px 1px);clip: rect(1px, 1px, 1px, 1px);height: 1px;margin: -1px;overflow: hidden;padding: 0;position: absolute;width: 1px;}#sk-container-id-7 div.sk-estimator {font-family: monospace;background-color: #f0f8ff;border: 1px dotted black;border-radius: 0.25em;box-sizing: border-box;margin-bottom: 0.5em;}#sk-container-id-7 div.sk-estimator:hover {background-color: #d4ebff;}#sk-container-id-7 div.sk-parallel-item::after {content: \"\";width: 100%;border-bottom: 1px solid gray;flex-grow: 1;}#sk-container-id-7 div.sk-label:hover label.sk-toggleable__label {background-color: #d4ebff;}#sk-container-id-7 div.sk-serial::before {content: \"\";position: absolute;border-left: 1px solid gray;box-sizing: border-box;top: 0;bottom: 0;left: 50%;z-index: 0;}#sk-container-id-7 div.sk-serial {display: flex;flex-direction: column;align-items: center;background-color: white;padding-right: 0.2em;padding-left: 0.2em;position: relative;}#sk-container-id-7 div.sk-item {position: relative;z-index: 1;}#sk-container-id-7 div.sk-parallel {display: flex;align-items: stretch;justify-content: center;background-color: white;position: relative;}#sk-container-id-7 div.sk-item::before, #sk-container-id-7 div.sk-parallel-item::before {content: \"\";position: absolute;border-left: 1px solid gray;box-sizing: border-box;top: 0;bottom: 0;left: 50%;z-index: -1;}#sk-container-id-7 div.sk-parallel-item {display: flex;flex-direction: column;z-index: 1;position: relative;background-color: white;}#sk-container-id-7 div.sk-parallel-item:first-child::after {align-self: flex-end;width: 50%;}#sk-container-id-7 div.sk-parallel-item:last-child::after {align-self: flex-start;width: 50%;}#sk-container-id-7 div.sk-parallel-item:only-child::after {width: 0;}#sk-container-id-7 div.sk-dashed-wrapped {border: 1px dashed gray;margin: 0 0.4em 0.5em 0.4em;box-sizing: border-box;padding-bottom: 0.4em;background-color: white;}#sk-container-id-7 div.sk-label label {font-family: monospace;font-weight: bold;display: inline-block;line-height: 1.2em;}#sk-container-id-7 div.sk-label-container {text-align: center;}#sk-container-id-7 div.sk-container {/* jupyter's `normalize.less` sets `[hidden] { display: none; }` but bootstrap.min.css set `[hidden] { display: none !important; }` so we also need the `!important` here to be able to override the default hidden behavior on the sphinx rendered scikit-learn.org. See: https://github.com/scikit-learn/scikit-learn/issues/21755 */display: inline-block !important;position: relative;}#sk-container-id-7 div.sk-text-repr-fallback {display: none;}</style><div id=\"sk-container-id-7\" class=\"sk-top-container\"><div class=\"sk-text-repr-fallback\"><pre>KNeighborsClassifier(algorithm=&#x27;kd_tree&#x27;, leaf_size=17, n_neighbors=10)</pre><b>In a Jupyter environment, please rerun this cell to show the HTML representation or trust the notebook. <br />On GitHub, the HTML representation is unable to render, please try loading this page with nbviewer.org.</b></div><div class=\"sk-container\" hidden><div class=\"sk-item\"><div class=\"sk-estimator sk-toggleable\"><input class=\"sk-toggleable__control sk-hidden--visually\" id=\"sk-estimator-id-11\" type=\"checkbox\" checked><label for=\"sk-estimator-id-11\" class=\"sk-toggleable__label sk-toggleable__label-arrow\">KNeighborsClassifier</label><div class=\"sk-toggleable__content\"><pre>KNeighborsClassifier(algorithm=&#x27;kd_tree&#x27;, leaf_size=17, n_neighbors=10)</pre></div></div></div></div></div>"
      ],
      "text/plain": [
       "KNeighborsClassifier(algorithm='kd_tree', leaf_size=17, n_neighbors=10)"
      ]
     },
     "execution_count": 105,
     "metadata": {},
     "output_type": "execute_result"
    }
   ],
   "source": [
    "knn.fit(x_train_ns,y_train_ns)"
   ]
  },
  {
   "cell_type": "code",
   "execution_count": 39,
   "id": "33b02908",
   "metadata": {},
   "outputs": [
    {
     "name": "stdout",
     "output_type": "stream",
     "text": [
      "\n",
      "==========Train Result==========\n",
      "\n",
      "Accuracy Score : 83.07%\n",
      "\n",
      "==========Test Result==========\n",
      "\n",
      "Accuracy Score : 74.84%\n",
      "classification report \n",
      "               precision    recall  f1-score   support\n",
      "\n",
      "         0.0       0.82      0.84      0.83      1296\n",
      "         1.0       0.52      0.50      0.51       465\n",
      "\n",
      "    accuracy                           0.75      1761\n",
      "   macro avg       0.67      0.67      0.67      1761\n",
      "weighted avg       0.75      0.75      0.75      1761\n",
      "\n"
     ]
    }
   ],
   "source": [
    "matric_score(knn,x_train_ns,x_test,y_train_ns,y_test,train=True)\n",
    "matric_score(knn,x_train_ns,x_test,y_train_ns,y_test,train=False)"
   ]
  },
  {
   "cell_type": "markdown",
   "id": "c6698b6d",
   "metadata": {},
   "source": [
    "###   RandomForest Model"
   ]
  },
  {
   "cell_type": "code",
   "execution_count": 73,
   "id": "008749d4",
   "metadata": {},
   "outputs": [],
   "source": [
    "from sklearn.ensemble import RandomForestClassifier\n",
    "ran=RandomForestClassifier()"
   ]
  },
  {
   "cell_type": "code",
   "execution_count": 74,
   "id": "2f163607",
   "metadata": {},
   "outputs": [],
   "source": [
    "def matric_score(calssi,x_train,x_test,y_train,y_test,train=True):\n",
    "    if train:\n",
    "        pred=ran.predict(x_train_ns)\n",
    "        print('\\n==========Train Result==========\\n')\n",
    "        print(f'Accuracy Score : {accuracy_score(y_train_ns,pred)*100:0.2f}%')\n",
    "        \n",
    "    elif train==False:\n",
    "        pred1=ran.predict(x_test)\n",
    "        print('\\n==========Test Result==========\\n')\n",
    "        print(f'Accuracy Score : {accuracy_score(y_test,pred1)*100:0.2f}%')\n",
    "        \n",
    "        print ('classification report \\n',classification_report(y_test,pred1))"
   ]
  },
  {
   "cell_type": "code",
   "execution_count": 75,
   "id": "33eddc92",
   "metadata": {},
   "outputs": [
    {
     "data": {
      "text/html": [
       "<style>#sk-container-id-9 {color: black;background-color: white;}#sk-container-id-9 pre{padding: 0;}#sk-container-id-9 div.sk-toggleable {background-color: white;}#sk-container-id-9 label.sk-toggleable__label {cursor: pointer;display: block;width: 100%;margin-bottom: 0;padding: 0.3em;box-sizing: border-box;text-align: center;}#sk-container-id-9 label.sk-toggleable__label-arrow:before {content: \"▸\";float: left;margin-right: 0.25em;color: #696969;}#sk-container-id-9 label.sk-toggleable__label-arrow:hover:before {color: black;}#sk-container-id-9 div.sk-estimator:hover label.sk-toggleable__label-arrow:before {color: black;}#sk-container-id-9 div.sk-toggleable__content {max-height: 0;max-width: 0;overflow: hidden;text-align: left;background-color: #f0f8ff;}#sk-container-id-9 div.sk-toggleable__content pre {margin: 0.2em;color: black;border-radius: 0.25em;background-color: #f0f8ff;}#sk-container-id-9 input.sk-toggleable__control:checked~div.sk-toggleable__content {max-height: 200px;max-width: 100%;overflow: auto;}#sk-container-id-9 input.sk-toggleable__control:checked~label.sk-toggleable__label-arrow:before {content: \"▾\";}#sk-container-id-9 div.sk-estimator input.sk-toggleable__control:checked~label.sk-toggleable__label {background-color: #d4ebff;}#sk-container-id-9 div.sk-label input.sk-toggleable__control:checked~label.sk-toggleable__label {background-color: #d4ebff;}#sk-container-id-9 input.sk-hidden--visually {border: 0;clip: rect(1px 1px 1px 1px);clip: rect(1px, 1px, 1px, 1px);height: 1px;margin: -1px;overflow: hidden;padding: 0;position: absolute;width: 1px;}#sk-container-id-9 div.sk-estimator {font-family: monospace;background-color: #f0f8ff;border: 1px dotted black;border-radius: 0.25em;box-sizing: border-box;margin-bottom: 0.5em;}#sk-container-id-9 div.sk-estimator:hover {background-color: #d4ebff;}#sk-container-id-9 div.sk-parallel-item::after {content: \"\";width: 100%;border-bottom: 1px solid gray;flex-grow: 1;}#sk-container-id-9 div.sk-label:hover label.sk-toggleable__label {background-color: #d4ebff;}#sk-container-id-9 div.sk-serial::before {content: \"\";position: absolute;border-left: 1px solid gray;box-sizing: border-box;top: 0;bottom: 0;left: 50%;z-index: 0;}#sk-container-id-9 div.sk-serial {display: flex;flex-direction: column;align-items: center;background-color: white;padding-right: 0.2em;padding-left: 0.2em;position: relative;}#sk-container-id-9 div.sk-item {position: relative;z-index: 1;}#sk-container-id-9 div.sk-parallel {display: flex;align-items: stretch;justify-content: center;background-color: white;position: relative;}#sk-container-id-9 div.sk-item::before, #sk-container-id-9 div.sk-parallel-item::before {content: \"\";position: absolute;border-left: 1px solid gray;box-sizing: border-box;top: 0;bottom: 0;left: 50%;z-index: -1;}#sk-container-id-9 div.sk-parallel-item {display: flex;flex-direction: column;z-index: 1;position: relative;background-color: white;}#sk-container-id-9 div.sk-parallel-item:first-child::after {align-self: flex-end;width: 50%;}#sk-container-id-9 div.sk-parallel-item:last-child::after {align-self: flex-start;width: 50%;}#sk-container-id-9 div.sk-parallel-item:only-child::after {width: 0;}#sk-container-id-9 div.sk-dashed-wrapped {border: 1px dashed gray;margin: 0 0.4em 0.5em 0.4em;box-sizing: border-box;padding-bottom: 0.4em;background-color: white;}#sk-container-id-9 div.sk-label label {font-family: monospace;font-weight: bold;display: inline-block;line-height: 1.2em;}#sk-container-id-9 div.sk-label-container {text-align: center;}#sk-container-id-9 div.sk-container {/* jupyter's `normalize.less` sets `[hidden] { display: none; }` but bootstrap.min.css set `[hidden] { display: none !important; }` so we also need the `!important` here to be able to override the default hidden behavior on the sphinx rendered scikit-learn.org. See: https://github.com/scikit-learn/scikit-learn/issues/21755 */display: inline-block !important;position: relative;}#sk-container-id-9 div.sk-text-repr-fallback {display: none;}</style><div id=\"sk-container-id-9\" class=\"sk-top-container\"><div class=\"sk-text-repr-fallback\"><pre>RandomForestClassifier()</pre><b>In a Jupyter environment, please rerun this cell to show the HTML representation or trust the notebook. <br />On GitHub, the HTML representation is unable to render, please try loading this page with nbviewer.org.</b></div><div class=\"sk-container\" hidden><div class=\"sk-item\"><div class=\"sk-estimator sk-toggleable\"><input class=\"sk-toggleable__control sk-hidden--visually\" id=\"sk-estimator-id-15\" type=\"checkbox\" checked><label for=\"sk-estimator-id-15\" class=\"sk-toggleable__label sk-toggleable__label-arrow\">RandomForestClassifier</label><div class=\"sk-toggleable__content\"><pre>RandomForestClassifier()</pre></div></div></div></div></div>"
      ],
      "text/plain": [
       "RandomForestClassifier()"
      ]
     },
     "execution_count": 75,
     "metadata": {},
     "output_type": "execute_result"
    }
   ],
   "source": [
    "ran.fit(x_train_ns,y_train_ns)"
   ]
  },
  {
   "cell_type": "code",
   "execution_count": 76,
   "id": "3429196d",
   "metadata": {},
   "outputs": [
    {
     "name": "stdout",
     "output_type": "stream",
     "text": [
      "\n",
      "==========Train Result==========\n",
      "\n",
      "Accuracy Score : 99.79%\n",
      "\n",
      "==========Test Result==========\n",
      "\n",
      "Accuracy Score : 77.90%\n",
      "classification report \n",
      "               precision    recall  f1-score   support\n",
      "\n",
      "         0.0       0.84      0.87      0.85      1276\n",
      "         1.0       0.61      0.55      0.57       480\n",
      "\n",
      "    accuracy                           0.78      1756\n",
      "   macro avg       0.72      0.71      0.71      1756\n",
      "weighted avg       0.77      0.78      0.78      1756\n",
      "\n"
     ]
    }
   ],
   "source": [
    "matric_score(ran,x_train_ns,x_test,y_train_ns,y_test,train=True)\n",
    "matric_score(ran,x_train_ns,x_test,y_train_ns,y_test,train=False)"
   ]
  },
  {
   "cell_type": "code",
   "execution_count": 40,
   "id": "0bff5340",
   "metadata": {},
   "outputs": [
    {
     "data": {
      "text/plain": [
       "79.39831827005888"
      ]
     },
     "execution_count": 40,
     "metadata": {},
     "output_type": "execute_result"
    }
   ],
   "source": [
    "# cross val score for cheking overfitting model\n",
    "cross_val_score(ran,x_sclr,y,cv=9).mean()*100"
   ]
  },
  {
   "cell_type": "code",
   "execution_count": 41,
   "id": "59d69152",
   "metadata": {},
   "outputs": [],
   "source": [
    "# Use hyperparameter for increase result\n",
    "pram={'n_estimators':[2,3,4,5,6,7,8,9,10],\n",
    "      'criterion':['gini', 'entropy'],\n",
    "      'max_depth':range(10,30),\n",
    "      'min_samples_split':range(5,20),\n",
    "      'min_samples_leaf':range(5,15)}\n",
    "       "
   ]
  },
  {
   "cell_type": "code",
   "execution_count": 49,
   "id": "6ad9cc62",
   "metadata": {},
   "outputs": [
    {
     "data": {
      "text/html": [
       "<style>#sk-container-id-6 {color: black;background-color: white;}#sk-container-id-6 pre{padding: 0;}#sk-container-id-6 div.sk-toggleable {background-color: white;}#sk-container-id-6 label.sk-toggleable__label {cursor: pointer;display: block;width: 100%;margin-bottom: 0;padding: 0.3em;box-sizing: border-box;text-align: center;}#sk-container-id-6 label.sk-toggleable__label-arrow:before {content: \"▸\";float: left;margin-right: 0.25em;color: #696969;}#sk-container-id-6 label.sk-toggleable__label-arrow:hover:before {color: black;}#sk-container-id-6 div.sk-estimator:hover label.sk-toggleable__label-arrow:before {color: black;}#sk-container-id-6 div.sk-toggleable__content {max-height: 0;max-width: 0;overflow: hidden;text-align: left;background-color: #f0f8ff;}#sk-container-id-6 div.sk-toggleable__content pre {margin: 0.2em;color: black;border-radius: 0.25em;background-color: #f0f8ff;}#sk-container-id-6 input.sk-toggleable__control:checked~div.sk-toggleable__content {max-height: 200px;max-width: 100%;overflow: auto;}#sk-container-id-6 input.sk-toggleable__control:checked~label.sk-toggleable__label-arrow:before {content: \"▾\";}#sk-container-id-6 div.sk-estimator input.sk-toggleable__control:checked~label.sk-toggleable__label {background-color: #d4ebff;}#sk-container-id-6 div.sk-label input.sk-toggleable__control:checked~label.sk-toggleable__label {background-color: #d4ebff;}#sk-container-id-6 input.sk-hidden--visually {border: 0;clip: rect(1px 1px 1px 1px);clip: rect(1px, 1px, 1px, 1px);height: 1px;margin: -1px;overflow: hidden;padding: 0;position: absolute;width: 1px;}#sk-container-id-6 div.sk-estimator {font-family: monospace;background-color: #f0f8ff;border: 1px dotted black;border-radius: 0.25em;box-sizing: border-box;margin-bottom: 0.5em;}#sk-container-id-6 div.sk-estimator:hover {background-color: #d4ebff;}#sk-container-id-6 div.sk-parallel-item::after {content: \"\";width: 100%;border-bottom: 1px solid gray;flex-grow: 1;}#sk-container-id-6 div.sk-label:hover label.sk-toggleable__label {background-color: #d4ebff;}#sk-container-id-6 div.sk-serial::before {content: \"\";position: absolute;border-left: 1px solid gray;box-sizing: border-box;top: 0;bottom: 0;left: 50%;z-index: 0;}#sk-container-id-6 div.sk-serial {display: flex;flex-direction: column;align-items: center;background-color: white;padding-right: 0.2em;padding-left: 0.2em;position: relative;}#sk-container-id-6 div.sk-item {position: relative;z-index: 1;}#sk-container-id-6 div.sk-parallel {display: flex;align-items: stretch;justify-content: center;background-color: white;position: relative;}#sk-container-id-6 div.sk-item::before, #sk-container-id-6 div.sk-parallel-item::before {content: \"\";position: absolute;border-left: 1px solid gray;box-sizing: border-box;top: 0;bottom: 0;left: 50%;z-index: -1;}#sk-container-id-6 div.sk-parallel-item {display: flex;flex-direction: column;z-index: 1;position: relative;background-color: white;}#sk-container-id-6 div.sk-parallel-item:first-child::after {align-self: flex-end;width: 50%;}#sk-container-id-6 div.sk-parallel-item:last-child::after {align-self: flex-start;width: 50%;}#sk-container-id-6 div.sk-parallel-item:only-child::after {width: 0;}#sk-container-id-6 div.sk-dashed-wrapped {border: 1px dashed gray;margin: 0 0.4em 0.5em 0.4em;box-sizing: border-box;padding-bottom: 0.4em;background-color: white;}#sk-container-id-6 div.sk-label label {font-family: monospace;font-weight: bold;display: inline-block;line-height: 1.2em;}#sk-container-id-6 div.sk-label-container {text-align: center;}#sk-container-id-6 div.sk-container {/* jupyter's `normalize.less` sets `[hidden] { display: none; }` but bootstrap.min.css set `[hidden] { display: none !important; }` so we also need the `!important` here to be able to override the default hidden behavior on the sphinx rendered scikit-learn.org. See: https://github.com/scikit-learn/scikit-learn/issues/21755 */display: inline-block !important;position: relative;}#sk-container-id-6 div.sk-text-repr-fallback {display: none;}</style><div id=\"sk-container-id-6\" class=\"sk-top-container\"><div class=\"sk-text-repr-fallback\"><pre>GridSearchCV(estimator=RandomForestClassifier(),\n",
       "             param_grid={&#x27;criterion&#x27;: [&#x27;gini&#x27;, &#x27;entropy&#x27;],\n",
       "                         &#x27;max_depth&#x27;: range(10, 30),\n",
       "                         &#x27;min_samples_leaf&#x27;: range(5, 15),\n",
       "                         &#x27;min_samples_split&#x27;: range(5, 20),\n",
       "                         &#x27;n_estimators&#x27;: [2, 3, 4, 5, 6, 7, 8, 9, 10]})</pre><b>In a Jupyter environment, please rerun this cell to show the HTML representation or trust the notebook. <br />On GitHub, the HTML representation is unable to render, please try loading this page with nbviewer.org.</b></div><div class=\"sk-container\" hidden><div class=\"sk-item sk-dashed-wrapped\"><div class=\"sk-label-container\"><div class=\"sk-label sk-toggleable\"><input class=\"sk-toggleable__control sk-hidden--visually\" id=\"sk-estimator-id-8\" type=\"checkbox\" ><label for=\"sk-estimator-id-8\" class=\"sk-toggleable__label sk-toggleable__label-arrow\">GridSearchCV</label><div class=\"sk-toggleable__content\"><pre>GridSearchCV(estimator=RandomForestClassifier(),\n",
       "             param_grid={&#x27;criterion&#x27;: [&#x27;gini&#x27;, &#x27;entropy&#x27;],\n",
       "                         &#x27;max_depth&#x27;: range(10, 30),\n",
       "                         &#x27;min_samples_leaf&#x27;: range(5, 15),\n",
       "                         &#x27;min_samples_split&#x27;: range(5, 20),\n",
       "                         &#x27;n_estimators&#x27;: [2, 3, 4, 5, 6, 7, 8, 9, 10]})</pre></div></div></div><div class=\"sk-parallel\"><div class=\"sk-parallel-item\"><div class=\"sk-item\"><div class=\"sk-label-container\"><div class=\"sk-label sk-toggleable\"><input class=\"sk-toggleable__control sk-hidden--visually\" id=\"sk-estimator-id-9\" type=\"checkbox\" ><label for=\"sk-estimator-id-9\" class=\"sk-toggleable__label sk-toggleable__label-arrow\">estimator: RandomForestClassifier</label><div class=\"sk-toggleable__content\"><pre>RandomForestClassifier()</pre></div></div></div><div class=\"sk-serial\"><div class=\"sk-item\"><div class=\"sk-estimator sk-toggleable\"><input class=\"sk-toggleable__control sk-hidden--visually\" id=\"sk-estimator-id-10\" type=\"checkbox\" ><label for=\"sk-estimator-id-10\" class=\"sk-toggleable__label sk-toggleable__label-arrow\">RandomForestClassifier</label><div class=\"sk-toggleable__content\"><pre>RandomForestClassifier()</pre></div></div></div></div></div></div></div></div></div></div>"
      ],
      "text/plain": [
       "GridSearchCV(estimator=RandomForestClassifier(),\n",
       "             param_grid={'criterion': ['gini', 'entropy'],\n",
       "                         'max_depth': range(10, 30),\n",
       "                         'min_samples_leaf': range(5, 15),\n",
       "                         'min_samples_split': range(5, 20),\n",
       "                         'n_estimators': [2, 3, 4, 5, 6, 7, 8, 9, 10]})"
      ]
     },
     "execution_count": 49,
     "metadata": {},
     "output_type": "execute_result"
    }
   ],
   "source": [
    "grid=GridSearchCV(ran,param_grid=pram)\n",
    "grid.fit(x_train_ns,y_train_ns)"
   ]
  },
  {
   "cell_type": "code",
   "execution_count": 50,
   "id": "ea00b082",
   "metadata": {},
   "outputs": [
    {
     "data": {
      "text/plain": [
       "{'criterion': 'entropy',\n",
       " 'max_depth': 11,\n",
       " 'min_samples_leaf': 7,\n",
       " 'min_samples_split': 9,\n",
       " 'n_estimators': 8}"
      ]
     },
     "execution_count": 50,
     "metadata": {},
     "output_type": "execute_result"
    }
   ],
   "source": [
    "grid.best_params_ "
   ]
  },
  {
   "cell_type": "code",
   "execution_count": 51,
   "id": "e440a443",
   "metadata": {},
   "outputs": [],
   "source": [
    "ran=RandomForestClassifier(criterion = 'entropy',\n",
    " max_depth = 11,\n",
    " min_samples_leaf = 7,\n",
    " min_samples_split = 9,\n",
    " n_estimators = 8)"
   ]
  },
  {
   "cell_type": "code",
   "execution_count": 52,
   "id": "04027d8e",
   "metadata": {},
   "outputs": [
    {
     "data": {
      "text/html": [
       "<style>#sk-container-id-7 {color: black;background-color: white;}#sk-container-id-7 pre{padding: 0;}#sk-container-id-7 div.sk-toggleable {background-color: white;}#sk-container-id-7 label.sk-toggleable__label {cursor: pointer;display: block;width: 100%;margin-bottom: 0;padding: 0.3em;box-sizing: border-box;text-align: center;}#sk-container-id-7 label.sk-toggleable__label-arrow:before {content: \"▸\";float: left;margin-right: 0.25em;color: #696969;}#sk-container-id-7 label.sk-toggleable__label-arrow:hover:before {color: black;}#sk-container-id-7 div.sk-estimator:hover label.sk-toggleable__label-arrow:before {color: black;}#sk-container-id-7 div.sk-toggleable__content {max-height: 0;max-width: 0;overflow: hidden;text-align: left;background-color: #f0f8ff;}#sk-container-id-7 div.sk-toggleable__content pre {margin: 0.2em;color: black;border-radius: 0.25em;background-color: #f0f8ff;}#sk-container-id-7 input.sk-toggleable__control:checked~div.sk-toggleable__content {max-height: 200px;max-width: 100%;overflow: auto;}#sk-container-id-7 input.sk-toggleable__control:checked~label.sk-toggleable__label-arrow:before {content: \"▾\";}#sk-container-id-7 div.sk-estimator input.sk-toggleable__control:checked~label.sk-toggleable__label {background-color: #d4ebff;}#sk-container-id-7 div.sk-label input.sk-toggleable__control:checked~label.sk-toggleable__label {background-color: #d4ebff;}#sk-container-id-7 input.sk-hidden--visually {border: 0;clip: rect(1px 1px 1px 1px);clip: rect(1px, 1px, 1px, 1px);height: 1px;margin: -1px;overflow: hidden;padding: 0;position: absolute;width: 1px;}#sk-container-id-7 div.sk-estimator {font-family: monospace;background-color: #f0f8ff;border: 1px dotted black;border-radius: 0.25em;box-sizing: border-box;margin-bottom: 0.5em;}#sk-container-id-7 div.sk-estimator:hover {background-color: #d4ebff;}#sk-container-id-7 div.sk-parallel-item::after {content: \"\";width: 100%;border-bottom: 1px solid gray;flex-grow: 1;}#sk-container-id-7 div.sk-label:hover label.sk-toggleable__label {background-color: #d4ebff;}#sk-container-id-7 div.sk-serial::before {content: \"\";position: absolute;border-left: 1px solid gray;box-sizing: border-box;top: 0;bottom: 0;left: 50%;z-index: 0;}#sk-container-id-7 div.sk-serial {display: flex;flex-direction: column;align-items: center;background-color: white;padding-right: 0.2em;padding-left: 0.2em;position: relative;}#sk-container-id-7 div.sk-item {position: relative;z-index: 1;}#sk-container-id-7 div.sk-parallel {display: flex;align-items: stretch;justify-content: center;background-color: white;position: relative;}#sk-container-id-7 div.sk-item::before, #sk-container-id-7 div.sk-parallel-item::before {content: \"\";position: absolute;border-left: 1px solid gray;box-sizing: border-box;top: 0;bottom: 0;left: 50%;z-index: -1;}#sk-container-id-7 div.sk-parallel-item {display: flex;flex-direction: column;z-index: 1;position: relative;background-color: white;}#sk-container-id-7 div.sk-parallel-item:first-child::after {align-self: flex-end;width: 50%;}#sk-container-id-7 div.sk-parallel-item:last-child::after {align-self: flex-start;width: 50%;}#sk-container-id-7 div.sk-parallel-item:only-child::after {width: 0;}#sk-container-id-7 div.sk-dashed-wrapped {border: 1px dashed gray;margin: 0 0.4em 0.5em 0.4em;box-sizing: border-box;padding-bottom: 0.4em;background-color: white;}#sk-container-id-7 div.sk-label label {font-family: monospace;font-weight: bold;display: inline-block;line-height: 1.2em;}#sk-container-id-7 div.sk-label-container {text-align: center;}#sk-container-id-7 div.sk-container {/* jupyter's `normalize.less` sets `[hidden] { display: none; }` but bootstrap.min.css set `[hidden] { display: none !important; }` so we also need the `!important` here to be able to override the default hidden behavior on the sphinx rendered scikit-learn.org. See: https://github.com/scikit-learn/scikit-learn/issues/21755 */display: inline-block !important;position: relative;}#sk-container-id-7 div.sk-text-repr-fallback {display: none;}</style><div id=\"sk-container-id-7\" class=\"sk-top-container\"><div class=\"sk-text-repr-fallback\"><pre>RandomForestClassifier(criterion=&#x27;entropy&#x27;, max_depth=11, min_samples_leaf=7,\n",
       "                       min_samples_split=9, n_estimators=8)</pre><b>In a Jupyter environment, please rerun this cell to show the HTML representation or trust the notebook. <br />On GitHub, the HTML representation is unable to render, please try loading this page with nbviewer.org.</b></div><div class=\"sk-container\" hidden><div class=\"sk-item\"><div class=\"sk-estimator sk-toggleable\"><input class=\"sk-toggleable__control sk-hidden--visually\" id=\"sk-estimator-id-11\" type=\"checkbox\" checked><label for=\"sk-estimator-id-11\" class=\"sk-toggleable__label sk-toggleable__label-arrow\">RandomForestClassifier</label><div class=\"sk-toggleable__content\"><pre>RandomForestClassifier(criterion=&#x27;entropy&#x27;, max_depth=11, min_samples_leaf=7,\n",
       "                       min_samples_split=9, n_estimators=8)</pre></div></div></div></div></div>"
      ],
      "text/plain": [
       "RandomForestClassifier(criterion='entropy', max_depth=11, min_samples_leaf=7,\n",
       "                       min_samples_split=9, n_estimators=8)"
      ]
     },
     "execution_count": 52,
     "metadata": {},
     "output_type": "execute_result"
    }
   ],
   "source": [
    "ran.fit(x_train_ns,y_train_ns)"
   ]
  },
  {
   "cell_type": "code",
   "execution_count": 53,
   "id": "eeec7f61",
   "metadata": {},
   "outputs": [
    {
     "name": "stdout",
     "output_type": "stream",
     "text": [
      "\n",
      "==========Train Result==========\n",
      "\n",
      "Accuracy Score : 83.07%\n",
      "\n",
      "==========Test Result==========\n",
      "\n",
      "Accuracy Score : 74.84%\n",
      "classification report \n",
      "               precision    recall  f1-score   support\n",
      "\n",
      "         0.0       0.82      0.84      0.83      1296\n",
      "         1.0       0.52      0.50      0.51       465\n",
      "\n",
      "    accuracy                           0.75      1761\n",
      "   macro avg       0.67      0.67      0.67      1761\n",
      "weighted avg       0.75      0.75      0.75      1761\n",
      "\n"
     ]
    }
   ],
   "source": [
    "matric_score(ran,x_train_ns,x_test,y_train_ns,y_test,train=True)\n",
    "matric_score(ran,x_train_ns,x_test,y_train_ns,y_test,train=False)"
   ]
  },
  {
   "cell_type": "markdown",
   "id": "ac58436d",
   "metadata": {},
   "source": [
    "### Decision Tree Model"
   ]
  },
  {
   "cell_type": "code",
   "execution_count": 22,
   "id": "3da70232",
   "metadata": {},
   "outputs": [],
   "source": [
    "from sklearn.tree import DecisionTreeClassifier"
   ]
  },
  {
   "cell_type": "code",
   "execution_count": 23,
   "id": "52793bdf",
   "metadata": {},
   "outputs": [],
   "source": [
    "dec_tree=DecisionTreeClassifier()"
   ]
  },
  {
   "cell_type": "code",
   "execution_count": 24,
   "id": "c4353a84",
   "metadata": {},
   "outputs": [],
   "source": [
    "def matric_score(calssi,x_train,x_test,y_train,y_test,train=True):\n",
    "    if train:\n",
    "        pred=dec_tree.predict(x_train_ns)\n",
    "        print('\\n==========Train Result==========\\n')\n",
    "        print(f'Accuracy Score : {accuracy_score(y_train_ns,pred)*100:0.2f}%')\n",
    "        \n",
    "    elif train==False:\n",
    "        pred1=dec_tree.predict(x_test)\n",
    "        print('\\n==========Test Result==========\\n')\n",
    "        print(f'Accuracy Score : {accuracy_score(y_test,pred1)*100:0.2f}%')\n",
    "        \n",
    "        print ('classification report \\n',classification_report(y_test,pred1))"
   ]
  },
  {
   "cell_type": "code",
   "execution_count": 58,
   "id": "8f4930fd",
   "metadata": {},
   "outputs": [
    {
     "data": {
      "text/html": [
       "<style>#sk-container-id-8 {color: black;background-color: white;}#sk-container-id-8 pre{padding: 0;}#sk-container-id-8 div.sk-toggleable {background-color: white;}#sk-container-id-8 label.sk-toggleable__label {cursor: pointer;display: block;width: 100%;margin-bottom: 0;padding: 0.3em;box-sizing: border-box;text-align: center;}#sk-container-id-8 label.sk-toggleable__label-arrow:before {content: \"▸\";float: left;margin-right: 0.25em;color: #696969;}#sk-container-id-8 label.sk-toggleable__label-arrow:hover:before {color: black;}#sk-container-id-8 div.sk-estimator:hover label.sk-toggleable__label-arrow:before {color: black;}#sk-container-id-8 div.sk-toggleable__content {max-height: 0;max-width: 0;overflow: hidden;text-align: left;background-color: #f0f8ff;}#sk-container-id-8 div.sk-toggleable__content pre {margin: 0.2em;color: black;border-radius: 0.25em;background-color: #f0f8ff;}#sk-container-id-8 input.sk-toggleable__control:checked~div.sk-toggleable__content {max-height: 200px;max-width: 100%;overflow: auto;}#sk-container-id-8 input.sk-toggleable__control:checked~label.sk-toggleable__label-arrow:before {content: \"▾\";}#sk-container-id-8 div.sk-estimator input.sk-toggleable__control:checked~label.sk-toggleable__label {background-color: #d4ebff;}#sk-container-id-8 div.sk-label input.sk-toggleable__control:checked~label.sk-toggleable__label {background-color: #d4ebff;}#sk-container-id-8 input.sk-hidden--visually {border: 0;clip: rect(1px 1px 1px 1px);clip: rect(1px, 1px, 1px, 1px);height: 1px;margin: -1px;overflow: hidden;padding: 0;position: absolute;width: 1px;}#sk-container-id-8 div.sk-estimator {font-family: monospace;background-color: #f0f8ff;border: 1px dotted black;border-radius: 0.25em;box-sizing: border-box;margin-bottom: 0.5em;}#sk-container-id-8 div.sk-estimator:hover {background-color: #d4ebff;}#sk-container-id-8 div.sk-parallel-item::after {content: \"\";width: 100%;border-bottom: 1px solid gray;flex-grow: 1;}#sk-container-id-8 div.sk-label:hover label.sk-toggleable__label {background-color: #d4ebff;}#sk-container-id-8 div.sk-serial::before {content: \"\";position: absolute;border-left: 1px solid gray;box-sizing: border-box;top: 0;bottom: 0;left: 50%;z-index: 0;}#sk-container-id-8 div.sk-serial {display: flex;flex-direction: column;align-items: center;background-color: white;padding-right: 0.2em;padding-left: 0.2em;position: relative;}#sk-container-id-8 div.sk-item {position: relative;z-index: 1;}#sk-container-id-8 div.sk-parallel {display: flex;align-items: stretch;justify-content: center;background-color: white;position: relative;}#sk-container-id-8 div.sk-item::before, #sk-container-id-8 div.sk-parallel-item::before {content: \"\";position: absolute;border-left: 1px solid gray;box-sizing: border-box;top: 0;bottom: 0;left: 50%;z-index: -1;}#sk-container-id-8 div.sk-parallel-item {display: flex;flex-direction: column;z-index: 1;position: relative;background-color: white;}#sk-container-id-8 div.sk-parallel-item:first-child::after {align-self: flex-end;width: 50%;}#sk-container-id-8 div.sk-parallel-item:last-child::after {align-self: flex-start;width: 50%;}#sk-container-id-8 div.sk-parallel-item:only-child::after {width: 0;}#sk-container-id-8 div.sk-dashed-wrapped {border: 1px dashed gray;margin: 0 0.4em 0.5em 0.4em;box-sizing: border-box;padding-bottom: 0.4em;background-color: white;}#sk-container-id-8 div.sk-label label {font-family: monospace;font-weight: bold;display: inline-block;line-height: 1.2em;}#sk-container-id-8 div.sk-label-container {text-align: center;}#sk-container-id-8 div.sk-container {/* jupyter's `normalize.less` sets `[hidden] { display: none; }` but bootstrap.min.css set `[hidden] { display: none !important; }` so we also need the `!important` here to be able to override the default hidden behavior on the sphinx rendered scikit-learn.org. See: https://github.com/scikit-learn/scikit-learn/issues/21755 */display: inline-block !important;position: relative;}#sk-container-id-8 div.sk-text-repr-fallback {display: none;}</style><div id=\"sk-container-id-8\" class=\"sk-top-container\"><div class=\"sk-text-repr-fallback\"><pre>DecisionTreeClassifier()</pre><b>In a Jupyter environment, please rerun this cell to show the HTML representation or trust the notebook. <br />On GitHub, the HTML representation is unable to render, please try loading this page with nbviewer.org.</b></div><div class=\"sk-container\" hidden><div class=\"sk-item\"><div class=\"sk-estimator sk-toggleable\"><input class=\"sk-toggleable__control sk-hidden--visually\" id=\"sk-estimator-id-12\" type=\"checkbox\" checked><label for=\"sk-estimator-id-12\" class=\"sk-toggleable__label sk-toggleable__label-arrow\">DecisionTreeClassifier</label><div class=\"sk-toggleable__content\"><pre>DecisionTreeClassifier()</pre></div></div></div></div></div>"
      ],
      "text/plain": [
       "DecisionTreeClassifier()"
      ]
     },
     "execution_count": 58,
     "metadata": {},
     "output_type": "execute_result"
    }
   ],
   "source": [
    "dec_tree.fit(x_train_ns,y_train_ns)"
   ]
  },
  {
   "cell_type": "code",
   "execution_count": 59,
   "id": "4a4e2408",
   "metadata": {},
   "outputs": [
    {
     "name": "stdout",
     "output_type": "stream",
     "text": [
      "\n",
      "==========Train Result==========\n",
      "\n",
      "Accuracy Score : 100.00%\n",
      "\n",
      "==========Test Result==========\n",
      "\n",
      "Accuracy Score : 70.47%\n",
      "classification report \n",
      "               precision    recall  f1-score   support\n",
      "\n",
      "         0.0       0.81      0.79      0.80      1296\n",
      "         1.0       0.44      0.47      0.46       465\n",
      "\n",
      "    accuracy                           0.70      1761\n",
      "   macro avg       0.63      0.63      0.63      1761\n",
      "weighted avg       0.71      0.70      0.71      1761\n",
      "\n"
     ]
    }
   ],
   "source": [
    "matric_score(dec_tree,x_train_ns,x_test,y_train_ns,y_test,train=True)\n",
    "matric_score(dec_tree,x_train_ns,x_test,y_train_ns,y_test,train=False)"
   ]
  },
  {
   "cell_type": "code",
   "execution_count": 60,
   "id": "e5156747",
   "metadata": {},
   "outputs": [],
   "source": [
    "# Train result is 100% and test result is 70.47%. model only learn the data 70.47% out of 100 %.\n",
    "# it may overfitting model."
   ]
  },
  {
   "cell_type": "code",
   "execution_count": 63,
   "id": "f8da0e9b",
   "metadata": {},
   "outputs": [
    {
     "data": {
      "text/plain": [
       "72.38374276913831"
      ]
     },
     "execution_count": 63,
     "metadata": {},
     "output_type": "execute_result"
    }
   ],
   "source": [
    "# cheking overfitting the model\n",
    "cross_val_score(dec_tree,x_sclr,y,cv=9).mean()*100\n"
   ]
  },
  {
   "cell_type": "code",
   "execution_count": 64,
   "id": "b2ceaf8c",
   "metadata": {},
   "outputs": [],
   "source": [
    "# Observation\n",
    "# cross val score is 72 % & accuacy score of test data is 71 %. both result almost same so model is not overfitting "
   ]
  },
  {
   "cell_type": "code",
   "execution_count": 20,
   "id": "338b8bb8",
   "metadata": {},
   "outputs": [],
   "source": [
    "from sklearn.model_selection import GridSearchCV"
   ]
  },
  {
   "cell_type": "code",
   "execution_count": 25,
   "id": "aec3e415",
   "metadata": {},
   "outputs": [],
   "source": [
    "#  Increase result using hyperperameter tuning technique\n",
    "\n",
    "pram={'criterion':['gini', 'entropy'],\n",
    "      'max_depth':range(10,20),\n",
    "      'min_samples_split':range(5,10),\n",
    "      'min_samples_leaf':range(5,12)}"
   ]
  },
  {
   "cell_type": "code",
   "execution_count": 28,
   "id": "d520d7dd",
   "metadata": {},
   "outputs": [
    {
     "data": {
      "text/html": [
       "<style>#sk-container-id-1 {color: black;background-color: white;}#sk-container-id-1 pre{padding: 0;}#sk-container-id-1 div.sk-toggleable {background-color: white;}#sk-container-id-1 label.sk-toggleable__label {cursor: pointer;display: block;width: 100%;margin-bottom: 0;padding: 0.3em;box-sizing: border-box;text-align: center;}#sk-container-id-1 label.sk-toggleable__label-arrow:before {content: \"▸\";float: left;margin-right: 0.25em;color: #696969;}#sk-container-id-1 label.sk-toggleable__label-arrow:hover:before {color: black;}#sk-container-id-1 div.sk-estimator:hover label.sk-toggleable__label-arrow:before {color: black;}#sk-container-id-1 div.sk-toggleable__content {max-height: 0;max-width: 0;overflow: hidden;text-align: left;background-color: #f0f8ff;}#sk-container-id-1 div.sk-toggleable__content pre {margin: 0.2em;color: black;border-radius: 0.25em;background-color: #f0f8ff;}#sk-container-id-1 input.sk-toggleable__control:checked~div.sk-toggleable__content {max-height: 200px;max-width: 100%;overflow: auto;}#sk-container-id-1 input.sk-toggleable__control:checked~label.sk-toggleable__label-arrow:before {content: \"▾\";}#sk-container-id-1 div.sk-estimator input.sk-toggleable__control:checked~label.sk-toggleable__label {background-color: #d4ebff;}#sk-container-id-1 div.sk-label input.sk-toggleable__control:checked~label.sk-toggleable__label {background-color: #d4ebff;}#sk-container-id-1 input.sk-hidden--visually {border: 0;clip: rect(1px 1px 1px 1px);clip: rect(1px, 1px, 1px, 1px);height: 1px;margin: -1px;overflow: hidden;padding: 0;position: absolute;width: 1px;}#sk-container-id-1 div.sk-estimator {font-family: monospace;background-color: #f0f8ff;border: 1px dotted black;border-radius: 0.25em;box-sizing: border-box;margin-bottom: 0.5em;}#sk-container-id-1 div.sk-estimator:hover {background-color: #d4ebff;}#sk-container-id-1 div.sk-parallel-item::after {content: \"\";width: 100%;border-bottom: 1px solid gray;flex-grow: 1;}#sk-container-id-1 div.sk-label:hover label.sk-toggleable__label {background-color: #d4ebff;}#sk-container-id-1 div.sk-serial::before {content: \"\";position: absolute;border-left: 1px solid gray;box-sizing: border-box;top: 0;bottom: 0;left: 50%;z-index: 0;}#sk-container-id-1 div.sk-serial {display: flex;flex-direction: column;align-items: center;background-color: white;padding-right: 0.2em;padding-left: 0.2em;position: relative;}#sk-container-id-1 div.sk-item {position: relative;z-index: 1;}#sk-container-id-1 div.sk-parallel {display: flex;align-items: stretch;justify-content: center;background-color: white;position: relative;}#sk-container-id-1 div.sk-item::before, #sk-container-id-1 div.sk-parallel-item::before {content: \"\";position: absolute;border-left: 1px solid gray;box-sizing: border-box;top: 0;bottom: 0;left: 50%;z-index: -1;}#sk-container-id-1 div.sk-parallel-item {display: flex;flex-direction: column;z-index: 1;position: relative;background-color: white;}#sk-container-id-1 div.sk-parallel-item:first-child::after {align-self: flex-end;width: 50%;}#sk-container-id-1 div.sk-parallel-item:last-child::after {align-self: flex-start;width: 50%;}#sk-container-id-1 div.sk-parallel-item:only-child::after {width: 0;}#sk-container-id-1 div.sk-dashed-wrapped {border: 1px dashed gray;margin: 0 0.4em 0.5em 0.4em;box-sizing: border-box;padding-bottom: 0.4em;background-color: white;}#sk-container-id-1 div.sk-label label {font-family: monospace;font-weight: bold;display: inline-block;line-height: 1.2em;}#sk-container-id-1 div.sk-label-container {text-align: center;}#sk-container-id-1 div.sk-container {/* jupyter's `normalize.less` sets `[hidden] { display: none; }` but bootstrap.min.css set `[hidden] { display: none !important; }` so we also need the `!important` here to be able to override the default hidden behavior on the sphinx rendered scikit-learn.org. See: https://github.com/scikit-learn/scikit-learn/issues/21755 */display: inline-block !important;position: relative;}#sk-container-id-1 div.sk-text-repr-fallback {display: none;}</style><div id=\"sk-container-id-1\" class=\"sk-top-container\"><div class=\"sk-text-repr-fallback\"><pre>GridSearchCV(estimator=DecisionTreeClassifier(),\n",
       "             param_grid={&#x27;criterion&#x27;: [&#x27;gini&#x27;, &#x27;entropy&#x27;],\n",
       "                         &#x27;max_depth&#x27;: range(10, 20),\n",
       "                         &#x27;min_samples_leaf&#x27;: range(5, 12),\n",
       "                         &#x27;min_samples_split&#x27;: range(5, 10)})</pre><b>In a Jupyter environment, please rerun this cell to show the HTML representation or trust the notebook. <br />On GitHub, the HTML representation is unable to render, please try loading this page with nbviewer.org.</b></div><div class=\"sk-container\" hidden><div class=\"sk-item sk-dashed-wrapped\"><div class=\"sk-label-container\"><div class=\"sk-label sk-toggleable\"><input class=\"sk-toggleable__control sk-hidden--visually\" id=\"sk-estimator-id-1\" type=\"checkbox\" ><label for=\"sk-estimator-id-1\" class=\"sk-toggleable__label sk-toggleable__label-arrow\">GridSearchCV</label><div class=\"sk-toggleable__content\"><pre>GridSearchCV(estimator=DecisionTreeClassifier(),\n",
       "             param_grid={&#x27;criterion&#x27;: [&#x27;gini&#x27;, &#x27;entropy&#x27;],\n",
       "                         &#x27;max_depth&#x27;: range(10, 20),\n",
       "                         &#x27;min_samples_leaf&#x27;: range(5, 12),\n",
       "                         &#x27;min_samples_split&#x27;: range(5, 10)})</pre></div></div></div><div class=\"sk-parallel\"><div class=\"sk-parallel-item\"><div class=\"sk-item\"><div class=\"sk-label-container\"><div class=\"sk-label sk-toggleable\"><input class=\"sk-toggleable__control sk-hidden--visually\" id=\"sk-estimator-id-2\" type=\"checkbox\" ><label for=\"sk-estimator-id-2\" class=\"sk-toggleable__label sk-toggleable__label-arrow\">estimator: DecisionTreeClassifier</label><div class=\"sk-toggleable__content\"><pre>DecisionTreeClassifier()</pre></div></div></div><div class=\"sk-serial\"><div class=\"sk-item\"><div class=\"sk-estimator sk-toggleable\"><input class=\"sk-toggleable__control sk-hidden--visually\" id=\"sk-estimator-id-3\" type=\"checkbox\" ><label for=\"sk-estimator-id-3\" class=\"sk-toggleable__label sk-toggleable__label-arrow\">DecisionTreeClassifier</label><div class=\"sk-toggleable__content\"><pre>DecisionTreeClassifier()</pre></div></div></div></div></div></div></div></div></div></div>"
      ],
      "text/plain": [
       "GridSearchCV(estimator=DecisionTreeClassifier(),\n",
       "             param_grid={'criterion': ['gini', 'entropy'],\n",
       "                         'max_depth': range(10, 20),\n",
       "                         'min_samples_leaf': range(5, 12),\n",
       "                         'min_samples_split': range(5, 10)})"
      ]
     },
     "execution_count": 28,
     "metadata": {},
     "output_type": "execute_result"
    }
   ],
   "source": [
    "grid=GridSearchCV(dec_tree,param_grid=pram)\n",
    "grid.fit(x_train_ns,y_train_ns)"
   ]
  },
  {
   "cell_type": "code",
   "execution_count": 29,
   "id": "e161830a",
   "metadata": {},
   "outputs": [
    {
     "data": {
      "text/plain": [
       "{'criterion': 'gini',\n",
       " 'max_depth': 10,\n",
       " 'min_samples_leaf': 6,\n",
       " 'min_samples_split': 5}"
      ]
     },
     "execution_count": 29,
     "metadata": {},
     "output_type": "execute_result"
    }
   ],
   "source": [
    "grid.best_params_ "
   ]
  },
  {
   "cell_type": "code",
   "execution_count": 31,
   "id": "6c7dd1b1",
   "metadata": {},
   "outputs": [],
   "source": [
    "dec_tree=DecisionTreeClassifier(criterion = 'gini',\n",
    " max_depth = 10,\n",
    " min_samples_leaf = 6,\n",
    " min_samples_split = 5)"
   ]
  },
  {
   "cell_type": "code",
   "execution_count": 32,
   "id": "ccbfab65",
   "metadata": {},
   "outputs": [
    {
     "data": {
      "text/html": [
       "<style>#sk-container-id-2 {color: black;background-color: white;}#sk-container-id-2 pre{padding: 0;}#sk-container-id-2 div.sk-toggleable {background-color: white;}#sk-container-id-2 label.sk-toggleable__label {cursor: pointer;display: block;width: 100%;margin-bottom: 0;padding: 0.3em;box-sizing: border-box;text-align: center;}#sk-container-id-2 label.sk-toggleable__label-arrow:before {content: \"▸\";float: left;margin-right: 0.25em;color: #696969;}#sk-container-id-2 label.sk-toggleable__label-arrow:hover:before {color: black;}#sk-container-id-2 div.sk-estimator:hover label.sk-toggleable__label-arrow:before {color: black;}#sk-container-id-2 div.sk-toggleable__content {max-height: 0;max-width: 0;overflow: hidden;text-align: left;background-color: #f0f8ff;}#sk-container-id-2 div.sk-toggleable__content pre {margin: 0.2em;color: black;border-radius: 0.25em;background-color: #f0f8ff;}#sk-container-id-2 input.sk-toggleable__control:checked~div.sk-toggleable__content {max-height: 200px;max-width: 100%;overflow: auto;}#sk-container-id-2 input.sk-toggleable__control:checked~label.sk-toggleable__label-arrow:before {content: \"▾\";}#sk-container-id-2 div.sk-estimator input.sk-toggleable__control:checked~label.sk-toggleable__label {background-color: #d4ebff;}#sk-container-id-2 div.sk-label input.sk-toggleable__control:checked~label.sk-toggleable__label {background-color: #d4ebff;}#sk-container-id-2 input.sk-hidden--visually {border: 0;clip: rect(1px 1px 1px 1px);clip: rect(1px, 1px, 1px, 1px);height: 1px;margin: -1px;overflow: hidden;padding: 0;position: absolute;width: 1px;}#sk-container-id-2 div.sk-estimator {font-family: monospace;background-color: #f0f8ff;border: 1px dotted black;border-radius: 0.25em;box-sizing: border-box;margin-bottom: 0.5em;}#sk-container-id-2 div.sk-estimator:hover {background-color: #d4ebff;}#sk-container-id-2 div.sk-parallel-item::after {content: \"\";width: 100%;border-bottom: 1px solid gray;flex-grow: 1;}#sk-container-id-2 div.sk-label:hover label.sk-toggleable__label {background-color: #d4ebff;}#sk-container-id-2 div.sk-serial::before {content: \"\";position: absolute;border-left: 1px solid gray;box-sizing: border-box;top: 0;bottom: 0;left: 50%;z-index: 0;}#sk-container-id-2 div.sk-serial {display: flex;flex-direction: column;align-items: center;background-color: white;padding-right: 0.2em;padding-left: 0.2em;position: relative;}#sk-container-id-2 div.sk-item {position: relative;z-index: 1;}#sk-container-id-2 div.sk-parallel {display: flex;align-items: stretch;justify-content: center;background-color: white;position: relative;}#sk-container-id-2 div.sk-item::before, #sk-container-id-2 div.sk-parallel-item::before {content: \"\";position: absolute;border-left: 1px solid gray;box-sizing: border-box;top: 0;bottom: 0;left: 50%;z-index: -1;}#sk-container-id-2 div.sk-parallel-item {display: flex;flex-direction: column;z-index: 1;position: relative;background-color: white;}#sk-container-id-2 div.sk-parallel-item:first-child::after {align-self: flex-end;width: 50%;}#sk-container-id-2 div.sk-parallel-item:last-child::after {align-self: flex-start;width: 50%;}#sk-container-id-2 div.sk-parallel-item:only-child::after {width: 0;}#sk-container-id-2 div.sk-dashed-wrapped {border: 1px dashed gray;margin: 0 0.4em 0.5em 0.4em;box-sizing: border-box;padding-bottom: 0.4em;background-color: white;}#sk-container-id-2 div.sk-label label {font-family: monospace;font-weight: bold;display: inline-block;line-height: 1.2em;}#sk-container-id-2 div.sk-label-container {text-align: center;}#sk-container-id-2 div.sk-container {/* jupyter's `normalize.less` sets `[hidden] { display: none; }` but bootstrap.min.css set `[hidden] { display: none !important; }` so we also need the `!important` here to be able to override the default hidden behavior on the sphinx rendered scikit-learn.org. See: https://github.com/scikit-learn/scikit-learn/issues/21755 */display: inline-block !important;position: relative;}#sk-container-id-2 div.sk-text-repr-fallback {display: none;}</style><div id=\"sk-container-id-2\" class=\"sk-top-container\"><div class=\"sk-text-repr-fallback\"><pre>DecisionTreeClassifier(max_depth=10, min_samples_leaf=6, min_samples_split=5)</pre><b>In a Jupyter environment, please rerun this cell to show the HTML representation or trust the notebook. <br />On GitHub, the HTML representation is unable to render, please try loading this page with nbviewer.org.</b></div><div class=\"sk-container\" hidden><div class=\"sk-item\"><div class=\"sk-estimator sk-toggleable\"><input class=\"sk-toggleable__control sk-hidden--visually\" id=\"sk-estimator-id-4\" type=\"checkbox\" checked><label for=\"sk-estimator-id-4\" class=\"sk-toggleable__label sk-toggleable__label-arrow\">DecisionTreeClassifier</label><div class=\"sk-toggleable__content\"><pre>DecisionTreeClassifier(max_depth=10, min_samples_leaf=6, min_samples_split=5)</pre></div></div></div></div></div>"
      ],
      "text/plain": [
       "DecisionTreeClassifier(max_depth=10, min_samples_leaf=6, min_samples_split=5)"
      ]
     },
     "execution_count": 32,
     "metadata": {},
     "output_type": "execute_result"
    }
   ],
   "source": [
    "dec_tree.fit(x_train_ns,y_train_ns)"
   ]
  },
  {
   "cell_type": "code",
   "execution_count": 33,
   "id": "97647e3e",
   "metadata": {},
   "outputs": [
    {
     "name": "stdout",
     "output_type": "stream",
     "text": [
      "\n",
      "==========Train Result==========\n",
      "\n",
      "Accuracy Score : 85.21%\n",
      "\n",
      "==========Test Result==========\n",
      "\n",
      "Accuracy Score : 77.68%\n",
      "classification report \n",
      "               precision    recall  f1-score   support\n",
      "\n",
      "         0.0       0.85      0.84      0.85      1276\n",
      "         1.0       0.59      0.61      0.60       480\n",
      "\n",
      "    accuracy                           0.78      1756\n",
      "   macro avg       0.72      0.73      0.72      1756\n",
      "weighted avg       0.78      0.78      0.78      1756\n",
      "\n"
     ]
    }
   ],
   "source": [
    "matric_score(dec_tree,x_train_ns,x_test,y_train_ns,y_test,train=True)\n",
    "matric_score(dec_tree,x_train_ns,x_test,y_train_ns,y_test,train=False)"
   ]
  },
  {
   "cell_type": "code",
   "execution_count": 34,
   "id": "26fa0627",
   "metadata": {},
   "outputs": [],
   "source": [
    "# Now result is increase to 78%"
   ]
  },
  {
   "cell_type": "markdown",
   "id": "c8941db5",
   "metadata": {},
   "source": [
    "### Adoboost Model"
   ]
  },
  {
   "cell_type": "code",
   "execution_count": 35,
   "id": "36dce637",
   "metadata": {},
   "outputs": [],
   "source": [
    "from sklearn.ensemble import AdaBoostClassifier\n",
    "ada=AdaBoostClassifier()"
   ]
  },
  {
   "cell_type": "code",
   "execution_count": 36,
   "id": "bbbcc624",
   "metadata": {},
   "outputs": [],
   "source": [
    "def matric_score(calssi,x_train,x_test,y_train,y_test,train=True):\n",
    "    if train:\n",
    "        pred=ada.predict(x_train_ns)\n",
    "        print('\\n==========Train Result==========\\n')\n",
    "        print(f'Accuracy Score : {accuracy_score(y_train_ns,pred)*100:0.2f}%')\n",
    "        \n",
    "    elif train==False:\n",
    "        pred1=ada.predict(x_test)\n",
    "        print('\\n==========Test Result==========\\n')\n",
    "        print(f'Accuracy Score : {accuracy_score(y_test,pred1)*100:0.2f}%')\n",
    "        \n",
    "        print ('classification report \\n',classification_report(y_test,pred1))"
   ]
  },
  {
   "cell_type": "code",
   "execution_count": 37,
   "id": "f69ffb6c",
   "metadata": {},
   "outputs": [
    {
     "data": {
      "text/html": [
       "<style>#sk-container-id-3 {color: black;background-color: white;}#sk-container-id-3 pre{padding: 0;}#sk-container-id-3 div.sk-toggleable {background-color: white;}#sk-container-id-3 label.sk-toggleable__label {cursor: pointer;display: block;width: 100%;margin-bottom: 0;padding: 0.3em;box-sizing: border-box;text-align: center;}#sk-container-id-3 label.sk-toggleable__label-arrow:before {content: \"▸\";float: left;margin-right: 0.25em;color: #696969;}#sk-container-id-3 label.sk-toggleable__label-arrow:hover:before {color: black;}#sk-container-id-3 div.sk-estimator:hover label.sk-toggleable__label-arrow:before {color: black;}#sk-container-id-3 div.sk-toggleable__content {max-height: 0;max-width: 0;overflow: hidden;text-align: left;background-color: #f0f8ff;}#sk-container-id-3 div.sk-toggleable__content pre {margin: 0.2em;color: black;border-radius: 0.25em;background-color: #f0f8ff;}#sk-container-id-3 input.sk-toggleable__control:checked~div.sk-toggleable__content {max-height: 200px;max-width: 100%;overflow: auto;}#sk-container-id-3 input.sk-toggleable__control:checked~label.sk-toggleable__label-arrow:before {content: \"▾\";}#sk-container-id-3 div.sk-estimator input.sk-toggleable__control:checked~label.sk-toggleable__label {background-color: #d4ebff;}#sk-container-id-3 div.sk-label input.sk-toggleable__control:checked~label.sk-toggleable__label {background-color: #d4ebff;}#sk-container-id-3 input.sk-hidden--visually {border: 0;clip: rect(1px 1px 1px 1px);clip: rect(1px, 1px, 1px, 1px);height: 1px;margin: -1px;overflow: hidden;padding: 0;position: absolute;width: 1px;}#sk-container-id-3 div.sk-estimator {font-family: monospace;background-color: #f0f8ff;border: 1px dotted black;border-radius: 0.25em;box-sizing: border-box;margin-bottom: 0.5em;}#sk-container-id-3 div.sk-estimator:hover {background-color: #d4ebff;}#sk-container-id-3 div.sk-parallel-item::after {content: \"\";width: 100%;border-bottom: 1px solid gray;flex-grow: 1;}#sk-container-id-3 div.sk-label:hover label.sk-toggleable__label {background-color: #d4ebff;}#sk-container-id-3 div.sk-serial::before {content: \"\";position: absolute;border-left: 1px solid gray;box-sizing: border-box;top: 0;bottom: 0;left: 50%;z-index: 0;}#sk-container-id-3 div.sk-serial {display: flex;flex-direction: column;align-items: center;background-color: white;padding-right: 0.2em;padding-left: 0.2em;position: relative;}#sk-container-id-3 div.sk-item {position: relative;z-index: 1;}#sk-container-id-3 div.sk-parallel {display: flex;align-items: stretch;justify-content: center;background-color: white;position: relative;}#sk-container-id-3 div.sk-item::before, #sk-container-id-3 div.sk-parallel-item::before {content: \"\";position: absolute;border-left: 1px solid gray;box-sizing: border-box;top: 0;bottom: 0;left: 50%;z-index: -1;}#sk-container-id-3 div.sk-parallel-item {display: flex;flex-direction: column;z-index: 1;position: relative;background-color: white;}#sk-container-id-3 div.sk-parallel-item:first-child::after {align-self: flex-end;width: 50%;}#sk-container-id-3 div.sk-parallel-item:last-child::after {align-self: flex-start;width: 50%;}#sk-container-id-3 div.sk-parallel-item:only-child::after {width: 0;}#sk-container-id-3 div.sk-dashed-wrapped {border: 1px dashed gray;margin: 0 0.4em 0.5em 0.4em;box-sizing: border-box;padding-bottom: 0.4em;background-color: white;}#sk-container-id-3 div.sk-label label {font-family: monospace;font-weight: bold;display: inline-block;line-height: 1.2em;}#sk-container-id-3 div.sk-label-container {text-align: center;}#sk-container-id-3 div.sk-container {/* jupyter's `normalize.less` sets `[hidden] { display: none; }` but bootstrap.min.css set `[hidden] { display: none !important; }` so we also need the `!important` here to be able to override the default hidden behavior on the sphinx rendered scikit-learn.org. See: https://github.com/scikit-learn/scikit-learn/issues/21755 */display: inline-block !important;position: relative;}#sk-container-id-3 div.sk-text-repr-fallback {display: none;}</style><div id=\"sk-container-id-3\" class=\"sk-top-container\"><div class=\"sk-text-repr-fallback\"><pre>AdaBoostClassifier()</pre><b>In a Jupyter environment, please rerun this cell to show the HTML representation or trust the notebook. <br />On GitHub, the HTML representation is unable to render, please try loading this page with nbviewer.org.</b></div><div class=\"sk-container\" hidden><div class=\"sk-item\"><div class=\"sk-estimator sk-toggleable\"><input class=\"sk-toggleable__control sk-hidden--visually\" id=\"sk-estimator-id-5\" type=\"checkbox\" checked><label for=\"sk-estimator-id-5\" class=\"sk-toggleable__label sk-toggleable__label-arrow\">AdaBoostClassifier</label><div class=\"sk-toggleable__content\"><pre>AdaBoostClassifier()</pre></div></div></div></div></div>"
      ],
      "text/plain": [
       "AdaBoostClassifier()"
      ]
     },
     "execution_count": 37,
     "metadata": {},
     "output_type": "execute_result"
    }
   ],
   "source": [
    "ada.fit(x_train_ns,y_train_ns)"
   ]
  },
  {
   "cell_type": "code",
   "execution_count": 39,
   "id": "b9b7f3dd",
   "metadata": {},
   "outputs": [
    {
     "name": "stdout",
     "output_type": "stream",
     "text": [
      "\n",
      "==========Train Result==========\n",
      "\n",
      "Accuracy Score : 80.91%\n",
      "\n",
      "==========Test Result==========\n",
      "\n",
      "Accuracy Score : 79.04%\n",
      "classification report \n",
      "               precision    recall  f1-score   support\n",
      "\n",
      "         0.0       0.88      0.83      0.85      1276\n",
      "         1.0       0.60      0.70      0.64       480\n",
      "\n",
      "    accuracy                           0.79      1756\n",
      "   macro avg       0.74      0.76      0.75      1756\n",
      "weighted avg       0.80      0.79      0.79      1756\n",
      "\n"
     ]
    }
   ],
   "source": [
    "matric_score(ada,x_train_ns,x_test,y_train_ns,y_test,train=True)\n",
    "matric_score(ada,x_train_ns,x_test,y_train_ns,y_test,train=False)"
   ]
  },
  {
   "cell_type": "code",
   "execution_count": 40,
   "id": "35c443c1",
   "metadata": {},
   "outputs": [],
   "source": [
    "# Train & test Result is good.Almost same"
   ]
  },
  {
   "cell_type": "code",
   "execution_count": 43,
   "id": "cbfd83f9",
   "metadata": {},
   "outputs": [
    {
     "data": {
      "text/plain": [
       "80.38729658447967"
      ]
     },
     "execution_count": 43,
     "metadata": {},
     "output_type": "execute_result"
    }
   ],
   "source": [
    "# cheking cross val score\n",
    "cross_val_score(ada,x_sclr,y,cv=9).mean()*100"
   ]
  },
  {
   "cell_type": "code",
   "execution_count": 44,
   "id": "8e543b68",
   "metadata": {},
   "outputs": [],
   "source": [
    "# Model is not over fitting.& result is good of train & test result"
   ]
  },
  {
   "cell_type": "code",
   "execution_count": 49,
   "id": "4243b429",
   "metadata": {},
   "outputs": [],
   "source": [
    "# using hyperparameter tuning technique to increase the accuracy score\n",
    "param={'n_estimators' : range(5,20),\n",
    "       'learning_rate' : [0.01,0.10,1.0,0.05]\n",
    "       }"
   ]
  },
  {
   "cell_type": "code",
   "execution_count": 50,
   "id": "27c0daef",
   "metadata": {},
   "outputs": [
    {
     "data": {
      "text/html": [
       "<style>#sk-container-id-4 {color: black;background-color: white;}#sk-container-id-4 pre{padding: 0;}#sk-container-id-4 div.sk-toggleable {background-color: white;}#sk-container-id-4 label.sk-toggleable__label {cursor: pointer;display: block;width: 100%;margin-bottom: 0;padding: 0.3em;box-sizing: border-box;text-align: center;}#sk-container-id-4 label.sk-toggleable__label-arrow:before {content: \"▸\";float: left;margin-right: 0.25em;color: #696969;}#sk-container-id-4 label.sk-toggleable__label-arrow:hover:before {color: black;}#sk-container-id-4 div.sk-estimator:hover label.sk-toggleable__label-arrow:before {color: black;}#sk-container-id-4 div.sk-toggleable__content {max-height: 0;max-width: 0;overflow: hidden;text-align: left;background-color: #f0f8ff;}#sk-container-id-4 div.sk-toggleable__content pre {margin: 0.2em;color: black;border-radius: 0.25em;background-color: #f0f8ff;}#sk-container-id-4 input.sk-toggleable__control:checked~div.sk-toggleable__content {max-height: 200px;max-width: 100%;overflow: auto;}#sk-container-id-4 input.sk-toggleable__control:checked~label.sk-toggleable__label-arrow:before {content: \"▾\";}#sk-container-id-4 div.sk-estimator input.sk-toggleable__control:checked~label.sk-toggleable__label {background-color: #d4ebff;}#sk-container-id-4 div.sk-label input.sk-toggleable__control:checked~label.sk-toggleable__label {background-color: #d4ebff;}#sk-container-id-4 input.sk-hidden--visually {border: 0;clip: rect(1px 1px 1px 1px);clip: rect(1px, 1px, 1px, 1px);height: 1px;margin: -1px;overflow: hidden;padding: 0;position: absolute;width: 1px;}#sk-container-id-4 div.sk-estimator {font-family: monospace;background-color: #f0f8ff;border: 1px dotted black;border-radius: 0.25em;box-sizing: border-box;margin-bottom: 0.5em;}#sk-container-id-4 div.sk-estimator:hover {background-color: #d4ebff;}#sk-container-id-4 div.sk-parallel-item::after {content: \"\";width: 100%;border-bottom: 1px solid gray;flex-grow: 1;}#sk-container-id-4 div.sk-label:hover label.sk-toggleable__label {background-color: #d4ebff;}#sk-container-id-4 div.sk-serial::before {content: \"\";position: absolute;border-left: 1px solid gray;box-sizing: border-box;top: 0;bottom: 0;left: 50%;z-index: 0;}#sk-container-id-4 div.sk-serial {display: flex;flex-direction: column;align-items: center;background-color: white;padding-right: 0.2em;padding-left: 0.2em;position: relative;}#sk-container-id-4 div.sk-item {position: relative;z-index: 1;}#sk-container-id-4 div.sk-parallel {display: flex;align-items: stretch;justify-content: center;background-color: white;position: relative;}#sk-container-id-4 div.sk-item::before, #sk-container-id-4 div.sk-parallel-item::before {content: \"\";position: absolute;border-left: 1px solid gray;box-sizing: border-box;top: 0;bottom: 0;left: 50%;z-index: -1;}#sk-container-id-4 div.sk-parallel-item {display: flex;flex-direction: column;z-index: 1;position: relative;background-color: white;}#sk-container-id-4 div.sk-parallel-item:first-child::after {align-self: flex-end;width: 50%;}#sk-container-id-4 div.sk-parallel-item:last-child::after {align-self: flex-start;width: 50%;}#sk-container-id-4 div.sk-parallel-item:only-child::after {width: 0;}#sk-container-id-4 div.sk-dashed-wrapped {border: 1px dashed gray;margin: 0 0.4em 0.5em 0.4em;box-sizing: border-box;padding-bottom: 0.4em;background-color: white;}#sk-container-id-4 div.sk-label label {font-family: monospace;font-weight: bold;display: inline-block;line-height: 1.2em;}#sk-container-id-4 div.sk-label-container {text-align: center;}#sk-container-id-4 div.sk-container {/* jupyter's `normalize.less` sets `[hidden] { display: none; }` but bootstrap.min.css set `[hidden] { display: none !important; }` so we also need the `!important` here to be able to override the default hidden behavior on the sphinx rendered scikit-learn.org. See: https://github.com/scikit-learn/scikit-learn/issues/21755 */display: inline-block !important;position: relative;}#sk-container-id-4 div.sk-text-repr-fallback {display: none;}</style><div id=\"sk-container-id-4\" class=\"sk-top-container\"><div class=\"sk-text-repr-fallback\"><pre>GridSearchCV(estimator=AdaBoostClassifier(),\n",
       "             param_grid={&#x27;learning_rate&#x27;: [0.01, 0.1, 1.0, 0.05],\n",
       "                         &#x27;n_estimators&#x27;: range(5, 20)})</pre><b>In a Jupyter environment, please rerun this cell to show the HTML representation or trust the notebook. <br />On GitHub, the HTML representation is unable to render, please try loading this page with nbviewer.org.</b></div><div class=\"sk-container\" hidden><div class=\"sk-item sk-dashed-wrapped\"><div class=\"sk-label-container\"><div class=\"sk-label sk-toggleable\"><input class=\"sk-toggleable__control sk-hidden--visually\" id=\"sk-estimator-id-6\" type=\"checkbox\" ><label for=\"sk-estimator-id-6\" class=\"sk-toggleable__label sk-toggleable__label-arrow\">GridSearchCV</label><div class=\"sk-toggleable__content\"><pre>GridSearchCV(estimator=AdaBoostClassifier(),\n",
       "             param_grid={&#x27;learning_rate&#x27;: [0.01, 0.1, 1.0, 0.05],\n",
       "                         &#x27;n_estimators&#x27;: range(5, 20)})</pre></div></div></div><div class=\"sk-parallel\"><div class=\"sk-parallel-item\"><div class=\"sk-item\"><div class=\"sk-label-container\"><div class=\"sk-label sk-toggleable\"><input class=\"sk-toggleable__control sk-hidden--visually\" id=\"sk-estimator-id-7\" type=\"checkbox\" ><label for=\"sk-estimator-id-7\" class=\"sk-toggleable__label sk-toggleable__label-arrow\">estimator: AdaBoostClassifier</label><div class=\"sk-toggleable__content\"><pre>AdaBoostClassifier()</pre></div></div></div><div class=\"sk-serial\"><div class=\"sk-item\"><div class=\"sk-estimator sk-toggleable\"><input class=\"sk-toggleable__control sk-hidden--visually\" id=\"sk-estimator-id-8\" type=\"checkbox\" ><label for=\"sk-estimator-id-8\" class=\"sk-toggleable__label sk-toggleable__label-arrow\">AdaBoostClassifier</label><div class=\"sk-toggleable__content\"><pre>AdaBoostClassifier()</pre></div></div></div></div></div></div></div></div></div></div>"
      ],
      "text/plain": [
       "GridSearchCV(estimator=AdaBoostClassifier(),\n",
       "             param_grid={'learning_rate': [0.01, 0.1, 1.0, 0.05],\n",
       "                         'n_estimators': range(5, 20)})"
      ]
     },
     "execution_count": 50,
     "metadata": {},
     "output_type": "execute_result"
    }
   ],
   "source": [
    "grid=GridSearchCV(ada,param_grid=param)\n",
    "grid.fit(x_train_ns,y_train_ns)"
   ]
  },
  {
   "cell_type": "code",
   "execution_count": 51,
   "id": "6f891c4b",
   "metadata": {},
   "outputs": [
    {
     "data": {
      "text/plain": [
       "{'learning_rate': 1.0, 'n_estimators': 18}"
      ]
     },
     "execution_count": 51,
     "metadata": {},
     "output_type": "execute_result"
    }
   ],
   "source": [
    "grid.best_params_"
   ]
  },
  {
   "cell_type": "code",
   "execution_count": 52,
   "id": "f5a8f360",
   "metadata": {},
   "outputs": [],
   "source": [
    "ada=AdaBoostClassifier(learning_rate = 1.0, n_estimators = 18)"
   ]
  },
  {
   "cell_type": "code",
   "execution_count": 53,
   "id": "a773d188",
   "metadata": {},
   "outputs": [
    {
     "data": {
      "text/html": [
       "<style>#sk-container-id-5 {color: black;background-color: white;}#sk-container-id-5 pre{padding: 0;}#sk-container-id-5 div.sk-toggleable {background-color: white;}#sk-container-id-5 label.sk-toggleable__label {cursor: pointer;display: block;width: 100%;margin-bottom: 0;padding: 0.3em;box-sizing: border-box;text-align: center;}#sk-container-id-5 label.sk-toggleable__label-arrow:before {content: \"▸\";float: left;margin-right: 0.25em;color: #696969;}#sk-container-id-5 label.sk-toggleable__label-arrow:hover:before {color: black;}#sk-container-id-5 div.sk-estimator:hover label.sk-toggleable__label-arrow:before {color: black;}#sk-container-id-5 div.sk-toggleable__content {max-height: 0;max-width: 0;overflow: hidden;text-align: left;background-color: #f0f8ff;}#sk-container-id-5 div.sk-toggleable__content pre {margin: 0.2em;color: black;border-radius: 0.25em;background-color: #f0f8ff;}#sk-container-id-5 input.sk-toggleable__control:checked~div.sk-toggleable__content {max-height: 200px;max-width: 100%;overflow: auto;}#sk-container-id-5 input.sk-toggleable__control:checked~label.sk-toggleable__label-arrow:before {content: \"▾\";}#sk-container-id-5 div.sk-estimator input.sk-toggleable__control:checked~label.sk-toggleable__label {background-color: #d4ebff;}#sk-container-id-5 div.sk-label input.sk-toggleable__control:checked~label.sk-toggleable__label {background-color: #d4ebff;}#sk-container-id-5 input.sk-hidden--visually {border: 0;clip: rect(1px 1px 1px 1px);clip: rect(1px, 1px, 1px, 1px);height: 1px;margin: -1px;overflow: hidden;padding: 0;position: absolute;width: 1px;}#sk-container-id-5 div.sk-estimator {font-family: monospace;background-color: #f0f8ff;border: 1px dotted black;border-radius: 0.25em;box-sizing: border-box;margin-bottom: 0.5em;}#sk-container-id-5 div.sk-estimator:hover {background-color: #d4ebff;}#sk-container-id-5 div.sk-parallel-item::after {content: \"\";width: 100%;border-bottom: 1px solid gray;flex-grow: 1;}#sk-container-id-5 div.sk-label:hover label.sk-toggleable__label {background-color: #d4ebff;}#sk-container-id-5 div.sk-serial::before {content: \"\";position: absolute;border-left: 1px solid gray;box-sizing: border-box;top: 0;bottom: 0;left: 50%;z-index: 0;}#sk-container-id-5 div.sk-serial {display: flex;flex-direction: column;align-items: center;background-color: white;padding-right: 0.2em;padding-left: 0.2em;position: relative;}#sk-container-id-5 div.sk-item {position: relative;z-index: 1;}#sk-container-id-5 div.sk-parallel {display: flex;align-items: stretch;justify-content: center;background-color: white;position: relative;}#sk-container-id-5 div.sk-item::before, #sk-container-id-5 div.sk-parallel-item::before {content: \"\";position: absolute;border-left: 1px solid gray;box-sizing: border-box;top: 0;bottom: 0;left: 50%;z-index: -1;}#sk-container-id-5 div.sk-parallel-item {display: flex;flex-direction: column;z-index: 1;position: relative;background-color: white;}#sk-container-id-5 div.sk-parallel-item:first-child::after {align-self: flex-end;width: 50%;}#sk-container-id-5 div.sk-parallel-item:last-child::after {align-self: flex-start;width: 50%;}#sk-container-id-5 div.sk-parallel-item:only-child::after {width: 0;}#sk-container-id-5 div.sk-dashed-wrapped {border: 1px dashed gray;margin: 0 0.4em 0.5em 0.4em;box-sizing: border-box;padding-bottom: 0.4em;background-color: white;}#sk-container-id-5 div.sk-label label {font-family: monospace;font-weight: bold;display: inline-block;line-height: 1.2em;}#sk-container-id-5 div.sk-label-container {text-align: center;}#sk-container-id-5 div.sk-container {/* jupyter's `normalize.less` sets `[hidden] { display: none; }` but bootstrap.min.css set `[hidden] { display: none !important; }` so we also need the `!important` here to be able to override the default hidden behavior on the sphinx rendered scikit-learn.org. See: https://github.com/scikit-learn/scikit-learn/issues/21755 */display: inline-block !important;position: relative;}#sk-container-id-5 div.sk-text-repr-fallback {display: none;}</style><div id=\"sk-container-id-5\" class=\"sk-top-container\"><div class=\"sk-text-repr-fallback\"><pre>AdaBoostClassifier(n_estimators=18)</pre><b>In a Jupyter environment, please rerun this cell to show the HTML representation or trust the notebook. <br />On GitHub, the HTML representation is unable to render, please try loading this page with nbviewer.org.</b></div><div class=\"sk-container\" hidden><div class=\"sk-item\"><div class=\"sk-estimator sk-toggleable\"><input class=\"sk-toggleable__control sk-hidden--visually\" id=\"sk-estimator-id-9\" type=\"checkbox\" checked><label for=\"sk-estimator-id-9\" class=\"sk-toggleable__label sk-toggleable__label-arrow\">AdaBoostClassifier</label><div class=\"sk-toggleable__content\"><pre>AdaBoostClassifier(n_estimators=18)</pre></div></div></div></div></div>"
      ],
      "text/plain": [
       "AdaBoostClassifier(n_estimators=18)"
      ]
     },
     "execution_count": 53,
     "metadata": {},
     "output_type": "execute_result"
    }
   ],
   "source": [
    "ada.fit(x_train_ns,y_train_ns)"
   ]
  },
  {
   "cell_type": "code",
   "execution_count": 54,
   "id": "062a27ca",
   "metadata": {},
   "outputs": [],
   "source": [
    "def matric_score(calssi,x_train,x_test,y_train,y_test,train=True):\n",
    "    if train:\n",
    "        pred=ada.predict(x_train_ns)\n",
    "        print('\\n==========Train Result==========\\n')\n",
    "        print(f'Accuracy Score : {accuracy_score(y_train_ns,pred)*100:0.2f}%')\n",
    "        \n",
    "    elif train==False:\n",
    "        pred1=ada.predict(x_test)\n",
    "        print('\\n==========Test Result==========\\n')\n",
    "        print(f'Accuracy Score : {accuracy_score(y_test,pred1)*100:0.2f}%')\n",
    "        \n",
    "        print ('classification report \\n',classification_report(y_test,pred1))"
   ]
  },
  {
   "cell_type": "code",
   "execution_count": 55,
   "id": "4ae3bf22",
   "metadata": {},
   "outputs": [
    {
     "name": "stdout",
     "output_type": "stream",
     "text": [
      "\n",
      "==========Train Result==========\n",
      "\n",
      "Accuracy Score : 79.26%\n",
      "\n",
      "==========Test Result==========\n",
      "\n",
      "Accuracy Score : 77.22%\n",
      "classification report \n",
      "               precision    recall  f1-score   support\n",
      "\n",
      "         0.0       0.88      0.80      0.84      1276\n",
      "         1.0       0.57      0.71      0.63       480\n",
      "\n",
      "    accuracy                           0.77      1756\n",
      "   macro avg       0.72      0.75      0.73      1756\n",
      "weighted avg       0.79      0.77      0.78      1756\n",
      "\n"
     ]
    }
   ],
   "source": [
    "matric_score(ada,x_train_ns,x_test,y_train_ns,y_test,train=True)\n",
    "matric_score(ada,x_train_ns,x_test,y_train_ns,y_test,train=False)"
   ]
  },
  {
   "cell_type": "code",
   "execution_count": 56,
   "id": "130ae65b",
   "metadata": {},
   "outputs": [],
   "source": [
    "# accuracy score is not increase but its moel is good"
   ]
  },
  {
   "cell_type": "code",
   "execution_count": 65,
   "id": "4e228b85",
   "metadata": {},
   "outputs": [],
   "source": [
    "# Roc AUC Curve to choose best model\n",
    "from sklearn.metrics import roc_auc_score,roc_curve,plot_roc_curve"
   ]
  },
  {
   "cell_type": "code",
   "execution_count": 78,
   "id": "40c121f6",
   "metadata": {},
   "outputs": [
    {
     "data": {
      "image/png": "[encoded data removed]",
      "text/plain": [
       "<Figure size 432x288 with 1 Axes>"
      ]
     },
     "metadata": {
      "needs_background": "light"
     },
     "output_type": "display_data"
    }
   ],
   "source": [
    "# Graph of AUC for Test Data\n",
    "disp=plot_roc_curve(knn,x_train_ns,y_train_ns)\n",
    "plot_roc_curve(lr,x_train_ns,y_train_ns,ax=disp.ax_)\n",
    "plot_roc_curve(ran,x_train_ns,y_train_ns,ax=disp.ax_)\n",
    "plot_roc_curve(dec_tree,x_train_ns,y_train_ns,ax=disp.ax_)\n",
    "plot_roc_curve(ada,x_train_ns,y_train_ns,ax=disp.ax_)\n",
    "\n",
    "plt.legend(prop={'size':10},loc='lower right')\n",
    "plt.show()"
   ]
  },
  {
   "cell_type": "code",
   "execution_count": 77,
   "id": "1e6742f9",
   "metadata": {},
   "outputs": [
    {
     "data": {
      "image/png": "[encoded data removed]",
      "text/plain": [
       "<Figure size 432x288 with 1 Axes>"
      ]
     },
     "metadata": {
      "needs_background": "light"
     },
     "output_type": "display_data"
    }
   ],
   "source": [
    "# Graph of AUC for Test Data\n",
    "disp=plot_roc_curve(knn,x_test,y_test)\n",
    "plot_roc_curve(lr,x_test,y_test,ax=disp.ax_)\n",
    "plot_roc_curve(ran,x_test,y_test,ax=disp.ax_)\n",
    "plot_roc_curve(dec_tree,x_test,y_test,ax=disp.ax_)\n",
    "plot_roc_curve(ada,x_test,y_test,ax=disp.ax_)\n",
    "\n",
    "plt.legend(prop={'size':10},loc='lower right')\n",
    "plt.show()"
   ]
  },
  {
   "cell_type": "code",
   "execution_count": 79,
   "id": "abcce060",
   "metadata": {},
   "outputs": [],
   "source": [
    "import pickle"
   ]
  },
  {
   "cell_type": "code",
   "execution_count": 80,
   "id": "8d8ee250",
   "metadata": {},
   "outputs": [],
   "source": [
    "pickle.dump('lr',open('LogisticRegresion_model','wb'))"
   ]
  },
  {
   "cell_type": "markdown",
   "id": "38038217",
   "metadata": {},
   "source": [
    "### Save Logistic regresion model. AUC curve, Train & test accuracy score is close to same. Thus LogisticsRegresion model is performing better than other model"
   ]
  },
  {
   "cell_type": "code",
   "execution_count": null,
   "id": "1b4a2f5f",
   "metadata": {},
   "outputs": [],
   "source": []
  }
 ],
 "metadata": {
  "kernelspec": {
   "display_name": "Python 3 (ipykernel)",
   "language": "python",
   "name": "python3"
  },
  "language_info": {
   "codemirror_mode": {
    "name": "ipython",
    "version": 3
   },
   "file_extension": ".py",
   "mimetype": "text/x-python",
   "name": "python",
   "nbconvert_exporter": "python",
   "pygments_lexer": "ipython3",
   "version": "3.9.12"
  }
 },
 "nbformat": 4,
 "nbformat_minor": 5
}
