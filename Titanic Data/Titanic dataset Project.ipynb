{
 "cells": [
  {
   "cell_type": "code",
   "execution_count": 1,
   "id": "711d8444",
   "metadata": {},
   "outputs": [],
   "source": [
    "import numpy as np\n",
    "import pandas as pd"
   ]
  },
  {
   "cell_type": "code",
   "execution_count": 2,
   "id": "87fe6e91",
   "metadata": {},
   "outputs": [],
   "source": [
    "# Get the data from github using pandas.read_csv"
   ]
  },
  {
   "cell_type": "code",
   "execution_count": 3,
   "id": "8a4b0554",
   "metadata": {},
   "outputs": [
    {
     "data": {
      "text/html": [
       "<div>\n",
       "<style scoped>\n",
       "    .dataframe tbody tr th:only-of-type {\n",
       "        vertical-align: middle;\n",
       "    }\n",
       "\n",
       "    .dataframe tbody tr th {\n",
       "        vertical-align: top;\n",
       "    }\n",
       "\n",
       "    .dataframe thead th {\n",
       "        text-align: right;\n",
       "    }\n",
       "</style>\n",
       "<table border=\"1\" class=\"dataframe\">\n",
       "  <thead>\n",
       "    <tr style=\"text-align: right;\">\n",
       "      <th></th>\n",
       "      <th>PassengerId</th>\n",
       "      <th>Survived</th>\n",
       "      <th>Pclass</th>\n",
       "      <th>Name</th>\n",
       "      <th>Sex</th>\n",
       "      <th>Age</th>\n",
       "      <th>SibSp</th>\n",
       "      <th>Parch</th>\n",
       "      <th>Ticket</th>\n",
       "      <th>Fare</th>\n",
       "      <th>Cabin</th>\n",
       "      <th>Embarked</th>\n",
       "    </tr>\n",
       "  </thead>\n",
       "  <tbody>\n",
       "    <tr>\n",
       "      <th>500</th>\n",
       "      <td>501</td>\n",
       "      <td>0</td>\n",
       "      <td>3</td>\n",
       "      <td>Calic, Mr. Petar</td>\n",
       "      <td>male</td>\n",
       "      <td>17.0</td>\n",
       "      <td>0</td>\n",
       "      <td>0</td>\n",
       "      <td>315086</td>\n",
       "      <td>8.6625</td>\n",
       "      <td>NaN</td>\n",
       "      <td>S</td>\n",
       "    </tr>\n",
       "    <tr>\n",
       "      <th>702</th>\n",
       "      <td>703</td>\n",
       "      <td>0</td>\n",
       "      <td>3</td>\n",
       "      <td>Barbara, Miss. Saiide</td>\n",
       "      <td>female</td>\n",
       "      <td>18.0</td>\n",
       "      <td>0</td>\n",
       "      <td>1</td>\n",
       "      <td>2691</td>\n",
       "      <td>14.4542</td>\n",
       "      <td>NaN</td>\n",
       "      <td>C</td>\n",
       "    </tr>\n",
       "    <tr>\n",
       "      <th>112</th>\n",
       "      <td>113</td>\n",
       "      <td>0</td>\n",
       "      <td>3</td>\n",
       "      <td>Barton, Mr. David John</td>\n",
       "      <td>male</td>\n",
       "      <td>22.0</td>\n",
       "      <td>0</td>\n",
       "      <td>0</td>\n",
       "      <td>324669</td>\n",
       "      <td>8.0500</td>\n",
       "      <td>NaN</td>\n",
       "      <td>S</td>\n",
       "    </tr>\n",
       "    <tr>\n",
       "      <th>483</th>\n",
       "      <td>484</td>\n",
       "      <td>1</td>\n",
       "      <td>3</td>\n",
       "      <td>Turkula, Mrs. (Hedwig)</td>\n",
       "      <td>female</td>\n",
       "      <td>63.0</td>\n",
       "      <td>0</td>\n",
       "      <td>0</td>\n",
       "      <td>4134</td>\n",
       "      <td>9.5875</td>\n",
       "      <td>NaN</td>\n",
       "      <td>S</td>\n",
       "    </tr>\n",
       "    <tr>\n",
       "      <th>90</th>\n",
       "      <td>91</td>\n",
       "      <td>0</td>\n",
       "      <td>3</td>\n",
       "      <td>Christmann, Mr. Emil</td>\n",
       "      <td>male</td>\n",
       "      <td>29.0</td>\n",
       "      <td>0</td>\n",
       "      <td>0</td>\n",
       "      <td>343276</td>\n",
       "      <td>8.0500</td>\n",
       "      <td>NaN</td>\n",
       "      <td>S</td>\n",
       "    </tr>\n",
       "  </tbody>\n",
       "</table>\n",
       "</div>"
      ],
      "text/plain": [
       "     PassengerId  Survived  Pclass                    Name     Sex   Age  \\\n",
       "500          501         0       3        Calic, Mr. Petar    male  17.0   \n",
       "702          703         0       3   Barbara, Miss. Saiide  female  18.0   \n",
       "112          113         0       3  Barton, Mr. David John    male  22.0   \n",
       "483          484         1       3  Turkula, Mrs. (Hedwig)  female  63.0   \n",
       "90            91         0       3    Christmann, Mr. Emil    male  29.0   \n",
       "\n",
       "     SibSp  Parch  Ticket     Fare Cabin Embarked  \n",
       "500      0      0  315086   8.6625   NaN        S  \n",
       "702      0      1    2691  14.4542   NaN        C  \n",
       "112      0      0  324669   8.0500   NaN        S  \n",
       "483      0      0    4134   9.5875   NaN        S  \n",
       "90       0      0  343276   8.0500   NaN        S  "
      ]
     },
     "execution_count": 3,
     "metadata": {},
     "output_type": "execute_result"
    }
   ],
   "source": [
    "data=pd.read_csv('https://raw.githubusercontent.com/dsrscientist/dataset1/master/titanic_train.csv')\n",
    "data.sample(5)"
   ]
  },
  {
   "cell_type": "code",
   "execution_count": 4,
   "id": "74260068",
   "metadata": {},
   "outputs": [
    {
     "data": {
      "text/html": [
       "<div>\n",
       "<style scoped>\n",
       "    .dataframe tbody tr th:only-of-type {\n",
       "        vertical-align: middle;\n",
       "    }\n",
       "\n",
       "    .dataframe tbody tr th {\n",
       "        vertical-align: top;\n",
       "    }\n",
       "\n",
       "    .dataframe thead th {\n",
       "        text-align: right;\n",
       "    }\n",
       "</style>\n",
       "<table border=\"1\" class=\"dataframe\">\n",
       "  <thead>\n",
       "    <tr style=\"text-align: right;\">\n",
       "      <th></th>\n",
       "      <th>PassengerId</th>\n",
       "      <th>Survived</th>\n",
       "      <th>Pclass</th>\n",
       "      <th>Name</th>\n",
       "      <th>Sex</th>\n",
       "      <th>Age</th>\n",
       "      <th>SibSp</th>\n",
       "      <th>Parch</th>\n",
       "      <th>Ticket</th>\n",
       "      <th>Fare</th>\n",
       "      <th>Cabin</th>\n",
       "      <th>Embarked</th>\n",
       "    </tr>\n",
       "  </thead>\n",
       "  <tbody>\n",
       "    <tr>\n",
       "      <th>886</th>\n",
       "      <td>887</td>\n",
       "      <td>0</td>\n",
       "      <td>2</td>\n",
       "      <td>Montvila, Rev. Juozas</td>\n",
       "      <td>male</td>\n",
       "      <td>27.0</td>\n",
       "      <td>0</td>\n",
       "      <td>0</td>\n",
       "      <td>211536</td>\n",
       "      <td>13.00</td>\n",
       "      <td>NaN</td>\n",
       "      <td>S</td>\n",
       "    </tr>\n",
       "    <tr>\n",
       "      <th>887</th>\n",
       "      <td>888</td>\n",
       "      <td>1</td>\n",
       "      <td>1</td>\n",
       "      <td>Graham, Miss. Margaret Edith</td>\n",
       "      <td>female</td>\n",
       "      <td>19.0</td>\n",
       "      <td>0</td>\n",
       "      <td>0</td>\n",
       "      <td>112053</td>\n",
       "      <td>30.00</td>\n",
       "      <td>B42</td>\n",
       "      <td>S</td>\n",
       "    </tr>\n",
       "    <tr>\n",
       "      <th>888</th>\n",
       "      <td>889</td>\n",
       "      <td>0</td>\n",
       "      <td>3</td>\n",
       "      <td>Johnston, Miss. Catherine Helen \"Carrie\"</td>\n",
       "      <td>female</td>\n",
       "      <td>NaN</td>\n",
       "      <td>1</td>\n",
       "      <td>2</td>\n",
       "      <td>W./C. 6607</td>\n",
       "      <td>23.45</td>\n",
       "      <td>NaN</td>\n",
       "      <td>S</td>\n",
       "    </tr>\n",
       "    <tr>\n",
       "      <th>889</th>\n",
       "      <td>890</td>\n",
       "      <td>1</td>\n",
       "      <td>1</td>\n",
       "      <td>Behr, Mr. Karl Howell</td>\n",
       "      <td>male</td>\n",
       "      <td>26.0</td>\n",
       "      <td>0</td>\n",
       "      <td>0</td>\n",
       "      <td>111369</td>\n",
       "      <td>30.00</td>\n",
       "      <td>C148</td>\n",
       "      <td>C</td>\n",
       "    </tr>\n",
       "    <tr>\n",
       "      <th>890</th>\n",
       "      <td>891</td>\n",
       "      <td>0</td>\n",
       "      <td>3</td>\n",
       "      <td>Dooley, Mr. Patrick</td>\n",
       "      <td>male</td>\n",
       "      <td>32.0</td>\n",
       "      <td>0</td>\n",
       "      <td>0</td>\n",
       "      <td>370376</td>\n",
       "      <td>7.75</td>\n",
       "      <td>NaN</td>\n",
       "      <td>Q</td>\n",
       "    </tr>\n",
       "  </tbody>\n",
       "</table>\n",
       "</div>"
      ],
      "text/plain": [
       "     PassengerId  Survived  Pclass                                      Name  \\\n",
       "886          887         0       2                     Montvila, Rev. Juozas   \n",
       "887          888         1       1              Graham, Miss. Margaret Edith   \n",
       "888          889         0       3  Johnston, Miss. Catherine Helen \"Carrie\"   \n",
       "889          890         1       1                     Behr, Mr. Karl Howell   \n",
       "890          891         0       3                       Dooley, Mr. Patrick   \n",
       "\n",
       "        Sex   Age  SibSp  Parch      Ticket   Fare Cabin Embarked  \n",
       "886    male  27.0      0      0      211536  13.00   NaN        S  \n",
       "887  female  19.0      0      0      112053  30.00   B42        S  \n",
       "888  female   NaN      1      2  W./C. 6607  23.45   NaN        S  \n",
       "889    male  26.0      0      0      111369  30.00  C148        C  \n",
       "890    male  32.0      0      0      370376   7.75   NaN        Q  "
      ]
     },
     "execution_count": 4,
     "metadata": {},
     "output_type": "execute_result"
    }
   ],
   "source": [
    "data.tail()"
   ]
  },
  {
   "cell_type": "code",
   "execution_count": 5,
   "id": "e8b52bab",
   "metadata": {},
   "outputs": [],
   "source": [
    "# Observation:\n",
    "# as per dataset & problem statement, here target value's column is Survived & rest all columns are input value."
   ]
  },
  {
   "cell_type": "code",
   "execution_count": 6,
   "id": "15ef2a09",
   "metadata": {},
   "outputs": [
    {
     "name": "stdout",
     "output_type": "stream",
     "text": [
      "<class 'pandas.core.frame.DataFrame'>\n",
      "RangeIndex: 891 entries, 0 to 890\n",
      "Data columns (total 12 columns):\n",
      " #   Column       Non-Null Count  Dtype  \n",
      "---  ------       --------------  -----  \n",
      " 0   PassengerId  891 non-null    int64  \n",
      " 1   Survived     891 non-null    int64  \n",
      " 2   Pclass       891 non-null    int64  \n",
      " 3   Name         891 non-null    object \n",
      " 4   Sex          891 non-null    object \n",
      " 5   Age          714 non-null    float64\n",
      " 6   SibSp        891 non-null    int64  \n",
      " 7   Parch        891 non-null    int64  \n",
      " 8   Ticket       891 non-null    object \n",
      " 9   Fare         891 non-null    float64\n",
      " 10  Cabin        204 non-null    object \n",
      " 11  Embarked     889 non-null    object \n",
      "dtypes: float64(2), int64(5), object(5)\n",
      "memory usage: 83.7+ KB\n"
     ]
    }
   ],
   "source": [
    "# check null value\n",
    "data.info()"
   ]
  },
  {
   "cell_type": "code",
   "execution_count": 7,
   "id": "f7a2246a",
   "metadata": {},
   "outputs": [],
   "source": [
    "# Observation:\n",
    "# 1. Name cloumn- no null value & here is text value\n",
    "# 2. Sex cloumn- no null vaklue & here is text value\n",
    "# 3. age column- here is null value present & float value\n",
    "# 4. Ticket cloumn- no null value & here is text value.\n",
    "# 5. Cabin Column- here is null value present & here is text value.\n",
    "# 6. Embarked column- no null value & here is text value.\n",
    "#  7. all other columns have no null value and all are int. and float value.\n"
   ]
  },
  {
   "cell_type": "code",
   "execution_count": 8,
   "id": "82104053",
   "metadata": {},
   "outputs": [
    {
     "data": {
      "text/plain": [
       "PassengerId      0\n",
       "Survived         0\n",
       "Pclass           0\n",
       "Name             0\n",
       "Sex              0\n",
       "Age            177\n",
       "SibSp            0\n",
       "Parch            0\n",
       "Ticket           0\n",
       "Fare             0\n",
       "Cabin          687\n",
       "Embarked         2\n",
       "dtype: int64"
      ]
     },
     "execution_count": 8,
     "metadata": {},
     "output_type": "execute_result"
    }
   ],
   "source": [
    "data.isna().sum()    # Show null value "
   ]
  },
  {
   "cell_type": "code",
   "execution_count": 9,
   "id": "94240b4f",
   "metadata": {},
   "outputs": [],
   "source": [
    "# Observation\n",
    "# 1. Age- null value is 177 present\n",
    "# cabin- null value is 687 present\n",
    "#  Embarked- null value is 2 present"
   ]
  },
  {
   "cell_type": "code",
   "execution_count": 10,
   "id": "98beff5f",
   "metadata": {},
   "outputs": [
    {
     "data": {
      "text/plain": [
       "Index(['PassengerId', 'Survived', 'Pclass', 'Name', 'Sex', 'Age', 'SibSp',\n",
       "       'Parch', 'Ticket', 'Fare', 'Cabin', 'Embarked'],\n",
       "      dtype='object')"
      ]
     },
     "execution_count": 10,
     "metadata": {},
     "output_type": "execute_result"
    }
   ],
   "source": [
    "#  cheking no of columns name in dataset.\n",
    "\n",
    "data.columns"
   ]
  },
  {
   "cell_type": "code",
   "execution_count": 11,
   "id": "6c819cc3",
   "metadata": {},
   "outputs": [
    {
     "data": {
      "text/plain": [
       "(891, 12)"
      ]
     },
     "execution_count": 11,
     "metadata": {},
     "output_type": "execute_result"
    }
   ],
   "source": [
    "#  cheking how many columns & rows are have in the dataset\n",
    "data.shape"
   ]
  },
  {
   "cell_type": "code",
   "execution_count": 12,
   "id": "2b06bf88",
   "metadata": {},
   "outputs": [],
   "source": [
    "# observation:\n",
    "# Rows number-891\n",
    "#  Columns number-12\n"
   ]
  },
  {
   "cell_type": "code",
   "execution_count": 13,
   "id": "a41ce8d8",
   "metadata": {},
   "outputs": [],
   "source": [
    "# check Duplicate value in the dataset\n",
    "# data=data.drop('PassengerId',axis=1, inplace=True)\n"
   ]
  },
  {
   "cell_type": "code",
   "execution_count": 14,
   "id": "bb1e1cc2",
   "metadata": {},
   "outputs": [],
   "source": [
    "# remove Duplicate data in dataset\n",
    "data.drop_duplicates(inplace=True)"
   ]
  },
  {
   "cell_type": "code",
   "execution_count": 15,
   "id": "8160f77d",
   "metadata": {},
   "outputs": [
    {
     "data": {
      "text/plain": [
       "(891, 12)"
      ]
     },
     "execution_count": 15,
     "metadata": {},
     "output_type": "execute_result"
    }
   ],
   "source": [
    "data.shape"
   ]
  },
  {
   "cell_type": "code",
   "execution_count": 16,
   "id": "ef74d1d8",
   "metadata": {},
   "outputs": [],
   "source": [
    "# Observation:\n",
    "# no duplicate values are present in dataset. Because Columns & Rows numbers are in dataset as earlier."
   ]
  },
  {
   "cell_type": "code",
   "execution_count": 17,
   "id": "8d7ad11e",
   "metadata": {},
   "outputs": [],
   "source": [
    "# fill the null value of Age, Cabin & embarked columns\n"
   ]
  },
  {
   "cell_type": "code",
   "execution_count": 18,
   "id": "d1cd3fcb",
   "metadata": {},
   "outputs": [],
   "source": [
    "data['Age']= data['Age'].fillna(data['Age'].mean()) # fill the data dute to it is continuos data."
   ]
  },
  {
   "cell_type": "code",
   "execution_count": 19,
   "id": "3e610e4a",
   "metadata": {},
   "outputs": [],
   "source": [
    "# Cabin & Embarked columns fill by mode method due to these are Catagorical value.\n",
    "\n",
    "data['Cabin']=data['Cabin'].fillna(data['Cabin'].mode()[0]) \n",
    "data['Embarked']= data['Embarked'].fillna(data['Embarked'].mode()[0])"
   ]
  },
  {
   "cell_type": "code",
   "execution_count": 20,
   "id": "8c0c5afb",
   "metadata": {},
   "outputs": [
    {
     "data": {
      "text/plain": [
       "PassengerId    0\n",
       "Survived       0\n",
       "Pclass         0\n",
       "Name           0\n",
       "Sex            0\n",
       "Age            0\n",
       "SibSp          0\n",
       "Parch          0\n",
       "Ticket         0\n",
       "Fare           0\n",
       "Cabin          0\n",
       "Embarked       0\n",
       "dtype: int64"
      ]
     },
     "execution_count": 20,
     "metadata": {},
     "output_type": "execute_result"
    }
   ],
   "source": [
    "data.isna().sum() # cheking null value"
   ]
  },
  {
   "cell_type": "code",
   "execution_count": 21,
   "id": "cbe9f3f5",
   "metadata": {},
   "outputs": [],
   "source": [
    "# Observation:\n",
    "# no null vaues are present in dataset."
   ]
  },
  {
   "cell_type": "code",
   "execution_count": 22,
   "id": "55fb261d",
   "metadata": {},
   "outputs": [],
   "source": [
    "# convert object value to numbers af those input value wherein object values are present."
   ]
  },
  {
   "cell_type": "code",
   "execution_count": 23,
   "id": "6fcd8939",
   "metadata": {},
   "outputs": [],
   "source": [
    "data['Sex']= data['Sex'].replace({'male':0,'female':1}) # fill with number as male by 0 and female by 1"
   ]
  },
  {
   "cell_type": "code",
   "execution_count": 24,
   "id": "6174bdd9",
   "metadata": {},
   "outputs": [
    {
     "data": {
      "text/html": [
       "<div>\n",
       "<style scoped>\n",
       "    .dataframe tbody tr th:only-of-type {\n",
       "        vertical-align: middle;\n",
       "    }\n",
       "\n",
       "    .dataframe tbody tr th {\n",
       "        vertical-align: top;\n",
       "    }\n",
       "\n",
       "    .dataframe thead th {\n",
       "        text-align: right;\n",
       "    }\n",
       "</style>\n",
       "<table border=\"1\" class=\"dataframe\">\n",
       "  <thead>\n",
       "    <tr style=\"text-align: right;\">\n",
       "      <th></th>\n",
       "      <th>PassengerId</th>\n",
       "      <th>Survived</th>\n",
       "      <th>Pclass</th>\n",
       "      <th>Name</th>\n",
       "      <th>Sex</th>\n",
       "      <th>Age</th>\n",
       "      <th>SibSp</th>\n",
       "      <th>Parch</th>\n",
       "      <th>Ticket</th>\n",
       "      <th>Fare</th>\n",
       "      <th>Cabin</th>\n",
       "      <th>Embarked</th>\n",
       "    </tr>\n",
       "  </thead>\n",
       "  <tbody>\n",
       "    <tr>\n",
       "      <th>0</th>\n",
       "      <td>1</td>\n",
       "      <td>0</td>\n",
       "      <td>3</td>\n",
       "      <td>Braund, Mr. Owen Harris</td>\n",
       "      <td>0</td>\n",
       "      <td>22.0</td>\n",
       "      <td>1</td>\n",
       "      <td>0</td>\n",
       "      <td>A/5 21171</td>\n",
       "      <td>7.2500</td>\n",
       "      <td>B96 B98</td>\n",
       "      <td>S</td>\n",
       "    </tr>\n",
       "    <tr>\n",
       "      <th>1</th>\n",
       "      <td>2</td>\n",
       "      <td>1</td>\n",
       "      <td>1</td>\n",
       "      <td>Cumings, Mrs. John Bradley (Florence Briggs Th...</td>\n",
       "      <td>1</td>\n",
       "      <td>38.0</td>\n",
       "      <td>1</td>\n",
       "      <td>0</td>\n",
       "      <td>PC 17599</td>\n",
       "      <td>71.2833</td>\n",
       "      <td>C85</td>\n",
       "      <td>C</td>\n",
       "    </tr>\n",
       "    <tr>\n",
       "      <th>2</th>\n",
       "      <td>3</td>\n",
       "      <td>1</td>\n",
       "      <td>3</td>\n",
       "      <td>Heikkinen, Miss. Laina</td>\n",
       "      <td>1</td>\n",
       "      <td>26.0</td>\n",
       "      <td>0</td>\n",
       "      <td>0</td>\n",
       "      <td>STON/O2. 3101282</td>\n",
       "      <td>7.9250</td>\n",
       "      <td>B96 B98</td>\n",
       "      <td>S</td>\n",
       "    </tr>\n",
       "    <tr>\n",
       "      <th>3</th>\n",
       "      <td>4</td>\n",
       "      <td>1</td>\n",
       "      <td>1</td>\n",
       "      <td>Futrelle, Mrs. Jacques Heath (Lily May Peel)</td>\n",
       "      <td>1</td>\n",
       "      <td>35.0</td>\n",
       "      <td>1</td>\n",
       "      <td>0</td>\n",
       "      <td>113803</td>\n",
       "      <td>53.1000</td>\n",
       "      <td>C123</td>\n",
       "      <td>S</td>\n",
       "    </tr>\n",
       "    <tr>\n",
       "      <th>4</th>\n",
       "      <td>5</td>\n",
       "      <td>0</td>\n",
       "      <td>3</td>\n",
       "      <td>Allen, Mr. William Henry</td>\n",
       "      <td>0</td>\n",
       "      <td>35.0</td>\n",
       "      <td>0</td>\n",
       "      <td>0</td>\n",
       "      <td>373450</td>\n",
       "      <td>8.0500</td>\n",
       "      <td>B96 B98</td>\n",
       "      <td>S</td>\n",
       "    </tr>\n",
       "  </tbody>\n",
       "</table>\n",
       "</div>"
      ],
      "text/plain": [
       "   PassengerId  Survived  Pclass  \\\n",
       "0            1         0       3   \n",
       "1            2         1       1   \n",
       "2            3         1       3   \n",
       "3            4         1       1   \n",
       "4            5         0       3   \n",
       "\n",
       "                                                Name  Sex   Age  SibSp  Parch  \\\n",
       "0                            Braund, Mr. Owen Harris    0  22.0      1      0   \n",
       "1  Cumings, Mrs. John Bradley (Florence Briggs Th...    1  38.0      1      0   \n",
       "2                             Heikkinen, Miss. Laina    1  26.0      0      0   \n",
       "3       Futrelle, Mrs. Jacques Heath (Lily May Peel)    1  35.0      1      0   \n",
       "4                           Allen, Mr. William Henry    0  35.0      0      0   \n",
       "\n",
       "             Ticket     Fare    Cabin Embarked  \n",
       "0         A/5 21171   7.2500  B96 B98        S  \n",
       "1          PC 17599  71.2833      C85        C  \n",
       "2  STON/O2. 3101282   7.9250  B96 B98        S  \n",
       "3            113803  53.1000     C123        S  \n",
       "4            373450   8.0500  B96 B98        S  "
      ]
     },
     "execution_count": 24,
     "metadata": {},
     "output_type": "execute_result"
    }
   ],
   "source": [
    "data.head()"
   ]
  },
  {
   "cell_type": "code",
   "execution_count": 25,
   "id": "fdab73c9",
   "metadata": {},
   "outputs": [],
   "source": [
    "# drop the passengerId column because it is not important for nalysis & not effected on target value.\n",
    "\n",
    "data.drop('PassengerId',axis=1,inplace=True)"
   ]
  },
  {
   "cell_type": "code",
   "execution_count": 26,
   "id": "3c81cd0e",
   "metadata": {},
   "outputs": [
    {
     "data": {
      "text/plain": [
       "(891, 11)"
      ]
     },
     "execution_count": 26,
     "metadata": {},
     "output_type": "execute_result"
    }
   ],
   "source": [
    "data.shape"
   ]
  },
  {
   "cell_type": "code",
   "execution_count": 27,
   "id": "7042429a",
   "metadata": {},
   "outputs": [
    {
     "data": {
      "text/html": [
       "<div>\n",
       "<style scoped>\n",
       "    .dataframe tbody tr th:only-of-type {\n",
       "        vertical-align: middle;\n",
       "    }\n",
       "\n",
       "    .dataframe tbody tr th {\n",
       "        vertical-align: top;\n",
       "    }\n",
       "\n",
       "    .dataframe thead th {\n",
       "        text-align: right;\n",
       "    }\n",
       "</style>\n",
       "<table border=\"1\" class=\"dataframe\">\n",
       "  <thead>\n",
       "    <tr style=\"text-align: right;\">\n",
       "      <th></th>\n",
       "      <th>Survived</th>\n",
       "      <th>Pclass</th>\n",
       "      <th>Sex</th>\n",
       "      <th>Age</th>\n",
       "      <th>SibSp</th>\n",
       "      <th>Parch</th>\n",
       "      <th>Fare</th>\n",
       "    </tr>\n",
       "  </thead>\n",
       "  <tbody>\n",
       "    <tr>\n",
       "      <th>count</th>\n",
       "      <td>891.000000</td>\n",
       "      <td>891.000000</td>\n",
       "      <td>891.000000</td>\n",
       "      <td>891.000000</td>\n",
       "      <td>891.000000</td>\n",
       "      <td>891.000000</td>\n",
       "      <td>891.000000</td>\n",
       "    </tr>\n",
       "    <tr>\n",
       "      <th>mean</th>\n",
       "      <td>0.383838</td>\n",
       "      <td>2.308642</td>\n",
       "      <td>0.352413</td>\n",
       "      <td>29.699118</td>\n",
       "      <td>0.523008</td>\n",
       "      <td>0.381594</td>\n",
       "      <td>32.204208</td>\n",
       "    </tr>\n",
       "    <tr>\n",
       "      <th>std</th>\n",
       "      <td>0.486592</td>\n",
       "      <td>0.836071</td>\n",
       "      <td>0.477990</td>\n",
       "      <td>13.002015</td>\n",
       "      <td>1.102743</td>\n",
       "      <td>0.806057</td>\n",
       "      <td>49.693429</td>\n",
       "    </tr>\n",
       "    <tr>\n",
       "      <th>min</th>\n",
       "      <td>0.000000</td>\n",
       "      <td>1.000000</td>\n",
       "      <td>0.000000</td>\n",
       "      <td>0.420000</td>\n",
       "      <td>0.000000</td>\n",
       "      <td>0.000000</td>\n",
       "      <td>0.000000</td>\n",
       "    </tr>\n",
       "    <tr>\n",
       "      <th>25%</th>\n",
       "      <td>0.000000</td>\n",
       "      <td>2.000000</td>\n",
       "      <td>0.000000</td>\n",
       "      <td>22.000000</td>\n",
       "      <td>0.000000</td>\n",
       "      <td>0.000000</td>\n",
       "      <td>7.910400</td>\n",
       "    </tr>\n",
       "    <tr>\n",
       "      <th>50%</th>\n",
       "      <td>0.000000</td>\n",
       "      <td>3.000000</td>\n",
       "      <td>0.000000</td>\n",
       "      <td>29.699118</td>\n",
       "      <td>0.000000</td>\n",
       "      <td>0.000000</td>\n",
       "      <td>14.454200</td>\n",
       "    </tr>\n",
       "    <tr>\n",
       "      <th>75%</th>\n",
       "      <td>1.000000</td>\n",
       "      <td>3.000000</td>\n",
       "      <td>1.000000</td>\n",
       "      <td>35.000000</td>\n",
       "      <td>1.000000</td>\n",
       "      <td>0.000000</td>\n",
       "      <td>31.000000</td>\n",
       "    </tr>\n",
       "    <tr>\n",
       "      <th>max</th>\n",
       "      <td>1.000000</td>\n",
       "      <td>3.000000</td>\n",
       "      <td>1.000000</td>\n",
       "      <td>80.000000</td>\n",
       "      <td>8.000000</td>\n",
       "      <td>6.000000</td>\n",
       "      <td>512.329200</td>\n",
       "    </tr>\n",
       "  </tbody>\n",
       "</table>\n",
       "</div>"
      ],
      "text/plain": [
       "         Survived      Pclass         Sex         Age       SibSp       Parch  \\\n",
       "count  891.000000  891.000000  891.000000  891.000000  891.000000  891.000000   \n",
       "mean     0.383838    2.308642    0.352413   29.699118    0.523008    0.381594   \n",
       "std      0.486592    0.836071    0.477990   13.002015    1.102743    0.806057   \n",
       "min      0.000000    1.000000    0.000000    0.420000    0.000000    0.000000   \n",
       "25%      0.000000    2.000000    0.000000   22.000000    0.000000    0.000000   \n",
       "50%      0.000000    3.000000    0.000000   29.699118    0.000000    0.000000   \n",
       "75%      1.000000    3.000000    1.000000   35.000000    1.000000    0.000000   \n",
       "max      1.000000    3.000000    1.000000   80.000000    8.000000    6.000000   \n",
       "\n",
       "             Fare  \n",
       "count  891.000000  \n",
       "mean    32.204208  \n",
       "std     49.693429  \n",
       "min      0.000000  \n",
       "25%      7.910400  \n",
       "50%     14.454200  \n",
       "75%     31.000000  \n",
       "max    512.329200  "
      ]
     },
     "execution_count": 27,
     "metadata": {},
     "output_type": "execute_result"
    }
   ],
   "source": [
    "data.describe()"
   ]
  },
  {
   "cell_type": "code",
   "execution_count": 28,
   "id": "caca0bae",
   "metadata": {},
   "outputs": [],
   "source": [
    "# Fare- Here show fare is rs.0 so fare not be 0, Fill it wtith mean value of total fare column."
   ]
  },
  {
   "cell_type": "code",
   "execution_count": 29,
   "id": "bf1a9106",
   "metadata": {},
   "outputs": [],
   "source": [
    "data['Fare']=data['Fare'].replace(0, data['Fare'].mean())"
   ]
  },
  {
   "cell_type": "code",
   "execution_count": 30,
   "id": "181d8302",
   "metadata": {},
   "outputs": [],
   "source": [
    "#  cheking decribe the data"
   ]
  },
  {
   "cell_type": "code",
   "execution_count": 31,
   "id": "59d0e0d2",
   "metadata": {},
   "outputs": [
    {
     "data": {
      "text/html": [
       "<div>\n",
       "<style scoped>\n",
       "    .dataframe tbody tr th:only-of-type {\n",
       "        vertical-align: middle;\n",
       "    }\n",
       "\n",
       "    .dataframe tbody tr th {\n",
       "        vertical-align: top;\n",
       "    }\n",
       "\n",
       "    .dataframe thead th {\n",
       "        text-align: right;\n",
       "    }\n",
       "</style>\n",
       "<table border=\"1\" class=\"dataframe\">\n",
       "  <thead>\n",
       "    <tr style=\"text-align: right;\">\n",
       "      <th></th>\n",
       "      <th>Survived</th>\n",
       "      <th>Pclass</th>\n",
       "      <th>Sex</th>\n",
       "      <th>Age</th>\n",
       "      <th>SibSp</th>\n",
       "      <th>Parch</th>\n",
       "      <th>Fare</th>\n",
       "    </tr>\n",
       "  </thead>\n",
       "  <tbody>\n",
       "    <tr>\n",
       "      <th>count</th>\n",
       "      <td>891.000000</td>\n",
       "      <td>891.000000</td>\n",
       "      <td>891.000000</td>\n",
       "      <td>891.000000</td>\n",
       "      <td>891.000000</td>\n",
       "      <td>891.000000</td>\n",
       "      <td>891.000000</td>\n",
       "    </tr>\n",
       "    <tr>\n",
       "      <th>mean</th>\n",
       "      <td>0.383838</td>\n",
       "      <td>2.308642</td>\n",
       "      <td>0.352413</td>\n",
       "      <td>29.699118</td>\n",
       "      <td>0.523008</td>\n",
       "      <td>0.381594</td>\n",
       "      <td>32.746366</td>\n",
       "    </tr>\n",
       "    <tr>\n",
       "      <th>std</th>\n",
       "      <td>0.486592</td>\n",
       "      <td>0.836071</td>\n",
       "      <td>0.477990</td>\n",
       "      <td>13.002015</td>\n",
       "      <td>1.102743</td>\n",
       "      <td>0.806057</td>\n",
       "      <td>49.514272</td>\n",
       "    </tr>\n",
       "    <tr>\n",
       "      <th>min</th>\n",
       "      <td>0.000000</td>\n",
       "      <td>1.000000</td>\n",
       "      <td>0.000000</td>\n",
       "      <td>0.420000</td>\n",
       "      <td>0.000000</td>\n",
       "      <td>0.000000</td>\n",
       "      <td>4.012500</td>\n",
       "    </tr>\n",
       "    <tr>\n",
       "      <th>25%</th>\n",
       "      <td>0.000000</td>\n",
       "      <td>2.000000</td>\n",
       "      <td>0.000000</td>\n",
       "      <td>22.000000</td>\n",
       "      <td>0.000000</td>\n",
       "      <td>0.000000</td>\n",
       "      <td>7.925000</td>\n",
       "    </tr>\n",
       "    <tr>\n",
       "      <th>50%</th>\n",
       "      <td>0.000000</td>\n",
       "      <td>3.000000</td>\n",
       "      <td>0.000000</td>\n",
       "      <td>29.699118</td>\n",
       "      <td>0.000000</td>\n",
       "      <td>0.000000</td>\n",
       "      <td>15.100000</td>\n",
       "    </tr>\n",
       "    <tr>\n",
       "      <th>75%</th>\n",
       "      <td>1.000000</td>\n",
       "      <td>3.000000</td>\n",
       "      <td>1.000000</td>\n",
       "      <td>35.000000</td>\n",
       "      <td>1.000000</td>\n",
       "      <td>0.000000</td>\n",
       "      <td>32.204208</td>\n",
       "    </tr>\n",
       "    <tr>\n",
       "      <th>max</th>\n",
       "      <td>1.000000</td>\n",
       "      <td>3.000000</td>\n",
       "      <td>1.000000</td>\n",
       "      <td>80.000000</td>\n",
       "      <td>8.000000</td>\n",
       "      <td>6.000000</td>\n",
       "      <td>512.329200</td>\n",
       "    </tr>\n",
       "  </tbody>\n",
       "</table>\n",
       "</div>"
      ],
      "text/plain": [
       "         Survived      Pclass         Sex         Age       SibSp       Parch  \\\n",
       "count  891.000000  891.000000  891.000000  891.000000  891.000000  891.000000   \n",
       "mean     0.383838    2.308642    0.352413   29.699118    0.523008    0.381594   \n",
       "std      0.486592    0.836071    0.477990   13.002015    1.102743    0.806057   \n",
       "min      0.000000    1.000000    0.000000    0.420000    0.000000    0.000000   \n",
       "25%      0.000000    2.000000    0.000000   22.000000    0.000000    0.000000   \n",
       "50%      0.000000    3.000000    0.000000   29.699118    0.000000    0.000000   \n",
       "75%      1.000000    3.000000    1.000000   35.000000    1.000000    0.000000   \n",
       "max      1.000000    3.000000    1.000000   80.000000    8.000000    6.000000   \n",
       "\n",
       "             Fare  \n",
       "count  891.000000  \n",
       "mean    32.746366  \n",
       "std     49.514272  \n",
       "min      4.012500  \n",
       "25%      7.925000  \n",
       "50%     15.100000  \n",
       "75%     32.204208  \n",
       "max    512.329200  "
      ]
     },
     "execution_count": 31,
     "metadata": {},
     "output_type": "execute_result"
    }
   ],
   "source": [
    "data.describe()"
   ]
  },
  {
   "cell_type": "code",
   "execution_count": 32,
   "id": "80856830",
   "metadata": {},
   "outputs": [
    {
     "data": {
      "text/html": [
       "<div>\n",
       "<style scoped>\n",
       "    .dataframe tbody tr th:only-of-type {\n",
       "        vertical-align: middle;\n",
       "    }\n",
       "\n",
       "    .dataframe tbody tr th {\n",
       "        vertical-align: top;\n",
       "    }\n",
       "\n",
       "    .dataframe thead th {\n",
       "        text-align: right;\n",
       "    }\n",
       "</style>\n",
       "<table border=\"1\" class=\"dataframe\">\n",
       "  <thead>\n",
       "    <tr style=\"text-align: right;\">\n",
       "      <th></th>\n",
       "      <th>Survived</th>\n",
       "      <th>Pclass</th>\n",
       "      <th>Sex</th>\n",
       "      <th>Age</th>\n",
       "      <th>SibSp</th>\n",
       "      <th>Parch</th>\n",
       "      <th>Fare</th>\n",
       "    </tr>\n",
       "  </thead>\n",
       "  <tbody>\n",
       "    <tr>\n",
       "      <th>Survived</th>\n",
       "      <td>1.000000</td>\n",
       "      <td>-0.338481</td>\n",
       "      <td>0.543351</td>\n",
       "      <td>-0.069809</td>\n",
       "      <td>-0.035322</td>\n",
       "      <td>0.081629</td>\n",
       "      <td>0.251092</td>\n",
       "    </tr>\n",
       "    <tr>\n",
       "      <th>Pclass</th>\n",
       "      <td>-0.338481</td>\n",
       "      <td>1.000000</td>\n",
       "      <td>-0.131900</td>\n",
       "      <td>-0.331339</td>\n",
       "      <td>0.083081</td>\n",
       "      <td>0.018443</td>\n",
       "      <td>-0.556409</td>\n",
       "    </tr>\n",
       "    <tr>\n",
       "      <th>Sex</th>\n",
       "      <td>0.543351</td>\n",
       "      <td>-0.131900</td>\n",
       "      <td>1.000000</td>\n",
       "      <td>-0.084153</td>\n",
       "      <td>0.114631</td>\n",
       "      <td>0.245489</td>\n",
       "      <td>0.174911</td>\n",
       "    </tr>\n",
       "    <tr>\n",
       "      <th>Age</th>\n",
       "      <td>-0.069809</td>\n",
       "      <td>-0.331339</td>\n",
       "      <td>-0.084153</td>\n",
       "      <td>1.000000</td>\n",
       "      <td>-0.232625</td>\n",
       "      <td>-0.179191</td>\n",
       "      <td>0.094039</td>\n",
       "    </tr>\n",
       "    <tr>\n",
       "      <th>SibSp</th>\n",
       "      <td>-0.035322</td>\n",
       "      <td>0.083081</td>\n",
       "      <td>0.114631</td>\n",
       "      <td>-0.232625</td>\n",
       "      <td>1.000000</td>\n",
       "      <td>0.414838</td>\n",
       "      <td>0.155030</td>\n",
       "    </tr>\n",
       "    <tr>\n",
       "      <th>Parch</th>\n",
       "      <td>0.081629</td>\n",
       "      <td>0.018443</td>\n",
       "      <td>0.245489</td>\n",
       "      <td>-0.179191</td>\n",
       "      <td>0.414838</td>\n",
       "      <td>1.000000</td>\n",
       "      <td>0.211818</td>\n",
       "    </tr>\n",
       "    <tr>\n",
       "      <th>Fare</th>\n",
       "      <td>0.251092</td>\n",
       "      <td>-0.556409</td>\n",
       "      <td>0.174911</td>\n",
       "      <td>0.094039</td>\n",
       "      <td>0.155030</td>\n",
       "      <td>0.211818</td>\n",
       "      <td>1.000000</td>\n",
       "    </tr>\n",
       "  </tbody>\n",
       "</table>\n",
       "</div>"
      ],
      "text/plain": [
       "          Survived    Pclass       Sex       Age     SibSp     Parch      Fare\n",
       "Survived  1.000000 -0.338481  0.543351 -0.069809 -0.035322  0.081629  0.251092\n",
       "Pclass   -0.338481  1.000000 -0.131900 -0.331339  0.083081  0.018443 -0.556409\n",
       "Sex       0.543351 -0.131900  1.000000 -0.084153  0.114631  0.245489  0.174911\n",
       "Age      -0.069809 -0.331339 -0.084153  1.000000 -0.232625 -0.179191  0.094039\n",
       "SibSp    -0.035322  0.083081  0.114631 -0.232625  1.000000  0.414838  0.155030\n",
       "Parch     0.081629  0.018443  0.245489 -0.179191  0.414838  1.000000  0.211818\n",
       "Fare      0.251092 -0.556409  0.174911  0.094039  0.155030  0.211818  1.000000"
      ]
     },
     "execution_count": 32,
     "metadata": {},
     "output_type": "execute_result"
    }
   ],
   "source": [
    "data.corr() # cheking correlation "
   ]
  },
  {
   "cell_type": "code",
   "execution_count": 33,
   "id": "b69ef3bd",
   "metadata": {},
   "outputs": [],
   "source": [
    "import matplotlib.pyplot as plt\n",
    "import seaborn as sns\n",
    "\n",
    "import warnings\n",
    "warnings.filterwarnings('ignore')"
   ]
  },
  {
   "cell_type": "code",
   "execution_count": 34,
   "id": "4df969d2",
   "metadata": {},
   "outputs": [
    {
     "data": {
      "image/png": "[encoded data removed]",
      "text/plain": [
       "<Figure size 720x720 with 2 Axes>"
      ]
     },
     "metadata": {
      "needs_background": "light"
     },
     "output_type": "display_data"
    }
   ],
   "source": [
    "plt.figure(figsize=(10,10))\n",
    "sns.heatmap(data.corr(),annot=True)\n",
    "plt.show()"
   ]
  },
  {
   "cell_type": "code",
   "execution_count": 35,
   "id": "064070d8",
   "metadata": {},
   "outputs": [],
   "source": [
    "# Observation:\n",
    "# 1. Fare- relationship with survived is 25%. its good bond\n",
    "# 2. parch-relationship with survived is 8.2%. its good bond\n",
    "# 3. Age-relationship with survived is (-)7 %. its not good bond\n",
    "# 4. Sibsp- relationship with survived is (-) 3.5%. its not good bond\n",
    "# 5. sex- relationship with survived is 54%. its very strong bond\n",
    "# 6. Pclass-relationship with survived is -3.4%. its not good bond"
   ]
  },
  {
   "cell_type": "code",
   "execution_count": 36,
   "id": "43d2da94",
   "metadata": {},
   "outputs": [],
   "source": [
    "# drop the all string data column wchich not important for analysis.\n",
    "# Columns-Name,Ticket,Cabin,Embarked"
   ]
  },
  {
   "cell_type": "code",
   "execution_count": 37,
   "id": "993a92c5",
   "metadata": {},
   "outputs": [],
   "source": [
    "data=data.drop(['Name','Ticket','Cabin','Embarked'],axis=1)"
   ]
  },
  {
   "cell_type": "code",
   "execution_count": 38,
   "id": "72016108",
   "metadata": {},
   "outputs": [
    {
     "data": {
      "text/plain": [
       "Index(['Survived', 'Pclass', 'Sex', 'Age', 'SibSp', 'Parch', 'Fare'], dtype='object')"
      ]
     },
     "execution_count": 38,
     "metadata": {},
     "output_type": "execute_result"
    }
   ],
   "source": [
    "data.columns"
   ]
  },
  {
   "cell_type": "code",
   "execution_count": 39,
   "id": "e48cbe02",
   "metadata": {},
   "outputs": [],
   "source": [
    "# cheking relationship on feature with each other. using standerd scaler"
   ]
  },
  {
   "cell_type": "code",
   "execution_count": 40,
   "id": "d20dc66f",
   "metadata": {},
   "outputs": [],
   "source": [
    "from sklearn.preprocessing import StandardScaler\n"
   ]
  },
  {
   "cell_type": "code",
   "execution_count": 41,
   "id": "901963ab",
   "metadata": {},
   "outputs": [],
   "source": [
    "# seperate feature column & target column for cheking hou much relationship with feature each other"
   ]
  },
  {
   "cell_type": "code",
   "execution_count": 42,
   "id": "d10bfbf8",
   "metadata": {},
   "outputs": [],
   "source": [
    "x=data.drop(['Survived'],axis=1)\n",
    "y=data.Survived"
   ]
  },
  {
   "cell_type": "code",
   "execution_count": 43,
   "id": "745fe6e6",
   "metadata": {},
   "outputs": [],
   "source": [
    "scaler=StandardScaler()\n",
    "x_scaler=scaler.fit_transform(x)"
   ]
  },
  {
   "cell_type": "code",
   "execution_count": 44,
   "id": "d6fc73c6",
   "metadata": {},
   "outputs": [
    {
     "data": {
      "text/plain": [
       "6"
      ]
     },
     "execution_count": 44,
     "metadata": {},
     "output_type": "execute_result"
    }
   ],
   "source": [
    "x_scaler.shape[1]"
   ]
  },
  {
   "cell_type": "code",
   "execution_count": null,
   "id": "2f1e9f24",
   "metadata": {},
   "outputs": [],
   "source": []
  },
  {
   "cell_type": "code",
   "execution_count": 45,
   "id": "ee8c59e2",
   "metadata": {},
   "outputs": [],
   "source": [
    "from statsmodels.stats.outliers_influence import variance_inflation_factor"
   ]
  },
  {
   "cell_type": "code",
   "execution_count": 46,
   "id": "85963231",
   "metadata": {},
   "outputs": [],
   "source": [
    "vif=pd.DataFrame()\n",
    "vif['vif']=[variance_inflation_factor(x_scaler,i) for i in range(x_scaler.shape[1])]\n"
   ]
  },
  {
   "cell_type": "code",
   "execution_count": 47,
   "id": "afead515",
   "metadata": {},
   "outputs": [],
   "source": [
    "vif['feature']=x.columns"
   ]
  },
  {
   "cell_type": "code",
   "execution_count": 48,
   "id": "14537beb",
   "metadata": {},
   "outputs": [
    {
     "data": {
      "text/html": [
       "<div>\n",
       "<style scoped>\n",
       "    .dataframe tbody tr th:only-of-type {\n",
       "        vertical-align: middle;\n",
       "    }\n",
       "\n",
       "    .dataframe tbody tr th {\n",
       "        vertical-align: top;\n",
       "    }\n",
       "\n",
       "    .dataframe thead th {\n",
       "        text-align: right;\n",
       "    }\n",
       "</style>\n",
       "<table border=\"1\" class=\"dataframe\">\n",
       "  <thead>\n",
       "    <tr style=\"text-align: right;\">\n",
       "      <th></th>\n",
       "      <th>vif</th>\n",
       "      <th>feature</th>\n",
       "    </tr>\n",
       "  </thead>\n",
       "  <tbody>\n",
       "    <tr>\n",
       "      <th>0</th>\n",
       "      <td>1.689797</td>\n",
       "      <td>Pclass</td>\n",
       "    </tr>\n",
       "    <tr>\n",
       "      <th>1</th>\n",
       "      <td>1.098853</td>\n",
       "      <td>Sex</td>\n",
       "    </tr>\n",
       "    <tr>\n",
       "      <th>2</th>\n",
       "      <td>1.204918</td>\n",
       "      <td>Age</td>\n",
       "    </tr>\n",
       "    <tr>\n",
       "      <th>3</th>\n",
       "      <td>1.273296</td>\n",
       "      <td>SibSp</td>\n",
       "    </tr>\n",
       "    <tr>\n",
       "      <th>4</th>\n",
       "      <td>1.315167</td>\n",
       "      <td>Parch</td>\n",
       "    </tr>\n",
       "    <tr>\n",
       "      <th>5</th>\n",
       "      <td>1.604206</td>\n",
       "      <td>Fare</td>\n",
       "    </tr>\n",
       "  </tbody>\n",
       "</table>\n",
       "</div>"
      ],
      "text/plain": [
       "        vif feature\n",
       "0  1.689797  Pclass\n",
       "1  1.098853     Sex\n",
       "2  1.204918     Age\n",
       "3  1.273296   SibSp\n",
       "4  1.315167   Parch\n",
       "5  1.604206    Fare"
      ]
     },
     "execution_count": 48,
     "metadata": {},
     "output_type": "execute_result"
    }
   ],
   "source": [
    "vif"
   ]
  },
  {
   "cell_type": "code",
   "execution_count": 49,
   "id": "977f02cb",
   "metadata": {},
   "outputs": [],
   "source": [
    "# Observation\n",
    "#  all vif values are less than 5. so no multicolinearity is here. i can go ahead with all feature in dataset.  "
   ]
  },
  {
   "cell_type": "code",
   "execution_count": 50,
   "id": "c657f039",
   "metadata": {},
   "outputs": [],
   "source": [
    "# cheking how distribute the data"
   ]
  },
  {
   "cell_type": "code",
   "execution_count": 51,
   "id": "dea3a2ed",
   "metadata": {},
   "outputs": [
    {
     "data": {
      "image/png": "[encoded data removed]",
      "text/plain": [
       "<Figure size 720x864 with 6 Axes>"
      ]
     },
     "metadata": {
      "needs_background": "light"
     },
     "output_type": "display_data"
    }
   ],
   "source": [
    "plt.figure(figsize=(10,12))\n",
    "plotnumber=1\n",
    "for i in x:\n",
    "    ax=plt.subplot(3,3,plotnumber)\n",
    "    sns.distplot(x[i])\n",
    "    plt.xlabel(i, fontsize=10)\n",
    "    \n",
    "    plotnumber+=1\n",
    "plt.show()"
   ]
  },
  {
   "cell_type": "code",
   "execution_count": 52,
   "id": "840fda03",
   "metadata": {},
   "outputs": [
    {
     "data": {
      "text/plain": [
       "<AxesSubplot:xlabel='Pclass', ylabel='Survived'>"
      ]
     },
     "execution_count": 52,
     "metadata": {},
     "output_type": "execute_result"
    },
    {
     "data": {
      "image/png": "[encoded data removed]",
      "text/plain": [
       "<Figure size 432x288 with 1 Axes>"
      ]
     },
     "metadata": {
      "needs_background": "light"
     },
     "output_type": "display_data"
    }
   ],
   "source": [
    "sns.scatterplot(x['Pclass'],y)"
   ]
  },
  {
   "cell_type": "code",
   "execution_count": 53,
   "id": "e5dad037",
   "metadata": {},
   "outputs": [],
   "source": [
    "# Pclass- data is normal distributed"
   ]
  },
  {
   "cell_type": "code",
   "execution_count": 54,
   "id": "167f3461",
   "metadata": {},
   "outputs": [
    {
     "data": {
      "text/plain": [
       "<AxesSubplot:xlabel='Sex', ylabel='Survived'>"
      ]
     },
     "execution_count": 54,
     "metadata": {},
     "output_type": "execute_result"
    },
    {
     "data": {
      "image/png": "[encoded data removed]",
      "text/plain": [
       "<Figure size 432x288 with 1 Axes>"
      ]
     },
     "metadata": {
      "needs_background": "light"
     },
     "output_type": "display_data"
    }
   ],
   "source": [
    "sns.scatterplot(x['Sex'],y)"
   ]
  },
  {
   "cell_type": "code",
   "execution_count": 55,
   "id": "d1403673",
   "metadata": {},
   "outputs": [],
   "source": [
    "# Sex- Data narmal distributed "
   ]
  },
  {
   "cell_type": "code",
   "execution_count": 56,
   "id": "c4e275da",
   "metadata": {},
   "outputs": [
    {
     "data": {
      "text/plain": [
       "<AxesSubplot:xlabel='Age', ylabel='Survived'>"
      ]
     },
     "execution_count": 56,
     "metadata": {},
     "output_type": "execute_result"
    },
    {
     "data": {
      "image/png": "[encoded data removed]",
      "text/plain": [
       "<Figure size 432x288 with 1 Axes>"
      ]
     },
     "metadata": {
      "needs_background": "light"
     },
     "output_type": "display_data"
    }
   ],
   "source": [
    "sns.scatterplot(x['Age'],y)"
   ]
  },
  {
   "cell_type": "code",
   "execution_count": 57,
   "id": "8b12facd",
   "metadata": {},
   "outputs": [],
   "source": [
    "# Age- data is normal equal distributed "
   ]
  },
  {
   "cell_type": "code",
   "execution_count": 58,
   "id": "73b601ca",
   "metadata": {},
   "outputs": [
    {
     "data": {
      "text/plain": [
       "<AxesSubplot:xlabel='SibSp', ylabel='Survived'>"
      ]
     },
     "execution_count": 58,
     "metadata": {},
     "output_type": "execute_result"
    },
    {
     "data": {
      "image/png": "[encoded data removed]",
      "text/plain": [
       "<Figure size 432x288 with 1 Axes>"
      ]
     },
     "metadata": {
      "needs_background": "light"
     },
     "output_type": "display_data"
    }
   ],
   "source": [
    "sns.scatterplot(x['SibSp'],y)"
   ]
  },
  {
   "cell_type": "code",
   "execution_count": 59,
   "id": "66b6bf5a",
   "metadata": {},
   "outputs": [],
   "source": [
    "# SinSp- data is noramaly distributed up to 5"
   ]
  },
  {
   "cell_type": "code",
   "execution_count": 60,
   "id": "75744fa1",
   "metadata": {},
   "outputs": [
    {
     "data": {
      "text/plain": [
       "<AxesSubplot:xlabel='Parch', ylabel='Survived'>"
      ]
     },
     "execution_count": 60,
     "metadata": {},
     "output_type": "execute_result"
    },
    {
     "data": {
      "image/png": "[encoded data removed]",
      "text/plain": [
       "<Figure size 432x288 with 1 Axes>"
      ]
     },
     "metadata": {
      "needs_background": "light"
     },
     "output_type": "display_data"
    }
   ],
   "source": [
    "sns.scatterplot(x['Parch'],y)"
   ]
  },
  {
   "cell_type": "code",
   "execution_count": 61,
   "id": "ce08fadc",
   "metadata": {},
   "outputs": [],
   "source": [
    "# Parch-data is noramaly distributed"
   ]
  },
  {
   "cell_type": "code",
   "execution_count": 62,
   "id": "007e2717",
   "metadata": {},
   "outputs": [
    {
     "data": {
      "text/plain": [
       "<AxesSubplot:xlabel='Fare', ylabel='Survived'>"
      ]
     },
     "execution_count": 62,
     "metadata": {},
     "output_type": "execute_result"
    },
    {
     "data": {
      "image/png": "[encoded data removed]",
      "text/plain": [
       "<Figure size 432x288 with 1 Axes>"
      ]
     },
     "metadata": {
      "needs_background": "light"
     },
     "output_type": "display_data"
    }
   ],
   "source": [
    "sns.scatterplot(x['Fare'],y)"
   ]
  },
  {
   "cell_type": "code",
   "execution_count": 63,
   "id": "0337e2e5",
   "metadata": {},
   "outputs": [],
   "source": [
    "# Fare-data is normally distributed"
   ]
  },
  {
   "cell_type": "code",
   "execution_count": 64,
   "id": "c2f0e889",
   "metadata": {},
   "outputs": [],
   "source": [
    "# cheking Outlier"
   ]
  },
  {
   "cell_type": "code",
   "execution_count": 65,
   "id": "829fe94c",
   "metadata": {},
   "outputs": [
    {
     "data": {
      "image/png": "[encoded data removed]",
      "text/plain": [
       "<Figure size 720x864 with 6 Axes>"
      ]
     },
     "metadata": {
      "needs_background": "light"
     },
     "output_type": "display_data"
    }
   ],
   "source": [
    "plt.figure(figsize=(10,12))\n",
    "plotnumber=1\n",
    "for i in x:\n",
    "    ax=plt.subplot(3,3,plotnumber)\n",
    "    sns.boxplot(x[i])\n",
    "    plt.xlabel(i, fontsize=10)\n",
    "    \n",
    "    plotnumber+=1\n",
    "plt.show()"
   ]
  },
  {
   "cell_type": "code",
   "execution_count": 66,
   "id": "7cf54532",
   "metadata": {},
   "outputs": [],
   "source": [
    "#  Find Outlier & drop "
   ]
  },
  {
   "cell_type": "code",
   "execution_count": 67,
   "id": "468369d5",
   "metadata": {},
   "outputs": [],
   "source": [
    "q3=data.quantile(0.75)"
   ]
  },
  {
   "cell_type": "code",
   "execution_count": 68,
   "id": "cd34abfd",
   "metadata": {},
   "outputs": [],
   "source": [
    "q1=data.quantile(0.25)"
   ]
  },
  {
   "cell_type": "code",
   "execution_count": 69,
   "id": "8e999cf7",
   "metadata": {},
   "outputs": [],
   "source": [
    "iqr=q3-q1"
   ]
  },
  {
   "cell_type": "code",
   "execution_count": 70,
   "id": "b66557f4",
   "metadata": {},
   "outputs": [],
   "source": [
    "pred_high=q3.Age + (1.5*iqr.Age)"
   ]
  },
  {
   "cell_type": "code",
   "execution_count": 71,
   "id": "223a2b72",
   "metadata": {},
   "outputs": [],
   "source": [
    "index=np.where(data['Age']>pred_high) # find the index of outlier"
   ]
  },
  {
   "cell_type": "code",
   "execution_count": 72,
   "id": "25c98c8e",
   "metadata": {},
   "outputs": [
    {
     "data": {
      "text/plain": [
       "(array([ 11,  15,  33,  54,  94,  96, 116, 152, 170, 174, 195, 232, 252,\n",
       "        268, 275, 280, 326, 366, 438, 456, 467, 483, 487, 492, 493, 545,\n",
       "        555, 570, 587, 625, 626, 630, 647, 659, 672, 684, 694, 745, 772,\n",
       "        829, 851, 879], dtype=int64),)"
      ]
     },
     "execution_count": 72,
     "metadata": {},
     "output_type": "execute_result"
    }
   ],
   "source": [
    "index"
   ]
  },
  {
   "cell_type": "code",
   "execution_count": 73,
   "id": "ad4d460a",
   "metadata": {},
   "outputs": [],
   "source": [
    "data=data.drop(data.index[index])"
   ]
  },
  {
   "cell_type": "code",
   "execution_count": 74,
   "id": "44b10e9f",
   "metadata": {},
   "outputs": [],
   "source": [
    "pred_low=q1.Age - (1.5*iqr.Age)"
   ]
  },
  {
   "cell_type": "code",
   "execution_count": 75,
   "id": "07544c83",
   "metadata": {},
   "outputs": [],
   "source": [
    "index1=np.where(x['Age']<pred_low)  # index of lower outlier index"
   ]
  },
  {
   "cell_type": "code",
   "execution_count": 76,
   "id": "a4f8831f",
   "metadata": {},
   "outputs": [],
   "source": [
    "data=data.drop(data.index[index1])  # drop the index"
   ]
  },
  {
   "cell_type": "code",
   "execution_count": 77,
   "id": "fff2f085",
   "metadata": {},
   "outputs": [],
   "source": [
    "# Drop outlier in SibSp column\n",
    "pred_high1=q3.SibSp + (1.5*iqr.SibSp)\n",
    "index=np.where(data['SibSp']>pred_high1) # find the index of outlier\n",
    "data=data.drop(data.index[index])"
   ]
  },
  {
   "cell_type": "code",
   "execution_count": 78,
   "id": "21e658f1",
   "metadata": {},
   "outputs": [],
   "source": [
    "# Drop Outlier in Parch\n",
    "pred_high2=q3.Parch + (1.5*iqr.Parch)\n",
    "index=np.where(data['Parch']>pred_high2) # find the index of outlier\n",
    "data=data.drop(data.index[index])"
   ]
  },
  {
   "cell_type": "code",
   "execution_count": 79,
   "id": "7584e139",
   "metadata": {},
   "outputs": [],
   "source": [
    "# Drop outlier Fare\n",
    "pred_high3=q3.Fare + (1.5*iqr.Fare)\n",
    "index=np.where(data['Fare']>pred_high3) # find the index of outlier\n",
    "data=data.drop(data.index[index])"
   ]
  },
  {
   "cell_type": "code",
   "execution_count": 80,
   "id": "c913ff8b",
   "metadata": {},
   "outputs": [
    {
     "data": {
      "text/plain": [
       "(562, 7)"
      ]
     },
     "execution_count": 80,
     "metadata": {},
     "output_type": "execute_result"
    }
   ],
   "source": [
    "data.shape"
   ]
  },
  {
   "cell_type": "code",
   "execution_count": null,
   "id": "b6fa4996",
   "metadata": {},
   "outputs": [],
   "source": []
  },
  {
   "cell_type": "code",
   "execution_count": null,
   "id": "323df523",
   "metadata": {},
   "outputs": [],
   "source": []
  },
  {
   "cell_type": "code",
   "execution_count": null,
   "id": "667e48b7",
   "metadata": {},
   "outputs": [],
   "source": []
  },
  {
   "cell_type": "code",
   "execution_count": null,
   "id": "76ecfd12",
   "metadata": {},
   "outputs": [],
   "source": []
  },
  {
   "cell_type": "code",
   "execution_count": null,
   "id": "f32ae69b",
   "metadata": {},
   "outputs": [],
   "source": []
  },
  {
   "cell_type": "code",
   "execution_count": null,
   "id": "99a541b4",
   "metadata": {},
   "outputs": [],
   "source": []
  },
  {
   "cell_type": "code",
   "execution_count": null,
   "id": "2b7d2016",
   "metadata": {},
   "outputs": [],
   "source": []
  },
  {
   "cell_type": "code",
   "execution_count": null,
   "id": "5b3da63c",
   "metadata": {},
   "outputs": [],
   "source": []
  },
  {
   "cell_type": "code",
   "execution_count": null,
   "id": "b23efb8e",
   "metadata": {},
   "outputs": [],
   "source": []
  },
  {
   "cell_type": "code",
   "execution_count": null,
   "id": "2c88afcf",
   "metadata": {},
   "outputs": [],
   "source": []
  },
  {
   "cell_type": "code",
   "execution_count": null,
   "id": "ae0a5c4b",
   "metadata": {},
   "outputs": [],
   "source": []
  },
  {
   "cell_type": "code",
   "execution_count": null,
   "id": "c4e815bb",
   "metadata": {},
   "outputs": [],
   "source": []
  },
  {
   "cell_type": "code",
   "execution_count": null,
   "id": "1805bc56",
   "metadata": {},
   "outputs": [],
   "source": []
  },
  {
   "cell_type": "code",
   "execution_count": 81,
   "id": "4413b1f7",
   "metadata": {},
   "outputs": [
    {
     "data": {
      "image/png": "[encoded data removed]",
      "text/plain": [
       "<Figure size 720x864 with 6 Axes>"
      ]
     },
     "metadata": {
      "needs_background": "light"
     },
     "output_type": "display_data"
    }
   ],
   "source": [
    "plt.figure(figsize=(10,12))\n",
    "plotnumber=1\n",
    "for i in x:\n",
    "    ax=plt.subplot(3,3,plotnumber)\n",
    "    sns.boxplot(x[i])\n",
    "    plt.xlabel(i, fontsize=10)\n",
    "    \n",
    "    plotnumber+=1\n",
    "plt.show()"
   ]
  },
  {
   "cell_type": "code",
   "execution_count": null,
   "id": "4a1d21b1",
   "metadata": {},
   "outputs": [],
   "source": []
  },
  {
   "cell_type": "code",
   "execution_count": 82,
   "id": "3ddbf10c",
   "metadata": {},
   "outputs": [],
   "source": [
    "# find skewness"
   ]
  },
  {
   "cell_type": "code",
   "execution_count": 83,
   "id": "d3143108",
   "metadata": {},
   "outputs": [
    {
     "data": {
      "text/plain": [
       "SibSp       2.076918\n",
       "Fare        1.863522\n",
       "Sex         1.208051\n",
       "Survived    0.871505\n",
       "Age         0.651113\n",
       "Parch       0.000000\n",
       "Pclass     -1.075070\n",
       "dtype: float64"
      ]
     },
     "execution_count": 83,
     "metadata": {},
     "output_type": "execute_result"
    }
   ],
   "source": [
    "data.skew().sort_values(ascending=False)"
   ]
  },
  {
   "cell_type": "code",
   "execution_count": 84,
   "id": "c6ed442d",
   "metadata": {},
   "outputs": [],
   "source": [
    "# All data columns has skewness.\n",
    "# more skewness is have in fare columns\n"
   ]
  },
  {
   "cell_type": "code",
   "execution_count": 85,
   "id": "4f8d589c",
   "metadata": {},
   "outputs": [],
   "source": [
    "# minimise the skewness"
   ]
  },
  {
   "cell_type": "code",
   "execution_count": 86,
   "id": "8d72a9ff",
   "metadata": {},
   "outputs": [],
   "source": [
    "from sklearn.preprocessing import power_transform,PowerTransformer"
   ]
  },
  {
   "cell_type": "code",
   "execution_count": 87,
   "id": "31f3ea2e",
   "metadata": {},
   "outputs": [],
   "source": [
    "pt=PowerTransformer()"
   ]
  },
  {
   "cell_type": "code",
   "execution_count": 88,
   "id": "712e3564",
   "metadata": {},
   "outputs": [],
   "source": [
    "x_new=pt.fit_transform(x)"
   ]
  },
  {
   "cell_type": "code",
   "execution_count": 89,
   "id": "05298b09",
   "metadata": {},
   "outputs": [
    {
     "data": {
      "text/plain": [
       "Parch     1.228795\n",
       "SibSp     0.808608\n",
       "Sex       0.618921\n",
       "Fare      0.220126\n",
       "Age       0.064420\n",
       "Pclass   -0.441438\n",
       "dtype: float64"
      ]
     },
     "execution_count": 89,
     "metadata": {},
     "output_type": "execute_result"
    }
   ],
   "source": [
    "x=pd.DataFrame(x_new,columns=x.columns)\n",
    "x.skew().sort_values(ascending=False)"
   ]
  },
  {
   "cell_type": "code",
   "execution_count": 90,
   "id": "3d2e38e9",
   "metadata": {},
   "outputs": [],
   "source": [
    "# Now skewness is minimize."
   ]
  },
  {
   "cell_type": "code",
   "execution_count": 91,
   "id": "8287f6a0",
   "metadata": {},
   "outputs": [],
   "source": [
    "# cheking Outlier"
   ]
  },
  {
   "cell_type": "code",
   "execution_count": 92,
   "id": "eddf0c94",
   "metadata": {},
   "outputs": [
    {
     "data": {
      "image/png": "[encoded data removed]",
      "text/plain": [
       "<Figure size 720x864 with 6 Axes>"
      ]
     },
     "metadata": {
      "needs_background": "light"
     },
     "output_type": "display_data"
    }
   ],
   "source": [
    "plt.figure(figsize=(10,12))\n",
    "plotnumber=1\n",
    "for i in x:\n",
    "    ax=plt.subplot(3,3,plotnumber)\n",
    "    sns.boxplot(x[i])\n",
    "    plt.xlabel(i, fontsize=10)\n",
    "    \n",
    "    plotnumber+=1\n",
    "plt.show()"
   ]
  },
  {
   "cell_type": "code",
   "execution_count": null,
   "id": "0b751314",
   "metadata": {},
   "outputs": [],
   "source": []
  },
  {
   "cell_type": "code",
   "execution_count": 93,
   "id": "1cad45fd",
   "metadata": {},
   "outputs": [],
   "source": [
    "# I have seen here some outlier is showing in the dataset\n",
    "#  heandling outlier using by zscore"
   ]
  },
  {
   "cell_type": "code",
   "execution_count": 94,
   "id": "6b3d6975",
   "metadata": {},
   "outputs": [],
   "source": [
    "from scipy.stats import zscore"
   ]
  },
  {
   "cell_type": "code",
   "execution_count": 95,
   "id": "f2240a2b",
   "metadata": {},
   "outputs": [],
   "source": [
    "zs=zscore(x)"
   ]
  },
  {
   "cell_type": "code",
   "execution_count": 96,
   "id": "3ddc8715",
   "metadata": {},
   "outputs": [
    {
     "data": {
      "text/html": [
       "<div>\n",
       "<style scoped>\n",
       "    .dataframe tbody tr th:only-of-type {\n",
       "        vertical-align: middle;\n",
       "    }\n",
       "\n",
       "    .dataframe tbody tr th {\n",
       "        vertical-align: top;\n",
       "    }\n",
       "\n",
       "    .dataframe thead th {\n",
       "        text-align: right;\n",
       "    }\n",
       "</style>\n",
       "<table border=\"1\" class=\"dataframe\">\n",
       "  <thead>\n",
       "    <tr style=\"text-align: right;\">\n",
       "      <th></th>\n",
       "      <th>Pclass</th>\n",
       "      <th>Sex</th>\n",
       "      <th>Age</th>\n",
       "      <th>SibSp</th>\n",
       "      <th>Parch</th>\n",
       "      <th>Fare</th>\n",
       "    </tr>\n",
       "  </thead>\n",
       "  <tbody>\n",
       "    <tr>\n",
       "      <th>0</th>\n",
       "      <td>0.863973</td>\n",
       "      <td>0.737695</td>\n",
       "      <td>0.556267</td>\n",
       "      <td>1.373636</td>\n",
       "      <td>0.560253</td>\n",
       "      <td>1.235534</td>\n",
       "    </tr>\n",
       "    <tr>\n",
       "      <th>1</th>\n",
       "      <td>1.459129</td>\n",
       "      <td>1.355574</td>\n",
       "      <td>0.657269</td>\n",
       "      <td>1.373636</td>\n",
       "      <td>0.560253</td>\n",
       "      <td>1.378913</td>\n",
       "    </tr>\n",
       "    <tr>\n",
       "      <th>2</th>\n",
       "      <td>0.863973</td>\n",
       "      <td>1.355574</td>\n",
       "      <td>0.241577</td>\n",
       "      <td>0.679850</td>\n",
       "      <td>0.560253</td>\n",
       "      <td>1.075612</td>\n",
       "    </tr>\n",
       "    <tr>\n",
       "      <th>3</th>\n",
       "      <td>1.459129</td>\n",
       "      <td>1.355574</td>\n",
       "      <td>0.437923</td>\n",
       "      <td>1.373636</td>\n",
       "      <td>0.560253</td>\n",
       "      <td>1.184347</td>\n",
       "    </tr>\n",
       "    <tr>\n",
       "      <th>4</th>\n",
       "      <td>0.863973</td>\n",
       "      <td>0.737695</td>\n",
       "      <td>0.437923</td>\n",
       "      <td>0.679850</td>\n",
       "      <td>0.560253</td>\n",
       "      <td>1.048053</td>\n",
       "    </tr>\n",
       "    <tr>\n",
       "      <th>...</th>\n",
       "      <td>...</td>\n",
       "      <td>...</td>\n",
       "      <td>...</td>\n",
       "      <td>...</td>\n",
       "      <td>...</td>\n",
       "      <td>...</td>\n",
       "    </tr>\n",
       "    <tr>\n",
       "      <th>886</th>\n",
       "      <td>0.592604</td>\n",
       "      <td>0.737695</td>\n",
       "      <td>0.164262</td>\n",
       "      <td>0.679850</td>\n",
       "      <td>0.560253</td>\n",
       "      <td>0.283773</td>\n",
       "    </tr>\n",
       "    <tr>\n",
       "      <th>887</th>\n",
       "      <td>1.459129</td>\n",
       "      <td>1.355574</td>\n",
       "      <td>0.798775</td>\n",
       "      <td>0.679850</td>\n",
       "      <td>0.560253</td>\n",
       "      <td>0.709348</td>\n",
       "    </tr>\n",
       "    <tr>\n",
       "      <th>888</th>\n",
       "      <td>0.863973</td>\n",
       "      <td>1.355574</td>\n",
       "      <td>0.042001</td>\n",
       "      <td>1.373636</td>\n",
       "      <td>1.846856</td>\n",
       "      <td>0.457449</td>\n",
       "    </tr>\n",
       "    <tr>\n",
       "      <th>889</th>\n",
       "      <td>1.459129</td>\n",
       "      <td>0.737695</td>\n",
       "      <td>0.241577</td>\n",
       "      <td>0.679850</td>\n",
       "      <td>0.560253</td>\n",
       "      <td>0.709348</td>\n",
       "    </tr>\n",
       "    <tr>\n",
       "      <th>890</th>\n",
       "      <td>0.863973</td>\n",
       "      <td>0.737695</td>\n",
       "      <td>0.215254</td>\n",
       "      <td>0.679850</td>\n",
       "      <td>0.560253</td>\n",
       "      <td>1.115222</td>\n",
       "    </tr>\n",
       "  </tbody>\n",
       "</table>\n",
       "<p>891 rows × 6 columns</p>\n",
       "</div>"
      ],
      "text/plain": [
       "       Pclass       Sex       Age     SibSp     Parch      Fare\n",
       "0    0.863973  0.737695  0.556267  1.373636  0.560253  1.235534\n",
       "1    1.459129  1.355574  0.657269  1.373636  0.560253  1.378913\n",
       "2    0.863973  1.355574  0.241577  0.679850  0.560253  1.075612\n",
       "3    1.459129  1.355574  0.437923  1.373636  0.560253  1.184347\n",
       "4    0.863973  0.737695  0.437923  0.679850  0.560253  1.048053\n",
       "..        ...       ...       ...       ...       ...       ...\n",
       "886  0.592604  0.737695  0.164262  0.679850  0.560253  0.283773\n",
       "887  1.459129  1.355574  0.798775  0.679850  0.560253  0.709348\n",
       "888  0.863973  1.355574  0.042001  1.373636  1.846856  0.457449\n",
       "889  1.459129  0.737695  0.241577  0.679850  0.560253  0.709348\n",
       "890  0.863973  0.737695  0.215254  0.679850  0.560253  1.115222\n",
       "\n",
       "[891 rows x 6 columns]"
      ]
     },
     "execution_count": 96,
     "metadata": {},
     "output_type": "execute_result"
    }
   ],
   "source": [
    "np.abs(zs)"
   ]
  },
  {
   "cell_type": "code",
   "execution_count": 97,
   "id": "6c0af922",
   "metadata": {},
   "outputs": [
    {
     "data": {
      "text/plain": [
       "True"
      ]
     },
     "execution_count": 97,
     "metadata": {},
     "output_type": "execute_result"
    }
   ],
   "source": [
    "(np.abs(zs)).all().all()"
   ]
  },
  {
   "cell_type": "code",
   "execution_count": 98,
   "id": "f72e9715",
   "metadata": {},
   "outputs": [
    {
     "data": {
      "text/plain": [
       "False"
      ]
     },
     "execution_count": 98,
     "metadata": {},
     "output_type": "execute_result"
    }
   ],
   "source": [
    "(np.abs(zs)<3).all().all() # we choose threshold is 2 in Age column"
   ]
  },
  {
   "cell_type": "code",
   "execution_count": 99,
   "id": "9bf7f656",
   "metadata": {},
   "outputs": [
    {
     "data": {
      "text/plain": [
       "False"
      ]
     },
     "execution_count": 99,
     "metadata": {},
     "output_type": "execute_result"
    }
   ],
   "source": [
    "(np.abs(zs)<3).all().all()"
   ]
  },
  {
   "cell_type": "code",
   "execution_count": 100,
   "id": "d42359fd",
   "metadata": {},
   "outputs": [],
   "source": [
    "#  Find Outlier & drop "
   ]
  },
  {
   "cell_type": "code",
   "execution_count": 101,
   "id": "53a1da76",
   "metadata": {},
   "outputs": [],
   "source": [
    "# q3=data.quantile(0.75)"
   ]
  },
  {
   "cell_type": "code",
   "execution_count": 102,
   "id": "71d69069",
   "metadata": {},
   "outputs": [],
   "source": [
    "# q3"
   ]
  },
  {
   "cell_type": "code",
   "execution_count": 103,
   "id": "fc31df6e",
   "metadata": {},
   "outputs": [],
   "source": [
    "# q1=data.quantile(0.25)"
   ]
  },
  {
   "cell_type": "code",
   "execution_count": 104,
   "id": "a789215d",
   "metadata": {},
   "outputs": [],
   "source": [
    "# q1"
   ]
  },
  {
   "cell_type": "code",
   "execution_count": 105,
   "id": "b1364c77",
   "metadata": {},
   "outputs": [],
   "source": [
    "# iqr=q3-q1"
   ]
  },
  {
   "cell_type": "code",
   "execution_count": 106,
   "id": "5272f16b",
   "metadata": {},
   "outputs": [],
   "source": [
    "# iqr"
   ]
  },
  {
   "cell_type": "raw",
   "id": "24b4598a",
   "metadata": {},
   "source": []
  },
  {
   "cell_type": "code",
   "execution_count": 107,
   "id": "514f72ec",
   "metadata": {},
   "outputs": [],
   "source": [
    "pred_high=q3.Age + (1.5*iqr.Age)"
   ]
  },
  {
   "cell_type": "code",
   "execution_count": 108,
   "id": "67b6e2e4",
   "metadata": {},
   "outputs": [
    {
     "data": {
      "text/plain": [
       "54.5"
      ]
     },
     "execution_count": 108,
     "metadata": {},
     "output_type": "execute_result"
    }
   ],
   "source": [
    "pred_high   #higher value of outlier in Age"
   ]
  },
  {
   "cell_type": "code",
   "execution_count": 109,
   "id": "399755d2",
   "metadata": {},
   "outputs": [],
   "source": [
    "index=np.where(data['Age']>pred_high) # find the index of outlier"
   ]
  },
  {
   "cell_type": "code",
   "execution_count": 110,
   "id": "fc21cba1",
   "metadata": {},
   "outputs": [
    {
     "data": {
      "text/plain": [
       "(array([], dtype=int64),)"
      ]
     },
     "execution_count": 110,
     "metadata": {},
     "output_type": "execute_result"
    }
   ],
   "source": [
    "index"
   ]
  },
  {
   "cell_type": "code",
   "execution_count": 111,
   "id": "0a72101b",
   "metadata": {},
   "outputs": [],
   "source": [
    "# data=data.drop(data.index[index])"
   ]
  },
  {
   "cell_type": "code",
   "execution_count": 112,
   "id": "1a771cf7",
   "metadata": {},
   "outputs": [],
   "source": [
    "# pred_low=q1.Age - (1.5*iqr.Age)"
   ]
  },
  {
   "cell_type": "code",
   "execution_count": 113,
   "id": "18944026",
   "metadata": {},
   "outputs": [],
   "source": [
    "# pred_low # lower value of outlier in Age "
   ]
  },
  {
   "cell_type": "code",
   "execution_count": 114,
   "id": "fbe44b03",
   "metadata": {},
   "outputs": [],
   "source": [
    "# index1=np.where(x['Age']<pred_low)  # index of lower outlier index"
   ]
  },
  {
   "cell_type": "code",
   "execution_count": 115,
   "id": "0cc38946",
   "metadata": {},
   "outputs": [],
   "source": [
    "# index1"
   ]
  },
  {
   "cell_type": "code",
   "execution_count": 116,
   "id": "c1623db2",
   "metadata": {},
   "outputs": [],
   "source": [
    "# data=data.drop(data.index[index1])  # drop the index"
   ]
  },
  {
   "cell_type": "code",
   "execution_count": 117,
   "id": "b7e9e070",
   "metadata": {},
   "outputs": [],
   "source": [
    "# plt.figure(figsize=(10,12))\n",
    "# plotnumber=1\n",
    "# for i in x:\n",
    "#     ax=plt.subplot(3,3,plotnumber)\n",
    "#     sns.boxplot(x[i])\n",
    "#     plt.xlabel(i, fontsize=10)\n",
    "    \n",
    "#     plotnumber+=1\n",
    "# plt.show()"
   ]
  },
  {
   "cell_type": "code",
   "execution_count": 118,
   "id": "92fe43e2",
   "metadata": {},
   "outputs": [
    {
     "data": {
      "text/plain": [
       "(891, 6)"
      ]
     },
     "execution_count": 118,
     "metadata": {},
     "output_type": "execute_result"
    }
   ],
   "source": [
    "x.shape # column no-6 & rows-812 after droping outlier\n"
   ]
  },
  {
   "cell_type": "code",
   "execution_count": 119,
   "id": "986272d1",
   "metadata": {},
   "outputs": [
    {
     "data": {
      "text/plain": [
       "(562, 7)"
      ]
     },
     "execution_count": 119,
     "metadata": {},
     "output_type": "execute_result"
    }
   ],
   "source": [
    "data.shape"
   ]
  },
  {
   "cell_type": "code",
   "execution_count": 120,
   "id": "8af38285",
   "metadata": {},
   "outputs": [],
   "source": [
    "# Observation\n",
    "# Delete the Outlier from the Age columns. Only outlier was shown in it column."
   ]
  },
  {
   "cell_type": "code",
   "execution_count": 121,
   "id": "c0e648ad",
   "metadata": {},
   "outputs": [],
   "source": [
    "# Model creation"
   ]
  },
  {
   "cell_type": "code",
   "execution_count": 122,
   "id": "e9d94abe",
   "metadata": {},
   "outputs": [],
   "source": [
    "from sklearn.linear_model import LinearRegression,LogisticRegression\n",
    "from sklearn.model_selection import train_test_split\n",
    "from sklearn.metrics import r2_score"
   ]
  },
  {
   "cell_type": "code",
   "execution_count": 123,
   "id": "e92fca79",
   "metadata": {},
   "outputs": [],
   "source": [
    "lr=LinearRegression()\n"
   ]
  },
  {
   "cell_type": "code",
   "execution_count": 124,
   "id": "8af3a75a",
   "metadata": {},
   "outputs": [
    {
     "data": {
      "text/plain": [
       "Index(['Pclass', 'Sex', 'Age', 'SibSp', 'Parch', 'Fare'], dtype='object')"
      ]
     },
     "execution_count": 124,
     "metadata": {},
     "output_type": "execute_result"
    }
   ],
   "source": [
    "x.columns"
   ]
  },
  {
   "cell_type": "code",
   "execution_count": 125,
   "id": "f9989106",
   "metadata": {},
   "outputs": [],
   "source": [
    "# maxAcc=0\n",
    "# maxRS=0\n",
    "# for i in range(1,200):\n",
    "#     x_train,x_test,y_train,y_test=train_test_split(x,y, test_size=0.25,random_state=i)\n",
    "#     x_train=lr.fit(x_train,y_train)\n",
    "#     pred_lr=lr.predict(x_test)\n",
    "#     acc=accuracy_score(y_test,pred_lr)\n",
    "#     print('testing score ',acc,'Random State  ',i)\n",
    "    \n",
    "#     if acc>maxAcc:\n",
    "#         maxAcc=acc\n",
    "#         maxRS=i\n",
    "#         print('Accuracy Score ', maxAcc, 'Random State  ',i)\n",
    "        \n",
    "    \n"
   ]
  },
  {
   "cell_type": "code",
   "execution_count": 126,
   "id": "92db2b24",
   "metadata": {},
   "outputs": [
    {
     "data": {
      "text/plain": [
       "891"
      ]
     },
     "execution_count": 126,
     "metadata": {},
     "output_type": "execute_result"
    }
   ],
   "source": [
    "len(x)"
   ]
  },
  {
   "cell_type": "code",
   "execution_count": 127,
   "id": "9b5eee59",
   "metadata": {},
   "outputs": [
    {
     "data": {
      "text/plain": [
       "891"
      ]
     },
     "execution_count": 127,
     "metadata": {},
     "output_type": "execute_result"
    }
   ],
   "source": [
    "len(y)"
   ]
  },
  {
   "cell_type": "code",
   "execution_count": 128,
   "id": "8b97d50e",
   "metadata": {},
   "outputs": [],
   "source": [
    "x_train,x_test,y_train,y_test=train_test_split(x,y, test_size=0.20,random_state=444)"
   ]
  },
  {
   "cell_type": "code",
   "execution_count": 129,
   "id": "100f6a8b",
   "metadata": {},
   "outputs": [],
   "source": [
    "lr=lr.fit(x_train,y_train)"
   ]
  },
  {
   "cell_type": "code",
   "execution_count": 130,
   "id": "3194074b",
   "metadata": {},
   "outputs": [],
   "source": [
    "pred_lr=lr.predict(x_test)"
   ]
  },
  {
   "cell_type": "code",
   "execution_count": 131,
   "id": "4f163bb5",
   "metadata": {},
   "outputs": [],
   "source": [
    "# pred_lr"
   ]
  },
  {
   "cell_type": "code",
   "execution_count": 132,
   "id": "def50af7",
   "metadata": {},
   "outputs": [
    {
     "data": {
      "text/plain": [
       "0.5007250955464696"
      ]
     },
     "execution_count": 132,
     "metadata": {},
     "output_type": "execute_result"
    }
   ],
   "source": [
    "r2_score(y_test,pred_lr)      # Model is working 50%"
   ]
  },
  {
   "cell_type": "code",
   "execution_count": 133,
   "id": "9d33f6d1",
   "metadata": {},
   "outputs": [],
   "source": [
    "# LogisticRegression model\n"
   ]
  },
  {
   "cell_type": "code",
   "execution_count": 134,
   "id": "df64b331",
   "metadata": {},
   "outputs": [],
   "source": [
    "logRg=LogisticRegression()"
   ]
  },
  {
   "cell_type": "code",
   "execution_count": 135,
   "id": "10ff8e50",
   "metadata": {},
   "outputs": [
    {
     "data": {
      "text/plain": [
       "0.3477732793522268"
      ]
     },
     "execution_count": 135,
     "metadata": {},
     "output_type": "execute_result"
    }
   ],
   "source": [
    "# Logistic Regretion model working 34% only\n",
    "x_train,x_test,y_train,y_test=train_test_split(x,y, test_size=0.20,random_state=444)\n",
    "logistReg=logRg.fit(x_train,y_train)\n",
    "pred_lr=logistReg.predict(x_test)\n",
    "r2_score(y_test,pred_lr)   "
   ]
  },
  {
   "cell_type": "code",
   "execution_count": 136,
   "id": "0b85647b",
   "metadata": {},
   "outputs": [],
   "source": [
    "from sklearn.ensemble import RandomForestRegressor"
   ]
  },
  {
   "cell_type": "code",
   "execution_count": 137,
   "id": "298a6883",
   "metadata": {},
   "outputs": [],
   "source": [
    "rf=RandomForestRegressor()"
   ]
  },
  {
   "cell_type": "code",
   "execution_count": 138,
   "id": "3b3e5616",
   "metadata": {},
   "outputs": [
    {
     "data": {
      "text/plain": [
       "0.6209958440047487"
      ]
     },
     "execution_count": 138,
     "metadata": {},
     "output_type": "execute_result"
    }
   ],
   "source": [
    "# Random forest model is working 63%\n",
    "x_train,x_test,y_train,y_test=train_test_split(x,y, test_size=0.20,random_state=444)\n",
    "rf=rf.fit(x_train,y_train)\n",
    "pred_rf=rf.predict(x_test)\n",
    "r2_score(y_test,pred_rf) "
   ]
  },
  {
   "cell_type": "code",
   "execution_count": 139,
   "id": "cc67a9e4",
   "metadata": {},
   "outputs": [],
   "source": [
    "from sklearn.neighbors import KNeighborsRegressor"
   ]
  },
  {
   "cell_type": "code",
   "execution_count": 140,
   "id": "bf2c4b3f",
   "metadata": {},
   "outputs": [],
   "source": [
    "knn=KNeighborsRegressor()"
   ]
  },
  {
   "cell_type": "code",
   "execution_count": 141,
   "id": "ab1be5e6",
   "metadata": {},
   "outputs": [
    {
     "data": {
      "text/plain": [
       "0.5767773279352226"
      ]
     },
     "execution_count": 141,
     "metadata": {},
     "output_type": "execute_result"
    }
   ],
   "source": [
    "# KNN model is working 58%\n",
    "x_train,x_test,y_train,y_test=train_test_split(x,y, test_size=0.20,random_state=444)\n",
    "knn=knn.fit(x_train,y_train)\n",
    "pred_knn=knn.predict(x_test)\n",
    "r2_score(y_test,pred_knn) "
   ]
  },
  {
   "cell_type": "code",
   "execution_count": 142,
   "id": "29d6cd6c",
   "metadata": {},
   "outputs": [],
   "source": [
    "# Use hyperperameter tuning "
   ]
  },
  {
   "cell_type": "code",
   "execution_count": 143,
   "id": "70e5a49e",
   "metadata": {},
   "outputs": [],
   "source": [
    "from sklearn.model_selection import GridSearchCV"
   ]
  },
  {
   "cell_type": "code",
   "execution_count": 144,
   "id": "cd0bff84",
   "metadata": {},
   "outputs": [],
   "source": [
    "param_grid={'algorithm':['kd-Tree','brute'],\n",
    "           'leaf_size':[3,4,5,6,7,8],\n",
    "           'n_neighbors':[3,5,7,8,9,22,23]}"
   ]
  },
  {
   "cell_type": "code",
   "execution_count": 145,
   "id": "f7251a69",
   "metadata": {},
   "outputs": [
    {
     "data": {
      "text/html": [
       "<style>#sk-container-id-1 {color: black;background-color: white;}#sk-container-id-1 pre{padding: 0;}#sk-container-id-1 div.sk-toggleable {background-color: white;}#sk-container-id-1 label.sk-toggleable__label {cursor: pointer;display: block;width: 100%;margin-bottom: 0;padding: 0.3em;box-sizing: border-box;text-align: center;}#sk-container-id-1 label.sk-toggleable__label-arrow:before {content: \"▸\";float: left;margin-right: 0.25em;color: #696969;}#sk-container-id-1 label.sk-toggleable__label-arrow:hover:before {color: black;}#sk-container-id-1 div.sk-estimator:hover label.sk-toggleable__label-arrow:before {color: black;}#sk-container-id-1 div.sk-toggleable__content {max-height: 0;max-width: 0;overflow: hidden;text-align: left;background-color: #f0f8ff;}#sk-container-id-1 div.sk-toggleable__content pre {margin: 0.2em;color: black;border-radius: 0.25em;background-color: #f0f8ff;}#sk-container-id-1 input.sk-toggleable__control:checked~div.sk-toggleable__content {max-height: 200px;max-width: 100%;overflow: auto;}#sk-container-id-1 input.sk-toggleable__control:checked~label.sk-toggleable__label-arrow:before {content: \"▾\";}#sk-container-id-1 div.sk-estimator input.sk-toggleable__control:checked~label.sk-toggleable__label {background-color: #d4ebff;}#sk-container-id-1 div.sk-label input.sk-toggleable__control:checked~label.sk-toggleable__label {background-color: #d4ebff;}#sk-container-id-1 input.sk-hidden--visually {border: 0;clip: rect(1px 1px 1px 1px);clip: rect(1px, 1px, 1px, 1px);height: 1px;margin: -1px;overflow: hidden;padding: 0;position: absolute;width: 1px;}#sk-container-id-1 div.sk-estimator {font-family: monospace;background-color: #f0f8ff;border: 1px dotted black;border-radius: 0.25em;box-sizing: border-box;margin-bottom: 0.5em;}#sk-container-id-1 div.sk-estimator:hover {background-color: #d4ebff;}#sk-container-id-1 div.sk-parallel-item::after {content: \"\";width: 100%;border-bottom: 1px solid gray;flex-grow: 1;}#sk-container-id-1 div.sk-label:hover label.sk-toggleable__label {background-color: #d4ebff;}#sk-container-id-1 div.sk-serial::before {content: \"\";position: absolute;border-left: 1px solid gray;box-sizing: border-box;top: 0;bottom: 0;left: 50%;z-index: 0;}#sk-container-id-1 div.sk-serial {display: flex;flex-direction: column;align-items: center;background-color: white;padding-right: 0.2em;padding-left: 0.2em;position: relative;}#sk-container-id-1 div.sk-item {position: relative;z-index: 1;}#sk-container-id-1 div.sk-parallel {display: flex;align-items: stretch;justify-content: center;background-color: white;position: relative;}#sk-container-id-1 div.sk-item::before, #sk-container-id-1 div.sk-parallel-item::before {content: \"\";position: absolute;border-left: 1px solid gray;box-sizing: border-box;top: 0;bottom: 0;left: 50%;z-index: -1;}#sk-container-id-1 div.sk-parallel-item {display: flex;flex-direction: column;z-index: 1;position: relative;background-color: white;}#sk-container-id-1 div.sk-parallel-item:first-child::after {align-self: flex-end;width: 50%;}#sk-container-id-1 div.sk-parallel-item:last-child::after {align-self: flex-start;width: 50%;}#sk-container-id-1 div.sk-parallel-item:only-child::after {width: 0;}#sk-container-id-1 div.sk-dashed-wrapped {border: 1px dashed gray;margin: 0 0.4em 0.5em 0.4em;box-sizing: border-box;padding-bottom: 0.4em;background-color: white;}#sk-container-id-1 div.sk-label label {font-family: monospace;font-weight: bold;display: inline-block;line-height: 1.2em;}#sk-container-id-1 div.sk-label-container {text-align: center;}#sk-container-id-1 div.sk-container {/* jupyter's `normalize.less` sets `[hidden] { display: none; }` but bootstrap.min.css set `[hidden] { display: none !important; }` so we also need the `!important` here to be able to override the default hidden behavior on the sphinx rendered scikit-learn.org. See: https://github.com/scikit-learn/scikit-learn/issues/21755 */display: inline-block !important;position: relative;}#sk-container-id-1 div.sk-text-repr-fallback {display: none;}</style><div id=\"sk-container-id-1\" class=\"sk-top-container\"><div class=\"sk-text-repr-fallback\"><pre>GridSearchCV(estimator=KNeighborsRegressor(),\n",
       "             param_grid={&#x27;algorithm&#x27;: [&#x27;kd-Tree&#x27;, &#x27;brute&#x27;],\n",
       "                         &#x27;leaf_size&#x27;: [3, 4, 5, 6, 7, 8],\n",
       "                         &#x27;n_neighbors&#x27;: [3, 5, 7, 8, 9, 22, 23]})</pre><b>In a Jupyter environment, please rerun this cell to show the HTML representation or trust the notebook. <br />On GitHub, the HTML representation is unable to render, please try loading this page with nbviewer.org.</b></div><div class=\"sk-container\" hidden><div class=\"sk-item sk-dashed-wrapped\"><div class=\"sk-label-container\"><div class=\"sk-label sk-toggleable\"><input class=\"sk-toggleable__control sk-hidden--visually\" id=\"sk-estimator-id-1\" type=\"checkbox\" ><label for=\"sk-estimator-id-1\" class=\"sk-toggleable__label sk-toggleable__label-arrow\">GridSearchCV</label><div class=\"sk-toggleable__content\"><pre>GridSearchCV(estimator=KNeighborsRegressor(),\n",
       "             param_grid={&#x27;algorithm&#x27;: [&#x27;kd-Tree&#x27;, &#x27;brute&#x27;],\n",
       "                         &#x27;leaf_size&#x27;: [3, 4, 5, 6, 7, 8],\n",
       "                         &#x27;n_neighbors&#x27;: [3, 5, 7, 8, 9, 22, 23]})</pre></div></div></div><div class=\"sk-parallel\"><div class=\"sk-parallel-item\"><div class=\"sk-item\"><div class=\"sk-label-container\"><div class=\"sk-label sk-toggleable\"><input class=\"sk-toggleable__control sk-hidden--visually\" id=\"sk-estimator-id-2\" type=\"checkbox\" ><label for=\"sk-estimator-id-2\" class=\"sk-toggleable__label sk-toggleable__label-arrow\">estimator: KNeighborsRegressor</label><div class=\"sk-toggleable__content\"><pre>KNeighborsRegressor()</pre></div></div></div><div class=\"sk-serial\"><div class=\"sk-item\"><div class=\"sk-estimator sk-toggleable\"><input class=\"sk-toggleable__control sk-hidden--visually\" id=\"sk-estimator-id-3\" type=\"checkbox\" ><label for=\"sk-estimator-id-3\" class=\"sk-toggleable__label sk-toggleable__label-arrow\">KNeighborsRegressor</label><div class=\"sk-toggleable__content\"><pre>KNeighborsRegressor()</pre></div></div></div></div></div></div></div></div></div></div>"
      ],
      "text/plain": [
       "GridSearchCV(estimator=KNeighborsRegressor(),\n",
       "             param_grid={'algorithm': ['kd-Tree', 'brute'],\n",
       "                         'leaf_size': [3, 4, 5, 6, 7, 8],\n",
       "                         'n_neighbors': [3, 5, 7, 8, 9, 22, 23]})"
      ]
     },
     "execution_count": 145,
     "metadata": {},
     "output_type": "execute_result"
    }
   ],
   "source": [
    "gridSearch=GridSearchCV(estimator=knn, param_grid=param_grid)\n",
    "gridSearch.fit(x_train,y_train)"
   ]
  },
  {
   "cell_type": "code",
   "execution_count": 146,
   "id": "150ef308",
   "metadata": {},
   "outputs": [
    {
     "data": {
      "text/plain": [
       "{'algorithm': 'brute', 'leaf_size': 3, 'n_neighbors': 23}"
      ]
     },
     "execution_count": 146,
     "metadata": {},
     "output_type": "execute_result"
    }
   ],
   "source": [
    "gridSearch.best_params_"
   ]
  },
  {
   "cell_type": "code",
   "execution_count": 147,
   "id": "959dc75a",
   "metadata": {},
   "outputs": [],
   "source": [
    "knn=KNeighborsRegressor(algorithm='brute',leaf_size=3, n_neighbors=23)"
   ]
  },
  {
   "cell_type": "code",
   "execution_count": 148,
   "id": "7fda3e3e",
   "metadata": {},
   "outputs": [
    {
     "data": {
      "text/plain": [
       "0.5363221927145916"
      ]
     },
     "execution_count": 148,
     "metadata": {},
     "output_type": "execute_result"
    }
   ],
   "source": [
    "x_train,x_test,y_train,y_test=train_test_split(x,y, test_size=0.20,random_state=444)\n",
    "knn=knn.fit(x_train,y_train)\n",
    "pred_knn=knn.predict(x_test)\n",
    "r2_score(y_test,pred_knn)"
   ]
  },
  {
   "cell_type": "code",
   "execution_count": 149,
   "id": "53530e06",
   "metadata": {},
   "outputs": [],
   "source": [
    "# Observation of KNN model\n",
    "# not increase the resukt after using best parameters"
   ]
  },
  {
   "cell_type": "code",
   "execution_count": 150,
   "id": "cba779f5",
   "metadata": {},
   "outputs": [],
   "source": [
    "from sklearn.tree import DecisionTreeRegressor"
   ]
  },
  {
   "cell_type": "code",
   "execution_count": 151,
   "id": "1c449a07",
   "metadata": {},
   "outputs": [],
   "source": [
    "dt=DecisionTreeRegressor()"
   ]
  },
  {
   "cell_type": "code",
   "execution_count": 152,
   "id": "61433027",
   "metadata": {},
   "outputs": [
    {
     "data": {
      "text/plain": [
       "0.3943652159244265"
      ]
     },
     "execution_count": 152,
     "metadata": {},
     "output_type": "execute_result"
    }
   ],
   "source": [
    "x_train,x_test,y_train,y_test=train_test_split(x,y, test_size=0.20,random_state=444)\n",
    "dt=dt.fit(x_train,y_train)\n",
    "pred_dt=dt.predict(x_test)\n",
    "r2_score(y_test,pred_dt)"
   ]
  },
  {
   "cell_type": "code",
   "execution_count": 153,
   "id": "c5cf23c4",
   "metadata": {},
   "outputs": [],
   "source": [
    "# using hyperperameter tuning in DecisionTreeRegressor"
   ]
  },
  {
   "cell_type": "code",
   "execution_count": 154,
   "id": "be7ab15e",
   "metadata": {},
   "outputs": [],
   "source": [
    "grid_paramm={'criterion':['gini','entropy'],\n",
    "            'max_depth':range(10,30),\n",
    "            'min_samples_leaf':range(2,150),\n",
    "            'min_samples_split':range(3,10),\n",
    "            'max_leaf_nodes':range(5,10)}"
   ]
  },
  {
   "cell_type": "code",
   "execution_count": 155,
   "id": "43f23c43",
   "metadata": {},
   "outputs": [],
   "source": [
    "grid_searh=GridSearchCV(estimator=dt, param_grid=grid_paramm,cv=5)"
   ]
  },
  {
   "cell_type": "code",
   "execution_count": 156,
   "id": "8ea875c8",
   "metadata": {},
   "outputs": [],
   "source": [
    "# grid_searh.fit(x_train,y_train)"
   ]
  },
  {
   "cell_type": "code",
   "execution_count": 157,
   "id": "0bc0bb36",
   "metadata": {},
   "outputs": [],
   "source": [
    "# grid_searh.best_params_"
   ]
  },
  {
   "cell_type": "code",
   "execution_count": null,
   "id": "61c6644c",
   "metadata": {},
   "outputs": [],
   "source": []
  },
  {
   "cell_type": "code",
   "execution_count": null,
   "id": "3f4c8634",
   "metadata": {},
   "outputs": [],
   "source": []
  },
  {
   "cell_type": "code",
   "execution_count": null,
   "id": "2be72363",
   "metadata": {},
   "outputs": [],
   "source": []
  },
  {
   "cell_type": "code",
   "execution_count": null,
   "id": "62dc7947",
   "metadata": {},
   "outputs": [],
   "source": []
  },
  {
   "cell_type": "code",
   "execution_count": 158,
   "id": "e8ebedba",
   "metadata": {},
   "outputs": [],
   "source": [
    "import pickle\n"
   ]
  },
  {
   "cell_type": "code",
   "execution_count": 160,
   "id": "328e481a",
   "metadata": {},
   "outputs": [],
   "source": [
    "pickle.dump(RandomForestRegressor,open('RandomForest','wb'))"
   ]
  },
  {
   "cell_type": "markdown",
   "id": "728bce76",
   "metadata": {},
   "source": [
    "### Final Model:- RandomForestRegressor model is working good"
   ]
  },
  {
   "cell_type": "code",
   "execution_count": null,
   "id": "34d00e6e",
   "metadata": {},
   "outputs": [],
   "source": []
  },
  {
   "cell_type": "code",
   "execution_count": null,
   "id": "9337bd1e",
   "metadata": {},
   "outputs": [],
   "source": [
    "# confusion_matrix(y_test,pred_lr)"
   ]
  },
  {
   "cell_type": "code",
   "execution_count": null,
   "id": "4719cf3f",
   "metadata": {},
   "outputs": [],
   "source": []
  },
  {
   "cell_type": "code",
   "execution_count": 161,
   "id": "3b651bfa",
   "metadata": {},
   "outputs": [
    {
     "data": {
      "text/plain": [
       "0    393\n",
       "1    169\n",
       "Name: Survived, dtype: int64"
      ]
     },
     "execution_count": 161,
     "metadata": {},
     "output_type": "execute_result"
    }
   ],
   "source": [
    "data['Survived'].value_counts() \n",
    "\n",
    "# I assume that 0 is survived & 1 is died checking how many survived & died are in the data set \n",
    "#  target value is imbalance in dataset."
   ]
  },
  {
   "cell_type": "code",
   "execution_count": 162,
   "id": "091ed44a",
   "metadata": {},
   "outputs": [
    {
     "data": {
      "text/plain": [
       "0    426\n",
       "1    136\n",
       "Name: Sex, dtype: int64"
      ]
     },
     "execution_count": 162,
     "metadata": {},
     "output_type": "execute_result"
    }
   ],
   "source": [
    "data['Sex'].value_counts() # 0 is male & 1 is female. here Sex column is two catagories."
   ]
  },
  {
   "cell_type": "code",
   "execution_count": null,
   "id": "e5e4d1fd",
   "metadata": {},
   "outputs": [],
   "source": [
    "# data['Embarked'].value_counts() # here is three catagories."
   ]
  },
  {
   "cell_type": "code",
   "execution_count": null,
   "id": "fe756045",
   "metadata": {},
   "outputs": [],
   "source": []
  }
 ],
 "metadata": {
  "kernelspec": {
   "display_name": "Python 3 (ipykernel)",
   "language": "python",
   "name": "python3"
  },
  "language_info": {
   "codemirror_mode": {
    "name": "ipython",
    "version": 3
   },
   "file_extension": ".py",
   "mimetype": "text/x-python",
   "name": "python",
   "nbconvert_exporter": "python",
   "pygments_lexer": "ipython3",
   "version": "3.9.12"
  }
 },
 "nbformat": 4,
 "nbformat_minor": 5
}
