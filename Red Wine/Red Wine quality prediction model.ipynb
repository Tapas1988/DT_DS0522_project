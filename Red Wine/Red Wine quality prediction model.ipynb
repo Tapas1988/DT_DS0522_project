{
 "cells": [
  {
   "cell_type": "code",
   "execution_count": 1,
   "id": "242e818e",
   "metadata": {},
   "outputs": [],
   "source": [
    "#  Link of the data:-    https://github.com/dsrscientist/DSData/blob/master/winequality-red.csv"
   ]
  },
  {
   "cell_type": "code",
   "execution_count": 2,
   "id": "1d9020ea",
   "metadata": {},
   "outputs": [],
   "source": [
    "import numpy as np\n",
    "import pandas as pd\n"
   ]
  },
  {
   "cell_type": "code",
   "execution_count": 3,
   "id": "3f3208f0",
   "metadata": {},
   "outputs": [],
   "source": [
    "data=pd.read_csv('https://raw.githubusercontent.com/dsrscientist/DSData/master/winequality-red.csv')"
   ]
  },
  {
   "cell_type": "code",
   "execution_count": 4,
   "id": "41034924",
   "metadata": {},
   "outputs": [],
   "source": [
    "# cheking sample of the data 5 rows"
   ]
  },
  {
   "cell_type": "code",
   "execution_count": 5,
   "id": "da3b7f77",
   "metadata": {},
   "outputs": [
    {
     "data": {
      "text/html": [
       "<div>\n",
       "<style scoped>\n",
       "    .dataframe tbody tr th:only-of-type {\n",
       "        vertical-align: middle;\n",
       "    }\n",
       "\n",
       "    .dataframe tbody tr th {\n",
       "        vertical-align: top;\n",
       "    }\n",
       "\n",
       "    .dataframe thead th {\n",
       "        text-align: right;\n",
       "    }\n",
       "</style>\n",
       "<table border=\"1\" class=\"dataframe\">\n",
       "  <thead>\n",
       "    <tr style=\"text-align: right;\">\n",
       "      <th></th>\n",
       "      <th>fixed acidity</th>\n",
       "      <th>volatile acidity</th>\n",
       "      <th>citric acid</th>\n",
       "      <th>residual sugar</th>\n",
       "      <th>chlorides</th>\n",
       "      <th>free sulfur dioxide</th>\n",
       "      <th>total sulfur dioxide</th>\n",
       "      <th>density</th>\n",
       "      <th>pH</th>\n",
       "      <th>sulphates</th>\n",
       "      <th>alcohol</th>\n",
       "      <th>quality</th>\n",
       "    </tr>\n",
       "  </thead>\n",
       "  <tbody>\n",
       "    <tr>\n",
       "      <th>434</th>\n",
       "      <td>10.4</td>\n",
       "      <td>0.41</td>\n",
       "      <td>0.55</td>\n",
       "      <td>3.2</td>\n",
       "      <td>0.076</td>\n",
       "      <td>22.0</td>\n",
       "      <td>54.0</td>\n",
       "      <td>0.99960</td>\n",
       "      <td>3.15</td>\n",
       "      <td>0.89</td>\n",
       "      <td>9.9</td>\n",
       "      <td>6</td>\n",
       "    </tr>\n",
       "    <tr>\n",
       "      <th>323</th>\n",
       "      <td>10.3</td>\n",
       "      <td>0.59</td>\n",
       "      <td>0.42</td>\n",
       "      <td>2.8</td>\n",
       "      <td>0.090</td>\n",
       "      <td>35.0</td>\n",
       "      <td>73.0</td>\n",
       "      <td>0.99900</td>\n",
       "      <td>3.28</td>\n",
       "      <td>0.70</td>\n",
       "      <td>9.5</td>\n",
       "      <td>6</td>\n",
       "    </tr>\n",
       "    <tr>\n",
       "      <th>628</th>\n",
       "      <td>8.7</td>\n",
       "      <td>0.54</td>\n",
       "      <td>0.26</td>\n",
       "      <td>2.5</td>\n",
       "      <td>0.097</td>\n",
       "      <td>7.0</td>\n",
       "      <td>31.0</td>\n",
       "      <td>0.99760</td>\n",
       "      <td>3.27</td>\n",
       "      <td>0.60</td>\n",
       "      <td>9.3</td>\n",
       "      <td>6</td>\n",
       "    </tr>\n",
       "    <tr>\n",
       "      <th>550</th>\n",
       "      <td>6.8</td>\n",
       "      <td>0.51</td>\n",
       "      <td>0.01</td>\n",
       "      <td>2.1</td>\n",
       "      <td>0.074</td>\n",
       "      <td>9.0</td>\n",
       "      <td>25.0</td>\n",
       "      <td>0.99580</td>\n",
       "      <td>3.33</td>\n",
       "      <td>0.56</td>\n",
       "      <td>9.5</td>\n",
       "      <td>6</td>\n",
       "    </tr>\n",
       "    <tr>\n",
       "      <th>1296</th>\n",
       "      <td>6.6</td>\n",
       "      <td>0.63</td>\n",
       "      <td>0.00</td>\n",
       "      <td>4.3</td>\n",
       "      <td>0.093</td>\n",
       "      <td>51.0</td>\n",
       "      <td>77.5</td>\n",
       "      <td>0.99558</td>\n",
       "      <td>3.20</td>\n",
       "      <td>0.45</td>\n",
       "      <td>9.5</td>\n",
       "      <td>5</td>\n",
       "    </tr>\n",
       "  </tbody>\n",
       "</table>\n",
       "</div>"
      ],
      "text/plain": [
       "      fixed acidity  volatile acidity  citric acid  residual sugar  chlorides  \\\n",
       "434            10.4              0.41         0.55             3.2      0.076   \n",
       "323            10.3              0.59         0.42             2.8      0.090   \n",
       "628             8.7              0.54         0.26             2.5      0.097   \n",
       "550             6.8              0.51         0.01             2.1      0.074   \n",
       "1296            6.6              0.63         0.00             4.3      0.093   \n",
       "\n",
       "      free sulfur dioxide  total sulfur dioxide  density    pH  sulphates  \\\n",
       "434                  22.0                  54.0  0.99960  3.15       0.89   \n",
       "323                  35.0                  73.0  0.99900  3.28       0.70   \n",
       "628                   7.0                  31.0  0.99760  3.27       0.60   \n",
       "550                   9.0                  25.0  0.99580  3.33       0.56   \n",
       "1296                 51.0                  77.5  0.99558  3.20       0.45   \n",
       "\n",
       "      alcohol  quality  \n",
       "434       9.9        6  \n",
       "323       9.5        6  \n",
       "628       9.3        6  \n",
       "550       9.5        6  \n",
       "1296      9.5        5  "
      ]
     },
     "execution_count": 5,
     "metadata": {},
     "output_type": "execute_result"
    }
   ],
   "source": [
    "data.sample(5)"
   ]
  },
  {
   "cell_type": "code",
   "execution_count": 6,
   "id": "8f9fb8df",
   "metadata": {},
   "outputs": [],
   "source": [
    "# Cheking Columns Name from the dataset."
   ]
  },
  {
   "cell_type": "code",
   "execution_count": 7,
   "id": "abced099",
   "metadata": {},
   "outputs": [
    {
     "data": {
      "text/plain": [
       "Index(['fixed acidity', 'volatile acidity', 'citric acid', 'residual sugar',\n",
       "       'chlorides', 'free sulfur dioxide', 'total sulfur dioxide', 'density',\n",
       "       'pH', 'sulphates', 'alcohol', 'quality'],\n",
       "      dtype='object')"
      ]
     },
     "execution_count": 7,
     "metadata": {},
     "output_type": "execute_result"
    }
   ],
   "source": [
    "data.columns"
   ]
  },
  {
   "cell_type": "code",
   "execution_count": 8,
   "id": "261e10a8",
   "metadata": {},
   "outputs": [],
   "source": [
    "# checking total number of columns & rows \n",
    "# Observation\n",
    "# 1. Columns no-12 & Rows No-1599"
   ]
  },
  {
   "cell_type": "code",
   "execution_count": 9,
   "id": "35f1e9c5",
   "metadata": {},
   "outputs": [
    {
     "data": {
      "text/plain": [
       "(1599, 12)"
      ]
     },
     "execution_count": 9,
     "metadata": {},
     "output_type": "execute_result"
    }
   ],
   "source": [
    "data.shape"
   ]
  },
  {
   "cell_type": "code",
   "execution_count": 10,
   "id": "e4aa90eb",
   "metadata": {},
   "outputs": [],
   "source": [
    "# cheking there is null value or not\n",
    "#  Observation\n",
    "# 1. No null value & all columns values are Float & Int."
   ]
  },
  {
   "cell_type": "code",
   "execution_count": 11,
   "id": "0ffc3b50",
   "metadata": {},
   "outputs": [
    {
     "name": "stdout",
     "output_type": "stream",
     "text": [
      "<class 'pandas.core.frame.DataFrame'>\n",
      "RangeIndex: 1599 entries, 0 to 1598\n",
      "Data columns (total 12 columns):\n",
      " #   Column                Non-Null Count  Dtype  \n",
      "---  ------                --------------  -----  \n",
      " 0   fixed acidity         1599 non-null   float64\n",
      " 1   volatile acidity      1599 non-null   float64\n",
      " 2   citric acid           1599 non-null   float64\n",
      " 3   residual sugar        1599 non-null   float64\n",
      " 4   chlorides             1599 non-null   float64\n",
      " 5   free sulfur dioxide   1599 non-null   float64\n",
      " 6   total sulfur dioxide  1599 non-null   float64\n",
      " 7   density               1599 non-null   float64\n",
      " 8   pH                    1599 non-null   float64\n",
      " 9   sulphates             1599 non-null   float64\n",
      " 10  alcohol               1599 non-null   float64\n",
      " 11  quality               1599 non-null   int64  \n",
      "dtypes: float64(11), int64(1)\n",
      "memory usage: 150.0 KB\n"
     ]
    }
   ],
   "source": [
    "data.info()"
   ]
  },
  {
   "cell_type": "code",
   "execution_count": 12,
   "id": "6d5c5598",
   "metadata": {},
   "outputs": [
    {
     "data": {
      "text/html": [
       "<div>\n",
       "<style scoped>\n",
       "    .dataframe tbody tr th:only-of-type {\n",
       "        vertical-align: middle;\n",
       "    }\n",
       "\n",
       "    .dataframe tbody tr th {\n",
       "        vertical-align: top;\n",
       "    }\n",
       "\n",
       "    .dataframe thead th {\n",
       "        text-align: right;\n",
       "    }\n",
       "</style>\n",
       "<table border=\"1\" class=\"dataframe\">\n",
       "  <thead>\n",
       "    <tr style=\"text-align: right;\">\n",
       "      <th></th>\n",
       "      <th>fixed acidity</th>\n",
       "      <th>volatile acidity</th>\n",
       "      <th>citric acid</th>\n",
       "      <th>residual sugar</th>\n",
       "      <th>chlorides</th>\n",
       "      <th>free sulfur dioxide</th>\n",
       "      <th>total sulfur dioxide</th>\n",
       "      <th>density</th>\n",
       "      <th>pH</th>\n",
       "      <th>sulphates</th>\n",
       "      <th>alcohol</th>\n",
       "      <th>quality</th>\n",
       "    </tr>\n",
       "  </thead>\n",
       "  <tbody>\n",
       "    <tr>\n",
       "      <th>count</th>\n",
       "      <td>1599.000000</td>\n",
       "      <td>1599.000000</td>\n",
       "      <td>1599.000000</td>\n",
       "      <td>1599.000000</td>\n",
       "      <td>1599.000000</td>\n",
       "      <td>1599.000000</td>\n",
       "      <td>1599.000000</td>\n",
       "      <td>1599.000000</td>\n",
       "      <td>1599.000000</td>\n",
       "      <td>1599.000000</td>\n",
       "      <td>1599.000000</td>\n",
       "      <td>1599.000000</td>\n",
       "    </tr>\n",
       "    <tr>\n",
       "      <th>mean</th>\n",
       "      <td>8.319637</td>\n",
       "      <td>0.527821</td>\n",
       "      <td>0.270976</td>\n",
       "      <td>2.538806</td>\n",
       "      <td>0.087467</td>\n",
       "      <td>15.874922</td>\n",
       "      <td>46.467792</td>\n",
       "      <td>0.996747</td>\n",
       "      <td>3.311113</td>\n",
       "      <td>0.658149</td>\n",
       "      <td>10.422983</td>\n",
       "      <td>5.636023</td>\n",
       "    </tr>\n",
       "    <tr>\n",
       "      <th>std</th>\n",
       "      <td>1.741096</td>\n",
       "      <td>0.179060</td>\n",
       "      <td>0.194801</td>\n",
       "      <td>1.409928</td>\n",
       "      <td>0.047065</td>\n",
       "      <td>10.460157</td>\n",
       "      <td>32.895324</td>\n",
       "      <td>0.001887</td>\n",
       "      <td>0.154386</td>\n",
       "      <td>0.169507</td>\n",
       "      <td>1.065668</td>\n",
       "      <td>0.807569</td>\n",
       "    </tr>\n",
       "    <tr>\n",
       "      <th>min</th>\n",
       "      <td>4.600000</td>\n",
       "      <td>0.120000</td>\n",
       "      <td>0.000000</td>\n",
       "      <td>0.900000</td>\n",
       "      <td>0.012000</td>\n",
       "      <td>1.000000</td>\n",
       "      <td>6.000000</td>\n",
       "      <td>0.990070</td>\n",
       "      <td>2.740000</td>\n",
       "      <td>0.330000</td>\n",
       "      <td>8.400000</td>\n",
       "      <td>3.000000</td>\n",
       "    </tr>\n",
       "    <tr>\n",
       "      <th>25%</th>\n",
       "      <td>7.100000</td>\n",
       "      <td>0.390000</td>\n",
       "      <td>0.090000</td>\n",
       "      <td>1.900000</td>\n",
       "      <td>0.070000</td>\n",
       "      <td>7.000000</td>\n",
       "      <td>22.000000</td>\n",
       "      <td>0.995600</td>\n",
       "      <td>3.210000</td>\n",
       "      <td>0.550000</td>\n",
       "      <td>9.500000</td>\n",
       "      <td>5.000000</td>\n",
       "    </tr>\n",
       "    <tr>\n",
       "      <th>50%</th>\n",
       "      <td>7.900000</td>\n",
       "      <td>0.520000</td>\n",
       "      <td>0.260000</td>\n",
       "      <td>2.200000</td>\n",
       "      <td>0.079000</td>\n",
       "      <td>14.000000</td>\n",
       "      <td>38.000000</td>\n",
       "      <td>0.996750</td>\n",
       "      <td>3.310000</td>\n",
       "      <td>0.620000</td>\n",
       "      <td>10.200000</td>\n",
       "      <td>6.000000</td>\n",
       "    </tr>\n",
       "    <tr>\n",
       "      <th>75%</th>\n",
       "      <td>9.200000</td>\n",
       "      <td>0.640000</td>\n",
       "      <td>0.420000</td>\n",
       "      <td>2.600000</td>\n",
       "      <td>0.090000</td>\n",
       "      <td>21.000000</td>\n",
       "      <td>62.000000</td>\n",
       "      <td>0.997835</td>\n",
       "      <td>3.400000</td>\n",
       "      <td>0.730000</td>\n",
       "      <td>11.100000</td>\n",
       "      <td>6.000000</td>\n",
       "    </tr>\n",
       "    <tr>\n",
       "      <th>max</th>\n",
       "      <td>15.900000</td>\n",
       "      <td>1.580000</td>\n",
       "      <td>1.000000</td>\n",
       "      <td>15.500000</td>\n",
       "      <td>0.611000</td>\n",
       "      <td>72.000000</td>\n",
       "      <td>289.000000</td>\n",
       "      <td>1.003690</td>\n",
       "      <td>4.010000</td>\n",
       "      <td>2.000000</td>\n",
       "      <td>14.900000</td>\n",
       "      <td>8.000000</td>\n",
       "    </tr>\n",
       "  </tbody>\n",
       "</table>\n",
       "</div>"
      ],
      "text/plain": [
       "       fixed acidity  volatile acidity  citric acid  residual sugar  \\\n",
       "count    1599.000000       1599.000000  1599.000000     1599.000000   \n",
       "mean        8.319637          0.527821     0.270976        2.538806   \n",
       "std         1.741096          0.179060     0.194801        1.409928   \n",
       "min         4.600000          0.120000     0.000000        0.900000   \n",
       "25%         7.100000          0.390000     0.090000        1.900000   \n",
       "50%         7.900000          0.520000     0.260000        2.200000   \n",
       "75%         9.200000          0.640000     0.420000        2.600000   \n",
       "max        15.900000          1.580000     1.000000       15.500000   \n",
       "\n",
       "         chlorides  free sulfur dioxide  total sulfur dioxide      density  \\\n",
       "count  1599.000000          1599.000000           1599.000000  1599.000000   \n",
       "mean      0.087467            15.874922             46.467792     0.996747   \n",
       "std       0.047065            10.460157             32.895324     0.001887   \n",
       "min       0.012000             1.000000              6.000000     0.990070   \n",
       "25%       0.070000             7.000000             22.000000     0.995600   \n",
       "50%       0.079000            14.000000             38.000000     0.996750   \n",
       "75%       0.090000            21.000000             62.000000     0.997835   \n",
       "max       0.611000            72.000000            289.000000     1.003690   \n",
       "\n",
       "                pH    sulphates      alcohol      quality  \n",
       "count  1599.000000  1599.000000  1599.000000  1599.000000  \n",
       "mean      3.311113     0.658149    10.422983     5.636023  \n",
       "std       0.154386     0.169507     1.065668     0.807569  \n",
       "min       2.740000     0.330000     8.400000     3.000000  \n",
       "25%       3.210000     0.550000     9.500000     5.000000  \n",
       "50%       3.310000     0.620000    10.200000     6.000000  \n",
       "75%       3.400000     0.730000    11.100000     6.000000  \n",
       "max       4.010000     2.000000    14.900000     8.000000  "
      ]
     },
     "execution_count": 12,
     "metadata": {},
     "output_type": "execute_result"
    }
   ],
   "source": [
    "data.describe()"
   ]
  },
  {
   "cell_type": "code",
   "execution_count": 13,
   "id": "62d0277c",
   "metadata": {},
   "outputs": [],
   "source": [
    "import matplotlib.pyplot as plt\n",
    "import seaborn as sns\n",
    "\n",
    "import warnings\n",
    "warnings.filterwarnings('ignore')"
   ]
  },
  {
   "cell_type": "code",
   "execution_count": 14,
   "id": "0e5260d4",
   "metadata": {},
   "outputs": [],
   "source": [
    "# How distribute the data of each column."
   ]
  },
  {
   "cell_type": "code",
   "execution_count": 15,
   "id": "4d3c09e6",
   "metadata": {},
   "outputs": [
    {
     "data": {
      "image/png": "[encoded data removed]",
      "text/plain": [
       "<Figure size 864x1008 with 12 Axes>"
      ]
     },
     "metadata": {},
     "output_type": "display_data"
    }
   ],
   "source": [
    "plt.figure(figsize=(12,14), facecolor='g')\n",
    "plotnumber=1\n",
    "for column in data:\n",
    "    if plotnumber<=12:\n",
    "        ax=plt.subplot(3,4,plotnumber)\n",
    "        sns.distplot(data[column])\n",
    "        plt.xlabel(column, fontsize=20)\n",
    "        \n",
    "    plotnumber+=1\n",
    "    \n",
    "plt.show()\n",
    "        "
   ]
  },
  {
   "cell_type": "code",
   "execution_count": 16,
   "id": "3c32e7de",
   "metadata": {},
   "outputs": [],
   "source": [
    "# cheking Skewness for each column"
   ]
  },
  {
   "cell_type": "code",
   "execution_count": 17,
   "id": "9eb5c79a",
   "metadata": {},
   "outputs": [
    {
     "data": {
      "text/plain": [
       "fixed acidity           0.982751\n",
       "volatile acidity        0.671593\n",
       "citric acid             0.318337\n",
       "residual sugar          4.540655\n",
       "chlorides               5.680347\n",
       "free sulfur dioxide     1.250567\n",
       "total sulfur dioxide    1.515531\n",
       "density                 0.071288\n",
       "pH                      0.193683\n",
       "sulphates               2.428672\n",
       "alcohol                 0.860829\n",
       "quality                 0.217802\n",
       "dtype: float64"
      ]
     },
     "execution_count": 17,
     "metadata": {},
     "output_type": "execute_result"
    }
   ],
   "source": [
    "data.skew()"
   ]
  },
  {
   "cell_type": "code",
   "execution_count": 18,
   "id": "1e4fc353",
   "metadata": {},
   "outputs": [],
   "source": [
    "# Observation:-\n",
    "# 1. fixed acidity- Data is normally distributed but there are some skewness- 0.98\n",
    "# 2. volatile acidity-Data is normally distributed but there are some skewness- 0.67\n",
    "# 3. citric acid-Data is normally distributed but there are some skewness- 0.32\n",
    "# 4. residual sugar-Data is normally distributed but there are some skewness- 4.54\n",
    "# 5. chlorides - Data is normally distributed but there are some skewness- 5.68\n",
    "# 6. free sulfur dioxide- Data is normally distributed but there are some skewness- 1.25\n",
    "# 7. total sulfur dioxide- Data is normally distributed but there are some skewness- 1.52\n",
    "# 8. density - Data is normally distributed but there are some skewness- 0.07\n",
    "# 9. pH-  Data is normally distributed but there are some skewness- 0.19\n",
    "# 10. sulphates - Data is normally distributed but there are some skewness- 2.43\n",
    "# 11. alcohol- Data is normally distributed but there are some skewness- 0.86\n",
    "\n",
    "# Maximum Skewness - residual sugar & chlorides \n",
    "#  minimun Skewness- density "
   ]
  },
  {
   "cell_type": "code",
   "execution_count": 19,
   "id": "61644cc7",
   "metadata": {},
   "outputs": [
    {
     "data": {
      "text/plain": [
       "<AxesSubplot:xlabel='fixed acidity', ylabel='quality'>"
      ]
     },
     "execution_count": 19,
     "metadata": {},
     "output_type": "execute_result"
    },
    {
     "data": {
      "image/png": "[encoded data removed]",
      "text/plain": [
       "<Figure size 432x288 with 1 Axes>"
      ]
     },
     "metadata": {
      "needs_background": "light"
     },
     "output_type": "display_data"
    }
   ],
   "source": [
    "sns.scatterplot(x='fixed acidity', y='quality', data=data)"
   ]
  },
  {
   "cell_type": "code",
   "execution_count": 20,
   "id": "fb4362f3",
   "metadata": {},
   "outputs": [],
   "source": [
    "#  fixed acidity-   we can see Data equal distributed in the range is 5 to 12."
   ]
  },
  {
   "cell_type": "code",
   "execution_count": 21,
   "id": "d1c1ce67",
   "metadata": {},
   "outputs": [
    {
     "data": {
      "text/plain": [
       "<AxesSubplot:xlabel='volatile acidity', ylabel='quality'>"
      ]
     },
     "execution_count": 21,
     "metadata": {},
     "output_type": "execute_result"
    },
    {
     "data": {
      "image/png": "[encoded data removed]",
      "text/plain": [
       "<Figure size 432x288 with 1 Axes>"
      ]
     },
     "metadata": {
      "needs_background": "light"
     },
     "output_type": "display_data"
    }
   ],
   "source": [
    "sns.scatterplot(x='volatile acidity', y='quality', data=data)"
   ]
  },
  {
   "cell_type": "code",
   "execution_count": 22,
   "id": "22114c16",
   "metadata": {},
   "outputs": [],
   "source": [
    "# volatile acidity- we can see Data equal distributed in the range is 0.1 to 1.05."
   ]
  },
  {
   "cell_type": "code",
   "execution_count": 23,
   "id": "70d4a76d",
   "metadata": {},
   "outputs": [
    {
     "data": {
      "text/plain": [
       "<AxesSubplot:xlabel='citric acid', ylabel='quality'>"
      ]
     },
     "execution_count": 23,
     "metadata": {},
     "output_type": "execute_result"
    },
    {
     "data": {
      "image/png": "[encoded data removed]",
      "text/plain": [
       "<Figure size 432x288 with 1 Axes>"
      ]
     },
     "metadata": {
      "needs_background": "light"
     },
     "output_type": "display_data"
    }
   ],
   "source": [
    "sns.scatterplot(x='citric acid', y='quality', data=data)"
   ]
  },
  {
   "cell_type": "code",
   "execution_count": 24,
   "id": "d0658709",
   "metadata": {},
   "outputs": [],
   "source": [
    "# citric acid-   we can see Data equal distributed in the range is 0 to 0.7\n"
   ]
  },
  {
   "cell_type": "code",
   "execution_count": 25,
   "id": "7a85b56c",
   "metadata": {},
   "outputs": [
    {
     "data": {
      "text/plain": [
       "<AxesSubplot:xlabel='residual sugar', ylabel='quality'>"
      ]
     },
     "execution_count": 25,
     "metadata": {},
     "output_type": "execute_result"
    },
    {
     "data": {
      "image/png": "[encoded data removed]",
      "text/plain": [
       "<Figure size 432x288 with 1 Axes>"
      ]
     },
     "metadata": {
      "needs_background": "light"
     },
     "output_type": "display_data"
    }
   ],
   "source": [
    "sns.scatterplot(x='residual sugar', y='quality', data=data)"
   ]
  },
  {
   "cell_type": "code",
   "execution_count": 26,
   "id": "aa2b8724",
   "metadata": {},
   "outputs": [],
   "source": [
    "# residual sugar-  we can see Data equal distributed in the range is 1 to 8. Hree skewness is more."
   ]
  },
  {
   "cell_type": "code",
   "execution_count": 27,
   "id": "cfa55493",
   "metadata": {},
   "outputs": [
    {
     "data": {
      "text/plain": [
       "<AxesSubplot:xlabel='chlorides', ylabel='quality'>"
      ]
     },
     "execution_count": 27,
     "metadata": {},
     "output_type": "execute_result"
    },
    {
     "data": {
      "image/png": "[encoded data removed]",
      "text/plain": [
       "<Figure size 432x288 with 1 Axes>"
      ]
     },
     "metadata": {
      "needs_background": "light"
     },
     "output_type": "display_data"
    }
   ],
   "source": [
    "sns.scatterplot(x='chlorides', y='quality', data=data)"
   ]
  },
  {
   "cell_type": "code",
   "execution_count": 28,
   "id": "77d9b4e1",
   "metadata": {},
   "outputs": [],
   "source": [
    "# chlorides- we can see Data equal distributed in the range is 0.008 to 0.1. Here skewness is more."
   ]
  },
  {
   "cell_type": "code",
   "execution_count": 29,
   "id": "61dc6bf6",
   "metadata": {},
   "outputs": [
    {
     "data": {
      "text/plain": [
       "<AxesSubplot:xlabel='free sulfur dioxide', ylabel='quality'>"
      ]
     },
     "execution_count": 29,
     "metadata": {},
     "output_type": "execute_result"
    },
    {
     "data": {
      "image/png": "[encoded data removed]",
      "text/plain": [
       "<Figure size 432x288 with 1 Axes>"
      ]
     },
     "metadata": {
      "needs_background": "light"
     },
     "output_type": "display_data"
    }
   ],
   "source": [
    "sns.scatterplot(x='free sulfur dioxide', y='quality', data=data)"
   ]
  },
  {
   "cell_type": "code",
   "execution_count": 30,
   "id": "f88c4d0d",
   "metadata": {},
   "outputs": [],
   "source": [
    "# free sulfur dioxide-  we can see Data equal distributed in the range is 0 to 50. "
   ]
  },
  {
   "cell_type": "code",
   "execution_count": 31,
   "id": "7adb924f",
   "metadata": {},
   "outputs": [
    {
     "data": {
      "text/plain": [
       "<AxesSubplot:xlabel='total sulfur dioxide', ylabel='quality'>"
      ]
     },
     "execution_count": 31,
     "metadata": {},
     "output_type": "execute_result"
    },
    {
     "data": {
      "image/png": "[encoded data removed]",
      "text/plain": [
       "<Figure size 432x288 with 1 Axes>"
      ]
     },
     "metadata": {
      "needs_background": "light"
     },
     "output_type": "display_data"
    }
   ],
   "source": [
    "sns.scatterplot(x='total sulfur dioxide',y='quality',data=data)"
   ]
  },
  {
   "cell_type": "code",
   "execution_count": 32,
   "id": "e1953521",
   "metadata": {},
   "outputs": [],
   "source": [
    "# total sulfur dioxide-  we can see Data equal distributed in the range is 0 to 130."
   ]
  },
  {
   "cell_type": "code",
   "execution_count": 33,
   "id": "0a6f773e",
   "metadata": {},
   "outputs": [
    {
     "data": {
      "text/plain": [
       "<AxesSubplot:xlabel='density', ylabel='quality'>"
      ]
     },
     "execution_count": 33,
     "metadata": {},
     "output_type": "execute_result"
    },
    {
     "data": {
      "image/png": "[encoded data removed]",
      "text/plain": [
       "<Figure size 432x288 with 1 Axes>"
      ]
     },
     "metadata": {
      "needs_background": "light"
     },
     "output_type": "display_data"
    }
   ],
   "source": [
    "sns.scatterplot(x='density',y='quality', data=data)"
   ]
  },
  {
   "cell_type": "code",
   "execution_count": 34,
   "id": "e9abdfaa",
   "metadata": {},
   "outputs": [],
   "source": [
    "# density-  we can see Data equal distributed in the range is 0.992 to 1.50."
   ]
  },
  {
   "cell_type": "code",
   "execution_count": 35,
   "id": "bc10adc4",
   "metadata": {},
   "outputs": [
    {
     "data": {
      "text/plain": [
       "<AxesSubplot:xlabel='pH', ylabel='quality'>"
      ]
     },
     "execution_count": 35,
     "metadata": {},
     "output_type": "execute_result"
    },
    {
     "data": {
      "image/png": "[encoded data removed]",
      "text/plain": [
       "<Figure size 432x288 with 1 Axes>"
      ]
     },
     "metadata": {
      "needs_background": "light"
     },
     "output_type": "display_data"
    }
   ],
   "source": [
    "sns.scatterplot(x='pH',y='quality',data=data)"
   ]
  },
  {
   "cell_type": "code",
   "execution_count": 36,
   "id": "559b02f6",
   "metadata": {},
   "outputs": [],
   "source": [
    "# pH-  we can see Data equal distributed in the range is 2.9 to 3.70."
   ]
  },
  {
   "cell_type": "code",
   "execution_count": 37,
   "id": "9f77a41d",
   "metadata": {},
   "outputs": [
    {
     "data": {
      "text/plain": [
       "<AxesSubplot:xlabel='sulphates', ylabel='quality'>"
      ]
     },
     "execution_count": 37,
     "metadata": {},
     "output_type": "execute_result"
    },
    {
     "data": {
      "image/png": "[encoded data removed]",
      "text/plain": [
       "<Figure size 432x288 with 1 Axes>"
      ]
     },
     "metadata": {
      "needs_background": "light"
     },
     "output_type": "display_data"
    }
   ],
   "source": [
    "sns.scatterplot(x='sulphates',y='quality', data=data)"
   ]
  },
  {
   "cell_type": "code",
   "execution_count": 38,
   "id": "4377e73f",
   "metadata": {},
   "outputs": [],
   "source": [
    "# sulphates-  we can see Data equal distributed in the range is 2.9 to 3.70."
   ]
  },
  {
   "cell_type": "code",
   "execution_count": 39,
   "id": "6b591eff",
   "metadata": {},
   "outputs": [
    {
     "data": {
      "text/plain": [
       "<AxesSubplot:xlabel='alcohol', ylabel='quality'>"
      ]
     },
     "execution_count": 39,
     "metadata": {},
     "output_type": "execute_result"
    },
    {
     "data": {
      "image/png": "[encoded data removed]",
      "text/plain": [
       "<Figure size 432x288 with 1 Axes>"
      ]
     },
     "metadata": {
      "needs_background": "light"
     },
     "output_type": "display_data"
    }
   ],
   "source": [
    "sns.scatterplot(x='alcohol', y='quality', data=data)"
   ]
  },
  {
   "cell_type": "code",
   "execution_count": 40,
   "id": "9a9eb8c3",
   "metadata": {},
   "outputs": [],
   "source": [
    "# alcohol-  we can see Data equal distributed in the range is 8 to 12."
   ]
  },
  {
   "cell_type": "code",
   "execution_count": 41,
   "id": "eb3a5f27",
   "metadata": {},
   "outputs": [],
   "source": [
    "# cheking correlation between feature & Traget values "
   ]
  },
  {
   "cell_type": "code",
   "execution_count": 42,
   "id": "6279c318",
   "metadata": {},
   "outputs": [
    {
     "data": {
      "text/html": [
       "<div>\n",
       "<style scoped>\n",
       "    .dataframe tbody tr th:only-of-type {\n",
       "        vertical-align: middle;\n",
       "    }\n",
       "\n",
       "    .dataframe tbody tr th {\n",
       "        vertical-align: top;\n",
       "    }\n",
       "\n",
       "    .dataframe thead th {\n",
       "        text-align: right;\n",
       "    }\n",
       "</style>\n",
       "<table border=\"1\" class=\"dataframe\">\n",
       "  <thead>\n",
       "    <tr style=\"text-align: right;\">\n",
       "      <th></th>\n",
       "      <th>fixed acidity</th>\n",
       "      <th>volatile acidity</th>\n",
       "      <th>citric acid</th>\n",
       "      <th>residual sugar</th>\n",
       "      <th>chlorides</th>\n",
       "      <th>free sulfur dioxide</th>\n",
       "      <th>total sulfur dioxide</th>\n",
       "      <th>density</th>\n",
       "      <th>pH</th>\n",
       "      <th>sulphates</th>\n",
       "      <th>alcohol</th>\n",
       "      <th>quality</th>\n",
       "    </tr>\n",
       "  </thead>\n",
       "  <tbody>\n",
       "    <tr>\n",
       "      <th>fixed acidity</th>\n",
       "      <td>1.000000</td>\n",
       "      <td>-0.256131</td>\n",
       "      <td>0.671703</td>\n",
       "      <td>0.114777</td>\n",
       "      <td>0.093705</td>\n",
       "      <td>-0.153794</td>\n",
       "      <td>-0.113181</td>\n",
       "      <td>0.668047</td>\n",
       "      <td>-0.682978</td>\n",
       "      <td>0.183006</td>\n",
       "      <td>-0.061668</td>\n",
       "      <td>0.124052</td>\n",
       "    </tr>\n",
       "    <tr>\n",
       "      <th>volatile acidity</th>\n",
       "      <td>-0.256131</td>\n",
       "      <td>1.000000</td>\n",
       "      <td>-0.552496</td>\n",
       "      <td>0.001918</td>\n",
       "      <td>0.061298</td>\n",
       "      <td>-0.010504</td>\n",
       "      <td>0.076470</td>\n",
       "      <td>0.022026</td>\n",
       "      <td>0.234937</td>\n",
       "      <td>-0.260987</td>\n",
       "      <td>-0.202288</td>\n",
       "      <td>-0.390558</td>\n",
       "    </tr>\n",
       "    <tr>\n",
       "      <th>citric acid</th>\n",
       "      <td>0.671703</td>\n",
       "      <td>-0.552496</td>\n",
       "      <td>1.000000</td>\n",
       "      <td>0.143577</td>\n",
       "      <td>0.203823</td>\n",
       "      <td>-0.060978</td>\n",
       "      <td>0.035533</td>\n",
       "      <td>0.364947</td>\n",
       "      <td>-0.541904</td>\n",
       "      <td>0.312770</td>\n",
       "      <td>0.109903</td>\n",
       "      <td>0.226373</td>\n",
       "    </tr>\n",
       "    <tr>\n",
       "      <th>residual sugar</th>\n",
       "      <td>0.114777</td>\n",
       "      <td>0.001918</td>\n",
       "      <td>0.143577</td>\n",
       "      <td>1.000000</td>\n",
       "      <td>0.055610</td>\n",
       "      <td>0.187049</td>\n",
       "      <td>0.203028</td>\n",
       "      <td>0.355283</td>\n",
       "      <td>-0.085652</td>\n",
       "      <td>0.005527</td>\n",
       "      <td>0.042075</td>\n",
       "      <td>0.013732</td>\n",
       "    </tr>\n",
       "    <tr>\n",
       "      <th>chlorides</th>\n",
       "      <td>0.093705</td>\n",
       "      <td>0.061298</td>\n",
       "      <td>0.203823</td>\n",
       "      <td>0.055610</td>\n",
       "      <td>1.000000</td>\n",
       "      <td>0.005562</td>\n",
       "      <td>0.047400</td>\n",
       "      <td>0.200632</td>\n",
       "      <td>-0.265026</td>\n",
       "      <td>0.371260</td>\n",
       "      <td>-0.221141</td>\n",
       "      <td>-0.128907</td>\n",
       "    </tr>\n",
       "    <tr>\n",
       "      <th>free sulfur dioxide</th>\n",
       "      <td>-0.153794</td>\n",
       "      <td>-0.010504</td>\n",
       "      <td>-0.060978</td>\n",
       "      <td>0.187049</td>\n",
       "      <td>0.005562</td>\n",
       "      <td>1.000000</td>\n",
       "      <td>0.667666</td>\n",
       "      <td>-0.021946</td>\n",
       "      <td>0.070377</td>\n",
       "      <td>0.051658</td>\n",
       "      <td>-0.069408</td>\n",
       "      <td>-0.050656</td>\n",
       "    </tr>\n",
       "    <tr>\n",
       "      <th>total sulfur dioxide</th>\n",
       "      <td>-0.113181</td>\n",
       "      <td>0.076470</td>\n",
       "      <td>0.035533</td>\n",
       "      <td>0.203028</td>\n",
       "      <td>0.047400</td>\n",
       "      <td>0.667666</td>\n",
       "      <td>1.000000</td>\n",
       "      <td>0.071269</td>\n",
       "      <td>-0.066495</td>\n",
       "      <td>0.042947</td>\n",
       "      <td>-0.205654</td>\n",
       "      <td>-0.185100</td>\n",
       "    </tr>\n",
       "    <tr>\n",
       "      <th>density</th>\n",
       "      <td>0.668047</td>\n",
       "      <td>0.022026</td>\n",
       "      <td>0.364947</td>\n",
       "      <td>0.355283</td>\n",
       "      <td>0.200632</td>\n",
       "      <td>-0.021946</td>\n",
       "      <td>0.071269</td>\n",
       "      <td>1.000000</td>\n",
       "      <td>-0.341699</td>\n",
       "      <td>0.148506</td>\n",
       "      <td>-0.496180</td>\n",
       "      <td>-0.174919</td>\n",
       "    </tr>\n",
       "    <tr>\n",
       "      <th>pH</th>\n",
       "      <td>-0.682978</td>\n",
       "      <td>0.234937</td>\n",
       "      <td>-0.541904</td>\n",
       "      <td>-0.085652</td>\n",
       "      <td>-0.265026</td>\n",
       "      <td>0.070377</td>\n",
       "      <td>-0.066495</td>\n",
       "      <td>-0.341699</td>\n",
       "      <td>1.000000</td>\n",
       "      <td>-0.196648</td>\n",
       "      <td>0.205633</td>\n",
       "      <td>-0.057731</td>\n",
       "    </tr>\n",
       "    <tr>\n",
       "      <th>sulphates</th>\n",
       "      <td>0.183006</td>\n",
       "      <td>-0.260987</td>\n",
       "      <td>0.312770</td>\n",
       "      <td>0.005527</td>\n",
       "      <td>0.371260</td>\n",
       "      <td>0.051658</td>\n",
       "      <td>0.042947</td>\n",
       "      <td>0.148506</td>\n",
       "      <td>-0.196648</td>\n",
       "      <td>1.000000</td>\n",
       "      <td>0.093595</td>\n",
       "      <td>0.251397</td>\n",
       "    </tr>\n",
       "    <tr>\n",
       "      <th>alcohol</th>\n",
       "      <td>-0.061668</td>\n",
       "      <td>-0.202288</td>\n",
       "      <td>0.109903</td>\n",
       "      <td>0.042075</td>\n",
       "      <td>-0.221141</td>\n",
       "      <td>-0.069408</td>\n",
       "      <td>-0.205654</td>\n",
       "      <td>-0.496180</td>\n",
       "      <td>0.205633</td>\n",
       "      <td>0.093595</td>\n",
       "      <td>1.000000</td>\n",
       "      <td>0.476166</td>\n",
       "    </tr>\n",
       "    <tr>\n",
       "      <th>quality</th>\n",
       "      <td>0.124052</td>\n",
       "      <td>-0.390558</td>\n",
       "      <td>0.226373</td>\n",
       "      <td>0.013732</td>\n",
       "      <td>-0.128907</td>\n",
       "      <td>-0.050656</td>\n",
       "      <td>-0.185100</td>\n",
       "      <td>-0.174919</td>\n",
       "      <td>-0.057731</td>\n",
       "      <td>0.251397</td>\n",
       "      <td>0.476166</td>\n",
       "      <td>1.000000</td>\n",
       "    </tr>\n",
       "  </tbody>\n",
       "</table>\n",
       "</div>"
      ],
      "text/plain": [
       "                      fixed acidity  volatile acidity  citric acid  \\\n",
       "fixed acidity              1.000000         -0.256131     0.671703   \n",
       "volatile acidity          -0.256131          1.000000    -0.552496   \n",
       "citric acid                0.671703         -0.552496     1.000000   \n",
       "residual sugar             0.114777          0.001918     0.143577   \n",
       "chlorides                  0.093705          0.061298     0.203823   \n",
       "free sulfur dioxide       -0.153794         -0.010504    -0.060978   \n",
       "total sulfur dioxide      -0.113181          0.076470     0.035533   \n",
       "density                    0.668047          0.022026     0.364947   \n",
       "pH                        -0.682978          0.234937    -0.541904   \n",
       "sulphates                  0.183006         -0.260987     0.312770   \n",
       "alcohol                   -0.061668         -0.202288     0.109903   \n",
       "quality                    0.124052         -0.390558     0.226373   \n",
       "\n",
       "                      residual sugar  chlorides  free sulfur dioxide  \\\n",
       "fixed acidity               0.114777   0.093705            -0.153794   \n",
       "volatile acidity            0.001918   0.061298            -0.010504   \n",
       "citric acid                 0.143577   0.203823            -0.060978   \n",
       "residual sugar              1.000000   0.055610             0.187049   \n",
       "chlorides                   0.055610   1.000000             0.005562   \n",
       "free sulfur dioxide         0.187049   0.005562             1.000000   \n",
       "total sulfur dioxide        0.203028   0.047400             0.667666   \n",
       "density                     0.355283   0.200632            -0.021946   \n",
       "pH                         -0.085652  -0.265026             0.070377   \n",
       "sulphates                   0.005527   0.371260             0.051658   \n",
       "alcohol                     0.042075  -0.221141            -0.069408   \n",
       "quality                     0.013732  -0.128907            -0.050656   \n",
       "\n",
       "                      total sulfur dioxide   density        pH  sulphates  \\\n",
       "fixed acidity                    -0.113181  0.668047 -0.682978   0.183006   \n",
       "volatile acidity                  0.076470  0.022026  0.234937  -0.260987   \n",
       "citric acid                       0.035533  0.364947 -0.541904   0.312770   \n",
       "residual sugar                    0.203028  0.355283 -0.085652   0.005527   \n",
       "chlorides                         0.047400  0.200632 -0.265026   0.371260   \n",
       "free sulfur dioxide               0.667666 -0.021946  0.070377   0.051658   \n",
       "total sulfur dioxide              1.000000  0.071269 -0.066495   0.042947   \n",
       "density                           0.071269  1.000000 -0.341699   0.148506   \n",
       "pH                               -0.066495 -0.341699  1.000000  -0.196648   \n",
       "sulphates                         0.042947  0.148506 -0.196648   1.000000   \n",
       "alcohol                          -0.205654 -0.496180  0.205633   0.093595   \n",
       "quality                          -0.185100 -0.174919 -0.057731   0.251397   \n",
       "\n",
       "                       alcohol   quality  \n",
       "fixed acidity        -0.061668  0.124052  \n",
       "volatile acidity     -0.202288 -0.390558  \n",
       "citric acid           0.109903  0.226373  \n",
       "residual sugar        0.042075  0.013732  \n",
       "chlorides            -0.221141 -0.128907  \n",
       "free sulfur dioxide  -0.069408 -0.050656  \n",
       "total sulfur dioxide -0.205654 -0.185100  \n",
       "density              -0.496180 -0.174919  \n",
       "pH                    0.205633 -0.057731  \n",
       "sulphates             0.093595  0.251397  \n",
       "alcohol               1.000000  0.476166  \n",
       "quality               0.476166  1.000000  "
      ]
     },
     "execution_count": 42,
     "metadata": {},
     "output_type": "execute_result"
    }
   ],
   "source": [
    "data.corr()"
   ]
  },
  {
   "cell_type": "code",
   "execution_count": 43,
   "id": "19518ea4",
   "metadata": {},
   "outputs": [],
   "source": [
    "# correlation on target values"
   ]
  },
  {
   "cell_type": "code",
   "execution_count": 44,
   "id": "0f4c7a42",
   "metadata": {},
   "outputs": [
    {
     "data": {
      "text/plain": [
       "quality                 1.000000\n",
       "alcohol                 0.476166\n",
       "sulphates               0.251397\n",
       "citric acid             0.226373\n",
       "fixed acidity           0.124052\n",
       "residual sugar          0.013732\n",
       "free sulfur dioxide    -0.050656\n",
       "pH                     -0.057731\n",
       "chlorides              -0.128907\n",
       "density                -0.174919\n",
       "total sulfur dioxide   -0.185100\n",
       "volatile acidity       -0.390558\n",
       "Name: quality, dtype: float64"
      ]
     },
     "execution_count": 44,
     "metadata": {},
     "output_type": "execute_result"
    }
   ],
   "source": [
    "data.corr()['quality'].sort_values(ascending=False)"
   ]
  },
  {
   "cell_type": "code",
   "execution_count": 45,
   "id": "e405f3c6",
   "metadata": {},
   "outputs": [
    {
     "data": {
      "image/png": "[encoded data removed]",
      "text/plain": [
       "<Figure size 720x864 with 2 Axes>"
      ]
     },
     "metadata": {
      "needs_background": "light"
     },
     "output_type": "display_data"
    }
   ],
   "source": [
    "corr_mat=data.corr()\n",
    "plt.figure(figsize=(10,12))\n",
    "sns.heatmap(corr_mat, annot=True)\n",
    "plt.title('correlation matrix')\n",
    "plt.savefig('correlation_redwine.jpg')\n",
    "plt.show()\n",
    "    "
   ]
  },
  {
   "cell_type": "code",
   "execution_count": 46,
   "id": "413c6d53",
   "metadata": {},
   "outputs": [],
   "source": [
    "# Obsevation:\n",
    "# 1. fixed acidity-      correlationship with tergetr value is 12 persent & relationship with all other input variables are good bond.\n",
    "# 2. volatile acidity-   correlationship with tergetr value is (-)39 persent & relationship with all other input variables are good bond\n",
    "# 3. citric acid-        correlationship with tergetr value is 23 persent & relationship with all other input variables are good bond\n",
    "# 4. residual sugar-     correlationship with tergetr value is 1.4 persent & relationship with all other input variables are not good bond\n",
    "# 5. chlorides -         correlationship with tergetr value is (-)1.3 persent & relationship with all other input variables are not good bond\n",
    "# 6. free sulfur dioxide- correlationship with tergetr value is 5.10 persent & relationship with all other input variables are not good bond\n",
    "# 7. total sulfur dioxide- correlationship with tergetr value is (-)19 persent & relationship with all other input variables are good bond\n",
    "# 8. density -          correlationship with tergetr value is (-)17 persent & relationship with all other input variables are good bond\n",
    "# 9. pH-             correlationship with tergetr value is 5.8 persent & relationship with all other input variables are not good bond\n",
    "# 10. sulphates -   correlationship with tergetr value is 25 persent & relationship with all other input variables are good bond\n",
    "# 11. alcohol- correlationship with tergetr value is 48 persent & relationship with all other input variables are good bond.\n",
    "\n",
    "# Max corr= Alcohlo\n",
    "# min corr= residual sugar \n"
   ]
  },
  {
   "cell_type": "code",
   "execution_count": 47,
   "id": "b8da4018",
   "metadata": {},
   "outputs": [],
   "source": [
    "# Drop the data due correlation is close to zero. less correlationship"
   ]
  },
  {
   "cell_type": "code",
   "execution_count": 48,
   "id": "aebae87b",
   "metadata": {},
   "outputs": [],
   "source": [
    "df=data.drop(['residual sugar','chlorides','free sulfur dioxide'],axis=1)"
   ]
  },
  {
   "cell_type": "code",
   "execution_count": 49,
   "id": "519f2a56",
   "metadata": {},
   "outputs": [
    {
     "data": {
      "text/html": [
       "<div>\n",
       "<style scoped>\n",
       "    .dataframe tbody tr th:only-of-type {\n",
       "        vertical-align: middle;\n",
       "    }\n",
       "\n",
       "    .dataframe tbody tr th {\n",
       "        vertical-align: top;\n",
       "    }\n",
       "\n",
       "    .dataframe thead th {\n",
       "        text-align: right;\n",
       "    }\n",
       "</style>\n",
       "<table border=\"1\" class=\"dataframe\">\n",
       "  <thead>\n",
       "    <tr style=\"text-align: right;\">\n",
       "      <th></th>\n",
       "      <th>fixed acidity</th>\n",
       "      <th>volatile acidity</th>\n",
       "      <th>citric acid</th>\n",
       "      <th>total sulfur dioxide</th>\n",
       "      <th>density</th>\n",
       "      <th>pH</th>\n",
       "      <th>sulphates</th>\n",
       "      <th>alcohol</th>\n",
       "      <th>quality</th>\n",
       "    </tr>\n",
       "  </thead>\n",
       "  <tbody>\n",
       "    <tr>\n",
       "      <th>0</th>\n",
       "      <td>7.4</td>\n",
       "      <td>0.700</td>\n",
       "      <td>0.00</td>\n",
       "      <td>34.0</td>\n",
       "      <td>0.99780</td>\n",
       "      <td>3.51</td>\n",
       "      <td>0.56</td>\n",
       "      <td>9.4</td>\n",
       "      <td>5</td>\n",
       "    </tr>\n",
       "    <tr>\n",
       "      <th>1</th>\n",
       "      <td>7.8</td>\n",
       "      <td>0.880</td>\n",
       "      <td>0.00</td>\n",
       "      <td>67.0</td>\n",
       "      <td>0.99680</td>\n",
       "      <td>3.20</td>\n",
       "      <td>0.68</td>\n",
       "      <td>9.8</td>\n",
       "      <td>5</td>\n",
       "    </tr>\n",
       "    <tr>\n",
       "      <th>2</th>\n",
       "      <td>7.8</td>\n",
       "      <td>0.760</td>\n",
       "      <td>0.04</td>\n",
       "      <td>54.0</td>\n",
       "      <td>0.99700</td>\n",
       "      <td>3.26</td>\n",
       "      <td>0.65</td>\n",
       "      <td>9.8</td>\n",
       "      <td>5</td>\n",
       "    </tr>\n",
       "    <tr>\n",
       "      <th>3</th>\n",
       "      <td>11.2</td>\n",
       "      <td>0.280</td>\n",
       "      <td>0.56</td>\n",
       "      <td>60.0</td>\n",
       "      <td>0.99800</td>\n",
       "      <td>3.16</td>\n",
       "      <td>0.58</td>\n",
       "      <td>9.8</td>\n",
       "      <td>6</td>\n",
       "    </tr>\n",
       "    <tr>\n",
       "      <th>4</th>\n",
       "      <td>7.4</td>\n",
       "      <td>0.700</td>\n",
       "      <td>0.00</td>\n",
       "      <td>34.0</td>\n",
       "      <td>0.99780</td>\n",
       "      <td>3.51</td>\n",
       "      <td>0.56</td>\n",
       "      <td>9.4</td>\n",
       "      <td>5</td>\n",
       "    </tr>\n",
       "    <tr>\n",
       "      <th>...</th>\n",
       "      <td>...</td>\n",
       "      <td>...</td>\n",
       "      <td>...</td>\n",
       "      <td>...</td>\n",
       "      <td>...</td>\n",
       "      <td>...</td>\n",
       "      <td>...</td>\n",
       "      <td>...</td>\n",
       "      <td>...</td>\n",
       "    </tr>\n",
       "    <tr>\n",
       "      <th>1594</th>\n",
       "      <td>6.2</td>\n",
       "      <td>0.600</td>\n",
       "      <td>0.08</td>\n",
       "      <td>44.0</td>\n",
       "      <td>0.99490</td>\n",
       "      <td>3.45</td>\n",
       "      <td>0.58</td>\n",
       "      <td>10.5</td>\n",
       "      <td>5</td>\n",
       "    </tr>\n",
       "    <tr>\n",
       "      <th>1595</th>\n",
       "      <td>5.9</td>\n",
       "      <td>0.550</td>\n",
       "      <td>0.10</td>\n",
       "      <td>51.0</td>\n",
       "      <td>0.99512</td>\n",
       "      <td>3.52</td>\n",
       "      <td>0.76</td>\n",
       "      <td>11.2</td>\n",
       "      <td>6</td>\n",
       "    </tr>\n",
       "    <tr>\n",
       "      <th>1596</th>\n",
       "      <td>6.3</td>\n",
       "      <td>0.510</td>\n",
       "      <td>0.13</td>\n",
       "      <td>40.0</td>\n",
       "      <td>0.99574</td>\n",
       "      <td>3.42</td>\n",
       "      <td>0.75</td>\n",
       "      <td>11.0</td>\n",
       "      <td>6</td>\n",
       "    </tr>\n",
       "    <tr>\n",
       "      <th>1597</th>\n",
       "      <td>5.9</td>\n",
       "      <td>0.645</td>\n",
       "      <td>0.12</td>\n",
       "      <td>44.0</td>\n",
       "      <td>0.99547</td>\n",
       "      <td>3.57</td>\n",
       "      <td>0.71</td>\n",
       "      <td>10.2</td>\n",
       "      <td>5</td>\n",
       "    </tr>\n",
       "    <tr>\n",
       "      <th>1598</th>\n",
       "      <td>6.0</td>\n",
       "      <td>0.310</td>\n",
       "      <td>0.47</td>\n",
       "      <td>42.0</td>\n",
       "      <td>0.99549</td>\n",
       "      <td>3.39</td>\n",
       "      <td>0.66</td>\n",
       "      <td>11.0</td>\n",
       "      <td>6</td>\n",
       "    </tr>\n",
       "  </tbody>\n",
       "</table>\n",
       "<p>1599 rows × 9 columns</p>\n",
       "</div>"
      ],
      "text/plain": [
       "      fixed acidity  volatile acidity  citric acid  total sulfur dioxide  \\\n",
       "0               7.4             0.700         0.00                  34.0   \n",
       "1               7.8             0.880         0.00                  67.0   \n",
       "2               7.8             0.760         0.04                  54.0   \n",
       "3              11.2             0.280         0.56                  60.0   \n",
       "4               7.4             0.700         0.00                  34.0   \n",
       "...             ...               ...          ...                   ...   \n",
       "1594            6.2             0.600         0.08                  44.0   \n",
       "1595            5.9             0.550         0.10                  51.0   \n",
       "1596            6.3             0.510         0.13                  40.0   \n",
       "1597            5.9             0.645         0.12                  44.0   \n",
       "1598            6.0             0.310         0.47                  42.0   \n",
       "\n",
       "      density    pH  sulphates  alcohol  quality  \n",
       "0     0.99780  3.51       0.56      9.4        5  \n",
       "1     0.99680  3.20       0.68      9.8        5  \n",
       "2     0.99700  3.26       0.65      9.8        5  \n",
       "3     0.99800  3.16       0.58      9.8        6  \n",
       "4     0.99780  3.51       0.56      9.4        5  \n",
       "...       ...   ...        ...      ...      ...  \n",
       "1594  0.99490  3.45       0.58     10.5        5  \n",
       "1595  0.99512  3.52       0.76     11.2        6  \n",
       "1596  0.99574  3.42       0.75     11.0        6  \n",
       "1597  0.99547  3.57       0.71     10.2        5  \n",
       "1598  0.99549  3.39       0.66     11.0        6  \n",
       "\n",
       "[1599 rows x 9 columns]"
      ]
     },
     "execution_count": 49,
     "metadata": {},
     "output_type": "execute_result"
    }
   ],
   "source": [
    "df"
   ]
  },
  {
   "cell_type": "code",
   "execution_count": 50,
   "id": "92c21a5e",
   "metadata": {},
   "outputs": [
    {
     "data": {
      "text/html": [
       "<div>\n",
       "<style scoped>\n",
       "    .dataframe tbody tr th:only-of-type {\n",
       "        vertical-align: middle;\n",
       "    }\n",
       "\n",
       "    .dataframe tbody tr th {\n",
       "        vertical-align: top;\n",
       "    }\n",
       "\n",
       "    .dataframe thead th {\n",
       "        text-align: right;\n",
       "    }\n",
       "</style>\n",
       "<table border=\"1\" class=\"dataframe\">\n",
       "  <thead>\n",
       "    <tr style=\"text-align: right;\">\n",
       "      <th></th>\n",
       "      <th>fixed acidity</th>\n",
       "      <th>volatile acidity</th>\n",
       "      <th>citric acid</th>\n",
       "      <th>residual sugar</th>\n",
       "      <th>chlorides</th>\n",
       "      <th>free sulfur dioxide</th>\n",
       "      <th>total sulfur dioxide</th>\n",
       "      <th>density</th>\n",
       "      <th>pH</th>\n",
       "      <th>sulphates</th>\n",
       "      <th>alcohol</th>\n",
       "      <th>quality</th>\n",
       "    </tr>\n",
       "  </thead>\n",
       "  <tbody>\n",
       "    <tr>\n",
       "      <th>0</th>\n",
       "      <td>7.4</td>\n",
       "      <td>0.700</td>\n",
       "      <td>0.00</td>\n",
       "      <td>1.9</td>\n",
       "      <td>0.076</td>\n",
       "      <td>11.0</td>\n",
       "      <td>34.0</td>\n",
       "      <td>0.99780</td>\n",
       "      <td>3.51</td>\n",
       "      <td>0.56</td>\n",
       "      <td>9.4</td>\n",
       "      <td>5</td>\n",
       "    </tr>\n",
       "    <tr>\n",
       "      <th>1</th>\n",
       "      <td>7.8</td>\n",
       "      <td>0.880</td>\n",
       "      <td>0.00</td>\n",
       "      <td>2.6</td>\n",
       "      <td>0.098</td>\n",
       "      <td>25.0</td>\n",
       "      <td>67.0</td>\n",
       "      <td>0.99680</td>\n",
       "      <td>3.20</td>\n",
       "      <td>0.68</td>\n",
       "      <td>9.8</td>\n",
       "      <td>5</td>\n",
       "    </tr>\n",
       "    <tr>\n",
       "      <th>2</th>\n",
       "      <td>7.8</td>\n",
       "      <td>0.760</td>\n",
       "      <td>0.04</td>\n",
       "      <td>2.3</td>\n",
       "      <td>0.092</td>\n",
       "      <td>15.0</td>\n",
       "      <td>54.0</td>\n",
       "      <td>0.99700</td>\n",
       "      <td>3.26</td>\n",
       "      <td>0.65</td>\n",
       "      <td>9.8</td>\n",
       "      <td>5</td>\n",
       "    </tr>\n",
       "    <tr>\n",
       "      <th>3</th>\n",
       "      <td>11.2</td>\n",
       "      <td>0.280</td>\n",
       "      <td>0.56</td>\n",
       "      <td>1.9</td>\n",
       "      <td>0.075</td>\n",
       "      <td>17.0</td>\n",
       "      <td>60.0</td>\n",
       "      <td>0.99800</td>\n",
       "      <td>3.16</td>\n",
       "      <td>0.58</td>\n",
       "      <td>9.8</td>\n",
       "      <td>6</td>\n",
       "    </tr>\n",
       "    <tr>\n",
       "      <th>4</th>\n",
       "      <td>7.4</td>\n",
       "      <td>0.700</td>\n",
       "      <td>0.00</td>\n",
       "      <td>1.9</td>\n",
       "      <td>0.076</td>\n",
       "      <td>11.0</td>\n",
       "      <td>34.0</td>\n",
       "      <td>0.99780</td>\n",
       "      <td>3.51</td>\n",
       "      <td>0.56</td>\n",
       "      <td>9.4</td>\n",
       "      <td>5</td>\n",
       "    </tr>\n",
       "    <tr>\n",
       "      <th>...</th>\n",
       "      <td>...</td>\n",
       "      <td>...</td>\n",
       "      <td>...</td>\n",
       "      <td>...</td>\n",
       "      <td>...</td>\n",
       "      <td>...</td>\n",
       "      <td>...</td>\n",
       "      <td>...</td>\n",
       "      <td>...</td>\n",
       "      <td>...</td>\n",
       "      <td>...</td>\n",
       "      <td>...</td>\n",
       "    </tr>\n",
       "    <tr>\n",
       "      <th>1594</th>\n",
       "      <td>6.2</td>\n",
       "      <td>0.600</td>\n",
       "      <td>0.08</td>\n",
       "      <td>2.0</td>\n",
       "      <td>0.090</td>\n",
       "      <td>32.0</td>\n",
       "      <td>44.0</td>\n",
       "      <td>0.99490</td>\n",
       "      <td>3.45</td>\n",
       "      <td>0.58</td>\n",
       "      <td>10.5</td>\n",
       "      <td>5</td>\n",
       "    </tr>\n",
       "    <tr>\n",
       "      <th>1595</th>\n",
       "      <td>5.9</td>\n",
       "      <td>0.550</td>\n",
       "      <td>0.10</td>\n",
       "      <td>2.2</td>\n",
       "      <td>0.062</td>\n",
       "      <td>39.0</td>\n",
       "      <td>51.0</td>\n",
       "      <td>0.99512</td>\n",
       "      <td>3.52</td>\n",
       "      <td>0.76</td>\n",
       "      <td>11.2</td>\n",
       "      <td>6</td>\n",
       "    </tr>\n",
       "    <tr>\n",
       "      <th>1596</th>\n",
       "      <td>6.3</td>\n",
       "      <td>0.510</td>\n",
       "      <td>0.13</td>\n",
       "      <td>2.3</td>\n",
       "      <td>0.076</td>\n",
       "      <td>29.0</td>\n",
       "      <td>40.0</td>\n",
       "      <td>0.99574</td>\n",
       "      <td>3.42</td>\n",
       "      <td>0.75</td>\n",
       "      <td>11.0</td>\n",
       "      <td>6</td>\n",
       "    </tr>\n",
       "    <tr>\n",
       "      <th>1597</th>\n",
       "      <td>5.9</td>\n",
       "      <td>0.645</td>\n",
       "      <td>0.12</td>\n",
       "      <td>2.0</td>\n",
       "      <td>0.075</td>\n",
       "      <td>32.0</td>\n",
       "      <td>44.0</td>\n",
       "      <td>0.99547</td>\n",
       "      <td>3.57</td>\n",
       "      <td>0.71</td>\n",
       "      <td>10.2</td>\n",
       "      <td>5</td>\n",
       "    </tr>\n",
       "    <tr>\n",
       "      <th>1598</th>\n",
       "      <td>6.0</td>\n",
       "      <td>0.310</td>\n",
       "      <td>0.47</td>\n",
       "      <td>3.6</td>\n",
       "      <td>0.067</td>\n",
       "      <td>18.0</td>\n",
       "      <td>42.0</td>\n",
       "      <td>0.99549</td>\n",
       "      <td>3.39</td>\n",
       "      <td>0.66</td>\n",
       "      <td>11.0</td>\n",
       "      <td>6</td>\n",
       "    </tr>\n",
       "  </tbody>\n",
       "</table>\n",
       "<p>1599 rows × 12 columns</p>\n",
       "</div>"
      ],
      "text/plain": [
       "      fixed acidity  volatile acidity  citric acid  residual sugar  chlorides  \\\n",
       "0               7.4             0.700         0.00             1.9      0.076   \n",
       "1               7.8             0.880         0.00             2.6      0.098   \n",
       "2               7.8             0.760         0.04             2.3      0.092   \n",
       "3              11.2             0.280         0.56             1.9      0.075   \n",
       "4               7.4             0.700         0.00             1.9      0.076   \n",
       "...             ...               ...          ...             ...        ...   \n",
       "1594            6.2             0.600         0.08             2.0      0.090   \n",
       "1595            5.9             0.550         0.10             2.2      0.062   \n",
       "1596            6.3             0.510         0.13             2.3      0.076   \n",
       "1597            5.9             0.645         0.12             2.0      0.075   \n",
       "1598            6.0             0.310         0.47             3.6      0.067   \n",
       "\n",
       "      free sulfur dioxide  total sulfur dioxide  density    pH  sulphates  \\\n",
       "0                    11.0                  34.0  0.99780  3.51       0.56   \n",
       "1                    25.0                  67.0  0.99680  3.20       0.68   \n",
       "2                    15.0                  54.0  0.99700  3.26       0.65   \n",
       "3                    17.0                  60.0  0.99800  3.16       0.58   \n",
       "4                    11.0                  34.0  0.99780  3.51       0.56   \n",
       "...                   ...                   ...      ...   ...        ...   \n",
       "1594                 32.0                  44.0  0.99490  3.45       0.58   \n",
       "1595                 39.0                  51.0  0.99512  3.52       0.76   \n",
       "1596                 29.0                  40.0  0.99574  3.42       0.75   \n",
       "1597                 32.0                  44.0  0.99547  3.57       0.71   \n",
       "1598                 18.0                  42.0  0.99549  3.39       0.66   \n",
       "\n",
       "      alcohol  quality  \n",
       "0         9.4        5  \n",
       "1         9.8        5  \n",
       "2         9.8        5  \n",
       "3         9.8        6  \n",
       "4         9.4        5  \n",
       "...       ...      ...  \n",
       "1594     10.5        5  \n",
       "1595     11.2        6  \n",
       "1596     11.0        6  \n",
       "1597     10.2        5  \n",
       "1598     11.0        6  \n",
       "\n",
       "[1599 rows x 12 columns]"
      ]
     },
     "execution_count": 50,
     "metadata": {},
     "output_type": "execute_result"
    }
   ],
   "source": [
    "data"
   ]
  },
  {
   "cell_type": "code",
   "execution_count": 51,
   "id": "a6812051",
   "metadata": {},
   "outputs": [],
   "source": [
    "# Cheking outlier of each feature"
   ]
  },
  {
   "cell_type": "code",
   "execution_count": 52,
   "id": "967bce2e",
   "metadata": {},
   "outputs": [
    {
     "data": {
      "image/png": "[encoded data removed]",
      "text/plain": [
       "<Figure size 864x1008 with 9 Axes>"
      ]
     },
     "metadata": {
      "needs_background": "light"
     },
     "output_type": "display_data"
    }
   ],
   "source": [
    "plt.figure(figsize=(12,14))\n",
    "plotnumber=1\n",
    "for column in df:\n",
    "    if plotnumber<=9:\n",
    "        plt.subplot(3,3,plotnumber)\n",
    "        ax=sns.boxplot(df[column])\n",
    "        plt.xlabel(column, fontsize=20)\n",
    "    plotnumber+=1\n",
    "    \n",
    "plt.show()"
   ]
  },
  {
   "cell_type": "code",
   "execution_count": 53,
   "id": "a2d48901",
   "metadata": {},
   "outputs": [],
   "source": [
    "# observation \n",
    "\n",
    "# 1. Each columns has outlier"
   ]
  },
  {
   "cell_type": "code",
   "execution_count": 54,
   "id": "28c0e0b7",
   "metadata": {},
   "outputs": [],
   "source": [
    "x=df.drop(['quality'],axis=1)\n",
    "y=df.quality"
   ]
  },
  {
   "cell_type": "code",
   "execution_count": 55,
   "id": "7f0b697b",
   "metadata": {},
   "outputs": [],
   "source": [
    "# cleaning the dataset."
   ]
  },
  {
   "cell_type": "code",
   "execution_count": null,
   "id": "bcde1dac",
   "metadata": {},
   "outputs": [],
   "source": []
  },
  {
   "cell_type": "code",
   "execution_count": 56,
   "id": "d4e9c68a",
   "metadata": {},
   "outputs": [],
   "source": [
    "#  removing the skewness using power transform"
   ]
  },
  {
   "cell_type": "code",
   "execution_count": 57,
   "id": "669aecb3",
   "metadata": {},
   "outputs": [],
   "source": [
    "from sklearn.preprocessing import power_transform,PowerTransformer\n"
   ]
  },
  {
   "cell_type": "code",
   "execution_count": 58,
   "id": "8b17b789",
   "metadata": {},
   "outputs": [],
   "source": [
    "pt=PowerTransformer()\n",
    "neW_df= pt.fit_transform(x)"
   ]
  },
  {
   "cell_type": "code",
   "execution_count": 59,
   "id": "9efe2269",
   "metadata": {},
   "outputs": [],
   "source": [
    "# cheking Skewness removed or not"
   ]
  },
  {
   "cell_type": "code",
   "execution_count": 60,
   "id": "0cc191b5",
   "metadata": {},
   "outputs": [
    {
     "data": {
      "text/plain": [
       "density                -0.005054\n",
       "total sulfur dioxide   -0.003752\n",
       "pH                     -0.002823\n",
       "fixed acidity           0.002529\n",
       "volatile acidity        0.003099\n",
       "sulphates               0.009985\n",
       "citric acid             0.017788\n",
       "alcohol                 0.112372\n",
       "dtype: float64"
      ]
     },
     "execution_count": 60,
     "metadata": {},
     "output_type": "execute_result"
    }
   ],
   "source": [
    "pd.DataFrame(neW_df,columns=x.columns).skew().sort_values(ascending=True)"
   ]
  },
  {
   "cell_type": "code",
   "execution_count": null,
   "id": "2a60c7f7",
   "metadata": {},
   "outputs": [],
   "source": []
  },
  {
   "cell_type": "code",
   "execution_count": 61,
   "id": "4f2ab0fb",
   "metadata": {},
   "outputs": [],
   "source": [
    "# observation\n",
    "# Skewness is low now as per previous skewnees. "
   ]
  },
  {
   "cell_type": "code",
   "execution_count": 62,
   "id": "be3cd05f",
   "metadata": {},
   "outputs": [],
   "source": [
    "# Removing the outlier using IQR method"
   ]
  },
  {
   "cell_type": "code",
   "execution_count": 63,
   "id": "786b4e56",
   "metadata": {},
   "outputs": [
    {
     "data": {
      "text/plain": [
       "fixed acidity            7.1000\n",
       "volatile acidity         0.3900\n",
       "citric acid              0.0900\n",
       "residual sugar           1.9000\n",
       "chlorides                0.0700\n",
       "free sulfur dioxide      7.0000\n",
       "total sulfur dioxide    22.0000\n",
       "density                  0.9956\n",
       "pH                       3.2100\n",
       "sulphates                0.5500\n",
       "alcohol                  9.5000\n",
       "quality                  5.0000\n",
       "Name: 0.25, dtype: float64"
      ]
     },
     "execution_count": 63,
     "metadata": {},
     "output_type": "execute_result"
    }
   ],
   "source": [
    "q1=data.quantile(0.25)\n",
    "q1"
   ]
  },
  {
   "cell_type": "code",
   "execution_count": 64,
   "id": "eb95976b",
   "metadata": {},
   "outputs": [
    {
     "data": {
      "text/plain": [
       "fixed acidity            9.200000\n",
       "volatile acidity         0.640000\n",
       "citric acid              0.420000\n",
       "residual sugar           2.600000\n",
       "chlorides                0.090000\n",
       "free sulfur dioxide     21.000000\n",
       "total sulfur dioxide    62.000000\n",
       "density                  0.997835\n",
       "pH                       3.400000\n",
       "sulphates                0.730000\n",
       "alcohol                 11.100000\n",
       "quality                  6.000000\n",
       "Name: 0.75, dtype: float64"
      ]
     },
     "execution_count": 64,
     "metadata": {},
     "output_type": "execute_result"
    }
   ],
   "source": [
    "q3=data.quantile(0.75)\n",
    "q3"
   ]
  },
  {
   "cell_type": "code",
   "execution_count": 65,
   "id": "9b007bab",
   "metadata": {},
   "outputs": [],
   "source": [
    "iqr=q3-q1"
   ]
  },
  {
   "cell_type": "code",
   "execution_count": 66,
   "id": "7ef44e86",
   "metadata": {},
   "outputs": [
    {
     "data": {
      "text/plain": [
       "fixed acidity            2.100000\n",
       "volatile acidity         0.250000\n",
       "citric acid              0.330000\n",
       "residual sugar           0.700000\n",
       "chlorides                0.020000\n",
       "free sulfur dioxide     14.000000\n",
       "total sulfur dioxide    40.000000\n",
       "density                  0.002235\n",
       "pH                       0.190000\n",
       "sulphates                0.180000\n",
       "alcohol                  1.600000\n",
       "quality                  1.000000\n",
       "dtype: float64"
      ]
     },
     "execution_count": 66,
     "metadata": {},
     "output_type": "execute_result"
    }
   ],
   "source": [
    "iqr"
   ]
  },
  {
   "cell_type": "code",
   "execution_count": 67,
   "id": "db400083",
   "metadata": {},
   "outputs": [],
   "source": [
    "higher_side=q3+(1.5*iqr)\n",
    "lower_side=q1-(1.5*iqr)"
   ]
  },
  {
   "cell_type": "code",
   "execution_count": 68,
   "id": "9dd8ab0f",
   "metadata": {},
   "outputs": [
    {
     "data": {
      "text/plain": [
       "fixed acidity            12.350000\n",
       "volatile acidity          1.015000\n",
       "citric acid               0.915000\n",
       "residual sugar            3.650000\n",
       "chlorides                 0.120000\n",
       "free sulfur dioxide      42.000000\n",
       "total sulfur dioxide    122.000000\n",
       "density                   1.001187\n",
       "pH                        3.685000\n",
       "sulphates                 1.000000\n",
       "alcohol                  13.500000\n",
       "quality                   7.500000\n",
       "dtype: float64"
      ]
     },
     "execution_count": 68,
     "metadata": {},
     "output_type": "execute_result"
    }
   ],
   "source": [
    "higher_side"
   ]
  },
  {
   "cell_type": "code",
   "execution_count": 69,
   "id": "c8d6db28",
   "metadata": {},
   "outputs": [
    {
     "data": {
      "text/plain": [
       "fixed acidity            3.950000\n",
       "volatile acidity         0.015000\n",
       "citric acid             -0.405000\n",
       "residual sugar           0.850000\n",
       "chlorides                0.040000\n",
       "free sulfur dioxide    -14.000000\n",
       "total sulfur dioxide   -38.000000\n",
       "density                  0.992248\n",
       "pH                       2.925000\n",
       "sulphates                0.280000\n",
       "alcohol                  7.100000\n",
       "quality                  3.500000\n",
       "dtype: float64"
      ]
     },
     "execution_count": 69,
     "metadata": {},
     "output_type": "execute_result"
    }
   ],
   "source": [
    "lower_side"
   ]
  },
  {
   "cell_type": "code",
   "execution_count": 70,
   "id": "3cb7e93d",
   "metadata": {},
   "outputs": [
    {
     "data": {
      "text/plain": [
       "12.349999999999998"
      ]
     },
     "execution_count": 70,
     "metadata": {},
     "output_type": "execute_result"
    }
   ],
   "source": [
    "higher_fa1=(q3.iloc[0] + (1.5*iqr.iloc[0]))\n",
    "higher_fa1"
   ]
  },
  {
   "cell_type": "code",
   "execution_count": 71,
   "id": "5d094b7c",
   "metadata": {},
   "outputs": [],
   "source": [
    "# cheking index no of higher quantile in Fixed acidity & drop that index "
   ]
  },
  {
   "cell_type": "code",
   "execution_count": 72,
   "id": "e928b5a2",
   "metadata": {},
   "outputs": [
    {
     "data": {
      "text/plain": [
       "(array([ 205,  206,  243,  244,  264,  294,  328,  338,  339,  347,  353,\n",
       "         359,  363,  364,  366,  374,  381,  391,  394,  409,  429,  440,\n",
       "         442,  446,  470,  472,  509,  510,  516,  538,  544,  548,  554,\n",
       "         555,  557,  559,  560,  564,  565,  596,  599,  601,  603,  611,\n",
       "         652,  680,  811,  814, 1224], dtype=int64),)"
      ]
     },
     "execution_count": 72,
     "metadata": {},
     "output_type": "execute_result"
    }
   ],
   "source": [
    "index_fa1=np.where(df['fixed acidity']>higher_fa1)\n",
    "index_fa1"
   ]
  },
  {
   "cell_type": "code",
   "execution_count": 73,
   "id": "562ff8be",
   "metadata": {},
   "outputs": [],
   "source": [
    "df=df.drop(df.index[index_fa1])"
   ]
  },
  {
   "cell_type": "code",
   "execution_count": 74,
   "id": "ade0d005",
   "metadata": {},
   "outputs": [
    {
     "data": {
      "text/html": [
       "<div>\n",
       "<style scoped>\n",
       "    .dataframe tbody tr th:only-of-type {\n",
       "        vertical-align: middle;\n",
       "    }\n",
       "\n",
       "    .dataframe tbody tr th {\n",
       "        vertical-align: top;\n",
       "    }\n",
       "\n",
       "    .dataframe thead th {\n",
       "        text-align: right;\n",
       "    }\n",
       "</style>\n",
       "<table border=\"1\" class=\"dataframe\">\n",
       "  <thead>\n",
       "    <tr style=\"text-align: right;\">\n",
       "      <th></th>\n",
       "      <th>fixed acidity</th>\n",
       "      <th>volatile acidity</th>\n",
       "      <th>citric acid</th>\n",
       "      <th>total sulfur dioxide</th>\n",
       "      <th>density</th>\n",
       "      <th>pH</th>\n",
       "      <th>sulphates</th>\n",
       "      <th>alcohol</th>\n",
       "      <th>quality</th>\n",
       "    </tr>\n",
       "  </thead>\n",
       "  <tbody>\n",
       "    <tr>\n",
       "      <th>0</th>\n",
       "      <td>7.4</td>\n",
       "      <td>0.700</td>\n",
       "      <td>0.00</td>\n",
       "      <td>34.0</td>\n",
       "      <td>0.99780</td>\n",
       "      <td>3.51</td>\n",
       "      <td>0.56</td>\n",
       "      <td>9.4</td>\n",
       "      <td>5</td>\n",
       "    </tr>\n",
       "    <tr>\n",
       "      <th>1</th>\n",
       "      <td>7.8</td>\n",
       "      <td>0.880</td>\n",
       "      <td>0.00</td>\n",
       "      <td>67.0</td>\n",
       "      <td>0.99680</td>\n",
       "      <td>3.20</td>\n",
       "      <td>0.68</td>\n",
       "      <td>9.8</td>\n",
       "      <td>5</td>\n",
       "    </tr>\n",
       "    <tr>\n",
       "      <th>2</th>\n",
       "      <td>7.8</td>\n",
       "      <td>0.760</td>\n",
       "      <td>0.04</td>\n",
       "      <td>54.0</td>\n",
       "      <td>0.99700</td>\n",
       "      <td>3.26</td>\n",
       "      <td>0.65</td>\n",
       "      <td>9.8</td>\n",
       "      <td>5</td>\n",
       "    </tr>\n",
       "    <tr>\n",
       "      <th>3</th>\n",
       "      <td>11.2</td>\n",
       "      <td>0.280</td>\n",
       "      <td>0.56</td>\n",
       "      <td>60.0</td>\n",
       "      <td>0.99800</td>\n",
       "      <td>3.16</td>\n",
       "      <td>0.58</td>\n",
       "      <td>9.8</td>\n",
       "      <td>6</td>\n",
       "    </tr>\n",
       "    <tr>\n",
       "      <th>4</th>\n",
       "      <td>7.4</td>\n",
       "      <td>0.700</td>\n",
       "      <td>0.00</td>\n",
       "      <td>34.0</td>\n",
       "      <td>0.99780</td>\n",
       "      <td>3.51</td>\n",
       "      <td>0.56</td>\n",
       "      <td>9.4</td>\n",
       "      <td>5</td>\n",
       "    </tr>\n",
       "    <tr>\n",
       "      <th>...</th>\n",
       "      <td>...</td>\n",
       "      <td>...</td>\n",
       "      <td>...</td>\n",
       "      <td>...</td>\n",
       "      <td>...</td>\n",
       "      <td>...</td>\n",
       "      <td>...</td>\n",
       "      <td>...</td>\n",
       "      <td>...</td>\n",
       "    </tr>\n",
       "    <tr>\n",
       "      <th>1594</th>\n",
       "      <td>6.2</td>\n",
       "      <td>0.600</td>\n",
       "      <td>0.08</td>\n",
       "      <td>44.0</td>\n",
       "      <td>0.99490</td>\n",
       "      <td>3.45</td>\n",
       "      <td>0.58</td>\n",
       "      <td>10.5</td>\n",
       "      <td>5</td>\n",
       "    </tr>\n",
       "    <tr>\n",
       "      <th>1595</th>\n",
       "      <td>5.9</td>\n",
       "      <td>0.550</td>\n",
       "      <td>0.10</td>\n",
       "      <td>51.0</td>\n",
       "      <td>0.99512</td>\n",
       "      <td>3.52</td>\n",
       "      <td>0.76</td>\n",
       "      <td>11.2</td>\n",
       "      <td>6</td>\n",
       "    </tr>\n",
       "    <tr>\n",
       "      <th>1596</th>\n",
       "      <td>6.3</td>\n",
       "      <td>0.510</td>\n",
       "      <td>0.13</td>\n",
       "      <td>40.0</td>\n",
       "      <td>0.99574</td>\n",
       "      <td>3.42</td>\n",
       "      <td>0.75</td>\n",
       "      <td>11.0</td>\n",
       "      <td>6</td>\n",
       "    </tr>\n",
       "    <tr>\n",
       "      <th>1597</th>\n",
       "      <td>5.9</td>\n",
       "      <td>0.645</td>\n",
       "      <td>0.12</td>\n",
       "      <td>44.0</td>\n",
       "      <td>0.99547</td>\n",
       "      <td>3.57</td>\n",
       "      <td>0.71</td>\n",
       "      <td>10.2</td>\n",
       "      <td>5</td>\n",
       "    </tr>\n",
       "    <tr>\n",
       "      <th>1598</th>\n",
       "      <td>6.0</td>\n",
       "      <td>0.310</td>\n",
       "      <td>0.47</td>\n",
       "      <td>42.0</td>\n",
       "      <td>0.99549</td>\n",
       "      <td>3.39</td>\n",
       "      <td>0.66</td>\n",
       "      <td>11.0</td>\n",
       "      <td>6</td>\n",
       "    </tr>\n",
       "  </tbody>\n",
       "</table>\n",
       "<p>1550 rows × 9 columns</p>\n",
       "</div>"
      ],
      "text/plain": [
       "      fixed acidity  volatile acidity  citric acid  total sulfur dioxide  \\\n",
       "0               7.4             0.700         0.00                  34.0   \n",
       "1               7.8             0.880         0.00                  67.0   \n",
       "2               7.8             0.760         0.04                  54.0   \n",
       "3              11.2             0.280         0.56                  60.0   \n",
       "4               7.4             0.700         0.00                  34.0   \n",
       "...             ...               ...          ...                   ...   \n",
       "1594            6.2             0.600         0.08                  44.0   \n",
       "1595            5.9             0.550         0.10                  51.0   \n",
       "1596            6.3             0.510         0.13                  40.0   \n",
       "1597            5.9             0.645         0.12                  44.0   \n",
       "1598            6.0             0.310         0.47                  42.0   \n",
       "\n",
       "      density    pH  sulphates  alcohol  quality  \n",
       "0     0.99780  3.51       0.56      9.4        5  \n",
       "1     0.99680  3.20       0.68      9.8        5  \n",
       "2     0.99700  3.26       0.65      9.8        5  \n",
       "3     0.99800  3.16       0.58      9.8        6  \n",
       "4     0.99780  3.51       0.56      9.4        5  \n",
       "...       ...   ...        ...      ...      ...  \n",
       "1594  0.99490  3.45       0.58     10.5        5  \n",
       "1595  0.99512  3.52       0.76     11.2        6  \n",
       "1596  0.99574  3.42       0.75     11.0        6  \n",
       "1597  0.99547  3.57       0.71     10.2        5  \n",
       "1598  0.99549  3.39       0.66     11.0        6  \n",
       "\n",
       "[1550 rows x 9 columns]"
      ]
     },
     "execution_count": 74,
     "metadata": {},
     "output_type": "execute_result"
    }
   ],
   "source": [
    "df"
   ]
  },
  {
   "cell_type": "code",
   "execution_count": 75,
   "id": "89b6dad5",
   "metadata": {},
   "outputs": [],
   "source": [
    "# cheking index no of higher quantile in volatile acidity & drop that index"
   ]
  },
  {
   "cell_type": "code",
   "execution_count": 76,
   "id": "5017a3e2",
   "metadata": {},
   "outputs": [
    {
     "data": {
      "text/plain": [
       "1.0150000000000001"
      ]
     },
     "execution_count": 76,
     "metadata": {},
     "output_type": "execute_result"
    }
   ],
   "source": [
    "higher_va=(q3.iloc[1] + (1.5*iqr.iloc[1]))\n",
    "higher_va"
   ]
  },
  {
   "cell_type": "code",
   "execution_count": 77,
   "id": "790ccea3",
   "metadata": {},
   "outputs": [
    {
     "data": {
      "text/plain": [
       "(array([  38,   94,  120,  126,  127,  134,  199,  521,  627,  644,  654,\n",
       "         659,  664,  678,  851, 1212, 1250, 1263, 1418], dtype=int64),)"
      ]
     },
     "execution_count": 77,
     "metadata": {},
     "output_type": "execute_result"
    }
   ],
   "source": [
    "index_va=np.where(df['volatile acidity']>higher_va)\n",
    "index_va"
   ]
  },
  {
   "cell_type": "code",
   "execution_count": 78,
   "id": "07e114f9",
   "metadata": {},
   "outputs": [],
   "source": [
    "df=df.drop(df.index[index_va])"
   ]
  },
  {
   "cell_type": "code",
   "execution_count": 79,
   "id": "97e8f67c",
   "metadata": {},
   "outputs": [
    {
     "data": {
      "text/html": [
       "<div>\n",
       "<style scoped>\n",
       "    .dataframe tbody tr th:only-of-type {\n",
       "        vertical-align: middle;\n",
       "    }\n",
       "\n",
       "    .dataframe tbody tr th {\n",
       "        vertical-align: top;\n",
       "    }\n",
       "\n",
       "    .dataframe thead th {\n",
       "        text-align: right;\n",
       "    }\n",
       "</style>\n",
       "<table border=\"1\" class=\"dataframe\">\n",
       "  <thead>\n",
       "    <tr style=\"text-align: right;\">\n",
       "      <th></th>\n",
       "      <th>fixed acidity</th>\n",
       "      <th>volatile acidity</th>\n",
       "      <th>citric acid</th>\n",
       "      <th>total sulfur dioxide</th>\n",
       "      <th>density</th>\n",
       "      <th>pH</th>\n",
       "      <th>sulphates</th>\n",
       "      <th>alcohol</th>\n",
       "      <th>quality</th>\n",
       "    </tr>\n",
       "  </thead>\n",
       "  <tbody>\n",
       "    <tr>\n",
       "      <th>0</th>\n",
       "      <td>7.4</td>\n",
       "      <td>0.700</td>\n",
       "      <td>0.00</td>\n",
       "      <td>34.0</td>\n",
       "      <td>0.99780</td>\n",
       "      <td>3.51</td>\n",
       "      <td>0.56</td>\n",
       "      <td>9.4</td>\n",
       "      <td>5</td>\n",
       "    </tr>\n",
       "    <tr>\n",
       "      <th>1</th>\n",
       "      <td>7.8</td>\n",
       "      <td>0.880</td>\n",
       "      <td>0.00</td>\n",
       "      <td>67.0</td>\n",
       "      <td>0.99680</td>\n",
       "      <td>3.20</td>\n",
       "      <td>0.68</td>\n",
       "      <td>9.8</td>\n",
       "      <td>5</td>\n",
       "    </tr>\n",
       "    <tr>\n",
       "      <th>2</th>\n",
       "      <td>7.8</td>\n",
       "      <td>0.760</td>\n",
       "      <td>0.04</td>\n",
       "      <td>54.0</td>\n",
       "      <td>0.99700</td>\n",
       "      <td>3.26</td>\n",
       "      <td>0.65</td>\n",
       "      <td>9.8</td>\n",
       "      <td>5</td>\n",
       "    </tr>\n",
       "    <tr>\n",
       "      <th>3</th>\n",
       "      <td>11.2</td>\n",
       "      <td>0.280</td>\n",
       "      <td>0.56</td>\n",
       "      <td>60.0</td>\n",
       "      <td>0.99800</td>\n",
       "      <td>3.16</td>\n",
       "      <td>0.58</td>\n",
       "      <td>9.8</td>\n",
       "      <td>6</td>\n",
       "    </tr>\n",
       "    <tr>\n",
       "      <th>4</th>\n",
       "      <td>7.4</td>\n",
       "      <td>0.700</td>\n",
       "      <td>0.00</td>\n",
       "      <td>34.0</td>\n",
       "      <td>0.99780</td>\n",
       "      <td>3.51</td>\n",
       "      <td>0.56</td>\n",
       "      <td>9.4</td>\n",
       "      <td>5</td>\n",
       "    </tr>\n",
       "    <tr>\n",
       "      <th>...</th>\n",
       "      <td>...</td>\n",
       "      <td>...</td>\n",
       "      <td>...</td>\n",
       "      <td>...</td>\n",
       "      <td>...</td>\n",
       "      <td>...</td>\n",
       "      <td>...</td>\n",
       "      <td>...</td>\n",
       "      <td>...</td>\n",
       "    </tr>\n",
       "    <tr>\n",
       "      <th>1594</th>\n",
       "      <td>6.2</td>\n",
       "      <td>0.600</td>\n",
       "      <td>0.08</td>\n",
       "      <td>44.0</td>\n",
       "      <td>0.99490</td>\n",
       "      <td>3.45</td>\n",
       "      <td>0.58</td>\n",
       "      <td>10.5</td>\n",
       "      <td>5</td>\n",
       "    </tr>\n",
       "    <tr>\n",
       "      <th>1595</th>\n",
       "      <td>5.9</td>\n",
       "      <td>0.550</td>\n",
       "      <td>0.10</td>\n",
       "      <td>51.0</td>\n",
       "      <td>0.99512</td>\n",
       "      <td>3.52</td>\n",
       "      <td>0.76</td>\n",
       "      <td>11.2</td>\n",
       "      <td>6</td>\n",
       "    </tr>\n",
       "    <tr>\n",
       "      <th>1596</th>\n",
       "      <td>6.3</td>\n",
       "      <td>0.510</td>\n",
       "      <td>0.13</td>\n",
       "      <td>40.0</td>\n",
       "      <td>0.99574</td>\n",
       "      <td>3.42</td>\n",
       "      <td>0.75</td>\n",
       "      <td>11.0</td>\n",
       "      <td>6</td>\n",
       "    </tr>\n",
       "    <tr>\n",
       "      <th>1597</th>\n",
       "      <td>5.9</td>\n",
       "      <td>0.645</td>\n",
       "      <td>0.12</td>\n",
       "      <td>44.0</td>\n",
       "      <td>0.99547</td>\n",
       "      <td>3.57</td>\n",
       "      <td>0.71</td>\n",
       "      <td>10.2</td>\n",
       "      <td>5</td>\n",
       "    </tr>\n",
       "    <tr>\n",
       "      <th>1598</th>\n",
       "      <td>6.0</td>\n",
       "      <td>0.310</td>\n",
       "      <td>0.47</td>\n",
       "      <td>42.0</td>\n",
       "      <td>0.99549</td>\n",
       "      <td>3.39</td>\n",
       "      <td>0.66</td>\n",
       "      <td>11.0</td>\n",
       "      <td>6</td>\n",
       "    </tr>\n",
       "  </tbody>\n",
       "</table>\n",
       "<p>1531 rows × 9 columns</p>\n",
       "</div>"
      ],
      "text/plain": [
       "      fixed acidity  volatile acidity  citric acid  total sulfur dioxide  \\\n",
       "0               7.4             0.700         0.00                  34.0   \n",
       "1               7.8             0.880         0.00                  67.0   \n",
       "2               7.8             0.760         0.04                  54.0   \n",
       "3              11.2             0.280         0.56                  60.0   \n",
       "4               7.4             0.700         0.00                  34.0   \n",
       "...             ...               ...          ...                   ...   \n",
       "1594            6.2             0.600         0.08                  44.0   \n",
       "1595            5.9             0.550         0.10                  51.0   \n",
       "1596            6.3             0.510         0.13                  40.0   \n",
       "1597            5.9             0.645         0.12                  44.0   \n",
       "1598            6.0             0.310         0.47                  42.0   \n",
       "\n",
       "      density    pH  sulphates  alcohol  quality  \n",
       "0     0.99780  3.51       0.56      9.4        5  \n",
       "1     0.99680  3.20       0.68      9.8        5  \n",
       "2     0.99700  3.26       0.65      9.8        5  \n",
       "3     0.99800  3.16       0.58      9.8        6  \n",
       "4     0.99780  3.51       0.56      9.4        5  \n",
       "...       ...   ...        ...      ...      ...  \n",
       "1594  0.99490  3.45       0.58     10.5        5  \n",
       "1595  0.99512  3.52       0.76     11.2        6  \n",
       "1596  0.99574  3.42       0.75     11.0        6  \n",
       "1597  0.99547  3.57       0.71     10.2        5  \n",
       "1598  0.99549  3.39       0.66     11.0        6  \n",
       "\n",
       "[1531 rows x 9 columns]"
      ]
     },
     "execution_count": 79,
     "metadata": {},
     "output_type": "execute_result"
    }
   ],
   "source": [
    "df"
   ]
  },
  {
   "cell_type": "code",
   "execution_count": 80,
   "id": "1e07a81f",
   "metadata": {},
   "outputs": [],
   "source": [
    "# cheking index no of higher quantile in citric acid & drop that index\n",
    "# No index found of outlier"
   ]
  },
  {
   "cell_type": "code",
   "execution_count": 81,
   "id": "140eae7f",
   "metadata": {},
   "outputs": [
    {
     "data": {
      "text/plain": [
       "0.9149999999999999"
      ]
     },
     "execution_count": 81,
     "metadata": {},
     "output_type": "execute_result"
    }
   ],
   "source": [
    "higher_ca=(q3.iloc[2] + (1.5*iqr.iloc[2]))\n",
    "higher_ca"
   ]
  },
  {
   "cell_type": "code",
   "execution_count": 82,
   "id": "733cfd24",
   "metadata": {},
   "outputs": [],
   "source": [
    "index_ca=np.where(df['citric acid']>higher_ca)"
   ]
  },
  {
   "cell_type": "code",
   "execution_count": 83,
   "id": "478cbd4c",
   "metadata": {},
   "outputs": [
    {
     "data": {
      "text/plain": [
       "(array([145], dtype=int64),)"
      ]
     },
     "execution_count": 83,
     "metadata": {},
     "output_type": "execute_result"
    }
   ],
   "source": [
    "index_ca"
   ]
  },
  {
   "cell_type": "code",
   "execution_count": 84,
   "id": "49db57e9",
   "metadata": {},
   "outputs": [
    {
     "data": {
      "text/html": [
       "<div>\n",
       "<style scoped>\n",
       "    .dataframe tbody tr th:only-of-type {\n",
       "        vertical-align: middle;\n",
       "    }\n",
       "\n",
       "    .dataframe tbody tr th {\n",
       "        vertical-align: top;\n",
       "    }\n",
       "\n",
       "    .dataframe thead th {\n",
       "        text-align: right;\n",
       "    }\n",
       "</style>\n",
       "<table border=\"1\" class=\"dataframe\">\n",
       "  <thead>\n",
       "    <tr style=\"text-align: right;\">\n",
       "      <th></th>\n",
       "      <th>fixed acidity</th>\n",
       "      <th>volatile acidity</th>\n",
       "      <th>citric acid</th>\n",
       "      <th>total sulfur dioxide</th>\n",
       "      <th>density</th>\n",
       "      <th>pH</th>\n",
       "      <th>sulphates</th>\n",
       "      <th>alcohol</th>\n",
       "      <th>quality</th>\n",
       "    </tr>\n",
       "  </thead>\n",
       "  <tbody>\n",
       "    <tr>\n",
       "      <th>0</th>\n",
       "      <td>7.4</td>\n",
       "      <td>0.700</td>\n",
       "      <td>0.00</td>\n",
       "      <td>34.0</td>\n",
       "      <td>0.99780</td>\n",
       "      <td>3.51</td>\n",
       "      <td>0.56</td>\n",
       "      <td>9.4</td>\n",
       "      <td>5</td>\n",
       "    </tr>\n",
       "    <tr>\n",
       "      <th>1</th>\n",
       "      <td>7.8</td>\n",
       "      <td>0.880</td>\n",
       "      <td>0.00</td>\n",
       "      <td>67.0</td>\n",
       "      <td>0.99680</td>\n",
       "      <td>3.20</td>\n",
       "      <td>0.68</td>\n",
       "      <td>9.8</td>\n",
       "      <td>5</td>\n",
       "    </tr>\n",
       "    <tr>\n",
       "      <th>2</th>\n",
       "      <td>7.8</td>\n",
       "      <td>0.760</td>\n",
       "      <td>0.04</td>\n",
       "      <td>54.0</td>\n",
       "      <td>0.99700</td>\n",
       "      <td>3.26</td>\n",
       "      <td>0.65</td>\n",
       "      <td>9.8</td>\n",
       "      <td>5</td>\n",
       "    </tr>\n",
       "    <tr>\n",
       "      <th>3</th>\n",
       "      <td>11.2</td>\n",
       "      <td>0.280</td>\n",
       "      <td>0.56</td>\n",
       "      <td>60.0</td>\n",
       "      <td>0.99800</td>\n",
       "      <td>3.16</td>\n",
       "      <td>0.58</td>\n",
       "      <td>9.8</td>\n",
       "      <td>6</td>\n",
       "    </tr>\n",
       "    <tr>\n",
       "      <th>4</th>\n",
       "      <td>7.4</td>\n",
       "      <td>0.700</td>\n",
       "      <td>0.00</td>\n",
       "      <td>34.0</td>\n",
       "      <td>0.99780</td>\n",
       "      <td>3.51</td>\n",
       "      <td>0.56</td>\n",
       "      <td>9.4</td>\n",
       "      <td>5</td>\n",
       "    </tr>\n",
       "    <tr>\n",
       "      <th>...</th>\n",
       "      <td>...</td>\n",
       "      <td>...</td>\n",
       "      <td>...</td>\n",
       "      <td>...</td>\n",
       "      <td>...</td>\n",
       "      <td>...</td>\n",
       "      <td>...</td>\n",
       "      <td>...</td>\n",
       "      <td>...</td>\n",
       "    </tr>\n",
       "    <tr>\n",
       "      <th>1594</th>\n",
       "      <td>6.2</td>\n",
       "      <td>0.600</td>\n",
       "      <td>0.08</td>\n",
       "      <td>44.0</td>\n",
       "      <td>0.99490</td>\n",
       "      <td>3.45</td>\n",
       "      <td>0.58</td>\n",
       "      <td>10.5</td>\n",
       "      <td>5</td>\n",
       "    </tr>\n",
       "    <tr>\n",
       "      <th>1595</th>\n",
       "      <td>5.9</td>\n",
       "      <td>0.550</td>\n",
       "      <td>0.10</td>\n",
       "      <td>51.0</td>\n",
       "      <td>0.99512</td>\n",
       "      <td>3.52</td>\n",
       "      <td>0.76</td>\n",
       "      <td>11.2</td>\n",
       "      <td>6</td>\n",
       "    </tr>\n",
       "    <tr>\n",
       "      <th>1596</th>\n",
       "      <td>6.3</td>\n",
       "      <td>0.510</td>\n",
       "      <td>0.13</td>\n",
       "      <td>40.0</td>\n",
       "      <td>0.99574</td>\n",
       "      <td>3.42</td>\n",
       "      <td>0.75</td>\n",
       "      <td>11.0</td>\n",
       "      <td>6</td>\n",
       "    </tr>\n",
       "    <tr>\n",
       "      <th>1597</th>\n",
       "      <td>5.9</td>\n",
       "      <td>0.645</td>\n",
       "      <td>0.12</td>\n",
       "      <td>44.0</td>\n",
       "      <td>0.99547</td>\n",
       "      <td>3.57</td>\n",
       "      <td>0.71</td>\n",
       "      <td>10.2</td>\n",
       "      <td>5</td>\n",
       "    </tr>\n",
       "    <tr>\n",
       "      <th>1598</th>\n",
       "      <td>6.0</td>\n",
       "      <td>0.310</td>\n",
       "      <td>0.47</td>\n",
       "      <td>42.0</td>\n",
       "      <td>0.99549</td>\n",
       "      <td>3.39</td>\n",
       "      <td>0.66</td>\n",
       "      <td>11.0</td>\n",
       "      <td>6</td>\n",
       "    </tr>\n",
       "  </tbody>\n",
       "</table>\n",
       "<p>1531 rows × 9 columns</p>\n",
       "</div>"
      ],
      "text/plain": [
       "      fixed acidity  volatile acidity  citric acid  total sulfur dioxide  \\\n",
       "0               7.4             0.700         0.00                  34.0   \n",
       "1               7.8             0.880         0.00                  67.0   \n",
       "2               7.8             0.760         0.04                  54.0   \n",
       "3              11.2             0.280         0.56                  60.0   \n",
       "4               7.4             0.700         0.00                  34.0   \n",
       "...             ...               ...          ...                   ...   \n",
       "1594            6.2             0.600         0.08                  44.0   \n",
       "1595            5.9             0.550         0.10                  51.0   \n",
       "1596            6.3             0.510         0.13                  40.0   \n",
       "1597            5.9             0.645         0.12                  44.0   \n",
       "1598            6.0             0.310         0.47                  42.0   \n",
       "\n",
       "      density    pH  sulphates  alcohol  quality  \n",
       "0     0.99780  3.51       0.56      9.4        5  \n",
       "1     0.99680  3.20       0.68      9.8        5  \n",
       "2     0.99700  3.26       0.65      9.8        5  \n",
       "3     0.99800  3.16       0.58      9.8        6  \n",
       "4     0.99780  3.51       0.56      9.4        5  \n",
       "...       ...   ...        ...      ...      ...  \n",
       "1594  0.99490  3.45       0.58     10.5        5  \n",
       "1595  0.99512  3.52       0.76     11.2        6  \n",
       "1596  0.99574  3.42       0.75     11.0        6  \n",
       "1597  0.99547  3.57       0.71     10.2        5  \n",
       "1598  0.99549  3.39       0.66     11.0        6  \n",
       "\n",
       "[1531 rows x 9 columns]"
      ]
     },
     "execution_count": 84,
     "metadata": {},
     "output_type": "execute_result"
    }
   ],
   "source": [
    "df"
   ]
  },
  {
   "cell_type": "code",
   "execution_count": 85,
   "id": "816d865a",
   "metadata": {},
   "outputs": [],
   "source": [
    "# cheking index no of higher quantile in total sulfur dioxide & drop that index\n"
   ]
  },
  {
   "cell_type": "code",
   "execution_count": 86,
   "id": "e8072509",
   "metadata": {},
   "outputs": [
    {
     "data": {
      "text/plain": [
       "122.0"
      ]
     },
     "execution_count": 86,
     "metadata": {},
     "output_type": "execute_result"
    }
   ],
   "source": [
    "higher_tsd=(q3.iloc[6] + (1.5*iqr.iloc[6]))\n",
    "higher_tsd"
   ]
  },
  {
   "cell_type": "code",
   "execution_count": 87,
   "id": "846cebb4",
   "metadata": {},
   "outputs": [
    {
     "data": {
      "text/plain": [
       "(array([  14,   15,   85,   87,   89,   90,   91,  107,  125,  139,  148,\n",
       "         149,  150,  151,  182,  183,  184,  186,  194,  210,  300,  336,\n",
       "         370,  374,  388,  390,  432,  480,  486,  487,  544,  584,  585,\n",
       "         597,  599,  629,  638,  664,  681,  711,  712,  731, 1016, 1018,\n",
       "        1068, 1180, 1333, 1334, 1352, 1425, 1428, 1491, 1492, 1493],\n",
       "       dtype=int64),)"
      ]
     },
     "execution_count": 87,
     "metadata": {},
     "output_type": "execute_result"
    }
   ],
   "source": [
    "index_tsd=np.where(df['total sulfur dioxide']>higher_tsd)\n",
    "index_tsd"
   ]
  },
  {
   "cell_type": "code",
   "execution_count": 88,
   "id": "e9b080e6",
   "metadata": {},
   "outputs": [],
   "source": [
    "df=df.drop(df.index[index_tsd])\n"
   ]
  },
  {
   "cell_type": "code",
   "execution_count": 89,
   "id": "6ed4e23b",
   "metadata": {},
   "outputs": [
    {
     "data": {
      "text/html": [
       "<div>\n",
       "<style scoped>\n",
       "    .dataframe tbody tr th:only-of-type {\n",
       "        vertical-align: middle;\n",
       "    }\n",
       "\n",
       "    .dataframe tbody tr th {\n",
       "        vertical-align: top;\n",
       "    }\n",
       "\n",
       "    .dataframe thead th {\n",
       "        text-align: right;\n",
       "    }\n",
       "</style>\n",
       "<table border=\"1\" class=\"dataframe\">\n",
       "  <thead>\n",
       "    <tr style=\"text-align: right;\">\n",
       "      <th></th>\n",
       "      <th>fixed acidity</th>\n",
       "      <th>volatile acidity</th>\n",
       "      <th>citric acid</th>\n",
       "      <th>total sulfur dioxide</th>\n",
       "      <th>density</th>\n",
       "      <th>pH</th>\n",
       "      <th>sulphates</th>\n",
       "      <th>alcohol</th>\n",
       "      <th>quality</th>\n",
       "    </tr>\n",
       "  </thead>\n",
       "  <tbody>\n",
       "    <tr>\n",
       "      <th>0</th>\n",
       "      <td>7.4</td>\n",
       "      <td>0.700</td>\n",
       "      <td>0.00</td>\n",
       "      <td>34.0</td>\n",
       "      <td>0.99780</td>\n",
       "      <td>3.51</td>\n",
       "      <td>0.56</td>\n",
       "      <td>9.4</td>\n",
       "      <td>5</td>\n",
       "    </tr>\n",
       "    <tr>\n",
       "      <th>1</th>\n",
       "      <td>7.8</td>\n",
       "      <td>0.880</td>\n",
       "      <td>0.00</td>\n",
       "      <td>67.0</td>\n",
       "      <td>0.99680</td>\n",
       "      <td>3.20</td>\n",
       "      <td>0.68</td>\n",
       "      <td>9.8</td>\n",
       "      <td>5</td>\n",
       "    </tr>\n",
       "    <tr>\n",
       "      <th>2</th>\n",
       "      <td>7.8</td>\n",
       "      <td>0.760</td>\n",
       "      <td>0.04</td>\n",
       "      <td>54.0</td>\n",
       "      <td>0.99700</td>\n",
       "      <td>3.26</td>\n",
       "      <td>0.65</td>\n",
       "      <td>9.8</td>\n",
       "      <td>5</td>\n",
       "    </tr>\n",
       "    <tr>\n",
       "      <th>3</th>\n",
       "      <td>11.2</td>\n",
       "      <td>0.280</td>\n",
       "      <td>0.56</td>\n",
       "      <td>60.0</td>\n",
       "      <td>0.99800</td>\n",
       "      <td>3.16</td>\n",
       "      <td>0.58</td>\n",
       "      <td>9.8</td>\n",
       "      <td>6</td>\n",
       "    </tr>\n",
       "    <tr>\n",
       "      <th>4</th>\n",
       "      <td>7.4</td>\n",
       "      <td>0.700</td>\n",
       "      <td>0.00</td>\n",
       "      <td>34.0</td>\n",
       "      <td>0.99780</td>\n",
       "      <td>3.51</td>\n",
       "      <td>0.56</td>\n",
       "      <td>9.4</td>\n",
       "      <td>5</td>\n",
       "    </tr>\n",
       "    <tr>\n",
       "      <th>...</th>\n",
       "      <td>...</td>\n",
       "      <td>...</td>\n",
       "      <td>...</td>\n",
       "      <td>...</td>\n",
       "      <td>...</td>\n",
       "      <td>...</td>\n",
       "      <td>...</td>\n",
       "      <td>...</td>\n",
       "      <td>...</td>\n",
       "    </tr>\n",
       "    <tr>\n",
       "      <th>1594</th>\n",
       "      <td>6.2</td>\n",
       "      <td>0.600</td>\n",
       "      <td>0.08</td>\n",
       "      <td>44.0</td>\n",
       "      <td>0.99490</td>\n",
       "      <td>3.45</td>\n",
       "      <td>0.58</td>\n",
       "      <td>10.5</td>\n",
       "      <td>5</td>\n",
       "    </tr>\n",
       "    <tr>\n",
       "      <th>1595</th>\n",
       "      <td>5.9</td>\n",
       "      <td>0.550</td>\n",
       "      <td>0.10</td>\n",
       "      <td>51.0</td>\n",
       "      <td>0.99512</td>\n",
       "      <td>3.52</td>\n",
       "      <td>0.76</td>\n",
       "      <td>11.2</td>\n",
       "      <td>6</td>\n",
       "    </tr>\n",
       "    <tr>\n",
       "      <th>1596</th>\n",
       "      <td>6.3</td>\n",
       "      <td>0.510</td>\n",
       "      <td>0.13</td>\n",
       "      <td>40.0</td>\n",
       "      <td>0.99574</td>\n",
       "      <td>3.42</td>\n",
       "      <td>0.75</td>\n",
       "      <td>11.0</td>\n",
       "      <td>6</td>\n",
       "    </tr>\n",
       "    <tr>\n",
       "      <th>1597</th>\n",
       "      <td>5.9</td>\n",
       "      <td>0.645</td>\n",
       "      <td>0.12</td>\n",
       "      <td>44.0</td>\n",
       "      <td>0.99547</td>\n",
       "      <td>3.57</td>\n",
       "      <td>0.71</td>\n",
       "      <td>10.2</td>\n",
       "      <td>5</td>\n",
       "    </tr>\n",
       "    <tr>\n",
       "      <th>1598</th>\n",
       "      <td>6.0</td>\n",
       "      <td>0.310</td>\n",
       "      <td>0.47</td>\n",
       "      <td>42.0</td>\n",
       "      <td>0.99549</td>\n",
       "      <td>3.39</td>\n",
       "      <td>0.66</td>\n",
       "      <td>11.0</td>\n",
       "      <td>6</td>\n",
       "    </tr>\n",
       "  </tbody>\n",
       "</table>\n",
       "<p>1477 rows × 9 columns</p>\n",
       "</div>"
      ],
      "text/plain": [
       "      fixed acidity  volatile acidity  citric acid  total sulfur dioxide  \\\n",
       "0               7.4             0.700         0.00                  34.0   \n",
       "1               7.8             0.880         0.00                  67.0   \n",
       "2               7.8             0.760         0.04                  54.0   \n",
       "3              11.2             0.280         0.56                  60.0   \n",
       "4               7.4             0.700         0.00                  34.0   \n",
       "...             ...               ...          ...                   ...   \n",
       "1594            6.2             0.600         0.08                  44.0   \n",
       "1595            5.9             0.550         0.10                  51.0   \n",
       "1596            6.3             0.510         0.13                  40.0   \n",
       "1597            5.9             0.645         0.12                  44.0   \n",
       "1598            6.0             0.310         0.47                  42.0   \n",
       "\n",
       "      density    pH  sulphates  alcohol  quality  \n",
       "0     0.99780  3.51       0.56      9.4        5  \n",
       "1     0.99680  3.20       0.68      9.8        5  \n",
       "2     0.99700  3.26       0.65      9.8        5  \n",
       "3     0.99800  3.16       0.58      9.8        6  \n",
       "4     0.99780  3.51       0.56      9.4        5  \n",
       "...       ...   ...        ...      ...      ...  \n",
       "1594  0.99490  3.45       0.58     10.5        5  \n",
       "1595  0.99512  3.52       0.76     11.2        6  \n",
       "1596  0.99574  3.42       0.75     11.0        6  \n",
       "1597  0.99547  3.57       0.71     10.2        5  \n",
       "1598  0.99549  3.39       0.66     11.0        6  \n",
       "\n",
       "[1477 rows x 9 columns]"
      ]
     },
     "execution_count": 89,
     "metadata": {},
     "output_type": "execute_result"
    }
   ],
   "source": [
    "df"
   ]
  },
  {
   "cell_type": "code",
   "execution_count": 90,
   "id": "61a1ad45",
   "metadata": {},
   "outputs": [],
   "source": [
    "#  cheking index no of higher quantile in density  & drop that index"
   ]
  },
  {
   "cell_type": "code",
   "execution_count": 91,
   "id": "db7594a4",
   "metadata": {},
   "outputs": [],
   "source": [
    "higher_dnst=(q3.density + (1.5*iqr.density))\n"
   ]
  },
  {
   "cell_type": "code",
   "execution_count": 92,
   "id": "27e88ab2",
   "metadata": {},
   "outputs": [],
   "source": [
    "index_dnst=np.where(df['density']>higher_dnst)\n",
    "df=df.drop(df.index[index_dnst])"
   ]
  },
  {
   "cell_type": "code",
   "execution_count": 93,
   "id": "60d8af39",
   "metadata": {},
   "outputs": [
    {
     "data": {
      "text/plain": [
       "0.9922475000000001"
      ]
     },
     "execution_count": 93,
     "metadata": {},
     "output_type": "execute_result"
    }
   ],
   "source": [
    "lower_dnst=(q1.density - (1.5*iqr.density))\n",
    "lower_dnst"
   ]
  },
  {
   "cell_type": "code",
   "execution_count": 94,
   "id": "6a575121",
   "metadata": {},
   "outputs": [],
   "source": [
    "index_lower_dnst=np.where(df['density']<lower_dnst)\n",
    "df=df.drop(df.index[index_lower_dnst])"
   ]
  },
  {
   "cell_type": "code",
   "execution_count": 95,
   "id": "63cf504a",
   "metadata": {},
   "outputs": [
    {
     "data": {
      "text/html": [
       "<div>\n",
       "<style scoped>\n",
       "    .dataframe tbody tr th:only-of-type {\n",
       "        vertical-align: middle;\n",
       "    }\n",
       "\n",
       "    .dataframe tbody tr th {\n",
       "        vertical-align: top;\n",
       "    }\n",
       "\n",
       "    .dataframe thead th {\n",
       "        text-align: right;\n",
       "    }\n",
       "</style>\n",
       "<table border=\"1\" class=\"dataframe\">\n",
       "  <thead>\n",
       "    <tr style=\"text-align: right;\">\n",
       "      <th></th>\n",
       "      <th>fixed acidity</th>\n",
       "      <th>volatile acidity</th>\n",
       "      <th>citric acid</th>\n",
       "      <th>total sulfur dioxide</th>\n",
       "      <th>density</th>\n",
       "      <th>pH</th>\n",
       "      <th>sulphates</th>\n",
       "      <th>alcohol</th>\n",
       "      <th>quality</th>\n",
       "    </tr>\n",
       "  </thead>\n",
       "  <tbody>\n",
       "    <tr>\n",
       "      <th>0</th>\n",
       "      <td>7.4</td>\n",
       "      <td>0.700</td>\n",
       "      <td>0.00</td>\n",
       "      <td>34.0</td>\n",
       "      <td>0.99780</td>\n",
       "      <td>3.51</td>\n",
       "      <td>0.56</td>\n",
       "      <td>9.4</td>\n",
       "      <td>5</td>\n",
       "    </tr>\n",
       "    <tr>\n",
       "      <th>1</th>\n",
       "      <td>7.8</td>\n",
       "      <td>0.880</td>\n",
       "      <td>0.00</td>\n",
       "      <td>67.0</td>\n",
       "      <td>0.99680</td>\n",
       "      <td>3.20</td>\n",
       "      <td>0.68</td>\n",
       "      <td>9.8</td>\n",
       "      <td>5</td>\n",
       "    </tr>\n",
       "    <tr>\n",
       "      <th>2</th>\n",
       "      <td>7.8</td>\n",
       "      <td>0.760</td>\n",
       "      <td>0.04</td>\n",
       "      <td>54.0</td>\n",
       "      <td>0.99700</td>\n",
       "      <td>3.26</td>\n",
       "      <td>0.65</td>\n",
       "      <td>9.8</td>\n",
       "      <td>5</td>\n",
       "    </tr>\n",
       "    <tr>\n",
       "      <th>3</th>\n",
       "      <td>11.2</td>\n",
       "      <td>0.280</td>\n",
       "      <td>0.56</td>\n",
       "      <td>60.0</td>\n",
       "      <td>0.99800</td>\n",
       "      <td>3.16</td>\n",
       "      <td>0.58</td>\n",
       "      <td>9.8</td>\n",
       "      <td>6</td>\n",
       "    </tr>\n",
       "    <tr>\n",
       "      <th>4</th>\n",
       "      <td>7.4</td>\n",
       "      <td>0.700</td>\n",
       "      <td>0.00</td>\n",
       "      <td>34.0</td>\n",
       "      <td>0.99780</td>\n",
       "      <td>3.51</td>\n",
       "      <td>0.56</td>\n",
       "      <td>9.4</td>\n",
       "      <td>5</td>\n",
       "    </tr>\n",
       "    <tr>\n",
       "      <th>...</th>\n",
       "      <td>...</td>\n",
       "      <td>...</td>\n",
       "      <td>...</td>\n",
       "      <td>...</td>\n",
       "      <td>...</td>\n",
       "      <td>...</td>\n",
       "      <td>...</td>\n",
       "      <td>...</td>\n",
       "      <td>...</td>\n",
       "    </tr>\n",
       "    <tr>\n",
       "      <th>1594</th>\n",
       "      <td>6.2</td>\n",
       "      <td>0.600</td>\n",
       "      <td>0.08</td>\n",
       "      <td>44.0</td>\n",
       "      <td>0.99490</td>\n",
       "      <td>3.45</td>\n",
       "      <td>0.58</td>\n",
       "      <td>10.5</td>\n",
       "      <td>5</td>\n",
       "    </tr>\n",
       "    <tr>\n",
       "      <th>1595</th>\n",
       "      <td>5.9</td>\n",
       "      <td>0.550</td>\n",
       "      <td>0.10</td>\n",
       "      <td>51.0</td>\n",
       "      <td>0.99512</td>\n",
       "      <td>3.52</td>\n",
       "      <td>0.76</td>\n",
       "      <td>11.2</td>\n",
       "      <td>6</td>\n",
       "    </tr>\n",
       "    <tr>\n",
       "      <th>1596</th>\n",
       "      <td>6.3</td>\n",
       "      <td>0.510</td>\n",
       "      <td>0.13</td>\n",
       "      <td>40.0</td>\n",
       "      <td>0.99574</td>\n",
       "      <td>3.42</td>\n",
       "      <td>0.75</td>\n",
       "      <td>11.0</td>\n",
       "      <td>6</td>\n",
       "    </tr>\n",
       "    <tr>\n",
       "      <th>1597</th>\n",
       "      <td>5.9</td>\n",
       "      <td>0.645</td>\n",
       "      <td>0.12</td>\n",
       "      <td>44.0</td>\n",
       "      <td>0.99547</td>\n",
       "      <td>3.57</td>\n",
       "      <td>0.71</td>\n",
       "      <td>10.2</td>\n",
       "      <td>5</td>\n",
       "    </tr>\n",
       "    <tr>\n",
       "      <th>1598</th>\n",
       "      <td>6.0</td>\n",
       "      <td>0.310</td>\n",
       "      <td>0.47</td>\n",
       "      <td>42.0</td>\n",
       "      <td>0.99549</td>\n",
       "      <td>3.39</td>\n",
       "      <td>0.66</td>\n",
       "      <td>11.0</td>\n",
       "      <td>6</td>\n",
       "    </tr>\n",
       "  </tbody>\n",
       "</table>\n",
       "<p>1449 rows × 9 columns</p>\n",
       "</div>"
      ],
      "text/plain": [
       "      fixed acidity  volatile acidity  citric acid  total sulfur dioxide  \\\n",
       "0               7.4             0.700         0.00                  34.0   \n",
       "1               7.8             0.880         0.00                  67.0   \n",
       "2               7.8             0.760         0.04                  54.0   \n",
       "3              11.2             0.280         0.56                  60.0   \n",
       "4               7.4             0.700         0.00                  34.0   \n",
       "...             ...               ...          ...                   ...   \n",
       "1594            6.2             0.600         0.08                  44.0   \n",
       "1595            5.9             0.550         0.10                  51.0   \n",
       "1596            6.3             0.510         0.13                  40.0   \n",
       "1597            5.9             0.645         0.12                  44.0   \n",
       "1598            6.0             0.310         0.47                  42.0   \n",
       "\n",
       "      density    pH  sulphates  alcohol  quality  \n",
       "0     0.99780  3.51       0.56      9.4        5  \n",
       "1     0.99680  3.20       0.68      9.8        5  \n",
       "2     0.99700  3.26       0.65      9.8        5  \n",
       "3     0.99800  3.16       0.58      9.8        6  \n",
       "4     0.99780  3.51       0.56      9.4        5  \n",
       "...       ...   ...        ...      ...      ...  \n",
       "1594  0.99490  3.45       0.58     10.5        5  \n",
       "1595  0.99512  3.52       0.76     11.2        6  \n",
       "1596  0.99574  3.42       0.75     11.0        6  \n",
       "1597  0.99547  3.57       0.71     10.2        5  \n",
       "1598  0.99549  3.39       0.66     11.0        6  \n",
       "\n",
       "[1449 rows x 9 columns]"
      ]
     },
     "execution_count": 95,
     "metadata": {},
     "output_type": "execute_result"
    }
   ],
   "source": [
    "df"
   ]
  },
  {
   "cell_type": "code",
   "execution_count": 96,
   "id": "01ce7814",
   "metadata": {},
   "outputs": [],
   "source": [
    "#  cheking index no of higher & Lower values in pH & drop that index"
   ]
  },
  {
   "cell_type": "code",
   "execution_count": 97,
   "id": "e20bd409",
   "metadata": {},
   "outputs": [
    {
     "data": {
      "text/plain": [
       "3.6849999999999996"
      ]
     },
     "execution_count": 97,
     "metadata": {},
     "output_type": "execute_result"
    }
   ],
   "source": [
    "higher_ph=(q3.pH+(1.5*iqr.pH))\n",
    "higher_ph"
   ]
  },
  {
   "cell_type": "code",
   "execution_count": 98,
   "id": "78a76968",
   "metadata": {},
   "outputs": [],
   "source": [
    "index_ph=np.where(df['pH']>higher_ph)\n",
    "df=df.drop(df.index[index_ph])\n"
   ]
  },
  {
   "cell_type": "code",
   "execution_count": 99,
   "id": "7612c1b5",
   "metadata": {},
   "outputs": [
    {
     "data": {
      "text/plain": [
       "2.925"
      ]
     },
     "execution_count": 99,
     "metadata": {},
     "output_type": "execute_result"
    }
   ],
   "source": [
    "lower_ph=(q1.pH - (1.5*iqr.pH))\n",
    "lower_ph"
   ]
  },
  {
   "cell_type": "code",
   "execution_count": 100,
   "id": "b9d5a40e",
   "metadata": {},
   "outputs": [],
   "source": [
    "index_lower_ph=np.where(df['pH']<lower_ph)\n",
    "df=df.drop(df.index[index_lower_ph])"
   ]
  },
  {
   "cell_type": "code",
   "execution_count": 101,
   "id": "f2fdaf87",
   "metadata": {},
   "outputs": [
    {
     "data": {
      "text/html": [
       "<div>\n",
       "<style scoped>\n",
       "    .dataframe tbody tr th:only-of-type {\n",
       "        vertical-align: middle;\n",
       "    }\n",
       "\n",
       "    .dataframe tbody tr th {\n",
       "        vertical-align: top;\n",
       "    }\n",
       "\n",
       "    .dataframe thead th {\n",
       "        text-align: right;\n",
       "    }\n",
       "</style>\n",
       "<table border=\"1\" class=\"dataframe\">\n",
       "  <thead>\n",
       "    <tr style=\"text-align: right;\">\n",
       "      <th></th>\n",
       "      <th>fixed acidity</th>\n",
       "      <th>volatile acidity</th>\n",
       "      <th>citric acid</th>\n",
       "      <th>total sulfur dioxide</th>\n",
       "      <th>density</th>\n",
       "      <th>pH</th>\n",
       "      <th>sulphates</th>\n",
       "      <th>alcohol</th>\n",
       "      <th>quality</th>\n",
       "    </tr>\n",
       "  </thead>\n",
       "  <tbody>\n",
       "    <tr>\n",
       "      <th>0</th>\n",
       "      <td>7.4</td>\n",
       "      <td>0.700</td>\n",
       "      <td>0.00</td>\n",
       "      <td>34.0</td>\n",
       "      <td>0.99780</td>\n",
       "      <td>3.51</td>\n",
       "      <td>0.56</td>\n",
       "      <td>9.4</td>\n",
       "      <td>5</td>\n",
       "    </tr>\n",
       "    <tr>\n",
       "      <th>1</th>\n",
       "      <td>7.8</td>\n",
       "      <td>0.880</td>\n",
       "      <td>0.00</td>\n",
       "      <td>67.0</td>\n",
       "      <td>0.99680</td>\n",
       "      <td>3.20</td>\n",
       "      <td>0.68</td>\n",
       "      <td>9.8</td>\n",
       "      <td>5</td>\n",
       "    </tr>\n",
       "    <tr>\n",
       "      <th>2</th>\n",
       "      <td>7.8</td>\n",
       "      <td>0.760</td>\n",
       "      <td>0.04</td>\n",
       "      <td>54.0</td>\n",
       "      <td>0.99700</td>\n",
       "      <td>3.26</td>\n",
       "      <td>0.65</td>\n",
       "      <td>9.8</td>\n",
       "      <td>5</td>\n",
       "    </tr>\n",
       "    <tr>\n",
       "      <th>3</th>\n",
       "      <td>11.2</td>\n",
       "      <td>0.280</td>\n",
       "      <td>0.56</td>\n",
       "      <td>60.0</td>\n",
       "      <td>0.99800</td>\n",
       "      <td>3.16</td>\n",
       "      <td>0.58</td>\n",
       "      <td>9.8</td>\n",
       "      <td>6</td>\n",
       "    </tr>\n",
       "    <tr>\n",
       "      <th>4</th>\n",
       "      <td>7.4</td>\n",
       "      <td>0.700</td>\n",
       "      <td>0.00</td>\n",
       "      <td>34.0</td>\n",
       "      <td>0.99780</td>\n",
       "      <td>3.51</td>\n",
       "      <td>0.56</td>\n",
       "      <td>9.4</td>\n",
       "      <td>5</td>\n",
       "    </tr>\n",
       "    <tr>\n",
       "      <th>...</th>\n",
       "      <td>...</td>\n",
       "      <td>...</td>\n",
       "      <td>...</td>\n",
       "      <td>...</td>\n",
       "      <td>...</td>\n",
       "      <td>...</td>\n",
       "      <td>...</td>\n",
       "      <td>...</td>\n",
       "      <td>...</td>\n",
       "    </tr>\n",
       "    <tr>\n",
       "      <th>1594</th>\n",
       "      <td>6.2</td>\n",
       "      <td>0.600</td>\n",
       "      <td>0.08</td>\n",
       "      <td>44.0</td>\n",
       "      <td>0.99490</td>\n",
       "      <td>3.45</td>\n",
       "      <td>0.58</td>\n",
       "      <td>10.5</td>\n",
       "      <td>5</td>\n",
       "    </tr>\n",
       "    <tr>\n",
       "      <th>1595</th>\n",
       "      <td>5.9</td>\n",
       "      <td>0.550</td>\n",
       "      <td>0.10</td>\n",
       "      <td>51.0</td>\n",
       "      <td>0.99512</td>\n",
       "      <td>3.52</td>\n",
       "      <td>0.76</td>\n",
       "      <td>11.2</td>\n",
       "      <td>6</td>\n",
       "    </tr>\n",
       "    <tr>\n",
       "      <th>1596</th>\n",
       "      <td>6.3</td>\n",
       "      <td>0.510</td>\n",
       "      <td>0.13</td>\n",
       "      <td>40.0</td>\n",
       "      <td>0.99574</td>\n",
       "      <td>3.42</td>\n",
       "      <td>0.75</td>\n",
       "      <td>11.0</td>\n",
       "      <td>6</td>\n",
       "    </tr>\n",
       "    <tr>\n",
       "      <th>1597</th>\n",
       "      <td>5.9</td>\n",
       "      <td>0.645</td>\n",
       "      <td>0.12</td>\n",
       "      <td>44.0</td>\n",
       "      <td>0.99547</td>\n",
       "      <td>3.57</td>\n",
       "      <td>0.71</td>\n",
       "      <td>10.2</td>\n",
       "      <td>5</td>\n",
       "    </tr>\n",
       "    <tr>\n",
       "      <th>1598</th>\n",
       "      <td>6.0</td>\n",
       "      <td>0.310</td>\n",
       "      <td>0.47</td>\n",
       "      <td>42.0</td>\n",
       "      <td>0.99549</td>\n",
       "      <td>3.39</td>\n",
       "      <td>0.66</td>\n",
       "      <td>11.0</td>\n",
       "      <td>6</td>\n",
       "    </tr>\n",
       "  </tbody>\n",
       "</table>\n",
       "<p>1427 rows × 9 columns</p>\n",
       "</div>"
      ],
      "text/plain": [
       "      fixed acidity  volatile acidity  citric acid  total sulfur dioxide  \\\n",
       "0               7.4             0.700         0.00                  34.0   \n",
       "1               7.8             0.880         0.00                  67.0   \n",
       "2               7.8             0.760         0.04                  54.0   \n",
       "3              11.2             0.280         0.56                  60.0   \n",
       "4               7.4             0.700         0.00                  34.0   \n",
       "...             ...               ...          ...                   ...   \n",
       "1594            6.2             0.600         0.08                  44.0   \n",
       "1595            5.9             0.550         0.10                  51.0   \n",
       "1596            6.3             0.510         0.13                  40.0   \n",
       "1597            5.9             0.645         0.12                  44.0   \n",
       "1598            6.0             0.310         0.47                  42.0   \n",
       "\n",
       "      density    pH  sulphates  alcohol  quality  \n",
       "0     0.99780  3.51       0.56      9.4        5  \n",
       "1     0.99680  3.20       0.68      9.8        5  \n",
       "2     0.99700  3.26       0.65      9.8        5  \n",
       "3     0.99800  3.16       0.58      9.8        6  \n",
       "4     0.99780  3.51       0.56      9.4        5  \n",
       "...       ...   ...        ...      ...      ...  \n",
       "1594  0.99490  3.45       0.58     10.5        5  \n",
       "1595  0.99512  3.52       0.76     11.2        6  \n",
       "1596  0.99574  3.42       0.75     11.0        6  \n",
       "1597  0.99547  3.57       0.71     10.2        5  \n",
       "1598  0.99549  3.39       0.66     11.0        6  \n",
       "\n",
       "[1427 rows x 9 columns]"
      ]
     },
     "execution_count": 101,
     "metadata": {},
     "output_type": "execute_result"
    }
   ],
   "source": [
    "df"
   ]
  },
  {
   "cell_type": "code",
   "execution_count": 102,
   "id": "99e690c3",
   "metadata": {},
   "outputs": [],
   "source": [
    "# cheking index no of higher values in Sulphates & drop that index"
   ]
  },
  {
   "cell_type": "code",
   "execution_count": 103,
   "id": "4257db20",
   "metadata": {},
   "outputs": [],
   "source": [
    "higher_slpht=(q3.sulphates + (1.5*iqr.sulphates))\n",
    "index_slpht=np.where(df['sulphates']>higher_slpht)\n",
    "df=df.drop(df.index[index_slpht])"
   ]
  },
  {
   "cell_type": "code",
   "execution_count": 104,
   "id": "a2985367",
   "metadata": {},
   "outputs": [
    {
     "data": {
      "text/html": [
       "<div>\n",
       "<style scoped>\n",
       "    .dataframe tbody tr th:only-of-type {\n",
       "        vertical-align: middle;\n",
       "    }\n",
       "\n",
       "    .dataframe tbody tr th {\n",
       "        vertical-align: top;\n",
       "    }\n",
       "\n",
       "    .dataframe thead th {\n",
       "        text-align: right;\n",
       "    }\n",
       "</style>\n",
       "<table border=\"1\" class=\"dataframe\">\n",
       "  <thead>\n",
       "    <tr style=\"text-align: right;\">\n",
       "      <th></th>\n",
       "      <th>fixed acidity</th>\n",
       "      <th>volatile acidity</th>\n",
       "      <th>citric acid</th>\n",
       "      <th>total sulfur dioxide</th>\n",
       "      <th>density</th>\n",
       "      <th>pH</th>\n",
       "      <th>sulphates</th>\n",
       "      <th>alcohol</th>\n",
       "      <th>quality</th>\n",
       "    </tr>\n",
       "  </thead>\n",
       "  <tbody>\n",
       "    <tr>\n",
       "      <th>0</th>\n",
       "      <td>7.4</td>\n",
       "      <td>0.700</td>\n",
       "      <td>0.00</td>\n",
       "      <td>34.0</td>\n",
       "      <td>0.99780</td>\n",
       "      <td>3.51</td>\n",
       "      <td>0.56</td>\n",
       "      <td>9.4</td>\n",
       "      <td>5</td>\n",
       "    </tr>\n",
       "    <tr>\n",
       "      <th>1</th>\n",
       "      <td>7.8</td>\n",
       "      <td>0.880</td>\n",
       "      <td>0.00</td>\n",
       "      <td>67.0</td>\n",
       "      <td>0.99680</td>\n",
       "      <td>3.20</td>\n",
       "      <td>0.68</td>\n",
       "      <td>9.8</td>\n",
       "      <td>5</td>\n",
       "    </tr>\n",
       "    <tr>\n",
       "      <th>2</th>\n",
       "      <td>7.8</td>\n",
       "      <td>0.760</td>\n",
       "      <td>0.04</td>\n",
       "      <td>54.0</td>\n",
       "      <td>0.99700</td>\n",
       "      <td>3.26</td>\n",
       "      <td>0.65</td>\n",
       "      <td>9.8</td>\n",
       "      <td>5</td>\n",
       "    </tr>\n",
       "    <tr>\n",
       "      <th>3</th>\n",
       "      <td>11.2</td>\n",
       "      <td>0.280</td>\n",
       "      <td>0.56</td>\n",
       "      <td>60.0</td>\n",
       "      <td>0.99800</td>\n",
       "      <td>3.16</td>\n",
       "      <td>0.58</td>\n",
       "      <td>9.8</td>\n",
       "      <td>6</td>\n",
       "    </tr>\n",
       "    <tr>\n",
       "      <th>4</th>\n",
       "      <td>7.4</td>\n",
       "      <td>0.700</td>\n",
       "      <td>0.00</td>\n",
       "      <td>34.0</td>\n",
       "      <td>0.99780</td>\n",
       "      <td>3.51</td>\n",
       "      <td>0.56</td>\n",
       "      <td>9.4</td>\n",
       "      <td>5</td>\n",
       "    </tr>\n",
       "    <tr>\n",
       "      <th>...</th>\n",
       "      <td>...</td>\n",
       "      <td>...</td>\n",
       "      <td>...</td>\n",
       "      <td>...</td>\n",
       "      <td>...</td>\n",
       "      <td>...</td>\n",
       "      <td>...</td>\n",
       "      <td>...</td>\n",
       "      <td>...</td>\n",
       "    </tr>\n",
       "    <tr>\n",
       "      <th>1594</th>\n",
       "      <td>6.2</td>\n",
       "      <td>0.600</td>\n",
       "      <td>0.08</td>\n",
       "      <td>44.0</td>\n",
       "      <td>0.99490</td>\n",
       "      <td>3.45</td>\n",
       "      <td>0.58</td>\n",
       "      <td>10.5</td>\n",
       "      <td>5</td>\n",
       "    </tr>\n",
       "    <tr>\n",
       "      <th>1595</th>\n",
       "      <td>5.9</td>\n",
       "      <td>0.550</td>\n",
       "      <td>0.10</td>\n",
       "      <td>51.0</td>\n",
       "      <td>0.99512</td>\n",
       "      <td>3.52</td>\n",
       "      <td>0.76</td>\n",
       "      <td>11.2</td>\n",
       "      <td>6</td>\n",
       "    </tr>\n",
       "    <tr>\n",
       "      <th>1596</th>\n",
       "      <td>6.3</td>\n",
       "      <td>0.510</td>\n",
       "      <td>0.13</td>\n",
       "      <td>40.0</td>\n",
       "      <td>0.99574</td>\n",
       "      <td>3.42</td>\n",
       "      <td>0.75</td>\n",
       "      <td>11.0</td>\n",
       "      <td>6</td>\n",
       "    </tr>\n",
       "    <tr>\n",
       "      <th>1597</th>\n",
       "      <td>5.9</td>\n",
       "      <td>0.645</td>\n",
       "      <td>0.12</td>\n",
       "      <td>44.0</td>\n",
       "      <td>0.99547</td>\n",
       "      <td>3.57</td>\n",
       "      <td>0.71</td>\n",
       "      <td>10.2</td>\n",
       "      <td>5</td>\n",
       "    </tr>\n",
       "    <tr>\n",
       "      <th>1598</th>\n",
       "      <td>6.0</td>\n",
       "      <td>0.310</td>\n",
       "      <td>0.47</td>\n",
       "      <td>42.0</td>\n",
       "      <td>0.99549</td>\n",
       "      <td>3.39</td>\n",
       "      <td>0.66</td>\n",
       "      <td>11.0</td>\n",
       "      <td>6</td>\n",
       "    </tr>\n",
       "  </tbody>\n",
       "</table>\n",
       "<p>1381 rows × 9 columns</p>\n",
       "</div>"
      ],
      "text/plain": [
       "      fixed acidity  volatile acidity  citric acid  total sulfur dioxide  \\\n",
       "0               7.4             0.700         0.00                  34.0   \n",
       "1               7.8             0.880         0.00                  67.0   \n",
       "2               7.8             0.760         0.04                  54.0   \n",
       "3              11.2             0.280         0.56                  60.0   \n",
       "4               7.4             0.700         0.00                  34.0   \n",
       "...             ...               ...          ...                   ...   \n",
       "1594            6.2             0.600         0.08                  44.0   \n",
       "1595            5.9             0.550         0.10                  51.0   \n",
       "1596            6.3             0.510         0.13                  40.0   \n",
       "1597            5.9             0.645         0.12                  44.0   \n",
       "1598            6.0             0.310         0.47                  42.0   \n",
       "\n",
       "      density    pH  sulphates  alcohol  quality  \n",
       "0     0.99780  3.51       0.56      9.4        5  \n",
       "1     0.99680  3.20       0.68      9.8        5  \n",
       "2     0.99700  3.26       0.65      9.8        5  \n",
       "3     0.99800  3.16       0.58      9.8        6  \n",
       "4     0.99780  3.51       0.56      9.4        5  \n",
       "...       ...   ...        ...      ...      ...  \n",
       "1594  0.99490  3.45       0.58     10.5        5  \n",
       "1595  0.99512  3.52       0.76     11.2        6  \n",
       "1596  0.99574  3.42       0.75     11.0        6  \n",
       "1597  0.99547  3.57       0.71     10.2        5  \n",
       "1598  0.99549  3.39       0.66     11.0        6  \n",
       "\n",
       "[1381 rows x 9 columns]"
      ]
     },
     "execution_count": 104,
     "metadata": {},
     "output_type": "execute_result"
    }
   ],
   "source": [
    "df"
   ]
  },
  {
   "cell_type": "code",
   "execution_count": 105,
   "id": "2c10c6a7",
   "metadata": {},
   "outputs": [],
   "source": [
    "# cheking index no of higher values in alcohol & drop that index"
   ]
  },
  {
   "cell_type": "code",
   "execution_count": 106,
   "id": "8970a5ac",
   "metadata": {},
   "outputs": [],
   "source": [
    "higher_alcl=(q3.alcohol + (1.5*iqr.alcohol))\n",
    "index_alcl=np.where(df['alcohol']>higher_alcl)\n",
    "df=df.drop(df.index[index_alcl])"
   ]
  },
  {
   "cell_type": "code",
   "execution_count": 107,
   "id": "7292e53e",
   "metadata": {},
   "outputs": [
    {
     "data": {
      "text/html": [
       "<div>\n",
       "<style scoped>\n",
       "    .dataframe tbody tr th:only-of-type {\n",
       "        vertical-align: middle;\n",
       "    }\n",
       "\n",
       "    .dataframe tbody tr th {\n",
       "        vertical-align: top;\n",
       "    }\n",
       "\n",
       "    .dataframe thead th {\n",
       "        text-align: right;\n",
       "    }\n",
       "</style>\n",
       "<table border=\"1\" class=\"dataframe\">\n",
       "  <thead>\n",
       "    <tr style=\"text-align: right;\">\n",
       "      <th></th>\n",
       "      <th>fixed acidity</th>\n",
       "      <th>volatile acidity</th>\n",
       "      <th>citric acid</th>\n",
       "      <th>total sulfur dioxide</th>\n",
       "      <th>density</th>\n",
       "      <th>pH</th>\n",
       "      <th>sulphates</th>\n",
       "      <th>alcohol</th>\n",
       "      <th>quality</th>\n",
       "    </tr>\n",
       "  </thead>\n",
       "  <tbody>\n",
       "    <tr>\n",
       "      <th>0</th>\n",
       "      <td>7.4</td>\n",
       "      <td>0.700</td>\n",
       "      <td>0.00</td>\n",
       "      <td>34.0</td>\n",
       "      <td>0.99780</td>\n",
       "      <td>3.51</td>\n",
       "      <td>0.56</td>\n",
       "      <td>9.4</td>\n",
       "      <td>5</td>\n",
       "    </tr>\n",
       "    <tr>\n",
       "      <th>1</th>\n",
       "      <td>7.8</td>\n",
       "      <td>0.880</td>\n",
       "      <td>0.00</td>\n",
       "      <td>67.0</td>\n",
       "      <td>0.99680</td>\n",
       "      <td>3.20</td>\n",
       "      <td>0.68</td>\n",
       "      <td>9.8</td>\n",
       "      <td>5</td>\n",
       "    </tr>\n",
       "    <tr>\n",
       "      <th>2</th>\n",
       "      <td>7.8</td>\n",
       "      <td>0.760</td>\n",
       "      <td>0.04</td>\n",
       "      <td>54.0</td>\n",
       "      <td>0.99700</td>\n",
       "      <td>3.26</td>\n",
       "      <td>0.65</td>\n",
       "      <td>9.8</td>\n",
       "      <td>5</td>\n",
       "    </tr>\n",
       "    <tr>\n",
       "      <th>3</th>\n",
       "      <td>11.2</td>\n",
       "      <td>0.280</td>\n",
       "      <td>0.56</td>\n",
       "      <td>60.0</td>\n",
       "      <td>0.99800</td>\n",
       "      <td>3.16</td>\n",
       "      <td>0.58</td>\n",
       "      <td>9.8</td>\n",
       "      <td>6</td>\n",
       "    </tr>\n",
       "    <tr>\n",
       "      <th>4</th>\n",
       "      <td>7.4</td>\n",
       "      <td>0.700</td>\n",
       "      <td>0.00</td>\n",
       "      <td>34.0</td>\n",
       "      <td>0.99780</td>\n",
       "      <td>3.51</td>\n",
       "      <td>0.56</td>\n",
       "      <td>9.4</td>\n",
       "      <td>5</td>\n",
       "    </tr>\n",
       "    <tr>\n",
       "      <th>...</th>\n",
       "      <td>...</td>\n",
       "      <td>...</td>\n",
       "      <td>...</td>\n",
       "      <td>...</td>\n",
       "      <td>...</td>\n",
       "      <td>...</td>\n",
       "      <td>...</td>\n",
       "      <td>...</td>\n",
       "      <td>...</td>\n",
       "    </tr>\n",
       "    <tr>\n",
       "      <th>1594</th>\n",
       "      <td>6.2</td>\n",
       "      <td>0.600</td>\n",
       "      <td>0.08</td>\n",
       "      <td>44.0</td>\n",
       "      <td>0.99490</td>\n",
       "      <td>3.45</td>\n",
       "      <td>0.58</td>\n",
       "      <td>10.5</td>\n",
       "      <td>5</td>\n",
       "    </tr>\n",
       "    <tr>\n",
       "      <th>1595</th>\n",
       "      <td>5.9</td>\n",
       "      <td>0.550</td>\n",
       "      <td>0.10</td>\n",
       "      <td>51.0</td>\n",
       "      <td>0.99512</td>\n",
       "      <td>3.52</td>\n",
       "      <td>0.76</td>\n",
       "      <td>11.2</td>\n",
       "      <td>6</td>\n",
       "    </tr>\n",
       "    <tr>\n",
       "      <th>1596</th>\n",
       "      <td>6.3</td>\n",
       "      <td>0.510</td>\n",
       "      <td>0.13</td>\n",
       "      <td>40.0</td>\n",
       "      <td>0.99574</td>\n",
       "      <td>3.42</td>\n",
       "      <td>0.75</td>\n",
       "      <td>11.0</td>\n",
       "      <td>6</td>\n",
       "    </tr>\n",
       "    <tr>\n",
       "      <th>1597</th>\n",
       "      <td>5.9</td>\n",
       "      <td>0.645</td>\n",
       "      <td>0.12</td>\n",
       "      <td>44.0</td>\n",
       "      <td>0.99547</td>\n",
       "      <td>3.57</td>\n",
       "      <td>0.71</td>\n",
       "      <td>10.2</td>\n",
       "      <td>5</td>\n",
       "    </tr>\n",
       "    <tr>\n",
       "      <th>1598</th>\n",
       "      <td>6.0</td>\n",
       "      <td>0.310</td>\n",
       "      <td>0.47</td>\n",
       "      <td>42.0</td>\n",
       "      <td>0.99549</td>\n",
       "      <td>3.39</td>\n",
       "      <td>0.66</td>\n",
       "      <td>11.0</td>\n",
       "      <td>6</td>\n",
       "    </tr>\n",
       "  </tbody>\n",
       "</table>\n",
       "<p>1379 rows × 9 columns</p>\n",
       "</div>"
      ],
      "text/plain": [
       "      fixed acidity  volatile acidity  citric acid  total sulfur dioxide  \\\n",
       "0               7.4             0.700         0.00                  34.0   \n",
       "1               7.8             0.880         0.00                  67.0   \n",
       "2               7.8             0.760         0.04                  54.0   \n",
       "3              11.2             0.280         0.56                  60.0   \n",
       "4               7.4             0.700         0.00                  34.0   \n",
       "...             ...               ...          ...                   ...   \n",
       "1594            6.2             0.600         0.08                  44.0   \n",
       "1595            5.9             0.550         0.10                  51.0   \n",
       "1596            6.3             0.510         0.13                  40.0   \n",
       "1597            5.9             0.645         0.12                  44.0   \n",
       "1598            6.0             0.310         0.47                  42.0   \n",
       "\n",
       "      density    pH  sulphates  alcohol  quality  \n",
       "0     0.99780  3.51       0.56      9.4        5  \n",
       "1     0.99680  3.20       0.68      9.8        5  \n",
       "2     0.99700  3.26       0.65      9.8        5  \n",
       "3     0.99800  3.16       0.58      9.8        6  \n",
       "4     0.99780  3.51       0.56      9.4        5  \n",
       "...       ...   ...        ...      ...      ...  \n",
       "1594  0.99490  3.45       0.58     10.5        5  \n",
       "1595  0.99512  3.52       0.76     11.2        6  \n",
       "1596  0.99574  3.42       0.75     11.0        6  \n",
       "1597  0.99547  3.57       0.71     10.2        5  \n",
       "1598  0.99549  3.39       0.66     11.0        6  \n",
       "\n",
       "[1379 rows x 9 columns]"
      ]
     },
     "execution_count": 107,
     "metadata": {},
     "output_type": "execute_result"
    }
   ],
   "source": [
    "df"
   ]
  },
  {
   "cell_type": "code",
   "execution_count": 108,
   "id": "035fa256",
   "metadata": {},
   "outputs": [
    {
     "data": {
      "text/plain": [
       "(1379, 9)"
      ]
     },
     "execution_count": 108,
     "metadata": {},
     "output_type": "execute_result"
    }
   ],
   "source": [
    "df.shape"
   ]
  },
  {
   "cell_type": "code",
   "execution_count": 109,
   "id": "61ce5b24",
   "metadata": {},
   "outputs": [
    {
     "data": {
      "text/html": [
       "<div>\n",
       "<style scoped>\n",
       "    .dataframe tbody tr th:only-of-type {\n",
       "        vertical-align: middle;\n",
       "    }\n",
       "\n",
       "    .dataframe tbody tr th {\n",
       "        vertical-align: top;\n",
       "    }\n",
       "\n",
       "    .dataframe thead th {\n",
       "        text-align: right;\n",
       "    }\n",
       "</style>\n",
       "<table border=\"1\" class=\"dataframe\">\n",
       "  <thead>\n",
       "    <tr style=\"text-align: right;\">\n",
       "      <th></th>\n",
       "      <th>index</th>\n",
       "      <th>fixed acidity</th>\n",
       "      <th>volatile acidity</th>\n",
       "      <th>citric acid</th>\n",
       "      <th>total sulfur dioxide</th>\n",
       "      <th>density</th>\n",
       "      <th>pH</th>\n",
       "      <th>sulphates</th>\n",
       "      <th>alcohol</th>\n",
       "      <th>quality</th>\n",
       "    </tr>\n",
       "  </thead>\n",
       "  <tbody>\n",
       "    <tr>\n",
       "      <th>0</th>\n",
       "      <td>0</td>\n",
       "      <td>7.4</td>\n",
       "      <td>0.700</td>\n",
       "      <td>0.00</td>\n",
       "      <td>34.0</td>\n",
       "      <td>0.99780</td>\n",
       "      <td>3.51</td>\n",
       "      <td>0.56</td>\n",
       "      <td>9.4</td>\n",
       "      <td>5</td>\n",
       "    </tr>\n",
       "    <tr>\n",
       "      <th>1</th>\n",
       "      <td>1</td>\n",
       "      <td>7.8</td>\n",
       "      <td>0.880</td>\n",
       "      <td>0.00</td>\n",
       "      <td>67.0</td>\n",
       "      <td>0.99680</td>\n",
       "      <td>3.20</td>\n",
       "      <td>0.68</td>\n",
       "      <td>9.8</td>\n",
       "      <td>5</td>\n",
       "    </tr>\n",
       "    <tr>\n",
       "      <th>2</th>\n",
       "      <td>2</td>\n",
       "      <td>7.8</td>\n",
       "      <td>0.760</td>\n",
       "      <td>0.04</td>\n",
       "      <td>54.0</td>\n",
       "      <td>0.99700</td>\n",
       "      <td>3.26</td>\n",
       "      <td>0.65</td>\n",
       "      <td>9.8</td>\n",
       "      <td>5</td>\n",
       "    </tr>\n",
       "    <tr>\n",
       "      <th>3</th>\n",
       "      <td>3</td>\n",
       "      <td>11.2</td>\n",
       "      <td>0.280</td>\n",
       "      <td>0.56</td>\n",
       "      <td>60.0</td>\n",
       "      <td>0.99800</td>\n",
       "      <td>3.16</td>\n",
       "      <td>0.58</td>\n",
       "      <td>9.8</td>\n",
       "      <td>6</td>\n",
       "    </tr>\n",
       "    <tr>\n",
       "      <th>4</th>\n",
       "      <td>4</td>\n",
       "      <td>7.4</td>\n",
       "      <td>0.700</td>\n",
       "      <td>0.00</td>\n",
       "      <td>34.0</td>\n",
       "      <td>0.99780</td>\n",
       "      <td>3.51</td>\n",
       "      <td>0.56</td>\n",
       "      <td>9.4</td>\n",
       "      <td>5</td>\n",
       "    </tr>\n",
       "    <tr>\n",
       "      <th>...</th>\n",
       "      <td>...</td>\n",
       "      <td>...</td>\n",
       "      <td>...</td>\n",
       "      <td>...</td>\n",
       "      <td>...</td>\n",
       "      <td>...</td>\n",
       "      <td>...</td>\n",
       "      <td>...</td>\n",
       "      <td>...</td>\n",
       "      <td>...</td>\n",
       "    </tr>\n",
       "    <tr>\n",
       "      <th>1374</th>\n",
       "      <td>1594</td>\n",
       "      <td>6.2</td>\n",
       "      <td>0.600</td>\n",
       "      <td>0.08</td>\n",
       "      <td>44.0</td>\n",
       "      <td>0.99490</td>\n",
       "      <td>3.45</td>\n",
       "      <td>0.58</td>\n",
       "      <td>10.5</td>\n",
       "      <td>5</td>\n",
       "    </tr>\n",
       "    <tr>\n",
       "      <th>1375</th>\n",
       "      <td>1595</td>\n",
       "      <td>5.9</td>\n",
       "      <td>0.550</td>\n",
       "      <td>0.10</td>\n",
       "      <td>51.0</td>\n",
       "      <td>0.99512</td>\n",
       "      <td>3.52</td>\n",
       "      <td>0.76</td>\n",
       "      <td>11.2</td>\n",
       "      <td>6</td>\n",
       "    </tr>\n",
       "    <tr>\n",
       "      <th>1376</th>\n",
       "      <td>1596</td>\n",
       "      <td>6.3</td>\n",
       "      <td>0.510</td>\n",
       "      <td>0.13</td>\n",
       "      <td>40.0</td>\n",
       "      <td>0.99574</td>\n",
       "      <td>3.42</td>\n",
       "      <td>0.75</td>\n",
       "      <td>11.0</td>\n",
       "      <td>6</td>\n",
       "    </tr>\n",
       "    <tr>\n",
       "      <th>1377</th>\n",
       "      <td>1597</td>\n",
       "      <td>5.9</td>\n",
       "      <td>0.645</td>\n",
       "      <td>0.12</td>\n",
       "      <td>44.0</td>\n",
       "      <td>0.99547</td>\n",
       "      <td>3.57</td>\n",
       "      <td>0.71</td>\n",
       "      <td>10.2</td>\n",
       "      <td>5</td>\n",
       "    </tr>\n",
       "    <tr>\n",
       "      <th>1378</th>\n",
       "      <td>1598</td>\n",
       "      <td>6.0</td>\n",
       "      <td>0.310</td>\n",
       "      <td>0.47</td>\n",
       "      <td>42.0</td>\n",
       "      <td>0.99549</td>\n",
       "      <td>3.39</td>\n",
       "      <td>0.66</td>\n",
       "      <td>11.0</td>\n",
       "      <td>6</td>\n",
       "    </tr>\n",
       "  </tbody>\n",
       "</table>\n",
       "<p>1379 rows × 10 columns</p>\n",
       "</div>"
      ],
      "text/plain": [
       "      index  fixed acidity  volatile acidity  citric acid  \\\n",
       "0         0            7.4             0.700         0.00   \n",
       "1         1            7.8             0.880         0.00   \n",
       "2         2            7.8             0.760         0.04   \n",
       "3         3           11.2             0.280         0.56   \n",
       "4         4            7.4             0.700         0.00   \n",
       "...     ...            ...               ...          ...   \n",
       "1374   1594            6.2             0.600         0.08   \n",
       "1375   1595            5.9             0.550         0.10   \n",
       "1376   1596            6.3             0.510         0.13   \n",
       "1377   1597            5.9             0.645         0.12   \n",
       "1378   1598            6.0             0.310         0.47   \n",
       "\n",
       "      total sulfur dioxide  density    pH  sulphates  alcohol  quality  \n",
       "0                     34.0  0.99780  3.51       0.56      9.4        5  \n",
       "1                     67.0  0.99680  3.20       0.68      9.8        5  \n",
       "2                     54.0  0.99700  3.26       0.65      9.8        5  \n",
       "3                     60.0  0.99800  3.16       0.58      9.8        6  \n",
       "4                     34.0  0.99780  3.51       0.56      9.4        5  \n",
       "...                    ...      ...   ...        ...      ...      ...  \n",
       "1374                  44.0  0.99490  3.45       0.58     10.5        5  \n",
       "1375                  51.0  0.99512  3.52       0.76     11.2        6  \n",
       "1376                  40.0  0.99574  3.42       0.75     11.0        6  \n",
       "1377                  44.0  0.99547  3.57       0.71     10.2        5  \n",
       "1378                  42.0  0.99549  3.39       0.66     11.0        6  \n",
       "\n",
       "[1379 rows x 10 columns]"
      ]
     },
     "execution_count": 109,
     "metadata": {},
     "output_type": "execute_result"
    }
   ],
   "source": [
    " df.reset_index()"
   ]
  },
  {
   "cell_type": "code",
   "execution_count": 110,
   "id": "cd6c6d90",
   "metadata": {},
   "outputs": [],
   "source": [
    "# now data is better distributed"
   ]
  },
  {
   "cell_type": "code",
   "execution_count": 111,
   "id": "4e097834",
   "metadata": {},
   "outputs": [
    {
     "data": {
      "image/png": "[encoded data removed]",
      "text/plain": [
       "<Figure size 864x1008 with 9 Axes>"
      ]
     },
     "metadata": {},
     "output_type": "display_data"
    }
   ],
   "source": [
    "plt.figure(figsize=(12,14), facecolor='g')\n",
    "plotnumber=1\n",
    "for column in df:\n",
    "    if plotnumber<=9:\n",
    "        ax=plt.subplot(3,3,plotnumber)\n",
    "        sns.distplot(df[column])\n",
    "        plt.xlabel(column, fontsize=20)\n",
    "        \n",
    "    plotnumber+=1\n",
    "    \n",
    "plt.show()"
   ]
  },
  {
   "cell_type": "code",
   "execution_count": 112,
   "id": "71f12d15",
   "metadata": {},
   "outputs": [],
   "source": [
    "# cheking balance of target value"
   ]
  },
  {
   "cell_type": "code",
   "execution_count": 113,
   "id": "c2e59c04",
   "metadata": {},
   "outputs": [
    {
     "data": {
      "text/plain": [
       "5    578\n",
       "6    570\n",
       "7    168\n",
       "4     42\n",
       "8     14\n",
       "3      7\n",
       "Name: quality, dtype: int64"
      ]
     },
     "execution_count": 113,
     "metadata": {},
     "output_type": "execute_result"
    }
   ],
   "source": [
    "df['quality'].value_counts()"
   ]
  },
  {
   "cell_type": "code",
   "execution_count": 114,
   "id": "710c8419",
   "metadata": {},
   "outputs": [
    {
     "data": {
      "text/plain": [
       "<AxesSubplot:>"
      ]
     },
     "execution_count": 114,
     "metadata": {},
     "output_type": "execute_result"
    },
    {
     "data": {
      "image/png": "[encoded data removed]",
      "text/plain": [
       "<Figure size 432x288 with 1 Axes>"
      ]
     },
     "metadata": {
      "needs_background": "light"
     },
     "output_type": "display_data"
    }
   ],
   "source": [
    "df['quality'].hist(grid=False)"
   ]
  },
  {
   "cell_type": "code",
   "execution_count": null,
   "id": "4b2881a0",
   "metadata": {},
   "outputs": [],
   "source": []
  },
  {
   "cell_type": "code",
   "execution_count": null,
   "id": "f3fb6e0b",
   "metadata": {},
   "outputs": [],
   "source": []
  },
  {
   "cell_type": "code",
   "execution_count": null,
   "id": "1b548bf0",
   "metadata": {},
   "outputs": [],
   "source": []
  },
  {
   "cell_type": "code",
   "execution_count": null,
   "id": "43574f0d",
   "metadata": {},
   "outputs": [],
   "source": []
  },
  {
   "cell_type": "code",
   "execution_count": null,
   "id": "7c724a96",
   "metadata": {},
   "outputs": [],
   "source": []
  },
  {
   "cell_type": "code",
   "execution_count": null,
   "id": "7923dd55",
   "metadata": {},
   "outputs": [],
   "source": []
  },
  {
   "cell_type": "code",
   "execution_count": 115,
   "id": "38184740",
   "metadata": {},
   "outputs": [],
   "source": [
    "# create Model"
   ]
  },
  {
   "cell_type": "code",
   "execution_count": 116,
   "id": "0bf2017b",
   "metadata": {},
   "outputs": [],
   "source": [
    "from sklearn.tree import DecisionTreeClassifier\n"
   ]
  },
  {
   "cell_type": "code",
   "execution_count": 117,
   "id": "97b3be92",
   "metadata": {},
   "outputs": [],
   "source": [
    "dt=DecisionTreeClassifier()"
   ]
  },
  {
   "cell_type": "code",
   "execution_count": 118,
   "id": "27b4aa5e",
   "metadata": {},
   "outputs": [],
   "source": [
    "# train the data"
   ]
  },
  {
   "cell_type": "code",
   "execution_count": 119,
   "id": "bfe7d0da",
   "metadata": {},
   "outputs": [],
   "source": [
    "from sklearn.metrics import accuracy_score,roc_curve,roc_auc_score,classification_report\n",
    "from sklearn.model_selection import train_test_split"
   ]
  },
  {
   "cell_type": "code",
   "execution_count": 120,
   "id": "0dd54894",
   "metadata": {},
   "outputs": [],
   "source": [
    "# for Cheking max accuracy score & Random state for selecting best Random state"
   ]
  },
  {
   "cell_type": "code",
   "execution_count": 121,
   "id": "1040f13b",
   "metadata": {},
   "outputs": [
    {
     "name": "stdout",
     "output_type": "stream",
     "text": [
      "Testing Score= 62.5 Random States= 1\n",
      "Max Accuracy Score= 62.5 Max Random State= 1\n",
      "Testing Score= 60.0 Random States= 2\n",
      "Testing Score= 63.12 Random States= 3\n",
      "Max Accuracy Score= 63.12 Max Random State= 3\n",
      "Testing Score= 63.12 Random States= 4\n",
      "Testing Score= 64.06 Random States= 5\n",
      "Max Accuracy Score= 64.06 Max Random State= 5\n",
      "Testing Score= 63.44 Random States= 6\n",
      "Testing Score= 62.19 Random States= 7\n",
      "Testing Score= 59.38 Random States= 8\n",
      "Testing Score= 60.0 Random States= 9\n",
      "Testing Score= 58.75 Random States= 10\n",
      "Testing Score= 62.19 Random States= 11\n",
      "Testing Score= 63.44 Random States= 12\n",
      "Testing Score= 61.25 Random States= 13\n",
      "Testing Score= 59.38 Random States= 14\n",
      "Testing Score= 61.88 Random States= 15\n",
      "Testing Score= 61.56 Random States= 16\n",
      "Testing Score= 60.94 Random States= 17\n",
      "Testing Score= 62.81 Random States= 18\n",
      "Testing Score= 61.56 Random States= 19\n",
      "Testing Score= 62.5 Random States= 20\n",
      "Testing Score= 63.12 Random States= 21\n",
      "Testing Score= 59.69 Random States= 22\n",
      "Testing Score= 64.69 Random States= 23\n",
      "Max Accuracy Score= 64.69 Max Random State= 23\n",
      "Testing Score= 61.56 Random States= 24\n",
      "Testing Score= 62.19 Random States= 25\n",
      "Testing Score= 63.44 Random States= 26\n",
      "Testing Score= 59.69 Random States= 27\n",
      "Testing Score= 60.31 Random States= 28\n",
      "Testing Score= 60.62 Random States= 29\n",
      "Testing Score= 65.0 Random States= 30\n",
      "Max Accuracy Score= 65.0 Max Random State= 30\n",
      "Testing Score= 60.94 Random States= 31\n",
      "Testing Score= 56.88 Random States= 32\n",
      "Testing Score= 57.81 Random States= 33\n",
      "Testing Score= 57.5 Random States= 34\n",
      "Testing Score= 59.69 Random States= 35\n",
      "Testing Score= 64.06 Random States= 36\n",
      "Testing Score= 65.94 Random States= 37\n",
      "Max Accuracy Score= 65.94 Max Random State= 37\n",
      "Testing Score= 63.12 Random States= 38\n",
      "Testing Score= 61.56 Random States= 39\n",
      "Testing Score= 62.81 Random States= 40\n",
      "Testing Score= 63.12 Random States= 41\n",
      "Testing Score= 54.69 Random States= 42\n",
      "Testing Score= 62.81 Random States= 43\n",
      "Testing Score= 59.69 Random States= 44\n",
      "Testing Score= 61.56 Random States= 45\n",
      "Testing Score= 63.12 Random States= 46\n",
      "Testing Score= 63.44 Random States= 47\n",
      "Testing Score= 58.75 Random States= 48\n",
      "Testing Score= 59.69 Random States= 49\n",
      "Testing Score= 63.12 Random States= 50\n",
      "Testing Score= 65.94 Random States= 51\n",
      "Testing Score= 58.44 Random States= 52\n",
      "Testing Score= 62.81 Random States= 53\n",
      "Testing Score= 59.69 Random States= 54\n",
      "Testing Score= 55.94 Random States= 55\n",
      "Testing Score= 56.56 Random States= 56\n",
      "Testing Score= 60.0 Random States= 57\n",
      "Testing Score= 57.19 Random States= 58\n",
      "Testing Score= 59.69 Random States= 59\n",
      "Testing Score= 61.88 Random States= 60\n",
      "Testing Score= 64.38 Random States= 61\n",
      "Testing Score= 61.56 Random States= 62\n",
      "Testing Score= 60.62 Random States= 63\n",
      "Testing Score= 59.06 Random States= 64\n",
      "Testing Score= 60.0 Random States= 65\n",
      "Testing Score= 57.81 Random States= 66\n",
      "Testing Score= 63.44 Random States= 67\n",
      "Testing Score= 56.56 Random States= 68\n",
      "Testing Score= 62.19 Random States= 69\n",
      "Testing Score= 64.06 Random States= 70\n",
      "Testing Score= 60.31 Random States= 71\n",
      "Testing Score= 59.69 Random States= 72\n",
      "Testing Score= 55.62 Random States= 73\n",
      "Testing Score= 58.75 Random States= 74\n",
      "Testing Score= 52.81 Random States= 75\n",
      "Testing Score= 57.81 Random States= 76\n",
      "Testing Score= 56.88 Random States= 77\n",
      "Testing Score= 60.94 Random States= 78\n",
      "Testing Score= 57.81 Random States= 79\n",
      "Testing Score= 57.5 Random States= 80\n",
      "Testing Score= 59.38 Random States= 81\n",
      "Testing Score= 55.31 Random States= 82\n",
      "Testing Score= 61.56 Random States= 83\n",
      "Testing Score= 62.5 Random States= 84\n",
      "Testing Score= 60.31 Random States= 85\n",
      "Testing Score= 63.75 Random States= 86\n",
      "Testing Score= 58.75 Random States= 87\n",
      "Testing Score= 55.0 Random States= 88\n",
      "Testing Score= 62.81 Random States= 89\n",
      "Testing Score= 61.88 Random States= 90\n",
      "Testing Score= 60.94 Random States= 91\n",
      "Testing Score= 58.75 Random States= 92\n",
      "Testing Score= 60.94 Random States= 93\n",
      "Testing Score= 57.5 Random States= 94\n",
      "Testing Score= 56.56 Random States= 95\n",
      "Testing Score= 60.62 Random States= 96\n",
      "Testing Score= 59.06 Random States= 97\n",
      "Testing Score= 58.75 Random States= 98\n",
      "Testing Score= 61.25 Random States= 99\n",
      "Testing Score= 60.31 Random States= 100\n",
      "Testing Score= 55.31 Random States= 101\n",
      "Testing Score= 58.75 Random States= 102\n",
      "Testing Score= 59.69 Random States= 103\n",
      "Testing Score= 60.94 Random States= 104\n",
      "Testing Score= 63.44 Random States= 105\n",
      "Testing Score= 60.62 Random States= 106\n",
      "Testing Score= 63.75 Random States= 107\n",
      "Testing Score= 61.56 Random States= 108\n",
      "Testing Score= 61.56 Random States= 109\n",
      "Testing Score= 64.38 Random States= 110\n",
      "Testing Score= 63.12 Random States= 111\n",
      "Testing Score= 61.88 Random States= 112\n",
      "Testing Score= 60.94 Random States= 113\n",
      "Testing Score= 57.81 Random States= 114\n",
      "Testing Score= 60.94 Random States= 115\n",
      "Testing Score= 60.94 Random States= 116\n",
      "Testing Score= 64.38 Random States= 117\n",
      "Testing Score= 65.0 Random States= 118\n",
      "Testing Score= 57.81 Random States= 119\n",
      "Testing Score= 56.56 Random States= 120\n",
      "Testing Score= 60.0 Random States= 121\n",
      "Testing Score= 61.25 Random States= 122\n",
      "Testing Score= 57.81 Random States= 123\n",
      "Testing Score= 58.75 Random States= 124\n",
      "Testing Score= 60.31 Random States= 125\n",
      "Testing Score= 60.94 Random States= 126\n",
      "Testing Score= 62.5 Random States= 127\n",
      "Testing Score= 63.44 Random States= 128\n",
      "Testing Score= 60.0 Random States= 129\n",
      "Testing Score= 60.0 Random States= 130\n",
      "Testing Score= 61.25 Random States= 131\n",
      "Testing Score= 62.81 Random States= 132\n",
      "Testing Score= 61.25 Random States= 133\n",
      "Testing Score= 63.44 Random States= 134\n",
      "Testing Score= 67.19 Random States= 135\n",
      "Max Accuracy Score= 67.19 Max Random State= 135\n",
      "Testing Score= 62.81 Random States= 136\n",
      "Testing Score= 63.75 Random States= 137\n",
      "Testing Score= 62.81 Random States= 138\n",
      "Testing Score= 62.81 Random States= 139\n",
      "Testing Score= 61.56 Random States= 140\n",
      "Testing Score= 61.88 Random States= 141\n",
      "Testing Score= 56.88 Random States= 142\n",
      "Testing Score= 64.38 Random States= 143\n",
      "Testing Score= 58.75 Random States= 144\n",
      "Testing Score= 59.06 Random States= 145\n",
      "Testing Score= 61.25 Random States= 146\n",
      "Testing Score= 61.88 Random States= 147\n",
      "Testing Score= 61.56 Random States= 148\n",
      "Testing Score= 64.06 Random States= 149\n",
      "Testing Score= 62.19 Random States= 150\n",
      "Testing Score= 58.44 Random States= 151\n",
      "Testing Score= 65.0 Random States= 152\n",
      "Testing Score= 56.25 Random States= 153\n",
      "Testing Score= 60.94 Random States= 154\n",
      "Testing Score= 59.38 Random States= 155\n",
      "Testing Score= 60.62 Random States= 156\n",
      "Testing Score= 60.94 Random States= 157\n",
      "Testing Score= 62.19 Random States= 158\n",
      "Testing Score= 60.62 Random States= 159\n",
      "Testing Score= 61.56 Random States= 160\n",
      "Testing Score= 60.94 Random States= 161\n",
      "Testing Score= 58.75 Random States= 162\n",
      "Testing Score= 62.5 Random States= 163\n",
      "Testing Score= 56.88 Random States= 164\n",
      "Testing Score= 60.62 Random States= 165\n",
      "Testing Score= 59.69 Random States= 166\n",
      "Testing Score= 54.69 Random States= 167\n",
      "Testing Score= 63.75 Random States= 168\n",
      "Testing Score= 59.06 Random States= 169\n",
      "Testing Score= 60.0 Random States= 170\n",
      "Testing Score= 61.56 Random States= 171\n",
      "Testing Score= 56.25 Random States= 172\n",
      "Testing Score= 60.94 Random States= 173\n",
      "Testing Score= 59.06 Random States= 174\n",
      "Testing Score= 61.25 Random States= 175\n",
      "Testing Score= 63.75 Random States= 176\n",
      "Testing Score= 60.62 Random States= 177\n",
      "Testing Score= 59.38 Random States= 178\n",
      "Testing Score= 64.38 Random States= 179\n",
      "Testing Score= 59.06 Random States= 180\n",
      "Testing Score= 64.38 Random States= 181\n",
      "Testing Score= 66.25 Random States= 182\n",
      "Testing Score= 61.56 Random States= 183\n",
      "Testing Score= 56.88 Random States= 184\n",
      "Testing Score= 60.62 Random States= 185\n",
      "Testing Score= 59.69 Random States= 186\n",
      "Testing Score= 63.12 Random States= 187\n",
      "Testing Score= 62.19 Random States= 188\n",
      "Testing Score= 61.56 Random States= 189\n",
      "Testing Score= 55.0 Random States= 190\n",
      "Testing Score= 60.94 Random States= 191\n",
      "Testing Score= 60.62 Random States= 192\n",
      "Testing Score= 63.12 Random States= 193\n",
      "Testing Score= 58.13 Random States= 194\n",
      "Testing Score= 60.94 Random States= 195\n",
      "Testing Score= 61.88 Random States= 196\n",
      "Testing Score= 61.56 Random States= 197\n",
      "Testing Score= 61.88 Random States= 198\n",
      "Testing Score= 61.25 Random States= 199\n"
     ]
    }
   ],
   "source": [
    "maxAcc=0\n",
    "maxRS=0\n",
    "for i in range(1,200):\n",
    "    x_train,x_test,y_train,y_test=train_test_split(x,y, test_size=.20, random_state=i)\n",
    "    dt.fit(x_train,y_train)\n",
    "    pred=dt.predict(x_test)\n",
    "    acc=round(accuracy_score(y_test,pred)*100,2)\n",
    "    print('Testing Score=',acc,'Random States=',i)\n",
    "    \n",
    "    if acc>maxAcc:\n",
    "        maxAcc=acc\n",
    "        maxRS=i\n",
    "        print('Max Accuracy Score=',maxAcc,'Max Random State=',i)"
   ]
  },
  {
   "cell_type": "code",
   "execution_count": 122,
   "id": "d30c497c",
   "metadata": {},
   "outputs": [],
   "source": [
    "# find the best Accuracy score & Randome state"
   ]
  },
  {
   "cell_type": "code",
   "execution_count": 123,
   "id": "9b3c1f39",
   "metadata": {},
   "outputs": [
    {
     "name": "stdout",
     "output_type": "stream",
     "text": [
      "Best Accuracy Score= 67.19 Best Random State= 135\n"
     ]
    }
   ],
   "source": [
    "print('Best Accuracy Score=',maxAcc,'Best Random State=',maxRS)"
   ]
  },
  {
   "cell_type": "code",
   "execution_count": 124,
   "id": "d540cbf9",
   "metadata": {},
   "outputs": [],
   "source": [
    "from sklearn.tree import DecisionTreeClassifier"
   ]
  },
  {
   "cell_type": "code",
   "execution_count": 125,
   "id": "4e8b8add",
   "metadata": {},
   "outputs": [],
   "source": [
    "dt=DecisionTreeClassifier()"
   ]
  },
  {
   "cell_type": "code",
   "execution_count": 168,
   "id": "f673da4a",
   "metadata": {},
   "outputs": [
    {
     "name": "stdout",
     "output_type": "stream",
     "text": [
      "0.571875\n",
      "              precision    recall  f1-score   support\n",
      "\n",
      "           3       0.00      0.00      0.00         2\n",
      "           4       0.00      0.00      0.00         7\n",
      "           5       0.69      0.77      0.73       144\n",
      "           6       0.45      0.61      0.52       118\n",
      "           7       0.00      0.00      0.00        45\n",
      "           8       0.00      0.00      0.00         4\n",
      "\n",
      "    accuracy                           0.57       320\n",
      "   macro avg       0.19      0.23      0.21       320\n",
      "weighted avg       0.48      0.57      0.52       320\n",
      "\n"
     ]
    }
   ],
   "source": [
    "x_train,x_test,y_train,y_test=train_test_split(x,y, test_size=.2, random_state=135)\n",
    "dt.fit(x_train,y_train)\n",
    "y_pred=dt.predict(x_test)\n",
    "print(accuracy_score(y_test,y_pred))\n",
    "print(classification_report(y_test,y_pred))"
   ]
  },
  {
   "cell_type": "code",
   "execution_count": 127,
   "id": "8040bc30",
   "metadata": {},
   "outputs": [],
   "source": [
    "# cross Validation"
   ]
  },
  {
   "cell_type": "code",
   "execution_count": 128,
   "id": "a8744035",
   "metadata": {},
   "outputs": [],
   "source": [
    "from sklearn.model_selection import cross_val_score"
   ]
  },
  {
   "cell_type": "code",
   "execution_count": 129,
   "id": "055fcf45",
   "metadata": {},
   "outputs": [],
   "source": [
    "dt_scr=cross_val_score(dt,x,y,cv=5)"
   ]
  },
  {
   "cell_type": "code",
   "execution_count": 130,
   "id": "466bf4ac",
   "metadata": {},
   "outputs": [
    {
     "name": "stdout",
     "output_type": "stream",
     "text": [
      "Cross Val score= 0.4658777429467085\n"
     ]
    }
   ],
   "source": [
    "print('Cross Val score=',  dt_scr.mean())"
   ]
  },
  {
   "cell_type": "code",
   "execution_count": 131,
   "id": "b761b3ae",
   "metadata": {},
   "outputs": [
    {
     "data": {
      "text/plain": [
       "array([0.46875   , 0.478125  , 0.475     , 0.503125  , 0.40438871])"
      ]
     },
     "execution_count": 131,
     "metadata": {},
     "output_type": "execute_result"
    }
   ],
   "source": [
    "dt_scr"
   ]
  },
  {
   "cell_type": "code",
   "execution_count": 132,
   "id": "299eeec5",
   "metadata": {},
   "outputs": [],
   "source": [
    "# obsevation of cross vaidation -  model is over fitting"
   ]
  },
  {
   "cell_type": "code",
   "execution_count": 133,
   "id": "71151f69",
   "metadata": {},
   "outputs": [
    {
     "name": "stdout",
     "output_type": "stream",
     "text": [
      "Requirement already satisfied: imblearn in c:\\users\\acer\\anaconda3\\lib\\site-packages (0.0)\n",
      "Requirement already satisfied: imbalanced-learn in c:\\users\\acer\\anaconda3\\lib\\site-packages (from imblearn) (0.9.1)\n",
      "Requirement already satisfied: threadpoolctl>=2.0.0 in c:\\users\\acer\\anaconda3\\lib\\site-packages (from imbalanced-learn->imblearn) (2.2.0)\n",
      "Requirement already satisfied: scikit-learn>=1.1.0 in c:\\users\\acer\\anaconda3\\lib\\site-packages (from imbalanced-learn->imblearn) (1.1.3)\n",
      "Requirement already satisfied: scipy>=1.3.2 in c:\\users\\acer\\anaconda3\\lib\\site-packages (from imbalanced-learn->imblearn) (1.7.3)\n",
      "Requirement already satisfied: numpy>=1.17.3 in c:\\users\\acer\\anaconda3\\lib\\site-packages (from imbalanced-learn->imblearn) (1.21.5)\n",
      "Requirement already satisfied: joblib>=1.0.0 in c:\\users\\acer\\anaconda3\\lib\\site-packages (from imbalanced-learn->imblearn) (1.1.0)\n"
     ]
    }
   ],
   "source": [
    "!pip install imblearn"
   ]
  },
  {
   "cell_type": "code",
   "execution_count": 134,
   "id": "225c52c3",
   "metadata": {},
   "outputs": [],
   "source": [
    "# Hyperparameter Tuning using for improvement of accuracy score"
   ]
  },
  {
   "cell_type": "code",
   "execution_count": 135,
   "id": "b22056f9",
   "metadata": {},
   "outputs": [],
   "source": [
    "from sklearn.model_selection import GridSearchCV"
   ]
  },
  {
   "cell_type": "code",
   "execution_count": 136,
   "id": "87104bf2",
   "metadata": {},
   "outputs": [],
   "source": [
    "param={'criterion':['gini','entropy'],\n",
    "       'max_depth':range(5,10),\n",
    "       'min_samples_leaf':range(2,10),\n",
    "       'min_samples_split':range(3,10),\n",
    "       'max_leaf_nodes':range(5,10)    \n",
    "                  }"
   ]
  },
  {
   "cell_type": "code",
   "execution_count": 137,
   "id": "26bbc030",
   "metadata": {},
   "outputs": [],
   "source": [
    "Gcv=GridSearchCV(estimator=dt,\n",
    "                 param_grid=param,\n",
    "                 cv=5)"
   ]
  },
  {
   "cell_type": "code",
   "execution_count": null,
   "id": "56a78b00",
   "metadata": {},
   "outputs": [],
   "source": []
  },
  {
   "cell_type": "code",
   "execution_count": 138,
   "id": "6ccd9012",
   "metadata": {},
   "outputs": [
    {
     "data": {
      "text/html": [
       "<style>#sk-container-id-1 {color: black;background-color: white;}#sk-container-id-1 pre{padding: 0;}#sk-container-id-1 div.sk-toggleable {background-color: white;}#sk-container-id-1 label.sk-toggleable__label {cursor: pointer;display: block;width: 100%;margin-bottom: 0;padding: 0.3em;box-sizing: border-box;text-align: center;}#sk-container-id-1 label.sk-toggleable__label-arrow:before {content: \"▸\";float: left;margin-right: 0.25em;color: #696969;}#sk-container-id-1 label.sk-toggleable__label-arrow:hover:before {color: black;}#sk-container-id-1 div.sk-estimator:hover label.sk-toggleable__label-arrow:before {color: black;}#sk-container-id-1 div.sk-toggleable__content {max-height: 0;max-width: 0;overflow: hidden;text-align: left;background-color: #f0f8ff;}#sk-container-id-1 div.sk-toggleable__content pre {margin: 0.2em;color: black;border-radius: 0.25em;background-color: #f0f8ff;}#sk-container-id-1 input.sk-toggleable__control:checked~div.sk-toggleable__content {max-height: 200px;max-width: 100%;overflow: auto;}#sk-container-id-1 input.sk-toggleable__control:checked~label.sk-toggleable__label-arrow:before {content: \"▾\";}#sk-container-id-1 div.sk-estimator input.sk-toggleable__control:checked~label.sk-toggleable__label {background-color: #d4ebff;}#sk-container-id-1 div.sk-label input.sk-toggleable__control:checked~label.sk-toggleable__label {background-color: #d4ebff;}#sk-container-id-1 input.sk-hidden--visually {border: 0;clip: rect(1px 1px 1px 1px);clip: rect(1px, 1px, 1px, 1px);height: 1px;margin: -1px;overflow: hidden;padding: 0;position: absolute;width: 1px;}#sk-container-id-1 div.sk-estimator {font-family: monospace;background-color: #f0f8ff;border: 1px dotted black;border-radius: 0.25em;box-sizing: border-box;margin-bottom: 0.5em;}#sk-container-id-1 div.sk-estimator:hover {background-color: #d4ebff;}#sk-container-id-1 div.sk-parallel-item::after {content: \"\";width: 100%;border-bottom: 1px solid gray;flex-grow: 1;}#sk-container-id-1 div.sk-label:hover label.sk-toggleable__label {background-color: #d4ebff;}#sk-container-id-1 div.sk-serial::before {content: \"\";position: absolute;border-left: 1px solid gray;box-sizing: border-box;top: 0;bottom: 0;left: 50%;z-index: 0;}#sk-container-id-1 div.sk-serial {display: flex;flex-direction: column;align-items: center;background-color: white;padding-right: 0.2em;padding-left: 0.2em;position: relative;}#sk-container-id-1 div.sk-item {position: relative;z-index: 1;}#sk-container-id-1 div.sk-parallel {display: flex;align-items: stretch;justify-content: center;background-color: white;position: relative;}#sk-container-id-1 div.sk-item::before, #sk-container-id-1 div.sk-parallel-item::before {content: \"\";position: absolute;border-left: 1px solid gray;box-sizing: border-box;top: 0;bottom: 0;left: 50%;z-index: -1;}#sk-container-id-1 div.sk-parallel-item {display: flex;flex-direction: column;z-index: 1;position: relative;background-color: white;}#sk-container-id-1 div.sk-parallel-item:first-child::after {align-self: flex-end;width: 50%;}#sk-container-id-1 div.sk-parallel-item:last-child::after {align-self: flex-start;width: 50%;}#sk-container-id-1 div.sk-parallel-item:only-child::after {width: 0;}#sk-container-id-1 div.sk-dashed-wrapped {border: 1px dashed gray;margin: 0 0.4em 0.5em 0.4em;box-sizing: border-box;padding-bottom: 0.4em;background-color: white;}#sk-container-id-1 div.sk-label label {font-family: monospace;font-weight: bold;display: inline-block;line-height: 1.2em;}#sk-container-id-1 div.sk-label-container {text-align: center;}#sk-container-id-1 div.sk-container {/* jupyter's `normalize.less` sets `[hidden] { display: none; }` but bootstrap.min.css set `[hidden] { display: none !important; }` so we also need the `!important` here to be able to override the default hidden behavior on the sphinx rendered scikit-learn.org. See: https://github.com/scikit-learn/scikit-learn/issues/21755 */display: inline-block !important;position: relative;}#sk-container-id-1 div.sk-text-repr-fallback {display: none;}</style><div id=\"sk-container-id-1\" class=\"sk-top-container\"><div class=\"sk-text-repr-fallback\"><pre>GridSearchCV(cv=5, estimator=DecisionTreeClassifier(),\n",
       "             param_grid={&#x27;criterion&#x27;: [&#x27;gini&#x27;, &#x27;entropy&#x27;],\n",
       "                         &#x27;max_depth&#x27;: range(5, 10),\n",
       "                         &#x27;max_leaf_nodes&#x27;: range(5, 10),\n",
       "                         &#x27;min_samples_leaf&#x27;: range(2, 10),\n",
       "                         &#x27;min_samples_split&#x27;: range(3, 10)})</pre><b>In a Jupyter environment, please rerun this cell to show the HTML representation or trust the notebook. <br />On GitHub, the HTML representation is unable to render, please try loading this page with nbviewer.org.</b></div><div class=\"sk-container\" hidden><div class=\"sk-item sk-dashed-wrapped\"><div class=\"sk-label-container\"><div class=\"sk-label sk-toggleable\"><input class=\"sk-toggleable__control sk-hidden--visually\" id=\"sk-estimator-id-1\" type=\"checkbox\" ><label for=\"sk-estimator-id-1\" class=\"sk-toggleable__label sk-toggleable__label-arrow\">GridSearchCV</label><div class=\"sk-toggleable__content\"><pre>GridSearchCV(cv=5, estimator=DecisionTreeClassifier(),\n",
       "             param_grid={&#x27;criterion&#x27;: [&#x27;gini&#x27;, &#x27;entropy&#x27;],\n",
       "                         &#x27;max_depth&#x27;: range(5, 10),\n",
       "                         &#x27;max_leaf_nodes&#x27;: range(5, 10),\n",
       "                         &#x27;min_samples_leaf&#x27;: range(2, 10),\n",
       "                         &#x27;min_samples_split&#x27;: range(3, 10)})</pre></div></div></div><div class=\"sk-parallel\"><div class=\"sk-parallel-item\"><div class=\"sk-item\"><div class=\"sk-label-container\"><div class=\"sk-label sk-toggleable\"><input class=\"sk-toggleable__control sk-hidden--visually\" id=\"sk-estimator-id-2\" type=\"checkbox\" ><label for=\"sk-estimator-id-2\" class=\"sk-toggleable__label sk-toggleable__label-arrow\">estimator: DecisionTreeClassifier</label><div class=\"sk-toggleable__content\"><pre>DecisionTreeClassifier()</pre></div></div></div><div class=\"sk-serial\"><div class=\"sk-item\"><div class=\"sk-estimator sk-toggleable\"><input class=\"sk-toggleable__control sk-hidden--visually\" id=\"sk-estimator-id-3\" type=\"checkbox\" ><label for=\"sk-estimator-id-3\" class=\"sk-toggleable__label sk-toggleable__label-arrow\">DecisionTreeClassifier</label><div class=\"sk-toggleable__content\"><pre>DecisionTreeClassifier()</pre></div></div></div></div></div></div></div></div></div></div>"
      ],
      "text/plain": [
       "GridSearchCV(cv=5, estimator=DecisionTreeClassifier(),\n",
       "             param_grid={'criterion': ['gini', 'entropy'],\n",
       "                         'max_depth': range(5, 10),\n",
       "                         'max_leaf_nodes': range(5, 10),\n",
       "                         'min_samples_leaf': range(2, 10),\n",
       "                         'min_samples_split': range(3, 10)})"
      ]
     },
     "execution_count": 138,
     "metadata": {},
     "output_type": "execute_result"
    }
   ],
   "source": [
    "Gcv.fit(x_train,y_train)"
   ]
  },
  {
   "cell_type": "code",
   "execution_count": 139,
   "id": "cc6e4b0d",
   "metadata": {},
   "outputs": [
    {
     "data": {
      "text/plain": [
       "{'criterion': 'gini',\n",
       " 'max_depth': 5,\n",
       " 'max_leaf_nodes': 9,\n",
       " 'min_samples_leaf': 2,\n",
       " 'min_samples_split': 3}"
      ]
     },
     "execution_count": 139,
     "metadata": {},
     "output_type": "execute_result"
    }
   ],
   "source": [
    "Gcv.best_params_"
   ]
  },
  {
   "cell_type": "code",
   "execution_count": 165,
   "id": "303c1f64",
   "metadata": {},
   "outputs": [],
   "source": [
    "dt=DecisionTreeClassifier(criterion='entropy', max_depth=5, max_leaf_nodes=9, min_samples_leaf=2, min_samples_split=3)"
   ]
  },
  {
   "cell_type": "code",
   "execution_count": 167,
   "id": "dfb71075",
   "metadata": {},
   "outputs": [
    {
     "name": "stdout",
     "output_type": "stream",
     "text": [
      "0.61875\n",
      "              precision    recall  f1-score   support\n",
      "\n",
      "           3       0.00      0.00      0.00         1\n",
      "           4       0.00      0.00      0.00         6\n",
      "           5       0.74      0.73      0.74       152\n",
      "           6       0.49      0.61      0.54       115\n",
      "           7       0.61      0.42      0.50        40\n",
      "           8       0.00      0.00      0.00         6\n",
      "\n",
      "    accuracy                           0.62       320\n",
      "   macro avg       0.31      0.29      0.30       320\n",
      "weighted avg       0.60      0.62      0.61       320\n",
      "\n"
     ]
    }
   ],
   "source": [
    "x_train,x_test,y_train,y_test=train_test_split(x,y, test_size=.20, random_state=)\n",
    "dt.fit(x_train,y_train)\n",
    "y_pred=dt.predict(x_test)\n",
    "print(accuracy_score(y_test,y_pred))\n",
    "print(classification_report(y_test,y_pred))"
   ]
  },
  {
   "cell_type": "code",
   "execution_count": 142,
   "id": "70a21c52",
   "metadata": {},
   "outputs": [],
   "source": [
    "# ROC Curve"
   ]
  },
  {
   "cell_type": "code",
   "execution_count": 143,
   "id": "2b3cfa68",
   "metadata": {},
   "outputs": [],
   "source": [
    "from sklearn.metrics import roc_auc_score,auc\n",
    "from sklearn.metrics import plot_roc_curve\n"
   ]
  },
  {
   "cell_type": "code",
   "execution_count": 144,
   "id": "3f80078e",
   "metadata": {},
   "outputs": [],
   "source": [
    "# plot_roc_curve(dt,x_test,y_test)\n",
    "# plt.show()"
   ]
  },
  {
   "cell_type": "code",
   "execution_count": 145,
   "id": "6925cf07",
   "metadata": {},
   "outputs": [],
   "source": [
    "# from sklearn.metrics import roc_curve,auc\n",
    "# fpr,tpr,threshold=roc_curve(y_pred)\n",
    "# roc_auc=auc(fpr,tpr)"
   ]
  },
  {
   "cell_type": "code",
   "execution_count": null,
   "id": "c4089f34",
   "metadata": {},
   "outputs": [],
   "source": []
  },
  {
   "cell_type": "code",
   "execution_count": 146,
   "id": "bdb350cd",
   "metadata": {},
   "outputs": [],
   "source": [
    "# fpr,tpr,threshold=roc_curve(y_pred,y_test)"
   ]
  },
  {
   "cell_type": "code",
   "execution_count": 147,
   "id": "51ac7e3d",
   "metadata": {},
   "outputs": [],
   "source": [
    "# Random Forest\n",
    "\n"
   ]
  },
  {
   "cell_type": "code",
   "execution_count": 148,
   "id": "70c7d0f1",
   "metadata": {},
   "outputs": [],
   "source": [
    "from sklearn.ensemble import RandomForestClassifier"
   ]
  },
  {
   "cell_type": "code",
   "execution_count": 149,
   "id": "0d6d4848",
   "metadata": {},
   "outputs": [],
   "source": [
    "rf=RandomForestClassifier()"
   ]
  },
  {
   "cell_type": "code",
   "execution_count": 150,
   "id": "4378bf32",
   "metadata": {},
   "outputs": [
    {
     "name": "stdout",
     "output_type": "stream",
     "text": [
      "testing score   0.696875 randome state    1\n",
      "Accuracy Score    0.696875 Random state   1\n",
      "testing score   0.640625 randome state    2\n",
      "testing score   0.7 randome state    3\n",
      "Accuracy Score    0.7 Random state   3\n",
      "testing score   0.728125 randome state    4\n",
      "Accuracy Score    0.728125 Random state   4\n",
      "testing score   0.75 randome state    5\n",
      "Accuracy Score    0.75 Random state   5\n",
      "testing score   0.675 randome state    6\n",
      "testing score   0.66875 randome state    7\n",
      "testing score   0.69375 randome state    8\n",
      "testing score   0.70625 randome state    9\n",
      "testing score   0.6625 randome state    10\n",
      "testing score   0.653125 randome state    11\n",
      "testing score   0.696875 randome state    12\n",
      "testing score   0.703125 randome state    13\n",
      "testing score   0.65 randome state    14\n",
      "testing score   0.653125 randome state    15\n",
      "testing score   0.709375 randome state    16\n",
      "testing score   0.71875 randome state    17\n",
      "testing score   0.7 randome state    18\n",
      "testing score   0.721875 randome state    19\n",
      "testing score   0.690625 randome state    20\n",
      "testing score   0.690625 randome state    21\n",
      "testing score   0.675 randome state    22\n",
      "testing score   0.653125 randome state    23\n",
      "testing score   0.628125 randome state    24\n",
      "testing score   0.721875 randome state    25\n",
      "testing score   0.703125 randome state    26\n",
      "testing score   0.684375 randome state    27\n",
      "testing score   0.671875 randome state    28\n",
      "testing score   0.6875 randome state    29\n",
      "testing score   0.69375 randome state    30\n",
      "testing score   0.715625 randome state    31\n",
      "testing score   0.6625 randome state    32\n",
      "testing score   0.696875 randome state    33\n",
      "testing score   0.675 randome state    34\n",
      "testing score   0.69375 randome state    35\n",
      "testing score   0.671875 randome state    36\n",
      "testing score   0.75 randome state    37\n",
      "testing score   0.725 randome state    38\n",
      "testing score   0.665625 randome state    39\n",
      "testing score   0.73125 randome state    40\n",
      "testing score   0.7 randome state    41\n",
      "testing score   0.671875 randome state    42\n",
      "testing score   0.71875 randome state    43\n",
      "testing score   0.65625 randome state    44\n",
      "testing score   0.703125 randome state    45\n",
      "testing score   0.69375 randome state    46\n",
      "testing score   0.70625 randome state    47\n",
      "testing score   0.703125 randome state    48\n",
      "testing score   0.68125 randome state    49\n",
      "testing score   0.721875 randome state    50\n",
      "testing score   0.69375 randome state    51\n",
      "testing score   0.659375 randome state    52\n",
      "testing score   0.696875 randome state    53\n",
      "testing score   0.678125 randome state    54\n",
      "testing score   0.7125 randome state    55\n",
      "testing score   0.684375 randome state    56\n",
      "testing score   0.6625 randome state    57\n",
      "testing score   0.625 randome state    58\n",
      "testing score   0.725 randome state    59\n",
      "testing score   0.678125 randome state    60\n",
      "testing score   0.69375 randome state    61\n",
      "testing score   0.715625 randome state    62\n",
      "testing score   0.725 randome state    63\n",
      "testing score   0.675 randome state    64\n",
      "testing score   0.684375 randome state    65\n",
      "testing score   0.66875 randome state    66\n",
      "testing score   0.74375 randome state    67\n",
      "testing score   0.65625 randome state    68\n",
      "testing score   0.6875 randome state    69\n",
      "testing score   0.6875 randome state    70\n",
      "testing score   0.696875 randome state    71\n",
      "testing score   0.675 randome state    72\n",
      "testing score   0.65625 randome state    73\n",
      "testing score   0.696875 randome state    74\n",
      "testing score   0.634375 randome state    75\n",
      "testing score   0.659375 randome state    76\n",
      "testing score   0.640625 randome state    77\n",
      "testing score   0.696875 randome state    78\n",
      "testing score   0.646875 randome state    79\n",
      "testing score   0.69375 randome state    80\n",
      "testing score   0.6375 randome state    81\n",
      "testing score   0.65 randome state    82\n",
      "testing score   0.690625 randome state    83\n",
      "testing score   0.68125 randome state    84\n",
      "testing score   0.671875 randome state    85\n",
      "testing score   0.73125 randome state    86\n",
      "testing score   0.678125 randome state    87\n",
      "testing score   0.690625 randome state    88\n",
      "testing score   0.709375 randome state    89\n",
      "testing score   0.678125 randome state    90\n",
      "testing score   0.665625 randome state    91\n",
      "testing score   0.721875 randome state    92\n",
      "testing score   0.715625 randome state    93\n",
      "testing score   0.675 randome state    94\n",
      "testing score   0.684375 randome state    95\n",
      "testing score   0.684375 randome state    96\n",
      "testing score   0.70625 randome state    97\n",
      "testing score   0.634375 randome state    98\n",
      "testing score   0.70625 randome state    99\n",
      "testing score   0.71875 randome state    100\n",
      "testing score   0.665625 randome state    101\n",
      "testing score   0.69375 randome state    102\n",
      "testing score   0.690625 randome state    103\n",
      "testing score   0.721875 randome state    104\n",
      "testing score   0.70625 randome state    105\n",
      "testing score   0.68125 randome state    106\n",
      "testing score   0.7 randome state    107\n",
      "testing score   0.69375 randome state    108\n",
      "testing score   0.69375 randome state    109\n",
      "testing score   0.7375 randome state    110\n",
      "testing score   0.70625 randome state    111\n",
      "testing score   0.740625 randome state    112\n",
      "testing score   0.671875 randome state    113\n",
      "testing score   0.646875 randome state    114\n",
      "testing score   0.69375 randome state    115\n",
      "testing score   0.6875 randome state    116\n",
      "testing score   0.69375 randome state    117\n",
      "testing score   0.70625 randome state    118\n",
      "testing score   0.675 randome state    119\n",
      "testing score   0.684375 randome state    120\n",
      "testing score   0.678125 randome state    121\n",
      "testing score   0.678125 randome state    122\n",
      "testing score   0.65625 randome state    123\n",
      "testing score   0.709375 randome state    124\n",
      "testing score   0.690625 randome state    125\n",
      "testing score   0.709375 randome state    126\n",
      "testing score   0.696875 randome state    127\n",
      "testing score   0.65625 randome state    128\n",
      "testing score   0.66875 randome state    129\n",
      "testing score   0.6875 randome state    130\n",
      "testing score   0.684375 randome state    131\n",
      "testing score   0.715625 randome state    132\n",
      "testing score   0.665625 randome state    133\n",
      "testing score   0.703125 randome state    134\n",
      "testing score   0.725 randome state    135\n",
      "testing score   0.6625 randome state    136\n",
      "testing score   0.721875 randome state    137\n",
      "testing score   0.703125 randome state    138\n",
      "testing score   0.7125 randome state    139\n",
      "testing score   0.671875 randome state    140\n",
      "testing score   0.703125 randome state    141\n",
      "testing score   0.715625 randome state    142\n",
      "testing score   0.675 randome state    143\n",
      "testing score   0.6375 randome state    144\n",
      "testing score   0.64375 randome state    145\n",
      "testing score   0.7125 randome state    146\n",
      "testing score   0.671875 randome state    147\n",
      "testing score   0.671875 randome state    148\n",
      "testing score   0.678125 randome state    149\n",
      "testing score   0.65 randome state    150\n",
      "testing score   0.709375 randome state    151\n",
      "testing score   0.721875 randome state    152\n",
      "testing score   0.615625 randome state    153\n",
      "testing score   0.721875 randome state    154\n",
      "testing score   0.659375 randome state    155\n",
      "testing score   0.696875 randome state    156\n",
      "testing score   0.675 randome state    157\n",
      "testing score   0.7125 randome state    158\n",
      "testing score   0.65625 randome state    159\n",
      "testing score   0.6625 randome state    160\n",
      "testing score   0.66875 randome state    161\n",
      "testing score   0.65625 randome state    162\n",
      "testing score   0.70625 randome state    163\n",
      "testing score   0.684375 randome state    164\n",
      "testing score   0.653125 randome state    165\n",
      "testing score   0.675 randome state    166\n",
      "testing score   0.659375 randome state    167\n",
      "testing score   0.675 randome state    168\n",
      "testing score   0.659375 randome state    169\n",
      "testing score   0.703125 randome state    170\n",
      "testing score   0.68125 randome state    171\n",
      "testing score   0.665625 randome state    172\n",
      "testing score   0.7125 randome state    173\n",
      "testing score   0.66875 randome state    174\n",
      "testing score   0.68125 randome state    175\n",
      "testing score   0.6875 randome state    176\n",
      "testing score   0.6875 randome state    177\n",
      "testing score   0.68125 randome state    178\n",
      "testing score   0.7125 randome state    179\n",
      "testing score   0.684375 randome state    180\n",
      "testing score   0.728125 randome state    181\n",
      "testing score   0.7 randome state    182\n",
      "testing score   0.6875 randome state    183\n",
      "testing score   0.66875 randome state    184\n",
      "testing score   0.70625 randome state    185\n",
      "testing score   0.684375 randome state    186\n",
      "testing score   0.68125 randome state    187\n",
      "testing score   0.740625 randome state    188\n",
      "testing score   0.684375 randome state    189\n",
      "testing score   0.653125 randome state    190\n",
      "testing score   0.64375 randome state    191\n",
      "testing score   0.634375 randome state    192\n",
      "testing score   0.6875 randome state    193\n",
      "testing score   0.665625 randome state    194\n",
      "testing score   0.675 randome state    195\n",
      "testing score   0.7 randome state    196\n",
      "testing score   0.678125 randome state    197\n",
      "testing score   0.690625 randome state    198\n",
      "testing score   0.659375 randome state    199\n"
     ]
    }
   ],
   "source": [
    "maxAcc_rf=0\n",
    "maxRS_rf=0\n",
    "for i in range(1,200):\n",
    "    x_train,x_test,y_train,y_test=train_test_split(x,y, test_size=.20, random_state=i)\n",
    "    rf.fit(x_train,y_train)\n",
    "    predrf=rf.predict(x_test)\n",
    "    acc=accuracy_score(y_test,predrf)\n",
    "    print('testing score  ', acc, 'randome state   ', i)\n",
    "    \n",
    "    if acc>maxAcc_rf:\n",
    "        maxAcc_rf=acc\n",
    "        maxRS_rf=i\n",
    "        print('Accuracy Score   ', maxAcc_rf, 'Random state  ', i)\n",
    "\n"
   ]
  },
  {
   "cell_type": "code",
   "execution_count": 151,
   "id": "46b4d0a5",
   "metadata": {},
   "outputs": [
    {
     "name": "stdout",
     "output_type": "stream",
     "text": [
      "accuracy Score   0.75 Random State   5\n"
     ]
    }
   ],
   "source": [
    "print('accuracy Score  ', maxAcc_rf, 'Random State  ', maxRS_rf)"
   ]
  },
  {
   "cell_type": "code",
   "execution_count": 164,
   "id": "77fb41b7",
   "metadata": {},
   "outputs": [
    {
     "name": "stdout",
     "output_type": "stream",
     "text": [
      "0.646875\n",
      "              precision    recall  f1-score   support\n",
      "\n",
      "           3       0.00      0.00      0.00         1\n",
      "           4       0.00      0.00      0.00         6\n",
      "           5       0.77      0.76      0.76       152\n",
      "           6       0.53      0.68      0.59       115\n",
      "           7       0.67      0.35      0.46        40\n",
      "           8       0.00      0.00      0.00         6\n",
      "\n",
      "    accuracy                           0.65       320\n",
      "   macro avg       0.33      0.30      0.30       320\n",
      "weighted avg       0.64      0.65      0.63       320\n",
      "\n"
     ]
    }
   ],
   "source": [
    "x_train,x_test,y_train,y_test=train_test_split(x,y, test_size=.2, random_state=5)\n",
    "rf.fit(x_train,y_train)\n",
    "predrf=dt.predict(x_test)\n",
    "print(accuracy_score(y_test,predrf))\n",
    "print(classification_report(y_test,predrf))"
   ]
  },
  {
   "cell_type": "code",
   "execution_count": 153,
   "id": "681df0d6",
   "metadata": {},
   "outputs": [],
   "source": [
    "# cross validation score"
   ]
  },
  {
   "cell_type": "code",
   "execution_count": 154,
   "id": "03ebe783",
   "metadata": {},
   "outputs": [],
   "source": [
    "from sklearn.model_selection import cross_val_score"
   ]
  },
  {
   "cell_type": "code",
   "execution_count": 155,
   "id": "1c991cd3",
   "metadata": {},
   "outputs": [],
   "source": [
    "cr_rf=cross_val_score(rf,x,y,cv=5)"
   ]
  },
  {
   "cell_type": "code",
   "execution_count": 156,
   "id": "c182d2a7",
   "metadata": {},
   "outputs": [
    {
     "data": {
      "text/plain": [
       "array([0.55      , 0.59375   , 0.603125  , 0.571875  , 0.56426332])"
      ]
     },
     "execution_count": 156,
     "metadata": {},
     "output_type": "execute_result"
    }
   ],
   "source": [
    "cr_rf"
   ]
  },
  {
   "cell_type": "code",
   "execution_count": 157,
   "id": "c688944c",
   "metadata": {},
   "outputs": [
    {
     "data": {
      "text/plain": [
       "0.5766026645768025"
      ]
     },
     "execution_count": 157,
     "metadata": {},
     "output_type": "execute_result"
    }
   ],
   "source": [
    "cr_rf.mean()"
   ]
  },
  {
   "cell_type": "code",
   "execution_count": 158,
   "id": "374984ca",
   "metadata": {},
   "outputs": [],
   "source": [
    "# Roc Curve for randome Forest"
   ]
  },
  {
   "cell_type": "code",
   "execution_count": 159,
   "id": "f9d723a9",
   "metadata": {},
   "outputs": [],
   "source": [
    "# plt.figure(figsize=(12,14))\n",
    "\n",
    "# plot_roc_curve(predrf,y_test)\n",
    "# plt.show()"
   ]
  },
  {
   "cell_type": "code",
   "execution_count": 160,
   "id": "e72d9233",
   "metadata": {},
   "outputs": [],
   "source": [
    "import six\n",
    "import joblib\n",
    "import sys"
   ]
  },
  {
   "cell_type": "code",
   "execution_count": 161,
   "id": "e4319f88",
   "metadata": {},
   "outputs": [],
   "source": [
    "sys.modules['sklearn.externals.six']=six"
   ]
  },
  {
   "cell_type": "code",
   "execution_count": 162,
   "id": "03a4ceae",
   "metadata": {},
   "outputs": [],
   "source": [
    "sys.modules['sklearn.externals.joblib']=joblib"
   ]
  },
  {
   "cell_type": "code",
   "execution_count": 163,
   "id": "68b088c1",
   "metadata": {},
   "outputs": [],
   "source": [
    "from imblearn.over_sampling import SMOTE"
   ]
  },
  {
   "cell_type": "code",
   "execution_count": 169,
   "id": "11e4303d",
   "metadata": {},
   "outputs": [],
   "source": [
    "over_sample=SMOTE(0.75)"
   ]
  },
  {
   "cell_type": "code",
   "execution_count": 176,
   "id": "41c1ad63",
   "metadata": {},
   "outputs": [],
   "source": [
    "# x_tran_ns,y_train_ns=over_sample.fit_resample(x_train,y_train)"
   ]
  },
  {
   "cell_type": "code",
   "execution_count": null,
   "id": "d880be85",
   "metadata": {},
   "outputs": [],
   "source": []
  },
  {
   "cell_type": "code",
   "execution_count": null,
   "id": "779dea2d",
   "metadata": {},
   "outputs": [],
   "source": []
  },
  {
   "cell_type": "code",
   "execution_count": null,
   "id": "af09b064",
   "metadata": {},
   "outputs": [],
   "source": []
  },
  {
   "cell_type": "code",
   "execution_count": null,
   "id": "a9d89f45",
   "metadata": {},
   "outputs": [],
   "source": []
  }
 ],
 "metadata": {
  "kernelspec": {
   "display_name": "Python 3 (ipykernel)",
   "language": "python",
   "name": "python3"
  },
  "language_info": {
   "codemirror_mode": {
    "name": "ipython",
    "version": 3
   },
   "file_extension": ".py",
   "mimetype": "text/x-python",
   "name": "python",
   "nbconvert_exporter": "python",
   "pygments_lexer": "ipython3",
   "version": "3.9.12"
  }
 },
 "nbformat": 4,
 "nbformat_minor": 5
}
